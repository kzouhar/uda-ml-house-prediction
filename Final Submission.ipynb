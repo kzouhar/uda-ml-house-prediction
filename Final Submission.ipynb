{
 "cells": [
  {
   "cell_type": "markdown",
   "metadata": {},
   "source": [
    "# Machine Learning Engineer Nanodegree\n",
    "# Capstone Proposal\n",
    "\n",
    "Khalil Zouhar, September 04, 2023\n",
    "\n",
    "\n",
    "## Proposal\n",
    "\n",
    "The project is a newly added Kaggle competition: Predict House sales prices.\n",
    "\n",
    "[Competition details available Here](https://www.kaggle.com/competitions/house-prices-advanced-regression-techniques/overview)\n",
    "\n",
    "### Domain Background\n",
    "\n",
    "House Price Prediction:\n",
    "\n",
    "An accurate prediction on the house price is important to prospective homeowners,\n",
    "developers, investors, appraisers, tax assessors and other real estate market stakeholders, such\n",
    "as, mortgage lenders and insurers. \n",
    "There is no standard certified way to assess the price of house. Therefore, the availability of a house price prediction model using machine learning can help fill up an\n",
    "important information gap and improve the efficiency of the real estate market \n",
    "\n",
    "While the house price data at hand refers the region of Ames, Iowa, the techniques used in price housing prediction like data preparation, feature engineering could be similar using data from different \n",
    "similar initiatives around the world. This is true since we are trying to solve similar problem in different part of the world.\n",
    "I attend to leverage feature engineering techniques mentioned in different research articles worldwide.\n",
    "House classification description may slightly change from one area but the human behavior to prefer 1 house over another one will be similar (ie: house size or neighbourhood will influence the price in similar ways worldwide )\n",
    "\n",
    "It is worthy to highlight that the scope  of this project is to develop a prediction tool to be used in the region of Ames, Iowa.\n",
    "The years it covers are from 2010 to 2016. Outside the house features, other attributes may affect the price of house like the economical condition, inflation..etc. \n",
    "Those attributes may change year over year, building a model that take into account those attributes is out of scope for this project.\n",
    "Using the same model to predict the house price in other areas or recent years (ie: 2023) may not lead to a good prediction without training the model with up-to-date data.\n",
    "\n",
    "To keep the model up to date a pipeline could be build that continuously retrain the model with current data for better prediction.\n",
    "I also can forecast that with proper data and proper transformation (may be using spark) and feature engineering the same piepline can digest housing data from different parts of the world and\n",
    "expose and api that can predict a House price worldwide. This is of course out of scope for this project.\n",
    "\n",
    "I intend to use the following articles and leverage proven techniques of feature engineering for better quality of the models.\n",
    "\n",
    "#### References:\n",
    "\n",
    "- [Housing Price Prediction via Improved Machine Learning Techniques] (https://www.sciencedirect.com/science/article/pii/S1877050920316318)\n",
    "- [House Price Prediction using a Machine Learning Model: A Survey of Literature] (https://www.researchgate.net/publication/347584803_House_Price_Prediction_using_a_Machine_Learning_Model_A_Survey_of_Literature)\n",
    "- [Prediction and Analysis of Housing Price Based on the Generalized Linear Regression Model] (https://www.ncbi.nlm.nih.gov/pmc/articles/PMC9536958/)\n",
    "\n",
    "### Problem Statement\n",
    "\n",
    "#### Stakeholders: \n",
    "prospective homeowners,\n",
    "developers, investors, appraisers, tax assessors and other real estate market stakeholders, such\n",
    "as, mortgage lenders and insurers would like to predict house price.\n",
    "\n",
    "#### Domain:\n",
    "Real State Business, Banking Business, Insurance Business\n",
    "\n",
    "#### Problem:\n",
    "How to efficiently predict a house price?. There is an information gap when it came to house prediction. The information gap can be filled with using \n",
    "Machine learning techniques, thus driving real eastate efficiency.\n",
    "\n",
    "### Datasets and Inputs\n",
    "\n",
    "The dataset has records of 1460 house sold between 2010 and 2016 in Ames, Iowa. Each data record captures a list of 79 house features (ie: size, location) and the correspinding sale price.\n",
    "House features are described in a separate file: data_description.txt\n",
    "\n",
    "The dataset were compiled by Dean De Cok and collect the house sales in the area of Ames, Iowa.\n",
    "\n",
    "The Data is available at: https://www.kaggle.com/competitions/house-prices-advanced-regression-techniques/data\n",
    "\n",
    "### Solution Statement\n",
    "\n",
    "The goal here is to build a system that can predict a price of a given house based on house features. \n",
    "The data we have is a tabular data and the first solution that came ot mind is to use Decision trees.\n",
    "\n",
    "Also, In this scenario, we are being asked to predict a numerical outcome. As result this is regression task.\n",
    "\n",
    "Therefor this problem can be approached with tree machine learning models: Decision tree, random forest and gradient boosting machines.\n",
    "\n",
    "I plan to use the decision tree as my baseline model then built on this experience to tune my candidate models.\n",
    "\n",
    "Decision trees are easy to train and can give an insight on how to tune the hyperparameters.\n",
    "\n",
    "For execution, I plan to use Jupyter Notebook in AWS environment.\n",
    "\n",
    "Also, the following libraries will be used to\n",
    "Pandas — For handling structured data\n",
    "Scikit Learn — For machine learning\n",
    "NumPy — For linear algebra and mathematics\n",
    "Seaborn — For data visualization\n",
    "\n",
    "In addition to the libraries, I plan also to use aws autogluon to help tune the hyperparameters.\n",
    "\n",
    "### Benchmark Model\n",
    "\n",
    "I will use the Kaggle leaderboard, in which the solutions are evaluated upon test data not made available to the competitors. In the leaderboard we can benchmark my results against solutions from other competitors.\n",
    "\n",
    "for more details see sections **Machine Learning Model Selection** and **Model Evaluation and Benchmarking** below\n",
    "\n",
    "### Evaluation Metrics\n",
    "\n",
    "The evaluation metric is already defined by the competition to be Root-Mean-Squared-Error (RMSE).\n",
    "\n",
    "The root-mean-square deviation (RMSD) or root-mean-square error (RMSE) is a frequently used measure of the differences between values (sample or population values) predicted by a model or an estimator and the values observed. The RMSD represents the square root of the second sample moment of the differences between predicted values and observed values or the quadratic mean of these differences.\n",
    "\n",
    "https://en.wikipedia.org/wiki/Root-mean-square_deviation\n",
    "\n",
    "for more details see sections **Machine Learning Model Selection** and **Model Evaluation and Benchmarking** below\n"
   ]
  },
  {
   "cell_type": "markdown",
   "metadata": {},
   "source": [
    "# Getting Started"
   ]
  },
  {
   "cell_type": "markdown",
   "metadata": {},
   "source": [
    "n this project, you will evaluate the performance and predictive power of a model that has been trained and tested on data collected from homes in suburbs of Ames, Iowa. A model trained on this data that is seen as a *good fit* could then be used to make certain predictions about a home — in particular, its monetary value. This model would prove to be invaluable for someone like a real estate agent who could make use of such information on a daily basis.\n",
    "\n",
    "The dataset for this project originates from the [Kaggle House Price Precition](https://www.kaggle.com/competitions/house-prices-advanced-regression-techniques/data). The dataset has records of 1460 house sold between 2010 and 2016 in Ames, Iowa. Each data record captures a list of 79 house features (ie: size, location) and the corresponding sale price.\n",
    "\n",
    "House features are described in a separate file: data_description.txt\n",
    "\n",
    "The dataset were compiled by Dean De Cok and collect the house sales in the area of Ames, Iowa.\n",
    "\n",
    "Run the following cell to load the data set:"
   ]
  },
  {
   "cell_type": "code",
   "execution_count": 1,
   "metadata": {
    "ExecuteTime": {
     "end_time": "2023-08-26T17:18:22.125040Z",
     "start_time": "2023-08-26T17:18:22.095136Z"
    },
    "collapsed": false,
    "jupyter": {
     "outputs_hidden": false
    },
    "tags": []
   },
   "outputs": [
    {
     "name": "stdout",
     "output_type": "stream",
     "text": [
      "Ames housing dataset has 1460 data points with 81 variables each.\n"
     ]
    }
   ],
   "source": [
    "import numpy as np\n",
    "import pandas as pd\n",
    "\n",
    "\n",
    "# read in test and train data\n",
    "\n",
    "train_df = pd.read_csv(\"./data/train.csv\")\n",
    "test_df = pd.read_csv(\"./data/test.csv\")\n",
    "print(\"Ames housing dataset has {} data points with {} variables each.\".format(*train_df.shape))\n",
    "\n"
   ]
  },
  {
   "cell_type": "markdown",
   "metadata": {},
   "source": [
    "Duplicates are removed"
   ]
  },
  {
   "cell_type": "code",
   "execution_count": 2,
   "metadata": {
    "ExecuteTime": {
     "end_time": "2023-08-26T18:11:16.282625Z",
     "start_time": "2023-08-26T18:11:16.267044Z"
    },
    "collapsed": false,
    "jupyter": {
     "outputs_hidden": false
    },
    "tags": []
   },
   "outputs": [
    {
     "name": "stdout",
     "output_type": "stream",
     "text": [
      "Test (1459, 80) Train (1460, 81)\n"
     ]
    }
   ],
   "source": [
    "train_df.duplicated(subset=None, keep=\"first\")\n",
    "test_df.duplicated(subset=None, keep=\"first\")\n",
    "print(\"Test\", test_df.shape, \"Train\", train_df.shape)\n"
   ]
  },
  {
   "cell_type": "markdown",
   "metadata": {},
   "source": [
    "# Data Exploration"
   ]
  },
  {
   "cell_type": "markdown",
   "metadata": {},
   "source": [
    "They are 81 features describing each sales transaction in Alem, IOWA. The first step in the process to analyze the features and get a first glimpse of which feature/data is relevant to the prediction. I decided to follow the 'divide to conquer' approach by grouping the features in different following categories that known to be the areas of interest when a customer is shopping for the dream house.\n",
    "\n",
    "I defined the following main categories:\n",
    "\n",
    "* Kitchen features:\n",
    "* Basement Features: \"BsmtQual\", \"BsmtCond\", \"BsmtExposure\", \"BsmtFinType1\", \"BsmtFinSF1\", \"BsmtFinType2\", \"BsmtFinSF2\", \"BsmtUnfSF\"and  \"TotalBsmtSF\"\n",
    "* Garage Features:\n",
    "\"GarageYrBlt\", \"GarageFinish\", \"GarageCars\", \"GarageArea\", \"GarageQual\", \"GarageCond\"\n",
    "* Porch Features: \"OpenPorchSF\", \"EnclosedPorch\", \"3SsnPorch\", \"ScreenPorch\"\n",
    "* External Features: Exterior1st, Exterior2nd, RoofMatl, RoofStyle, MasVnrArea, ExterQual, ExterCond, Foundation\n",
    "* Size features:\n",
    "* Quality Features: OverallQual, OverallCond\n",
    "* House Type Features: \"BldgType\", \"HouseStyle\"\n",
    "* House Location Features:"
   ]
  },
  {
   "cell_type": "markdown",
   "metadata": {},
   "source": [
    "I will then analyze each feature within each category and find opportunities:\n",
    "\n",
    "* To delete the feature if doesn't add a significant value in the house price prediction.\n",
    "* Transform numerical features to categorial features when they don't describe a magnitude.\n",
    "* Transform categorial features to ordinal features when they describe a magnitude (i.e.: Excellent, Very Good, Good...e).\n",
    "* Transform categorial feature to One Hot encoded feature when possible.\n",
    "* Suppress duplicated features or features that are strongly correlated with each other to avoid duplication and redundancy and supress features that has very low variance.\n"
   ]
  },
  {
   "cell_type": "code",
   "execution_count": 3,
   "metadata": {
    "ExecuteTime": {
     "end_time": "2023-08-26T17:32:33.724645Z",
     "start_time": "2023-08-26T17:32:33.721432Z"
    },
    "collapsed": false,
    "jupyter": {
     "outputs_hidden": false
    },
    "tags": []
   },
   "outputs": [
    {
     "name": "stdout",
     "output_type": "stream",
     "text": [
      "Statistics for Boston housing dataset:\n",
      "\n",
      "Minimum price: $34900\n",
      "Maximum price: $755000\n",
      "Mean price: $180921.19589041095\n",
      "Median price $163000.0\n",
      "Standard deviation of prices: $79442.50288288662\n"
     ]
    }
   ],
   "source": [
    "# TODO: Minimum price of the data\n",
    "minimum_price = train_df[\"SalePrice\"].min()\n",
    "\n",
    "# TODO: Maximum price of the data\n",
    "maximum_price = train_df[\"SalePrice\"].max()\n",
    "\n",
    "# TODO: Mean price of the data\n",
    "mean_price = train_df[\"SalePrice\"].mean()\n",
    "\n",
    "# TODO: Median price of the data\n",
    "median_price = train_df[\"SalePrice\"].median()\n",
    "\n",
    "# TODO: Standard deviation of prices of the data\n",
    "std_price = train_df[\"SalePrice\"].std()\n",
    "\n",
    "# Show the calculated statistics\n",
    "print(\"Statistics for Boston housing dataset:\\n\")\n",
    "print(\"Minimum price: ${}\".format(minimum_price))\n",
    "print(\"Maximum price: ${}\".format(maximum_price))\n",
    "print(\"Mean price: ${}\".format(mean_price))\n",
    "print(\"Median price ${}\".format(median_price))\n",
    "print(\"Standard deviation of prices: ${}\".format(std_price))"
   ]
  },
  {
   "cell_type": "markdown",
   "metadata": {},
   "source": [
    "## Feature Observation"
   ]
  },
  {
   "cell_type": "markdown",
   "metadata": {},
   "source": [
    "They are 81 features describing each sales transaction in Alem, IOWA. The first step in the process to analyze the features and get a first glimpse of which feature/data is relevant to the prediction. I decided to follow the 'divide to conquer' approach by grouping the features in different following categories that known to be the areas of interest when a customer is shopping for the dream house.\n",
    "\n",
    "I defined the following main categories:\n",
    "\n",
    "* Kitchen features:\n",
    "* Basement Features: \"BsmtQual\", \"BsmtCond\", \"BsmtExposure\", \"BsmtFinType1\", \"BsmtFinSF1\", \"BsmtFinType2\", \"BsmtFinSF2\", \"BsmtUnfSF\"and  \"TotalBsmtSF\"\n",
    "* Garage Features:\n",
    "\"GarageYrBlt\", \"GarageFinish\", \"GarageCars\", \"GarageArea\", \"GarageQual\", \"GarageCond\"\n",
    "* Porch Features: \"OpenPorchSF\", \"EnclosedPorch\", \"3SsnPorch\", \"ScreenPorch\"\n",
    "* External Features: Exterior1st, Exterior2nd, RoofMatl, RoofStyle, MasVnrArea, ExterQual, ExterCond, Foundation\n",
    "* Size features:\n",
    "* Quality Features: OverallQual, OverallCond\n",
    "* House Type Features: \"BldgType\", \"HouseStyle\"\n",
    "* House Location Features\n",
    "\n",
    "I will then analyze each feature within each category and find opportunities:\n",
    "\n",
    "* To delete the feature if doesn't add a significant value in the house price prediction.\n",
    "* Transform numerical features to categorial features when they don't describe a magnitude.\n",
    "* Transform categorial features to ordinal features when they describe a magnitude (i.e.: Excellent, Very Good, Good...e).\n",
    "* Transform categorial feature to One Hot encoded feature when possible.\n",
    "* Suppress duplicated features or features that are strongly correlated with each other to avoid duplication and redundancy and supress features that has very low variance.\n",
    "\n"
   ]
  },
  {
   "cell_type": "markdown",
   "metadata": {},
   "source": [
    "Let's examine the data type of each feature:"
   ]
  },
  {
   "cell_type": "code",
   "execution_count": 4,
   "metadata": {
    "ExecuteTime": {
     "end_time": "2023-08-26T18:06:07.907041Z",
     "start_time": "2023-08-26T18:06:07.888318Z"
    },
    "collapsed": false,
    "jupyter": {
     "outputs_hidden": false
    },
    "tags": []
   },
   "outputs": [
    {
     "name": "stdout",
     "output_type": "stream",
     "text": [
      "<class 'pandas.core.frame.DataFrame'>\n",
      "RangeIndex: 1460 entries, 0 to 1459\n",
      "Data columns (total 81 columns):\n",
      " #   Column         Non-Null Count  Dtype  \n",
      "---  ------         --------------  -----  \n",
      " 0   Id             1460 non-null   int64  \n",
      " 1   MSSubClass     1460 non-null   int64  \n",
      " 2   MSZoning       1460 non-null   object \n",
      " 3   LotFrontage    1201 non-null   float64\n",
      " 4   LotArea        1460 non-null   int64  \n",
      " 5   Street         1460 non-null   object \n",
      " 6   Alley          91 non-null     object \n",
      " 7   LotShape       1460 non-null   object \n",
      " 8   LandContour    1460 non-null   object \n",
      " 9   Utilities      1460 non-null   object \n",
      " 10  LotConfig      1460 non-null   object \n",
      " 11  LandSlope      1460 non-null   object \n",
      " 12  Neighborhood   1460 non-null   object \n",
      " 13  Condition1     1460 non-null   object \n",
      " 14  Condition2     1460 non-null   object \n",
      " 15  BldgType       1460 non-null   object \n",
      " 16  HouseStyle     1460 non-null   object \n",
      " 17  OverallQual    1460 non-null   int64  \n",
      " 18  OverallCond    1460 non-null   int64  \n",
      " 19  YearBuilt      1460 non-null   int64  \n",
      " 20  YearRemodAdd   1460 non-null   int64  \n",
      " 21  RoofStyle      1460 non-null   object \n",
      " 22  RoofMatl       1460 non-null   object \n",
      " 23  Exterior1st    1460 non-null   object \n",
      " 24  Exterior2nd    1460 non-null   object \n",
      " 25  MasVnrType     1452 non-null   object \n",
      " 26  MasVnrArea     1452 non-null   float64\n",
      " 27  ExterQual      1460 non-null   object \n",
      " 28  ExterCond      1460 non-null   object \n",
      " 29  Foundation     1460 non-null   object \n",
      " 30  BsmtQual       1423 non-null   object \n",
      " 31  BsmtCond       1423 non-null   object \n",
      " 32  BsmtExposure   1422 non-null   object \n",
      " 33  BsmtFinType1   1423 non-null   object \n",
      " 34  BsmtFinSF1     1460 non-null   int64  \n",
      " 35  BsmtFinType2   1422 non-null   object \n",
      " 36  BsmtFinSF2     1460 non-null   int64  \n",
      " 37  BsmtUnfSF      1460 non-null   int64  \n",
      " 38  TotalBsmtSF    1460 non-null   int64  \n",
      " 39  Heating        1460 non-null   object \n",
      " 40  HeatingQC      1460 non-null   object \n",
      " 41  CentralAir     1460 non-null   object \n",
      " 42  Electrical     1459 non-null   object \n",
      " 43  1stFlrSF       1460 non-null   int64  \n",
      " 44  2ndFlrSF       1460 non-null   int64  \n",
      " 45  LowQualFinSF   1460 non-null   int64  \n",
      " 46  GrLivArea      1460 non-null   int64  \n",
      " 47  BsmtFullBath   1460 non-null   int64  \n",
      " 48  BsmtHalfBath   1460 non-null   int64  \n",
      " 49  FullBath       1460 non-null   int64  \n",
      " 50  HalfBath       1460 non-null   int64  \n",
      " 51  BedroomAbvGr   1460 non-null   int64  \n",
      " 52  KitchenAbvGr   1460 non-null   int64  \n",
      " 53  KitchenQual    1460 non-null   object \n",
      " 54  TotRmsAbvGrd   1460 non-null   int64  \n",
      " 55  Functional     1460 non-null   object \n",
      " 56  Fireplaces     1460 non-null   int64  \n",
      " 57  FireplaceQu    770 non-null    object \n",
      " 58  GarageType     1379 non-null   object \n",
      " 59  GarageYrBlt    1379 non-null   float64\n",
      " 60  GarageFinish   1379 non-null   object \n",
      " 61  GarageCars     1460 non-null   int64  \n",
      " 62  GarageArea     1460 non-null   int64  \n",
      " 63  GarageQual     1379 non-null   object \n",
      " 64  GarageCond     1379 non-null   object \n",
      " 65  PavedDrive     1460 non-null   object \n",
      " 66  WoodDeckSF     1460 non-null   int64  \n",
      " 67  OpenPorchSF    1460 non-null   int64  \n",
      " 68  EnclosedPorch  1460 non-null   int64  \n",
      " 69  3SsnPorch      1460 non-null   int64  \n",
      " 70  ScreenPorch    1460 non-null   int64  \n",
      " 71  PoolArea       1460 non-null   int64  \n",
      " 72  PoolQC         7 non-null      object \n",
      " 73  Fence          281 non-null    object \n",
      " 74  MiscFeature    54 non-null     object \n",
      " 75  MiscVal        1460 non-null   int64  \n",
      " 76  MoSold         1460 non-null   int64  \n",
      " 77  YrSold         1460 non-null   int64  \n",
      " 78  SaleType       1460 non-null   object \n",
      " 79  SaleCondition  1460 non-null   object \n",
      " 80  SalePrice      1460 non-null   int64  \n",
      "dtypes: float64(3), int64(35), object(43)\n",
      "memory usage: 924.0+ KB\n"
     ]
    }
   ],
   "source": [
    "train_df.info()"
   ]
  },
  {
   "cell_type": "markdown",
   "metadata": {},
   "source": [
    "Now Let's categorize and analyze each feature"
   ]
  },
  {
   "cell_type": "code",
   "execution_count": 5,
   "metadata": {
    "ExecuteTime": {
     "end_time": "2023-08-26T18:08:11.432684Z",
     "start_time": "2023-08-26T18:08:11.357560Z"
    },
    "collapsed": false,
    "jupyter": {
     "outputs_hidden": false
    },
    "tags": []
   },
   "outputs": [
    {
     "name": "stdout",
     "output_type": "stream",
     "text": [
      "Test (1459, 80) Train (1460, 81)\n"
     ]
    }
   ],
   "source": [
    "train_df.duplicated(subset=None, keep=\"first\")\n",
    "test_df.duplicated(subset=None, keep=\"first\")\n",
    "print(\"Test\", test_df.shape, \"Train\", train_df.shape)"
   ]
  },
  {
   "cell_type": "markdown",
   "metadata": {
    "tags": []
   },
   "source": [
    "## Data Preprocessing\n",
    "\n",
    "\n",
    "### Categorical features marked as NA\n",
    "\n",
    "Some categorical features are marked as NA when the feature of the house is non-existant.\n",
    "All those should be identified and replaced with something more descriptive.\n",
    "Numerical categorical features that are marked as NA will be replaced with 0.\n",
    "\n",
    "### Categorical features reflecting a magnitude\n",
    "\n",
    "The following features denotes a magnitude (from excellent to poor) their type is categorical non-numerical. They will be replaced by numerical values from 0 to 5.\n",
    "The null values will be replaced with 0 where it reflects non-existence of the feature.\n",
    "\n",
    "ExterQual (External Quality), ExterCond(External Condition) ,\n",
    "BsmtQual (Basement Quality), BsmtCond (Basement Condition)\n",
    "BsmtExposure (Basement Exposure),\n",
    "BsmtFinType1 (Rating of basement finished area)\n",
    "BsmtFinType2 (Rating of basement finished area if multiple types)\n",
    "HeatingQC (Heating Quality)\n",
    "KitchenQual (Kitchen Quality)\n",
    "FireplaceQu (Fireplace Quality)\n",
    "GarageFinish (Interior finish of the garage)\n",
    "GarageQual (Garage Quality)\n",
    "PoolQC (Pool Quality)\n",
    "\n",
    "### One Hot encoding\n",
    "\n",
    "The feature “neighborhood” is considered to be a significant feature in the domain under study (real state). The type is non numeric.  Transforming this feature to boolean flag will help improve the precision of the model under construction. One hot encoding will be applied to transform the the feature to the following features where each feature can have value of 1 : the house is located in the neighborhood denoted in the feature name and 0: the house is not in the neighbourhood denoted by the feature name :\n",
    "\n",
    "Neighborhood_Blmngtn ->  “Neighborhood_Blmngtn\",  \"Neighborhood_Blueste\",  \"Neighborhood_BrDale\", “Neighborhood_BrkSide\",  \"Neighborhood_ClearCr\", \"Neighborhood_CollgCr\",\"Neighborhood_Crawfor\",  \"Neighborhood_Edwards\",  \"Neighborhood_Gilbert\",  \"Neighborhood_IDOTRR\", \"Neighborhood_MeadowV\",  \"Neighborhood_Mitchel\",  \"Neighborhood_NAmes\", \"Neighborhood_NPkVill\",  \"Neighborhood_NWAmes\", \"Neighborhood_NoRidge\", \"Neighborhood_NridgHt\",  \"Neighborhood_OldTown\",  \"Neighborhood_SWISU\", \"Neighborhood_Sawyer\", \"Neighborhood_SawyerW\",  \"Neighborhood_Somerst\",  \"Neighborhood_StoneBr\", \"Neighborhood_Timber\", \"Neighborhood_Veenker\",\n",
    "\n",
    "\n",
    "### Merging features:\n",
    "\n",
    "FullBath and HalfBath features will be merged to form a new future total_bathroom. Also, BsmtHalfBath and BsmtFullBath will be merged to for a new feature\n",
    "total_basement_bathroom.\n"
   ]
  },
  {
   "cell_type": "markdown",
   "metadata": {},
   "source": [
    "## Basement Features\n",
    "\n",
    "The following features are related to house basement. Do we need all the features ? Most probably no. In the following we will analyze each feature and keep only to one that contribute to the sales price prediction.\n",
    "\n",
    "First let's analyze the data type of each feature:\n"
   ]
  },
  {
   "cell_type": "code",
   "execution_count": 6,
   "metadata": {
    "ExecuteTime": {
     "end_time": "2023-08-26T18:15:38.263555Z",
     "start_time": "2023-08-26T18:15:38.253682Z"
    },
    "collapsed": false,
    "jupyter": {
     "outputs_hidden": false
    },
    "tags": []
   },
   "outputs": [
    {
     "name": "stdout",
     "output_type": "stream",
     "text": [
      "<class 'pandas.core.frame.DataFrame'>\n",
      "RangeIndex: 1460 entries, 0 to 1459\n",
      "Data columns (total 9 columns):\n",
      " #   Column        Non-Null Count  Dtype \n",
      "---  ------        --------------  ----- \n",
      " 0   BsmtQual      1423 non-null   object\n",
      " 1   BsmtCond      1423 non-null   object\n",
      " 2   BsmtExposure  1422 non-null   object\n",
      " 3   BsmtFinType1  1423 non-null   object\n",
      " 4   BsmtFinSF1    1460 non-null   int64 \n",
      " 5   BsmtFinType2  1422 non-null   object\n",
      " 6   BsmtFinSF2    1460 non-null   int64 \n",
      " 7   BsmtUnfSF     1460 non-null   int64 \n",
      " 8   TotalBsmtSF   1460 non-null   int64 \n",
      "dtypes: int64(4), object(5)\n",
      "memory usage: 102.8+ KB\n"
     ]
    }
   ],
   "source": [
    "basement_features = [\"BsmtQual\", \"BsmtCond\", \"BsmtExposure\", \"BsmtFinType1\", \"BsmtFinSF1\", \"BsmtFinType2\", \"BsmtFinSF2\", \"BsmtUnfSF\", \"TotalBsmtSF\"]\n",
    "\n",
    "train_df[basement_features].info()\n"
   ]
  },
  {
   "cell_type": "markdown",
   "metadata": {},
   "source": [
    "The feature BsmtQual, BsmtCond, BsmtExposure and BsmtFinType have non-numerical type. However, they all describe a magnitude. The following values will be transformed to numerical values:\n"
   ]
  },
  {
   "cell_type": "code",
   "execution_count": 7,
   "metadata": {
    "ExecuteTime": {
     "end_time": "2023-08-26T18:22:57.753008Z",
     "start_time": "2023-08-26T18:22:57.741109Z"
    },
    "collapsed": false,
    "jupyter": {
     "outputs_hidden": false
    },
    "tags": []
   },
   "outputs": [],
   "source": [
    "BsmtExposure = {\n",
    "    \"Gd\" : 4, # Good Exposure\n",
    "    \"Av\": 3,  # Average Exposure\n",
    "    \"Mn\": 2,  # Mimimum Exposure\n",
    "    \"No\": 1,  # No Exposure\n",
    "    \"NA\": 0   # No Basement\n",
    "}\n",
    "\n",
    "BsmtFinType1 = {\n",
    "    \"GLQ\": 6, # GLQ\tGood Living Quarters\n",
    "    \"ALQ\": 5, # LQ\tAverage Living Quarters\n",
    "    \"BLQ\": 4, # BLQ\tBelow Average Living Quarters\n",
    "    \"Rec\": 3, # Rec\tAverage Rec Room\n",
    "    \"LwQ\": 2, # LwQ\tLow Quality\n",
    "    \"Unf\": 1, # Unf\tUnfinshed\n",
    "    \"NA\": 0\n",
    "}\n",
    "\n",
    "BsmtFinType2 = {\n",
    "    \"GLQ\": 6, # GLQ\tGood Living Quarters\n",
    "    \"ALQ\": 5, # LQ\tAverage Living Quarters\n",
    "    \"BLQ\": 4, # BLQ\tBelow Average Living Quarters\n",
    "    \"Rec\": 3, # Rec\tAverage Rec Room\n",
    "    \"LwQ\": 2, # LwQ\tLow Quality\n",
    "    \"Unf\": 1, # Unf\tUnfinshed\n",
    "    \"NA\": 0\n",
    "}\n",
    "\n",
    "BsmtCond = {\n",
    "    \"Ex\": 5,    #Excellent\n",
    "    \"Gd\": 4,\t# Good\n",
    "    \"TA\": 3,\t# Typical - slight dampness allowed\n",
    "    \"Fa\": 2,\t# Fair - dampness or some cracking or settling\n",
    "    \"Po\": 1,    # Po\tPoor - Severe cracking, settling, or wetness\n",
    "    \"NA\": 0     # No Basement\n",
    "}\n",
    "\n",
    "BsmtQual = {\n",
    "    \"Ex\":\t5, # Excellent (100+ inches)\n",
    "    \"Gd\":\t4, # Good (90-99 inches)\n",
    "    \"TA\":\t3, # Typical (80-89 inches)\n",
    "    \"Fa\":\t2, # Fair (70-79 inches)\n",
    "    \"Po\":\t1, # Poor (<70 inches\n",
    "    \"NA\":\t0  # No basement\n",
    "}\n",
    "\n",
    "train_df.replace(\n",
    "    {\n",
    "        \"BsmtQual\": BsmtQual,\n",
    "        \"BsmtCond\": BsmtCond,\n",
    "        \"BsmtFinType1\": BsmtFinType1,\n",
    "        \"BsmtFinType2\": BsmtFinType2,\n",
    "        \"BsmtExposure\": BsmtExposure\n",
    "    },\n",
    "    inplace=True,\n",
    ")\n",
    "test_df.replace(\n",
    "    {\n",
    "        \"BsmtQual\": BsmtQual,\n",
    "        \"BsmtCond\": BsmtCond,\n",
    "        \"BsmtFinType1\": BsmtFinType1,\n",
    "        \"BsmtFinType2\": BsmtFinType2,\n",
    "        \"BsmtExposure\": BsmtExposure\n",
    "    },\n",
    "    inplace=True,\n",
    ")\n"
   ]
  },
  {
   "cell_type": "markdown",
   "metadata": {},
   "source": [
    "the following features have null values. We will need to replace the null values with the proper value as follows:\n",
    "    \n",
    "'BsmtUnfSF', 'TotalBsmtSF' : this relate to size. a null value mean no unfinished/finished space in basement or no basment available.\n",
    "\n",
    "total_basement_bathroom : this also relate to the size. A house without a basement or with unfinished basement or with finished basement without bathromm will have no bathrooms. I will also replace the null value with 0."
   ]
  },
  {
   "cell_type": "code",
   "execution_count": 8,
   "metadata": {
    "tags": []
   },
   "outputs": [],
   "source": [
    "train_df[\"BsmtExposure\"] = train_df[\"BsmtExposure\"].fillna(0)\n",
    "test_df[\"BsmtExposure\"] = test_df[\"BsmtExposure\"].fillna(0)\n",
    "train_df[\"BsmtQual\"] = train_df[\"BsmtQual\"].fillna(0)\n",
    "test_df[\"BsmtQual\"] = test_df[\"BsmtQual\"].fillna(0)\n",
    "train_df[\"BsmtFinType1\"] = train_df[\"BsmtFinType1\"].fillna(0)\n",
    "test_df[\"BsmtFinType1\"] = test_df[\"BsmtFinType1\"].fillna(0)\n",
    "train_df[\"BsmtUnfSF\"] = train_df[\"BsmtUnfSF\"].fillna(0)\n",
    "test_df[\"BsmtUnfSF\"] = test_df[\"BsmtUnfSF\"].fillna(0)\n",
    "train_df[\"TotalBsmtSF\"] = train_df[\"TotalBsmtSF\"].fillna(0)\n",
    "test_df[\"TotalBsmtSF\"] = test_df[\"TotalBsmtSF\"].fillna(0)\n",
    "train_df[\"KitchenQual\"] = train_df[\"KitchenQual\"].fillna(0)\n",
    "test_df[\"KitchenQual\"] = test_df[\"KitchenQual\"].fillna(0)\n"
   ]
  },
  {
   "cell_type": "markdown",
   "metadata": {},
   "source": [
    "The following graphs shows the correlation between each basement feature pair. The purpose here is to eliminate the duplicated feature or features that can be eliminated without impacting the prediction model."
   ]
  },
  {
   "cell_type": "code",
   "execution_count": 9,
   "metadata": {
    "ExecuteTime": {
     "end_time": "2023-08-26T18:25:42.457320Z",
     "start_time": "2023-08-26T18:25:42.117796Z"
    },
    "collapsed": false,
    "jupyter": {
     "outputs_hidden": false
    },
    "tags": []
   },
   "outputs": [
    {
     "data": {
      "text/html": [
       "<div>\n",
       "<style scoped>\n",
       "    .dataframe tbody tr th:only-of-type {\n",
       "        vertical-align: middle;\n",
       "    }\n",
       "\n",
       "    .dataframe tbody tr th {\n",
       "        vertical-align: top;\n",
       "    }\n",
       "\n",
       "    .dataframe thead th {\n",
       "        text-align: right;\n",
       "    }\n",
       "</style>\n",
       "<table border=\"1\" class=\"dataframe\">\n",
       "  <thead>\n",
       "    <tr style=\"text-align: right;\">\n",
       "      <th></th>\n",
       "      <th>BsmtQual</th>\n",
       "      <th>BsmtCond</th>\n",
       "      <th>BsmtExposure</th>\n",
       "      <th>BsmtFinType1</th>\n",
       "      <th>BsmtFinSF1</th>\n",
       "      <th>BsmtFinType2</th>\n",
       "      <th>BsmtFinSF2</th>\n",
       "      <th>BsmtUnfSF</th>\n",
       "      <th>TotalBsmtSF</th>\n",
       "    </tr>\n",
       "  </thead>\n",
       "  <tbody>\n",
       "    <tr>\n",
       "      <th>0</th>\n",
       "      <td>4.0</td>\n",
       "      <td>3.0</td>\n",
       "      <td>1.0</td>\n",
       "      <td>6.0</td>\n",
       "      <td>706</td>\n",
       "      <td>1.0</td>\n",
       "      <td>0</td>\n",
       "      <td>150</td>\n",
       "      <td>856</td>\n",
       "    </tr>\n",
       "    <tr>\n",
       "      <th>1</th>\n",
       "      <td>4.0</td>\n",
       "      <td>3.0</td>\n",
       "      <td>4.0</td>\n",
       "      <td>5.0</td>\n",
       "      <td>978</td>\n",
       "      <td>1.0</td>\n",
       "      <td>0</td>\n",
       "      <td>284</td>\n",
       "      <td>1262</td>\n",
       "    </tr>\n",
       "    <tr>\n",
       "      <th>2</th>\n",
       "      <td>4.0</td>\n",
       "      <td>3.0</td>\n",
       "      <td>2.0</td>\n",
       "      <td>6.0</td>\n",
       "      <td>486</td>\n",
       "      <td>1.0</td>\n",
       "      <td>0</td>\n",
       "      <td>434</td>\n",
       "      <td>920</td>\n",
       "    </tr>\n",
       "    <tr>\n",
       "      <th>3</th>\n",
       "      <td>3.0</td>\n",
       "      <td>4.0</td>\n",
       "      <td>1.0</td>\n",
       "      <td>5.0</td>\n",
       "      <td>216</td>\n",
       "      <td>1.0</td>\n",
       "      <td>0</td>\n",
       "      <td>540</td>\n",
       "      <td>756</td>\n",
       "    </tr>\n",
       "    <tr>\n",
       "      <th>4</th>\n",
       "      <td>4.0</td>\n",
       "      <td>3.0</td>\n",
       "      <td>3.0</td>\n",
       "      <td>6.0</td>\n",
       "      <td>655</td>\n",
       "      <td>1.0</td>\n",
       "      <td>0</td>\n",
       "      <td>490</td>\n",
       "      <td>1145</td>\n",
       "    </tr>\n",
       "  </tbody>\n",
       "</table>\n",
       "</div>"
      ],
      "text/plain": [
       "   BsmtQual  BsmtCond  BsmtExposure  BsmtFinType1  BsmtFinSF1  BsmtFinType2  \\\n",
       "0       4.0       3.0           1.0           6.0         706           1.0   \n",
       "1       4.0       3.0           4.0           5.0         978           1.0   \n",
       "2       4.0       3.0           2.0           6.0         486           1.0   \n",
       "3       3.0       4.0           1.0           5.0         216           1.0   \n",
       "4       4.0       3.0           3.0           6.0         655           1.0   \n",
       "\n",
       "   BsmtFinSF2  BsmtUnfSF  TotalBsmtSF  \n",
       "0           0        150          856  \n",
       "1           0        284         1262  \n",
       "2           0        434          920  \n",
       "3           0        540          756  \n",
       "4           0        490         1145  "
      ]
     },
     "execution_count": 9,
     "metadata": {},
     "output_type": "execute_result"
    },
    {
     "data": {
      "image/png": "[encoded data removed]",
      "text/plain": [
       "<Figure size 2000x2000 with 2 Axes>"
      ]
     },
     "metadata": {},
     "output_type": "display_data"
    }
   ],
   "source": [
    "import matplotlib.pyplot as plt\n",
    "import seaborn as sns\n",
    "\n",
    "basement_features_df = train_df[basement_features]\n",
    "\n",
    "plt.figure(figsize=(20, 20))\n",
    "sns.heatmap(basement_features_df.corr())\n",
    "basement_features_df.head()"
   ]
  },
  {
   "cell_type": "markdown",
   "metadata": {},
   "source": [
    "From the graph above we notice there is strong correlation between basement size and basement type (BsmtFinSF1 and BsmtFinType1 and also between BsmtFinSF2 and BsmtFinType2). As result, We can safely discard BsmtFinSF1 and BsmtFinSF2 features."
   ]
  },
  {
   "cell_type": "code",
   "execution_count": 10,
   "metadata": {
    "ExecuteTime": {
     "end_time": "2023-08-26T18:30:47.277746Z",
     "start_time": "2023-08-26T18:30:47.254611Z"
    },
    "collapsed": false,
    "jupyter": {
     "outputs_hidden": false
    },
    "tags": []
   },
   "outputs": [],
   "source": [
    "train_df = train_df.drop(\"BsmtFinSF1\", axis = 1)\n",
    "train_df = train_df.drop(\"BsmtFinSF2\", axis = 1)\n",
    "test_df = test_df.drop(\"BsmtFinSF1\", axis = 1)\n",
    "test_df = test_df.drop(\"BsmtFinSF2\", axis = 1)\n"
   ]
  },
  {
   "cell_type": "code",
   "execution_count": 11,
   "metadata": {
    "ExecuteTime": {
     "end_time": "2023-08-26T18:31:29.232151Z",
     "start_time": "2023-08-26T18:31:28.390730Z"
    },
    "collapsed": false,
    "jupyter": {
     "outputs_hidden": false
    },
    "tags": []
   },
   "outputs": [
    {
     "data": {
      "image/png": "[encoded data removed]",
      "text/plain": [
       "<Figure size 1600x2000 with 9 Axes>"
      ]
     },
     "metadata": {},
     "output_type": "display_data"
    }
   ],
   "source": [
    "basement_features = [\"BsmtQual\", \"BsmtCond\", \"BsmtExposure\", \"BsmtFinType1\", \"BsmtFinType2\", \"BsmtUnfSF\", \"TotalBsmtSF\"]\n",
    "basement_features_df = train_df[basement_features]\n",
    "basement_features_df.hist(figsize=(16, 20), bins=50, xlabelsize=8, ylabelsize=8);\n"
   ]
  },
  {
   "cell_type": "markdown",
   "metadata": {},
   "source": [
    "From the graphs above we notice that both BsmtFinType2 and BsmtCond reflect concentration on 1 value, respectively 3 for BsmCond (most basement have average condition) and 1 for BsmtFinType2 (most basement are Unfinished). Both features will be discarded as they don't add value to the Sales Price prediction."
   ]
  },
  {
   "cell_type": "code",
   "execution_count": 12,
   "metadata": {
    "ExecuteTime": {
     "end_time": "2023-08-26T18:33:07.751821Z",
     "start_time": "2023-08-26T18:33:07.746797Z"
    },
    "collapsed": false,
    "jupyter": {
     "outputs_hidden": false
    },
    "tags": []
   },
   "outputs": [],
   "source": [
    "train_df = train_df.drop(\"BsmtFinType2\", axis = 1)\n",
    "train_df = train_df.drop(\"BsmtCond\", axis = 1)\n",
    "test_df = test_df.drop(\"BsmtFinType2\", axis = 1)\n",
    "test_df = test_df.drop(\"BsmtCond\", axis = 1)"
   ]
  },
  {
   "cell_type": "markdown",
   "metadata": {},
   "source": [
    "## Porch Features"
   ]
  },
  {
   "cell_type": "code",
   "execution_count": 13,
   "metadata": {
    "ExecuteTime": {
     "end_time": "2023-08-26T18:38:08.887926Z",
     "start_time": "2023-08-26T18:38:08.816327Z"
    },
    "collapsed": false,
    "jupyter": {
     "outputs_hidden": false
    },
    "tags": []
   },
   "outputs": [],
   "source": [
    "porch_features = [\"OpenPorchSF\", \"EnclosedPorch\", \"3SsnPorch\", \"ScreenPorch\"]\n",
    "porch_features_df = train_df[porch_features]"
   ]
  },
  {
   "cell_type": "code",
   "execution_count": 14,
   "metadata": {
    "ExecuteTime": {
     "end_time": "2023-08-26T18:38:26.182244Z",
     "start_time": "2023-08-26T18:38:25.666068Z"
    },
    "collapsed": false,
    "jupyter": {
     "outputs_hidden": false
    },
    "tags": []
   },
   "outputs": [
    {
     "data": {
      "image/png": "[encoded data removed]",
      "text/plain": [
       "<Figure size 1600x2000 with 4 Axes>"
      ]
     },
     "metadata": {},
     "output_type": "display_data"
    }
   ],
   "source": [
    "porch_features_df.hist(figsize=(16, 20), bins=50, xlabelsize=8, ylabelsize=8);\n"
   ]
  },
  {
   "cell_type": "markdown",
   "metadata": {},
   "source": [
    "From the graphs below it is abvious that the majority of the sold houses don't have 3 seasons, screen and enclosed orch areas. Teh following features can be discarded : 3SsnPorch, ScreePorch and EnclosedPorch."
   ]
  },
  {
   "cell_type": "code",
   "execution_count": 15,
   "metadata": {
    "ExecuteTime": {
     "end_time": "2023-08-26T18:38:56.314681Z",
     "start_time": "2023-08-26T18:38:56.291378Z"
    },
    "collapsed": false,
    "jupyter": {
     "outputs_hidden": false
    },
    "tags": []
   },
   "outputs": [],
   "source": [
    "train_df = train_df.drop(\"ScreenPorch\", axis = 1)\n",
    "train_df = train_df.drop(\"EnclosedPorch\", axis = 1)\n",
    "train_df = train_df.drop(\"3SsnPorch\", axis = 1)\n",
    "test_df = test_df.drop(\"ScreenPorch\", axis = 1)\n",
    "test_df = test_df.drop(\"EnclosedPorch\", axis = 1)\n",
    "test_df = test_df.drop(\"3SsnPorch\", axis = 1)"
   ]
  },
  {
   "cell_type": "markdown",
   "metadata": {},
   "source": [
    "## House External Features"
   ]
  },
  {
   "cell_type": "markdown",
   "metadata": {},
   "source": [
    "External Quality and External Condition features are converted to numerical values as they reflect a magnitude."
   ]
  },
  {
   "cell_type": "code",
   "execution_count": 16,
   "metadata": {
    "ExecuteTime": {
     "end_time": "2023-08-26T18:40:48.957682Z",
     "start_time": "2023-08-26T18:40:48.943155Z"
    },
    "collapsed": false,
    "jupyter": {
     "outputs_hidden": false
    },
    "tags": []
   },
   "outputs": [],
   "source": [
    "ExterQual = {\n",
    "    \"Ex\":\t5, # Excellent (100+ inches)\n",
    "    \"Gd\":\t4, # Good (90-99 inches)\n",
    "    \"TA\":\t3, # Typical (80-89 inches)\n",
    "    \"Fa\":\t2, # Fair (70-79 inches)\n",
    "    \"Po\":\t1, # Poor (<70 inches\n",
    "    \"NA\":\t0  # No basement\n",
    "}\n",
    "\n",
    "ExterCond = {\n",
    "    \"Ex\":\t5, # Excellent (100+ inches)\n",
    "    \"Gd\":\t4, # Good (90-99 inches)\n",
    "    \"TA\":\t3, # Typical (80-89 inches)\n",
    "    \"Fa\":\t2, # Fair (70-79 inches)\n",
    "    \"Po\":\t1, # Poor (<70 inches\n",
    "    \"NA\":\t0  # No basement\n",
    "}\n",
    "\n",
    "train_df.replace(\n",
    "    {\n",
    "        \"ExterCond\": ExterCond,\n",
    "        \"ExterQual\": ExterQual\n",
    "    },\n",
    "    inplace=True,\n",
    ")\n",
    "test_df.replace(\n",
    "    {\n",
    "        \"ExterCond\": ExterCond,\n",
    "        \"ExterQual\": ExterQual\n",
    "    },\n",
    "    inplace=True,\n",
    ")"
   ]
  },
  {
   "cell_type": "code",
   "execution_count": 17,
   "metadata": {
    "ExecuteTime": {
     "end_time": "2023-08-26T18:41:40.380320Z",
     "start_time": "2023-08-26T18:41:40.237248Z"
    },
    "collapsed": false,
    "jupyter": {
     "outputs_hidden": false
    },
    "tags": []
   },
   "outputs": [
    {
     "data": {
      "image/png": "[encoded data removed]",
      "text/plain": [
       "<Figure size 640x480 with 1 Axes>"
      ]
     },
     "metadata": {},
     "output_type": "display_data"
    }
   ],
   "source": [
    "sns.boxplot(x=train_df['ExterCond'], y=train_df['SalePrice'])\n",
    "plt.xlabel('External House Condition')\n",
    "plt.ylabel('Sale Price')\n",
    "plt.title('Box Plot of Sale Price by External Condition')\n",
    "plt.show()"
   ]
  },
  {
   "cell_type": "code",
   "execution_count": 18,
   "metadata": {
    "ExecuteTime": {
     "end_time": "2023-08-26T18:42:11.319988Z",
     "start_time": "2023-08-26T18:42:11.184455Z"
    },
    "collapsed": false,
    "jupyter": {
     "outputs_hidden": false
    },
    "tags": []
   },
   "outputs": [
    {
     "data": {
      "image/png": "[encoded data removed]",
      "text/plain": [
       "<Figure size 640x480 with 1 Axes>"
      ]
     },
     "metadata": {},
     "output_type": "display_data"
    }
   ],
   "source": [
    "sns.boxplot(x=train_df['ExterQual'], y=train_df['SalePrice'])\n",
    "plt.xlabel('External House Quality')\n",
    "plt.ylabel('Sale Price')\n",
    "plt.title('Box Plot of Sale Price by House External Quality')\n",
    "plt.show()"
   ]
  },
  {
   "cell_type": "markdown",
   "metadata": {},
   "source": [
    "The graphs above clearly show that House Sale Price increase when external house condition or quality increase."
   ]
  },
  {
   "cell_type": "markdown",
   "metadata": {},
   "source": [
    "Most sold houses have Standard (Composite) Shingle roof. We can safely discard the feature: RoofMatl\n",
    "\n",
    "ClyTile (Clay or Tile)\n",
    "CompShg (Standard (Composite) Shingle): 1434\n",
    "Membran\t(Membrane) : 1\n",
    "Metal (Metal) : 1\n",
    "Roll (Roll) : 1\n",
    "Tar&Grv\t(Gravel & Tar) : 11\n",
    "WdShake\t(Wood Shakes) : 5\n",
    "WdShngl\t(Wood Shingles) : 6"
   ]
  },
  {
   "cell_type": "code",
   "execution_count": 19,
   "metadata": {
    "ExecuteTime": {
     "end_time": "2023-08-26T18:44:57.392624Z",
     "start_time": "2023-08-26T18:44:57.380939Z"
    },
    "collapsed": false,
    "jupyter": {
     "outputs_hidden": false
    },
    "tags": []
   },
   "outputs": [],
   "source": [
    "train_df = train_df.drop(\"RoofMatl\", axis = 1)\n",
    "test_df = test_df.drop(\"RoofMatl\", axis = 1)"
   ]
  },
  {
   "cell_type": "markdown",
   "metadata": {},
   "source": [
    "We could use one hot encoding for the remaining exterior categorial features but this will lead to multiplication additional features without the guarantee that it adds value in the sales prediction algorithm. I decided to only keep the numerical features External Quality and External Condition since based on the graph above the correlate well with the Sales Price.\n"
   ]
  },
  {
   "cell_type": "code",
   "execution_count": 20,
   "metadata": {
    "ExecuteTime": {
     "end_time": "2023-08-26T18:49:15.930274Z",
     "start_time": "2023-08-26T18:49:15.890092Z"
    },
    "collapsed": false,
    "jupyter": {
     "outputs_hidden": false
    },
    "tags": []
   },
   "outputs": [],
   "source": [
    "train_df = train_df.drop(\"Exterior1st\", axis = 1)\n",
    "test_df = test_df.drop(\"Exterior1st\", axis = 1)\n",
    "train_df = train_df.drop(\"Exterior2nd\", axis = 1)\n",
    "test_df = test_df.drop(\"Exterior2nd\", axis = 1)\n",
    "train_df = train_df.drop(\"MasVnrArea\", axis = 1)\n",
    "test_df = test_df.drop(\"MasVnrArea\", axis = 1)\n",
    "train_df = train_df.drop(\"Foundation\", axis = 1)\n",
    "test_df = test_df.drop(\"Foundation\", axis = 1)\n"
   ]
  },
  {
   "cell_type": "markdown",
   "metadata": {},
   "source": [
    "## Lot Shape and Size Features"
   ]
  },
  {
   "cell_type": "code",
   "execution_count": 21,
   "metadata": {
    "ExecuteTime": {
     "end_time": "2023-08-26T18:56:37.879820Z",
     "start_time": "2023-08-26T18:56:37.863444Z"
    },
    "collapsed": false,
    "jupyter": {
     "outputs_hidden": false
    },
    "tags": []
   },
   "outputs": [],
   "source": [
    "location_features = [\"LotFrontage\", \"LandSlope\", \"LotArea\", \"LotShape\", \"LandContour\", \"LotConfig\", ]"
   ]
  },
  {
   "cell_type": "markdown",
   "metadata": {},
   "source": [
    "LandSlope, LotSlope and LandContour are categorial fetaures that can be easily replaced with numerical categories as the denote a magnitude"
   ]
  },
  {
   "cell_type": "code",
   "execution_count": 22,
   "metadata": {
    "ExecuteTime": {
     "end_time": "2023-08-26T18:56:38.725832Z",
     "start_time": "2023-08-26T18:56:38.723022Z"
    },
    "collapsed": false,
    "jupyter": {
     "outputs_hidden": false
    },
    "tags": []
   },
   "outputs": [],
   "source": [
    "LandSlope = {\n",
    "    \"Gtl\" : 1, # Gentle Slope\n",
    "    \"Mod\" : 2, # Moderate Moderate\n",
    "    \"Sev\" : 3  # Severe Slope\n",
    "}\n",
    "\n",
    "LotShape = {\n",
    "    \"Reg\" :\t1, # Regular Shape\n",
    "    \"IR1\" : 2, # Slightly Irregular Shape\n",
    "    \"IR2\" : 3, # Moderately Irregular Shape\n",
    "    \"IR3\" :\t4  # Irregular\n",
    "}\n",
    "\n",
    "LandContour = {\n",
    "    \"Lvl\" : 1,  # Near Flat/Level\n",
    "    \"Bnk\" :\t2,  # Banked - Quick and significant rise from street grade to building\n",
    "    \"HLS\" : 3,  # Hillside - Significant slope from side to side\n",
    "    \"Low\": 4\t# Depression\n",
    "}\n",
    "\n",
    "LotConfig =  { #Lot configuration\n",
    "    \"Inside\"\t: 1, # Inside lot\n",
    "    \"Corner\"\t: 2, # Corner lot\n",
    "    \"CulDSac\"\t: 3, #Cul-de-sac\n",
    "    \"FR2\"\t: 4,  #Frontage on 2 sides of property\n",
    "    \"FR3\"\t: 5,  #Frontage on 3 sides of property\n",
    "}\n",
    "\n",
    "train_df.replace(\n",
    "    {\n",
    "        \"LandSlope\": LandSlope,\n",
    "        \"LotShape\": LotShape,\n",
    "        \"LandContour\": LandContour,\n",
    "        \"LotConfig\": LotConfig,\n",
    "    },\n",
    "    inplace=True,\n",
    ")\n",
    "\n",
    "test_df.replace(\n",
    "    {\n",
    "        \"LandSlope\": LandSlope,\n",
    "        \"LotShape\": LotShape,\n",
    "        \"LandContour\": LandContour,\n",
    "        \"LotConfig\": LotConfig,\n",
    "\n",
    "    },\n",
    "    inplace=True,\n",
    ")"
   ]
  },
  {
   "cell_type": "markdown",
   "metadata": {},
   "source": [
    "LotSlop and LandContour features both describe inclinaison of the lot and land on which the house is built. The\n",
    "correlation graph confirms a corelation of close to 0.7. We can safely discard LandContour in favour of LotSlop feature."
   ]
  },
  {
   "cell_type": "code",
   "execution_count": 23,
   "metadata": {
    "ExecuteTime": {
     "end_time": "2023-08-26T18:56:39.474786Z",
     "start_time": "2023-08-26T18:56:39.216190Z"
    },
    "collapsed": false,
    "jupyter": {
     "outputs_hidden": false
    },
    "tags": []
   },
   "outputs": [
    {
     "data": {
      "text/plain": [
       "<Axes: >"
      ]
     },
     "execution_count": 23,
     "metadata": {},
     "output_type": "execute_result"
    },
    {
     "data": {
      "image/png": "[encoded data removed]",
      "text/plain": [
       "<Figure size 2000x2000 with 2 Axes>"
      ]
     },
     "metadata": {},
     "output_type": "display_data"
    }
   ],
   "source": [
    "import matplotlib.pyplot as plt\n",
    "import seaborn as sns\n",
    "\n",
    "location_features_df = train_df[location_features]\n",
    "\n",
    "plt.figure(figsize=(20, 20))\n",
    "sns.heatmap(location_features_df.corr())"
   ]
  },
  {
   "cell_type": "code",
   "execution_count": 24,
   "metadata": {
    "ExecuteTime": {
     "end_time": "2023-08-26T19:05:52.416342Z",
     "start_time": "2023-08-26T19:05:52.269232Z"
    },
    "collapsed": false,
    "jupyter": {
     "outputs_hidden": false
    },
    "tags": []
   },
   "outputs": [],
   "source": [
    "train_df = train_df.drop(\"MSZoning\", axis = 1)\n",
    "test_df = test_df.drop(\"MSZoning\", axis = 1)\n",
    "train_df = train_df.drop(\"Condition1\", axis = 1)\n",
    "test_df = test_df.drop(\"Condition1\", axis = 1)\n",
    "train_df = train_df.drop(\"Condition2\", axis = 1)\n",
    "test_df = test_df.drop(\"Condition2\", axis = 1)"
   ]
  },
  {
   "cell_type": "markdown",
   "metadata": {},
   "source": [
    "### Home Size Feature : TotRmsAbvGrd, Bedroom, GrLivArea, 1stFlrSF, 2ndFlrSF\n"
   ]
  },
  {
   "cell_type": "markdown",
   "metadata": {},
   "source": [
    "It is known that the size of the house contribute  impact the price of the house."
   ]
  },
  {
   "cell_type": "code",
   "execution_count": 25,
   "metadata": {
    "ExecuteTime": {
     "end_time": "2023-08-26T19:31:03.436699Z",
     "start_time": "2023-08-26T19:31:03.425766Z"
    },
    "collapsed": false,
    "jupyter": {
     "outputs_hidden": false
    },
    "tags": []
   },
   "outputs": [],
   "source": [
    "house_size_features = [\"TotRmsAbvGrd\", \"BedroomAbvGr\", \"GrLivArea\", \"1stFlrSF\", \"2ndFlrSF\"]\n"
   ]
  },
  {
   "cell_type": "code",
   "execution_count": 26,
   "metadata": {
    "ExecuteTime": {
     "end_time": "2023-08-26T19:19:29.305642Z",
     "start_time": "2023-08-26T19:19:29.166700Z"
    },
    "collapsed": false,
    "jupyter": {
     "outputs_hidden": false
    },
    "tags": []
   },
   "outputs": [
    {
     "data": {
      "image/png": "[encoded data removed]",
      "text/plain": [
       "<Figure size 640x480 with 1 Axes>"
      ]
     },
     "metadata": {},
     "output_type": "display_data"
    }
   ],
   "source": [
    "sns.boxplot(x=train_df['TotRmsAbvGrd'], y=train_df['SalePrice'])\n",
    "plt.xlabel('Total Rooms Above Ground')\n",
    "plt.ylabel('Sale Price')\n",
    "plt.title('Box Plot of Sale Price by Total Rooms Above Ground')\n",
    "plt.show()"
   ]
  },
  {
   "cell_type": "markdown",
   "metadata": {},
   "source": [
    "We can notice from the graph above that increase in the number of rooms result in sale price increase. However, from 8 room to above the increase is not obvious from the graph."
   ]
  },
  {
   "cell_type": "markdown",
   "metadata": {},
   "source": [
    "Let's confirm if the same applies for the remaining features:"
   ]
  },
  {
   "cell_type": "code",
   "execution_count": 27,
   "metadata": {
    "ExecuteTime": {
     "end_time": "2023-08-26T19:21:34.202704Z",
     "start_time": "2023-08-26T19:21:34.063744Z"
    },
    "collapsed": false,
    "jupyter": {
     "outputs_hidden": false
    },
    "tags": []
   },
   "outputs": [
    {
     "data": {
      "image/png": "[encoded data removed]",
      "text/plain": [
       "<Figure size 640x480 with 1 Axes>"
      ]
     },
     "metadata": {},
     "output_type": "display_data"
    }
   ],
   "source": [
    "sns.boxplot(x=train_df['BedroomAbvGr'], y=train_df['SalePrice'])\n",
    "plt.xlabel('Total Rooms Above Ground')\n",
    "plt.ylabel('Sale Price')\n",
    "plt.title('Box Plot of Sale Price by Number of bedrooms')\n",
    "plt.show()"
   ]
  },
  {
   "cell_type": "code",
   "execution_count": 28,
   "metadata": {
    "ExecuteTime": {
     "end_time": "2023-08-26T19:22:10.840317Z",
     "start_time": "2023-08-26T19:22:10.821692Z"
    },
    "collapsed": false,
    "jupyter": {
     "outputs_hidden": false
    },
    "tags": []
   },
   "outputs": [
    {
     "data": {
      "text/plain": [
       "3    804\n",
       "2    358\n",
       "4    213\n",
       "1     50\n",
       "5     21\n",
       "6      7\n",
       "0      6\n",
       "8      1\n",
       "Name: BedroomAbvGr, dtype: int64"
      ]
     },
     "execution_count": 28,
     "metadata": {},
     "output_type": "execute_result"
    }
   ],
   "source": [
    "train_df[\"BedroomAbvGr\"].value_counts()"
   ]
  },
  {
   "cell_type": "markdown",
   "metadata": {},
   "source": [
    "Surprisly the same doesn't apply to the feature 'BedroomAbvGr'. The graph shows that Houses with 0 bedroooms has the highest sales price. There are only 6 houses with 0 bedrooms. Let's inspect their sales data to find any anomaly in data:"
   ]
  },
  {
   "cell_type": "code",
   "execution_count": 29,
   "metadata": {
    "ExecuteTime": {
     "end_time": "2023-08-26T19:26:44.694682Z",
     "start_time": "2023-08-26T19:26:44.678808Z"
    },
    "collapsed": false,
    "jupyter": {
     "outputs_hidden": false
    },
    "tags": []
   },
   "outputs": [
    {
     "data": {
      "text/html": [
       "<div>\n",
       "<style scoped>\n",
       "    .dataframe tbody tr th:only-of-type {\n",
       "        vertical-align: middle;\n",
       "    }\n",
       "\n",
       "    .dataframe tbody tr th {\n",
       "        vertical-align: top;\n",
       "    }\n",
       "\n",
       "    .dataframe thead th {\n",
       "        text-align: right;\n",
       "    }\n",
       "</style>\n",
       "<table border=\"1\" class=\"dataframe\">\n",
       "  <thead>\n",
       "    <tr style=\"text-align: right;\">\n",
       "      <th></th>\n",
       "      <th>Id</th>\n",
       "      <th>MSSubClass</th>\n",
       "      <th>LotFrontage</th>\n",
       "      <th>LotArea</th>\n",
       "      <th>Street</th>\n",
       "      <th>Alley</th>\n",
       "      <th>LotShape</th>\n",
       "      <th>LandContour</th>\n",
       "      <th>Utilities</th>\n",
       "      <th>LotConfig</th>\n",
       "      <th>...</th>\n",
       "      <th>PoolArea</th>\n",
       "      <th>PoolQC</th>\n",
       "      <th>Fence</th>\n",
       "      <th>MiscFeature</th>\n",
       "      <th>MiscVal</th>\n",
       "      <th>MoSold</th>\n",
       "      <th>YrSold</th>\n",
       "      <th>SaleType</th>\n",
       "      <th>SaleCondition</th>\n",
       "      <th>SalePrice</th>\n",
       "    </tr>\n",
       "  </thead>\n",
       "  <tbody>\n",
       "    <tr>\n",
       "      <th>53</th>\n",
       "      <td>54</td>\n",
       "      <td>20</td>\n",
       "      <td>68.0</td>\n",
       "      <td>50271</td>\n",
       "      <td>Pave</td>\n",
       "      <td>NaN</td>\n",
       "      <td>2</td>\n",
       "      <td>4</td>\n",
       "      <td>AllPub</td>\n",
       "      <td>1</td>\n",
       "      <td>...</td>\n",
       "      <td>0</td>\n",
       "      <td>NaN</td>\n",
       "      <td>NaN</td>\n",
       "      <td>NaN</td>\n",
       "      <td>0</td>\n",
       "      <td>11</td>\n",
       "      <td>2006</td>\n",
       "      <td>WD</td>\n",
       "      <td>Normal</td>\n",
       "      <td>385000</td>\n",
       "    </tr>\n",
       "    <tr>\n",
       "      <th>189</th>\n",
       "      <td>190</td>\n",
       "      <td>120</td>\n",
       "      <td>41.0</td>\n",
       "      <td>4923</td>\n",
       "      <td>Pave</td>\n",
       "      <td>NaN</td>\n",
       "      <td>1</td>\n",
       "      <td>1</td>\n",
       "      <td>AllPub</td>\n",
       "      <td>1</td>\n",
       "      <td>...</td>\n",
       "      <td>0</td>\n",
       "      <td>NaN</td>\n",
       "      <td>NaN</td>\n",
       "      <td>NaN</td>\n",
       "      <td>0</td>\n",
       "      <td>8</td>\n",
       "      <td>2008</td>\n",
       "      <td>WD</td>\n",
       "      <td>Normal</td>\n",
       "      <td>286000</td>\n",
       "    </tr>\n",
       "    <tr>\n",
       "      <th>634</th>\n",
       "      <td>635</td>\n",
       "      <td>90</td>\n",
       "      <td>64.0</td>\n",
       "      <td>6979</td>\n",
       "      <td>Pave</td>\n",
       "      <td>NaN</td>\n",
       "      <td>1</td>\n",
       "      <td>1</td>\n",
       "      <td>AllPub</td>\n",
       "      <td>1</td>\n",
       "      <td>...</td>\n",
       "      <td>0</td>\n",
       "      <td>NaN</td>\n",
       "      <td>GdPrv</td>\n",
       "      <td>Shed</td>\n",
       "      <td>600</td>\n",
       "      <td>6</td>\n",
       "      <td>2010</td>\n",
       "      <td>WD</td>\n",
       "      <td>Normal</td>\n",
       "      <td>144000</td>\n",
       "    </tr>\n",
       "    <tr>\n",
       "      <th>1163</th>\n",
       "      <td>1164</td>\n",
       "      <td>90</td>\n",
       "      <td>60.0</td>\n",
       "      <td>12900</td>\n",
       "      <td>Pave</td>\n",
       "      <td>NaN</td>\n",
       "      <td>1</td>\n",
       "      <td>1</td>\n",
       "      <td>AllPub</td>\n",
       "      <td>1</td>\n",
       "      <td>...</td>\n",
       "      <td>0</td>\n",
       "      <td>NaN</td>\n",
       "      <td>NaN</td>\n",
       "      <td>NaN</td>\n",
       "      <td>0</td>\n",
       "      <td>1</td>\n",
       "      <td>2008</td>\n",
       "      <td>WD</td>\n",
       "      <td>Alloca</td>\n",
       "      <td>108959</td>\n",
       "    </tr>\n",
       "    <tr>\n",
       "      <th>1213</th>\n",
       "      <td>1214</td>\n",
       "      <td>80</td>\n",
       "      <td>NaN</td>\n",
       "      <td>10246</td>\n",
       "      <td>Pave</td>\n",
       "      <td>NaN</td>\n",
       "      <td>2</td>\n",
       "      <td>1</td>\n",
       "      <td>AllPub</td>\n",
       "      <td>3</td>\n",
       "      <td>...</td>\n",
       "      <td>0</td>\n",
       "      <td>NaN</td>\n",
       "      <td>NaN</td>\n",
       "      <td>NaN</td>\n",
       "      <td>0</td>\n",
       "      <td>5</td>\n",
       "      <td>2006</td>\n",
       "      <td>WD</td>\n",
       "      <td>Normal</td>\n",
       "      <td>145000</td>\n",
       "    </tr>\n",
       "    <tr>\n",
       "      <th>1270</th>\n",
       "      <td>1271</td>\n",
       "      <td>40</td>\n",
       "      <td>NaN</td>\n",
       "      <td>23595</td>\n",
       "      <td>Pave</td>\n",
       "      <td>NaN</td>\n",
       "      <td>1</td>\n",
       "      <td>4</td>\n",
       "      <td>AllPub</td>\n",
       "      <td>1</td>\n",
       "      <td>...</td>\n",
       "      <td>0</td>\n",
       "      <td>NaN</td>\n",
       "      <td>NaN</td>\n",
       "      <td>NaN</td>\n",
       "      <td>0</td>\n",
       "      <td>4</td>\n",
       "      <td>2010</td>\n",
       "      <td>WD</td>\n",
       "      <td>Normal</td>\n",
       "      <td>260000</td>\n",
       "    </tr>\n",
       "  </tbody>\n",
       "</table>\n",
       "<p>6 rows × 66 columns</p>\n",
       "</div>"
      ],
      "text/plain": [
       "        Id  MSSubClass  LotFrontage  LotArea Street Alley  LotShape  \\\n",
       "53      54          20         68.0    50271   Pave   NaN         2   \n",
       "189    190         120         41.0     4923   Pave   NaN         1   \n",
       "634    635          90         64.0     6979   Pave   NaN         1   \n",
       "1163  1164          90         60.0    12900   Pave   NaN         1   \n",
       "1213  1214          80          NaN    10246   Pave   NaN         2   \n",
       "1270  1271          40          NaN    23595   Pave   NaN         1   \n",
       "\n",
       "      LandContour Utilities  LotConfig  ...  PoolArea PoolQC  Fence  \\\n",
       "53              4    AllPub          1  ...         0    NaN    NaN   \n",
       "189             1    AllPub          1  ...         0    NaN    NaN   \n",
       "634             1    AllPub          1  ...         0    NaN  GdPrv   \n",
       "1163            1    AllPub          1  ...         0    NaN    NaN   \n",
       "1213            1    AllPub          3  ...         0    NaN    NaN   \n",
       "1270            4    AllPub          1  ...         0    NaN    NaN   \n",
       "\n",
       "     MiscFeature  MiscVal  MoSold  YrSold  SaleType SaleCondition SalePrice  \n",
       "53           NaN        0      11    2006        WD        Normal    385000  \n",
       "189          NaN        0       8    2008        WD        Normal    286000  \n",
       "634         Shed      600       6    2010        WD        Normal    144000  \n",
       "1163         NaN        0       1    2008        WD        Alloca    108959  \n",
       "1213         NaN        0       5    2006        WD        Normal    145000  \n",
       "1270         NaN        0       4    2010        WD        Normal    260000  \n",
       "\n",
       "[6 rows x 66 columns]"
      ]
     },
     "execution_count": 29,
     "metadata": {},
     "output_type": "execute_result"
    }
   ],
   "source": [
    "train_df[train_df[\"BedroomAbvGr\"] == 0]"
   ]
  },
  {
   "cell_type": "code",
   "execution_count": 30,
   "metadata": {
    "ExecuteTime": {
     "end_time": "2023-08-26T19:31:10.405487Z",
     "start_time": "2023-08-26T19:31:10.148947Z"
    },
    "collapsed": false,
    "jupyter": {
     "outputs_hidden": false
    },
    "tags": []
   },
   "outputs": [
    {
     "data": {
      "text/html": [
       "<div>\n",
       "<style scoped>\n",
       "    .dataframe tbody tr th:only-of-type {\n",
       "        vertical-align: middle;\n",
       "    }\n",
       "\n",
       "    .dataframe tbody tr th {\n",
       "        vertical-align: top;\n",
       "    }\n",
       "\n",
       "    .dataframe thead th {\n",
       "        text-align: right;\n",
       "    }\n",
       "</style>\n",
       "<table border=\"1\" class=\"dataframe\">\n",
       "  <thead>\n",
       "    <tr style=\"text-align: right;\">\n",
       "      <th></th>\n",
       "      <th>TotRmsAbvGrd</th>\n",
       "      <th>BedroomAbvGr</th>\n",
       "      <th>GrLivArea</th>\n",
       "      <th>1stFlrSF</th>\n",
       "      <th>2ndFlrSF</th>\n",
       "    </tr>\n",
       "  </thead>\n",
       "  <tbody>\n",
       "    <tr>\n",
       "      <th>0</th>\n",
       "      <td>8</td>\n",
       "      <td>3</td>\n",
       "      <td>1710</td>\n",
       "      <td>856</td>\n",
       "      <td>854</td>\n",
       "    </tr>\n",
       "    <tr>\n",
       "      <th>1</th>\n",
       "      <td>6</td>\n",
       "      <td>3</td>\n",
       "      <td>1262</td>\n",
       "      <td>1262</td>\n",
       "      <td>0</td>\n",
       "    </tr>\n",
       "    <tr>\n",
       "      <th>2</th>\n",
       "      <td>6</td>\n",
       "      <td>3</td>\n",
       "      <td>1786</td>\n",
       "      <td>920</td>\n",
       "      <td>866</td>\n",
       "    </tr>\n",
       "    <tr>\n",
       "      <th>3</th>\n",
       "      <td>7</td>\n",
       "      <td>3</td>\n",
       "      <td>1717</td>\n",
       "      <td>961</td>\n",
       "      <td>756</td>\n",
       "    </tr>\n",
       "    <tr>\n",
       "      <th>4</th>\n",
       "      <td>9</td>\n",
       "      <td>4</td>\n",
       "      <td>2198</td>\n",
       "      <td>1145</td>\n",
       "      <td>1053</td>\n",
       "    </tr>\n",
       "  </tbody>\n",
       "</table>\n",
       "</div>"
      ],
      "text/plain": [
       "   TotRmsAbvGrd  BedroomAbvGr  GrLivArea  1stFlrSF  2ndFlrSF\n",
       "0             8             3       1710       856       854\n",
       "1             6             3       1262      1262         0\n",
       "2             6             3       1786       920       866\n",
       "3             7             3       1717       961       756\n",
       "4             9             4       2198      1145      1053"
      ]
     },
     "execution_count": 30,
     "metadata": {},
     "output_type": "execute_result"
    },
    {
     "data": {
      "image/png": "[encoded data removed]",
      "text/plain": [
       "<Figure size 2000x2000 with 2 Axes>"
      ]
     },
     "metadata": {},
     "output_type": "display_data"
    }
   ],
   "source": [
    "house_size_features_df = train_df[house_size_features]\n",
    "\n",
    "plt.figure(figsize=(20, 20))\n",
    "sns.heatmap(house_size_features_df.corr())\n",
    "house_size_features_df.head()"
   ]
  },
  {
   "cell_type": "markdown",
   "metadata": {},
   "source": [
    "We notice from the graph a strong correlation between the features: Living Area Above Ground (GrLivArea), Total Rooms Above Ground (BedroomAbvGr) and Total Rooms Above Ground (TotalRmsAbvGrd). Also, I decided to discard the features 1 floor size (1nstFrSF) and 2 floor size (2nstFrSF) for a seek of simplicity."
   ]
  },
  {
   "cell_type": "code",
   "execution_count": 31,
   "metadata": {
    "ExecuteTime": {
     "end_time": "2023-08-26T19:32:55.617612Z",
     "start_time": "2023-08-26T19:32:55.570937Z"
    },
    "collapsed": false,
    "jupyter": {
     "outputs_hidden": false
    },
    "tags": []
   },
   "outputs": [],
   "source": [
    "train_df = train_df.drop(\"1stFlrSF\", axis = 1)\n",
    "test_df = test_df.drop(\"1stFlrSF\", axis = 1)\n",
    "train_df = train_df.drop(\"2ndFlrSF\", axis = 1)\n",
    "test_df = test_df.drop(\"2ndFlrSF\", axis = 1)\n",
    "train_df = train_df.drop(\"BedroomAbvGr\", axis = 1)\n",
    "test_df = test_df.drop(\"BedroomAbvGr\", axis = 1)"
   ]
  },
  {
   "cell_type": "markdown",
   "metadata": {},
   "source": [
    "## Garage Features"
   ]
  },
  {
   "cell_type": "code",
   "execution_count": 32,
   "metadata": {
    "ExecuteTime": {
     "end_time": "2023-08-26T19:38:37.978871Z",
     "start_time": "2023-08-26T19:38:37.952475Z"
    },
    "collapsed": false,
    "jupyter": {
     "outputs_hidden": false
    },
    "tags": []
   },
   "outputs": [],
   "source": [
    "garage_features = [\"GarageYrBlt\", \"GarageFinish\", \"GarageCars\", \"GarageArea\", \"GarageQual\", \"GarageCond\"]"
   ]
  },
  {
   "cell_type": "code",
   "execution_count": 33,
   "metadata": {
    "ExecuteTime": {
     "end_time": "2023-08-26T19:39:52.853913Z",
     "start_time": "2023-08-26T19:39:52.834616Z"
    },
    "collapsed": false,
    "jupyter": {
     "outputs_hidden": false
    },
    "tags": []
   },
   "outputs": [
    {
     "name": "stdout",
     "output_type": "stream",
     "text": [
      "<class 'pandas.core.frame.DataFrame'>\n",
      "RangeIndex: 1460 entries, 0 to 1459\n",
      "Data columns (total 6 columns):\n",
      " #   Column        Non-Null Count  Dtype  \n",
      "---  ------        --------------  -----  \n",
      " 0   GarageYrBlt   1379 non-null   float64\n",
      " 1   GarageFinish  1379 non-null   object \n",
      " 2   GarageCars    1460 non-null   int64  \n",
      " 3   GarageArea    1460 non-null   int64  \n",
      " 4   GarageQual    1379 non-null   object \n",
      " 5   GarageCond    1379 non-null   object \n",
      "dtypes: float64(1), int64(2), object(3)\n",
      "memory usage: 68.6+ KB\n"
     ]
    }
   ],
   "source": [
    "train_df[garage_features].info()"
   ]
  },
  {
   "cell_type": "markdown",
   "metadata": {},
   "source": [
    "GarageCars may have null values. GarageCars field with null value will be repalaced with as it denote a garage is not available with house."
   ]
  },
  {
   "cell_type": "code",
   "execution_count": 34,
   "metadata": {
    "tags": []
   },
   "outputs": [],
   "source": [
    "train_df[\"GarageQual\"] = train_df[\"GarageQual\"].fillna(0)\n",
    "test_df[\"GarageQual\"] = test_df[\"GarageQual\"].fillna(0)\n",
    "train_df[\"GarageCond\"] = train_df[\"GarageCond\"].fillna(0)\n",
    "test_df[\"GarageCond\"] = test_df[\"GarageCond\"].fillna(0)\n",
    "test_df[\"GarageCars\"] = test_df[\"GarageCars\"].fillna(0)\n",
    "train_df[\"GarageYrBlt\"] = train_df[\"GarageYrBlt\"].fillna(0)\n",
    "test_df[\"GarageYrBlt\"] = test_df[\"GarageYrBlt\"].fillna(0)\n",
    "train_df[\"GarageFinish\"] = train_df[\"GarageFinish\"].fillna(0)\n",
    "test_df[\"GarageFinish\"] = test_df[\"GarageFinish\"].fillna(0)"
   ]
  },
  {
   "cell_type": "markdown",
   "metadata": {},
   "source": [
    "## Garage Features\n",
    "\n",
    "GarageCond, GarageQual and GarageFinish are non-numerical features. However, since quality is a feature that can be measured and has a magnitude GarageQual and GarageCond will be converted to numerical categories. Same apply to GarageFinish feature since it also reflects a magnitute (how much of basement space is finished)"
   ]
  },
  {
   "cell_type": "code",
   "execution_count": 35,
   "metadata": {
    "ExecuteTime": {
     "end_time": "2023-08-26T19:42:14.362985Z",
     "start_time": "2023-08-26T19:42:14.313251Z"
    },
    "collapsed": false,
    "jupyter": {
     "outputs_hidden": false
    },
    "tags": []
   },
   "outputs": [],
   "source": [
    "GarageQual = {\n",
    "    \"Ex\": 5, # Excellent\n",
    "    \"Gd\": 4, # Good\n",
    "    \"TA\": 3, # Typical/Average\n",
    "    \"Fa\": 2, # Fair\n",
    "    \"Po\": 1, # Poor\n",
    "    \"NA\": 0  # No Garage\n",
    "}\n",
    "GarageCond = {\n",
    "    \"Ex\": 5, #\tExcellent,\n",
    "    \"Gd\": 4, #\tGood,\n",
    "    \"TA\": 3, #\tTypical/Average\n",
    "    \"Fa\": 2, #  Fair\n",
    "    \"Po\": 1, #  Poor\n",
    "    \"NA\": 0  # No Garage\n",
    "}\n",
    "\n",
    "GarageFinish = {\n",
    "    # Interior finish of the garage\n",
    "    \"Fin\":\t3, # Finished\n",
    "    \"RFn\":\t2, # Rough Finished\n",
    "    \"Unf\":\t1, # Unfinished\n",
    "    \"NA\": 0,   # No Garage\n",
    "}\n",
    "\n",
    "garage_features = [\"GarageYrBlt\", \"GarageFinish\", \"GarageCars\", \"GarageArea\", \"GarageQual\", \"GarageCond\"]\n",
    "\n",
    "train_df[garage_features]\n",
    "\n",
    "train_df.replace(\n",
    "    {\n",
    "        \"GarageFinish\": GarageFinish,\n",
    "        \"GarageCond\": GarageCond,\n",
    "        \"GarageQual\": GarageQual\n",
    "    },\n",
    "    inplace=True,\n",
    ")\n",
    "test_df.replace(\n",
    "    {\n",
    "        \"GarageFinish\": GarageFinish,\n",
    "        \"GarageCond\": GarageCond,\n",
    "        \"GarageQual\": GarageQual\n",
    "    },\n",
    "    inplace=True,\n",
    ")\n",
    "\n"
   ]
  },
  {
   "cell_type": "code",
   "execution_count": 42,
   "metadata": {
    "tags": []
   },
   "outputs": [
    {
     "data": {
      "text/html": [
       "<div>\n",
       "<style scoped>\n",
       "    .dataframe tbody tr th:only-of-type {\n",
       "        vertical-align: middle;\n",
       "    }\n",
       "\n",
       "    .dataframe tbody tr th {\n",
       "        vertical-align: top;\n",
       "    }\n",
       "\n",
       "    .dataframe thead th {\n",
       "        text-align: right;\n",
       "    }\n",
       "</style>\n",
       "<table border=\"1\" class=\"dataframe\">\n",
       "  <thead>\n",
       "    <tr style=\"text-align: right;\">\n",
       "      <th></th>\n",
       "      <th>GarageYrBlt</th>\n",
       "      <th>GarageFinish</th>\n",
       "      <th>GarageCars</th>\n",
       "      <th>GarageArea</th>\n",
       "      <th>GarageQual</th>\n",
       "      <th>GarageCond</th>\n",
       "    </tr>\n",
       "  </thead>\n",
       "  <tbody>\n",
       "    <tr>\n",
       "      <th>0</th>\n",
       "      <td>2003.0</td>\n",
       "      <td>2</td>\n",
       "      <td>2</td>\n",
       "      <td>548</td>\n",
       "      <td>3</td>\n",
       "      <td>3</td>\n",
       "    </tr>\n",
       "    <tr>\n",
       "      <th>1</th>\n",
       "      <td>1976.0</td>\n",
       "      <td>2</td>\n",
       "      <td>2</td>\n",
       "      <td>460</td>\n",
       "      <td>3</td>\n",
       "      <td>3</td>\n",
       "    </tr>\n",
       "    <tr>\n",
       "      <th>2</th>\n",
       "      <td>2001.0</td>\n",
       "      <td>2</td>\n",
       "      <td>2</td>\n",
       "      <td>608</td>\n",
       "      <td>3</td>\n",
       "      <td>3</td>\n",
       "    </tr>\n",
       "    <tr>\n",
       "      <th>3</th>\n",
       "      <td>1998.0</td>\n",
       "      <td>1</td>\n",
       "      <td>3</td>\n",
       "      <td>642</td>\n",
       "      <td>3</td>\n",
       "      <td>3</td>\n",
       "    </tr>\n",
       "    <tr>\n",
       "      <th>4</th>\n",
       "      <td>2000.0</td>\n",
       "      <td>2</td>\n",
       "      <td>3</td>\n",
       "      <td>836</td>\n",
       "      <td>3</td>\n",
       "      <td>3</td>\n",
       "    </tr>\n",
       "    <tr>\n",
       "      <th>...</th>\n",
       "      <td>...</td>\n",
       "      <td>...</td>\n",
       "      <td>...</td>\n",
       "      <td>...</td>\n",
       "      <td>...</td>\n",
       "      <td>...</td>\n",
       "    </tr>\n",
       "    <tr>\n",
       "      <th>1455</th>\n",
       "      <td>1999.0</td>\n",
       "      <td>2</td>\n",
       "      <td>2</td>\n",
       "      <td>460</td>\n",
       "      <td>3</td>\n",
       "      <td>3</td>\n",
       "    </tr>\n",
       "    <tr>\n",
       "      <th>1456</th>\n",
       "      <td>1978.0</td>\n",
       "      <td>1</td>\n",
       "      <td>2</td>\n",
       "      <td>500</td>\n",
       "      <td>3</td>\n",
       "      <td>3</td>\n",
       "    </tr>\n",
       "    <tr>\n",
       "      <th>1457</th>\n",
       "      <td>1941.0</td>\n",
       "      <td>2</td>\n",
       "      <td>1</td>\n",
       "      <td>252</td>\n",
       "      <td>3</td>\n",
       "      <td>3</td>\n",
       "    </tr>\n",
       "    <tr>\n",
       "      <th>1458</th>\n",
       "      <td>1950.0</td>\n",
       "      <td>1</td>\n",
       "      <td>1</td>\n",
       "      <td>240</td>\n",
       "      <td>3</td>\n",
       "      <td>3</td>\n",
       "    </tr>\n",
       "    <tr>\n",
       "      <th>1459</th>\n",
       "      <td>1965.0</td>\n",
       "      <td>3</td>\n",
       "      <td>1</td>\n",
       "      <td>276</td>\n",
       "      <td>3</td>\n",
       "      <td>3</td>\n",
       "    </tr>\n",
       "  </tbody>\n",
       "</table>\n",
       "<p>1460 rows × 6 columns</p>\n",
       "</div>"
      ],
      "text/plain": [
       "      GarageYrBlt  GarageFinish  GarageCars  GarageArea  GarageQual  \\\n",
       "0          2003.0             2           2         548           3   \n",
       "1          1976.0             2           2         460           3   \n",
       "2          2001.0             2           2         608           3   \n",
       "3          1998.0             1           3         642           3   \n",
       "4          2000.0             2           3         836           3   \n",
       "...           ...           ...         ...         ...         ...   \n",
       "1455       1999.0             2           2         460           3   \n",
       "1456       1978.0             1           2         500           3   \n",
       "1457       1941.0             2           1         252           3   \n",
       "1458       1950.0             1           1         240           3   \n",
       "1459       1965.0             3           1         276           3   \n",
       "\n",
       "      GarageCond  \n",
       "0              3  \n",
       "1              3  \n",
       "2              3  \n",
       "3              3  \n",
       "4              3  \n",
       "...          ...  \n",
       "1455           3  \n",
       "1456           3  \n",
       "1457           3  \n",
       "1458           3  \n",
       "1459           3  \n",
       "\n",
       "[1460 rows x 6 columns]"
      ]
     },
     "execution_count": 42,
     "metadata": {},
     "output_type": "execute_result"
    }
   ],
   "source": [
    "garage_features_df"
   ]
  },
  {
   "cell_type": "markdown",
   "metadata": {},
   "source": [
    "The correlation graph below highlight that fact that GarageArea (Garage size in square footage) and GarageCars (number of cars that can fit in the garage) are strongly correlated. As result of that, I will discard GarageArea."
   ]
  },
  {
   "cell_type": "code",
   "execution_count": 44,
   "metadata": {
    "ExecuteTime": {
     "end_time": "2023-08-26T19:44:32.994969Z",
     "start_time": "2023-08-26T19:44:32.237331Z"
    },
    "collapsed": false,
    "jupyter": {
     "outputs_hidden": false
    },
    "tags": []
   },
   "outputs": [
    {
     "data": {
      "text/html": [
       "<div>\n",
       "<style scoped>\n",
       "    .dataframe tbody tr th:only-of-type {\n",
       "        vertical-align: middle;\n",
       "    }\n",
       "\n",
       "    .dataframe tbody tr th {\n",
       "        vertical-align: top;\n",
       "    }\n",
       "\n",
       "    .dataframe thead th {\n",
       "        text-align: right;\n",
       "    }\n",
       "</style>\n",
       "<table border=\"1\" class=\"dataframe\">\n",
       "  <thead>\n",
       "    <tr style=\"text-align: right;\">\n",
       "      <th></th>\n",
       "      <th>GarageYrBlt</th>\n",
       "      <th>GarageFinish</th>\n",
       "      <th>GarageCars</th>\n",
       "      <th>GarageArea</th>\n",
       "      <th>GarageQual</th>\n",
       "      <th>GarageCond</th>\n",
       "    </tr>\n",
       "  </thead>\n",
       "  <tbody>\n",
       "    <tr>\n",
       "      <th>0</th>\n",
       "      <td>2003.0</td>\n",
       "      <td>2</td>\n",
       "      <td>2</td>\n",
       "      <td>548</td>\n",
       "      <td>3</td>\n",
       "      <td>3</td>\n",
       "    </tr>\n",
       "    <tr>\n",
       "      <th>1</th>\n",
       "      <td>1976.0</td>\n",
       "      <td>2</td>\n",
       "      <td>2</td>\n",
       "      <td>460</td>\n",
       "      <td>3</td>\n",
       "      <td>3</td>\n",
       "    </tr>\n",
       "    <tr>\n",
       "      <th>2</th>\n",
       "      <td>2001.0</td>\n",
       "      <td>2</td>\n",
       "      <td>2</td>\n",
       "      <td>608</td>\n",
       "      <td>3</td>\n",
       "      <td>3</td>\n",
       "    </tr>\n",
       "    <tr>\n",
       "      <th>3</th>\n",
       "      <td>1998.0</td>\n",
       "      <td>1</td>\n",
       "      <td>3</td>\n",
       "      <td>642</td>\n",
       "      <td>3</td>\n",
       "      <td>3</td>\n",
       "    </tr>\n",
       "    <tr>\n",
       "      <th>4</th>\n",
       "      <td>2000.0</td>\n",
       "      <td>2</td>\n",
       "      <td>3</td>\n",
       "      <td>836</td>\n",
       "      <td>3</td>\n",
       "      <td>3</td>\n",
       "    </tr>\n",
       "  </tbody>\n",
       "</table>\n",
       "</div>"
      ],
      "text/plain": [
       "   GarageYrBlt  GarageFinish  GarageCars  GarageArea  GarageQual  GarageCond\n",
       "0       2003.0             2           2         548           3           3\n",
       "1       1976.0             2           2         460           3           3\n",
       "2       2001.0             2           2         608           3           3\n",
       "3       1998.0             1           3         642           3           3\n",
       "4       2000.0             2           3         836           3           3"
      ]
     },
     "execution_count": 44,
     "metadata": {},
     "output_type": "execute_result"
    },
    {
     "data": {
      "image/png": "[encoded data removed]",
      "text/plain": [
       "<Figure size 2000x2000 with 2 Axes>"
      ]
     },
     "metadata": {},
     "output_type": "display_data"
    }
   ],
   "source": [
    "\n",
    "plt.figure(figsize=(20, 20))\n",
    "sns.heatmap(garage_features_df.corr())\n",
    "garage_features_df.head()"
   ]
  },
  {
   "cell_type": "code",
   "execution_count": 45,
   "metadata": {
    "ExecuteTime": {
     "end_time": "2023-08-26T19:46:46.422505Z",
     "start_time": "2023-08-26T19:46:46.401464Z"
    },
    "collapsed": false,
    "jupyter": {
     "outputs_hidden": false
    },
    "tags": []
   },
   "outputs": [
    {
     "ename": "KeyError",
     "evalue": "\"['GarageArea'] not found in axis\"",
     "output_type": "error",
     "traceback": [
      "\u001b[0;31m---------------------------------------------------------------------------\u001b[0m",
      "\u001b[0;31mKeyError\u001b[0m                                  Traceback (most recent call last)",
      "Cell \u001b[0;32mIn[45], line 1\u001b[0m\n\u001b[0;32m----> 1\u001b[0m train_df \u001b[38;5;241m=\u001b[39m \u001b[43mtrain_df\u001b[49m\u001b[38;5;241;43m.\u001b[39;49m\u001b[43mdrop\u001b[49m\u001b[43m(\u001b[49m\u001b[38;5;124;43m\"\u001b[39;49m\u001b[38;5;124;43mGarageArea\u001b[39;49m\u001b[38;5;124;43m\"\u001b[39;49m\u001b[43m,\u001b[49m\u001b[43m \u001b[49m\u001b[43maxis\u001b[49m\u001b[43m \u001b[49m\u001b[38;5;241;43m=\u001b[39;49m\u001b[43m \u001b[49m\u001b[38;5;241;43m1\u001b[39;49m\u001b[43m)\u001b[49m\n\u001b[1;32m      2\u001b[0m test_df \u001b[38;5;241m=\u001b[39m test_df\u001b[38;5;241m.\u001b[39mdrop(\u001b[38;5;124m\"\u001b[39m\u001b[38;5;124mGarageArea\u001b[39m\u001b[38;5;124m\"\u001b[39m, axis \u001b[38;5;241m=\u001b[39m \u001b[38;5;241m1\u001b[39m)\n",
      "File \u001b[0;32m~/anaconda3/envs/pytorch_p310/lib/python3.10/site-packages/pandas/util/_decorators.py:331\u001b[0m, in \u001b[0;36mdeprecate_nonkeyword_arguments.<locals>.decorate.<locals>.wrapper\u001b[0;34m(*args, **kwargs)\u001b[0m\n\u001b[1;32m    325\u001b[0m \u001b[38;5;28;01mif\u001b[39;00m \u001b[38;5;28mlen\u001b[39m(args) \u001b[38;5;241m>\u001b[39m num_allow_args:\n\u001b[1;32m    326\u001b[0m     warnings\u001b[38;5;241m.\u001b[39mwarn(\n\u001b[1;32m    327\u001b[0m         msg\u001b[38;5;241m.\u001b[39mformat(arguments\u001b[38;5;241m=\u001b[39m_format_argument_list(allow_args)),\n\u001b[1;32m    328\u001b[0m         \u001b[38;5;167;01mFutureWarning\u001b[39;00m,\n\u001b[1;32m    329\u001b[0m         stacklevel\u001b[38;5;241m=\u001b[39mfind_stack_level(),\n\u001b[1;32m    330\u001b[0m     )\n\u001b[0;32m--> 331\u001b[0m \u001b[38;5;28;01mreturn\u001b[39;00m \u001b[43mfunc\u001b[49m\u001b[43m(\u001b[49m\u001b[38;5;241;43m*\u001b[39;49m\u001b[43margs\u001b[49m\u001b[43m,\u001b[49m\u001b[43m \u001b[49m\u001b[38;5;241;43m*\u001b[39;49m\u001b[38;5;241;43m*\u001b[39;49m\u001b[43mkwargs\u001b[49m\u001b[43m)\u001b[49m\n",
      "File \u001b[0;32m~/anaconda3/envs/pytorch_p310/lib/python3.10/site-packages/pandas/core/frame.py:5399\u001b[0m, in \u001b[0;36mDataFrame.drop\u001b[0;34m(self, labels, axis, index, columns, level, inplace, errors)\u001b[0m\n\u001b[1;32m   5251\u001b[0m \u001b[38;5;129m@deprecate_nonkeyword_arguments\u001b[39m(version\u001b[38;5;241m=\u001b[39m\u001b[38;5;28;01mNone\u001b[39;00m, allowed_args\u001b[38;5;241m=\u001b[39m[\u001b[38;5;124m\"\u001b[39m\u001b[38;5;124mself\u001b[39m\u001b[38;5;124m\"\u001b[39m, \u001b[38;5;124m\"\u001b[39m\u001b[38;5;124mlabels\u001b[39m\u001b[38;5;124m\"\u001b[39m])\n\u001b[1;32m   5252\u001b[0m \u001b[38;5;28;01mdef\u001b[39;00m \u001b[38;5;21mdrop\u001b[39m(  \u001b[38;5;66;03m# type: ignore[override]\u001b[39;00m\n\u001b[1;32m   5253\u001b[0m     \u001b[38;5;28mself\u001b[39m,\n\u001b[0;32m   (...)\u001b[0m\n\u001b[1;32m   5260\u001b[0m     errors: IgnoreRaise \u001b[38;5;241m=\u001b[39m \u001b[38;5;124m\"\u001b[39m\u001b[38;5;124mraise\u001b[39m\u001b[38;5;124m\"\u001b[39m,\n\u001b[1;32m   5261\u001b[0m ) \u001b[38;5;241m-\u001b[39m\u001b[38;5;241m>\u001b[39m DataFrame \u001b[38;5;241m|\u001b[39m \u001b[38;5;28;01mNone\u001b[39;00m:\n\u001b[1;32m   5262\u001b[0m \u001b[38;5;250m    \u001b[39m\u001b[38;5;124;03m\"\"\"\u001b[39;00m\n\u001b[1;32m   5263\u001b[0m \u001b[38;5;124;03m    Drop specified labels from rows or columns.\u001b[39;00m\n\u001b[1;32m   5264\u001b[0m \n\u001b[0;32m   (...)\u001b[0m\n\u001b[1;32m   5397\u001b[0m \u001b[38;5;124;03m            weight  1.0     0.8\u001b[39;00m\n\u001b[1;32m   5398\u001b[0m \u001b[38;5;124;03m    \"\"\"\u001b[39;00m\n\u001b[0;32m-> 5399\u001b[0m     \u001b[38;5;28;01mreturn\u001b[39;00m \u001b[38;5;28;43msuper\u001b[39;49m\u001b[43m(\u001b[49m\u001b[43m)\u001b[49m\u001b[38;5;241;43m.\u001b[39;49m\u001b[43mdrop\u001b[49m\u001b[43m(\u001b[49m\n\u001b[1;32m   5400\u001b[0m \u001b[43m        \u001b[49m\u001b[43mlabels\u001b[49m\u001b[38;5;241;43m=\u001b[39;49m\u001b[43mlabels\u001b[49m\u001b[43m,\u001b[49m\n\u001b[1;32m   5401\u001b[0m \u001b[43m        \u001b[49m\u001b[43maxis\u001b[49m\u001b[38;5;241;43m=\u001b[39;49m\u001b[43maxis\u001b[49m\u001b[43m,\u001b[49m\n\u001b[1;32m   5402\u001b[0m \u001b[43m        \u001b[49m\u001b[43mindex\u001b[49m\u001b[38;5;241;43m=\u001b[39;49m\u001b[43mindex\u001b[49m\u001b[43m,\u001b[49m\n\u001b[1;32m   5403\u001b[0m \u001b[43m        \u001b[49m\u001b[43mcolumns\u001b[49m\u001b[38;5;241;43m=\u001b[39;49m\u001b[43mcolumns\u001b[49m\u001b[43m,\u001b[49m\n\u001b[1;32m   5404\u001b[0m \u001b[43m        \u001b[49m\u001b[43mlevel\u001b[49m\u001b[38;5;241;43m=\u001b[39;49m\u001b[43mlevel\u001b[49m\u001b[43m,\u001b[49m\n\u001b[1;32m   5405\u001b[0m \u001b[43m        \u001b[49m\u001b[43minplace\u001b[49m\u001b[38;5;241;43m=\u001b[39;49m\u001b[43minplace\u001b[49m\u001b[43m,\u001b[49m\n\u001b[1;32m   5406\u001b[0m \u001b[43m        \u001b[49m\u001b[43merrors\u001b[49m\u001b[38;5;241;43m=\u001b[39;49m\u001b[43merrors\u001b[49m\u001b[43m,\u001b[49m\n\u001b[1;32m   5407\u001b[0m \u001b[43m    \u001b[49m\u001b[43m)\u001b[49m\n",
      "File \u001b[0;32m~/anaconda3/envs/pytorch_p310/lib/python3.10/site-packages/pandas/util/_decorators.py:331\u001b[0m, in \u001b[0;36mdeprecate_nonkeyword_arguments.<locals>.decorate.<locals>.wrapper\u001b[0;34m(*args, **kwargs)\u001b[0m\n\u001b[1;32m    325\u001b[0m \u001b[38;5;28;01mif\u001b[39;00m \u001b[38;5;28mlen\u001b[39m(args) \u001b[38;5;241m>\u001b[39m num_allow_args:\n\u001b[1;32m    326\u001b[0m     warnings\u001b[38;5;241m.\u001b[39mwarn(\n\u001b[1;32m    327\u001b[0m         msg\u001b[38;5;241m.\u001b[39mformat(arguments\u001b[38;5;241m=\u001b[39m_format_argument_list(allow_args)),\n\u001b[1;32m    328\u001b[0m         \u001b[38;5;167;01mFutureWarning\u001b[39;00m,\n\u001b[1;32m    329\u001b[0m         stacklevel\u001b[38;5;241m=\u001b[39mfind_stack_level(),\n\u001b[1;32m    330\u001b[0m     )\n\u001b[0;32m--> 331\u001b[0m \u001b[38;5;28;01mreturn\u001b[39;00m \u001b[43mfunc\u001b[49m\u001b[43m(\u001b[49m\u001b[38;5;241;43m*\u001b[39;49m\u001b[43margs\u001b[49m\u001b[43m,\u001b[49m\u001b[43m \u001b[49m\u001b[38;5;241;43m*\u001b[39;49m\u001b[38;5;241;43m*\u001b[39;49m\u001b[43mkwargs\u001b[49m\u001b[43m)\u001b[49m\n",
      "File \u001b[0;32m~/anaconda3/envs/pytorch_p310/lib/python3.10/site-packages/pandas/core/generic.py:4505\u001b[0m, in \u001b[0;36mNDFrame.drop\u001b[0;34m(self, labels, axis, index, columns, level, inplace, errors)\u001b[0m\n\u001b[1;32m   4503\u001b[0m \u001b[38;5;28;01mfor\u001b[39;00m axis, labels \u001b[38;5;129;01min\u001b[39;00m axes\u001b[38;5;241m.\u001b[39mitems():\n\u001b[1;32m   4504\u001b[0m     \u001b[38;5;28;01mif\u001b[39;00m labels \u001b[38;5;129;01mis\u001b[39;00m \u001b[38;5;129;01mnot\u001b[39;00m \u001b[38;5;28;01mNone\u001b[39;00m:\n\u001b[0;32m-> 4505\u001b[0m         obj \u001b[38;5;241m=\u001b[39m \u001b[43mobj\u001b[49m\u001b[38;5;241;43m.\u001b[39;49m\u001b[43m_drop_axis\u001b[49m\u001b[43m(\u001b[49m\u001b[43mlabels\u001b[49m\u001b[43m,\u001b[49m\u001b[43m \u001b[49m\u001b[43maxis\u001b[49m\u001b[43m,\u001b[49m\u001b[43m \u001b[49m\u001b[43mlevel\u001b[49m\u001b[38;5;241;43m=\u001b[39;49m\u001b[43mlevel\u001b[49m\u001b[43m,\u001b[49m\u001b[43m \u001b[49m\u001b[43merrors\u001b[49m\u001b[38;5;241;43m=\u001b[39;49m\u001b[43merrors\u001b[49m\u001b[43m)\u001b[49m\n\u001b[1;32m   4507\u001b[0m \u001b[38;5;28;01mif\u001b[39;00m inplace:\n\u001b[1;32m   4508\u001b[0m     \u001b[38;5;28mself\u001b[39m\u001b[38;5;241m.\u001b[39m_update_inplace(obj)\n",
      "File \u001b[0;32m~/anaconda3/envs/pytorch_p310/lib/python3.10/site-packages/pandas/core/generic.py:4546\u001b[0m, in \u001b[0;36mNDFrame._drop_axis\u001b[0;34m(self, labels, axis, level, errors, only_slice)\u001b[0m\n\u001b[1;32m   4544\u001b[0m         new_axis \u001b[38;5;241m=\u001b[39m axis\u001b[38;5;241m.\u001b[39mdrop(labels, level\u001b[38;5;241m=\u001b[39mlevel, errors\u001b[38;5;241m=\u001b[39merrors)\n\u001b[1;32m   4545\u001b[0m     \u001b[38;5;28;01melse\u001b[39;00m:\n\u001b[0;32m-> 4546\u001b[0m         new_axis \u001b[38;5;241m=\u001b[39m \u001b[43maxis\u001b[49m\u001b[38;5;241;43m.\u001b[39;49m\u001b[43mdrop\u001b[49m\u001b[43m(\u001b[49m\u001b[43mlabels\u001b[49m\u001b[43m,\u001b[49m\u001b[43m \u001b[49m\u001b[43merrors\u001b[49m\u001b[38;5;241;43m=\u001b[39;49m\u001b[43merrors\u001b[49m\u001b[43m)\u001b[49m\n\u001b[1;32m   4547\u001b[0m     indexer \u001b[38;5;241m=\u001b[39m axis\u001b[38;5;241m.\u001b[39mget_indexer(new_axis)\n\u001b[1;32m   4549\u001b[0m \u001b[38;5;66;03m# Case for non-unique axis\u001b[39;00m\n\u001b[1;32m   4550\u001b[0m \u001b[38;5;28;01melse\u001b[39;00m:\n",
      "File \u001b[0;32m~/anaconda3/envs/pytorch_p310/lib/python3.10/site-packages/pandas/core/indexes/base.py:6934\u001b[0m, in \u001b[0;36mIndex.drop\u001b[0;34m(self, labels, errors)\u001b[0m\n\u001b[1;32m   6932\u001b[0m \u001b[38;5;28;01mif\u001b[39;00m mask\u001b[38;5;241m.\u001b[39many():\n\u001b[1;32m   6933\u001b[0m     \u001b[38;5;28;01mif\u001b[39;00m errors \u001b[38;5;241m!=\u001b[39m \u001b[38;5;124m\"\u001b[39m\u001b[38;5;124mignore\u001b[39m\u001b[38;5;124m\"\u001b[39m:\n\u001b[0;32m-> 6934\u001b[0m         \u001b[38;5;28;01mraise\u001b[39;00m \u001b[38;5;167;01mKeyError\u001b[39;00m(\u001b[38;5;124mf\u001b[39m\u001b[38;5;124m\"\u001b[39m\u001b[38;5;132;01m{\u001b[39;00m\u001b[38;5;28mlist\u001b[39m(labels[mask])\u001b[38;5;132;01m}\u001b[39;00m\u001b[38;5;124m not found in axis\u001b[39m\u001b[38;5;124m\"\u001b[39m)\n\u001b[1;32m   6935\u001b[0m     indexer \u001b[38;5;241m=\u001b[39m indexer[\u001b[38;5;241m~\u001b[39mmask]\n\u001b[1;32m   6936\u001b[0m \u001b[38;5;28;01mreturn\u001b[39;00m \u001b[38;5;28mself\u001b[39m\u001b[38;5;241m.\u001b[39mdelete(indexer)\n",
      "\u001b[0;31mKeyError\u001b[0m: \"['GarageArea'] not found in axis\""
     ]
    }
   ],
   "source": [
    "train_df = train_df.drop(\"GarageArea\", axis = 1)\n",
    "test_df = test_df.drop(\"GarageArea\", axis = 1)"
   ]
  },
  {
   "cell_type": "markdown",
   "metadata": {},
   "source": [
    "## Utilities Featutes\n"
   ]
  },
  {
   "cell_type": "code",
   "execution_count": 46,
   "metadata": {
    "ExecuteTime": {
     "end_time": "2023-08-26T20:08:50.828362Z",
     "start_time": "2023-08-26T20:08:50.816917Z"
    },
    "collapsed": false,
    "jupyter": {
     "outputs_hidden": false
    },
    "tags": []
   },
   "outputs": [],
   "source": [
    "utilities_features = [\"Electrical\", \"Utilities\", \"Fireplaces\", \"FireplaceQu\", \"Heating\", \"HeatingQC\", \"CentralAir\"]\n"
   ]
  },
  {
   "cell_type": "code",
   "execution_count": 47,
   "metadata": {
    "ExecuteTime": {
     "end_time": "2023-08-26T20:09:54.905814Z",
     "start_time": "2023-08-26T20:09:54.860674Z"
    },
    "collapsed": false,
    "jupyter": {
     "outputs_hidden": false
    },
    "tags": []
   },
   "outputs": [
    {
     "name": "stdout",
     "output_type": "stream",
     "text": [
      "<class 'pandas.core.frame.DataFrame'>\n",
      "RangeIndex: 1460 entries, 0 to 1459\n",
      "Data columns (total 7 columns):\n",
      " #   Column       Non-Null Count  Dtype \n",
      "---  ------       --------------  ----- \n",
      " 0   Electrical   1459 non-null   object\n",
      " 1   Utilities    1460 non-null   object\n",
      " 2   Fireplaces   1460 non-null   int64 \n",
      " 3   FireplaceQu  770 non-null    object\n",
      " 4   Heating      1460 non-null   object\n",
      " 5   HeatingQC    1460 non-null   object\n",
      " 6   CentralAir   1460 non-null   object\n",
      "dtypes: int64(1), object(6)\n",
      "memory usage: 80.0+ KB\n"
     ]
    }
   ],
   "source": [
    "utilities_features_df = train_df[utilities_features]\n",
    "utilities_features_df.info()"
   ]
  },
  {
   "cell_type": "markdown",
   "metadata": {},
   "source": [
    "Fireplace quality feature (FireplaceQu) reflect a magnitude. However, it have a non-numerical value. We can convert it to numerical values reflecing values increasing from 0 (no fireplace) to 5 (fireplace in excellent condition)."
   ]
  },
  {
   "cell_type": "code",
   "execution_count": 48,
   "metadata": {
    "ExecuteTime": {
     "end_time": "2023-08-26T20:13:30.046458Z",
     "start_time": "2023-08-26T20:13:30.013019Z"
    },
    "collapsed": false,
    "jupyter": {
     "outputs_hidden": false
    },
    "tags": []
   },
   "outputs": [],
   "source": [
    "fireplace_quality = {\n",
    "    \"Ex\": 5, # Excellent - Exceptional Masonry Fireplace\n",
    "    \"Gd\": 4, # Good - Masonry Fireplace in main level\n",
    "    \"TA\": 3, # Average - Prefabricated Fireplace in main living area or Masonry Fireplace in basement\n",
    "    \"Fa\": 2, # Fair - Prefabricated Fireplace in basement\n",
    "    \"Po\": 1, # Poor - Ben Franklin Stove\n",
    "    \"NA\": 0  # No Fireplace\n",
    "}\n",
    "train_df.replace(\n",
    "    {\n",
    "        \"FireplaceQu\": fireplace_quality,\n",
    "    },\n",
    "    inplace=True,\n",
    ")\n",
    "\n",
    "test_df.replace(\n",
    "    {\n",
    "        \"FireplaceQu\": fireplace_quality,\n",
    "    },\n",
    "    inplace=True,\n",
    ")"
   ]
  },
  {
   "cell_type": "markdown",
   "metadata": {},
   "source": [
    "The features \"Electrical\", \"Utilities\", \"Heating\", \"HeatingQC\" and \"CentralAir\" will be discarded as they don't manifest a normal distribution. For example all entries have Utilities except 1 as \"AllPubl\" (All public Utilities)"
   ]
  },
  {
   "cell_type": "code",
   "execution_count": 49,
   "metadata": {
    "ExecuteTime": {
     "end_time": "2023-08-26T20:15:31.686993Z",
     "start_time": "2023-08-26T20:15:31.639691Z"
    },
    "collapsed": false,
    "jupyter": {
     "outputs_hidden": false
    },
    "tags": []
   },
   "outputs": [],
   "source": [
    "train_df = train_df.drop(\"Electrical\", axis=1)\n",
    "test_df = test_df.drop(\"Electrical\", axis=1)\n"
   ]
  },
  {
   "cell_type": "code",
   "execution_count": 50,
   "metadata": {
    "ExecuteTime": {
     "end_time": "2023-08-26T20:15:39.206765Z",
     "start_time": "2023-08-26T20:15:39.156325Z"
    },
    "collapsed": false,
    "jupyter": {
     "outputs_hidden": false
    },
    "tags": []
   },
   "outputs": [],
   "source": [
    "train_df = train_df.drop(\"Utilities\", axis = 1)\n",
    "test_df = test_df.drop(\"Utilities\", axis = 1)"
   ]
  },
  {
   "cell_type": "code",
   "execution_count": 51,
   "metadata": {
    "ExecuteTime": {
     "end_time": "2023-08-26T20:15:47.271073Z",
     "start_time": "2023-08-26T20:15:47.237837Z"
    },
    "collapsed": false,
    "jupyter": {
     "outputs_hidden": false
    },
    "tags": []
   },
   "outputs": [],
   "source": [
    "train_df = train_df.drop(\"Heating\", axis = 1)\n",
    "test_df = test_df.drop(\"Heating\", axis = 1)"
   ]
  },
  {
   "cell_type": "code",
   "execution_count": 52,
   "metadata": {
    "ExecuteTime": {
     "end_time": "2023-08-26T20:15:55.027652Z",
     "start_time": "2023-08-26T20:15:54.979819Z"
    },
    "collapsed": false,
    "jupyter": {
     "outputs_hidden": false
    },
    "tags": []
   },
   "outputs": [],
   "source": [
    "train_df = train_df.drop(\"HeatingQC\", axis = 1)\n",
    "test_df = test_df.drop(\"HeatingQC\", axis = 1)"
   ]
  },
  {
   "cell_type": "code",
   "execution_count": 53,
   "metadata": {
    "ExecuteTime": {
     "end_time": "2023-08-26T20:16:04.016678Z",
     "start_time": "2023-08-26T20:16:03.973543Z"
    },
    "collapsed": false,
    "jupyter": {
     "outputs_hidden": false
    },
    "tags": []
   },
   "outputs": [],
   "source": [
    "train_df = train_df.drop(\"CentralAir\", axis = 1)\n",
    "test_df = test_df.drop(\"CentralAir\", axis = 1)"
   ]
  },
  {
   "cell_type": "markdown",
   "metadata": {},
   "source": [
    "## Kitchen Features"
   ]
  },
  {
   "cell_type": "code",
   "execution_count": 54,
   "metadata": {
    "ExecuteTime": {
     "end_time": "2023-08-26T20:17:41.361396Z",
     "start_time": "2023-08-26T20:17:41.322361Z"
    },
    "collapsed": false,
    "jupyter": {
     "outputs_hidden": false
    },
    "tags": []
   },
   "outputs": [],
   "source": [
    "kitchen_features = [\"KitchenAbvGr\", \"KitchenQual\"]"
   ]
  },
  {
   "cell_type": "markdown",
   "metadata": {},
   "source": [
    "My feeling is that the kitchen quality matters more in influencing the sales price of the house. Most houses will have 1 kitchen. Indeed, from the collected data only 4% of the houses have 2 kitchens, 1 house has no kitchen and 2 houses have 3 kitchens. It is safe to discard this feature as it doesn't add value to the sales prediction."
   ]
  },
  {
   "cell_type": "code",
   "execution_count": 55,
   "metadata": {
    "ExecuteTime": {
     "end_time": "2023-08-26T20:18:36.885318Z",
     "start_time": "2023-08-26T20:18:36.829917Z"
    },
    "collapsed": false,
    "jupyter": {
     "outputs_hidden": false
    },
    "tags": []
   },
   "outputs": [
    {
     "data": {
      "text/plain": [
       "1    1392\n",
       "2      65\n",
       "3       2\n",
       "0       1\n",
       "Name: KitchenAbvGr, dtype: int64"
      ]
     },
     "execution_count": 55,
     "metadata": {},
     "output_type": "execute_result"
    }
   ],
   "source": [
    "train_df[\"KitchenAbvGr\"].value_counts()\n"
   ]
  },
  {
   "cell_type": "code",
   "execution_count": 56,
   "metadata": {
    "ExecuteTime": {
     "end_time": "2023-08-26T20:18:53.758769Z",
     "start_time": "2023-08-26T20:18:53.696027Z"
    },
    "collapsed": false,
    "jupyter": {
     "outputs_hidden": false
    },
    "tags": []
   },
   "outputs": [],
   "source": [
    "train_df = train_df.drop(\"KitchenAbvGr\", axis = 1)\n",
    "test_df = test_df.drop(\"KitchenAbvGr\", axis = 1)"
   ]
  },
  {
   "cell_type": "markdown",
   "metadata": {},
   "source": [
    "The feature \"KitchenQual\" can be transformed to a numerical value as it reflect a magnitude.\n"
   ]
  },
  {
   "cell_type": "code",
   "execution_count": 57,
   "metadata": {
    "ExecuteTime": {
     "end_time": "2023-08-26T20:19:23.614329Z",
     "start_time": "2023-08-26T20:19:23.566849Z"
    },
    "collapsed": false,
    "jupyter": {
     "outputs_hidden": false
    },
    "tags": []
   },
   "outputs": [],
   "source": [
    "kitchen_quality = {\n",
    "    \"Ex\": 5, # Excellent - Exceptional Masonry Fireplace\n",
    "    \"Gd\": 4, # Good - Masonry Fireplace in main level\n",
    "    \"TA\": 3, # Average - Prefabricated Fireplace in main living area or Masonry Fireplace in basement\n",
    "    \"Fa\": 2, # Fair - Prefabricated Fireplace in basement\n",
    "    \"Po\": 1, # Poor - Ben Franklin Stove\n",
    "}\n",
    "\n",
    "train_df.replace(\n",
    "    {\n",
    "        \"KitchenQual\": kitchen_quality,\n",
    "    },\n",
    "    inplace=True,\n",
    ")\n",
    "test_df.replace(\n",
    "    {\n",
    "        \"KitchenQual\": kitchen_quality,\n",
    "    },\n",
    "    inplace=True,\n",
    ")"
   ]
  },
  {
   "cell_type": "markdown",
   "metadata": {},
   "source": [
    "## Pool Features\n",
    "\n",
    "From the home sales data only 7 houses out of 1460 have a swimming pool. We can safely discard pool featured as it doesn't add value to the sales price prediction."
   ]
  },
  {
   "cell_type": "code",
   "execution_count": 58,
   "metadata": {
    "ExecuteTime": {
     "end_time": "2023-08-26T20:24:06.471905Z",
     "start_time": "2023-08-26T20:24:06.411310Z"
    },
    "collapsed": false,
    "jupyter": {
     "outputs_hidden": false
    },
    "tags": []
   },
   "outputs": [
    {
     "data": {
      "text/plain": [
       "0      1453\n",
       "512       1\n",
       "648       1\n",
       "576       1\n",
       "555       1\n",
       "480       1\n",
       "519       1\n",
       "738       1\n",
       "Name: PoolArea, dtype: int64"
      ]
     },
     "execution_count": 58,
     "metadata": {},
     "output_type": "execute_result"
    }
   ],
   "source": [
    "pool_features = [\"PoolArea\", \"PoolQC\"]\n",
    "train_df[\"PoolArea\"].value_counts()"
   ]
  },
  {
   "cell_type": "code",
   "execution_count": 59,
   "metadata": {
    "ExecuteTime": {
     "end_time": "2023-08-26T20:24:22.795159Z",
     "start_time": "2023-08-26T20:24:22.725502Z"
    },
    "collapsed": false,
    "jupyter": {
     "outputs_hidden": false
    },
    "tags": []
   },
   "outputs": [],
   "source": [
    "train_df = train_df.drop(\"PoolArea\", axis = 1)\n",
    "test_df = test_df.drop(\"PoolArea\", axis = 1)"
   ]
  },
  {
   "cell_type": "code",
   "execution_count": 60,
   "metadata": {
    "ExecuteTime": {
     "end_time": "2023-08-26T20:24:29.855827Z",
     "start_time": "2023-08-26T20:24:29.816372Z"
    },
    "collapsed": false,
    "jupyter": {
     "outputs_hidden": false
    },
    "tags": []
   },
   "outputs": [],
   "source": [
    "train_df = train_df.drop(\"PoolQC\", axis = 1)\n",
    "test_df = test_df.drop(\"PoolQC\", axis = 1)"
   ]
  },
  {
   "cell_type": "markdown",
   "metadata": {},
   "source": [
    "## Bathrooms Features\n"
   ]
  },
  {
   "cell_type": "markdown",
   "metadata": {},
   "source": [
    "I decided that half bath can be counted as full bath. As result, new features are created total_bathroom and total_basement_bathroom replacing FullBath, HalfBath, BsmtHalfBath and BsmtFullBath. I found this approach will simply the model whithout scarifying the precision of the prediction."
   ]
  },
  {
   "cell_type": "code",
   "execution_count": 61,
   "metadata": {
    "ExecuteTime": {
     "end_time": "2023-08-26T20:29:36.827961Z",
     "start_time": "2023-08-26T20:29:36.783744Z"
    },
    "collapsed": false,
    "jupyter": {
     "outputs_hidden": false
    },
    "tags": []
   },
   "outputs": [],
   "source": [
    "train_df[\"total_bathroom\"] =  train_df[\"FullBath\"] + train_df[\"HalfBath\"]\n",
    "train_df[\"total_basement_bathroom\"] =  train_df[\"BsmtHalfBath\"] + train_df[\"BsmtFullBath\"]\n",
    "\n",
    "test_df[\"total_bathroom\"] =  test_df[\"FullBath\"] + test_df[\"HalfBath\"]\n",
    "test_df[\"total_basement_bathroom\"] =  test_df[\"BsmtHalfBath\"] + test_df[\"BsmtFullBath\"]\n",
    "\n",
    "bathroom_features = [\"BsmtFullBath\", \"BsmtHalfBath\", \"FullBath\", \"HalfBath\", \"total_bathroom\", \"total_basement_bathroom\"]"
   ]
  },
  {
   "cell_type": "code",
   "execution_count": 62,
   "metadata": {
    "ExecuteTime": {
     "end_time": "2023-08-26T20:29:46.435723Z",
     "start_time": "2023-08-26T20:29:46.157521Z"
    },
    "collapsed": false,
    "jupyter": {
     "outputs_hidden": false
    },
    "tags": []
   },
   "outputs": [
    {
     "data": {
      "text/plain": [
       "<Axes: >"
      ]
     },
     "execution_count": 62,
     "metadata": {},
     "output_type": "execute_result"
    },
    {
     "data": {
      "image/png": "[encoded data removed]",
      "text/plain": [
       "<Figure size 2000x2000 with 2 Axes>"
      ]
     },
     "metadata": {},
     "output_type": "display_data"
    }
   ],
   "source": [
    "plt.figure(figsize=(20, 20))\n",
    "sns.heatmap(train_df[bathroom_features].corr())"
   ]
  },
  {
   "cell_type": "markdown",
   "metadata": {},
   "source": [
    "We can conclude from that decision to introduce the new features: total_bathroom and total_basement_bathroom was right since the graph above clearly shows a correlation between: FullBath and total_bathroom and between BsmtFullBath and total_basement_bathroom and also between HalfBath and total_bathroom and BsmtHalfBath and total_basement_bathroom ."
   ]
  },
  {
   "cell_type": "code",
   "execution_count": 63,
   "metadata": {
    "ExecuteTime": {
     "end_time": "2023-08-26T20:35:09.520683Z",
     "start_time": "2023-08-26T20:35:09.467998Z"
    },
    "collapsed": false,
    "jupyter": {
     "outputs_hidden": false
    },
    "tags": []
   },
   "outputs": [],
   "source": [
    "train_df = train_df.drop(\"BsmtFullBath\", axis = 1)\n",
    "test_df = test_df.drop(\"BsmtFullBath\", axis = 1)\n",
    "train_df = train_df.drop(\"BsmtHalfBath\", axis = 1)\n",
    "test_df = test_df.drop(\"BsmtHalfBath\", axis = 1)\n",
    "train_df = train_df.drop(\"FullBath\", axis = 1)\n",
    "test_df = test_df.drop(\"FullBath\", axis = 1)\n",
    "train_df = train_df.drop(\"HalfBath\", axis = 1)\n",
    "test_df = test_df.drop(\"HalfBath\", axis = 1)"
   ]
  },
  {
   "cell_type": "markdown",
   "metadata": {},
   "source": [
    "## Home Type features\n"
   ]
  },
  {
   "cell_type": "markdown",
   "metadata": {},
   "source": [
    "The building type fearture (\"BldgType\") and House Style feature (\"HouseStyle\") can be converted to numerical category as it reflect a magnitude."
   ]
  },
  {
   "cell_type": "code",
   "execution_count": 64,
   "metadata": {
    "ExecuteTime": {
     "end_time": "2023-08-26T20:46:58.406020Z",
     "start_time": "2023-08-26T20:46:58.397205Z"
    },
    "collapsed": false,
    "jupyter": {
     "outputs_hidden": false
    },
    "tags": []
   },
   "outputs": [],
   "source": [
    "BldgType = {\n",
    "    \"1Fam\" : 1, #\tSingle-family Detached\n",
    "    \"2FmCon\" : 2,\t# Two-family Conversion; originally built as one-family dwelling\n",
    "    \"2fmCon\" : 2,\t# Two-family Conversion; originally built as one-family dwelling\n",
    "    \"Duplx\" : 3, \t# Duplex\n",
    "    \"Duplex\" : 3, \t# Duplex\n",
    "    \"TwnhsE\" : 4,\t# Townhouse End Unit\n",
    "    \"Twnhs\" : 4,\t# Townhouse End Unit\n",
    "    \"TwnhsI\" : 5\t# Townhouse Inside Unit\n",
    "}\n",
    "\n",
    "HouseStyle = {\n",
    "    \"1Story\" : 1,  #\tOne story\n",
    "    \"1.5Unf\" :\t2, #, # One and one-half story: 2nd level unfinished\n",
    "    \"1.5Fin\" :\t3, # One and one-half story: 2nd level finished\n",
    "    \"2Story\" : 4, #\tTwo story\n",
    "    \"2.5Unf\" :\t5, # Two and one-half story: 2nd level unfinished\n",
    "    \"2.5Fin\" : 6, #\tTwo and one-half story: 2nd level finished\n",
    "    \"SFoyer\" : 7, #\tSplit Foyer\n",
    "    \"SLvl\"\t: 8  # Split Level\n",
    "}\n",
    "\n",
    "train_df.replace(\n",
    "    {\n",
    "        \"BldgType\": BldgType,\n",
    "    },\n",
    "    inplace=True,\n",
    ")\n",
    "\n",
    "test_df.replace(\n",
    "    {\n",
    "        \"BldgType\": BldgType,\n",
    "    },\n",
    "    inplace=True,\n",
    ")\n",
    "\n",
    "train_df.replace(\n",
    "    {\n",
    "        \"HouseStyle\": HouseStyle,\n",
    "    },\n",
    "    inplace=True,\n",
    ")\n",
    "\n",
    "test_df.replace(\n",
    "    {\n",
    "        \"HouseStyle\": HouseStyle,\n",
    "    },\n",
    "    inplace=True,\n",
    ")\n",
    "home_type_features = [\"BldgType\", \"HouseStyle\", \"MSSubClass\"]"
   ]
  },
  {
   "cell_type": "code",
   "execution_count": 65,
   "metadata": {
    "ExecuteTime": {
     "end_time": "2023-08-26T20:47:11.883599Z",
     "start_time": "2023-08-26T20:47:11.464637Z"
    },
    "collapsed": false,
    "jupyter": {
     "outputs_hidden": false
    },
    "tags": []
   },
   "outputs": [
    {
     "data": {
      "text/plain": [
       "<Axes: >"
      ]
     },
     "execution_count": 65,
     "metadata": {},
     "output_type": "execute_result"
    },
    {
     "data": {
      "image/png": "[encoded data removed]",
      "text/plain": [
       "<Figure size 2000x2000 with 2 Axes>"
      ]
     },
     "metadata": {},
     "output_type": "display_data"
    }
   ],
   "source": [
    "plt.figure(figsize=(20, 20))\n",
    "sns.heatmap(train_df[home_type_features].corr())"
   ]
  },
  {
   "cell_type": "markdown",
   "metadata": {},
   "source": [
    "From the graph above, we can clearly see that  MSSubClass correlate with BldgType. The feature MSSubClass can be discarded.\n"
   ]
  },
  {
   "cell_type": "code",
   "execution_count": 66,
   "metadata": {
    "ExecuteTime": {
     "end_time": "2023-08-26T20:48:49.503656Z",
     "start_time": "2023-08-26T20:48:49.468686Z"
    },
    "collapsed": false,
    "jupyter": {
     "outputs_hidden": false
    },
    "tags": []
   },
   "outputs": [],
   "source": [
    "train_df = train_df.drop(\"MSSubClass\", axis = 1)\n",
    "test_df = test_df.drop(\"MSSubClass\", axis = 1)"
   ]
  },
  {
   "cell_type": "markdown",
   "metadata": {},
   "source": [
    "## Feature : Neighborhood"
   ]
  },
  {
   "cell_type": "markdown",
   "metadata": {},
   "source": [
    "I decided to have special treatment for the feature: Neighborhood. It is known that Neighborhood is known to have direct influence on the house price. Usually, people are more attracted to safe Neighborhood with good school ranking. However, the data at our hand doesn't record the ranking of a given neighborhood so we can't use a numeric value to denote a magnitude (i.e.: from pool to rich neighborhood, or dangerous to extremely safe neighborhood). Also, the Neighborhood is defined as a non-numerical category. In this scenario, one hot encoding will be at our rescue. There are 34 Neighborhood. The feature Neighborhood will be replaced with 34 new Boolean features where each feature. This has to downsize of adding performance overhead to the prediction model, but we can't just ignore this feature as it has significant impact on the price."
   ]
  },
  {
   "cell_type": "code",
   "execution_count": 67,
   "metadata": {
    "ExecuteTime": {
     "end_time": "2023-08-26T21:01:33.449589Z",
     "start_time": "2023-08-26T21:01:33.433605Z"
    },
    "collapsed": false,
    "jupyter": {
     "outputs_hidden": false
    },
    "tags": []
   },
   "outputs": [],
   "source": [
    "train_df = pd.get_dummies(train_df, columns=[\"Neighborhood\"], prefix=\"Neighborhood\")\n"
   ]
  },
  {
   "cell_type": "code",
   "execution_count": 68,
   "metadata": {
    "ExecuteTime": {
     "end_time": "2023-08-26T21:01:40.004589Z",
     "start_time": "2023-08-26T21:01:39.958469Z"
    },
    "collapsed": false,
    "jupyter": {
     "outputs_hidden": false
    },
    "tags": []
   },
   "outputs": [],
   "source": [
    "test_df = pd.get_dummies(test_df, columns=[\"Neighborhood\"], prefix=\"Neighborhood\")\n"
   ]
  },
  {
   "cell_type": "code",
   "execution_count": 69,
   "metadata": {
    "ExecuteTime": {
     "end_time": "2023-08-26T21:01:46.567765Z",
     "start_time": "2023-08-26T21:01:46.529889Z"
    },
    "collapsed": false,
    "jupyter": {
     "outputs_hidden": false
    },
    "tags": []
   },
   "outputs": [
    {
     "name": "stdout",
     "output_type": "stream",
     "text": [
      "<class 'pandas.core.frame.DataFrame'>\n",
      "RangeIndex: 1460 entries, 0 to 1459\n",
      "Data columns (total 75 columns):\n",
      " #   Column                   Non-Null Count  Dtype  \n",
      "---  ------                   --------------  -----  \n",
      " 0   Id                       1460 non-null   int64  \n",
      " 1   LotFrontage              1201 non-null   float64\n",
      " 2   LotArea                  1460 non-null   int64  \n",
      " 3   Street                   1460 non-null   object \n",
      " 4   Alley                    91 non-null     object \n",
      " 5   LotShape                 1460 non-null   int64  \n",
      " 6   LandContour              1460 non-null   int64  \n",
      " 7   LotConfig                1460 non-null   int64  \n",
      " 8   LandSlope                1460 non-null   int64  \n",
      " 9   BldgType                 1460 non-null   int64  \n",
      " 10  HouseStyle               1460 non-null   int64  \n",
      " 11  OverallQual              1460 non-null   int64  \n",
      " 12  OverallCond              1460 non-null   int64  \n",
      " 13  YearBuilt                1460 non-null   int64  \n",
      " 14  YearRemodAdd             1460 non-null   int64  \n",
      " 15  RoofStyle                1460 non-null   object \n",
      " 16  MasVnrType               1452 non-null   object \n",
      " 17  ExterQual                1460 non-null   int64  \n",
      " 18  ExterCond                1460 non-null   int64  \n",
      " 19  BsmtQual                 1460 non-null   float64\n",
      " 20  BsmtExposure             1460 non-null   float64\n",
      " 21  BsmtFinType1             1460 non-null   float64\n",
      " 22  BsmtUnfSF                1460 non-null   int64  \n",
      " 23  TotalBsmtSF              1460 non-null   int64  \n",
      " 24  LowQualFinSF             1460 non-null   int64  \n",
      " 25  GrLivArea                1460 non-null   int64  \n",
      " 26  KitchenQual              1460 non-null   int64  \n",
      " 27  TotRmsAbvGrd             1460 non-null   int64  \n",
      " 28  Functional               1460 non-null   object \n",
      " 29  Fireplaces               1460 non-null   int64  \n",
      " 30  FireplaceQu              770 non-null    float64\n",
      " 31  GarageType               1379 non-null   object \n",
      " 32  GarageYrBlt              1460 non-null   float64\n",
      " 33  GarageFinish             1460 non-null   int64  \n",
      " 34  GarageCars               1460 non-null   int64  \n",
      " 35  GarageQual               1460 non-null   int64  \n",
      " 36  GarageCond               1460 non-null   int64  \n",
      " 37  PavedDrive               1460 non-null   object \n",
      " 38  WoodDeckSF               1460 non-null   int64  \n",
      " 39  OpenPorchSF              1460 non-null   int64  \n",
      " 40  Fence                    281 non-null    object \n",
      " 41  MiscFeature              54 non-null     object \n",
      " 42  MiscVal                  1460 non-null   int64  \n",
      " 43  MoSold                   1460 non-null   int64  \n",
      " 44  YrSold                   1460 non-null   int64  \n",
      " 45  SaleType                 1460 non-null   object \n",
      " 46  SaleCondition            1460 non-null   object \n",
      " 47  SalePrice                1460 non-null   int64  \n",
      " 48  total_bathroom           1460 non-null   int64  \n",
      " 49  total_basement_bathroom  1460 non-null   int64  \n",
      " 50  Neighborhood_Blmngtn     1460 non-null   uint8  \n",
      " 51  Neighborhood_Blueste     1460 non-null   uint8  \n",
      " 52  Neighborhood_BrDale      1460 non-null   uint8  \n",
      " 53  Neighborhood_BrkSide     1460 non-null   uint8  \n",
      " 54  Neighborhood_ClearCr     1460 non-null   uint8  \n",
      " 55  Neighborhood_CollgCr     1460 non-null   uint8  \n",
      " 56  Neighborhood_Crawfor     1460 non-null   uint8  \n",
      " 57  Neighborhood_Edwards     1460 non-null   uint8  \n",
      " 58  Neighborhood_Gilbert     1460 non-null   uint8  \n",
      " 59  Neighborhood_IDOTRR      1460 non-null   uint8  \n",
      " 60  Neighborhood_MeadowV     1460 non-null   uint8  \n",
      " 61  Neighborhood_Mitchel     1460 non-null   uint8  \n",
      " 62  Neighborhood_NAmes       1460 non-null   uint8  \n",
      " 63  Neighborhood_NPkVill     1460 non-null   uint8  \n",
      " 64  Neighborhood_NWAmes      1460 non-null   uint8  \n",
      " 65  Neighborhood_NoRidge     1460 non-null   uint8  \n",
      " 66  Neighborhood_NridgHt     1460 non-null   uint8  \n",
      " 67  Neighborhood_OldTown     1460 non-null   uint8  \n",
      " 68  Neighborhood_SWISU       1460 non-null   uint8  \n",
      " 69  Neighborhood_Sawyer      1460 non-null   uint8  \n",
      " 70  Neighborhood_SawyerW     1460 non-null   uint8  \n",
      " 71  Neighborhood_Somerst     1460 non-null   uint8  \n",
      " 72  Neighborhood_StoneBr     1460 non-null   uint8  \n",
      " 73  Neighborhood_Timber      1460 non-null   uint8  \n",
      " 74  Neighborhood_Veenker     1460 non-null   uint8  \n",
      "dtypes: float64(6), int64(33), object(11), uint8(25)\n",
      "memory usage: 606.1+ KB\n"
     ]
    }
   ],
   "source": [
    "train_df.info()\n"
   ]
  },
  {
   "cell_type": "markdown",
   "metadata": {},
   "source": [
    "## Other Features"
   ]
  },
  {
   "cell_type": "markdown",
   "metadata": {},
   "source": [
    "For a seek of simplicity I decided to discard the following features as they seems not adding a significant value to the price prediction model based on the business domain in context (real estate)"
   ]
  },
  {
   "cell_type": "code",
   "execution_count": 70,
   "metadata": {
    "ExecuteTime": {
     "end_time": "2023-08-26T21:10:48.593015Z",
     "start_time": "2023-08-26T21:10:48.537023Z"
    },
    "collapsed": false,
    "jupyter": {
     "outputs_hidden": false
    },
    "tags": []
   },
   "outputs": [],
   "source": [
    "# to_be_dropped_features = [\"Id\", \"Street\", \"BsmtExposure\", \"ExterCond\", \"SaleCondition\", \"BsmtUnfSF\", \"BsmtExposure\", \"BsmtFinType1\", \"LandContour\", \"LandSlope\", \"LotConfig\", \"LotShape\", \"LotFrontage\", \"Fireplaces\", \"FireplaceQu\", \"Alley\", \"YearBuilt\" ,\"YearRemodAdd\" , \"RoofStyle\" , \"MasVnrType\",\"Functional\" , \"GarageType\" , \"GarageYrBlt\", \"GarageFinish\" , \"PavedDrive\" , \"WoodDeckSF\" , \"OpenPorchSF\" , \"Fence\" , \"GarageQual\", \"GarageCond\", \"MiscFeature\" , \"MiscVal\" , \"MoSold\" , \"YrSold\" , \"SaleType\"]\n",
    "\n",
    "# train_df = train_df.drop(to_be_dropped_features,  axis = 1)\n",
    "# test_df = test_df.drop(to_be_dropped_features,  axis = 1)\n",
    "\n",
    "#train_df = train_df.drop(\"SalePrice_log\",  axis = 1)\n",
    "train_df = train_df.drop(\"Id\",  axis = 1)"
   ]
  },
  {
   "cell_type": "code",
   "execution_count": 71,
   "metadata": {
    "tags": []
   },
   "outputs": [
    {
     "name": "stdout",
     "output_type": "stream",
     "text": [
      "<class 'pandas.core.frame.DataFrame'>\n",
      "RangeIndex: 1460 entries, 0 to 1459\n",
      "Data columns (total 74 columns):\n",
      " #   Column                   Non-Null Count  Dtype  \n",
      "---  ------                   --------------  -----  \n",
      " 0   LotFrontage              1201 non-null   float64\n",
      " 1   LotArea                  1460 non-null   int64  \n",
      " 2   Street                   1460 non-null   object \n",
      " 3   Alley                    91 non-null     object \n",
      " 4   LotShape                 1460 non-null   int64  \n",
      " 5   LandContour              1460 non-null   int64  \n",
      " 6   LotConfig                1460 non-null   int64  \n",
      " 7   LandSlope                1460 non-null   int64  \n",
      " 8   BldgType                 1460 non-null   int64  \n",
      " 9   HouseStyle               1460 non-null   int64  \n",
      " 10  OverallQual              1460 non-null   int64  \n",
      " 11  OverallCond              1460 non-null   int64  \n",
      " 12  YearBuilt                1460 non-null   int64  \n",
      " 13  YearRemodAdd             1460 non-null   int64  \n",
      " 14  RoofStyle                1460 non-null   object \n",
      " 15  MasVnrType               1452 non-null   object \n",
      " 16  ExterQual                1460 non-null   int64  \n",
      " 17  ExterCond                1460 non-null   int64  \n",
      " 18  BsmtQual                 1460 non-null   float64\n",
      " 19  BsmtExposure             1460 non-null   float64\n",
      " 20  BsmtFinType1             1460 non-null   float64\n",
      " 21  BsmtUnfSF                1460 non-null   int64  \n",
      " 22  TotalBsmtSF              1460 non-null   int64  \n",
      " 23  LowQualFinSF             1460 non-null   int64  \n",
      " 24  GrLivArea                1460 non-null   int64  \n",
      " 25  KitchenQual              1460 non-null   int64  \n",
      " 26  TotRmsAbvGrd             1460 non-null   int64  \n",
      " 27  Functional               1460 non-null   object \n",
      " 28  Fireplaces               1460 non-null   int64  \n",
      " 29  FireplaceQu              770 non-null    float64\n",
      " 30  GarageType               1379 non-null   object \n",
      " 31  GarageYrBlt              1460 non-null   float64\n",
      " 32  GarageFinish             1460 non-null   int64  \n",
      " 33  GarageCars               1460 non-null   int64  \n",
      " 34  GarageQual               1460 non-null   int64  \n",
      " 35  GarageCond               1460 non-null   int64  \n",
      " 36  PavedDrive               1460 non-null   object \n",
      " 37  WoodDeckSF               1460 non-null   int64  \n",
      " 38  OpenPorchSF              1460 non-null   int64  \n",
      " 39  Fence                    281 non-null    object \n",
      " 40  MiscFeature              54 non-null     object \n",
      " 41  MiscVal                  1460 non-null   int64  \n",
      " 42  MoSold                   1460 non-null   int64  \n",
      " 43  YrSold                   1460 non-null   int64  \n",
      " 44  SaleType                 1460 non-null   object \n",
      " 45  SaleCondition            1460 non-null   object \n",
      " 46  SalePrice                1460 non-null   int64  \n",
      " 47  total_bathroom           1460 non-null   int64  \n",
      " 48  total_basement_bathroom  1460 non-null   int64  \n",
      " 49  Neighborhood_Blmngtn     1460 non-null   uint8  \n",
      " 50  Neighborhood_Blueste     1460 non-null   uint8  \n",
      " 51  Neighborhood_BrDale      1460 non-null   uint8  \n",
      " 52  Neighborhood_BrkSide     1460 non-null   uint8  \n",
      " 53  Neighborhood_ClearCr     1460 non-null   uint8  \n",
      " 54  Neighborhood_CollgCr     1460 non-null   uint8  \n",
      " 55  Neighborhood_Crawfor     1460 non-null   uint8  \n",
      " 56  Neighborhood_Edwards     1460 non-null   uint8  \n",
      " 57  Neighborhood_Gilbert     1460 non-null   uint8  \n",
      " 58  Neighborhood_IDOTRR      1460 non-null   uint8  \n",
      " 59  Neighborhood_MeadowV     1460 non-null   uint8  \n",
      " 60  Neighborhood_Mitchel     1460 non-null   uint8  \n",
      " 61  Neighborhood_NAmes       1460 non-null   uint8  \n",
      " 62  Neighborhood_NPkVill     1460 non-null   uint8  \n",
      " 63  Neighborhood_NWAmes      1460 non-null   uint8  \n",
      " 64  Neighborhood_NoRidge     1460 non-null   uint8  \n",
      " 65  Neighborhood_NridgHt     1460 non-null   uint8  \n",
      " 66  Neighborhood_OldTown     1460 non-null   uint8  \n",
      " 67  Neighborhood_SWISU       1460 non-null   uint8  \n",
      " 68  Neighborhood_Sawyer      1460 non-null   uint8  \n",
      " 69  Neighborhood_SawyerW     1460 non-null   uint8  \n",
      " 70  Neighborhood_Somerst     1460 non-null   uint8  \n",
      " 71  Neighborhood_StoneBr     1460 non-null   uint8  \n",
      " 72  Neighborhood_Timber      1460 non-null   uint8  \n",
      " 73  Neighborhood_Veenker     1460 non-null   uint8  \n",
      "dtypes: float64(6), int64(32), object(11), uint8(25)\n",
      "memory usage: 594.7+ KB\n"
     ]
    }
   ],
   "source": [
    "train_df.info()"
   ]
  },
  {
   "cell_type": "code",
   "execution_count": 72,
   "metadata": {
    "ExecuteTime": {
     "end_time": "2023-08-26T21:10:55.718330Z",
     "start_time": "2023-08-26T21:10:55.661975Z"
    },
    "collapsed": false,
    "jupyter": {
     "outputs_hidden": false
    },
    "tags": []
   },
   "outputs": [
    {
     "name": "stdout",
     "output_type": "stream",
     "text": [
      "<class 'pandas.core.frame.DataFrame'>\n",
      "RangeIndex: 1460 entries, 0 to 1459\n",
      "Data columns (total 74 columns):\n",
      " #   Column                   Non-Null Count  Dtype  \n",
      "---  ------                   --------------  -----  \n",
      " 0   LotFrontage              1201 non-null   float64\n",
      " 1   LotArea                  1460 non-null   int64  \n",
      " 2   Street                   1460 non-null   object \n",
      " 3   Alley                    91 non-null     object \n",
      " 4   LotShape                 1460 non-null   int64  \n",
      " 5   LandContour              1460 non-null   int64  \n",
      " 6   LotConfig                1460 non-null   int64  \n",
      " 7   LandSlope                1460 non-null   int64  \n",
      " 8   BldgType                 1460 non-null   int64  \n",
      " 9   HouseStyle               1460 non-null   int64  \n",
      " 10  OverallQual              1460 non-null   int64  \n",
      " 11  OverallCond              1460 non-null   int64  \n",
      " 12  YearBuilt                1460 non-null   int64  \n",
      " 13  YearRemodAdd             1460 non-null   int64  \n",
      " 14  RoofStyle                1460 non-null   object \n",
      " 15  MasVnrType               1452 non-null   object \n",
      " 16  ExterQual                1460 non-null   int64  \n",
      " 17  ExterCond                1460 non-null   int64  \n",
      " 18  BsmtQual                 1460 non-null   float64\n",
      " 19  BsmtExposure             1460 non-null   float64\n",
      " 20  BsmtFinType1             1460 non-null   float64\n",
      " 21  BsmtUnfSF                1460 non-null   int64  \n",
      " 22  TotalBsmtSF              1460 non-null   int64  \n",
      " 23  LowQualFinSF             1460 non-null   int64  \n",
      " 24  GrLivArea                1460 non-null   int64  \n",
      " 25  KitchenQual              1460 non-null   int64  \n",
      " 26  TotRmsAbvGrd             1460 non-null   int64  \n",
      " 27  Functional               1460 non-null   object \n",
      " 28  Fireplaces               1460 non-null   int64  \n",
      " 29  FireplaceQu              770 non-null    float64\n",
      " 30  GarageType               1379 non-null   object \n",
      " 31  GarageYrBlt              1460 non-null   float64\n",
      " 32  GarageFinish             1460 non-null   int64  \n",
      " 33  GarageCars               1460 non-null   int64  \n",
      " 34  GarageQual               1460 non-null   int64  \n",
      " 35  GarageCond               1460 non-null   int64  \n",
      " 36  PavedDrive               1460 non-null   object \n",
      " 37  WoodDeckSF               1460 non-null   int64  \n",
      " 38  OpenPorchSF              1460 non-null   int64  \n",
      " 39  Fence                    281 non-null    object \n",
      " 40  MiscFeature              54 non-null     object \n",
      " 41  MiscVal                  1460 non-null   int64  \n",
      " 42  MoSold                   1460 non-null   int64  \n",
      " 43  YrSold                   1460 non-null   int64  \n",
      " 44  SaleType                 1460 non-null   object \n",
      " 45  SaleCondition            1460 non-null   object \n",
      " 46  SalePrice                1460 non-null   int64  \n",
      " 47  total_bathroom           1460 non-null   int64  \n",
      " 48  total_basement_bathroom  1460 non-null   int64  \n",
      " 49  Neighborhood_Blmngtn     1460 non-null   uint8  \n",
      " 50  Neighborhood_Blueste     1460 non-null   uint8  \n",
      " 51  Neighborhood_BrDale      1460 non-null   uint8  \n",
      " 52  Neighborhood_BrkSide     1460 non-null   uint8  \n",
      " 53  Neighborhood_ClearCr     1460 non-null   uint8  \n",
      " 54  Neighborhood_CollgCr     1460 non-null   uint8  \n",
      " 55  Neighborhood_Crawfor     1460 non-null   uint8  \n",
      " 56  Neighborhood_Edwards     1460 non-null   uint8  \n",
      " 57  Neighborhood_Gilbert     1460 non-null   uint8  \n",
      " 58  Neighborhood_IDOTRR      1460 non-null   uint8  \n",
      " 59  Neighborhood_MeadowV     1460 non-null   uint8  \n",
      " 60  Neighborhood_Mitchel     1460 non-null   uint8  \n",
      " 61  Neighborhood_NAmes       1460 non-null   uint8  \n",
      " 62  Neighborhood_NPkVill     1460 non-null   uint8  \n",
      " 63  Neighborhood_NWAmes      1460 non-null   uint8  \n",
      " 64  Neighborhood_NoRidge     1460 non-null   uint8  \n",
      " 65  Neighborhood_NridgHt     1460 non-null   uint8  \n",
      " 66  Neighborhood_OldTown     1460 non-null   uint8  \n",
      " 67  Neighborhood_SWISU       1460 non-null   uint8  \n",
      " 68  Neighborhood_Sawyer      1460 non-null   uint8  \n",
      " 69  Neighborhood_SawyerW     1460 non-null   uint8  \n",
      " 70  Neighborhood_Somerst     1460 non-null   uint8  \n",
      " 71  Neighborhood_StoneBr     1460 non-null   uint8  \n",
      " 72  Neighborhood_Timber      1460 non-null   uint8  \n",
      " 73  Neighborhood_Veenker     1460 non-null   uint8  \n",
      "dtypes: float64(6), int64(32), object(11), uint8(25)\n",
      "memory usage: 594.7+ KB\n"
     ]
    }
   ],
   "source": [
    "train_df.info()"
   ]
  },
  {
   "cell_type": "markdown",
   "metadata": {},
   "source": [
    "# Machine Learning Model Selection:\n",
    "\n",
    "- Decision Tree:  A tree algorithm used in machine learning to find patterns in data by learning decision rules.\n",
    "- Random Forest — A type of bagging method that plays on ‘the wisdom of crowds’ effect. It uses multiple independent decision trees in parallel to learn from data and aggregates their predictions for an outcome.\n",
    "    - Gradient Boosting Machines — A type of boosting method that uses a combination of decision tree in series. Each tree is used to predict and correct the errors by the preceding tree additively.\n",
    "\n",
    "Random forests and gradient boosting can significantly improve the quality of weak decision trees.\n",
    "They’re great algorithms to use if we  have small training data sets like in this case.\n",
    "\n",
    "#### Training:\n",
    "\n",
    "At this stage we will teach our model using examples from the dataset. In the training stage we will tune the model hyperparameter.\n",
    "Our goal at this stage if to find the optimal hyperparmater value that lower the model bias and model variance.\n",
    "\n",
    "- Model bias:\n",
    "Refers to models that under-fit the training data leading to poor predictive capacity on unseen data. Generally, the simpler the model the higher the bias.\n",
    "\n",
    "- Model variance:\n",
    "Refers to Models that over-fit the training data leading to poor predictive capacity on unseen data. Generally, the more complexity in the model the higher the variance.\n",
    "\n",
    "I plan to tune the following hyperparamaters:\n",
    "\n",
    "- max_depth — The maximum number of nodes for a given decision tree.\n",
    "- max_features — The size of the subset of features to consider for splitting at a node.\n",
    "- n_estimators — The number of trees used for boosting or aggregation. This hyperparameter only applies to the random forest and gradient boosting machines.\n",
    "- learning_rate — The learning rate acts to reduce the contribution of each tree. This only applies for gradient boosting machines.\n",
    "\n",
    "For better hyperparameter tuning (to ovoid over-fitting and model bias) I will use the following techniques:\n",
    "\n",
    "- Grid search: Choosing the range of your hyperparameters is an iterative process. With more experience you’ll begin to get a feel for what ranges to set. The good news is once you’ve chosen your possible hyperparameter ranges, grid search allows you to test the model at every combination of those ranges. I’ll talk more about this in the next section.\n",
    "- Cross validation: Models are trained with a 5-fold cross validation. A technique that takes the entirety of your training data, randomly splits it into train and validation data sets over 5 iterations.\n",
    "\n",
    "Both techniques above already implemented in AutoGluon libraries.\n",
    "\n",
    "#### Evaluation\n",
    "\n",
    "Model evaluation is an important aspect of this project because it helps us understand the model's performance, and provides a fundamental basis for presenting the model to stakeholders/audience. We will aim to establish a set of metrics upon which we can assess how colose is our prediction against the real value. We will use the following metrics:\n",
    "\n",
    "##### R Square score\n",
    "\n",
    "One of the metrics we would be using is the R Square score, which measures how much the variability in the dependent variable (i.e. targets, in this case the predicted property price) can be explained by the independent variable (i.e. predictors, in this case the set of property attributes). While the R Square score is a viable measure for judging how well the model fits the dependent variables, <b>it  does not account for cases of overfitting.</b> The latter effect is a syndrome of building a model with too many variables, resulting in it being overly complex. Such a model will predict well with seen data, but cope poorly with unseen data. From here on, we will refer to this metric as $R^2$ score.\n",
    "\n",
    "$R^2$ score should generally fall between 0 and 1, but is possible to be negative too for cases where the error generated is so great, it makes the model worst off then simply providing a mean of seen targets as a naive prediction.\n",
    "\n",
    "##### Root-Mean Squared Error score\n",
    "\n",
    "We begin by introducting Mean Squared Error, an absolute means to measure goodness of fit by computing the average of the summation of squared residuals. This metric would show how much the predcitions are deviating from the targets. \n",
    "\n",
    "We calculate the RMSE score with known targets and predictions made from the model. \n",
    "\n",
    "##### Root-Mean Squared Error Degradation score\n",
    "\n",
    "For intra-model evaluation, we measure the gap between train-set RMSE error (seen data) and test-set RMSE error (unseen data). Assuming the abscence of poor sampling that leads to test data being bias against the train data in terms of distribution, we typically measure the degree of decline of testing RMSE score against training RMSE score. If the gap is huge, it indicates overfitting as the model has memorised the training set, but unable to generalize to new data and just giving a higher RMSE score on the test-set. From here on, we will refer to this metric as RMSE Degradation score.\n",
    "\n",
    "We calculate the RMSE Degradation score by taking the percentage increase in RMSE score for test-set, using the train-set RMSE score as a reference. \n",
    "\n",
    "#### Process\n",
    "\n",
    "20% of our traing data will be used for the purpose of evaluating our model. Indeed, we want to test our model against unseen data so we can detect if there was overfiiting during the train process. \n",
    "\n",
    "4 models will be trained and evaluated and the one with the best scode and the lowest degradation score will selected. Our goal is to achive a score if at leat 0.2 and degradation score as low as 2%. This help us achieve accurate prediction for at leat 80% of the houses we predict. A low degradation score of 2% or less will ensure that our predictions are accurate on unseen data.\n",
    "\n",
    "##### Model 0\n",
    "this will basic model used as benchmark. the prediction of each house price will be the mean of all house prices in train set and validate set respectively. \n",
    "\n",
    "##### Model 1\n",
    "training run with default configuration and with all features.\n",
    "##### Model 2 \n",
    "training run with only important features. We will autogluon library to rank the featured from the previous tests and keep only important features.\n",
    "\n",
    "##### Model 3  \n",
    "training run with hyperparameter tuning\n",
    "\n",
    "We will calculate the the score for each model as well the RMSE(Root-Mean Squared Error Degradation score).\n",
    "We will then select best model that achive our goal.\n",
    "\n"
   ]
  },
  {
   "cell_type": "code",
   "execution_count": 75,
   "metadata": {
    "tags": []
   },
   "outputs": [],
   "source": [
    "import autogluon.core as ag\n",
    "import pandas as pd\n",
    "from autogluon.tabular import TabularPredictor"
   ]
  },
  {
   "cell_type": "markdown",
   "metadata": {},
   "source": [
    "For our testing we will use 80% of our training and we will leave 20% of the training data for the purpose of evaluation against our benchmark model.\n"
   ]
  },
  {
   "cell_type": "code",
   "execution_count": 76,
   "metadata": {
    "tags": []
   },
   "outputs": [],
   "source": [
    "from sklearn.model_selection import train_test_split\n",
    "\n",
    "train_df, validation_df  = train_test_split(train_df, test_size=0.2, random_state=1)\n"
   ]
  },
  {
   "cell_type": "markdown",
   "metadata": {},
   "source": [
    "### Model 0 (Used for benchmarking our models)"
   ]
  },
  {
   "cell_type": "markdown",
   "metadata": {},
   "source": [
    "Our base mode will be predicting the mean value of all price for each sale. For the sales in train data the prediction will be the mean value of all prices of train data. For the sales in validation data the prediction will be the mean value of all prices in validation data."
   ]
  },
  {
   "cell_type": "code",
   "execution_count": 80,
   "metadata": {
    "tags": []
   },
   "outputs": [
    {
     "name": "stdout",
     "output_type": "stream",
     "text": [
      "RMSE score (train data): 78063.26224\n",
      "RMSE score (test data): 84607.63135\n",
      "RMSE degradation on unseen data: 8.38%\n"
     ]
    }
   ],
   "source": [
    "from sklearn.metrics import mean_squared_error\n",
    "\n",
    "naive_mean_train_rmse = np.sqrt(mean_squared_error(train_df['SalePrice'], np.full(train_df['SalePrice'].shape, mean_price)))\n",
    "naive_mean_validation_rmse = np.sqrt(mean_squared_error(validation_df['SalePrice'], np.full(validation_df['SalePrice'].shape, mean_price)))\n",
    "\n",
    "print('RMSE score (train data): {}'.format(np.around(naive_mean_train_rmse, 5)))\n",
    "print('RMSE score (test data): {}'.format(np.around(naive_mean_validation_rmse, 5)))\n",
    "naive_mean_rmse_degradation = np.round((naive_mean_validation_rmse/naive_mean_train_rmse - 1)*100, 2)\n",
    "print('RMSE degradation on unseen data: {}%'.format(naive_mean_rmse_degradation))"
   ]
  },
  {
   "cell_type": "markdown",
   "metadata": {},
   "source": [
    "### Model 1 (default configuration)"
   ]
  },
  {
   "cell_type": "markdown",
   "metadata": {},
   "source": [
    "First Try: Saved in \"AutogluonModels/ag-20230904_201705/\""
   ]
  },
  {
   "cell_type": "code",
   "execution_count": 87,
   "metadata": {
    "collapsed": false,
    "jupyter": {
     "outputs_hidden": false
    },
    "tags": []
   },
   "outputs": [
    {
     "name": "stderr",
     "output_type": "stream",
     "text": [
      "No path specified. Models will be saved in: \"AutogluonModels/ag-20230904_201705/\"\n",
      "Presets specified: ['best_quality']\n",
      "Stack configuration (auto_stack=True): num_stack_levels=1, num_bag_folds=8, num_bag_sets=20\n",
      "Beginning AutoGluon training ... Time limit = 600s\n",
      "AutoGluon will save models to \"AutogluonModels/ag-20230904_201705/\"\n",
      "AutoGluon Version:  0.8.2\n",
      "Python Version:     3.10.12\n",
      "Operating System:   Linux\n",
      "Platform Machine:   x86_64\n",
      "Platform Version:   #1 SMP Tue Jun 27 21:48:55 UTC 2023\n",
      "Disk Space Avail:   1.90 GB / 5.13 GB (37.1%)\n",
      "\tWARNING: Available disk space is low and there is a risk that AutoGluon will run out of disk during fit, causing an exception. \n",
      "\tWe recommend a minimum available disk space of 10 GB, and large datasets may require more.\n",
      "Train Data Rows:    1168\n",
      "Train Data Columns: 73\n",
      "Label Column: SalePrice\n",
      "Preprocessing data ...\n",
      "AutoGluon infers your prediction problem is: 'regression' (because dtype of label-column == int and many unique label-values observed).\n",
      "\tLabel info (max, min, mean, stddev): (755000, 34900, 182208.34161, 78086.08439)\n",
      "\tIf 'regression' is not the correct problem_type, please manually specify the problem_type parameter during predictor init (You may specify problem_type as one of: ['binary', 'multiclass', 'regression'])\n",
      "Using Feature Generators to preprocess the data ...\n",
      "Fitting AutoMLPipelineFeatureGenerator...\n",
      "\tAvailable Memory:                    6179.99 MB\n",
      "\tTrain Data (Original)  Memory Usage: 1.06 MB (0.0% of available memory)\n",
      "\tInferring data type of each feature based on column values. Set feature_metadata_in to manually specify special dtypes of the features.\n",
      "\tStage 1 Generators:\n",
      "\t\tFitting AsTypeFeatureGenerator...\n",
      "\t\t\tNote: Converting 26 features to boolean dtype as they only contain 2 unique values.\n",
      "\tStage 2 Generators:\n",
      "\t\tFitting FillNaFeatureGenerator...\n",
      "\tStage 3 Generators:\n",
      "\t\tFitting IdentityFeatureGenerator...\n",
      "\t\tFitting CategoryFeatureGenerator...\n",
      "\t\t\tFitting CategoryMemoryMinimizeFeatureGenerator...\n",
      "\tStage 4 Generators:\n",
      "\t\tFitting DropUniqueFeatureGenerator...\n",
      "\tStage 5 Generators:\n",
      "\t\tFitting DropDuplicatesFeatureGenerator...\n",
      "\tTypes of features in original data (raw dtype, special dtypes):\n",
      "\t\t('float', [])  :  6 | ['LotFrontage', 'BsmtQual', 'BsmtExposure', 'BsmtFinType1', 'FireplaceQu', ...]\n",
      "\t\t('int', [])    : 56 | ['LotArea', 'LotShape', 'LandContour', 'LotConfig', 'LandSlope', ...]\n",
      "\t\t('object', []) : 11 | ['Street', 'Alley', 'RoofStyle', 'MasVnrType', 'Functional', ...]\n",
      "\tTypes of features in processed data (raw dtype, special dtypes):\n",
      "\t\t('category', [])  : 10 | ['Alley', 'RoofStyle', 'MasVnrType', 'Functional', 'GarageType', ...]\n",
      "\t\t('float', [])     :  6 | ['LotFrontage', 'BsmtQual', 'BsmtExposure', 'BsmtFinType1', 'FireplaceQu', ...]\n",
      "\t\t('int', [])       : 31 | ['LotArea', 'LotShape', 'LandContour', 'LotConfig', 'LandSlope', ...]\n",
      "\t\t('int', ['bool']) : 26 | ['Street', 'Neighborhood_Blmngtn', 'Neighborhood_Blueste', 'Neighborhood_BrDale', 'Neighborhood_BrkSide', ...]\n",
      "\t0.4s = Fit runtime\n",
      "\t73 features in original data used to generate 73 features in processed data.\n",
      "\tTrain Data (Processed) Memory Usage: 0.39 MB (0.0% of available memory)\n",
      "Data preprocessing and feature engineering runtime = 0.4s ...\n",
      "AutoGluon will gauge predictive performance using evaluation metric: 'root_mean_squared_error'\n",
      "\tThis metric's sign has been flipped to adhere to being higher_is_better. The metric score can be multiplied by -1 to get the metric value.\n",
      "\tTo change this, specify the eval_metric parameter of Predictor()\n",
      "User-specified model hyperparameters to be fit:\n",
      "{\n",
      "\t'NN_TORCH': {},\n",
      "\t'GBM': [{'extra_trees': True, 'ag_args': {'name_suffix': 'XT'}}, {}, 'GBMLarge'],\n",
      "\t'CAT': {},\n",
      "\t'XGB': {},\n",
      "\t'FASTAI': {},\n",
      "\t'RF': [{'criterion': 'gini', 'ag_args': {'name_suffix': 'Gini', 'problem_types': ['binary', 'multiclass']}}, {'criterion': 'entropy', 'ag_args': {'name_suffix': 'Entr', 'problem_types': ['binary', 'multiclass']}}, {'criterion': 'squared_error', 'ag_args': {'name_suffix': 'MSE', 'problem_types': ['regression', 'quantile']}}],\n",
      "\t'XT': [{'criterion': 'gini', 'ag_args': {'name_suffix': 'Gini', 'problem_types': ['binary', 'multiclass']}}, {'criterion': 'entropy', 'ag_args': {'name_suffix': 'Entr', 'problem_types': ['binary', 'multiclass']}}, {'criterion': 'squared_error', 'ag_args': {'name_suffix': 'MSE', 'problem_types': ['regression', 'quantile']}}],\n",
      "\t'KNN': [{'weights': 'uniform', 'ag_args': {'name_suffix': 'Unif'}}, {'weights': 'distance', 'ag_args': {'name_suffix': 'Dist'}}],\n",
      "}\n",
      "AutoGluon will fit 2 stack levels (L1 to L2) ...\n",
      "Fitting 11 L1 models ...\n",
      "Fitting model: KNeighborsUnif_BAG_L1 ... Training model for up to 399.63s of the 599.59s of remaining time.\n",
      "/home/ec2-user/anaconda3/envs/pytorch_p310/lib/python3.10/site-packages/torch/cuda/__init__.py:497: UserWarning: Can't initialize NVML\n",
      "  warnings.warn(\"Can't initialize NVML\")\n",
      "\t-46633.779\t = Validation score   (-root_mean_squared_error)\n",
      "\t0.01s\t = Training   runtime\n",
      "\t2.74s\t = Validation runtime\n",
      "Fitting model: KNeighborsDist_BAG_L1 ... Training model for up to 389.1s of the 589.06s of remaining time.\n",
      "\t-46160.0295\t = Validation score   (-root_mean_squared_error)\n",
      "\t0.01s\t = Training   runtime\n",
      "\t0.01s\t = Validation runtime\n",
      "Fitting model: LightGBMXT_BAG_L1 ... Training model for up to 389.04s of the 589.0s of remaining time.\n",
      "\tFitting 8 child models (S1F1 - S1F8) | Fitting with ParallelLocalFoldFittingStrategy\n",
      "\t-28188.7183\t = Validation score   (-root_mean_squared_error)\n",
      "\t16.72s\t = Training   runtime\n",
      "\t0.18s\t = Validation runtime\n",
      "Fitting model: LightGBM_BAG_L1 ... Training model for up to 366.43s of the 566.39s of remaining time.\n",
      "\tFitting 8 child models (S1F1 - S1F8) | Fitting with ParallelLocalFoldFittingStrategy\n",
      "\t-28478.7766\t = Validation score   (-root_mean_squared_error)\n",
      "\t24.24s\t = Training   runtime\n",
      "\t0.3s\t = Validation runtime\n",
      "Fitting model: RandomForestMSE_BAG_L1 ... Training model for up to 338.13s of the 538.09s of remaining time.\n",
      "\t-31490.2803\t = Validation score   (-root_mean_squared_error)\n",
      "\t3.86s\t = Training   runtime\n",
      "\t0.16s\t = Validation runtime\n",
      "Fitting model: CatBoost_BAG_L1 ... Training model for up to 334.0s of the 533.97s of remaining time.\n",
      "\tFitting 8 child models (S1F1 - S1F8) | Fitting with ParallelLocalFoldFittingStrategy\n",
      "\t-27356.0958\t = Validation score   (-root_mean_squared_error)\n",
      "\t161.79s\t = Training   runtime\n",
      "\t0.13s\t = Validation runtime\n",
      "Fitting model: ExtraTreesMSE_BAG_L1 ... Training model for up to 169.5s of the 369.47s of remaining time.\n",
      "\t-30338.9626\t = Validation score   (-root_mean_squared_error)\n",
      "\t2.43s\t = Training   runtime\n",
      "\t0.16s\t = Validation runtime\n",
      "Fitting model: NeuralNetFastAI_BAG_L1 ... Training model for up to 166.78s of the 366.75s of remaining time.\n",
      "\tFitting 8 child models (S1F1 - S1F8) | Fitting with ParallelLocalFoldFittingStrategy\n",
      "\t-26476.2332\t = Validation score   (-root_mean_squared_error)\n",
      "\t32.92s\t = Training   runtime\n",
      "\t0.38s\t = Validation runtime\n",
      "Fitting model: XGBoost_BAG_L1 ... Training model for up to 131.12s of the 331.09s of remaining time.\n",
      "\tFitting 8 child models (S1F1 - S1F8) | Fitting with ParallelLocalFoldFittingStrategy\n",
      "\t-27368.0132\t = Validation score   (-root_mean_squared_error)\n",
      "\t20.31s\t = Training   runtime\n",
      "\t0.15s\t = Validation runtime\n",
      "Fitting model: NeuralNetTorch_BAG_L1 ... Training model for up to 106.99s of the 306.95s of remaining time.\n",
      "\tFitting 8 child models (S1F1 - S1F8) | Fitting with ParallelLocalFoldFittingStrategy\n",
      "\t-27603.1746\t = Validation score   (-root_mean_squared_error)\n",
      "\t44.05s\t = Training   runtime\n",
      "\t0.44s\t = Validation runtime\n",
      "Fitting model: LightGBMLarge_BAG_L1 ... Training model for up to 60.22s of the 260.18s of remaining time.\n",
      "\tFitting 8 child models (S1F1 - S1F8) | Fitting with ParallelLocalFoldFittingStrategy\n",
      "\t-30011.7175\t = Validation score   (-root_mean_squared_error)\n",
      "\t25.29s\t = Training   runtime\n",
      "\t0.15s\t = Validation runtime\n",
      "Completed 1/20 k-fold bagging repeats ...\n",
      "Fitting model: WeightedEnsemble_L2 ... Training model for up to 360.0s of the 231.01s of remaining time.\n",
      "\t-24728.9445\t = Validation score   (-root_mean_squared_error)\n",
      "\t0.54s\t = Training   runtime\n",
      "\t0.0s\t = Validation runtime\n",
      "Fitting 9 L2 models ...\n",
      "Fitting model: LightGBMXT_BAG_L2 ... Training model for up to 230.41s of the 230.39s of remaining time.\n",
      "\tFitting 8 child models (S1F1 - S1F8) | Fitting with ParallelLocalFoldFittingStrategy\n",
      "\t-26746.6266\t = Validation score   (-root_mean_squared_error)\n",
      "\t21.07s\t = Training   runtime\n",
      "\t0.4s\t = Validation runtime\n",
      "Fitting model: LightGBM_BAG_L2 ... Training model for up to 206.56s of the 206.54s of remaining time.\n",
      "\tFitting 8 child models (S1F1 - S1F8) | Fitting with ParallelLocalFoldFittingStrategy\n",
      "\t-27017.3584\t = Validation score   (-root_mean_squared_error)\n",
      "\t14.76s\t = Training   runtime\n",
      "\t0.1s\t = Validation runtime\n",
      "Fitting model: RandomForestMSE_BAG_L2 ... Training model for up to 188.82s of the 188.8s of remaining time.\n",
      "\t-27275.603\t = Validation score   (-root_mean_squared_error)\n",
      "\t5.84s\t = Training   runtime\n",
      "\t0.25s\t = Validation runtime\n",
      "Fitting model: CatBoost_BAG_L2 ... Training model for up to 182.57s of the 182.55s of remaining time.\n",
      "\tFitting 8 child models (S1F1 - S1F8) | Fitting with ParallelLocalFoldFittingStrategy\n",
      "\t-26608.2461\t = Validation score   (-root_mean_squared_error)\n",
      "\t50.97s\t = Training   runtime\n",
      "\t0.15s\t = Validation runtime\n",
      "Fitting model: ExtraTreesMSE_BAG_L2 ... Training model for up to 128.85s of the 128.83s of remaining time.\n",
      "\t-26242.5331\t = Validation score   (-root_mean_squared_error)\n",
      "\t3.1s\t = Training   runtime\n",
      "\t0.17s\t = Validation runtime\n",
      "Fitting model: NeuralNetFastAI_BAG_L2 ... Training model for up to 125.44s of the 125.42s of remaining time.\n",
      "\tFitting 8 child models (S1F1 - S1F8) | Fitting with ParallelLocalFoldFittingStrategy\n",
      "\t-26413.7963\t = Validation score   (-root_mean_squared_error)\n",
      "\t33.5s\t = Training   runtime\n",
      "\t0.26s\t = Validation runtime\n",
      "Fitting model: XGBoost_BAG_L2 ... Training model for up to 89.46s of the 89.44s of remaining time.\n",
      "\tFitting 8 child models (S1F1 - S1F8) | Fitting with ParallelLocalFoldFittingStrategy\n",
      "\t-26860.8246\t = Validation score   (-root_mean_squared_error)\n",
      "\t24.01s\t = Training   runtime\n",
      "\t0.17s\t = Validation runtime\n",
      "Fitting model: NeuralNetTorch_BAG_L2 ... Training model for up to 62.47s of the 62.45s of remaining time.\n",
      "\tFitting 8 child models (S1F1 - S1F8) | Fitting with ParallelLocalFoldFittingStrategy\n",
      "\t-27370.3656\t = Validation score   (-root_mean_squared_error)\n",
      "\t41.95s\t = Training   runtime\n",
      "\t0.6s\t = Validation runtime\n",
      "Fitting model: LightGBMLarge_BAG_L2 ... Training model for up to 17.47s of the 17.45s of remaining time.\n",
      "\tFitting 8 child models (S1F1 - S1F8) | Fitting with ParallelLocalFoldFittingStrategy\n",
      "\t-28624.1781\t = Validation score   (-root_mean_squared_error)\n",
      "\t26.07s\t = Training   runtime\n",
      "\t0.16s\t = Validation runtime\n",
      "Completed 1/20 k-fold bagging repeats ...\n",
      "Fitting model: WeightedEnsemble_L3 ... Training model for up to 360.0s of the -11.85s of remaining time.\n",
      "\t-24962.8822\t = Validation score   (-root_mean_squared_error)\n",
      "\t0.4s\t = Training   runtime\n",
      "\t0.0s\t = Validation runtime\n",
      "AutoGluon training complete, total runtime = 612.32s ... Best model: \"WeightedEnsemble_L2\"\n",
      "TabularPredictor saved. To load, use: predictor = TabularPredictor.load(\"AutogluonModels/ag-20230904_201705/\")\n"
     ]
    }
   ],
   "source": [
    "\n",
    "\n",
    "predictor = TabularPredictor(\n",
    "    label=\"SalePrice\",\n",
    "    eval_metric=\"root_mean_squared_error\"). \\\n",
    "    fit(\n",
    "    train_data=train_df,\n",
    "    time_limit=600,\n",
    "    presets=\"best_quality\"\n",
    ")"
   ]
  },
  {
   "cell_type": "code",
   "execution_count": 139,
   "metadata": {
    "tags": []
   },
   "outputs": [],
   "source": [
    "predictor = TabularPredictor.load(\"./AutogluonModels/ag-20230904_201705/\")"
   ]
  },
  {
   "cell_type": "code",
   "execution_count": 140,
   "metadata": {
    "tags": []
   },
   "outputs": [
    {
     "name": "stderr",
     "output_type": "stream",
     "text": [
      "Computing feature importance via permutation shuffling for 73 features using 1168 rows with 5 shuffle sets...\n",
      "\t1061.39s\t= Expected runtime (212.28s per shuffle set)\n",
      "\t724.41s\t= Actual runtime (Completed 5 of 5 shuffle sets)\n"
     ]
    }
   ],
   "source": [
    "feature_importance_default = predictor.feature_importance(train_df).to_csv(\"features_importance_default.csv\")\n"
   ]
  },
  {
   "cell_type": "code",
   "execution_count": 140,
   "metadata": {
    "tags": []
   },
   "outputs": [
    {
     "data": {
      "text/plain": [
       "0    209820.843750\n",
       "1    186298.218750\n",
       "2    218982.015625\n",
       "3    156164.656250\n",
       "4    278253.281250\n",
       "Name: SalePrice, dtype: float32"
      ]
     },
     "execution_count": 140,
     "metadata": {},
     "output_type": "execute_result"
    }
   ],
   "source": [
    "predictions_default = predictor.predict(test_df)\n",
    "predictions_default.head()"
   ]
  },
  {
   "cell_type": "code",
   "execution_count": 143,
   "metadata": {
    "tags": []
   },
   "outputs": [
    {
     "name": "stdout",
     "output_type": "stream",
     "text": [
      "<class 'pandas.core.frame.DataFrame'>\n",
      "RangeIndex: 1459 entries, 0 to 1458\n",
      "Data columns (total 2 columns):\n",
      " #   Column     Non-Null Count  Dtype  \n",
      "---  ------     --------------  -----  \n",
      " 0   Id         1459 non-null   int64  \n",
      " 1   SalePrice  1459 non-null   float64\n",
      "dtypes: float64(1), int64(1)\n",
      "memory usage: 22.9 KB\n"
     ]
    }
   ],
   "source": [
    "submission = pd.read_csv(\"./data/sample_submission.csv\")\n",
    "submission.info()"
   ]
  },
  {
   "cell_type": "code",
   "execution_count": 144,
   "metadata": {
    "tags": []
   },
   "outputs": [],
   "source": [
    "submission[\"SalePrice\"] = predictions_default\n",
    "submission.to_csv(\"submission_default.csv\", index=False)"
   ]
  },
  {
   "cell_type": "code",
   "execution_count": 145,
   "metadata": {
    "tags": []
   },
   "outputs": [
    {
     "name": "stdout",
     "output_type": "stream",
     "text": [
      "/bin/sh: kaggle: command not found\n"
     ]
    }
   ],
   "source": [
    "!kaggle competitions submit -c house-prices-advanced-regression-techniques -f submission_default.csv -m \"House Prediction result first trial\""
   ]
  },
  {
   "cell_type": "markdown",
   "metadata": {
    "tags": []
   },
   "source": [
    "### Model 1 (default configuration with all features)"
   ]
  },
  {
   "cell_type": "code",
   "execution_count": 144,
   "metadata": {
    "tags": []
   },
   "outputs": [],
   "source": [
    "important_features = [\n",
    "    \"GrLivArea\", \n",
    "    \"OverallQual\", \n",
    "    \"TotalBsmtSF\",\n",
    "    \"GarageCars\",\n",
    "    \"LotArea\",\n",
    "    \"total_bathroom\",\n",
    "    \"OverallCond\",\n",
    "    \"BsmtExposure\",\n",
    "    \"BsmtQual\",\n",
    "    \"KitchenQual\",\n",
    "    \"YearBuilt\",\n",
    "    \"OpenPorchSF\",\n",
    "    \"LotFrontage\",\n",
    "    \"TotRmsAbvGrd\",\n",
    "    \"YearRemodAdd\",\n",
    "    \"BsmtUnfSF\",\n",
    "    \"ExterQual\",\n",
    "    \"BsmtFinType1\",\n",
    "    \"Fireplaces\",\n",
    "    \"total_basement_bathroom\",\n",
    "     \"Neighborhood_BrkSide\",  \n",
    "     \"Neighborhood_ClearCr\",  \n",
    "     \"Neighborhood_CollgCr\",  \n",
    "     \"Neighborhood_Crawfor\",  \n",
    "     \"Neighborhood_Edwards\",  \n",
    "     \"Neighborhood_NAmes\", \n",
    "     \"Neighborhood_NPkVill\",  \n",
    "     \"Neighborhood_NWAmes\", \n",
    "     \"Neighborhood_NoRidge\",  \n",
    "     \"Neighborhood_NridgHt\",  \n",
    "     \"Neighborhood_OldTown\",  \n",
    "     \"Neighborhood_Sawyer\", \n",
    "     \"Neighborhood_Somerst\",  \n",
    "     \"Neighborhood_StoneBr\"  \n",
    "]                      \n",
    " "
   ]
  },
  {
   "cell_type": "code",
   "execution_count": 72,
   "metadata": {
    "tags": []
   },
   "outputs": [],
   "source": [
    "import autogluon\n",
    "import autogluon.core as ag\n",
    "import autogluon.core as ag\n",
    "import pandas as pd\n",
    "from autogluon.tabular import TabularPredictor"
   ]
  },
  {
   "cell_type": "markdown",
   "metadata": {},
   "source": [
    "Model 1 is saved to AutogluonModels/ag-20230831_212939/"
   ]
  },
  {
   "cell_type": "code",
   "execution_count": 73,
   "metadata": {
    "tags": []
   },
   "outputs": [
    {
     "name": "stderr",
     "output_type": "stream",
     "text": [
      "No path specified. Models will be saved in: \"AutogluonModels/ag-20230901_024556/\"\n",
      "Presets specified: ['best_quality']\n",
      "Stack configuration (auto_stack=True): num_stack_levels=1, num_bag_folds=8, num_bag_sets=20\n",
      "Beginning AutoGluon training ... Time limit = 600s\n",
      "AutoGluon will save models to \"AutogluonModels/ag-20230901_024556/\"\n",
      "AutoGluon Version:  0.8.2\n",
      "Python Version:     3.10.12\n",
      "Operating System:   Linux\n",
      "Platform Machine:   x86_64\n",
      "Platform Version:   #1 SMP Tue Jun 27 21:48:55 UTC 2023\n",
      "Disk Space Avail:   2.41 GB / 5.13 GB (46.9%)\n",
      "\tWARNING: Available disk space is low and there is a risk that AutoGluon will run out of disk during fit, causing an exception. \n",
      "\tWe recommend a minimum available disk space of 10 GB, and large datasets may require more.\n",
      "Train Data Rows:    1460\n",
      "Train Data Columns: 34\n",
      "Label Column: SalePrice\n",
      "Preprocessing data ...\n",
      "AutoGluon infers your prediction problem is: 'regression' (because dtype of label-column == int and many unique label-values observed).\n",
      "\tLabel info (max, min, mean, stddev): (755000, 34900, 180921.19589, 79442.50288)\n",
      "\tIf 'regression' is not the correct problem_type, please manually specify the problem_type parameter during predictor init (You may specify problem_type as one of: ['binary', 'multiclass', 'regression'])\n",
      "Using Feature Generators to preprocess the data ...\n",
      "Fitting AutoMLPipelineFeatureGenerator...\n",
      "\tAvailable Memory:                    6510.77 MB\n",
      "\tTrain Data (Original)  Memory Usage: 0.25 MB (0.0% of available memory)\n",
      "\tInferring data type of each feature based on column values. Set feature_metadata_in to manually specify special dtypes of the features.\n",
      "\tStage 1 Generators:\n",
      "\t\tFitting AsTypeFeatureGenerator...\n",
      "\t\t\tNote: Converting 14 features to boolean dtype as they only contain 2 unique values.\n",
      "\tStage 2 Generators:\n",
      "\t\tFitting FillNaFeatureGenerator...\n",
      "\tStage 3 Generators:\n",
      "\t\tFitting IdentityFeatureGenerator...\n",
      "\tStage 4 Generators:\n",
      "\t\tFitting DropUniqueFeatureGenerator...\n",
      "\tStage 5 Generators:\n",
      "\t\tFitting DropDuplicatesFeatureGenerator...\n",
      "\tTypes of features in original data (raw dtype, special dtypes):\n",
      "\t\t('float', []) :  4 | ['BsmtExposure', 'BsmtQual', 'LotFrontage', 'BsmtFinType1']\n",
      "\t\t('int', [])   : 30 | ['GrLivArea', 'OverallQual', 'TotalBsmtSF', 'GarageCars', 'LotArea', ...]\n",
      "\tTypes of features in processed data (raw dtype, special dtypes):\n",
      "\t\t('float', [])     :  4 | ['BsmtExposure', 'BsmtQual', 'LotFrontage', 'BsmtFinType1']\n",
      "\t\t('int', [])       : 16 | ['GrLivArea', 'OverallQual', 'TotalBsmtSF', 'GarageCars', 'LotArea', ...]\n",
      "\t\t('int', ['bool']) : 14 | ['Neighborhood_BrkSide', 'Neighborhood_ClearCr', 'Neighborhood_CollgCr', 'Neighborhood_Crawfor', 'Neighborhood_Edwards', ...]\n",
      "\t0.1s = Fit runtime\n",
      "\t34 features in original data used to generate 34 features in processed data.\n",
      "\tTrain Data (Processed) Memory Usage: 0.25 MB (0.0% of available memory)\n",
      "Data preprocessing and feature engineering runtime = 0.11s ...\n",
      "AutoGluon will gauge predictive performance using evaluation metric: 'root_mean_squared_error'\n",
      "\tThis metric's sign has been flipped to adhere to being higher_is_better. The metric score can be multiplied by -1 to get the metric value.\n",
      "\tTo change this, specify the eval_metric parameter of Predictor()\n",
      "User-specified model hyperparameters to be fit:\n",
      "{\n",
      "\t'NN_TORCH': {},\n",
      "\t'GBM': [{'extra_trees': True, 'ag_args': {'name_suffix': 'XT'}}, {}, 'GBMLarge'],\n",
      "\t'CAT': {},\n",
      "\t'XGB': {},\n",
      "\t'FASTAI': {},\n",
      "\t'RF': [{'criterion': 'gini', 'ag_args': {'name_suffix': 'Gini', 'problem_types': ['binary', 'multiclass']}}, {'criterion': 'entropy', 'ag_args': {'name_suffix': 'Entr', 'problem_types': ['binary', 'multiclass']}}, {'criterion': 'squared_error', 'ag_args': {'name_suffix': 'MSE', 'problem_types': ['regression', 'quantile']}}],\n",
      "\t'XT': [{'criterion': 'gini', 'ag_args': {'name_suffix': 'Gini', 'problem_types': ['binary', 'multiclass']}}, {'criterion': 'entropy', 'ag_args': {'name_suffix': 'Entr', 'problem_types': ['binary', 'multiclass']}}, {'criterion': 'squared_error', 'ag_args': {'name_suffix': 'MSE', 'problem_types': ['regression', 'quantile']}}],\n",
      "\t'KNN': [{'weights': 'uniform', 'ag_args': {'name_suffix': 'Unif'}}, {'weights': 'distance', 'ag_args': {'name_suffix': 'Dist'}}],\n",
      "}\n",
      "AutoGluon will fit 2 stack levels (L1 to L2) ...\n",
      "Fitting 11 L1 models ...\n",
      "Fitting model: KNeighborsUnif_BAG_L1 ... Training model for up to 399.82s of the 599.88s of remaining time.\n",
      "/home/ec2-user/anaconda3/envs/pytorch_p310/lib/python3.10/site-packages/torch/cuda/__init__.py:497: UserWarning: Can't initialize NVML\n",
      "  warnings.warn(\"Can't initialize NVML\")\n",
      "\t-47807.0387\t = Validation score   (-root_mean_squared_error)\n",
      "\t0.01s\t = Training   runtime\n",
      "\t3.53s\t = Validation runtime\n",
      "Fitting model: KNeighborsDist_BAG_L1 ... Training model for up to 385.32s of the 585.37s of remaining time.\n",
      "\t-47578.5581\t = Validation score   (-root_mean_squared_error)\n",
      "\t0.01s\t = Training   runtime\n",
      "\t0.01s\t = Validation runtime\n",
      "Fitting model: LightGBMXT_BAG_L1 ... Training model for up to 385.25s of the 585.31s of remaining time.\n",
      "\tFitting 8 child models (S1F1 - S1F8) | Fitting with ParallelLocalFoldFittingStrategy\n",
      "\t-25042.7455\t = Validation score   (-root_mean_squared_error)\n",
      "\t17.98s\t = Training   runtime\n",
      "\t0.26s\t = Validation runtime\n",
      "Fitting model: LightGBM_BAG_L1 ... Training model for up to 360.01s of the 560.07s of remaining time.\n",
      "\tFitting 8 child models (S1F1 - S1F8) | Fitting with ParallelLocalFoldFittingStrategy\n",
      "\t-26257.6547\t = Validation score   (-root_mean_squared_error)\n",
      "\t23.55s\t = Training   runtime\n",
      "\t0.37s\t = Validation runtime\n",
      "Fitting model: RandomForestMSE_BAG_L1 ... Training model for up to 332.4s of the 532.46s of remaining time.\n",
      "\t-29311.955\t = Validation score   (-root_mean_squared_error)\n",
      "\t3.55s\t = Training   runtime\n",
      "\t0.32s\t = Validation runtime\n",
      "Fitting model: CatBoost_BAG_L1 ... Training model for up to 328.38s of the 528.44s of remaining time.\n",
      "\tFitting 8 child models (S1F1 - S1F8) | Fitting with ParallelLocalFoldFittingStrategy\n",
      "\t-25005.2142\t = Validation score   (-root_mean_squared_error)\n",
      "\t35.72s\t = Training   runtime\n",
      "\t0.02s\t = Validation runtime\n",
      "Fitting model: ExtraTreesMSE_BAG_L1 ... Training model for up to 289.06s of the 489.12s of remaining time.\n",
      "\t-28063.0442\t = Validation score   (-root_mean_squared_error)\n",
      "\t1.75s\t = Training   runtime\n",
      "\t0.16s\t = Validation runtime\n",
      "Fitting model: NeuralNetFastAI_BAG_L1 ... Training model for up to 287.05s of the 487.11s of remaining time.\n",
      "\tFitting 8 child models (S1F1 - S1F8) | Fitting with ParallelLocalFoldFittingStrategy\n",
      "\t-24690.5344\t = Validation score   (-root_mean_squared_error)\n",
      "\t31.06s\t = Training   runtime\n",
      "\t0.13s\t = Validation runtime\n",
      "Fitting model: XGBoost_BAG_L1 ... Training model for up to 253.63s of the 453.69s of remaining time.\n",
      "\tFitting 8 child models (S1F1 - S1F8) | Fitting with ParallelLocalFoldFittingStrategy\n",
      "\t-26908.1717\t = Validation score   (-root_mean_squared_error)\n",
      "\t22.25s\t = Training   runtime\n",
      "\t0.1s\t = Validation runtime\n",
      "Fitting model: NeuralNetTorch_BAG_L1 ... Training model for up to 227.48s of the 427.54s of remaining time.\n",
      "\tFitting 8 child models (S1F1 - S1F8) | Fitting with ParallelLocalFoldFittingStrategy\n",
      "\t-27606.8196\t = Validation score   (-root_mean_squared_error)\n",
      "\t46.98s\t = Training   runtime\n",
      "\t0.2s\t = Validation runtime\n",
      "Fitting model: LightGBMLarge_BAG_L1 ... Training model for up to 177.91s of the 377.97s of remaining time.\n",
      "\tFitting 8 child models (S1F1 - S1F8) | Fitting with ParallelLocalFoldFittingStrategy\n",
      "\t-27914.121\t = Validation score   (-root_mean_squared_error)\n",
      "\t67.24s\t = Training   runtime\n",
      "\t1.68s\t = Validation runtime\n",
      "Completed 1/20 k-fold bagging repeats ...\n",
      "Fitting model: WeightedEnsemble_L2 ... Training model for up to 360.0s of the 307.19s of remaining time.\n",
      "\t-23312.0511\t = Validation score   (-root_mean_squared_error)\n",
      "\t0.54s\t = Training   runtime\n",
      "\t0.0s\t = Validation runtime\n",
      "Fitting 9 L2 models ...\n",
      "Fitting model: LightGBMXT_BAG_L2 ... Training model for up to 306.59s of the 306.58s of remaining time.\n",
      "\tFitting 8 child models (S1F1 - S1F8) | Fitting with ParallelLocalFoldFittingStrategy\n",
      "\t-25747.425\t = Validation score   (-root_mean_squared_error)\n",
      "\t21.01s\t = Training   runtime\n",
      "\t0.5s\t = Validation runtime\n",
      "Fitting model: LightGBM_BAG_L2 ... Training model for up to 282.15s of the 282.13s of remaining time.\n",
      "\tFitting 8 child models (S1F1 - S1F8) | Fitting with ParallelLocalFoldFittingStrategy\n",
      "\t-26271.064\t = Validation score   (-root_mean_squared_error)\n",
      "\t13.73s\t = Training   runtime\n",
      "\t0.03s\t = Validation runtime\n",
      "Fitting model: RandomForestMSE_BAG_L2 ... Training model for up to 265.79s of the 265.77s of remaining time.\n",
      "\t-24972.9994\t = Validation score   (-root_mean_squared_error)\n",
      "\t7.67s\t = Training   runtime\n",
      "\t0.32s\t = Validation runtime\n",
      "Fitting model: CatBoost_BAG_L2 ... Training model for up to 257.66s of the 257.64s of remaining time.\n",
      "\tFitting 8 child models (S1F1 - S1F8) | Fitting with ParallelLocalFoldFittingStrategy\n",
      "\t-24408.8375\t = Validation score   (-root_mean_squared_error)\n",
      "\t34.41s\t = Training   runtime\n",
      "\t0.02s\t = Validation runtime\n",
      "Fitting model: ExtraTreesMSE_BAG_L2 ... Training model for up to 218.92s of the 218.91s of remaining time.\n",
      "\t-24905.1902\t = Validation score   (-root_mean_squared_error)\n",
      "\t2.27s\t = Training   runtime\n",
      "\t0.16s\t = Validation runtime\n",
      "Fitting model: NeuralNetFastAI_BAG_L2 ... Training model for up to 216.38s of the 216.37s of remaining time.\n",
      "\tFitting 8 child models (S1F1 - S1F8) | Fitting with ParallelLocalFoldFittingStrategy\n",
      "\t-27616.5751\t = Validation score   (-root_mean_squared_error)\n",
      "\t31.56s\t = Training   runtime\n",
      "\t0.14s\t = Validation runtime\n",
      "Fitting model: XGBoost_BAG_L2 ... Training model for up to 182.19s of the 182.17s of remaining time.\n",
      "\tFitting 8 child models (S1F1 - S1F8) | Fitting with ParallelLocalFoldFittingStrategy\n",
      "\t-26004.9837\t = Validation score   (-root_mean_squared_error)\n",
      "\t20.93s\t = Training   runtime\n",
      "\t0.06s\t = Validation runtime\n",
      "Fitting model: NeuralNetTorch_BAG_L2 ... Training model for up to 157.28s of the 157.26s of remaining time.\n",
      "\tFitting 8 child models (S1F1 - S1F8) | Fitting with ParallelLocalFoldFittingStrategy\n",
      "\t-27511.2725\t = Validation score   (-root_mean_squared_error)\n",
      "\t41.47s\t = Training   runtime\n",
      "\t0.28s\t = Validation runtime\n",
      "Fitting model: LightGBMLarge_BAG_L2 ... Training model for up to 112.48s of the 112.46s of remaining time.\n",
      "\tFitting 8 child models (S1F1 - S1F8) | Fitting with ParallelLocalFoldFittingStrategy\n",
      "\t-25988.9594\t = Validation score   (-root_mean_squared_error)\n",
      "\t55.11s\t = Training   runtime\n",
      "\t0.36s\t = Validation runtime\n",
      "Completed 1/20 k-fold bagging repeats ...\n",
      "Fitting model: WeightedEnsemble_L3 ... Training model for up to 360.0s of the 54.55s of remaining time.\n",
      "\t-24177.1506\t = Validation score   (-root_mean_squared_error)\n",
      "\t0.38s\t = Training   runtime\n",
      "\t0.0s\t = Validation runtime\n",
      "AutoGluon training complete, total runtime = 545.89s ... Best model: \"WeightedEnsemble_L2\"\n",
      "TabularPredictor saved. To load, use: predictor = TabularPredictor.load(\"AutogluonModels/ag-20230901_024556/\")\n"
     ]
    }
   ],
   "source": [
    "\n",
    "\n",
    "predictor_important_features = TabularPredictor(\n",
    "    label=\"SalePrice\",\n",
    "    eval_metric=\"root_mean_squared_error\"). \\\n",
    "    fit(\n",
    "    train_data=train_df[important_features],\n",
    "    time_limit=600,\n",
    "    presets=\"best_quality\"\n",
    ")"
   ]
  },
  {
   "cell_type": "code",
   "execution_count": 99,
   "metadata": {
    "tags": []
   },
   "outputs": [],
   "source": [
    "predictor_with_important_features = TabularPredictor.load(\"./AutogluonModels/ag-20230901_024556/\")"
   ]
  },
  {
   "cell_type": "code",
   "execution_count": 100,
   "metadata": {
    "tags": []
   },
   "outputs": [
    {
     "name": "stdout",
     "output_type": "stream",
     "text": [
      "*** Summary of fit() ***\n",
      "Estimated performance of each model:\n",
      "                     model     score_val  pred_time_val    fit_time  pred_time_val_marginal  fit_time_marginal  stack_level  can_infer  fit_order\n",
      "0      WeightedEnsemble_L2 -23312.051148       2.571309  198.352579                0.000780           0.540794            2       True         12\n",
      "1      WeightedEnsemble_L3 -24177.150617       7.906559  420.713318                0.000636           0.378925            3       True         22\n",
      "2          CatBoost_BAG_L2 -24408.837523       6.811860  284.523752                0.022263          34.411368            2       True         16\n",
      "3   NeuralNetFastAI_BAG_L1 -24690.534414       0.132242   31.064991                0.132242          31.064991            1       True          8\n",
      "4     ExtraTreesMSE_BAG_L2 -24905.190205       6.953950  252.384013                0.164353           2.271629            2       True         17\n",
      "5   RandomForestMSE_BAG_L2 -24972.999423       7.106673  257.783471                0.317076           7.671087            2       True         15\n",
      "6          CatBoost_BAG_L1 -25005.214220       0.019664   35.719690                0.019664          35.719690            1       True          6\n",
      "7        LightGBMXT_BAG_L1 -25042.745536       0.262636   17.983889                0.262636          17.983889            1       True          3\n",
      "8        LightGBMXT_BAG_L2 -25747.425002       7.290121  271.121399                0.500525          21.009014            2       True         13\n",
      "9     LightGBMLarge_BAG_L2 -25988.959382       7.144785  305.220776                0.355188          55.108391            2       True         21\n",
      "10          XGBoost_BAG_L2 -26004.983685       6.848386  271.046782                0.058789          20.934397            2       True         19\n",
      "11         LightGBM_BAG_L1 -26257.654659       0.374789   23.551493                0.374789          23.551493            1       True          4\n",
      "12         LightGBM_BAG_L2 -26271.064000       6.815027  263.839584                0.025430          13.727199            2       True         14\n",
      "13          XGBoost_BAG_L1 -26908.171663       0.096634   22.251957                0.096634          22.251957            1       True          9\n",
      "14   NeuralNetTorch_BAG_L2 -27511.272480       7.068386  291.586091                0.278789          41.473707            2       True         20\n",
      "15   NeuralNetTorch_BAG_L1 -27606.819645       0.201614   46.979854                0.201614          46.979854            1       True         10\n",
      "16  NeuralNetFastAI_BAG_L2 -27616.575098       6.932607  281.669841                0.143010          31.557456            2       True         18\n",
      "17    LightGBMLarge_BAG_L1 -27914.121047       1.684564   67.239764                1.684564          67.239764            1       True         11\n",
      "18    ExtraTreesMSE_BAG_L1 -28063.044178       0.161289    1.751087                0.161289           1.751087            1       True          7\n",
      "19  RandomForestMSE_BAG_L1 -29311.955028       0.317384    3.554466                0.317384           3.554466            1       True          5\n",
      "20   KNeighborsDist_BAG_L1 -47578.558134       0.013284    0.007113                0.013284           0.007113            1       True          2\n",
      "21   KNeighborsUnif_BAG_L1 -47807.038694       3.525496    0.008078                3.525496           0.008078            1       True          1\n",
      "Number of models trained: 22\n",
      "Types of models trained:\n",
      "{'StackerEnsembleModel_XGBoost', 'StackerEnsembleModel_TabularNeuralNetTorch', 'WeightedEnsembleModel', 'StackerEnsembleModel_CatBoost', 'StackerEnsembleModel_RF', 'StackerEnsembleModel_NNFastAiTabular', 'StackerEnsembleModel_XT', 'StackerEnsembleModel_KNN', 'StackerEnsembleModel_LGB'}\n",
      "Bagging used: True  (with 8 folds)\n",
      "Multi-layer stack-ensembling used: True  (with 3 levels)\n",
      "Feature Metadata (Processed):\n",
      "(raw dtype, special dtypes):\n",
      "('float', [])     :  4 | ['BsmtExposure', 'BsmtQual', 'LotFrontage', 'BsmtFinType1']\n",
      "('int', [])       : 16 | ['GrLivArea', 'OverallQual', 'TotalBsmtSF', 'GarageCars', 'LotArea', ...]\n",
      "('int', ['bool']) : 14 | ['Neighborhood_BrkSide', 'Neighborhood_ClearCr', 'Neighborhood_CollgCr', 'Neighborhood_Crawfor', 'Neighborhood_Edwards', ...]\n",
      "*** End of fit() summary ***\n"
     ]
    },
    {
     "name": "stderr",
     "output_type": "stream",
     "text": [
      "/home/ec2-user/anaconda3/envs/pytorch_p310/lib/python3.10/site-packages/autogluon/core/utils/plots.py:169: UserWarning: AutoGluon summary plots cannot be created because bokeh is not installed. To see plots, please do: \"pip install bokeh==2.0.1\"\n",
      "  warnings.warn('AutoGluon summary plots cannot be created because bokeh is not installed. To see plots, please do: \"pip install bokeh==2.0.1\"')\n"
     ]
    },
    {
     "data": {
      "text/plain": [
       "{'model_types': {'KNeighborsUnif_BAG_L1': 'StackerEnsembleModel_KNN',\n",
       "  'KNeighborsDist_BAG_L1': 'StackerEnsembleModel_KNN',\n",
       "  'LightGBMXT_BAG_L1': 'StackerEnsembleModel_LGB',\n",
       "  'LightGBM_BAG_L1': 'StackerEnsembleModel_LGB',\n",
       "  'RandomForestMSE_BAG_L1': 'StackerEnsembleModel_RF',\n",
       "  'CatBoost_BAG_L1': 'StackerEnsembleModel_CatBoost',\n",
       "  'ExtraTreesMSE_BAG_L1': 'StackerEnsembleModel_XT',\n",
       "  'NeuralNetFastAI_BAG_L1': 'StackerEnsembleModel_NNFastAiTabular',\n",
       "  'XGBoost_BAG_L1': 'StackerEnsembleModel_XGBoost',\n",
       "  'NeuralNetTorch_BAG_L1': 'StackerEnsembleModel_TabularNeuralNetTorch',\n",
       "  'LightGBMLarge_BAG_L1': 'StackerEnsembleModel_LGB',\n",
       "  'WeightedEnsemble_L2': 'WeightedEnsembleModel',\n",
       "  'LightGBMXT_BAG_L2': 'StackerEnsembleModel_LGB',\n",
       "  'LightGBM_BAG_L2': 'StackerEnsembleModel_LGB',\n",
       "  'RandomForestMSE_BAG_L2': 'StackerEnsembleModel_RF',\n",
       "  'CatBoost_BAG_L2': 'StackerEnsembleModel_CatBoost',\n",
       "  'ExtraTreesMSE_BAG_L2': 'StackerEnsembleModel_XT',\n",
       "  'NeuralNetFastAI_BAG_L2': 'StackerEnsembleModel_NNFastAiTabular',\n",
       "  'XGBoost_BAG_L2': 'StackerEnsembleModel_XGBoost',\n",
       "  'NeuralNetTorch_BAG_L2': 'StackerEnsembleModel_TabularNeuralNetTorch',\n",
       "  'LightGBMLarge_BAG_L2': 'StackerEnsembleModel_LGB',\n",
       "  'WeightedEnsemble_L3': 'WeightedEnsembleModel'},\n",
       " 'model_performance': {'KNeighborsUnif_BAG_L1': -47807.03869428663,\n",
       "  'KNeighborsDist_BAG_L1': -47578.55813353768,\n",
       "  'LightGBMXT_BAG_L1': -25042.745535772778,\n",
       "  'LightGBM_BAG_L1': -26257.65465888922,\n",
       "  'RandomForestMSE_BAG_L1': -29311.955028418542,\n",
       "  'CatBoost_BAG_L1': -25005.214219747544,\n",
       "  'ExtraTreesMSE_BAG_L1': -28063.044177696618,\n",
       "  'NeuralNetFastAI_BAG_L1': -24690.534414124453,\n",
       "  'XGBoost_BAG_L1': -26908.171662829172,\n",
       "  'NeuralNetTorch_BAG_L1': -27606.819645424526,\n",
       "  'LightGBMLarge_BAG_L1': -27914.12104665415,\n",
       "  'WeightedEnsemble_L2': -23312.051147505554,\n",
       "  'LightGBMXT_BAG_L2': -25747.42500247822,\n",
       "  'LightGBM_BAG_L2': -26271.06400009415,\n",
       "  'RandomForestMSE_BAG_L2': -24972.99942334128,\n",
       "  'CatBoost_BAG_L2': -24408.837522769594,\n",
       "  'ExtraTreesMSE_BAG_L2': -24905.190204868413,\n",
       "  'NeuralNetFastAI_BAG_L2': -27616.575098383455,\n",
       "  'XGBoost_BAG_L2': -26004.983685235708,\n",
       "  'NeuralNetTorch_BAG_L2': -27511.272480219468,\n",
       "  'LightGBMLarge_BAG_L2': -25988.959382354627,\n",
       "  'WeightedEnsemble_L3': -24177.150616904197},\n",
       " 'model_best': 'WeightedEnsemble_L2',\n",
       " 'model_paths': {'KNeighborsUnif_BAG_L1': './AutogluonModels/ag-20230901_024556/models/KNeighborsUnif_BAG_L1/',\n",
       "  'KNeighborsDist_BAG_L1': './AutogluonModels/ag-20230901_024556/models/KNeighborsDist_BAG_L1/',\n",
       "  'LightGBMXT_BAG_L1': './AutogluonModels/ag-20230901_024556/models/LightGBMXT_BAG_L1/',\n",
       "  'LightGBM_BAG_L1': './AutogluonModels/ag-20230901_024556/models/LightGBM_BAG_L1/',\n",
       "  'RandomForestMSE_BAG_L1': './AutogluonModels/ag-20230901_024556/models/RandomForestMSE_BAG_L1/',\n",
       "  'CatBoost_BAG_L1': './AutogluonModels/ag-20230901_024556/models/CatBoost_BAG_L1/',\n",
       "  'ExtraTreesMSE_BAG_L1': './AutogluonModels/ag-20230901_024556/models/ExtraTreesMSE_BAG_L1/',\n",
       "  'NeuralNetFastAI_BAG_L1': './AutogluonModels/ag-20230901_024556/models/NeuralNetFastAI_BAG_L1/',\n",
       "  'XGBoost_BAG_L1': './AutogluonModels/ag-20230901_024556/models/XGBoost_BAG_L1/',\n",
       "  'NeuralNetTorch_BAG_L1': './AutogluonModels/ag-20230901_024556/models/NeuralNetTorch_BAG_L1/',\n",
       "  'LightGBMLarge_BAG_L1': './AutogluonModels/ag-20230901_024556/models/LightGBMLarge_BAG_L1/',\n",
       "  'WeightedEnsemble_L2': './AutogluonModels/ag-20230901_024556/models/WeightedEnsemble_L2/',\n",
       "  'LightGBMXT_BAG_L2': './AutogluonModels/ag-20230901_024556/models/LightGBMXT_BAG_L2/',\n",
       "  'LightGBM_BAG_L2': './AutogluonModels/ag-20230901_024556/models/LightGBM_BAG_L2/',\n",
       "  'RandomForestMSE_BAG_L2': './AutogluonModels/ag-20230901_024556/models/RandomForestMSE_BAG_L2/',\n",
       "  'CatBoost_BAG_L2': './AutogluonModels/ag-20230901_024556/models/CatBoost_BAG_L2/',\n",
       "  'ExtraTreesMSE_BAG_L2': './AutogluonModels/ag-20230901_024556/models/ExtraTreesMSE_BAG_L2/',\n",
       "  'NeuralNetFastAI_BAG_L2': './AutogluonModels/ag-20230901_024556/models/NeuralNetFastAI_BAG_L2/',\n",
       "  'XGBoost_BAG_L2': './AutogluonModels/ag-20230901_024556/models/XGBoost_BAG_L2/',\n",
       "  'NeuralNetTorch_BAG_L2': './AutogluonModels/ag-20230901_024556/models/NeuralNetTorch_BAG_L2/',\n",
       "  'LightGBMLarge_BAG_L2': './AutogluonModels/ag-20230901_024556/models/LightGBMLarge_BAG_L2/',\n",
       "  'WeightedEnsemble_L3': './AutogluonModels/ag-20230901_024556/models/WeightedEnsemble_L3/'},\n",
       " 'model_fit_times': {'KNeighborsUnif_BAG_L1': 0.008078336715698242,\n",
       "  'KNeighborsDist_BAG_L1': 0.007113456726074219,\n",
       "  'LightGBMXT_BAG_L1': 17.983888864517212,\n",
       "  'LightGBM_BAG_L1': 23.551493406295776,\n",
       "  'RandomForestMSE_BAG_L1': 3.5544655323028564,\n",
       "  'CatBoost_BAG_L1': 35.7196900844574,\n",
       "  'ExtraTreesMSE_BAG_L1': 1.7510874271392822,\n",
       "  'NeuralNetFastAI_BAG_L1': 31.06499147415161,\n",
       "  'XGBoost_BAG_L1': 22.251957416534424,\n",
       "  'NeuralNetTorch_BAG_L1': 46.979854106903076,\n",
       "  'LightGBMLarge_BAG_L1': 67.23976421356201,\n",
       "  'WeightedEnsemble_L2': 0.5407938957214355,\n",
       "  'LightGBMXT_BAG_L2': 21.00901436805725,\n",
       "  'LightGBM_BAG_L2': 13.72719931602478,\n",
       "  'RandomForestMSE_BAG_L2': 7.671087026596069,\n",
       "  'CatBoost_BAG_L2': 34.411367654800415,\n",
       "  'ExtraTreesMSE_BAG_L2': 2.2716290950775146,\n",
       "  'NeuralNetFastAI_BAG_L2': 31.557456493377686,\n",
       "  'XGBoost_BAG_L2': 20.93439745903015,\n",
       "  'NeuralNetTorch_BAG_L2': 41.47370672225952,\n",
       "  'LightGBMLarge_BAG_L2': 55.10839128494263,\n",
       "  'WeightedEnsemble_L3': 0.3789248466491699},\n",
       " 'model_pred_times': {'KNeighborsUnif_BAG_L1': 3.525496244430542,\n",
       "  'KNeighborsDist_BAG_L1': 0.013284444808959961,\n",
       "  'LightGBMXT_BAG_L1': 0.2626357078552246,\n",
       "  'LightGBM_BAG_L1': 0.3747889995574951,\n",
       "  'RandomForestMSE_BAG_L1': 0.3173844814300537,\n",
       "  'CatBoost_BAG_L1': 0.01966381072998047,\n",
       "  'ExtraTreesMSE_BAG_L1': 0.16128921508789062,\n",
       "  'NeuralNetFastAI_BAG_L1': 0.13224244117736816,\n",
       "  'XGBoost_BAG_L1': 0.0966336727142334,\n",
       "  'NeuralNetTorch_BAG_L1': 0.2016136646270752,\n",
       "  'LightGBMLarge_BAG_L1': 1.6845641136169434,\n",
       "  'WeightedEnsemble_L2': 0.0007801055908203125,\n",
       "  'LightGBMXT_BAG_L2': 0.5005245208740234,\n",
       "  'LightGBM_BAG_L2': 0.025429964065551758,\n",
       "  'RandomForestMSE_BAG_L2': 0.3170762062072754,\n",
       "  'CatBoost_BAG_L2': 0.022263288497924805,\n",
       "  'ExtraTreesMSE_BAG_L2': 0.1643528938293457,\n",
       "  'NeuralNetFastAI_BAG_L2': 0.14301037788391113,\n",
       "  'XGBoost_BAG_L2': 0.05878949165344238,\n",
       "  'NeuralNetTorch_BAG_L2': 0.2787892818450928,\n",
       "  'LightGBMLarge_BAG_L2': 0.35518789291381836,\n",
       "  'WeightedEnsemble_L3': 0.0006356239318847656},\n",
       " 'num_bag_folds': 8,\n",
       " 'max_stack_level': 3,\n",
       " 'model_hyperparams': {'KNeighborsUnif_BAG_L1': {'use_orig_features': True,\n",
       "   'max_base_models': 25,\n",
       "   'max_base_models_per_type': 5,\n",
       "   'save_bag_folds': True,\n",
       "   'use_child_oof': True},\n",
       "  'KNeighborsDist_BAG_L1': {'use_orig_features': True,\n",
       "   'max_base_models': 25,\n",
       "   'max_base_models_per_type': 5,\n",
       "   'save_bag_folds': True,\n",
       "   'use_child_oof': True},\n",
       "  'LightGBMXT_BAG_L1': {'use_orig_features': True,\n",
       "   'max_base_models': 25,\n",
       "   'max_base_models_per_type': 5,\n",
       "   'save_bag_folds': True},\n",
       "  'LightGBM_BAG_L1': {'use_orig_features': True,\n",
       "   'max_base_models': 25,\n",
       "   'max_base_models_per_type': 5,\n",
       "   'save_bag_folds': True},\n",
       "  'RandomForestMSE_BAG_L1': {'use_orig_features': True,\n",
       "   'max_base_models': 25,\n",
       "   'max_base_models_per_type': 5,\n",
       "   'save_bag_folds': True,\n",
       "   'use_child_oof': True},\n",
       "  'CatBoost_BAG_L1': {'use_orig_features': True,\n",
       "   'max_base_models': 25,\n",
       "   'max_base_models_per_type': 5,\n",
       "   'save_bag_folds': True},\n",
       "  'ExtraTreesMSE_BAG_L1': {'use_orig_features': True,\n",
       "   'max_base_models': 25,\n",
       "   'max_base_models_per_type': 5,\n",
       "   'save_bag_folds': True,\n",
       "   'use_child_oof': True},\n",
       "  'NeuralNetFastAI_BAG_L1': {'use_orig_features': True,\n",
       "   'max_base_models': 25,\n",
       "   'max_base_models_per_type': 5,\n",
       "   'save_bag_folds': True},\n",
       "  'XGBoost_BAG_L1': {'use_orig_features': True,\n",
       "   'max_base_models': 25,\n",
       "   'max_base_models_per_type': 5,\n",
       "   'save_bag_folds': True},\n",
       "  'NeuralNetTorch_BAG_L1': {'use_orig_features': True,\n",
       "   'max_base_models': 25,\n",
       "   'max_base_models_per_type': 5,\n",
       "   'save_bag_folds': True},\n",
       "  'LightGBMLarge_BAG_L1': {'use_orig_features': True,\n",
       "   'max_base_models': 25,\n",
       "   'max_base_models_per_type': 5,\n",
       "   'save_bag_folds': True},\n",
       "  'WeightedEnsemble_L2': {'use_orig_features': False,\n",
       "   'max_base_models': 25,\n",
       "   'max_base_models_per_type': 5,\n",
       "   'save_bag_folds': True},\n",
       "  'LightGBMXT_BAG_L2': {'use_orig_features': True,\n",
       "   'max_base_models': 25,\n",
       "   'max_base_models_per_type': 5,\n",
       "   'save_bag_folds': True},\n",
       "  'LightGBM_BAG_L2': {'use_orig_features': True,\n",
       "   'max_base_models': 25,\n",
       "   'max_base_models_per_type': 5,\n",
       "   'save_bag_folds': True},\n",
       "  'RandomForestMSE_BAG_L2': {'use_orig_features': True,\n",
       "   'max_base_models': 25,\n",
       "   'max_base_models_per_type': 5,\n",
       "   'save_bag_folds': True,\n",
       "   'use_child_oof': True},\n",
       "  'CatBoost_BAG_L2': {'use_orig_features': True,\n",
       "   'max_base_models': 25,\n",
       "   'max_base_models_per_type': 5,\n",
       "   'save_bag_folds': True},\n",
       "  'ExtraTreesMSE_BAG_L2': {'use_orig_features': True,\n",
       "   'max_base_models': 25,\n",
       "   'max_base_models_per_type': 5,\n",
       "   'save_bag_folds': True,\n",
       "   'use_child_oof': True},\n",
       "  'NeuralNetFastAI_BAG_L2': {'use_orig_features': True,\n",
       "   'max_base_models': 25,\n",
       "   'max_base_models_per_type': 5,\n",
       "   'save_bag_folds': True},\n",
       "  'XGBoost_BAG_L2': {'use_orig_features': True,\n",
       "   'max_base_models': 25,\n",
       "   'max_base_models_per_type': 5,\n",
       "   'save_bag_folds': True},\n",
       "  'NeuralNetTorch_BAG_L2': {'use_orig_features': True,\n",
       "   'max_base_models': 25,\n",
       "   'max_base_models_per_type': 5,\n",
       "   'save_bag_folds': True},\n",
       "  'LightGBMLarge_BAG_L2': {'use_orig_features': True,\n",
       "   'max_base_models': 25,\n",
       "   'max_base_models_per_type': 5,\n",
       "   'save_bag_folds': True},\n",
       "  'WeightedEnsemble_L3': {'use_orig_features': False,\n",
       "   'max_base_models': 25,\n",
       "   'max_base_models_per_type': 5,\n",
       "   'save_bag_folds': True}},\n",
       " 'leaderboard':                      model     score_val  pred_time_val    fit_time  \\\n",
       " 0      WeightedEnsemble_L2 -23312.051148       2.571309  198.352579   \n",
       " 1      WeightedEnsemble_L3 -24177.150617       7.906559  420.713318   \n",
       " 2          CatBoost_BAG_L2 -24408.837523       6.811860  284.523752   \n",
       " 3   NeuralNetFastAI_BAG_L1 -24690.534414       0.132242   31.064991   \n",
       " 4     ExtraTreesMSE_BAG_L2 -24905.190205       6.953950  252.384013   \n",
       " 5   RandomForestMSE_BAG_L2 -24972.999423       7.106673  257.783471   \n",
       " 6          CatBoost_BAG_L1 -25005.214220       0.019664   35.719690   \n",
       " 7        LightGBMXT_BAG_L1 -25042.745536       0.262636   17.983889   \n",
       " 8        LightGBMXT_BAG_L2 -25747.425002       7.290121  271.121399   \n",
       " 9     LightGBMLarge_BAG_L2 -25988.959382       7.144785  305.220776   \n",
       " 10          XGBoost_BAG_L2 -26004.983685       6.848386  271.046782   \n",
       " 11         LightGBM_BAG_L1 -26257.654659       0.374789   23.551493   \n",
       " 12         LightGBM_BAG_L2 -26271.064000       6.815027  263.839584   \n",
       " 13          XGBoost_BAG_L1 -26908.171663       0.096634   22.251957   \n",
       " 14   NeuralNetTorch_BAG_L2 -27511.272480       7.068386  291.586091   \n",
       " 15   NeuralNetTorch_BAG_L1 -27606.819645       0.201614   46.979854   \n",
       " 16  NeuralNetFastAI_BAG_L2 -27616.575098       6.932607  281.669841   \n",
       " 17    LightGBMLarge_BAG_L1 -27914.121047       1.684564   67.239764   \n",
       " 18    ExtraTreesMSE_BAG_L1 -28063.044178       0.161289    1.751087   \n",
       " 19  RandomForestMSE_BAG_L1 -29311.955028       0.317384    3.554466   \n",
       " 20   KNeighborsDist_BAG_L1 -47578.558134       0.013284    0.007113   \n",
       " 21   KNeighborsUnif_BAG_L1 -47807.038694       3.525496    0.008078   \n",
       " \n",
       "     pred_time_val_marginal  fit_time_marginal  stack_level  can_infer  \\\n",
       " 0                 0.000780           0.540794            2       True   \n",
       " 1                 0.000636           0.378925            3       True   \n",
       " 2                 0.022263          34.411368            2       True   \n",
       " 3                 0.132242          31.064991            1       True   \n",
       " 4                 0.164353           2.271629            2       True   \n",
       " 5                 0.317076           7.671087            2       True   \n",
       " 6                 0.019664          35.719690            1       True   \n",
       " 7                 0.262636          17.983889            1       True   \n",
       " 8                 0.500525          21.009014            2       True   \n",
       " 9                 0.355188          55.108391            2       True   \n",
       " 10                0.058789          20.934397            2       True   \n",
       " 11                0.374789          23.551493            1       True   \n",
       " 12                0.025430          13.727199            2       True   \n",
       " 13                0.096634          22.251957            1       True   \n",
       " 14                0.278789          41.473707            2       True   \n",
       " 15                0.201614          46.979854            1       True   \n",
       " 16                0.143010          31.557456            2       True   \n",
       " 17                1.684564          67.239764            1       True   \n",
       " 18                0.161289           1.751087            1       True   \n",
       " 19                0.317384           3.554466            1       True   \n",
       " 20                0.013284           0.007113            1       True   \n",
       " 21                3.525496           0.008078            1       True   \n",
       " \n",
       "     fit_order  \n",
       " 0          12  \n",
       " 1          22  \n",
       " 2          16  \n",
       " 3           8  \n",
       " 4          17  \n",
       " 5          15  \n",
       " 6           6  \n",
       " 7           3  \n",
       " 8          13  \n",
       " 9          21  \n",
       " 10         19  \n",
       " 11          4  \n",
       " 12         14  \n",
       " 13          9  \n",
       " 14         20  \n",
       " 15         10  \n",
       " 16         18  \n",
       " 17         11  \n",
       " 18          7  \n",
       " 19          5  \n",
       " 20          2  \n",
       " 21          1  }"
      ]
     },
     "execution_count": 100,
     "metadata": {},
     "output_type": "execute_result"
    }
   ],
   "source": [
    "predictor_with_important_features.fit_summary()"
   ]
  },
  {
   "cell_type": "code",
   "execution_count": 80,
   "metadata": {
    "tags": []
   },
   "outputs": [
    {
     "name": "stderr",
     "output_type": "stream",
     "text": [
      "WARNING: Int features without null values at train time contain null values at inference time! Imputing nulls to 0. To avoid this, pass the features as floats during fit!\n",
      "WARNING: Int features with nulls: ['TotalBsmtSF', 'GarageCars', 'KitchenQual', 'BsmtUnfSF', 'total_basement_bathroom']\n"
     ]
    }
   ],
   "source": [
    "predictions_with_important_features = predictor_with_important_features.predict(test_df[important_features])\n",
    "\n"
   ]
  },
  {
   "cell_type": "code",
   "execution_count": null,
   "metadata": {},
   "outputs": [],
   "source": [
    "naive_mean_train_rmse = np.sqrt(mean_squared_error(train_df['SalePrice'], np.full(predictions_with_important_features['SalePrice'].shape, mean_price)))\n",
    "naive_mean_validation_rmse = np.sqrt(mean_squared_error(validation_df['SalePrice'], np.full(validation_df['SalePrice'].shape, mean_price)))\n",
    "\n",
    "print('RMSE score (train data): {}'.format(np.around(naive_mean_train_rmse, 5)))\n",
    "print('RMSE score (test data): {}'.format(np.around(naive_mean_validation_rmse, 5)))\n",
    "naive_mean_rmse_degradation = np.round((naive_mean_validation_rmse/naive_mean_train_rmse - 1)*100, 2)\n",
    "print('RMSE degradation on unseen data: {}%'.format(naive_mean_rmse_degradation))"
   ]
  },
  {
   "cell_type": "code",
   "execution_count": 81,
   "metadata": {
    "tags": []
   },
   "outputs": [
    {
     "name": "stdout",
     "output_type": "stream",
     "text": [
      "<class 'pandas.core.frame.DataFrame'>\n",
      "RangeIndex: 1459 entries, 0 to 1458\n",
      "Data columns (total 2 columns):\n",
      " #   Column     Non-Null Count  Dtype  \n",
      "---  ------     --------------  -----  \n",
      " 0   Id         1459 non-null   int64  \n",
      " 1   SalePrice  1459 non-null   float64\n",
      "dtypes: float64(1), int64(1)\n",
      "memory usage: 22.9 KB\n"
     ]
    }
   ],
   "source": [
    "submission = pd.read_csv(\"./data/sample_submission.csv\")\n",
    "submission.info()"
   ]
  },
  {
   "cell_type": "code",
   "execution_count": 82,
   "metadata": {
    "tags": []
   },
   "outputs": [],
   "source": [
    "submission[\"SalePrice\"] = predictions_with_important_features\n",
    "submission.loc[submission[\"SalePrice\"] < 0, \"SalePrice\"] = 0\n",
    "submission.to_csv(\"submission_important_features_only.csv\", index=False)"
   ]
  },
  {
   "cell_type": "code",
   "execution_count": 83,
   "metadata": {
    "tags": []
   },
   "outputs": [
    {
     "name": "stdout",
     "output_type": "stream",
     "text": [
      "/bin/sh: kaggle: command not found\n"
     ]
    }
   ],
   "source": [
    "!kaggle competitions submit -c house-prices-advanced-regression-techniques -f submission_important_features_only.csv -m \"House Prediction second trial\""
   ]
  },
  {
   "cell_type": "markdown",
   "metadata": {},
   "source": [
    "### Model 3 (with hyperparameter tuning)"
   ]
  },
  {
   "cell_type": "markdown",
   "metadata": {},
   "source": [
    "Saved to : \"AutogluonModels/ag-20230831_233521/\""
   ]
  },
  {
   "cell_type": "code",
   "execution_count": 78,
   "metadata": {
    "tags": []
   },
   "outputs": [
    {
     "name": "stderr",
     "output_type": "stream",
     "text": [
      "No path specified. Models will be saved in: \"AutogluonModels/ag-20230831_233521/\"\n",
      "Presets specified: ['best_quality']\n",
      "Warning: hyperparameter tuning is currently experimental and may cause the process to hang.\n",
      "Stack configuration (auto_stack=True): num_stack_levels=1, num_bag_folds=8, num_bag_sets=20\n",
      "Beginning AutoGluon training ... Time limit = 1200s\n",
      "AutoGluon will save models to \"AutogluonModels/ag-20230831_233521/\"\n",
      "AutoGluon Version:  0.8.2\n",
      "Python Version:     3.10.12\n",
      "Operating System:   Linux\n",
      "Platform Machine:   x86_64\n",
      "Platform Version:   #1 SMP Tue Jun 27 21:48:55 UTC 2023\n",
      "Disk Space Avail:   3.01 GB / 5.13 GB (58.7%)\n",
      "\tWARNING: Available disk space is low and there is a risk that AutoGluon will run out of disk during fit, causing an exception. \n",
      "\tWe recommend a minimum available disk space of 10 GB, and large datasets may require more.\n",
      "Train Data Rows:    1460\n",
      "Train Data Columns: 45\n",
      "Label Column: SalePrice\n",
      "Preprocessing data ...\n",
      "AutoGluon infers your prediction problem is: 'regression' (because dtype of label-column == int and many unique label-values observed).\n",
      "\tLabel info (max, min, mean, stddev): (755000, 34900, 180921.19589, 79442.50288)\n",
      "\tIf 'regression' is not the correct problem_type, please manually specify the problem_type parameter during predictor init (You may specify problem_type as one of: ['binary', 'multiclass', 'regression'])\n",
      "Using Feature Generators to preprocess the data ...\n",
      "Fitting AutoMLPipelineFeatureGenerator...\n",
      "\tAvailable Memory:                    6134.46 MB\n",
      "\tTrain Data (Original)  Memory Usage: 0.27 MB (0.0% of available memory)\n",
      "\tInferring data type of each feature based on column values. Set feature_metadata_in to manually specify special dtypes of the features.\n",
      "\tStage 1 Generators:\n",
      "\t\tFitting AsTypeFeatureGenerator...\n",
      "\t\t\tNote: Converting 25 features to boolean dtype as they only contain 2 unique values.\n",
      "\tStage 2 Generators:\n",
      "\t\tFitting FillNaFeatureGenerator...\n",
      "\tStage 3 Generators:\n",
      "\t\tFitting IdentityFeatureGenerator...\n",
      "\tStage 4 Generators:\n",
      "\t\tFitting DropUniqueFeatureGenerator...\n",
      "\tStage 5 Generators:\n",
      "\t\tFitting DropDuplicatesFeatureGenerator...\n",
      "\tTypes of features in original data (raw dtype, special dtypes):\n",
      "\t\t('float', []) :  4 | ['BsmtExposure', 'BsmtQual', 'LotFrontage', 'BsmtFinType1']\n",
      "\t\t('int', [])   : 41 | ['GrLivArea', 'OverallQual', 'TotalBsmtSF', 'GarageCars', 'LotArea', ...]\n",
      "\tTypes of features in processed data (raw dtype, special dtypes):\n",
      "\t\t('float', [])     :  4 | ['BsmtExposure', 'BsmtQual', 'LotFrontage', 'BsmtFinType1']\n",
      "\t\t('int', [])       : 16 | ['GrLivArea', 'OverallQual', 'TotalBsmtSF', 'GarageCars', 'LotArea', ...]\n",
      "\t\t('int', ['bool']) : 25 | ['Neighborhood_Blmngtn', 'Neighborhood_Blueste', 'Neighborhood_BrDale', 'Neighborhood_BrkSide', 'Neighborhood_ClearCr', ...]\n",
      "\t0.3s = Fit runtime\n",
      "\t45 features in original data used to generate 45 features in processed data.\n",
      "\tTrain Data (Processed) Memory Usage: 0.27 MB (0.0% of available memory)\n",
      "Data preprocessing and feature engineering runtime = 0.3s ...\n",
      "AutoGluon will gauge predictive performance using evaluation metric: 'root_mean_squared_error'\n",
      "\tThis metric's sign has been flipped to adhere to being higher_is_better. The metric score can be multiplied by -1 to get the metric value.\n",
      "\tTo change this, specify the eval_metric parameter of Predictor()\n",
      "User-specified model hyperparameters to be fit:\n",
      "{\n",
      "\t'GBM': {'num_boost_round': 100, 'num_leaves': Int: lower=26, upper=66},\n",
      "\t'XGB': {'learning_rate': Real: lower=0.0001, upper=0.01, 'max_depth': 4, 'subsample': 0.6},\n",
      "}\n",
      "AutoGluon will fit 2 stack levels (L1 to L2) ...\n",
      "Fitting 2 L1 models ...\n",
      "Hyperparameter tuning model: LightGBM_BAG_L1 ... Tuning model for up to 359.82s of the 1199.7s of remaining time.\n"
     ]
    },
    {
     "data": {
      "application/vnd.jupyter.widget-view+json": {
       "model_id": "09f58ab6dd6445d5be5253e6859b7251",
       "version_major": 2,
       "version_minor": 0
      },
      "text/plain": [
       "  0%|          | 0/20 [00:00<?, ?it/s]"
      ]
     },
     "metadata": {},
     "output_type": "display_data"
    },
    {
     "name": "stderr",
     "output_type": "stream",
     "text": [
      "\tFitting 8 child models (S1F1 - S1F8) | Fitting with ParallelLocalFoldFittingStrategy\n",
      "\tFitting 8 child models (S1F1 - S1F8) | Fitting with ParallelLocalFoldFittingStrategy\n",
      "\tFitting 8 child models (S1F1 - S1F8) | Fitting with ParallelLocalFoldFittingStrategy\n",
      "\tFitting 8 child models (S1F1 - S1F8) | Fitting with ParallelLocalFoldFittingStrategy\n",
      "\tFitting 8 child models (S1F1 - S1F8) | Fitting with ParallelLocalFoldFittingStrategy\n",
      "\tFitting 8 child models (S1F1 - S1F8) | Fitting with ParallelLocalFoldFittingStrategy\n",
      "\tFitting 8 child models (S1F1 - S1F8) | Fitting with ParallelLocalFoldFittingStrategy\n",
      "\tFitting 8 child models (S1F1 - S1F8) | Fitting with ParallelLocalFoldFittingStrategy\n",
      "\tFitting 8 child models (S1F1 - S1F8) | Fitting with ParallelLocalFoldFittingStrategy\n",
      "\tFitting 8 child models (S1F1 - S1F8) | Fitting with ParallelLocalFoldFittingStrategy\n",
      "\tFitting 8 child models (S1F1 - S1F8) | Fitting with ParallelLocalFoldFittingStrategy\n",
      "\tFitting 8 child models (S1F1 - S1F8) | Fitting with ParallelLocalFoldFittingStrategy\n",
      "\tFitting 8 child models (S1F1 - S1F8) | Fitting with ParallelLocalFoldFittingStrategy\n",
      "\tFitting 8 child models (S1F1 - S1F8) | Fitting with ParallelLocalFoldFittingStrategy\n",
      "\tFitting 8 child models (S1F1 - S1F8) | Fitting with ParallelLocalFoldFittingStrategy\n",
      "\tFitting 8 child models (S1F1 - S1F8) | Fitting with ParallelLocalFoldFittingStrategy\n",
      "\tFitting 8 child models (S1F1 - S1F8) | Fitting with ParallelLocalFoldFittingStrategy\n",
      "\tFitting 8 child models (S1F1 - S1F8) | Fitting with ParallelLocalFoldFittingStrategy\n",
      "\tFitting 8 child models (S1F1 - S1F8) | Fitting with ParallelLocalFoldFittingStrategy\n",
      "\tFitting 8 child models (S1F1 - S1F8) | Fitting with ParallelLocalFoldFittingStrategy\n",
      "Fitted model: LightGBM_BAG_L1/T1 ...\n",
      "\t-28094.9697\t = Validation score   (-root_mean_squared_error)\n",
      "\t13.22s\t = Training   runtime\n",
      "\t0.0s\t = Validation runtime\n",
      "Fitted model: LightGBM_BAG_L1/T2 ...\n",
      "\t-27190.5274\t = Validation score   (-root_mean_squared_error)\n",
      "\t13.83s\t = Training   runtime\n",
      "\t0.0s\t = Validation runtime\n",
      "Fitted model: LightGBM_BAG_L1/T3 ...\n",
      "\t-29369.6393\t = Validation score   (-root_mean_squared_error)\n",
      "\t15.8s\t = Training   runtime\n",
      "\t0.0s\t = Validation runtime\n",
      "Fitted model: LightGBM_BAG_L1/T4 ...\n",
      "\t-51928.6859\t = Validation score   (-root_mean_squared_error)\n",
      "\t14.4s\t = Training   runtime\n",
      "\t0.0s\t = Validation runtime\n",
      "Fitted model: LightGBM_BAG_L1/T5 ...\n",
      "\t-29228.6575\t = Validation score   (-root_mean_squared_error)\n",
      "\t17.95s\t = Training   runtime\n",
      "\t0.0s\t = Validation runtime\n",
      "Fitted model: LightGBM_BAG_L1/T6 ...\n",
      "\t-50042.5193\t = Validation score   (-root_mean_squared_error)\n",
      "\t14.71s\t = Training   runtime\n",
      "\t0.0s\t = Validation runtime\n",
      "Fitted model: LightGBM_BAG_L1/T7 ...\n",
      "\t-27364.0603\t = Validation score   (-root_mean_squared_error)\n",
      "\t14.39s\t = Training   runtime\n",
      "\t0.0s\t = Validation runtime\n",
      "Fitted model: LightGBM_BAG_L1/T8 ...\n",
      "\t-28515.3862\t = Validation score   (-root_mean_squared_error)\n",
      "\t13.76s\t = Training   runtime\n",
      "\t0.0s\t = Validation runtime\n",
      "Fitted model: LightGBM_BAG_L1/T9 ...\n",
      "\t-48432.2413\t = Validation score   (-root_mean_squared_error)\n",
      "\t13.87s\t = Training   runtime\n",
      "\t0.0s\t = Validation runtime\n",
      "Fitted model: LightGBM_BAG_L1/T10 ...\n",
      "\t-27792.1937\t = Validation score   (-root_mean_squared_error)\n",
      "\t14.08s\t = Training   runtime\n",
      "\t0.0s\t = Validation runtime\n",
      "Fitted model: LightGBM_BAG_L1/T11 ...\n",
      "\t-36325.3607\t = Validation score   (-root_mean_squared_error)\n",
      "\t16.21s\t = Training   runtime\n",
      "\t0.0s\t = Validation runtime\n",
      "Fitted model: LightGBM_BAG_L1/T12 ...\n",
      "\t-56417.8071\t = Validation score   (-root_mean_squared_error)\n",
      "\t14.23s\t = Training   runtime\n",
      "\t0.0s\t = Validation runtime\n",
      "Fitted model: LightGBM_BAG_L1/T13 ...\n",
      "\t-28069.5184\t = Validation score   (-root_mean_squared_error)\n",
      "\t14.26s\t = Training   runtime\n",
      "\t0.0s\t = Validation runtime\n",
      "Fitted model: LightGBM_BAG_L1/T14 ...\n",
      "\t-35914.0834\t = Validation score   (-root_mean_squared_error)\n",
      "\t14.17s\t = Training   runtime\n",
      "\t0.0s\t = Validation runtime\n",
      "Fitted model: LightGBM_BAG_L1/T15 ...\n",
      "\t-52622.4874\t = Validation score   (-root_mean_squared_error)\n",
      "\t14.39s\t = Training   runtime\n",
      "\t0.0s\t = Validation runtime\n",
      "Fitted model: LightGBM_BAG_L1/T16 ...\n",
      "\t-41868.2432\t = Validation score   (-root_mean_squared_error)\n",
      "\t13.81s\t = Training   runtime\n",
      "\t0.0s\t = Validation runtime\n",
      "Fitted model: LightGBM_BAG_L1/T17 ...\n",
      "\t-35800.7652\t = Validation score   (-root_mean_squared_error)\n",
      "\t13.62s\t = Training   runtime\n",
      "\t0.0s\t = Validation runtime\n",
      "Fitted model: LightGBM_BAG_L1/T18 ...\n",
      "\t-29002.1747\t = Validation score   (-root_mean_squared_error)\n",
      "\t18.16s\t = Training   runtime\n",
      "\t0.0s\t = Validation runtime\n",
      "Fitted model: LightGBM_BAG_L1/T19 ...\n",
      "\t-28664.701\t = Validation score   (-root_mean_squared_error)\n",
      "\t16.36s\t = Training   runtime\n",
      "\t0.0s\t = Validation runtime\n",
      "Fitted model: LightGBM_BAG_L1/T20 ...\n",
      "\t-28085.1613\t = Validation score   (-root_mean_squared_error)\n",
      "\t14.19s\t = Training   runtime\n",
      "\t0.0s\t = Validation runtime\n",
      "Hyperparameter tuning model: XGBoost_BAG_L1 ... Tuning model for up to 359.82s of the 903.74s of remaining time.\n"
     ]
    },
    {
     "data": {
      "application/vnd.jupyter.widget-view+json": {
       "model_id": "7f42a4adb7314a6b825a45cd4c272cf5",
       "version_major": 2,
       "version_minor": 0
      },
      "text/plain": [
       "  0%|          | 0/20 [00:00<?, ?it/s]"
      ]
     },
     "metadata": {},
     "output_type": "display_data"
    },
    {
     "name": "stderr",
     "output_type": "stream",
     "text": [
      "\tFitting 8 child models (S1F1 - S1F8) | Fitting with ParallelLocalFoldFittingStrategy\n",
      "\tFitting 8 child models (S1F1 - S1F8) | Fitting with ParallelLocalFoldFittingStrategy\n",
      "\tFitting 8 child models (S1F1 - S1F8) | Fitting with ParallelLocalFoldFittingStrategy\n",
      "\tFitting 8 child models (S1F1 - S1F8) | Fitting with ParallelLocalFoldFittingStrategy\n",
      "\tStopping HPO to satisfy time limit...\n",
      "Fitted model: XGBoost_BAG_L1/T1 ...\n",
      "\t-26437.5523\t = Validation score   (-root_mean_squared_error)\n",
      "\t104.57s\t = Training   runtime\n",
      "\t0.0s\t = Validation runtime\n",
      "Fitted model: XGBoost_BAG_L1/T2 ...\n",
      "\t-25618.8007\t = Validation score   (-root_mean_squared_error)\n",
      "\t72.3s\t = Training   runtime\n",
      "\t0.0s\t = Validation runtime\n",
      "Fitted model: XGBoost_BAG_L1/T3 ...\n",
      "\t-25475.7655\t = Validation score   (-root_mean_squared_error)\n",
      "\t60.26s\t = Training   runtime\n",
      "\t0.0s\t = Validation runtime\n",
      "Fitted model: XGBoost_BAG_L1/T4 ...\n",
      "\t-25656.173\t = Validation score   (-root_mean_squared_error)\n",
      "\t91.08s\t = Training   runtime\n",
      "\t0.0s\t = Validation runtime\n",
      "Completed 1/20 k-fold bagging repeats ...\n",
      "Fitting model: WeightedEnsemble_L2 ... Training model for up to 360.0s of the 575.22s of remaining time.\n",
      "\t-25261.7682\t = Validation score   (-root_mean_squared_error)\n",
      "\t0.38s\t = Training   runtime\n",
      "\t0.0s\t = Validation runtime\n",
      "Fitting 2 L2 models ...\n",
      "Hyperparameter tuning model: LightGBM_BAG_L2 ... Tuning model for up to 258.65s of the 574.77s of remaining time.\n"
     ]
    },
    {
     "data": {
      "application/vnd.jupyter.widget-view+json": {
       "model_id": "da2fc356137e442685757c1070dd669d",
       "version_major": 2,
       "version_minor": 0
      },
      "text/plain": [
       "  0%|          | 0/20 [00:00<?, ?it/s]"
      ]
     },
     "metadata": {},
     "output_type": "display_data"
    },
    {
     "name": "stderr",
     "output_type": "stream",
     "text": [
      "\tFitting 8 child models (S1F1 - S1F8) | Fitting with ParallelLocalFoldFittingStrategy\n",
      "\tFitting 8 child models (S1F1 - S1F8) | Fitting with ParallelLocalFoldFittingStrategy\n",
      "\tFitting 8 child models (S1F1 - S1F8) | Fitting with ParallelLocalFoldFittingStrategy\n",
      "\tFitting 8 child models (S1F1 - S1F8) | Fitting with ParallelLocalFoldFittingStrategy\n",
      "\tFitting 8 child models (S1F1 - S1F8) | Fitting with ParallelLocalFoldFittingStrategy\n",
      "\tFitting 8 child models (S1F1 - S1F8) | Fitting with ParallelLocalFoldFittingStrategy\n",
      "\tFitting 8 child models (S1F1 - S1F8) | Fitting with ParallelLocalFoldFittingStrategy\n",
      "\tFitting 8 child models (S1F1 - S1F8) | Fitting with ParallelLocalFoldFittingStrategy\n",
      "\tFitting 8 child models (S1F1 - S1F8) | Fitting with ParallelLocalFoldFittingStrategy\n",
      "\tFitting 8 child models (S1F1 - S1F8) | Fitting with ParallelLocalFoldFittingStrategy\n",
      "\tFitting 8 child models (S1F1 - S1F8) | Fitting with ParallelLocalFoldFittingStrategy\n",
      "\tFitting 8 child models (S1F1 - S1F8) | Fitting with ParallelLocalFoldFittingStrategy\n",
      "\tFitting 8 child models (S1F1 - S1F8) | Fitting with ParallelLocalFoldFittingStrategy\n",
      "\tFitting 8 child models (S1F1 - S1F8) | Fitting with ParallelLocalFoldFittingStrategy\n",
      "\tFitting 8 child models (S1F1 - S1F8) | Fitting with ParallelLocalFoldFittingStrategy\n",
      "\tFitting 8 child models (S1F1 - S1F8) | Fitting with ParallelLocalFoldFittingStrategy\n",
      "\tStopping HPO to satisfy time limit...\n",
      "Fitted model: LightGBM_BAG_L2/T1 ...\n",
      "\t-28126.2555\t = Validation score   (-root_mean_squared_error)\n",
      "\t17.19s\t = Training   runtime\n",
      "\t0.0s\t = Validation runtime\n",
      "Fitted model: LightGBM_BAG_L2/T2 ...\n",
      "\t-27950.5402\t = Validation score   (-root_mean_squared_error)\n",
      "\t15.63s\t = Training   runtime\n",
      "\t0.0s\t = Validation runtime\n",
      "Fitted model: LightGBM_BAG_L2/T3 ...\n",
      "\t-29520.2807\t = Validation score   (-root_mean_squared_error)\n",
      "\t15.0s\t = Training   runtime\n",
      "\t0.0s\t = Validation runtime\n",
      "Fitted model: LightGBM_BAG_L2/T4 ...\n",
      "\t-48544.2191\t = Validation score   (-root_mean_squared_error)\n",
      "\t14.7s\t = Training   runtime\n",
      "\t0.0s\t = Validation runtime\n",
      "Fitted model: LightGBM_BAG_L2/T5 ...\n",
      "\t-28457.8823\t = Validation score   (-root_mean_squared_error)\n",
      "\t15.94s\t = Training   runtime\n",
      "\t0.0s\t = Validation runtime\n",
      "Fitted model: LightGBM_BAG_L2/T6 ...\n",
      "\t-47393.6176\t = Validation score   (-root_mean_squared_error)\n",
      "\t16.06s\t = Training   runtime\n",
      "\t0.0s\t = Validation runtime\n",
      "Fitted model: LightGBM_BAG_L2/T7 ...\n",
      "\t-27783.6881\t = Validation score   (-root_mean_squared_error)\n",
      "\t14.53s\t = Training   runtime\n",
      "\t0.0s\t = Validation runtime\n",
      "Fitted model: LightGBM_BAG_L2/T8 ...\n",
      "\t-29233.7627\t = Validation score   (-root_mean_squared_error)\n",
      "\t15.66s\t = Training   runtime\n",
      "\t0.0s\t = Validation runtime\n",
      "Fitted model: LightGBM_BAG_L2/T9 ...\n",
      "\t-44575.1699\t = Validation score   (-root_mean_squared_error)\n",
      "\t16.64s\t = Training   runtime\n",
      "\t0.0s\t = Validation runtime\n",
      "Fitted model: LightGBM_BAG_L2/T10 ...\n",
      "\t-28404.6279\t = Validation score   (-root_mean_squared_error)\n",
      "\t15.01s\t = Training   runtime\n",
      "\t0.0s\t = Validation runtime\n",
      "Fitted model: LightGBM_BAG_L2/T11 ...\n",
      "\t-33914.4094\t = Validation score   (-root_mean_squared_error)\n",
      "\t20.77s\t = Training   runtime\n",
      "\t0.0s\t = Validation runtime\n",
      "Fitted model: LightGBM_BAG_L2/T12 ...\n",
      "\t-52457.4306\t = Validation score   (-root_mean_squared_error)\n",
      "\t14.63s\t = Training   runtime\n",
      "\t0.0s\t = Validation runtime\n",
      "Fitted model: LightGBM_BAG_L2/T13 ...\n",
      "\t-27891.8626\t = Validation score   (-root_mean_squared_error)\n",
      "\t15.72s\t = Training   runtime\n",
      "\t0.0s\t = Validation runtime\n",
      "Fitted model: LightGBM_BAG_L2/T14 ...\n",
      "\t-32312.5801\t = Validation score   (-root_mean_squared_error)\n",
      "\t14.07s\t = Training   runtime\n",
      "\t0.0s\t = Validation runtime\n",
      "Fitted model: LightGBM_BAG_L2/T15 ...\n",
      "\t-49031.4265\t = Validation score   (-root_mean_squared_error)\n",
      "\t14.34s\t = Training   runtime\n",
      "\t0.0s\t = Validation runtime\n",
      "Fitted model: LightGBM_BAG_L2/T16 ...\n",
      "\t-37680.2219\t = Validation score   (-root_mean_squared_error)\n",
      "\t15.39s\t = Training   runtime\n",
      "\t0.0s\t = Validation runtime\n",
      "Hyperparameter tuning model: XGBoost_BAG_L2 ... Tuning model for up to 258.65s of the 322.94s of remaining time.\n"
     ]
    },
    {
     "data": {
      "application/vnd.jupyter.widget-view+json": {
       "model_id": "f42c46e7cfca474f934c8f88dc7dacb1",
       "version_major": 2,
       "version_minor": 0
      },
      "text/plain": [
       "  0%|          | 0/20 [00:00<?, ?it/s]"
      ]
     },
     "metadata": {},
     "output_type": "display_data"
    },
    {
     "name": "stderr",
     "output_type": "stream",
     "text": [
      "\tFitting 8 child models (S1F1 - S1F8) | Fitting with ParallelLocalFoldFittingStrategy\n",
      "\tStopping HPO to satisfy time limit...\n",
      "Fitted model: XGBoost_BAG_L2/T1 ...\n",
      "\t-27984.1009\t = Validation score   (-root_mean_squared_error)\n",
      "\t190.04s\t = Training   runtime\n",
      "\t0.0s\t = Validation runtime\n",
      "Completed 1/20 k-fold bagging repeats ...\n",
      "Fitting model: WeightedEnsemble_L3 ... Training model for up to 360.0s of the 132.69s of remaining time.\n",
      "\t-27281.0203\t = Validation score   (-root_mean_squared_error)\n",
      "\t0.28s\t = Training   runtime\n",
      "\t0.0s\t = Validation runtime\n",
      "AutoGluon training complete, total runtime = 1067.65s ... Best model: \"WeightedEnsemble_L2\"\n",
      "TabularPredictor saved. To load, use: predictor = TabularPredictor.load(\"AutogluonModels/ag-20230831_233521/\")\n"
     ]
    }
   ],
   "source": [
    "import autogluon.core as ag\n",
    "import pandas as pd\n",
    "from autogluon.tabular import TabularPredictor\n",
    "\n",
    "\n",
    "gbm_options = {\n",
    "    # specifies non-default hyperparameter values for lightGBM gradient boosted trees\n",
    "    'num_boost_round': 100,\n",
    "    # number of boosting rounds (controls training time of GBM models)\n",
    "    'num_leaves': ag.space.Int(lower=26, upper=66, default=36),\n",
    "    # number of leaves in trees (integer hyperparameter)\n",
    "}\n",
    "\n",
    "xgb_options = {\n",
    "    'learning_rate': ag.space.Real(1e-4, 1e-2, default=5e-4, log=True),\n",
    "    'max_depth': 4,\n",
    "    'subsample': 0.6,\n",
    "}\n",
    "\n",
    "hyperparameters = {\n",
    "    # hyperparameters of each model type\n",
    "    'GBM': gbm_options,\n",
    "    'XGB': xgb_options,\n",
    "}\n",
    "\n",
    "\n",
    "hyperparameter_tune_kwargs = {\n",
    "    'num_trials': 20,\n",
    "    'scheduler' : 'local',\n",
    "    'searcher': 'auto',\n",
    "}\n",
    "\n",
    "predictor_hpo = TabularPredictor(\n",
    "    label=\"SalePrice\",\n",
    "    eval_metric=\"root_mean_squared_error\"). \\\n",
    "    fit(\n",
    "    train_data=train_df[important_features],\n",
    "    time_limit=1200,\n",
    "    presets=\"best_quality\",\n",
    "    hyperparameters=hyperparameters,\n",
    "    hyperparameter_tune_kwargs=hyperparameter_tune_kwargs,\n",
    ")"
   ]
  },
  {
   "cell_type": "code",
   "execution_count": 111,
   "metadata": {
    "tags": []
   },
   "outputs": [],
   "source": [
    "predictor_hpo = TabularPredictor.load(\"./AutogluonModels/ag-20230831_233521/\", require_version_match=False, require_py_version_match=False)"
   ]
  },
  {
   "cell_type": "code",
   "execution_count": 81,
   "metadata": {
    "tags": []
   },
   "outputs": [
    {
     "name": "stderr",
     "output_type": "stream",
     "text": [
      "WARNING: Int features without null values at train time contain null values at inference time! Imputing nulls to 0. To avoid this, pass the features as floats during fit!\n",
      "WARNING: Int features with nulls: ['TotalBsmtSF', 'GarageCars', 'KitchenQual', 'BsmtUnfSF', 'total_basement_bathroom']\n"
     ]
    },
    {
     "data": {
      "text/plain": [
       "0    125787.796875\n",
       "1    156920.093750\n",
       "2    177994.953125\n",
       "3    190261.250000\n",
       "4    188676.187500\n",
       "Name: SalePrice, dtype: float32"
      ]
     },
     "execution_count": 81,
     "metadata": {},
     "output_type": "execute_result"
    }
   ],
   "source": [
    "predictions_hpo = predictor_hpo.predict(test_df)\n",
    "predictions_hpo.head()"
   ]
  },
  {
   "cell_type": "code",
   "execution_count": 83,
   "metadata": {
    "tags": []
   },
   "outputs": [
    {
     "name": "stdout",
     "output_type": "stream",
     "text": [
      "<class 'pandas.core.frame.DataFrame'>\n",
      "RangeIndex: 1459 entries, 0 to 1458\n",
      "Data columns (total 2 columns):\n",
      " #   Column     Non-Null Count  Dtype  \n",
      "---  ------     --------------  -----  \n",
      " 0   Id         1459 non-null   int64  \n",
      " 1   SalePrice  1459 non-null   float64\n",
      "dtypes: float64(1), int64(1)\n",
      "memory usage: 22.9 KB\n"
     ]
    }
   ],
   "source": [
    "submission = pd.read_csv(\"./data/sample_submission.csv\")\n",
    "submission.info()"
   ]
  },
  {
   "cell_type": "code",
   "execution_count": 84,
   "metadata": {
    "tags": []
   },
   "outputs": [],
   "source": [
    "submission[\"SalePrice\"] = predictions_hpo\n",
    "submission.loc[submission[\"SalePrice\"] < 0, \"SalePrice\"] = 0\n",
    "submission.to_csv(\"submission_hop.csv\", index=False)"
   ]
  },
  {
   "cell_type": "code",
   "execution_count": 85,
   "metadata": {
    "collapsed": false,
    "jupyter": {
     "outputs_hidden": false
    },
    "tags": []
   },
   "outputs": [
    {
     "name": "stdout",
     "output_type": "stream",
     "text": [
      "/bin/sh: kaggle: command not found\n"
     ]
    }
   ],
   "source": [
    "!kaggle competitions submit -c house-prices-advanced-regression-techniques -f submission.csv -m \"House Prediction result first trial\""
   ]
  },
  {
   "cell_type": "markdown",
   "metadata": {
    "tags": []
   },
   "source": [
    "## Model evaluation and  Benchmarking "
   ]
  },
  {
   "cell_type": "markdown",
   "metadata": {
    "tags": []
   },
   "source": [
    "### Model 0"
   ]
  },
  {
   "cell_type": "code",
   "execution_count": 133,
   "metadata": {
    "tags": []
   },
   "outputs": [
    {
     "name": "stdout",
     "output_type": "stream",
     "text": [
      "RMSE score (train data): 78063.26224\n",
      "RMSE score (test data): 84607.63135\n",
      "RMSE degradation on unseen data: 8.38%\n"
     ]
    }
   ],
   "source": [
    "from sklearn.metrics import mean_squared_error\n",
    "\n",
    "naive_mean_train_rmse = np.sqrt(mean_squared_error(train_df['SalePrice'], np.full(train_df['SalePrice'].shape, mean_price)))\n",
    "naive_mean_validation_rmse = np.sqrt(mean_squared_error(validation_df['SalePrice'], np.full(validation_df['SalePrice'].shape, mean_price)))\n",
    "\n",
    "print('RMSE score (train data): {}'.format(np.around(naive_mean_train_rmse, 5)))\n",
    "print('RMSE score (test data): {}'.format(np.around(naive_mean_validation_rmse, 5)))\n",
    "naive_mean_rmse_degradation = np.round((naive_mean_validation_rmse/naive_mean_train_rmse - 1)*100, 2)\n",
    "print('RMSE degradation on unseen data: {}%'.format(naive_mean_rmse_degradation))"
   ]
  },
  {
   "cell_type": "markdown",
   "metadata": {
    "tags": []
   },
   "source": [
    "**Kaggle score** : NA"
   ]
  },
  {
   "cell_type": "markdown",
   "metadata": {},
   "source": [
    "### Model 1 "
   ]
  },
  {
   "cell_type": "code",
   "execution_count": 117,
   "metadata": {
    "tags": []
   },
   "outputs": [],
   "source": [
    "predictions_default_train = predictor.predict(train_df)\n"
   ]
  },
  {
   "cell_type": "code",
   "execution_count": 118,
   "metadata": {
    "tags": []
   },
   "outputs": [],
   "source": [
    "predictions_default_validation = predictor.predict(validation_df)\n"
   ]
  },
  {
   "cell_type": "code",
   "execution_count": 121,
   "metadata": {
    "tags": []
   },
   "outputs": [
    {
     "name": "stdout",
     "output_type": "stream",
     "text": [
      "Train RMSE score Model 1 (Default configuration) : 11746.0474\n",
      "Test RMSE score Model 1 (Default configuration) : 28801.5326\n",
      "RMSE degradation score: 145.2%\n"
     ]
    }
   ],
   "source": [
    "training_rmse_model_1 = np.sqrt(mean_squared_error(train_df[\"SalePrice\"], predictions_default_train))\n",
    "print('Train RMSE score Model 1 (Default configuration) : {}'.format(np.round(training_rmse_model_1, 4)))\n",
    "\n",
    "testing_rmse_model_1 = np.sqrt(mean_squared_error(validation_df[\"SalePrice\"], predictions_default_validation))\n",
    "print('Test RMSE score Model 1 (Default configuration) : {}'.format(np.round(testing_rmse_model_1, 4)))\n",
    "    \n",
    "testing_rmse_degradation_model_1 = np.round((testing_rmse_model_1/training_rmse_model_1 - 1)*100, 2)\n",
    "print('RMSE degradation score: {}%'.format(testing_rmse_degradation_model_1))"
   ]
  },
  {
   "cell_type": "markdown",
   "metadata": {},
   "source": [
    "**Kaggle score**: 0.56913"
   ]
  },
  {
   "cell_type": "markdown",
   "metadata": {
    "tags": []
   },
   "source": [
    "### Model 2"
   ]
  },
  {
   "cell_type": "code",
   "execution_count": 91,
   "metadata": {
    "tags": []
   },
   "outputs": [],
   "source": [
    "predictions_with_important_features_train = predictor_with_important_features.predict(train_df[important_features])\n"
   ]
  },
  {
   "cell_type": "code",
   "execution_count": 92,
   "metadata": {
    "tags": []
   },
   "outputs": [],
   "source": [
    "predictions_with_important_features_validation = predictor_with_important_features.predict(validation_df[important_features])\n"
   ]
  },
  {
   "cell_type": "code",
   "execution_count": 131,
   "metadata": {
    "tags": []
   },
   "outputs": [
    {
     "name": "stdout",
     "output_type": "stream",
     "text": [
      "Train RMSE score Model 2 (Default configuration) : 11746.0474\n",
      "Test RMSE score Model 2 (Default configuration) : 28801.5326\n",
      "RMSE degradation score: 0.72%\n"
     ]
    }
   ],
   "source": [
    "training_rmse_model_2 = np.sqrt(mean_squared_error(train_df[\"SalePrice\"], predictions_with_important_features_train))\n",
    "print('Train RMSE score Model 2 (Default configuration) : {}'.format(np.round(training_rmse_model_1, 4)))\n",
    "\n",
    "testing_rmse_model_2 = np.sqrt(mean_squared_error(validation_df[\"SalePrice\"], predictions_with_important_features_validation))\n",
    "print('Test RMSE score Model 2 (Default configuration) : {}'.format(np.round(testing_rmse_model_1, 4)))\n",
    "    \n",
    "testing_rmse_degradation_model_2 = np.round((testing_rmse_model_2/training_rmse_model_2 - 1)*100, 2)\n",
    "print('RMSE degradation score: {}%'.format(testing_rmse_degradation_model_2))"
   ]
  },
  {
   "cell_type": "markdown",
   "metadata": {
    "tags": []
   },
   "source": [
    "**Kaggle Score**: 0.1278"
   ]
  },
  {
   "cell_type": "markdown",
   "metadata": {},
   "source": [
    "### Model 3"
   ]
  },
  {
   "cell_type": "code",
   "execution_count": 123,
   "metadata": {
    "tags": []
   },
   "outputs": [],
   "source": [
    "predictions_hpo_train = predictor_hpo.predict(train_df)\n"
   ]
  },
  {
   "cell_type": "code",
   "execution_count": 124,
   "metadata": {
    "tags": []
   },
   "outputs": [],
   "source": [
    "predictions_hpo_validation = predictor_hpo.predict(validation_df)\n"
   ]
  },
  {
   "cell_type": "code",
   "execution_count": 130,
   "metadata": {
    "tags": []
   },
   "outputs": [
    {
     "name": "stdout",
     "output_type": "stream",
     "text": [
      "Train RMSE score Model 3 (Default configuration) : 12636.1829\n",
      "Test RMSE score Model 3 (Default configuration) : 12208.2956\n",
      "RMSE degradation score: -3.39%\n"
     ]
    }
   ],
   "source": [
    "training_rmse_model_3 = np.sqrt(mean_squared_error(train_df[\"SalePrice\"], predictions_hpo_train))\n",
    "print('Train RMSE score Model 3 (Default configuration) : {}'.format(np.round(training_rmse_model_3, 4)))\n",
    "\n",
    "testing_rmse_model_3 = np.sqrt(mean_squared_error(validation_df[\"SalePrice\"], predictions_hpo_validation))\n",
    "print('Test RMSE score Model 3 (Default configuration) : {}'.format(np.round(testing_rmse_model_3, 4)))\n",
    "    \n",
    "testing_rmse_degradation_model_3 = np.round((testing_rmse_model_3/training_rmse_model_3 - 1)*100, 2)\n",
    "print('RMSE degradation score: {}%'.format(testing_rmse_degradation_model_3))"
   ]
  },
  {
   "cell_type": "markdown",
   "metadata": {},
   "source": [
    "**Kaggle score** : 0.13077"
   ]
  },
  {
   "cell_type": "markdown",
   "metadata": {},
   "source": [
    "From the evaluation tests below it seems the Model 2 is the best as it  achieves a degradation score of 0.72 and a score of 0.12. This means that when the model is tested on an unseen data it still keep the same prediction performance as when tested with training data. Also it achieves good score in Kaggle leaderboard of 0.12 which is significant improvement over the baseline model.  Model 1 clearly has issue over overffiting, the predictions on validation data are not as accurate as with trained data.    "
   ]
  },
  {
   "cell_type": "code",
   "execution_count": 135,
   "metadata": {
    "tags": []
   },
   "outputs": [
    {
     "data": {
      "text/plain": [
       "<bound method Series.info of 258     214772.859375\n",
       "267     182259.000000\n",
       "288     116668.109375\n",
       "649      80440.312500\n",
       "1233    141474.656250\n",
       "            ...      \n",
       "163      91400.093750\n",
       "47      248323.046875\n",
       "1432     92700.570312\n",
       "98       88520.742188\n",
       "409     318749.000000\n",
       "Name: SalePrice, Length: 292, dtype: float32>"
      ]
     },
     "execution_count": 135,
     "metadata": {},
     "output_type": "execute_result"
    }
   ],
   "source": [
    "predictions_with_important_features_validation."
   ]
  },
  {
   "cell_type": "markdown",
   "metadata": {},
   "source": [
    "The following highlight the summary of our selected model:"
   ]
  },
  {
   "cell_type": "markdown",
   "metadata": {},
   "source": [
    "Further improvement can be mase using a combinaision of the following approches:\n",
    "\n",
    "More Feature engineering and elimination: we could try to rerun the feature_importance function and determine additional features to eliminate from our tests.\n",
    "\n",
    "We could also try diffrent hyper parameter to try to achieve better prediction. Hyperparameter configuration could be  centralized in yaml file and checkecd in github for better treacability."
   ]
  },
  {
   "cell_type": "markdown",
   "metadata": {},
   "source": [
    "We could also pick the best algorithm (i.e: LighGBM) and train it with different hyperparameter specific for the the selected algorithm."
   ]
  },
  {
   "cell_type": "markdown",
   "metadata": {},
   "source": [
    "However, for our purpose using Autogluon along with feature enigneering and feature elimination based on importance was enough to achieve our goal. Our selected model (Model 2) is capable of predicting the right sale price in almost 88 % of the time. "
   ]
  }
 ],
 "metadata": {
  "kernelspec": {
   "display_name": "conda_pytorch_p310",
   "language": "python",
   "name": "conda_pytorch_p310"
  },
  "language_info": {
   "codemirror_mode": {
    "name": "ipython",
    "version": 3
   },
   "file_extension": ".py",
   "mimetype": "text/x-python",
   "name": "python",
   "nbconvert_exporter": "python",
   "pygments_lexer": "ipython3",
   "version": "3.10.12"
  }
 },
 "nbformat": 4,
 "nbformat_minor": 4
}
