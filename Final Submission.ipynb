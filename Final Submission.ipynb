{
 "cells": [
  {
   "cell_type": "markdown",
   "metadata": {},
   "source": [
    "The are 81 features describing each sales transaction in Alem, IOWA. The first step in the process to analyze the features and get a first glimpse of which feature/data is relevant to the prediction. I decided to follow the 'divide to conquer' approach by grouping the features in different following categories that known to be the areas of interest when a customer is shopping for the dream house.\n",
    "\n",
    "I defined the following main categories:\n",
    "\n",
    "* Kitchen features:\n",
    "* Basement Features: \"BsmtQual\", \"BsmtCond\", \"BsmtExposure\", \"BsmtFinType1\", \"BsmtFinSF1\", \"BsmtFinType2\", \"BsmtFinSF2\", \"BsmtUnfSF\"and  \"TotalBsmtSF\"\n",
    "* Garage Features:\n",
    " \"GarageYrBlt\", \"GarageFinish\", \"GarageCars\", \"GarageArea\", \"GarageQual\", \"GarageCond\"\n",
    "* Porch Features: \"OpenPorchSF\", \"EnclosedPorch\", \"3SsnPorch\", \"ScreenPorch\"\n",
    "* External Features: Exterior1st, Exterior2nd, RoofMatl, RoofStyle, MasVnrArea, ExterQual, ExterCond, Foundation\n",
    "* Size features:\n",
    "* Quality Features: OverallQual, OverallCond\n",
    "* House Type Features: \"BldgType\", \"HouseStyle\"\n",
    "* House Location Features:\n"
   ]
  },
  {
   "cell_type": "markdown",
   "metadata": {},
   "source": [
    "# Getting Started"
   ]
  },
  {
   "cell_type": "markdown",
   "metadata": {},
   "source": [
    "n this project, you will evaluate the performance and predictive power of a model that has been trained and tested on data collected from homes in suburbs of Ames, Iowa. A model trained on this data that is seen as a *good fit* could then be used to make certain predictions about a home — in particular, its monetary value. This model would prove to be invaluable for someone like a real estate agent who could make use of such information on a daily basis.\n",
    "\n",
    "The dataset for this project originates from the [Kaggle House Price Precition](https://www.kaggle.com/competitions/house-prices-advanced-regression-techniques/data). The dataset has records of 1460 house sold between 2010 and 2016 in Ames, Iowa. Each data record captures a list of 79 house features (ie: size, location) and the corresponding sale price.\n",
    "\n",
    "House features are described in a separate file: data_description.txt\n",
    "\n",
    "The dataset were compiled by Dean De Cok and collect the house sales in the area of Ames, Iowa.\n",
    "\n",
    "Run the following cell to load the data set:"
   ]
  },
  {
   "cell_type": "code",
   "execution_count": 67,
   "metadata": {
    "ExecuteTime": {
     "end_time": "2023-08-26T17:18:22.125040Z",
     "start_time": "2023-08-26T17:18:22.095136Z"
    },
    "collapsed": false,
    "jupyter": {
     "outputs_hidden": false
    },
    "tags": []
   },
   "outputs": [
    {
     "name": "stdout",
     "output_type": "stream",
     "text": [
      "Ames housing dataset has 1460 data points with 81 variables each.\n"
     ]
    }
   ],
   "source": [
    "import numpy as np\n",
    "import pandas as pd\n",
    "\n",
    "\n",
    "# read in test and train data\n",
    "\n",
    "train_df = pd.read_csv(\"./data/train.csv\")\n",
    "test_df = pd.read_csv(\"./data/test.csv\")\n",
    "print(\"Ames housing dataset has {} data points with {} variables each.\".format(*train_df.shape))\n",
    "\n"
   ]
  },
  {
   "cell_type": "markdown",
   "metadata": {},
   "source": [
    "Duplicates are removed"
   ]
  },
  {
   "cell_type": "code",
   "execution_count": 68,
   "metadata": {
    "ExecuteTime": {
     "end_time": "2023-08-26T18:11:16.282625Z",
     "start_time": "2023-08-26T18:11:16.267044Z"
    },
    "collapsed": false,
    "jupyter": {
     "outputs_hidden": false
    },
    "tags": []
   },
   "outputs": [
    {
     "name": "stdout",
     "output_type": "stream",
     "text": [
      "Test (1459, 80) Train (1460, 81)\n"
     ]
    }
   ],
   "source": [
    "train_df.duplicated(subset=None, keep=\"first\")\n",
    "test_df.duplicated(subset=None, keep=\"first\")\n",
    "print(\"Test\", test_df.shape, \"Train\", train_df.shape)\n"
   ]
  },
  {
   "cell_type": "markdown",
   "metadata": {},
   "source": [
    "# Data Exploration"
   ]
  },
  {
   "cell_type": "markdown",
   "metadata": {},
   "source": [
    "They are 81 features describing each sales transaction in Alem, IOWA. The first step in the process to analyze the features and get a first glimpse of which feature/data is relevant to the prediction. I decided to follow the 'divide to conquer' approach by grouping the features in different following categories that known to be the areas of interest when a customer is shopping for the dream house.\n",
    "\n",
    "I defined the following main categories:\n",
    "\n",
    "* Kitchen features:\n",
    "* Basement Features: \"BsmtQual\", \"BsmtCond\", \"BsmtExposure\", \"BsmtFinType1\", \"BsmtFinSF1\", \"BsmtFinType2\", \"BsmtFinSF2\", \"BsmtUnfSF\"and  \"TotalBsmtSF\"\n",
    "* Garage Features:\n",
    "\"GarageYrBlt\", \"GarageFinish\", \"GarageCars\", \"GarageArea\", \"GarageQual\", \"GarageCond\"\n",
    "* Porch Features: \"OpenPorchSF\", \"EnclosedPorch\", \"3SsnPorch\", \"ScreenPorch\"\n",
    "* External Features: Exterior1st, Exterior2nd, RoofMatl, RoofStyle, MasVnrArea, ExterQual, ExterCond, Foundation\n",
    "* Size features:\n",
    "* Quality Features: OverallQual, OverallCond\n",
    "* House Type Features: \"BldgType\", \"HouseStyle\"\n",
    "* House Location Features:"
   ]
  },
  {
   "cell_type": "markdown",
   "metadata": {},
   "source": [
    "I will then analyze each feature within each category and find opportunities:\n",
    "\n",
    "* To delete the feature if doesn't add a significant value in the house price prediction.\n",
    "* Transform numerical features to categorial features when they don't describe a magnitude.\n",
    "* Transform categorial features to ordinal features when they describe a magnitude (i.e.: Excellent, Very Good, Good...e).\n",
    "* Transform categorial feature to One Hot encoded feature when possible.\n",
    "* Suppress duplicated features or features that are strongly correlated with each other to avoid duplication and redundancy and supress features that has very low variance.\n"
   ]
  },
  {
   "cell_type": "code",
   "execution_count": 69,
   "metadata": {
    "ExecuteTime": {
     "end_time": "2023-08-26T17:32:33.724645Z",
     "start_time": "2023-08-26T17:32:33.721432Z"
    },
    "collapsed": false,
    "jupyter": {
     "outputs_hidden": false
    },
    "tags": []
   },
   "outputs": [
    {
     "name": "stdout",
     "output_type": "stream",
     "text": [
      "Statistics for Boston housing dataset:\n",
      "\n",
      "Minimum price: $34900\n",
      "Maximum price: $755000\n",
      "Mean price: $180921.19589041095\n",
      "Median price $163000.0\n",
      "Standard deviation of prices: $79442.50288288662\n"
     ]
    }
   ],
   "source": [
    "# TODO: Minimum price of the data\n",
    "minimum_price = train_df[\"SalePrice\"].min()\n",
    "\n",
    "# TODO: Maximum price of the data\n",
    "maximum_price = train_df[\"SalePrice\"].max()\n",
    "\n",
    "# TODO: Mean price of the data\n",
    "mean_price = train_df[\"SalePrice\"].mean()\n",
    "\n",
    "# TODO: Median price of the data\n",
    "median_price = train_df[\"SalePrice\"].median()\n",
    "\n",
    "# TODO: Standard deviation of prices of the data\n",
    "std_price = train_df[\"SalePrice\"].std()\n",
    "\n",
    "# Show the calculated statistics\n",
    "print(\"Statistics for Boston housing dataset:\\n\")\n",
    "print(\"Minimum price: ${}\".format(minimum_price))\n",
    "print(\"Maximum price: ${}\".format(maximum_price))\n",
    "print(\"Mean price: ${}\".format(mean_price))\n",
    "print(\"Median price ${}\".format(median_price))\n",
    "print(\"Standard deviation of prices: ${}\".format(std_price))"
   ]
  },
  {
   "cell_type": "code",
   "execution_count": 70,
   "metadata": {
    "ExecuteTime": {
     "end_time": "2023-08-26T18:04:52.917833Z",
     "start_time": "2023-08-26T18:04:50.384133Z"
    },
    "collapsed": false,
    "jupyter": {
     "outputs_hidden": false
    },
    "tags": []
   },
   "outputs": [
    {
     "name": "stderr",
     "output_type": "stream",
     "text": [
      "/tmp/ipykernel_7642/2949337213.py:7: UserWarning: \n",
      "\n",
      "`distplot` is a deprecated function and will be removed in seaborn v0.14.0.\n",
      "\n",
      "Please adapt your code to use either `displot` (a figure-level function with\n",
      "similar flexibility) or `histplot` (an axes-level function for histograms).\n",
      "\n",
      "For a guide to updating your code to use the new functions, please see\n",
      "https://gist.github.com/mwaskom/de44147ed2974457ad6372750bbe5751\n",
      "\n",
      "  sns.distplot(x)\n"
     ]
    },
    {
     "data": {
      "image/png": "[encoded data removed]",
      "text/plain": [
       "<Figure size 640x480 with 1 Axes>"
      ]
     },
     "metadata": {},
     "output_type": "display_data"
    },
    {
     "name": "stderr",
     "output_type": "stream",
     "text": [
      "/tmp/ipykernel_7642/2949337213.py:12: UserWarning: \n",
      "\n",
      "`distplot` is a deprecated function and will be removed in seaborn v0.14.0.\n",
      "\n",
      "Please adapt your code to use either `displot` (a figure-level function with\n",
      "similar flexibility) or `histplot` (an axes-level function for histograms).\n",
      "\n",
      "For a guide to updating your code to use the new functions, please see\n",
      "https://gist.github.com/mwaskom/de44147ed2974457ad6372750bbe5751\n",
      "\n",
      "  sns.distplot(x)\n"
     ]
    },
    {
     "data": {
      "image/png": "[encoded data removed]",
      "text/plain": [
       "<Figure size 640x480 with 1 Axes>"
      ]
     },
     "metadata": {},
     "output_type": "display_data"
    }
   ],
   "source": [
    "import matplotlib\n",
    "import matplotlib.pyplot as plt\n",
    "import seaborn as sns\n",
    "\n",
    "x = train_df.SalePrice\n",
    "sns.set_style(\"whitegrid\")\n",
    "sns.distplot(x)\n",
    "plt.show()\n",
    "\n",
    "train_df[\"SalePrice_log\"] = np.log(train_df.SalePrice)\n",
    "x = train_df.SalePrice_log\n",
    "sns.distplot(x)\n",
    "plt.show()"
   ]
  },
  {
   "cell_type": "markdown",
   "metadata": {},
   "source": [
    "## Feature Observation"
   ]
  },
  {
   "cell_type": "markdown",
   "metadata": {},
   "source": [
    "They are 81 features describing each sales transaction in Alem, IOWA. The first step in the process to analyze the features and get a first glimpse of which feature/data is relevant to the prediction. I decided to follow the 'divide to conquer' approach by grouping the features in different following categories that known to be the areas of interest when a customer is shopping for the dream house.\n",
    "\n",
    "I defined the following main categories:\n",
    "\n",
    "* Kitchen features:\n",
    "* Basement Features: \"BsmtQual\", \"BsmtCond\", \"BsmtExposure\", \"BsmtFinType1\", \"BsmtFinSF1\", \"BsmtFinType2\", \"BsmtFinSF2\", \"BsmtUnfSF\"and  \"TotalBsmtSF\"\n",
    "* Garage Features:\n",
    "\"GarageYrBlt\", \"GarageFinish\", \"GarageCars\", \"GarageArea\", \"GarageQual\", \"GarageCond\"\n",
    "* Porch Features: \"OpenPorchSF\", \"EnclosedPorch\", \"3SsnPorch\", \"ScreenPorch\"\n",
    "* External Features: Exterior1st, Exterior2nd, RoofMatl, RoofStyle, MasVnrArea, ExterQual, ExterCond, Foundation\n",
    "* Size features:\n",
    "* Quality Features: OverallQual, OverallCond\n",
    "* House Type Features: \"BldgType\", \"HouseStyle\"\n",
    "* House Location Features\n",
    "\n",
    "I will then analyze each feature within each category and find opportunities:\n",
    "\n",
    "* To delete the feature if doesn't add a significant value in the house price prediction.\n",
    "* Transform numerical features to categorial features when they don't describe a magnitude.\n",
    "* Transform categorial features to ordinal features when they describe a magnitude (i.e.: Excellent, Very Good, Good...e).\n",
    "* Transform categorial feature to One Hot encoded feature when possible.\n",
    "* Suppress duplicated features or features that are strongly correlated with each other to avoid duplication and redundancy and supress features that has very low variance.\n",
    "\n"
   ]
  },
  {
   "cell_type": "markdown",
   "metadata": {},
   "source": [
    "Let's examine the data type of each feature:"
   ]
  },
  {
   "cell_type": "code",
   "execution_count": 71,
   "metadata": {
    "ExecuteTime": {
     "end_time": "2023-08-26T18:06:07.907041Z",
     "start_time": "2023-08-26T18:06:07.888318Z"
    },
    "collapsed": false,
    "jupyter": {
     "outputs_hidden": false
    },
    "tags": []
   },
   "outputs": [
    {
     "name": "stdout",
     "output_type": "stream",
     "text": [
      "<class 'pandas.core.frame.DataFrame'>\n",
      "RangeIndex: 1460 entries, 0 to 1459\n",
      "Data columns (total 82 columns):\n",
      " #   Column         Non-Null Count  Dtype  \n",
      "---  ------         --------------  -----  \n",
      " 0   Id             1460 non-null   int64  \n",
      " 1   MSSubClass     1460 non-null   int64  \n",
      " 2   MSZoning       1460 non-null   object \n",
      " 3   LotFrontage    1201 non-null   float64\n",
      " 4   LotArea        1460 non-null   int64  \n",
      " 5   Street         1460 non-null   object \n",
      " 6   Alley          91 non-null     object \n",
      " 7   LotShape       1460 non-null   object \n",
      " 8   LandContour    1460 non-null   object \n",
      " 9   Utilities      1460 non-null   object \n",
      " 10  LotConfig      1460 non-null   object \n",
      " 11  LandSlope      1460 non-null   object \n",
      " 12  Neighborhood   1460 non-null   object \n",
      " 13  Condition1     1460 non-null   object \n",
      " 14  Condition2     1460 non-null   object \n",
      " 15  BldgType       1460 non-null   object \n",
      " 16  HouseStyle     1460 non-null   object \n",
      " 17  OverallQual    1460 non-null   int64  \n",
      " 18  OverallCond    1460 non-null   int64  \n",
      " 19  YearBuilt      1460 non-null   int64  \n",
      " 20  YearRemodAdd   1460 non-null   int64  \n",
      " 21  RoofStyle      1460 non-null   object \n",
      " 22  RoofMatl       1460 non-null   object \n",
      " 23  Exterior1st    1460 non-null   object \n",
      " 24  Exterior2nd    1460 non-null   object \n",
      " 25  MasVnrType     1452 non-null   object \n",
      " 26  MasVnrArea     1452 non-null   float64\n",
      " 27  ExterQual      1460 non-null   object \n",
      " 28  ExterCond      1460 non-null   object \n",
      " 29  Foundation     1460 non-null   object \n",
      " 30  BsmtQual       1423 non-null   object \n",
      " 31  BsmtCond       1423 non-null   object \n",
      " 32  BsmtExposure   1422 non-null   object \n",
      " 33  BsmtFinType1   1423 non-null   object \n",
      " 34  BsmtFinSF1     1460 non-null   int64  \n",
      " 35  BsmtFinType2   1422 non-null   object \n",
      " 36  BsmtFinSF2     1460 non-null   int64  \n",
      " 37  BsmtUnfSF      1460 non-null   int64  \n",
      " 38  TotalBsmtSF    1460 non-null   int64  \n",
      " 39  Heating        1460 non-null   object \n",
      " 40  HeatingQC      1460 non-null   object \n",
      " 41  CentralAir     1460 non-null   object \n",
      " 42  Electrical     1459 non-null   object \n",
      " 43  1stFlrSF       1460 non-null   int64  \n",
      " 44  2ndFlrSF       1460 non-null   int64  \n",
      " 45  LowQualFinSF   1460 non-null   int64  \n",
      " 46  GrLivArea      1460 non-null   int64  \n",
      " 47  BsmtFullBath   1460 non-null   int64  \n",
      " 48  BsmtHalfBath   1460 non-null   int64  \n",
      " 49  FullBath       1460 non-null   int64  \n",
      " 50  HalfBath       1460 non-null   int64  \n",
      " 51  BedroomAbvGr   1460 non-null   int64  \n",
      " 52  KitchenAbvGr   1460 non-null   int64  \n",
      " 53  KitchenQual    1460 non-null   object \n",
      " 54  TotRmsAbvGrd   1460 non-null   int64  \n",
      " 55  Functional     1460 non-null   object \n",
      " 56  Fireplaces     1460 non-null   int64  \n",
      " 57  FireplaceQu    770 non-null    object \n",
      " 58  GarageType     1379 non-null   object \n",
      " 59  GarageYrBlt    1379 non-null   float64\n",
      " 60  GarageFinish   1379 non-null   object \n",
      " 61  GarageCars     1460 non-null   int64  \n",
      " 62  GarageArea     1460 non-null   int64  \n",
      " 63  GarageQual     1379 non-null   object \n",
      " 64  GarageCond     1379 non-null   object \n",
      " 65  PavedDrive     1460 non-null   object \n",
      " 66  WoodDeckSF     1460 non-null   int64  \n",
      " 67  OpenPorchSF    1460 non-null   int64  \n",
      " 68  EnclosedPorch  1460 non-null   int64  \n",
      " 69  3SsnPorch      1460 non-null   int64  \n",
      " 70  ScreenPorch    1460 non-null   int64  \n",
      " 71  PoolArea       1460 non-null   int64  \n",
      " 72  PoolQC         7 non-null      object \n",
      " 73  Fence          281 non-null    object \n",
      " 74  MiscFeature    54 non-null     object \n",
      " 75  MiscVal        1460 non-null   int64  \n",
      " 76  MoSold         1460 non-null   int64  \n",
      " 77  YrSold         1460 non-null   int64  \n",
      " 78  SaleType       1460 non-null   object \n",
      " 79  SaleCondition  1460 non-null   object \n",
      " 80  SalePrice      1460 non-null   int64  \n",
      " 81  SalePrice_log  1460 non-null   float64\n",
      "dtypes: float64(4), int64(35), object(43)\n",
      "memory usage: 935.4+ KB\n"
     ]
    }
   ],
   "source": [
    "train_df.info()"
   ]
  },
  {
   "cell_type": "markdown",
   "metadata": {},
   "source": [
    "Now Let's categorize and analyze each feature"
   ]
  },
  {
   "cell_type": "code",
   "execution_count": 72,
   "metadata": {
    "ExecuteTime": {
     "end_time": "2023-08-26T18:08:11.432684Z",
     "start_time": "2023-08-26T18:08:11.357560Z"
    },
    "collapsed": false,
    "jupyter": {
     "outputs_hidden": false
    },
    "tags": []
   },
   "outputs": [
    {
     "name": "stdout",
     "output_type": "stream",
     "text": [
      "Test (1459, 80) Train (1460, 82)\n"
     ]
    }
   ],
   "source": [
    "train_df.duplicated(subset=None, keep=\"first\")\n",
    "test_df.duplicated(subset=None, keep=\"first\")\n",
    "print(\"Test\", test_df.shape, \"Train\", train_df.shape)"
   ]
  },
  {
   "cell_type": "markdown",
   "metadata": {},
   "source": [
    "## Basement Features\n",
    "\n",
    "The following features are related to house basement. Do we need all the features ? Most probably no. In the following we will analyze each feature and keep only to one that contribute to the sales price prediction.\n",
    "\n",
    "First let's analyze the data type of each feature:\n"
   ]
  },
  {
   "cell_type": "code",
   "execution_count": 73,
   "metadata": {
    "ExecuteTime": {
     "end_time": "2023-08-26T18:15:38.263555Z",
     "start_time": "2023-08-26T18:15:38.253682Z"
    },
    "collapsed": false,
    "jupyter": {
     "outputs_hidden": false
    },
    "tags": []
   },
   "outputs": [
    {
     "name": "stdout",
     "output_type": "stream",
     "text": [
      "<class 'pandas.core.frame.DataFrame'>\n",
      "RangeIndex: 1460 entries, 0 to 1459\n",
      "Data columns (total 9 columns):\n",
      " #   Column        Non-Null Count  Dtype \n",
      "---  ------        --------------  ----- \n",
      " 0   BsmtQual      1423 non-null   object\n",
      " 1   BsmtCond      1423 non-null   object\n",
      " 2   BsmtExposure  1422 non-null   object\n",
      " 3   BsmtFinType1  1423 non-null   object\n",
      " 4   BsmtFinSF1    1460 non-null   int64 \n",
      " 5   BsmtFinType2  1422 non-null   object\n",
      " 6   BsmtFinSF2    1460 non-null   int64 \n",
      " 7   BsmtUnfSF     1460 non-null   int64 \n",
      " 8   TotalBsmtSF   1460 non-null   int64 \n",
      "dtypes: int64(4), object(5)\n",
      "memory usage: 102.8+ KB\n"
     ]
    }
   ],
   "source": [
    "basement_features = [\"BsmtQual\", \"BsmtCond\", \"BsmtExposure\", \"BsmtFinType1\", \"BsmtFinSF1\", \"BsmtFinType2\", \"BsmtFinSF2\", \"BsmtUnfSF\", \"TotalBsmtSF\"]\n",
    "\n",
    "train_df[basement_features].info()\n"
   ]
  },
  {
   "cell_type": "markdown",
   "metadata": {},
   "source": [
    "The feature BsmtQual, BsmtCond, BsmtExposure and BsmtFinType have non-numerical type. However, they all describe a magnitude. The following values will be transformed to numerical values:\n"
   ]
  },
  {
   "cell_type": "code",
   "execution_count": 74,
   "metadata": {
    "ExecuteTime": {
     "end_time": "2023-08-26T18:22:57.753008Z",
     "start_time": "2023-08-26T18:22:57.741109Z"
    },
    "collapsed": false,
    "jupyter": {
     "outputs_hidden": false
    },
    "tags": []
   },
   "outputs": [],
   "source": [
    "BsmtExposure = {\n",
    "    \"Gd\" : 4, # Good Exposure\n",
    "    \"Av\": 3,  # Average Exposure\n",
    "    \"Mn\": 2,  # Mimimum Exposure\n",
    "    \"No\": 1,  # No Exposure\n",
    "    \"NA\": 0   # No Basement\n",
    "}\n",
    "\n",
    "BsmtFinType1 = {\n",
    "    \"GLQ\": 6, # GLQ\tGood Living Quarters\n",
    "    \"ALQ\": 5, # LQ\tAverage Living Quarters\n",
    "    \"BLQ\": 4, # BLQ\tBelow Average Living Quarters\n",
    "    \"Rec\": 3, # Rec\tAverage Rec Room\n",
    "    \"LwQ\": 2, # LwQ\tLow Quality\n",
    "    \"Unf\": 1, # Unf\tUnfinshed\n",
    "    \"NA\": 0\n",
    "}\n",
    "\n",
    "BsmtFinType2 = {\n",
    "    \"GLQ\": 6, # GLQ\tGood Living Quarters\n",
    "    \"ALQ\": 5, # LQ\tAverage Living Quarters\n",
    "    \"BLQ\": 4, # BLQ\tBelow Average Living Quarters\n",
    "    \"Rec\": 3, # Rec\tAverage Rec Room\n",
    "    \"LwQ\": 2, # LwQ\tLow Quality\n",
    "    \"Unf\": 1, # Unf\tUnfinshed\n",
    "    \"NA\": 0\n",
    "}\n",
    "\n",
    "BsmtCond = {\n",
    "    \"Ex\": 5,    #Excellent\n",
    "    \"Gd\": 4,\t# Good\n",
    "    \"TA\": 3,\t# Typical - slight dampness allowed\n",
    "    \"Fa\": 2,\t# Fair - dampness or some cracking or settling\n",
    "    \"Po\": 1,    # Po\tPoor - Severe cracking, settling, or wetness\n",
    "    \"NA\": 0     # No Basement\n",
    "}\n",
    "\n",
    "BsmtQual = {\n",
    "    \"Ex\":\t5, # Excellent (100+ inches)\n",
    "    \"Gd\":\t4, # Good (90-99 inches)\n",
    "    \"TA\":\t3, # Typical (80-89 inches)\n",
    "    \"Fa\":\t2, # Fair (70-79 inches)\n",
    "    \"Po\":\t1, # Poor (<70 inches\n",
    "    \"NA\":\t0  # No basement\n",
    "}\n",
    "\n",
    "train_df.replace(\n",
    "    {\n",
    "        \"BsmtQual\": BsmtQual,\n",
    "        \"BsmtCond\": BsmtCond,\n",
    "        \"BsmtFinType1\": BsmtFinType1,\n",
    "        \"BsmtFinType2\": BsmtFinType2,\n",
    "        \"BsmtExposure\": BsmtExposure\n",
    "    },\n",
    "    inplace=True,\n",
    ")\n",
    "test_df.replace(\n",
    "    {\n",
    "        \"BsmtQual\": BsmtQual,\n",
    "        \"BsmtCond\": BsmtCond,\n",
    "        \"BsmtFinType1\": BsmtFinType1,\n",
    "        \"BsmtFinType2\": BsmtFinType2,\n",
    "        \"BsmtExposure\": BsmtExposure\n",
    "    },\n",
    "    inplace=True,\n",
    ")\n"
   ]
  },
  {
   "cell_type": "markdown",
   "metadata": {},
   "source": [
    "The following graphs shows the correlation between each basement feature pair. The purpose here is to eliminate the duplicated feature or features that can be eliminated without impacting the prediction model."
   ]
  },
  {
   "cell_type": "code",
   "execution_count": 75,
   "metadata": {
    "ExecuteTime": {
     "end_time": "2023-08-26T18:25:42.457320Z",
     "start_time": "2023-08-26T18:25:42.117796Z"
    },
    "collapsed": false,
    "jupyter": {
     "outputs_hidden": false
    },
    "tags": []
   },
   "outputs": [
    {
     "data": {
      "text/html": [
       "<div>\n",
       "<style scoped>\n",
       "    .dataframe tbody tr th:only-of-type {\n",
       "        vertical-align: middle;\n",
       "    }\n",
       "\n",
       "    .dataframe tbody tr th {\n",
       "        vertical-align: top;\n",
       "    }\n",
       "\n",
       "    .dataframe thead th {\n",
       "        text-align: right;\n",
       "    }\n",
       "</style>\n",
       "<table border=\"1\" class=\"dataframe\">\n",
       "  <thead>\n",
       "    <tr style=\"text-align: right;\">\n",
       "      <th></th>\n",
       "      <th>BsmtQual</th>\n",
       "      <th>BsmtCond</th>\n",
       "      <th>BsmtExposure</th>\n",
       "      <th>BsmtFinType1</th>\n",
       "      <th>BsmtFinSF1</th>\n",
       "      <th>BsmtFinType2</th>\n",
       "      <th>BsmtFinSF2</th>\n",
       "      <th>BsmtUnfSF</th>\n",
       "      <th>TotalBsmtSF</th>\n",
       "    </tr>\n",
       "  </thead>\n",
       "  <tbody>\n",
       "    <tr>\n",
       "      <th>0</th>\n",
       "      <td>4.0</td>\n",
       "      <td>3.0</td>\n",
       "      <td>1.0</td>\n",
       "      <td>6.0</td>\n",
       "      <td>706</td>\n",
       "      <td>1.0</td>\n",
       "      <td>0</td>\n",
       "      <td>150</td>\n",
       "      <td>856</td>\n",
       "    </tr>\n",
       "    <tr>\n",
       "      <th>1</th>\n",
       "      <td>4.0</td>\n",
       "      <td>3.0</td>\n",
       "      <td>4.0</td>\n",
       "      <td>5.0</td>\n",
       "      <td>978</td>\n",
       "      <td>1.0</td>\n",
       "      <td>0</td>\n",
       "      <td>284</td>\n",
       "      <td>1262</td>\n",
       "    </tr>\n",
       "    <tr>\n",
       "      <th>2</th>\n",
       "      <td>4.0</td>\n",
       "      <td>3.0</td>\n",
       "      <td>2.0</td>\n",
       "      <td>6.0</td>\n",
       "      <td>486</td>\n",
       "      <td>1.0</td>\n",
       "      <td>0</td>\n",
       "      <td>434</td>\n",
       "      <td>920</td>\n",
       "    </tr>\n",
       "    <tr>\n",
       "      <th>3</th>\n",
       "      <td>3.0</td>\n",
       "      <td>4.0</td>\n",
       "      <td>1.0</td>\n",
       "      <td>5.0</td>\n",
       "      <td>216</td>\n",
       "      <td>1.0</td>\n",
       "      <td>0</td>\n",
       "      <td>540</td>\n",
       "      <td>756</td>\n",
       "    </tr>\n",
       "    <tr>\n",
       "      <th>4</th>\n",
       "      <td>4.0</td>\n",
       "      <td>3.0</td>\n",
       "      <td>3.0</td>\n",
       "      <td>6.0</td>\n",
       "      <td>655</td>\n",
       "      <td>1.0</td>\n",
       "      <td>0</td>\n",
       "      <td>490</td>\n",
       "      <td>1145</td>\n",
       "    </tr>\n",
       "  </tbody>\n",
       "</table>\n",
       "</div>"
      ],
      "text/plain": [
       "   BsmtQual  BsmtCond  BsmtExposure  BsmtFinType1  BsmtFinSF1  BsmtFinType2  \\\n",
       "0       4.0       3.0           1.0           6.0         706           1.0   \n",
       "1       4.0       3.0           4.0           5.0         978           1.0   \n",
       "2       4.0       3.0           2.0           6.0         486           1.0   \n",
       "3       3.0       4.0           1.0           5.0         216           1.0   \n",
       "4       4.0       3.0           3.0           6.0         655           1.0   \n",
       "\n",
       "   BsmtFinSF2  BsmtUnfSF  TotalBsmtSF  \n",
       "0           0        150          856  \n",
       "1           0        284         1262  \n",
       "2           0        434          920  \n",
       "3           0        540          756  \n",
       "4           0        490         1145  "
      ]
     },
     "execution_count": 75,
     "metadata": {},
     "output_type": "execute_result"
    },
    {
     "data": {
      "image/png": "[encoded data removed]",
      "text/plain": [
       "<Figure size 2000x2000 with 2 Axes>"
      ]
     },
     "metadata": {},
     "output_type": "display_data"
    }
   ],
   "source": [
    "import matplotlib.pyplot as plt\n",
    "import seaborn as sns\n",
    "\n",
    "basement_features_df = train_df[basement_features]\n",
    "\n",
    "plt.figure(figsize=(20, 20))\n",
    "sns.heatmap(basement_features_df.corr())\n",
    "basement_features_df.head()"
   ]
  },
  {
   "cell_type": "markdown",
   "metadata": {},
   "source": [
    "From the graph above we notice there is strong correlation between basement size and basement type (BsmtFinSF1 and BsmtFinType1 and also between BsmtFinSF2 and BsmtFinType2). As result, We can safely discard BsmtFinSF1 and BsmtFinSF2 features."
   ]
  },
  {
   "cell_type": "code",
   "execution_count": 76,
   "metadata": {
    "ExecuteTime": {
     "end_time": "2023-08-26T18:30:47.277746Z",
     "start_time": "2023-08-26T18:30:47.254611Z"
    },
    "collapsed": false,
    "jupyter": {
     "outputs_hidden": false
    },
    "tags": []
   },
   "outputs": [],
   "source": [
    "train_df = train_df.drop(\"BsmtFinSF1\", axis = 1)\n",
    "train_df = train_df.drop(\"BsmtFinSF2\", axis = 1)\n",
    "test_df = test_df.drop(\"BsmtFinSF1\", axis = 1)\n",
    "test_df = test_df.drop(\"BsmtFinSF2\", axis = 1)\n"
   ]
  },
  {
   "cell_type": "code",
   "execution_count": 77,
   "metadata": {
    "ExecuteTime": {
     "end_time": "2023-08-26T18:31:29.232151Z",
     "start_time": "2023-08-26T18:31:28.390730Z"
    },
    "collapsed": false,
    "jupyter": {
     "outputs_hidden": false
    },
    "tags": []
   },
   "outputs": [
    {
     "data": {
      "image/png": "[encoded data removed]",
      "text/plain": [
       "<Figure size 1600x2000 with 9 Axes>"
      ]
     },
     "metadata": {},
     "output_type": "display_data"
    }
   ],
   "source": [
    "basement_features = [\"BsmtQual\", \"BsmtCond\", \"BsmtExposure\", \"BsmtFinType1\", \"BsmtFinType2\", \"BsmtUnfSF\", \"TotalBsmtSF\"]\n",
    "basement_features_df = train_df[basement_features]\n",
    "basement_features_df.hist(figsize=(16, 20), bins=50, xlabelsize=8, ylabelsize=8);\n"
   ]
  },
  {
   "cell_type": "markdown",
   "metadata": {},
   "source": [
    "From the graphs above we notice that both BsmtFinType2 and BsmtCond reflect concentration on 1 value, respectively 3 for BsmCond (most basement have average condition) and 1 for BsmtFinType2 (most basement are Unfinished). Both features will be discarded as they don't add value to the Sales Price prediction."
   ]
  },
  {
   "cell_type": "code",
   "execution_count": 78,
   "metadata": {
    "ExecuteTime": {
     "end_time": "2023-08-26T18:33:07.751821Z",
     "start_time": "2023-08-26T18:33:07.746797Z"
    },
    "collapsed": false,
    "jupyter": {
     "outputs_hidden": false
    },
    "tags": []
   },
   "outputs": [],
   "source": [
    "train_df = train_df.drop(\"BsmtFinType2\", axis = 1)\n",
    "train_df = train_df.drop(\"BsmtCond\", axis = 1)\n",
    "test_df = test_df.drop(\"BsmtFinType2\", axis = 1)\n",
    "test_df = test_df.drop(\"BsmtCond\", axis = 1)"
   ]
  },
  {
   "cell_type": "markdown",
   "metadata": {},
   "source": [
    "## Porch Features"
   ]
  },
  {
   "cell_type": "code",
   "execution_count": 79,
   "metadata": {
    "ExecuteTime": {
     "end_time": "2023-08-26T18:38:08.887926Z",
     "start_time": "2023-08-26T18:38:08.816327Z"
    },
    "collapsed": false,
    "jupyter": {
     "outputs_hidden": false
    },
    "tags": []
   },
   "outputs": [],
   "source": [
    "porch_features = [\"OpenPorchSF\", \"EnclosedPorch\", \"3SsnPorch\", \"ScreenPorch\"]\n",
    "porch_features_df = train_df[porch_features]"
   ]
  },
  {
   "cell_type": "code",
   "execution_count": 80,
   "metadata": {
    "ExecuteTime": {
     "end_time": "2023-08-26T18:38:26.182244Z",
     "start_time": "2023-08-26T18:38:25.666068Z"
    },
    "collapsed": false,
    "jupyter": {
     "outputs_hidden": false
    },
    "tags": []
   },
   "outputs": [
    {
     "data": {
      "image/png": "[encoded data removed]",
      "text/plain": [
       "<Figure size 1600x2000 with 4 Axes>"
      ]
     },
     "metadata": {},
     "output_type": "display_data"
    }
   ],
   "source": [
    "porch_features_df.hist(figsize=(16, 20), bins=50, xlabelsize=8, ylabelsize=8);\n"
   ]
  },
  {
   "cell_type": "markdown",
   "metadata": {},
   "source": [
    "From the graphs below it is abvious that the majority of the sold houses don't have 3 seasons, screen and enclosed orch areas. Teh following features can be discarded : 3SsnPorch, ScreePorch and EnclosedPorch."
   ]
  },
  {
   "cell_type": "code",
   "execution_count": 81,
   "metadata": {
    "ExecuteTime": {
     "end_time": "2023-08-26T18:38:56.314681Z",
     "start_time": "2023-08-26T18:38:56.291378Z"
    },
    "collapsed": false,
    "jupyter": {
     "outputs_hidden": false
    },
    "tags": []
   },
   "outputs": [],
   "source": [
    "train_df = train_df.drop(\"ScreenPorch\", axis = 1)\n",
    "train_df = train_df.drop(\"EnclosedPorch\", axis = 1)\n",
    "train_df = train_df.drop(\"3SsnPorch\", axis = 1)\n",
    "test_df = test_df.drop(\"ScreenPorch\", axis = 1)\n",
    "test_df = test_df.drop(\"EnclosedPorch\", axis = 1)\n",
    "test_df = test_df.drop(\"3SsnPorch\", axis = 1)"
   ]
  },
  {
   "cell_type": "markdown",
   "metadata": {},
   "source": [
    "## House External Features"
   ]
  },
  {
   "cell_type": "markdown",
   "metadata": {},
   "source": [
    "External Quality and External Condition features are converted to numerical values as they reflect a magnitude."
   ]
  },
  {
   "cell_type": "code",
   "execution_count": 82,
   "metadata": {
    "ExecuteTime": {
     "end_time": "2023-08-26T18:40:48.957682Z",
     "start_time": "2023-08-26T18:40:48.943155Z"
    },
    "collapsed": false,
    "jupyter": {
     "outputs_hidden": false
    },
    "tags": []
   },
   "outputs": [],
   "source": [
    "ExterQual = {\n",
    "    \"Ex\":\t5, # Excellent (100+ inches)\n",
    "    \"Gd\":\t4, # Good (90-99 inches)\n",
    "    \"TA\":\t3, # Typical (80-89 inches)\n",
    "    \"Fa\":\t2, # Fair (70-79 inches)\n",
    "    \"Po\":\t1, # Poor (<70 inches\n",
    "    \"NA\":\t0  # No basement\n",
    "}\n",
    "\n",
    "ExterCond = {\n",
    "    \"Ex\":\t5, # Excellent (100+ inches)\n",
    "    \"Gd\":\t4, # Good (90-99 inches)\n",
    "    \"TA\":\t3, # Typical (80-89 inches)\n",
    "    \"Fa\":\t2, # Fair (70-79 inches)\n",
    "    \"Po\":\t1, # Poor (<70 inches\n",
    "    \"NA\":\t0  # No basement\n",
    "}\n",
    "\n",
    "train_df.replace(\n",
    "    {\n",
    "        \"ExterCond\": ExterCond,\n",
    "        \"ExterQual\": ExterQual\n",
    "    },\n",
    "    inplace=True,\n",
    ")\n",
    "test_df.replace(\n",
    "    {\n",
    "        \"ExterCond\": ExterCond,\n",
    "        \"ExterQual\": ExterQual\n",
    "    },\n",
    "    inplace=True,\n",
    ")"
   ]
  },
  {
   "cell_type": "code",
   "execution_count": 83,
   "metadata": {
    "ExecuteTime": {
     "end_time": "2023-08-26T18:41:40.380320Z",
     "start_time": "2023-08-26T18:41:40.237248Z"
    },
    "collapsed": false,
    "jupyter": {
     "outputs_hidden": false
    },
    "tags": []
   },
   "outputs": [
    {
     "data": {
      "image/png": "[encoded data removed]",
      "text/plain": [
       "<Figure size 640x480 with 1 Axes>"
      ]
     },
     "metadata": {},
     "output_type": "display_data"
    }
   ],
   "source": [
    "sns.boxplot(x=train_df['ExterCond'], y=train_df['SalePrice'])\n",
    "plt.xlabel('External House Condition')\n",
    "plt.ylabel('Sale Price')\n",
    "plt.title('Box Plot of Sale Price by External Condition')\n",
    "plt.show()"
   ]
  },
  {
   "cell_type": "code",
   "execution_count": 84,
   "metadata": {
    "ExecuteTime": {
     "end_time": "2023-08-26T18:42:11.319988Z",
     "start_time": "2023-08-26T18:42:11.184455Z"
    },
    "collapsed": false,
    "jupyter": {
     "outputs_hidden": false
    },
    "tags": []
   },
   "outputs": [
    {
     "data": {
      "image/png": "[encoded data removed]",
      "text/plain": [
       "<Figure size 640x480 with 1 Axes>"
      ]
     },
     "metadata": {},
     "output_type": "display_data"
    }
   ],
   "source": [
    "sns.boxplot(x=train_df['ExterQual'], y=train_df['SalePrice'])\n",
    "plt.xlabel('External House Quality')\n",
    "plt.ylabel('Sale Price')\n",
    "plt.title('Box Plot of Sale Price by House External Quality')\n",
    "plt.show()"
   ]
  },
  {
   "cell_type": "markdown",
   "metadata": {},
   "source": [
    "The graphs above clearly show that House Sale Price increase when external house condition or quality increase."
   ]
  },
  {
   "cell_type": "markdown",
   "metadata": {},
   "source": [
    "Most sold houses have Standard (Composite) Shingle roof. We can safely discard the feature: RoofMatl\n",
    "\n",
    "ClyTile (Clay or Tile)\n",
    "CompShg (Standard (Composite) Shingle): 1434\n",
    "Membran\t(Membrane) : 1\n",
    "Metal (Metal) : 1\n",
    "Roll (Roll) : 1\n",
    "Tar&Grv\t(Gravel & Tar) : 11\n",
    "WdShake\t(Wood Shakes) : 5\n",
    "WdShngl\t(Wood Shingles) : 6"
   ]
  },
  {
   "cell_type": "code",
   "execution_count": 85,
   "metadata": {
    "ExecuteTime": {
     "end_time": "2023-08-26T18:44:57.392624Z",
     "start_time": "2023-08-26T18:44:57.380939Z"
    },
    "collapsed": false,
    "jupyter": {
     "outputs_hidden": false
    },
    "tags": []
   },
   "outputs": [],
   "source": [
    "train_df = train_df.drop(\"RoofMatl\", axis = 1)\n",
    "test_df = test_df.drop(\"RoofMatl\", axis = 1)"
   ]
  },
  {
   "cell_type": "markdown",
   "metadata": {},
   "source": [
    "We could use one hot encoding for the remaining exterior categorial features but this will lead to multiplication additional features without the guarantee that it adds value in the sales prediction algorithm. I decided to only keep the numerical features External Quality and External Condition since based on the graph above the correlate well with the Sales Price.\n"
   ]
  },
  {
   "cell_type": "code",
   "execution_count": 86,
   "metadata": {
    "ExecuteTime": {
     "end_time": "2023-08-26T18:49:15.930274Z",
     "start_time": "2023-08-26T18:49:15.890092Z"
    },
    "collapsed": false,
    "jupyter": {
     "outputs_hidden": false
    },
    "tags": []
   },
   "outputs": [],
   "source": [
    "train_df = train_df.drop(\"Exterior1st\", axis = 1)\n",
    "test_df = test_df.drop(\"Exterior1st\", axis = 1)\n",
    "train_df = train_df.drop(\"Exterior2nd\", axis = 1)\n",
    "test_df = test_df.drop(\"Exterior2nd\", axis = 1)\n",
    "train_df = train_df.drop(\"MasVnrArea\", axis = 1)\n",
    "test_df = test_df.drop(\"MasVnrArea\", axis = 1)\n",
    "train_df = train_df.drop(\"Foundation\", axis = 1)\n",
    "test_df = test_df.drop(\"Foundation\", axis = 1)\n"
   ]
  },
  {
   "cell_type": "markdown",
   "metadata": {},
   "source": []
  },
  {
   "cell_type": "markdown",
   "metadata": {},
   "source": [
    "## Lot Shape and Size Features"
   ]
  },
  {
   "cell_type": "code",
   "execution_count": 87,
   "metadata": {
    "ExecuteTime": {
     "end_time": "2023-08-26T18:56:37.879820Z",
     "start_time": "2023-08-26T18:56:37.863444Z"
    },
    "collapsed": false,
    "jupyter": {
     "outputs_hidden": false
    },
    "tags": []
   },
   "outputs": [],
   "source": [
    "location_features = [\"LotFrontage\", \"LandSlope\", \"LotArea\", \"LotShape\", \"LandContour\", \"LotConfig\", ]"
   ]
  },
  {
   "cell_type": "markdown",
   "metadata": {},
   "source": [
    "LandSlope, LotSlope and LandContour are categorial fetaures that can be easily replaced with numerical categories as the denote a magnitude"
   ]
  },
  {
   "cell_type": "code",
   "execution_count": 88,
   "metadata": {
    "ExecuteTime": {
     "end_time": "2023-08-26T18:56:38.725832Z",
     "start_time": "2023-08-26T18:56:38.723022Z"
    },
    "collapsed": false,
    "jupyter": {
     "outputs_hidden": false
    },
    "tags": []
   },
   "outputs": [],
   "source": [
    "LandSlope = {\n",
    "    \"Gtl\" : 1, # Gentle Slope\n",
    "    \"Mod\" : 2, # Moderate Moderate\n",
    "    \"Sev\" : 3  # Severe Slope\n",
    "}\n",
    "\n",
    "LotShape = {\n",
    "    \"Reg\" :\t1, # Regular Shape\n",
    "    \"IR1\" : 2, # Slightly Irregular Shape\n",
    "    \"IR2\" : 3, # Moderately Irregular Shape\n",
    "    \"IR3\" :\t4  # Irregular\n",
    "}\n",
    "\n",
    "LandContour = {\n",
    "    \"Lvl\" : 1,  # Near Flat/Level\n",
    "    \"Bnk\" :\t2,  # Banked - Quick and significant rise from street grade to building\n",
    "    \"HLS\" : 3,  # Hillside - Significant slope from side to side\n",
    "    \"Low\": 4\t# Depression\n",
    "}\n",
    "\n",
    "LotConfig =  { #Lot configuration\n",
    "    \"Inside\"\t: 1, # Inside lot\n",
    "    \"Corner\"\t: 2, # Corner lot\n",
    "    \"CulDSac\"\t: 3, #Cul-de-sac\n",
    "    \"FR2\"\t: 4,  #Frontage on 2 sides of property\n",
    "    \"FR3\"\t: 5,  #Frontage on 3 sides of property\n",
    "}\n",
    "\n",
    "train_df.replace(\n",
    "    {\n",
    "        \"LandSlope\": LandSlope,\n",
    "        \"LotShape\": LotShape,\n",
    "        \"LandContour\": LandContour,\n",
    "        \"LotConfig\": LotConfig,\n",
    "    },\n",
    "    inplace=True,\n",
    ")\n",
    "\n",
    "test_df.replace(\n",
    "    {\n",
    "        \"LandSlope\": LandSlope,\n",
    "        \"LotShape\": LotShape,\n",
    "        \"LandContour\": LandContour,\n",
    "        \"LotConfig\": LotConfig,\n",
    "\n",
    "    },\n",
    "    inplace=True,\n",
    ")"
   ]
  },
  {
   "cell_type": "markdown",
   "metadata": {},
   "source": [
    "LotSlop and LandContour features both describe inclinaison of the lot and land on which the house is built. The\n",
    "correlation graph confirms a corelation of close to 0.7. We can safely discard LandContour in favour of LotSlop feature."
   ]
  },
  {
   "cell_type": "code",
   "execution_count": 89,
   "metadata": {
    "ExecuteTime": {
     "end_time": "2023-08-26T18:56:39.474786Z",
     "start_time": "2023-08-26T18:56:39.216190Z"
    },
    "collapsed": false,
    "jupyter": {
     "outputs_hidden": false
    },
    "tags": []
   },
   "outputs": [
    {
     "data": {
      "text/plain": [
       "<Axes: >"
      ]
     },
     "execution_count": 89,
     "metadata": {},
     "output_type": "execute_result"
    },
    {
     "data": {
      "image/png": "[encoded data removed]",
      "text/plain": [
       "<Figure size 2000x2000 with 2 Axes>"
      ]
     },
     "metadata": {},
     "output_type": "display_data"
    }
   ],
   "source": [
    "import matplotlib.pyplot as plt\n",
    "import seaborn as sns\n",
    "\n",
    "location_features_df = train_df[location_features]\n",
    "\n",
    "plt.figure(figsize=(20, 20))\n",
    "sns.heatmap(location_features_df.corr())"
   ]
  },
  {
   "cell_type": "code",
   "execution_count": 90,
   "metadata": {
    "ExecuteTime": {
     "end_time": "2023-08-26T19:05:52.416342Z",
     "start_time": "2023-08-26T19:05:52.269232Z"
    },
    "collapsed": false,
    "jupyter": {
     "outputs_hidden": false
    },
    "tags": []
   },
   "outputs": [],
   "source": [
    "train_df = train_df.drop(\"MSZoning\", axis = 1)\n",
    "test_df = test_df.drop(\"MSZoning\", axis = 1)\n",
    "train_df = train_df.drop(\"Condition1\", axis = 1)\n",
    "test_df = test_df.drop(\"Condition1\", axis = 1)\n",
    "train_df = train_df.drop(\"Condition2\", axis = 1)\n",
    "test_df = test_df.drop(\"Condition2\", axis = 1)"
   ]
  },
  {
   "cell_type": "markdown",
   "metadata": {},
   "source": [
    "### Home Size Feature : TotRmsAbvGrd, Bedroom, GrLivArea, 1stFlrSF, 2ndFlrSF\n"
   ]
  },
  {
   "cell_type": "markdown",
   "metadata": {},
   "source": [
    "It is known that the size of the house contribute  impact the price of the house."
   ]
  },
  {
   "cell_type": "code",
   "execution_count": 91,
   "metadata": {
    "ExecuteTime": {
     "end_time": "2023-08-26T19:31:03.436699Z",
     "start_time": "2023-08-26T19:31:03.425766Z"
    },
    "collapsed": false,
    "jupyter": {
     "outputs_hidden": false
    },
    "tags": []
   },
   "outputs": [],
   "source": [
    "house_size_features = [\"TotRmsAbvGrd\", \"BedroomAbvGr\", \"GrLivArea\", \"1stFlrSF\", \"2ndFlrSF\"]\n"
   ]
  },
  {
   "cell_type": "code",
   "execution_count": 92,
   "metadata": {
    "ExecuteTime": {
     "end_time": "2023-08-26T19:19:29.305642Z",
     "start_time": "2023-08-26T19:19:29.166700Z"
    },
    "collapsed": false,
    "jupyter": {
     "outputs_hidden": false
    },
    "tags": []
   },
   "outputs": [
    {
     "data": {
      "image/png": "[encoded data removed]",
      "text/plain": [
       "<Figure size 640x480 with 1 Axes>"
      ]
     },
     "metadata": {},
     "output_type": "display_data"
    }
   ],
   "source": [
    "sns.boxplot(x=train_df['TotRmsAbvGrd'], y=train_df['SalePrice'])\n",
    "plt.xlabel('Total Rooms Above Ground')\n",
    "plt.ylabel('Sale Price')\n",
    "plt.title('Box Plot of Sale Price by Total Rooms Above Ground')\n",
    "plt.show()"
   ]
  },
  {
   "cell_type": "markdown",
   "metadata": {},
   "source": [
    "We can notice from the graph above that increase in the number of rooms result in sale price increase. However, from 8 room to above the increase is not obvious from the graph."
   ]
  },
  {
   "cell_type": "markdown",
   "metadata": {},
   "source": [
    "Let's confirm if the same applies for the remaining features:"
   ]
  },
  {
   "cell_type": "code",
   "execution_count": 93,
   "metadata": {
    "ExecuteTime": {
     "end_time": "2023-08-26T19:21:34.202704Z",
     "start_time": "2023-08-26T19:21:34.063744Z"
    },
    "collapsed": false,
    "jupyter": {
     "outputs_hidden": false
    },
    "tags": []
   },
   "outputs": [
    {
     "data": {
      "image/png": "[encoded data removed]",
      "text/plain": [
       "<Figure size 640x480 with 1 Axes>"
      ]
     },
     "metadata": {},
     "output_type": "display_data"
    }
   ],
   "source": [
    "sns.boxplot(x=train_df['BedroomAbvGr'], y=train_df['SalePrice'])\n",
    "plt.xlabel('Total Rooms Above Ground')\n",
    "plt.ylabel('Sale Price')\n",
    "plt.title('Box Plot of Sale Price by Number of bedrooms')\n",
    "plt.show()"
   ]
  },
  {
   "cell_type": "code",
   "execution_count": 94,
   "metadata": {
    "ExecuteTime": {
     "end_time": "2023-08-26T19:22:10.840317Z",
     "start_time": "2023-08-26T19:22:10.821692Z"
    },
    "collapsed": false,
    "jupyter": {
     "outputs_hidden": false
    },
    "tags": []
   },
   "outputs": [
    {
     "data": {
      "text/plain": [
       "3    804\n",
       "2    358\n",
       "4    213\n",
       "1     50\n",
       "5     21\n",
       "6      7\n",
       "0      6\n",
       "8      1\n",
       "Name: BedroomAbvGr, dtype: int64"
      ]
     },
     "execution_count": 94,
     "metadata": {},
     "output_type": "execute_result"
    }
   ],
   "source": [
    "train_df[\"BedroomAbvGr\"].value_counts()"
   ]
  },
  {
   "cell_type": "markdown",
   "metadata": {},
   "source": [
    "Surprisly the same doesn't apply to the feature 'BedroomAbvGr'. The graph shows that Houses with 0 bedroooms has the highest sales price. There are only 6 houses with 0 bedrooms. Let's inspect their sales data to find any anomaly in data:"
   ]
  },
  {
   "cell_type": "code",
   "execution_count": 95,
   "metadata": {
    "ExecuteTime": {
     "end_time": "2023-08-26T19:26:44.694682Z",
     "start_time": "2023-08-26T19:26:44.678808Z"
    },
    "collapsed": false,
    "jupyter": {
     "outputs_hidden": false
    },
    "tags": []
   },
   "outputs": [
    {
     "data": {
      "text/html": [
       "<div>\n",
       "<style scoped>\n",
       "    .dataframe tbody tr th:only-of-type {\n",
       "        vertical-align: middle;\n",
       "    }\n",
       "\n",
       "    .dataframe tbody tr th {\n",
       "        vertical-align: top;\n",
       "    }\n",
       "\n",
       "    .dataframe thead th {\n",
       "        text-align: right;\n",
       "    }\n",
       "</style>\n",
       "<table border=\"1\" class=\"dataframe\">\n",
       "  <thead>\n",
       "    <tr style=\"text-align: right;\">\n",
       "      <th></th>\n",
       "      <th>Id</th>\n",
       "      <th>MSSubClass</th>\n",
       "      <th>LotFrontage</th>\n",
       "      <th>LotArea</th>\n",
       "      <th>Street</th>\n",
       "      <th>Alley</th>\n",
       "      <th>LotShape</th>\n",
       "      <th>LandContour</th>\n",
       "      <th>Utilities</th>\n",
       "      <th>LotConfig</th>\n",
       "      <th>...</th>\n",
       "      <th>PoolQC</th>\n",
       "      <th>Fence</th>\n",
       "      <th>MiscFeature</th>\n",
       "      <th>MiscVal</th>\n",
       "      <th>MoSold</th>\n",
       "      <th>YrSold</th>\n",
       "      <th>SaleType</th>\n",
       "      <th>SaleCondition</th>\n",
       "      <th>SalePrice</th>\n",
       "      <th>SalePrice_log</th>\n",
       "    </tr>\n",
       "  </thead>\n",
       "  <tbody>\n",
       "    <tr>\n",
       "      <th>53</th>\n",
       "      <td>54</td>\n",
       "      <td>20</td>\n",
       "      <td>68.0</td>\n",
       "      <td>50271</td>\n",
       "      <td>Pave</td>\n",
       "      <td>NaN</td>\n",
       "      <td>2</td>\n",
       "      <td>4</td>\n",
       "      <td>AllPub</td>\n",
       "      <td>1</td>\n",
       "      <td>...</td>\n",
       "      <td>NaN</td>\n",
       "      <td>NaN</td>\n",
       "      <td>NaN</td>\n",
       "      <td>0</td>\n",
       "      <td>11</td>\n",
       "      <td>2006</td>\n",
       "      <td>WD</td>\n",
       "      <td>Normal</td>\n",
       "      <td>385000</td>\n",
       "      <td>12.860999</td>\n",
       "    </tr>\n",
       "    <tr>\n",
       "      <th>189</th>\n",
       "      <td>190</td>\n",
       "      <td>120</td>\n",
       "      <td>41.0</td>\n",
       "      <td>4923</td>\n",
       "      <td>Pave</td>\n",
       "      <td>NaN</td>\n",
       "      <td>1</td>\n",
       "      <td>1</td>\n",
       "      <td>AllPub</td>\n",
       "      <td>1</td>\n",
       "      <td>...</td>\n",
       "      <td>NaN</td>\n",
       "      <td>NaN</td>\n",
       "      <td>NaN</td>\n",
       "      <td>0</td>\n",
       "      <td>8</td>\n",
       "      <td>2008</td>\n",
       "      <td>WD</td>\n",
       "      <td>Normal</td>\n",
       "      <td>286000</td>\n",
       "      <td>12.563747</td>\n",
       "    </tr>\n",
       "    <tr>\n",
       "      <th>634</th>\n",
       "      <td>635</td>\n",
       "      <td>90</td>\n",
       "      <td>64.0</td>\n",
       "      <td>6979</td>\n",
       "      <td>Pave</td>\n",
       "      <td>NaN</td>\n",
       "      <td>1</td>\n",
       "      <td>1</td>\n",
       "      <td>AllPub</td>\n",
       "      <td>1</td>\n",
       "      <td>...</td>\n",
       "      <td>NaN</td>\n",
       "      <td>GdPrv</td>\n",
       "      <td>Shed</td>\n",
       "      <td>600</td>\n",
       "      <td>6</td>\n",
       "      <td>2010</td>\n",
       "      <td>WD</td>\n",
       "      <td>Normal</td>\n",
       "      <td>144000</td>\n",
       "      <td>11.877569</td>\n",
       "    </tr>\n",
       "    <tr>\n",
       "      <th>1163</th>\n",
       "      <td>1164</td>\n",
       "      <td>90</td>\n",
       "      <td>60.0</td>\n",
       "      <td>12900</td>\n",
       "      <td>Pave</td>\n",
       "      <td>NaN</td>\n",
       "      <td>1</td>\n",
       "      <td>1</td>\n",
       "      <td>AllPub</td>\n",
       "      <td>1</td>\n",
       "      <td>...</td>\n",
       "      <td>NaN</td>\n",
       "      <td>NaN</td>\n",
       "      <td>NaN</td>\n",
       "      <td>0</td>\n",
       "      <td>1</td>\n",
       "      <td>2008</td>\n",
       "      <td>WD</td>\n",
       "      <td>Alloca</td>\n",
       "      <td>108959</td>\n",
       "      <td>11.598727</td>\n",
       "    </tr>\n",
       "    <tr>\n",
       "      <th>1213</th>\n",
       "      <td>1214</td>\n",
       "      <td>80</td>\n",
       "      <td>NaN</td>\n",
       "      <td>10246</td>\n",
       "      <td>Pave</td>\n",
       "      <td>NaN</td>\n",
       "      <td>2</td>\n",
       "      <td>1</td>\n",
       "      <td>AllPub</td>\n",
       "      <td>3</td>\n",
       "      <td>...</td>\n",
       "      <td>NaN</td>\n",
       "      <td>NaN</td>\n",
       "      <td>NaN</td>\n",
       "      <td>0</td>\n",
       "      <td>5</td>\n",
       "      <td>2006</td>\n",
       "      <td>WD</td>\n",
       "      <td>Normal</td>\n",
       "      <td>145000</td>\n",
       "      <td>11.884489</td>\n",
       "    </tr>\n",
       "    <tr>\n",
       "      <th>1270</th>\n",
       "      <td>1271</td>\n",
       "      <td>40</td>\n",
       "      <td>NaN</td>\n",
       "      <td>23595</td>\n",
       "      <td>Pave</td>\n",
       "      <td>NaN</td>\n",
       "      <td>1</td>\n",
       "      <td>4</td>\n",
       "      <td>AllPub</td>\n",
       "      <td>1</td>\n",
       "      <td>...</td>\n",
       "      <td>NaN</td>\n",
       "      <td>NaN</td>\n",
       "      <td>NaN</td>\n",
       "      <td>0</td>\n",
       "      <td>4</td>\n",
       "      <td>2010</td>\n",
       "      <td>WD</td>\n",
       "      <td>Normal</td>\n",
       "      <td>260000</td>\n",
       "      <td>12.468437</td>\n",
       "    </tr>\n",
       "  </tbody>\n",
       "</table>\n",
       "<p>6 rows × 67 columns</p>\n",
       "</div>"
      ],
      "text/plain": [
       "        Id  MSSubClass  LotFrontage  LotArea Street Alley  LotShape  \\\n",
       "53      54          20         68.0    50271   Pave   NaN         2   \n",
       "189    190         120         41.0     4923   Pave   NaN         1   \n",
       "634    635          90         64.0     6979   Pave   NaN         1   \n",
       "1163  1164          90         60.0    12900   Pave   NaN         1   \n",
       "1213  1214          80          NaN    10246   Pave   NaN         2   \n",
       "1270  1271          40          NaN    23595   Pave   NaN         1   \n",
       "\n",
       "      LandContour Utilities  LotConfig  ...  PoolQC  Fence MiscFeature  \\\n",
       "53              4    AllPub          1  ...     NaN    NaN         NaN   \n",
       "189             1    AllPub          1  ...     NaN    NaN         NaN   \n",
       "634             1    AllPub          1  ...     NaN  GdPrv        Shed   \n",
       "1163            1    AllPub          1  ...     NaN    NaN         NaN   \n",
       "1213            1    AllPub          3  ...     NaN    NaN         NaN   \n",
       "1270            4    AllPub          1  ...     NaN    NaN         NaN   \n",
       "\n",
       "     MiscVal  MoSold  YrSold  SaleType  SaleCondition SalePrice SalePrice_log  \n",
       "53         0      11    2006        WD         Normal    385000     12.860999  \n",
       "189        0       8    2008        WD         Normal    286000     12.563747  \n",
       "634      600       6    2010        WD         Normal    144000     11.877569  \n",
       "1163       0       1    2008        WD         Alloca    108959     11.598727  \n",
       "1213       0       5    2006        WD         Normal    145000     11.884489  \n",
       "1270       0       4    2010        WD         Normal    260000     12.468437  \n",
       "\n",
       "[6 rows x 67 columns]"
      ]
     },
     "execution_count": 95,
     "metadata": {},
     "output_type": "execute_result"
    }
   ],
   "source": [
    "train_df[train_df[\"BedroomAbvGr\"] == 0]"
   ]
  },
  {
   "cell_type": "code",
   "execution_count": 96,
   "metadata": {
    "ExecuteTime": {
     "end_time": "2023-08-26T19:31:10.405487Z",
     "start_time": "2023-08-26T19:31:10.148947Z"
    },
    "collapsed": false,
    "jupyter": {
     "outputs_hidden": false
    },
    "tags": []
   },
   "outputs": [
    {
     "data": {
      "text/html": [
       "<div>\n",
       "<style scoped>\n",
       "    .dataframe tbody tr th:only-of-type {\n",
       "        vertical-align: middle;\n",
       "    }\n",
       "\n",
       "    .dataframe tbody tr th {\n",
       "        vertical-align: top;\n",
       "    }\n",
       "\n",
       "    .dataframe thead th {\n",
       "        text-align: right;\n",
       "    }\n",
       "</style>\n",
       "<table border=\"1\" class=\"dataframe\">\n",
       "  <thead>\n",
       "    <tr style=\"text-align: right;\">\n",
       "      <th></th>\n",
       "      <th>TotRmsAbvGrd</th>\n",
       "      <th>BedroomAbvGr</th>\n",
       "      <th>GrLivArea</th>\n",
       "      <th>1stFlrSF</th>\n",
       "      <th>2ndFlrSF</th>\n",
       "    </tr>\n",
       "  </thead>\n",
       "  <tbody>\n",
       "    <tr>\n",
       "      <th>0</th>\n",
       "      <td>8</td>\n",
       "      <td>3</td>\n",
       "      <td>1710</td>\n",
       "      <td>856</td>\n",
       "      <td>854</td>\n",
       "    </tr>\n",
       "    <tr>\n",
       "      <th>1</th>\n",
       "      <td>6</td>\n",
       "      <td>3</td>\n",
       "      <td>1262</td>\n",
       "      <td>1262</td>\n",
       "      <td>0</td>\n",
       "    </tr>\n",
       "    <tr>\n",
       "      <th>2</th>\n",
       "      <td>6</td>\n",
       "      <td>3</td>\n",
       "      <td>1786</td>\n",
       "      <td>920</td>\n",
       "      <td>866</td>\n",
       "    </tr>\n",
       "    <tr>\n",
       "      <th>3</th>\n",
       "      <td>7</td>\n",
       "      <td>3</td>\n",
       "      <td>1717</td>\n",
       "      <td>961</td>\n",
       "      <td>756</td>\n",
       "    </tr>\n",
       "    <tr>\n",
       "      <th>4</th>\n",
       "      <td>9</td>\n",
       "      <td>4</td>\n",
       "      <td>2198</td>\n",
       "      <td>1145</td>\n",
       "      <td>1053</td>\n",
       "    </tr>\n",
       "  </tbody>\n",
       "</table>\n",
       "</div>"
      ],
      "text/plain": [
       "   TotRmsAbvGrd  BedroomAbvGr  GrLivArea  1stFlrSF  2ndFlrSF\n",
       "0             8             3       1710       856       854\n",
       "1             6             3       1262      1262         0\n",
       "2             6             3       1786       920       866\n",
       "3             7             3       1717       961       756\n",
       "4             9             4       2198      1145      1053"
      ]
     },
     "execution_count": 96,
     "metadata": {},
     "output_type": "execute_result"
    },
    {
     "data": {
      "image/png": "[encoded data removed]",
      "text/plain": [
       "<Figure size 2000x2000 with 2 Axes>"
      ]
     },
     "metadata": {},
     "output_type": "display_data"
    }
   ],
   "source": [
    "house_size_features_df = train_df[house_size_features]\n",
    "\n",
    "plt.figure(figsize=(20, 20))\n",
    "sns.heatmap(house_size_features_df.corr())\n",
    "house_size_features_df.head()"
   ]
  },
  {
   "cell_type": "markdown",
   "metadata": {},
   "source": [
    "We notice from the graph a strong correlation between the features: Living Area Above Ground (GrLivArea), Total Rooms Above Ground (BedroomAbvGr) and Total Rooms Above Ground (TotalRmsAbvGrd). Also, I decided to discard the features 1 floor size (1nstFrSF) and 2 floor size (2nstFrSF) for a seek of simplicity."
   ]
  },
  {
   "cell_type": "code",
   "execution_count": 97,
   "metadata": {
    "ExecuteTime": {
     "end_time": "2023-08-26T19:32:55.617612Z",
     "start_time": "2023-08-26T19:32:55.570937Z"
    },
    "collapsed": false,
    "jupyter": {
     "outputs_hidden": false
    },
    "tags": []
   },
   "outputs": [],
   "source": [
    "train_df = train_df.drop(\"1stFlrSF\", axis = 1)\n",
    "test_df = test_df.drop(\"1stFlrSF\", axis = 1)\n",
    "train_df = train_df.drop(\"2ndFlrSF\", axis = 1)\n",
    "test_df = test_df.drop(\"2ndFlrSF\", axis = 1)\n",
    "train_df = train_df.drop(\"BedroomAbvGr\", axis = 1)\n",
    "test_df = test_df.drop(\"BedroomAbvGr\", axis = 1)"
   ]
  },
  {
   "cell_type": "markdown",
   "metadata": {},
   "source": [
    "## Garage Features"
   ]
  },
  {
   "cell_type": "code",
   "execution_count": 98,
   "metadata": {
    "ExecuteTime": {
     "end_time": "2023-08-26T19:38:37.978871Z",
     "start_time": "2023-08-26T19:38:37.952475Z"
    },
    "collapsed": false,
    "jupyter": {
     "outputs_hidden": false
    },
    "tags": []
   },
   "outputs": [],
   "source": [
    "garage_features = [\"GarageYrBlt\", \"GarageFinish\", \"GarageCars\", \"GarageArea\", \"GarageQual\", \"GarageCond\"]"
   ]
  },
  {
   "cell_type": "code",
   "execution_count": 99,
   "metadata": {
    "ExecuteTime": {
     "end_time": "2023-08-26T19:39:52.853913Z",
     "start_time": "2023-08-26T19:39:52.834616Z"
    },
    "collapsed": false,
    "jupyter": {
     "outputs_hidden": false
    },
    "tags": []
   },
   "outputs": [
    {
     "name": "stdout",
     "output_type": "stream",
     "text": [
      "<class 'pandas.core.frame.DataFrame'>\n",
      "RangeIndex: 1460 entries, 0 to 1459\n",
      "Data columns (total 6 columns):\n",
      " #   Column        Non-Null Count  Dtype  \n",
      "---  ------        --------------  -----  \n",
      " 0   GarageYrBlt   1379 non-null   float64\n",
      " 1   GarageFinish  1379 non-null   object \n",
      " 2   GarageCars    1460 non-null   int64  \n",
      " 3   GarageArea    1460 non-null   int64  \n",
      " 4   GarageQual    1379 non-null   object \n",
      " 5   GarageCond    1379 non-null   object \n",
      "dtypes: float64(1), int64(2), object(3)\n",
      "memory usage: 68.6+ KB\n"
     ]
    }
   ],
   "source": [
    "train_df[garage_features].info()"
   ]
  },
  {
   "cell_type": "markdown",
   "metadata": {},
   "source": [
    "## Garage Features\n",
    "\n",
    "GarageCond, GarageQual and GarageFinish are non-numerical features. However, since quality is a feature that can be measured and has a magnitude GarageQual and GarageCond will be converted to numerical categories. Same apply to GarageFinish feature since it also reflects a magnitute (how much of basement space is finished)"
   ]
  },
  {
   "cell_type": "code",
   "execution_count": 100,
   "metadata": {
    "ExecuteTime": {
     "end_time": "2023-08-26T19:42:14.362985Z",
     "start_time": "2023-08-26T19:42:14.313251Z"
    },
    "collapsed": false,
    "jupyter": {
     "outputs_hidden": false
    },
    "tags": []
   },
   "outputs": [],
   "source": [
    "GarageQual = {\n",
    "    \"Ex\": 5, # Excellent\n",
    "    \"Gd\": 4, # Good\n",
    "    \"TA\": 3, # Typical/Average\n",
    "    \"Fa\": 2, # Fair\n",
    "    \"Po\": 1, # Poor\n",
    "    \"NA\": 0  # No Garage\n",
    "}\n",
    "GarageCond = {\n",
    "    \"Ex\": 5, #\tExcellent,\n",
    "    \"Gd\": 4, #\tGood,\n",
    "    \"TA\": 3, #\tTypical/Average\n",
    "    \"Fa\": 2, #  Fair\n",
    "    \"Po\": 1, #  Poor\n",
    "    \"NA\": 0  # No Garage\n",
    "}\n",
    "\n",
    "GarageFinish = {\n",
    "    # Interior finish of the garage\n",
    "    \"Fin\":\t3, # Finished\n",
    "    \"RFn\":\t2, # Rough Finished\n",
    "    \"Unf\":\t1, # Unfinished\n",
    "    \"NA\": 0,   # No Garage\n",
    "}\n",
    "\n",
    "garage_features = [\"GarageYrBlt\", \"GarageFinish\", \"GarageCars\", \"GarageArea\", \"GarageQual\", \"GarageCond\"]\n",
    "\n",
    "train_df[garage_features]\n",
    "\n",
    "train_df.replace(\n",
    "    {\n",
    "        \"GarageFinish\": GarageFinish,\n",
    "        \"GarageCond\": GarageCond,\n",
    "        \"GarageQual\": GarageQual\n",
    "    },\n",
    "    inplace=True,\n",
    ")\n",
    "test_df.replace(\n",
    "    {\n",
    "        \"GarageFinish\": GarageFinish,\n",
    "        \"GarageCond\": GarageCond,\n",
    "        \"GarageQual\": GarageQual\n",
    "    },\n",
    "    inplace=True,\n",
    ")\n",
    "\n"
   ]
  },
  {
   "cell_type": "markdown",
   "metadata": {},
   "source": [
    "The correlation graph below highlight that fact that GarageArea (Garage size in square footage) and GarageCars (number of cars that can fit in the garage) are strongly correlated. As result of that, I will discard GarageArea."
   ]
  },
  {
   "cell_type": "code",
   "execution_count": 101,
   "metadata": {
    "ExecuteTime": {
     "end_time": "2023-08-26T19:44:32.994969Z",
     "start_time": "2023-08-26T19:44:32.237331Z"
    },
    "collapsed": false,
    "jupyter": {
     "outputs_hidden": false
    },
    "tags": []
   },
   "outputs": [
    {
     "data": {
      "text/html": [
       "<div>\n",
       "<style scoped>\n",
       "    .dataframe tbody tr th:only-of-type {\n",
       "        vertical-align: middle;\n",
       "    }\n",
       "\n",
       "    .dataframe tbody tr th {\n",
       "        vertical-align: top;\n",
       "    }\n",
       "\n",
       "    .dataframe thead th {\n",
       "        text-align: right;\n",
       "    }\n",
       "</style>\n",
       "<table border=\"1\" class=\"dataframe\">\n",
       "  <thead>\n",
       "    <tr style=\"text-align: right;\">\n",
       "      <th></th>\n",
       "      <th>GarageYrBlt</th>\n",
       "      <th>GarageFinish</th>\n",
       "      <th>GarageCars</th>\n",
       "      <th>GarageArea</th>\n",
       "      <th>GarageQual</th>\n",
       "      <th>GarageCond</th>\n",
       "    </tr>\n",
       "  </thead>\n",
       "  <tbody>\n",
       "    <tr>\n",
       "      <th>0</th>\n",
       "      <td>2003.0</td>\n",
       "      <td>2.0</td>\n",
       "      <td>2</td>\n",
       "      <td>548</td>\n",
       "      <td>3.0</td>\n",
       "      <td>3.0</td>\n",
       "    </tr>\n",
       "    <tr>\n",
       "      <th>1</th>\n",
       "      <td>1976.0</td>\n",
       "      <td>2.0</td>\n",
       "      <td>2</td>\n",
       "      <td>460</td>\n",
       "      <td>3.0</td>\n",
       "      <td>3.0</td>\n",
       "    </tr>\n",
       "    <tr>\n",
       "      <th>2</th>\n",
       "      <td>2001.0</td>\n",
       "      <td>2.0</td>\n",
       "      <td>2</td>\n",
       "      <td>608</td>\n",
       "      <td>3.0</td>\n",
       "      <td>3.0</td>\n",
       "    </tr>\n",
       "    <tr>\n",
       "      <th>3</th>\n",
       "      <td>1998.0</td>\n",
       "      <td>1.0</td>\n",
       "      <td>3</td>\n",
       "      <td>642</td>\n",
       "      <td>3.0</td>\n",
       "      <td>3.0</td>\n",
       "    </tr>\n",
       "    <tr>\n",
       "      <th>4</th>\n",
       "      <td>2000.0</td>\n",
       "      <td>2.0</td>\n",
       "      <td>3</td>\n",
       "      <td>836</td>\n",
       "      <td>3.0</td>\n",
       "      <td>3.0</td>\n",
       "    </tr>\n",
       "  </tbody>\n",
       "</table>\n",
       "</div>"
      ],
      "text/plain": [
       "   GarageYrBlt  GarageFinish  GarageCars  GarageArea  GarageQual  GarageCond\n",
       "0       2003.0           2.0           2         548         3.0         3.0\n",
       "1       1976.0           2.0           2         460         3.0         3.0\n",
       "2       2001.0           2.0           2         608         3.0         3.0\n",
       "3       1998.0           1.0           3         642         3.0         3.0\n",
       "4       2000.0           2.0           3         836         3.0         3.0"
      ]
     },
     "execution_count": 101,
     "metadata": {},
     "output_type": "execute_result"
    },
    {
     "data": {
      "image/png": "[encoded data removed]",
      "text/plain": [
       "<Figure size 2000x2000 with 2 Axes>"
      ]
     },
     "metadata": {},
     "output_type": "display_data"
    }
   ],
   "source": [
    "garage_features_df = train_df[garage_features]\n",
    "\n",
    "plt.figure(figsize=(20, 20))\n",
    "sns.heatmap(garage_features_df.corr())\n",
    "garage_features_df.head()"
   ]
  },
  {
   "cell_type": "code",
   "execution_count": 102,
   "metadata": {
    "ExecuteTime": {
     "end_time": "2023-08-26T19:46:46.422505Z",
     "start_time": "2023-08-26T19:46:46.401464Z"
    },
    "collapsed": false,
    "jupyter": {
     "outputs_hidden": false
    },
    "tags": []
   },
   "outputs": [],
   "source": [
    "train_df = train_df.drop(\"GarageArea\", axis = 1)\n",
    "test_df = test_df.drop(\"GarageArea\", axis = 1)"
   ]
  },
  {
   "cell_type": "markdown",
   "metadata": {},
   "source": [
    "## Utilities Featutes\n"
   ]
  },
  {
   "cell_type": "code",
   "execution_count": 103,
   "metadata": {
    "ExecuteTime": {
     "end_time": "2023-08-26T20:08:50.828362Z",
     "start_time": "2023-08-26T20:08:50.816917Z"
    },
    "collapsed": false,
    "jupyter": {
     "outputs_hidden": false
    },
    "tags": []
   },
   "outputs": [],
   "source": [
    "utilities_features = [\"Electrical\", \"Utilities\", \"Fireplaces\", \"FireplaceQu\", \"Heating\", \"HeatingQC\", \"CentralAir\"]\n"
   ]
  },
  {
   "cell_type": "code",
   "execution_count": 104,
   "metadata": {
    "ExecuteTime": {
     "end_time": "2023-08-26T20:09:54.905814Z",
     "start_time": "2023-08-26T20:09:54.860674Z"
    },
    "collapsed": false,
    "jupyter": {
     "outputs_hidden": false
    },
    "tags": []
   },
   "outputs": [
    {
     "name": "stdout",
     "output_type": "stream",
     "text": [
      "<class 'pandas.core.frame.DataFrame'>\n",
      "RangeIndex: 1460 entries, 0 to 1459\n",
      "Data columns (total 7 columns):\n",
      " #   Column       Non-Null Count  Dtype \n",
      "---  ------       --------------  ----- \n",
      " 0   Electrical   1459 non-null   object\n",
      " 1   Utilities    1460 non-null   object\n",
      " 2   Fireplaces   1460 non-null   int64 \n",
      " 3   FireplaceQu  770 non-null    object\n",
      " 4   Heating      1460 non-null   object\n",
      " 5   HeatingQC    1460 non-null   object\n",
      " 6   CentralAir   1460 non-null   object\n",
      "dtypes: int64(1), object(6)\n",
      "memory usage: 80.0+ KB\n"
     ]
    }
   ],
   "source": [
    "utilities_features_df = train_df[utilities_features]\n",
    "utilities_features_df.info()"
   ]
  },
  {
   "cell_type": "markdown",
   "metadata": {},
   "source": [
    "Fireplace quality feature (FireplaceQu) reflect a magnitude. However, it have a non-numerical value. We can convert it to numerical values reflecing values increasing from 0 (no fireplace) to 5 (fireplace in excellent condition)."
   ]
  },
  {
   "cell_type": "code",
   "execution_count": 105,
   "metadata": {
    "ExecuteTime": {
     "end_time": "2023-08-26T20:13:30.046458Z",
     "start_time": "2023-08-26T20:13:30.013019Z"
    },
    "collapsed": false,
    "jupyter": {
     "outputs_hidden": false
    },
    "tags": []
   },
   "outputs": [],
   "source": [
    "fireplace_quality = {\n",
    "    \"Ex\": 5, # Excellent - Exceptional Masonry Fireplace\n",
    "    \"Gd\": 4, # Good - Masonry Fireplace in main level\n",
    "    \"TA\": 3, # Average - Prefabricated Fireplace in main living area or Masonry Fireplace in basement\n",
    "    \"Fa\": 2, # Fair - Prefabricated Fireplace in basement\n",
    "    \"Po\": 1, # Poor - Ben Franklin Stove\n",
    "    \"NA\": 0  # No Fireplace\n",
    "}\n",
    "train_df.replace(\n",
    "    {\n",
    "        \"FireplaceQu\": fireplace_quality,\n",
    "    },\n",
    "    inplace=True,\n",
    ")\n",
    "\n",
    "test_df.replace(\n",
    "    {\n",
    "        \"FireplaceQu\": fireplace_quality,\n",
    "    },\n",
    "    inplace=True,\n",
    ")"
   ]
  },
  {
   "cell_type": "markdown",
   "metadata": {},
   "source": [
    "The features \"Electrical\", \"Utilities\", \"Heating\", \"HeatingQC\" and \"CentralAir\" will be discarded as they don't manifest a normal distribution. For example all entries have Utilities except 1 as \"AllPubl\" (All public Utilities)"
   ]
  },
  {
   "cell_type": "code",
   "execution_count": 106,
   "metadata": {
    "ExecuteTime": {
     "end_time": "2023-08-26T20:15:31.686993Z",
     "start_time": "2023-08-26T20:15:31.639691Z"
    },
    "collapsed": false,
    "jupyter": {
     "outputs_hidden": false
    },
    "tags": []
   },
   "outputs": [],
   "source": [
    "train_df = train_df.drop(\"Electrical\", axis=1)\n",
    "test_df = test_df.drop(\"Electrical\", axis=1)\n"
   ]
  },
  {
   "cell_type": "code",
   "execution_count": 107,
   "metadata": {
    "ExecuteTime": {
     "end_time": "2023-08-26T20:15:39.206765Z",
     "start_time": "2023-08-26T20:15:39.156325Z"
    },
    "collapsed": false,
    "jupyter": {
     "outputs_hidden": false
    },
    "tags": []
   },
   "outputs": [],
   "source": [
    "train_df = train_df.drop(\"Utilities\", axis = 1)\n",
    "test_df = test_df.drop(\"Utilities\", axis = 1)"
   ]
  },
  {
   "cell_type": "code",
   "execution_count": 108,
   "metadata": {
    "ExecuteTime": {
     "end_time": "2023-08-26T20:15:47.271073Z",
     "start_time": "2023-08-26T20:15:47.237837Z"
    },
    "collapsed": false,
    "jupyter": {
     "outputs_hidden": false
    },
    "tags": []
   },
   "outputs": [],
   "source": [
    "train_df = train_df.drop(\"Heating\", axis = 1)\n",
    "test_df = test_df.drop(\"Heating\", axis = 1)"
   ]
  },
  {
   "cell_type": "code",
   "execution_count": 109,
   "metadata": {
    "ExecuteTime": {
     "end_time": "2023-08-26T20:15:55.027652Z",
     "start_time": "2023-08-26T20:15:54.979819Z"
    },
    "collapsed": false,
    "jupyter": {
     "outputs_hidden": false
    },
    "tags": []
   },
   "outputs": [],
   "source": [
    "train_df = train_df.drop(\"HeatingQC\", axis = 1)\n",
    "test_df = test_df.drop(\"HeatingQC\", axis = 1)"
   ]
  },
  {
   "cell_type": "code",
   "execution_count": 110,
   "metadata": {
    "ExecuteTime": {
     "end_time": "2023-08-26T20:16:04.016678Z",
     "start_time": "2023-08-26T20:16:03.973543Z"
    },
    "collapsed": false,
    "jupyter": {
     "outputs_hidden": false
    },
    "tags": []
   },
   "outputs": [],
   "source": [
    "train_df = train_df.drop(\"CentralAir\", axis = 1)\n",
    "test_df = test_df.drop(\"CentralAir\", axis = 1)"
   ]
  },
  {
   "cell_type": "markdown",
   "metadata": {},
   "source": [
    "## Kitchen Features"
   ]
  },
  {
   "cell_type": "code",
   "execution_count": 111,
   "metadata": {
    "ExecuteTime": {
     "end_time": "2023-08-26T20:17:41.361396Z",
     "start_time": "2023-08-26T20:17:41.322361Z"
    },
    "collapsed": false,
    "jupyter": {
     "outputs_hidden": false
    },
    "tags": []
   },
   "outputs": [],
   "source": [
    "kitchen_features = [\"KitchenAbvGr\", \"KitchenQual\"]"
   ]
  },
  {
   "cell_type": "markdown",
   "metadata": {},
   "source": [
    "My feeling is that the kitchen quality matters more in influencing the sales price of the house. Most houses will have 1 kitchen. Indeed, from the collected data only 4% of the houses have 2 kitchens, 1 house has no kitchen and 2 houses have 3 kitchens. It is safe to discard this feature as it doesn't add value to the sales prediction."
   ]
  },
  {
   "cell_type": "code",
   "execution_count": 112,
   "metadata": {
    "ExecuteTime": {
     "end_time": "2023-08-26T20:18:36.885318Z",
     "start_time": "2023-08-26T20:18:36.829917Z"
    },
    "collapsed": false,
    "jupyter": {
     "outputs_hidden": false
    },
    "tags": []
   },
   "outputs": [
    {
     "data": {
      "text/plain": [
       "1    1392\n",
       "2      65\n",
       "3       2\n",
       "0       1\n",
       "Name: KitchenAbvGr, dtype: int64"
      ]
     },
     "execution_count": 112,
     "metadata": {},
     "output_type": "execute_result"
    }
   ],
   "source": [
    "train_df[\"KitchenAbvGr\"].value_counts()\n"
   ]
  },
  {
   "cell_type": "code",
   "execution_count": 113,
   "metadata": {
    "ExecuteTime": {
     "end_time": "2023-08-26T20:18:53.758769Z",
     "start_time": "2023-08-26T20:18:53.696027Z"
    },
    "collapsed": false,
    "jupyter": {
     "outputs_hidden": false
    },
    "tags": []
   },
   "outputs": [],
   "source": [
    "train_df = train_df.drop(\"KitchenAbvGr\", axis = 1)\n",
    "test_df = test_df.drop(\"KitchenAbvGr\", axis = 1)"
   ]
  },
  {
   "cell_type": "markdown",
   "metadata": {},
   "source": [
    "The feature \"KitchenQual\" can be transformed to a numerical value as it reflect a magnitude.\n"
   ]
  },
  {
   "cell_type": "code",
   "execution_count": 141,
   "metadata": {
    "ExecuteTime": {
     "end_time": "2023-08-26T20:19:23.614329Z",
     "start_time": "2023-08-26T20:19:23.566849Z"
    },
    "collapsed": false,
    "jupyter": {
     "outputs_hidden": false
    },
    "tags": []
   },
   "outputs": [],
   "source": [
    "kitchen_quality = {\n",
    "    \"Ex\": 5, # Excellent - Exceptional Masonry Fireplace\n",
    "    \"Gd\": 4, # Good - Masonry Fireplace in main level\n",
    "    \"TA\": 3, # Average - Prefabricated Fireplace in main living area or Masonry Fireplace in basement\n",
    "    \"Fa\": 2, # Fair - Prefabricated Fireplace in basement\n",
    "    \"Po\": 1, # Poor - Ben Franklin Stove\n",
    "}\n",
    "\n",
    "train_df.replace(\n",
    "    {\n",
    "        \"KitchenQual\": kitchen_quality,\n",
    "    },\n",
    "    inplace=True,\n",
    ")\n",
    "test_df.replace(\n",
    "    {\n",
    "        \"KitchenQual\": kitchen_quality,\n",
    "    },\n",
    "    inplace=True,\n",
    ")"
   ]
  },
  {
   "cell_type": "markdown",
   "metadata": {},
   "source": [
    "## Pool Features\n",
    "\n",
    "From the home sales data only 7 houses out of 1460 have a swimming pool. We can safely discard pool featured as it doesn't add value to the sales price prediction."
   ]
  },
  {
   "cell_type": "code",
   "execution_count": 115,
   "metadata": {
    "ExecuteTime": {
     "end_time": "2023-08-26T20:24:06.471905Z",
     "start_time": "2023-08-26T20:24:06.411310Z"
    },
    "collapsed": false,
    "jupyter": {
     "outputs_hidden": false
    },
    "tags": []
   },
   "outputs": [
    {
     "data": {
      "text/plain": [
       "0      1453\n",
       "512       1\n",
       "648       1\n",
       "576       1\n",
       "555       1\n",
       "480       1\n",
       "519       1\n",
       "738       1\n",
       "Name: PoolArea, dtype: int64"
      ]
     },
     "execution_count": 115,
     "metadata": {},
     "output_type": "execute_result"
    }
   ],
   "source": [
    "pool_features = [\"PoolArea\", \"PoolQC\"]\n",
    "train_df[\"PoolArea\"].value_counts()"
   ]
  },
  {
   "cell_type": "code",
   "execution_count": 116,
   "metadata": {
    "ExecuteTime": {
     "end_time": "2023-08-26T20:24:22.795159Z",
     "start_time": "2023-08-26T20:24:22.725502Z"
    },
    "collapsed": false,
    "jupyter": {
     "outputs_hidden": false
    },
    "tags": []
   },
   "outputs": [],
   "source": [
    "train_df = train_df.drop(\"PoolArea\", axis = 1)\n",
    "test_df = test_df.drop(\"PoolArea\", axis = 1)"
   ]
  },
  {
   "cell_type": "code",
   "execution_count": 117,
   "metadata": {
    "ExecuteTime": {
     "end_time": "2023-08-26T20:24:29.855827Z",
     "start_time": "2023-08-26T20:24:29.816372Z"
    },
    "collapsed": false,
    "jupyter": {
     "outputs_hidden": false
    },
    "tags": []
   },
   "outputs": [],
   "source": [
    "train_df = train_df.drop(\"PoolQC\", axis = 1)\n",
    "test_df = test_df.drop(\"PoolQC\", axis = 1)"
   ]
  },
  {
   "cell_type": "markdown",
   "metadata": {},
   "source": [
    "## Bathrooms Features\n"
   ]
  },
  {
   "cell_type": "markdown",
   "metadata": {},
   "source": [
    "I decided that half bath can be counted as full bath. As result, new features are created total_bathroom and total_basement_bathroom replacing FullBath, HalfBath, BsmtHalfBath and BsmtFullBath. I found this approach will simply the model whithout scarifying the precision of the prediction."
   ]
  },
  {
   "cell_type": "code",
   "execution_count": 118,
   "metadata": {
    "ExecuteTime": {
     "end_time": "2023-08-26T20:29:36.827961Z",
     "start_time": "2023-08-26T20:29:36.783744Z"
    },
    "collapsed": false,
    "jupyter": {
     "outputs_hidden": false
    },
    "tags": []
   },
   "outputs": [],
   "source": [
    "train_df[\"total_bathroom\"] =  train_df[\"FullBath\"] + train_df[\"HalfBath\"]\n",
    "train_df[\"total_basement_bathroom\"] =  train_df[\"BsmtHalfBath\"] + train_df[\"BsmtFullBath\"]\n",
    "\n",
    "test_df[\"total_bathroom\"] =  test_df[\"FullBath\"] + test_df[\"HalfBath\"]\n",
    "test_df[\"total_basement_bathroom\"] =  test_df[\"BsmtHalfBath\"] + test_df[\"BsmtFullBath\"]\n",
    "\n",
    "bathroom_features = [\"BsmtFullBath\", \"BsmtHalfBath\", \"FullBath\", \"HalfBath\", \"total_bathroom\", \"total_basement_bathroom\"]"
   ]
  },
  {
   "cell_type": "code",
   "execution_count": 119,
   "metadata": {
    "ExecuteTime": {
     "end_time": "2023-08-26T20:29:46.435723Z",
     "start_time": "2023-08-26T20:29:46.157521Z"
    },
    "collapsed": false,
    "jupyter": {
     "outputs_hidden": false
    },
    "tags": []
   },
   "outputs": [
    {
     "data": {
      "text/plain": [
       "<Axes: >"
      ]
     },
     "execution_count": 119,
     "metadata": {},
     "output_type": "execute_result"
    },
    {
     "data": {
      "image/png": "[encoded data removed]",
      "text/plain": [
       "<Figure size 2000x2000 with 2 Axes>"
      ]
     },
     "metadata": {},
     "output_type": "display_data"
    }
   ],
   "source": [
    "plt.figure(figsize=(20, 20))\n",
    "sns.heatmap(train_df[bathroom_features].corr())"
   ]
  },
  {
   "cell_type": "markdown",
   "metadata": {},
   "source": [
    "We can conclude from that decision to introduce the new features: total_bathroom and total_basement_bathroom was right since the graph above clearly shows a correlation between: FullBath and total_bathroom and between BsmtFullBath and total_basement_bathroom and also between HalfBath and total_bathroom and BsmtHalfBath and total_basement_bathroom ."
   ]
  },
  {
   "cell_type": "code",
   "execution_count": 120,
   "metadata": {
    "ExecuteTime": {
     "end_time": "2023-08-26T20:35:09.520683Z",
     "start_time": "2023-08-26T20:35:09.467998Z"
    },
    "collapsed": false,
    "jupyter": {
     "outputs_hidden": false
    },
    "tags": []
   },
   "outputs": [],
   "source": [
    "train_df = train_df.drop(\"BsmtFullBath\", axis = 1)\n",
    "test_df = test_df.drop(\"BsmtFullBath\", axis = 1)\n",
    "train_df = train_df.drop(\"BsmtHalfBath\", axis = 1)\n",
    "test_df = test_df.drop(\"BsmtHalfBath\", axis = 1)\n",
    "train_df = train_df.drop(\"FullBath\", axis = 1)\n",
    "test_df = test_df.drop(\"FullBath\", axis = 1)\n",
    "train_df = train_df.drop(\"HalfBath\", axis = 1)\n",
    "test_df = test_df.drop(\"HalfBath\", axis = 1)"
   ]
  },
  {
   "cell_type": "markdown",
   "metadata": {},
   "source": [
    "## Home Type features\n"
   ]
  },
  {
   "cell_type": "markdown",
   "metadata": {},
   "source": [
    "The building type fearture (\"BldgType\") and House Style feature (\"HouseStyle\") can be converted to numerical category as it reflect a magnitude."
   ]
  },
  {
   "cell_type": "code",
   "execution_count": 121,
   "metadata": {
    "ExecuteTime": {
     "end_time": "2023-08-26T20:46:58.406020Z",
     "start_time": "2023-08-26T20:46:58.397205Z"
    },
    "collapsed": false,
    "jupyter": {
     "outputs_hidden": false
    },
    "tags": []
   },
   "outputs": [],
   "source": [
    "BldgType = {\n",
    "    \"1Fam\" : 1, #\tSingle-family Detached\n",
    "    \"2FmCon\" : 2,\t# Two-family Conversion; originally built as one-family dwelling\n",
    "    \"2fmCon\" : 2,\t# Two-family Conversion; originally built as one-family dwelling\n",
    "    \"Duplx\" : 3, \t# Duplex\n",
    "    \"Duplex\" : 3, \t# Duplex\n",
    "    \"TwnhsE\" : 4,\t# Townhouse End Unit\n",
    "    \"Twnhs\" : 4,\t# Townhouse End Unit\n",
    "    \"TwnhsI\" : 5\t# Townhouse Inside Unit\n",
    "}\n",
    "\n",
    "HouseStyle = {\n",
    "    \"1Story\" : 1,  #\tOne story\n",
    "    \"1.5Unf\" :\t2, #, # One and one-half story: 2nd level unfinished\n",
    "    \"1.5Fin\" :\t3, # One and one-half story: 2nd level finished\n",
    "    \"2Story\" : 4, #\tTwo story\n",
    "    \"2.5Unf\" :\t5, # Two and one-half story: 2nd level unfinished\n",
    "    \"2.5Fin\" : 6, #\tTwo and one-half story: 2nd level finished\n",
    "    \"SFoyer\" : 7, #\tSplit Foyer\n",
    "    \"SLvl\"\t: 8  # Split Level\n",
    "}\n",
    "\n",
    "train_df.replace(\n",
    "    {\n",
    "        \"BldgType\": BldgType,\n",
    "    },\n",
    "    inplace=True,\n",
    ")\n",
    "\n",
    "test_df.replace(\n",
    "    {\n",
    "        \"BldgType\": BldgType,\n",
    "    },\n",
    "    inplace=True,\n",
    ")\n",
    "\n",
    "train_df.replace(\n",
    "    {\n",
    "        \"HouseStyle\": HouseStyle,\n",
    "    },\n",
    "    inplace=True,\n",
    ")\n",
    "\n",
    "test_df.replace(\n",
    "    {\n",
    "        \"HouseStyle\": HouseStyle,\n",
    "    },\n",
    "    inplace=True,\n",
    ")\n",
    "home_type_features = [\"BldgType\", \"HouseStyle\", \"MSSubClass\"]"
   ]
  },
  {
   "cell_type": "code",
   "execution_count": 122,
   "metadata": {
    "ExecuteTime": {
     "end_time": "2023-08-26T20:47:11.883599Z",
     "start_time": "2023-08-26T20:47:11.464637Z"
    },
    "collapsed": false,
    "jupyter": {
     "outputs_hidden": false
    },
    "tags": []
   },
   "outputs": [
    {
     "data": {
      "text/plain": [
       "<Axes: >"
      ]
     },
     "execution_count": 122,
     "metadata": {},
     "output_type": "execute_result"
    },
    {
     "data": {
      "image/png": "[encoded data removed]",
      "text/plain": [
       "<Figure size 2000x2000 with 2 Axes>"
      ]
     },
     "metadata": {},
     "output_type": "display_data"
    }
   ],
   "source": [
    "plt.figure(figsize=(20, 20))\n",
    "sns.heatmap(train_df[home_type_features].corr())"
   ]
  },
  {
   "cell_type": "markdown",
   "metadata": {},
   "source": [
    "From the graph above, we can clearly see that  MSSubClass correlate with BldgType. The feature MSSubClass can be discarded.\n"
   ]
  },
  {
   "cell_type": "code",
   "execution_count": 123,
   "metadata": {
    "ExecuteTime": {
     "end_time": "2023-08-26T20:48:49.503656Z",
     "start_time": "2023-08-26T20:48:49.468686Z"
    },
    "collapsed": false,
    "jupyter": {
     "outputs_hidden": false
    },
    "tags": []
   },
   "outputs": [],
   "source": [
    "train_df = train_df.drop(\"MSSubClass\", axis = 1)\n",
    "test_df = test_df.drop(\"MSSubClass\", axis = 1)"
   ]
  },
  {
   "cell_type": "markdown",
   "metadata": {},
   "source": [
    "## Feature : Neighborhood"
   ]
  },
  {
   "cell_type": "markdown",
   "metadata": {},
   "source": [
    "I decided to have special treatment for the feature: Neighborhood. It is known that Neighborhood is known to have direct influence on the house price. Usually, people are more attracted to safe Neighborhood with good school ranking. However, the data at our hand doesn't record the ranking of a given neighborhood so we can't use a numeric value to denote a magnitude (i.e.: from pool to rich neighborhood, or dangerous to extremely safe neighborhood). Also, the Neighborhood is defined as a non-numerical category. In this scenario, one hot encoding will be at our rescue. There are 34 Neighborhood. The feature Neighborhood will be replaced with 34 new Boolean features where each feature. This has to downsize of adding performance overhead to the prediction model, but we can't just ignore this feature as it has significant impact on the price."
   ]
  },
  {
   "cell_type": "code",
   "execution_count": 124,
   "metadata": {
    "ExecuteTime": {
     "end_time": "2023-08-26T21:01:33.449589Z",
     "start_time": "2023-08-26T21:01:33.433605Z"
    },
    "collapsed": false,
    "jupyter": {
     "outputs_hidden": false
    },
    "tags": []
   },
   "outputs": [],
   "source": [
    "train_df = pd.get_dummies(train_df, columns=[\"Neighborhood\"], prefix=\"Neighborhood\")\n"
   ]
  },
  {
   "cell_type": "code",
   "execution_count": 125,
   "metadata": {
    "ExecuteTime": {
     "end_time": "2023-08-26T21:01:40.004589Z",
     "start_time": "2023-08-26T21:01:39.958469Z"
    },
    "collapsed": false,
    "jupyter": {
     "outputs_hidden": false
    },
    "tags": []
   },
   "outputs": [],
   "source": [
    "test_df = pd.get_dummies(test_df, columns=[\"Neighborhood\"], prefix=\"Neighborhood\")\n"
   ]
  },
  {
   "cell_type": "code",
   "execution_count": 126,
   "metadata": {
    "ExecuteTime": {
     "end_time": "2023-08-26T21:01:46.567765Z",
     "start_time": "2023-08-26T21:01:46.529889Z"
    },
    "collapsed": false,
    "jupyter": {
     "outputs_hidden": false
    },
    "tags": []
   },
   "outputs": [
    {
     "name": "stdout",
     "output_type": "stream",
     "text": [
      "<class 'pandas.core.frame.DataFrame'>\n",
      "RangeIndex: 1460 entries, 0 to 1459\n",
      "Data columns (total 76 columns):\n",
      " #   Column                   Non-Null Count  Dtype  \n",
      "---  ------                   --------------  -----  \n",
      " 0   Id                       1460 non-null   int64  \n",
      " 1   LotFrontage              1201 non-null   float64\n",
      " 2   LotArea                  1460 non-null   int64  \n",
      " 3   Street                   1460 non-null   object \n",
      " 4   Alley                    91 non-null     object \n",
      " 5   LotShape                 1460 non-null   int64  \n",
      " 6   LandContour              1460 non-null   int64  \n",
      " 7   LotConfig                1460 non-null   int64  \n",
      " 8   LandSlope                1460 non-null   int64  \n",
      " 9   BldgType                 1460 non-null   int64  \n",
      " 10  HouseStyle               1460 non-null   int64  \n",
      " 11  OverallQual              1460 non-null   int64  \n",
      " 12  OverallCond              1460 non-null   int64  \n",
      " 13  YearBuilt                1460 non-null   int64  \n",
      " 14  YearRemodAdd             1460 non-null   int64  \n",
      " 15  RoofStyle                1460 non-null   object \n",
      " 16  MasVnrType               1452 non-null   object \n",
      " 17  ExterQual                1460 non-null   int64  \n",
      " 18  ExterCond                1460 non-null   int64  \n",
      " 19  BsmtQual                 1423 non-null   float64\n",
      " 20  BsmtExposure             1422 non-null   float64\n",
      " 21  BsmtFinType1             1423 non-null   float64\n",
      " 22  BsmtUnfSF                1460 non-null   int64  \n",
      " 23  TotalBsmtSF              1460 non-null   int64  \n",
      " 24  LowQualFinSF             1460 non-null   int64  \n",
      " 25  GrLivArea                1460 non-null   int64  \n",
      " 26  KitchenQual              1460 non-null   int64  \n",
      " 27  TotRmsAbvGrd             1460 non-null   int64  \n",
      " 28  Functional               1460 non-null   object \n",
      " 29  Fireplaces               1460 non-null   int64  \n",
      " 30  FireplaceQu              770 non-null    float64\n",
      " 31  GarageType               1379 non-null   object \n",
      " 32  GarageYrBlt              1379 non-null   float64\n",
      " 33  GarageFinish             1379 non-null   float64\n",
      " 34  GarageCars               1460 non-null   int64  \n",
      " 35  GarageQual               1379 non-null   float64\n",
      " 36  GarageCond               1379 non-null   float64\n",
      " 37  PavedDrive               1460 non-null   object \n",
      " 38  WoodDeckSF               1460 non-null   int64  \n",
      " 39  OpenPorchSF              1460 non-null   int64  \n",
      " 40  Fence                    281 non-null    object \n",
      " 41  MiscFeature              54 non-null     object \n",
      " 42  MiscVal                  1460 non-null   int64  \n",
      " 43  MoSold                   1460 non-null   int64  \n",
      " 44  YrSold                   1460 non-null   int64  \n",
      " 45  SaleType                 1460 non-null   object \n",
      " 46  SaleCondition            1460 non-null   object \n",
      " 47  SalePrice                1460 non-null   int64  \n",
      " 48  SalePrice_log            1460 non-null   float64\n",
      " 49  total_bathroom           1460 non-null   int64  \n",
      " 50  total_basement_bathroom  1460 non-null   int64  \n",
      " 51  Neighborhood_Blmngtn     1460 non-null   uint8  \n",
      " 52  Neighborhood_Blueste     1460 non-null   uint8  \n",
      " 53  Neighborhood_BrDale      1460 non-null   uint8  \n",
      " 54  Neighborhood_BrkSide     1460 non-null   uint8  \n",
      " 55  Neighborhood_ClearCr     1460 non-null   uint8  \n",
      " 56  Neighborhood_CollgCr     1460 non-null   uint8  \n",
      " 57  Neighborhood_Crawfor     1460 non-null   uint8  \n",
      " 58  Neighborhood_Edwards     1460 non-null   uint8  \n",
      " 59  Neighborhood_Gilbert     1460 non-null   uint8  \n",
      " 60  Neighborhood_IDOTRR      1460 non-null   uint8  \n",
      " 61  Neighborhood_MeadowV     1460 non-null   uint8  \n",
      " 62  Neighborhood_Mitchel     1460 non-null   uint8  \n",
      " 63  Neighborhood_NAmes       1460 non-null   uint8  \n",
      " 64  Neighborhood_NPkVill     1460 non-null   uint8  \n",
      " 65  Neighborhood_NWAmes      1460 non-null   uint8  \n",
      " 66  Neighborhood_NoRidge     1460 non-null   uint8  \n",
      " 67  Neighborhood_NridgHt     1460 non-null   uint8  \n",
      " 68  Neighborhood_OldTown     1460 non-null   uint8  \n",
      " 69  Neighborhood_SWISU       1460 non-null   uint8  \n",
      " 70  Neighborhood_Sawyer      1460 non-null   uint8  \n",
      " 71  Neighborhood_SawyerW     1460 non-null   uint8  \n",
      " 72  Neighborhood_Somerst     1460 non-null   uint8  \n",
      " 73  Neighborhood_StoneBr     1460 non-null   uint8  \n",
      " 74  Neighborhood_Timber      1460 non-null   uint8  \n",
      " 75  Neighborhood_Veenker     1460 non-null   uint8  \n",
      "dtypes: float64(10), int64(30), object(11), uint8(25)\n",
      "memory usage: 617.5+ KB\n"
     ]
    }
   ],
   "source": [
    "train_df.info()\n"
   ]
  },
  {
   "cell_type": "markdown",
   "metadata": {},
   "source": [
    "## Other Features"
   ]
  },
  {
   "cell_type": "markdown",
   "metadata": {},
   "source": [
    "For a seek of simplicity I decided to discard the following features as they seems not adding a significant value to the price prediction model based on the business domain in context (real estate)"
   ]
  },
  {
   "cell_type": "code",
   "execution_count": 127,
   "metadata": {
    "ExecuteTime": {
     "end_time": "2023-08-26T21:10:48.593015Z",
     "start_time": "2023-08-26T21:10:48.537023Z"
    },
    "collapsed": false,
    "jupyter": {
     "outputs_hidden": false
    },
    "tags": []
   },
   "outputs": [],
   "source": [
    "# to_be_dropped_features = [\"Id\", \"Street\", \"BsmtExposure\", \"ExterCond\", \"SaleCondition\", \"BsmtUnfSF\", \"BsmtExposure\", \"BsmtFinType1\", \"LandContour\", \"LandSlope\", \"LotConfig\", \"LotShape\", \"LotFrontage\", \"Fireplaces\", \"FireplaceQu\", \"Alley\", \"YearBuilt\" ,\"YearRemodAdd\" , \"RoofStyle\" , \"MasVnrType\",\"Functional\" , \"GarageType\" , \"GarageYrBlt\", \"GarageFinish\" , \"PavedDrive\" , \"WoodDeckSF\" , \"OpenPorchSF\" , \"Fence\" , \"GarageQual\", \"GarageCond\", \"MiscFeature\" , \"MiscVal\" , \"MoSold\" , \"YrSold\" , \"SaleType\"]\n",
    "\n",
    "# train_df = train_df.drop(to_be_dropped_features,  axis = 1)\n",
    "# test_df = test_df.drop(to_be_dropped_features,  axis = 1)\n",
    "\n",
    "#train_df = train_df.drop(\"SalePrice_log\",  axis = 1)\n",
    "train_df = train_df.drop(\"Id\",  axis = 1)"
   ]
  },
  {
   "cell_type": "code",
   "execution_count": 128,
   "metadata": {
    "tags": []
   },
   "outputs": [
    {
     "name": "stdout",
     "output_type": "stream",
     "text": [
      "<class 'pandas.core.frame.DataFrame'>\n",
      "RangeIndex: 1460 entries, 0 to 1459\n",
      "Data columns (total 75 columns):\n",
      " #   Column                   Non-Null Count  Dtype  \n",
      "---  ------                   --------------  -----  \n",
      " 0   LotFrontage              1201 non-null   float64\n",
      " 1   LotArea                  1460 non-null   int64  \n",
      " 2   Street                   1460 non-null   object \n",
      " 3   Alley                    91 non-null     object \n",
      " 4   LotShape                 1460 non-null   int64  \n",
      " 5   LandContour              1460 non-null   int64  \n",
      " 6   LotConfig                1460 non-null   int64  \n",
      " 7   LandSlope                1460 non-null   int64  \n",
      " 8   BldgType                 1460 non-null   int64  \n",
      " 9   HouseStyle               1460 non-null   int64  \n",
      " 10  OverallQual              1460 non-null   int64  \n",
      " 11  OverallCond              1460 non-null   int64  \n",
      " 12  YearBuilt                1460 non-null   int64  \n",
      " 13  YearRemodAdd             1460 non-null   int64  \n",
      " 14  RoofStyle                1460 non-null   object \n",
      " 15  MasVnrType               1452 non-null   object \n",
      " 16  ExterQual                1460 non-null   int64  \n",
      " 17  ExterCond                1460 non-null   int64  \n",
      " 18  BsmtQual                 1423 non-null   float64\n",
      " 19  BsmtExposure             1422 non-null   float64\n",
      " 20  BsmtFinType1             1423 non-null   float64\n",
      " 21  BsmtUnfSF                1460 non-null   int64  \n",
      " 22  TotalBsmtSF              1460 non-null   int64  \n",
      " 23  LowQualFinSF             1460 non-null   int64  \n",
      " 24  GrLivArea                1460 non-null   int64  \n",
      " 25  KitchenQual              1460 non-null   int64  \n",
      " 26  TotRmsAbvGrd             1460 non-null   int64  \n",
      " 27  Functional               1460 non-null   object \n",
      " 28  Fireplaces               1460 non-null   int64  \n",
      " 29  FireplaceQu              770 non-null    float64\n",
      " 30  GarageType               1379 non-null   object \n",
      " 31  GarageYrBlt              1379 non-null   float64\n",
      " 32  GarageFinish             1379 non-null   float64\n",
      " 33  GarageCars               1460 non-null   int64  \n",
      " 34  GarageQual               1379 non-null   float64\n",
      " 35  GarageCond               1379 non-null   float64\n",
      " 36  PavedDrive               1460 non-null   object \n",
      " 37  WoodDeckSF               1460 non-null   int64  \n",
      " 38  OpenPorchSF              1460 non-null   int64  \n",
      " 39  Fence                    281 non-null    object \n",
      " 40  MiscFeature              54 non-null     object \n",
      " 41  MiscVal                  1460 non-null   int64  \n",
      " 42  MoSold                   1460 non-null   int64  \n",
      " 43  YrSold                   1460 non-null   int64  \n",
      " 44  SaleType                 1460 non-null   object \n",
      " 45  SaleCondition            1460 non-null   object \n",
      " 46  SalePrice                1460 non-null   int64  \n",
      " 47  SalePrice_log            1460 non-null   float64\n",
      " 48  total_bathroom           1460 non-null   int64  \n",
      " 49  total_basement_bathroom  1460 non-null   int64  \n",
      " 50  Neighborhood_Blmngtn     1460 non-null   uint8  \n",
      " 51  Neighborhood_Blueste     1460 non-null   uint8  \n",
      " 52  Neighborhood_BrDale      1460 non-null   uint8  \n",
      " 53  Neighborhood_BrkSide     1460 non-null   uint8  \n",
      " 54  Neighborhood_ClearCr     1460 non-null   uint8  \n",
      " 55  Neighborhood_CollgCr     1460 non-null   uint8  \n",
      " 56  Neighborhood_Crawfor     1460 non-null   uint8  \n",
      " 57  Neighborhood_Edwards     1460 non-null   uint8  \n",
      " 58  Neighborhood_Gilbert     1460 non-null   uint8  \n",
      " 59  Neighborhood_IDOTRR      1460 non-null   uint8  \n",
      " 60  Neighborhood_MeadowV     1460 non-null   uint8  \n",
      " 61  Neighborhood_Mitchel     1460 non-null   uint8  \n",
      " 62  Neighborhood_NAmes       1460 non-null   uint8  \n",
      " 63  Neighborhood_NPkVill     1460 non-null   uint8  \n",
      " 64  Neighborhood_NWAmes      1460 non-null   uint8  \n",
      " 65  Neighborhood_NoRidge     1460 non-null   uint8  \n",
      " 66  Neighborhood_NridgHt     1460 non-null   uint8  \n",
      " 67  Neighborhood_OldTown     1460 non-null   uint8  \n",
      " 68  Neighborhood_SWISU       1460 non-null   uint8  \n",
      " 69  Neighborhood_Sawyer      1460 non-null   uint8  \n",
      " 70  Neighborhood_SawyerW     1460 non-null   uint8  \n",
      " 71  Neighborhood_Somerst     1460 non-null   uint8  \n",
      " 72  Neighborhood_StoneBr     1460 non-null   uint8  \n",
      " 73  Neighborhood_Timber      1460 non-null   uint8  \n",
      " 74  Neighborhood_Veenker     1460 non-null   uint8  \n",
      "dtypes: float64(10), int64(29), object(11), uint8(25)\n",
      "memory usage: 606.1+ KB\n"
     ]
    }
   ],
   "source": [
    "train_df.info()"
   ]
  },
  {
   "cell_type": "code",
   "execution_count": 129,
   "metadata": {
    "ExecuteTime": {
     "end_time": "2023-08-26T21:10:55.718330Z",
     "start_time": "2023-08-26T21:10:55.661975Z"
    },
    "collapsed": false,
    "jupyter": {
     "outputs_hidden": false
    },
    "tags": []
   },
   "outputs": [
    {
     "name": "stdout",
     "output_type": "stream",
     "text": [
      "<class 'pandas.core.frame.DataFrame'>\n",
      "RangeIndex: 1460 entries, 0 to 1459\n",
      "Data columns (total 75 columns):\n",
      " #   Column                   Non-Null Count  Dtype  \n",
      "---  ------                   --------------  -----  \n",
      " 0   LotFrontage              1201 non-null   float64\n",
      " 1   LotArea                  1460 non-null   int64  \n",
      " 2   Street                   1460 non-null   object \n",
      " 3   Alley                    91 non-null     object \n",
      " 4   LotShape                 1460 non-null   int64  \n",
      " 5   LandContour              1460 non-null   int64  \n",
      " 6   LotConfig                1460 non-null   int64  \n",
      " 7   LandSlope                1460 non-null   int64  \n",
      " 8   BldgType                 1460 non-null   int64  \n",
      " 9   HouseStyle               1460 non-null   int64  \n",
      " 10  OverallQual              1460 non-null   int64  \n",
      " 11  OverallCond              1460 non-null   int64  \n",
      " 12  YearBuilt                1460 non-null   int64  \n",
      " 13  YearRemodAdd             1460 non-null   int64  \n",
      " 14  RoofStyle                1460 non-null   object \n",
      " 15  MasVnrType               1452 non-null   object \n",
      " 16  ExterQual                1460 non-null   int64  \n",
      " 17  ExterCond                1460 non-null   int64  \n",
      " 18  BsmtQual                 1423 non-null   float64\n",
      " 19  BsmtExposure             1422 non-null   float64\n",
      " 20  BsmtFinType1             1423 non-null   float64\n",
      " 21  BsmtUnfSF                1460 non-null   int64  \n",
      " 22  TotalBsmtSF              1460 non-null   int64  \n",
      " 23  LowQualFinSF             1460 non-null   int64  \n",
      " 24  GrLivArea                1460 non-null   int64  \n",
      " 25  KitchenQual              1460 non-null   int64  \n",
      " 26  TotRmsAbvGrd             1460 non-null   int64  \n",
      " 27  Functional               1460 non-null   object \n",
      " 28  Fireplaces               1460 non-null   int64  \n",
      " 29  FireplaceQu              770 non-null    float64\n",
      " 30  GarageType               1379 non-null   object \n",
      " 31  GarageYrBlt              1379 non-null   float64\n",
      " 32  GarageFinish             1379 non-null   float64\n",
      " 33  GarageCars               1460 non-null   int64  \n",
      " 34  GarageQual               1379 non-null   float64\n",
      " 35  GarageCond               1379 non-null   float64\n",
      " 36  PavedDrive               1460 non-null   object \n",
      " 37  WoodDeckSF               1460 non-null   int64  \n",
      " 38  OpenPorchSF              1460 non-null   int64  \n",
      " 39  Fence                    281 non-null    object \n",
      " 40  MiscFeature              54 non-null     object \n",
      " 41  MiscVal                  1460 non-null   int64  \n",
      " 42  MoSold                   1460 non-null   int64  \n",
      " 43  YrSold                   1460 non-null   int64  \n",
      " 44  SaleType                 1460 non-null   object \n",
      " 45  SaleCondition            1460 non-null   object \n",
      " 46  SalePrice                1460 non-null   int64  \n",
      " 47  SalePrice_log            1460 non-null   float64\n",
      " 48  total_bathroom           1460 non-null   int64  \n",
      " 49  total_basement_bathroom  1460 non-null   int64  \n",
      " 50  Neighborhood_Blmngtn     1460 non-null   uint8  \n",
      " 51  Neighborhood_Blueste     1460 non-null   uint8  \n",
      " 52  Neighborhood_BrDale      1460 non-null   uint8  \n",
      " 53  Neighborhood_BrkSide     1460 non-null   uint8  \n",
      " 54  Neighborhood_ClearCr     1460 non-null   uint8  \n",
      " 55  Neighborhood_CollgCr     1460 non-null   uint8  \n",
      " 56  Neighborhood_Crawfor     1460 non-null   uint8  \n",
      " 57  Neighborhood_Edwards     1460 non-null   uint8  \n",
      " 58  Neighborhood_Gilbert     1460 non-null   uint8  \n",
      " 59  Neighborhood_IDOTRR      1460 non-null   uint8  \n",
      " 60  Neighborhood_MeadowV     1460 non-null   uint8  \n",
      " 61  Neighborhood_Mitchel     1460 non-null   uint8  \n",
      " 62  Neighborhood_NAmes       1460 non-null   uint8  \n",
      " 63  Neighborhood_NPkVill     1460 non-null   uint8  \n",
      " 64  Neighborhood_NWAmes      1460 non-null   uint8  \n",
      " 65  Neighborhood_NoRidge     1460 non-null   uint8  \n",
      " 66  Neighborhood_NridgHt     1460 non-null   uint8  \n",
      " 67  Neighborhood_OldTown     1460 non-null   uint8  \n",
      " 68  Neighborhood_SWISU       1460 non-null   uint8  \n",
      " 69  Neighborhood_Sawyer      1460 non-null   uint8  \n",
      " 70  Neighborhood_SawyerW     1460 non-null   uint8  \n",
      " 71  Neighborhood_Somerst     1460 non-null   uint8  \n",
      " 72  Neighborhood_StoneBr     1460 non-null   uint8  \n",
      " 73  Neighborhood_Timber      1460 non-null   uint8  \n",
      " 74  Neighborhood_Veenker     1460 non-null   uint8  \n",
      "dtypes: float64(10), int64(29), object(11), uint8(25)\n",
      "memory usage: 606.1+ KB\n"
     ]
    }
   ],
   "source": [
    "train_df.info()"
   ]
  },
  {
   "cell_type": "markdown",
   "metadata": {},
   "source": [
    "# Machine Learning Model Selection (see the solution section for the motive behind choosing the algorithms below):\n",
    "\n",
    "- Decision Tree:  A tree algorithm used in machine learning to find patterns in data by learning decision rules.\n",
    "- Random Forest — A type of bagging method that plays on ‘the wisdom of crowds’ effect. It uses multiple independent decision trees in parallel to learn from data and aggregates their predictions for an outcome.\n",
    "    - Gradient Boosting Machines — A type of boosting method that uses a combination of decision tree in series. Each tree is used to predict and correct the errors by the preceding tree additively.\n",
    "\n",
    "Random forests and gradient boosting can significantly improve the quality of weak decision trees.\n",
    "They’re great algorithms to use if we  have small training data sets like in this case.\n",
    "\n",
    "#### Training:\n",
    "\n",
    "At this stage we will teach our model using examples from the dataset. In the training stage we will tune the model hyperparameter.\n",
    "Our goal at this stage if to find the optimal hyperparmater value that lower the model bias and model variance.\n",
    "\n",
    "- Model bias:\n",
    "Refers to models that under-fit the training data leading to poor predictive capacity on unseen data. Generally, the simpler the model the higher the bias.\n",
    "\n",
    "- Model variance:\n",
    "Refers to Models that over-fit the training data leading to poor predictive capacity on unseen data. Generally, the more complexity in the model the higher the variance.\n",
    "\n",
    "I plan to tune the following hyperparamaters:\n",
    "\n",
    "- max_depth — The maximum number of nodes for a given decision tree.\n",
    "- max_features — The size of the subset of features to consider for splitting at a node.\n",
    "- n_estimators — The number of trees used for boosting or aggregation. This hyperparameter only applies to the random forest and gradient boosting machines.\n",
    "- learning_rate — The learning rate acts to reduce the contribution of each tree. This only applies for gradient boosting machines.\n",
    "\n",
    "For better hyperparameter tuning (to ovoid over-fitting and model bias) I will use the following techniques:\n",
    "\n",
    "- Grid search: Choosing the range of your hyperparameters is an iterative process. With more experience you’ll begin to get a feel for what ranges to set. The good news is once you’ve chosen your possible hyperparameter ranges, grid search allows you to test the model at every combination of those ranges. I’ll talk more about this in the next section.\n",
    "- Cross validation: Models are trained with a 5-fold cross validation. A technique that takes the entirety of your training data, randomly splits it into train and validation data sets over 5 iterations.\n",
    "\n",
    "#### Evaluation\n",
    "At this stage we evaluate our selected machine learning models. Either we are happy with the results or we need to go trough to another cycle/iteration.\n"
   ]
  },
  {
   "cell_type": "code",
   "execution_count": 130,
   "metadata": {
    "tags": []
   },
   "outputs": [
    {
     "name": "stdout",
     "output_type": "stream",
     "text": [
      "Requirement already satisfied: pip in /home/ec2-user/anaconda3/envs/pytorch_p310/lib/python3.10/site-packages (23.2.1)\n",
      "Requirement already satisfied: setuptools in /home/ec2-user/anaconda3/envs/pytorch_p310/lib/python3.10/site-packages (60.2.0)\n",
      "Collecting setuptools\n",
      "  Obtaining dependency information for setuptools from https://files.pythonhosted.org/packages/4f/ab/0bcfebdfc3bfa8554b2b2c97a555569c4c1ebc74ea288741ea8326c51906/setuptools-68.1.2-py3-none-any.whl.metadata\n",
      "  Using cached setuptools-68.1.2-py3-none-any.whl.metadata (6.2 kB)\n",
      "Requirement already satisfied: wheel in /home/ec2-user/anaconda3/envs/pytorch_p310/lib/python3.10/site-packages (0.41.2)\n",
      "Using cached setuptools-68.1.2-py3-none-any.whl (805 kB)\n",
      "Installing collected packages: setuptools\n",
      "  Attempting uninstall: setuptools\n",
      "    Found existing installation: setuptools 60.2.0\n",
      "    Uninstalling setuptools-60.2.0:\n",
      "      Successfully uninstalled setuptools-60.2.0\n",
      "\u001b[31mERROR: pip's dependency resolver does not currently take into account all the packages that are installed. This behaviour is the source of the following dependency conflicts.\n",
      "triton 2.0.0 requires cmake, which is not installed.\n",
      "triton 2.0.0 requires lit, which is not installed.\n",
      "openxlab 0.0.22 requires setuptools~=60.2.0, but you have setuptools 68.1.2 which is incompatible.\u001b[0m\u001b[31m\n",
      "\u001b[0mSuccessfully installed setuptools-68.1.2\n",
      "Requirement already satisfied: mxnet<2.0.0 in /home/ec2-user/anaconda3/envs/pytorch_p310/lib/python3.10/site-packages (1.9.1)\n",
      "Requirement already satisfied: bokeh==2.0.1 in /home/ec2-user/anaconda3/envs/pytorch_p310/lib/python3.10/site-packages (2.0.1)\n",
      "Requirement already satisfied: PyYAML>=3.10 in /home/ec2-user/anaconda3/envs/pytorch_p310/lib/python3.10/site-packages (from bokeh==2.0.1) (6.0)\n",
      "Requirement already satisfied: python-dateutil>=2.1 in /home/ec2-user/anaconda3/envs/pytorch_p310/lib/python3.10/site-packages (from bokeh==2.0.1) (2.8.2)\n",
      "Requirement already satisfied: Jinja2>=2.7 in /home/ec2-user/anaconda3/envs/pytorch_p310/lib/python3.10/site-packages (from bokeh==2.0.1) (3.1.2)\n",
      "Requirement already satisfied: numpy>=1.11.3 in /home/ec2-user/anaconda3/envs/pytorch_p310/lib/python3.10/site-packages (from bokeh==2.0.1) (1.24.4)\n",
      "Requirement already satisfied: pillow>=4.0 in /home/ec2-user/anaconda3/envs/pytorch_p310/lib/python3.10/site-packages (from bokeh==2.0.1) (9.5.0)\n",
      "Requirement already satisfied: packaging>=16.8 in /home/ec2-user/anaconda3/envs/pytorch_p310/lib/python3.10/site-packages (from bokeh==2.0.1) (21.3)\n",
      "Requirement already satisfied: tornado>=5 in /home/ec2-user/anaconda3/envs/pytorch_p310/lib/python3.10/site-packages (from bokeh==2.0.1) (6.3.2)\n",
      "Requirement already satisfied: typing-extensions>=3.7.4 in /home/ec2-user/anaconda3/envs/pytorch_p310/lib/python3.10/site-packages (from bokeh==2.0.1) (4.7.1)\n",
      "Requirement already satisfied: requests<3,>=2.20.0 in /home/ec2-user/anaconda3/envs/pytorch_p310/lib/python3.10/site-packages (from mxnet<2.0.0) (2.28.2)\n",
      "Requirement already satisfied: graphviz<0.9.0,>=0.8.1 in /home/ec2-user/anaconda3/envs/pytorch_p310/lib/python3.10/site-packages (from mxnet<2.0.0) (0.8.4)\n",
      "Requirement already satisfied: MarkupSafe>=2.0 in /home/ec2-user/anaconda3/envs/pytorch_p310/lib/python3.10/site-packages (from Jinja2>=2.7->bokeh==2.0.1) (2.1.3)\n",
      "Requirement already satisfied: pyparsing!=3.0.5,>=2.0.2 in /home/ec2-user/anaconda3/envs/pytorch_p310/lib/python3.10/site-packages (from packaging>=16.8->bokeh==2.0.1) (3.0.9)\n",
      "Requirement already satisfied: six>=1.5 in /home/ec2-user/anaconda3/envs/pytorch_p310/lib/python3.10/site-packages (from python-dateutil>=2.1->bokeh==2.0.1) (1.16.0)\n",
      "Requirement already satisfied: charset-normalizer<4,>=2 in /home/ec2-user/anaconda3/envs/pytorch_p310/lib/python3.10/site-packages (from requests<3,>=2.20.0->mxnet<2.0.0) (3.2.0)\n",
      "Requirement already satisfied: idna<4,>=2.5 in /home/ec2-user/anaconda3/envs/pytorch_p310/lib/python3.10/site-packages (from requests<3,>=2.20.0->mxnet<2.0.0) (3.4)\n",
      "Requirement already satisfied: urllib3<1.27,>=1.21.1 in /home/ec2-user/anaconda3/envs/pytorch_p310/lib/python3.10/site-packages (from requests<3,>=2.20.0->mxnet<2.0.0) (1.26.14)\n",
      "Requirement already satisfied: certifi>=2017.4.17 in /home/ec2-user/anaconda3/envs/pytorch_p310/lib/python3.10/site-packages (from requests<3,>=2.20.0->mxnet<2.0.0) (2023.5.7)\n",
      "Requirement already satisfied: autogluon in /home/ec2-user/anaconda3/envs/pytorch_p310/lib/python3.10/site-packages (0.8.2)\n",
      "Requirement already satisfied: autogluon.core[all]==0.8.2 in /home/ec2-user/anaconda3/envs/pytorch_p310/lib/python3.10/site-packages (from autogluon) (0.8.2)\n",
      "Requirement already satisfied: autogluon.features==0.8.2 in /home/ec2-user/anaconda3/envs/pytorch_p310/lib/python3.10/site-packages (from autogluon) (0.8.2)\n",
      "Requirement already satisfied: autogluon.tabular[all]==0.8.2 in /home/ec2-user/anaconda3/envs/pytorch_p310/lib/python3.10/site-packages (from autogluon) (0.8.2)\n",
      "Requirement already satisfied: autogluon.multimodal==0.8.2 in /home/ec2-user/anaconda3/envs/pytorch_p310/lib/python3.10/site-packages (from autogluon) (0.8.2)\n",
      "Requirement already satisfied: autogluon.timeseries[all]==0.8.2 in /home/ec2-user/anaconda3/envs/pytorch_p310/lib/python3.10/site-packages (from autogluon) (0.8.2)\n",
      "Requirement already satisfied: numpy<1.27,>=1.21 in /home/ec2-user/anaconda3/envs/pytorch_p310/lib/python3.10/site-packages (from autogluon.core[all]==0.8.2->autogluon) (1.24.4)\n",
      "Requirement already satisfied: scipy<1.12,>=1.5.4 in /home/ec2-user/anaconda3/envs/pytorch_p310/lib/python3.10/site-packages (from autogluon.core[all]==0.8.2->autogluon) (1.11.1)\n",
      "Requirement already satisfied: scikit-learn<1.3,>=1.0 in /home/ec2-user/anaconda3/envs/pytorch_p310/lib/python3.10/site-packages (from autogluon.core[all]==0.8.2->autogluon) (1.2.2)\n",
      "Requirement already satisfied: networkx<4,>=3.0 in /home/ec2-user/anaconda3/envs/pytorch_p310/lib/python3.10/site-packages (from autogluon.core[all]==0.8.2->autogluon) (3.1)\n",
      "Requirement already satisfied: pandas<1.6,>=1.4.1 in /home/ec2-user/anaconda3/envs/pytorch_p310/lib/python3.10/site-packages (from autogluon.core[all]==0.8.2->autogluon) (1.5.3)\n",
      "Requirement already satisfied: tqdm<5,>=4.38 in /home/ec2-user/anaconda3/envs/pytorch_p310/lib/python3.10/site-packages (from autogluon.core[all]==0.8.2->autogluon) (4.65.0)\n",
      "Requirement already satisfied: requests in /home/ec2-user/anaconda3/envs/pytorch_p310/lib/python3.10/site-packages (from autogluon.core[all]==0.8.2->autogluon) (2.28.2)\n",
      "Requirement already satisfied: matplotlib in /home/ec2-user/anaconda3/envs/pytorch_p310/lib/python3.10/site-packages (from autogluon.core[all]==0.8.2->autogluon) (3.7.2)\n",
      "Requirement already satisfied: boto3<2,>=1.10 in /home/ec2-user/anaconda3/envs/pytorch_p310/lib/python3.10/site-packages (from autogluon.core[all]==0.8.2->autogluon) (1.28.33)\n",
      "Requirement already satisfied: autogluon.common==0.8.2 in /home/ec2-user/anaconda3/envs/pytorch_p310/lib/python3.10/site-packages (from autogluon.core[all]==0.8.2->autogluon) (0.8.2)\n",
      "Requirement already satisfied: hyperopt<0.2.8,>=0.2.7 in /home/ec2-user/anaconda3/envs/pytorch_p310/lib/python3.10/site-packages (from autogluon.core[all]==0.8.2->autogluon) (0.2.7)\n",
      "Requirement already satisfied: ray[default]<2.4,>=2.3 in /home/ec2-user/anaconda3/envs/pytorch_p310/lib/python3.10/site-packages (from autogluon.core[all]==0.8.2->autogluon) (2.3.1)\n",
      "Requirement already satisfied: pydantic<2.0,>=1.10.4 in /home/ec2-user/anaconda3/envs/pytorch_p310/lib/python3.10/site-packages (from autogluon.core[all]==0.8.2->autogluon) (1.10.12)\n",
      "Requirement already satisfied: grpcio<=1.50.0,>=1.42.0 in /home/ec2-user/anaconda3/envs/pytorch_p310/lib/python3.10/site-packages (from autogluon.core[all]==0.8.2->autogluon) (1.50.0)\n",
      "Requirement already satisfied: Pillow<9.6,>=9.3 in /home/ec2-user/anaconda3/envs/pytorch_p310/lib/python3.10/site-packages (from autogluon.multimodal==0.8.2->autogluon) (9.5.0)\n",
      "Requirement already satisfied: jsonschema<4.18,>=4.14 in /home/ec2-user/anaconda3/envs/pytorch_p310/lib/python3.10/site-packages (from autogluon.multimodal==0.8.2->autogluon) (4.17.3)\n",
      "Requirement already satisfied: seqeval<1.3.0,>=1.2.2 in /home/ec2-user/anaconda3/envs/pytorch_p310/lib/python3.10/site-packages (from autogluon.multimodal==0.8.2->autogluon) (1.2.2)\n",
      "Requirement already satisfied: evaluate<0.4.0,>=0.2.2 in /home/ec2-user/anaconda3/envs/pytorch_p310/lib/python3.10/site-packages (from autogluon.multimodal==0.8.2->autogluon) (0.3.0)\n",
      "Requirement already satisfied: accelerate<0.17,>=0.9 in /home/ec2-user/anaconda3/envs/pytorch_p310/lib/python3.10/site-packages (from autogluon.multimodal==0.8.2->autogluon) (0.16.0)\n",
      "Requirement already satisfied: timm<0.10.0,>=0.9.2 in /home/ec2-user/anaconda3/envs/pytorch_p310/lib/python3.10/site-packages (from autogluon.multimodal==0.8.2->autogluon) (0.9.6)\n",
      "Requirement already satisfied: torch<1.14,>=1.9 in /home/ec2-user/anaconda3/envs/pytorch_p310/lib/python3.10/site-packages (from autogluon.multimodal==0.8.2->autogluon) (1.13.1)\n",
      "Requirement already satisfied: torchvision<0.15.0 in /home/ec2-user/anaconda3/envs/pytorch_p310/lib/python3.10/site-packages (from autogluon.multimodal==0.8.2->autogluon) (0.14.1)\n",
      "Requirement already satisfied: scikit-image<0.20.0,>=0.19.1 in /home/ec2-user/anaconda3/envs/pytorch_p310/lib/python3.10/site-packages (from autogluon.multimodal==0.8.2->autogluon) (0.19.3)\n",
      "Requirement already satisfied: pytorch-lightning<1.10.0,>=1.9.0 in /home/ec2-user/anaconda3/envs/pytorch_p310/lib/python3.10/site-packages (from autogluon.multimodal==0.8.2->autogluon) (1.9.5)\n",
      "Requirement already satisfied: text-unidecode<1.4,>=1.3 in /home/ec2-user/anaconda3/envs/pytorch_p310/lib/python3.10/site-packages (from autogluon.multimodal==0.8.2->autogluon) (1.3)\n",
      "Requirement already satisfied: torchmetrics<0.12.0,>=0.11.0 in /home/ec2-user/anaconda3/envs/pytorch_p310/lib/python3.10/site-packages (from autogluon.multimodal==0.8.2->autogluon) (0.11.4)\n",
      "Requirement already satisfied: transformers[sentencepiece]<4.27.0,>=4.23.0 in /home/ec2-user/anaconda3/envs/pytorch_p310/lib/python3.10/site-packages (from autogluon.multimodal==0.8.2->autogluon) (4.26.1)\n",
      "Requirement already satisfied: nptyping<2.5.0,>=1.4.4 in /home/ec2-user/anaconda3/envs/pytorch_p310/lib/python3.10/site-packages (from autogluon.multimodal==0.8.2->autogluon) (2.4.1)\n",
      "Requirement already satisfied: omegaconf<2.3.0,>=2.1.1 in /home/ec2-user/anaconda3/envs/pytorch_p310/lib/python3.10/site-packages (from autogluon.multimodal==0.8.2->autogluon) (2.2.3)\n",
      "Requirement already satisfied: pytorch-metric-learning<2.0,>=1.3.0 in /home/ec2-user/anaconda3/envs/pytorch_p310/lib/python3.10/site-packages (from autogluon.multimodal==0.8.2->autogluon) (1.7.3)\n",
      "Requirement already satisfied: nlpaug<1.2.0,>=1.1.10 in /home/ec2-user/anaconda3/envs/pytorch_p310/lib/python3.10/site-packages (from autogluon.multimodal==0.8.2->autogluon) (1.1.11)\n",
      "Requirement already satisfied: nltk<4.0.0,>=3.4.5 in /home/ec2-user/anaconda3/envs/pytorch_p310/lib/python3.10/site-packages (from autogluon.multimodal==0.8.2->autogluon) (3.8.1)\n",
      "Requirement already satisfied: openmim<0.4.0,>=0.3.7 in /home/ec2-user/anaconda3/envs/pytorch_p310/lib/python3.10/site-packages (from autogluon.multimodal==0.8.2->autogluon) (0.3.9)\n",
      "Requirement already satisfied: defusedxml<0.7.2,>=0.7.1 in /home/ec2-user/anaconda3/envs/pytorch_p310/lib/python3.10/site-packages (from autogluon.multimodal==0.8.2->autogluon) (0.7.1)\n",
      "Requirement already satisfied: jinja2<3.2,>=3.0.3 in /home/ec2-user/anaconda3/envs/pytorch_p310/lib/python3.10/site-packages (from autogluon.multimodal==0.8.2->autogluon) (3.1.2)\n",
      "Requirement already satisfied: tensorboard<3,>=2.9 in /home/ec2-user/anaconda3/envs/pytorch_p310/lib/python3.10/site-packages (from autogluon.multimodal==0.8.2->autogluon) (2.14.0)\n",
      "Requirement already satisfied: pytesseract<0.3.11,>=0.3.9 in /home/ec2-user/anaconda3/envs/pytorch_p310/lib/python3.10/site-packages (from autogluon.multimodal==0.8.2->autogluon) (0.3.10)\n",
      "Requirement already satisfied: lightgbm<3.4,>=3.3 in /home/ec2-user/anaconda3/envs/pytorch_p310/lib/python3.10/site-packages (from autogluon.tabular[all]==0.8.2->autogluon) (3.3.5)\n",
      "Requirement already satisfied: xgboost<1.8,>=1.6 in /home/ec2-user/anaconda3/envs/pytorch_p310/lib/python3.10/site-packages (from autogluon.tabular[all]==0.8.2->autogluon) (1.7.6)\n",
      "Requirement already satisfied: fastai<2.8,>=2.3.1 in /home/ec2-user/anaconda3/envs/pytorch_p310/lib/python3.10/site-packages (from autogluon.tabular[all]==0.8.2->autogluon) (2.7.12)\n",
      "Requirement already satisfied: catboost<1.3,>=1.1 in /home/ec2-user/anaconda3/envs/pytorch_p310/lib/python3.10/site-packages (from autogluon.tabular[all]==0.8.2->autogluon) (1.2.1)\n",
      "Requirement already satisfied: joblib<2,>=1.1 in /home/ec2-user/anaconda3/envs/pytorch_p310/lib/python3.10/site-packages (from autogluon.timeseries[all]==0.8.2->autogluon) (1.3.1)\n",
      "Requirement already satisfied: statsmodels<0.15,>=0.13.0 in /home/ec2-user/anaconda3/envs/pytorch_p310/lib/python3.10/site-packages (from autogluon.timeseries[all]==0.8.2->autogluon) (0.14.0)\n",
      "Requirement already satisfied: gluonts<0.14,>=0.13.1 in /home/ec2-user/anaconda3/envs/pytorch_p310/lib/python3.10/site-packages (from autogluon.timeseries[all]==0.8.2->autogluon) (0.13.3)\n",
      "Requirement already satisfied: statsforecast<1.5,>=1.4.0 in /home/ec2-user/anaconda3/envs/pytorch_p310/lib/python3.10/site-packages (from autogluon.timeseries[all]==0.8.2->autogluon) (1.4.0)\n",
      "Requirement already satisfied: mlforecast<0.7.4,>=0.7.0 in /home/ec2-user/anaconda3/envs/pytorch_p310/lib/python3.10/site-packages (from autogluon.timeseries[all]==0.8.2->autogluon) (0.7.3)\n",
      "Requirement already satisfied: ujson<6,>=5 in /home/ec2-user/anaconda3/envs/pytorch_p310/lib/python3.10/site-packages (from autogluon.timeseries[all]==0.8.2->autogluon) (5.8.0)\n",
      "Requirement already satisfied: psutil<6,>=5.7.3 in /home/ec2-user/anaconda3/envs/pytorch_p310/lib/python3.10/site-packages (from autogluon.common==0.8.2->autogluon.core[all]==0.8.2->autogluon) (5.9.5)\n",
      "Requirement already satisfied: setuptools in /home/ec2-user/anaconda3/envs/pytorch_p310/lib/python3.10/site-packages (from autogluon.common==0.8.2->autogluon.core[all]==0.8.2->autogluon) (68.1.2)\n",
      "Requirement already satisfied: packaging>=20.0 in /home/ec2-user/anaconda3/envs/pytorch_p310/lib/python3.10/site-packages (from accelerate<0.17,>=0.9->autogluon.multimodal==0.8.2->autogluon) (21.3)\n",
      "Requirement already satisfied: pyyaml in /home/ec2-user/anaconda3/envs/pytorch_p310/lib/python3.10/site-packages (from accelerate<0.17,>=0.9->autogluon.multimodal==0.8.2->autogluon) (6.0)\n",
      "Requirement already satisfied: botocore<1.32.0,>=1.31.33 in /home/ec2-user/anaconda3/envs/pytorch_p310/lib/python3.10/site-packages (from boto3<2,>=1.10->autogluon.core[all]==0.8.2->autogluon) (1.31.33)\n",
      "Requirement already satisfied: jmespath<2.0.0,>=0.7.1 in /home/ec2-user/anaconda3/envs/pytorch_p310/lib/python3.10/site-packages (from boto3<2,>=1.10->autogluon.core[all]==0.8.2->autogluon) (0.10.0)\n",
      "Requirement already satisfied: s3transfer<0.7.0,>=0.6.0 in /home/ec2-user/anaconda3/envs/pytorch_p310/lib/python3.10/site-packages (from boto3<2,>=1.10->autogluon.core[all]==0.8.2->autogluon) (0.6.1)\n",
      "Requirement already satisfied: graphviz in /home/ec2-user/anaconda3/envs/pytorch_p310/lib/python3.10/site-packages (from catboost<1.3,>=1.1->autogluon.tabular[all]==0.8.2->autogluon) (0.8.4)\n",
      "Requirement already satisfied: plotly in /home/ec2-user/anaconda3/envs/pytorch_p310/lib/python3.10/site-packages (from catboost<1.3,>=1.1->autogluon.tabular[all]==0.8.2->autogluon) (5.15.0)\n",
      "Requirement already satisfied: six in /home/ec2-user/anaconda3/envs/pytorch_p310/lib/python3.10/site-packages (from catboost<1.3,>=1.1->autogluon.tabular[all]==0.8.2->autogluon) (1.16.0)\n",
      "Requirement already satisfied: datasets>=2.0.0 in /home/ec2-user/anaconda3/envs/pytorch_p310/lib/python3.10/site-packages (from evaluate<0.4.0,>=0.2.2->autogluon.multimodal==0.8.2->autogluon) (2.14.4)\n",
      "Requirement already satisfied: dill in /home/ec2-user/anaconda3/envs/pytorch_p310/lib/python3.10/site-packages (from evaluate<0.4.0,>=0.2.2->autogluon.multimodal==0.8.2->autogluon) (0.3.6)\n",
      "Requirement already satisfied: xxhash in /home/ec2-user/anaconda3/envs/pytorch_p310/lib/python3.10/site-packages (from evaluate<0.4.0,>=0.2.2->autogluon.multimodal==0.8.2->autogluon) (3.3.0)\n",
      "Requirement already satisfied: multiprocess in /home/ec2-user/anaconda3/envs/pytorch_p310/lib/python3.10/site-packages (from evaluate<0.4.0,>=0.2.2->autogluon.multimodal==0.8.2->autogluon) (0.70.14)\n",
      "Requirement already satisfied: fsspec[http]>=2021.05.0 in /home/ec2-user/anaconda3/envs/pytorch_p310/lib/python3.10/site-packages (from evaluate<0.4.0,>=0.2.2->autogluon.multimodal==0.8.2->autogluon) (2023.6.0)\n",
      "Requirement already satisfied: huggingface-hub>=0.7.0 in /home/ec2-user/anaconda3/envs/pytorch_p310/lib/python3.10/site-packages (from evaluate<0.4.0,>=0.2.2->autogluon.multimodal==0.8.2->autogluon) (0.16.4)\n",
      "Requirement already satisfied: responses<0.19 in /home/ec2-user/anaconda3/envs/pytorch_p310/lib/python3.10/site-packages (from evaluate<0.4.0,>=0.2.2->autogluon.multimodal==0.8.2->autogluon) (0.18.0)\n",
      "Requirement already satisfied: pip in /home/ec2-user/anaconda3/envs/pytorch_p310/lib/python3.10/site-packages (from fastai<2.8,>=2.3.1->autogluon.tabular[all]==0.8.2->autogluon) (23.2.1)\n",
      "Requirement already satisfied: fastdownload<2,>=0.0.5 in /home/ec2-user/anaconda3/envs/pytorch_p310/lib/python3.10/site-packages (from fastai<2.8,>=2.3.1->autogluon.tabular[all]==0.8.2->autogluon) (0.0.7)\n",
      "Requirement already satisfied: fastcore<1.6,>=1.5.29 in /home/ec2-user/anaconda3/envs/pytorch_p310/lib/python3.10/site-packages (from fastai<2.8,>=2.3.1->autogluon.tabular[all]==0.8.2->autogluon) (1.5.29)\n",
      "Requirement already satisfied: fastprogress>=0.2.4 in /home/ec2-user/anaconda3/envs/pytorch_p310/lib/python3.10/site-packages (from fastai<2.8,>=2.3.1->autogluon.tabular[all]==0.8.2->autogluon) (1.0.3)\n",
      "Requirement already satisfied: spacy<4 in /home/ec2-user/anaconda3/envs/pytorch_p310/lib/python3.10/site-packages (from fastai<2.8,>=2.3.1->autogluon.tabular[all]==0.8.2->autogluon) (3.6.1)\n",
      "Requirement already satisfied: toolz~=0.10 in /home/ec2-user/anaconda3/envs/pytorch_p310/lib/python3.10/site-packages (from gluonts<0.14,>=0.13.1->autogluon.timeseries[all]==0.8.2->autogluon) (0.12.0)\n",
      "Requirement already satisfied: typing-extensions~=4.0 in /home/ec2-user/anaconda3/envs/pytorch_p310/lib/python3.10/site-packages (from gluonts<0.14,>=0.13.1->autogluon.timeseries[all]==0.8.2->autogluon) (4.7.1)\n",
      "Requirement already satisfied: future in /home/ec2-user/anaconda3/envs/pytorch_p310/lib/python3.10/site-packages (from hyperopt<0.2.8,>=0.2.7->autogluon.core[all]==0.8.2->autogluon) (0.18.3)\n",
      "Requirement already satisfied: cloudpickle in /home/ec2-user/anaconda3/envs/pytorch_p310/lib/python3.10/site-packages (from hyperopt<0.2.8,>=0.2.7->autogluon.core[all]==0.8.2->autogluon) (2.2.1)\n",
      "Requirement already satisfied: py4j in /home/ec2-user/anaconda3/envs/pytorch_p310/lib/python3.10/site-packages (from hyperopt<0.2.8,>=0.2.7->autogluon.core[all]==0.8.2->autogluon) (0.10.9.5)\n",
      "Requirement already satisfied: MarkupSafe>=2.0 in /home/ec2-user/anaconda3/envs/pytorch_p310/lib/python3.10/site-packages (from jinja2<3.2,>=3.0.3->autogluon.multimodal==0.8.2->autogluon) (2.1.3)\n",
      "Requirement already satisfied: attrs>=17.4.0 in /home/ec2-user/anaconda3/envs/pytorch_p310/lib/python3.10/site-packages (from jsonschema<4.18,>=4.14->autogluon.multimodal==0.8.2->autogluon) (23.1.0)\n",
      "Requirement already satisfied: pyrsistent!=0.17.0,!=0.17.1,!=0.17.2,>=0.14.0 in /home/ec2-user/anaconda3/envs/pytorch_p310/lib/python3.10/site-packages (from jsonschema<4.18,>=4.14->autogluon.multimodal==0.8.2->autogluon) (0.19.3)\n",
      "Requirement already satisfied: wheel in /home/ec2-user/anaconda3/envs/pytorch_p310/lib/python3.10/site-packages (from lightgbm<3.4,>=3.3->autogluon.tabular[all]==0.8.2->autogluon) (0.41.2)\n",
      "Requirement already satisfied: numba in /home/ec2-user/anaconda3/envs/pytorch_p310/lib/python3.10/site-packages (from mlforecast<0.7.4,>=0.7.0->autogluon.timeseries[all]==0.8.2->autogluon) (0.57.1)\n",
      "Requirement already satisfied: window-ops in /home/ec2-user/anaconda3/envs/pytorch_p310/lib/python3.10/site-packages (from mlforecast<0.7.4,>=0.7.0->autogluon.timeseries[all]==0.8.2->autogluon) (0.0.14)\n",
      "Requirement already satisfied: gdown>=4.0.0 in /home/ec2-user/anaconda3/envs/pytorch_p310/lib/python3.10/site-packages (from nlpaug<1.2.0,>=1.1.10->autogluon.multimodal==0.8.2->autogluon) (4.7.1)\n",
      "Requirement already satisfied: click in /home/ec2-user/anaconda3/envs/pytorch_p310/lib/python3.10/site-packages (from nltk<4.0.0,>=3.4.5->autogluon.multimodal==0.8.2->autogluon) (8.1.6)\n",
      "Requirement already satisfied: regex>=2021.8.3 in /home/ec2-user/anaconda3/envs/pytorch_p310/lib/python3.10/site-packages (from nltk<4.0.0,>=3.4.5->autogluon.multimodal==0.8.2->autogluon) (2023.8.8)\n",
      "Requirement already satisfied: antlr4-python3-runtime==4.9.* in /home/ec2-user/anaconda3/envs/pytorch_p310/lib/python3.10/site-packages (from omegaconf<2.3.0,>=2.1.1->autogluon.multimodal==0.8.2->autogluon) (4.9.3)\n",
      "Requirement already satisfied: colorama in /home/ec2-user/anaconda3/envs/pytorch_p310/lib/python3.10/site-packages (from openmim<0.4.0,>=0.3.7->autogluon.multimodal==0.8.2->autogluon) (0.4.4)\n",
      "Requirement already satisfied: model-index in /home/ec2-user/anaconda3/envs/pytorch_p310/lib/python3.10/site-packages (from openmim<0.4.0,>=0.3.7->autogluon.multimodal==0.8.2->autogluon) (0.1.11)\n",
      "Requirement already satisfied: opendatalab in /home/ec2-user/anaconda3/envs/pytorch_p310/lib/python3.10/site-packages (from openmim<0.4.0,>=0.3.7->autogluon.multimodal==0.8.2->autogluon) (0.0.10)\n",
      "Requirement already satisfied: rich in /home/ec2-user/anaconda3/envs/pytorch_p310/lib/python3.10/site-packages (from openmim<0.4.0,>=0.3.7->autogluon.multimodal==0.8.2->autogluon) (13.4.2)\n",
      "Requirement already satisfied: tabulate in /home/ec2-user/anaconda3/envs/pytorch_p310/lib/python3.10/site-packages (from openmim<0.4.0,>=0.3.7->autogluon.multimodal==0.8.2->autogluon) (0.9.0)\n",
      "Requirement already satisfied: python-dateutil>=2.8.1 in /home/ec2-user/anaconda3/envs/pytorch_p310/lib/python3.10/site-packages (from pandas<1.6,>=1.4.1->autogluon.core[all]==0.8.2->autogluon) (2.8.2)\n",
      "Requirement already satisfied: pytz>=2020.1 in /home/ec2-user/anaconda3/envs/pytorch_p310/lib/python3.10/site-packages (from pandas<1.6,>=1.4.1->autogluon.core[all]==0.8.2->autogluon) (2023.3)\n",
      "Requirement already satisfied: lightning-utilities>=0.6.0.post0 in /home/ec2-user/anaconda3/envs/pytorch_p310/lib/python3.10/site-packages (from pytorch-lightning<1.10.0,>=1.9.0->autogluon.multimodal==0.8.2->autogluon) (0.9.0)\n",
      "Requirement already satisfied: filelock in /home/ec2-user/anaconda3/envs/pytorch_p310/lib/python3.10/site-packages (from ray[default]<2.4,>=2.3->autogluon.core[all]==0.8.2->autogluon) (3.12.2)\n",
      "Requirement already satisfied: msgpack<2.0.0,>=1.0.0 in /home/ec2-user/anaconda3/envs/pytorch_p310/lib/python3.10/site-packages (from ray[default]<2.4,>=2.3->autogluon.core[all]==0.8.2->autogluon) (1.0.5)\n",
      "Requirement already satisfied: protobuf!=3.19.5,>=3.15.3 in /home/ec2-user/anaconda3/envs/pytorch_p310/lib/python3.10/site-packages (from ray[default]<2.4,>=2.3->autogluon.core[all]==0.8.2->autogluon) (3.20.2)\n",
      "Requirement already satisfied: aiosignal in /home/ec2-user/anaconda3/envs/pytorch_p310/lib/python3.10/site-packages (from ray[default]<2.4,>=2.3->autogluon.core[all]==0.8.2->autogluon) (1.3.1)\n",
      "Requirement already satisfied: frozenlist in /home/ec2-user/anaconda3/envs/pytorch_p310/lib/python3.10/site-packages (from ray[default]<2.4,>=2.3->autogluon.core[all]==0.8.2->autogluon) (1.4.0)\n",
      "Requirement already satisfied: virtualenv>=20.0.24 in /home/ec2-user/anaconda3/envs/pytorch_p310/lib/python3.10/site-packages (from ray[default]<2.4,>=2.3->autogluon.core[all]==0.8.2->autogluon) (20.24.4)\n",
      "Requirement already satisfied: aiohttp>=3.7 in /home/ec2-user/anaconda3/envs/pytorch_p310/lib/python3.10/site-packages (from ray[default]<2.4,>=2.3->autogluon.core[all]==0.8.2->autogluon) (3.8.5)\n",
      "Requirement already satisfied: aiohttp-cors in /home/ec2-user/anaconda3/envs/pytorch_p310/lib/python3.10/site-packages (from ray[default]<2.4,>=2.3->autogluon.core[all]==0.8.2->autogluon) (0.7.0)\n",
      "Requirement already satisfied: colorful in /home/ec2-user/anaconda3/envs/pytorch_p310/lib/python3.10/site-packages (from ray[default]<2.4,>=2.3->autogluon.core[all]==0.8.2->autogluon) (0.5.5)\n",
      "Requirement already satisfied: py-spy>=0.2.0 in /home/ec2-user/anaconda3/envs/pytorch_p310/lib/python3.10/site-packages (from ray[default]<2.4,>=2.3->autogluon.core[all]==0.8.2->autogluon) (0.3.14)\n",
      "Requirement already satisfied: gpustat>=1.0.0 in /home/ec2-user/anaconda3/envs/pytorch_p310/lib/python3.10/site-packages (from ray[default]<2.4,>=2.3->autogluon.core[all]==0.8.2->autogluon) (1.1.1)\n",
      "Requirement already satisfied: opencensus in /home/ec2-user/anaconda3/envs/pytorch_p310/lib/python3.10/site-packages (from ray[default]<2.4,>=2.3->autogluon.core[all]==0.8.2->autogluon) (0.11.2)\n",
      "Requirement already satisfied: prometheus-client>=0.7.1 in /home/ec2-user/anaconda3/envs/pytorch_p310/lib/python3.10/site-packages (from ray[default]<2.4,>=2.3->autogluon.core[all]==0.8.2->autogluon) (0.17.1)\n",
      "Requirement already satisfied: smart-open in /home/ec2-user/anaconda3/envs/pytorch_p310/lib/python3.10/site-packages (from ray[default]<2.4,>=2.3->autogluon.core[all]==0.8.2->autogluon) (6.3.0)\n",
      "Requirement already satisfied: tensorboardX>=1.9 in /home/ec2-user/anaconda3/envs/pytorch_p310/lib/python3.10/site-packages (from ray[default]<2.4,>=2.3->autogluon.core[all]==0.8.2->autogluon) (2.6.2.2)\n",
      "Requirement already satisfied: charset-normalizer<4,>=2 in /home/ec2-user/anaconda3/envs/pytorch_p310/lib/python3.10/site-packages (from requests->autogluon.core[all]==0.8.2->autogluon) (3.2.0)\n",
      "Requirement already satisfied: idna<4,>=2.5 in /home/ec2-user/anaconda3/envs/pytorch_p310/lib/python3.10/site-packages (from requests->autogluon.core[all]==0.8.2->autogluon) (3.4)\n",
      "Requirement already satisfied: urllib3<1.27,>=1.21.1 in /home/ec2-user/anaconda3/envs/pytorch_p310/lib/python3.10/site-packages (from requests->autogluon.core[all]==0.8.2->autogluon) (1.26.14)\n",
      "Requirement already satisfied: certifi>=2017.4.17 in /home/ec2-user/anaconda3/envs/pytorch_p310/lib/python3.10/site-packages (from requests->autogluon.core[all]==0.8.2->autogluon) (2023.5.7)\n",
      "Requirement already satisfied: imageio>=2.4.1 in /home/ec2-user/anaconda3/envs/pytorch_p310/lib/python3.10/site-packages (from scikit-image<0.20.0,>=0.19.1->autogluon.multimodal==0.8.2->autogluon) (2.31.1)\n",
      "Requirement already satisfied: tifffile>=2019.7.26 in /home/ec2-user/anaconda3/envs/pytorch_p310/lib/python3.10/site-packages (from scikit-image<0.20.0,>=0.19.1->autogluon.multimodal==0.8.2->autogluon) (2023.8.25)\n",
      "Requirement already satisfied: PyWavelets>=1.1.1 in /home/ec2-user/anaconda3/envs/pytorch_p310/lib/python3.10/site-packages (from scikit-image<0.20.0,>=0.19.1->autogluon.multimodal==0.8.2->autogluon) (1.4.1)\n",
      "Requirement already satisfied: threadpoolctl>=2.0.0 in /home/ec2-user/anaconda3/envs/pytorch_p310/lib/python3.10/site-packages (from scikit-learn<1.3,>=1.0->autogluon.core[all]==0.8.2->autogluon) (3.2.0)\n",
      "Requirement already satisfied: patsy>=0.5.2 in /home/ec2-user/anaconda3/envs/pytorch_p310/lib/python3.10/site-packages (from statsmodels<0.15,>=0.13.0->autogluon.timeseries[all]==0.8.2->autogluon) (0.5.3)\n",
      "Requirement already satisfied: absl-py>=0.4 in /home/ec2-user/anaconda3/envs/pytorch_p310/lib/python3.10/site-packages (from tensorboard<3,>=2.9->autogluon.multimodal==0.8.2->autogluon) (1.4.0)\n",
      "Requirement already satisfied: google-auth<3,>=1.6.3 in /home/ec2-user/anaconda3/envs/pytorch_p310/lib/python3.10/site-packages (from tensorboard<3,>=2.9->autogluon.multimodal==0.8.2->autogluon) (2.22.0)\n",
      "Requirement already satisfied: google-auth-oauthlib<1.1,>=0.5 in /home/ec2-user/anaconda3/envs/pytorch_p310/lib/python3.10/site-packages (from tensorboard<3,>=2.9->autogluon.multimodal==0.8.2->autogluon) (1.0.0)\n",
      "Requirement already satisfied: markdown>=2.6.8 in /home/ec2-user/anaconda3/envs/pytorch_p310/lib/python3.10/site-packages (from tensorboard<3,>=2.9->autogluon.multimodal==0.8.2->autogluon) (3.4.4)\n",
      "Requirement already satisfied: tensorboard-data-server<0.8.0,>=0.7.0 in /home/ec2-user/anaconda3/envs/pytorch_p310/lib/python3.10/site-packages (from tensorboard<3,>=2.9->autogluon.multimodal==0.8.2->autogluon) (0.7.1)\n",
      "Requirement already satisfied: werkzeug>=1.0.1 in /home/ec2-user/anaconda3/envs/pytorch_p310/lib/python3.10/site-packages (from tensorboard<3,>=2.9->autogluon.multimodal==0.8.2->autogluon) (2.3.6)\n",
      "Requirement already satisfied: safetensors in /home/ec2-user/anaconda3/envs/pytorch_p310/lib/python3.10/site-packages (from timm<0.10.0,>=0.9.2->autogluon.multimodal==0.8.2->autogluon) (0.3.3)\n",
      "Requirement already satisfied: nvidia-cuda-runtime-cu11==11.7.99 in /home/ec2-user/anaconda3/envs/pytorch_p310/lib/python3.10/site-packages (from torch<1.14,>=1.9->autogluon.multimodal==0.8.2->autogluon) (11.7.99)\n",
      "Requirement already satisfied: nvidia-cudnn-cu11==8.5.0.96 in /home/ec2-user/anaconda3/envs/pytorch_p310/lib/python3.10/site-packages (from torch<1.14,>=1.9->autogluon.multimodal==0.8.2->autogluon) (8.5.0.96)\n",
      "Requirement already satisfied: nvidia-cublas-cu11==11.10.3.66 in /home/ec2-user/anaconda3/envs/pytorch_p310/lib/python3.10/site-packages (from torch<1.14,>=1.9->autogluon.multimodal==0.8.2->autogluon) (11.10.3.66)\n",
      "Requirement already satisfied: nvidia-cuda-nvrtc-cu11==11.7.99 in /home/ec2-user/anaconda3/envs/pytorch_p310/lib/python3.10/site-packages (from torch<1.14,>=1.9->autogluon.multimodal==0.8.2->autogluon) (11.7.99)\n",
      "Requirement already satisfied: tokenizers!=0.11.3,<0.14,>=0.11.1 in /home/ec2-user/anaconda3/envs/pytorch_p310/lib/python3.10/site-packages (from transformers[sentencepiece]<4.27.0,>=4.23.0->autogluon.multimodal==0.8.2->autogluon) (0.13.3)\n",
      "Requirement already satisfied: sentencepiece!=0.1.92,>=0.1.91 in /home/ec2-user/anaconda3/envs/pytorch_p310/lib/python3.10/site-packages (from transformers[sentencepiece]<4.27.0,>=4.23.0->autogluon.multimodal==0.8.2->autogluon) (0.1.99)\n",
      "Requirement already satisfied: contourpy>=1.0.1 in /home/ec2-user/anaconda3/envs/pytorch_p310/lib/python3.10/site-packages (from matplotlib->autogluon.core[all]==0.8.2->autogluon) (1.1.0)\n",
      "Requirement already satisfied: cycler>=0.10 in /home/ec2-user/anaconda3/envs/pytorch_p310/lib/python3.10/site-packages (from matplotlib->autogluon.core[all]==0.8.2->autogluon) (0.11.0)\n",
      "Requirement already satisfied: fonttools>=4.22.0 in /home/ec2-user/anaconda3/envs/pytorch_p310/lib/python3.10/site-packages (from matplotlib->autogluon.core[all]==0.8.2->autogluon) (4.41.0)\n",
      "Requirement already satisfied: kiwisolver>=1.0.1 in /home/ec2-user/anaconda3/envs/pytorch_p310/lib/python3.10/site-packages (from matplotlib->autogluon.core[all]==0.8.2->autogluon) (1.4.4)\n",
      "Requirement already satisfied: pyparsing<3.1,>=2.3.1 in /home/ec2-user/anaconda3/envs/pytorch_p310/lib/python3.10/site-packages (from matplotlib->autogluon.core[all]==0.8.2->autogluon) (3.0.9)\n",
      "Requirement already satisfied: multidict<7.0,>=4.5 in /home/ec2-user/anaconda3/envs/pytorch_p310/lib/python3.10/site-packages (from aiohttp>=3.7->ray[default]<2.4,>=2.3->autogluon.core[all]==0.8.2->autogluon) (6.0.4)\n",
      "Requirement already satisfied: async-timeout<5.0,>=4.0.0a3 in /home/ec2-user/anaconda3/envs/pytorch_p310/lib/python3.10/site-packages (from aiohttp>=3.7->ray[default]<2.4,>=2.3->autogluon.core[all]==0.8.2->autogluon) (4.0.3)\n",
      "Requirement already satisfied: yarl<2.0,>=1.0 in /home/ec2-user/anaconda3/envs/pytorch_p310/lib/python3.10/site-packages (from aiohttp>=3.7->ray[default]<2.4,>=2.3->autogluon.core[all]==0.8.2->autogluon) (1.9.2)\n",
      "Requirement already satisfied: pyarrow>=8.0.0 in /home/ec2-user/anaconda3/envs/pytorch_p310/lib/python3.10/site-packages (from datasets>=2.0.0->evaluate<0.4.0,>=0.2.2->autogluon.multimodal==0.8.2->autogluon) (12.0.1)\n",
      "Requirement already satisfied: beautifulsoup4 in /home/ec2-user/anaconda3/envs/pytorch_p310/lib/python3.10/site-packages (from gdown>=4.0.0->nlpaug<1.2.0,>=1.1.10->autogluon.multimodal==0.8.2->autogluon) (4.12.2)\n",
      "Requirement already satisfied: cachetools<6.0,>=2.0.0 in /home/ec2-user/anaconda3/envs/pytorch_p310/lib/python3.10/site-packages (from google-auth<3,>=1.6.3->tensorboard<3,>=2.9->autogluon.multimodal==0.8.2->autogluon) (5.3.1)\n",
      "Requirement already satisfied: pyasn1-modules>=0.2.1 in /home/ec2-user/anaconda3/envs/pytorch_p310/lib/python3.10/site-packages (from google-auth<3,>=1.6.3->tensorboard<3,>=2.9->autogluon.multimodal==0.8.2->autogluon) (0.3.0)\n",
      "Requirement already satisfied: rsa<5,>=3.1.4 in /home/ec2-user/anaconda3/envs/pytorch_p310/lib/python3.10/site-packages (from google-auth<3,>=1.6.3->tensorboard<3,>=2.9->autogluon.multimodal==0.8.2->autogluon) (4.7.2)\n",
      "Requirement already satisfied: requests-oauthlib>=0.7.0 in /home/ec2-user/anaconda3/envs/pytorch_p310/lib/python3.10/site-packages (from google-auth-oauthlib<1.1,>=0.5->tensorboard<3,>=2.9->autogluon.multimodal==0.8.2->autogluon) (1.3.1)\n",
      "Requirement already satisfied: nvidia-ml-py>=11.450.129 in /home/ec2-user/anaconda3/envs/pytorch_p310/lib/python3.10/site-packages (from gpustat>=1.0.0->ray[default]<2.4,>=2.3->autogluon.core[all]==0.8.2->autogluon) (12.535.77)\n",
      "Requirement already satisfied: blessed>=1.17.1 in /home/ec2-user/anaconda3/envs/pytorch_p310/lib/python3.10/site-packages (from gpustat>=1.0.0->ray[default]<2.4,>=2.3->autogluon.core[all]==0.8.2->autogluon) (1.20.0)\n",
      "Requirement already satisfied: llvmlite<0.41,>=0.40.0dev0 in /home/ec2-user/anaconda3/envs/pytorch_p310/lib/python3.10/site-packages (from numba->mlforecast<0.7.4,>=0.7.0->autogluon.timeseries[all]==0.8.2->autogluon) (0.40.1)\n",
      "Requirement already satisfied: spacy-legacy<3.1.0,>=3.0.11 in /home/ec2-user/anaconda3/envs/pytorch_p310/lib/python3.10/site-packages (from spacy<4->fastai<2.8,>=2.3.1->autogluon.tabular[all]==0.8.2->autogluon) (3.0.12)\n",
      "Requirement already satisfied: spacy-loggers<2.0.0,>=1.0.0 in /home/ec2-user/anaconda3/envs/pytorch_p310/lib/python3.10/site-packages (from spacy<4->fastai<2.8,>=2.3.1->autogluon.tabular[all]==0.8.2->autogluon) (1.0.4)\n",
      "Requirement already satisfied: murmurhash<1.1.0,>=0.28.0 in /home/ec2-user/anaconda3/envs/pytorch_p310/lib/python3.10/site-packages (from spacy<4->fastai<2.8,>=2.3.1->autogluon.tabular[all]==0.8.2->autogluon) (1.0.9)\n",
      "Requirement already satisfied: cymem<2.1.0,>=2.0.2 in /home/ec2-user/anaconda3/envs/pytorch_p310/lib/python3.10/site-packages (from spacy<4->fastai<2.8,>=2.3.1->autogluon.tabular[all]==0.8.2->autogluon) (2.0.7)\n",
      "Requirement already satisfied: preshed<3.1.0,>=3.0.2 in /home/ec2-user/anaconda3/envs/pytorch_p310/lib/python3.10/site-packages (from spacy<4->fastai<2.8,>=2.3.1->autogluon.tabular[all]==0.8.2->autogluon) (3.0.8)\n",
      "Requirement already satisfied: thinc<8.2.0,>=8.1.8 in /home/ec2-user/anaconda3/envs/pytorch_p310/lib/python3.10/site-packages (from spacy<4->fastai<2.8,>=2.3.1->autogluon.tabular[all]==0.8.2->autogluon) (8.1.12)\n",
      "Requirement already satisfied: wasabi<1.2.0,>=0.9.1 in /home/ec2-user/anaconda3/envs/pytorch_p310/lib/python3.10/site-packages (from spacy<4->fastai<2.8,>=2.3.1->autogluon.tabular[all]==0.8.2->autogluon) (1.1.2)\n",
      "Requirement already satisfied: srsly<3.0.0,>=2.4.3 in /home/ec2-user/anaconda3/envs/pytorch_p310/lib/python3.10/site-packages (from spacy<4->fastai<2.8,>=2.3.1->autogluon.tabular[all]==0.8.2->autogluon) (2.4.7)\n",
      "Requirement already satisfied: catalogue<2.1.0,>=2.0.6 in /home/ec2-user/anaconda3/envs/pytorch_p310/lib/python3.10/site-packages (from spacy<4->fastai<2.8,>=2.3.1->autogluon.tabular[all]==0.8.2->autogluon) (2.0.9)\n",
      "Requirement already satisfied: typer<0.10.0,>=0.3.0 in /home/ec2-user/anaconda3/envs/pytorch_p310/lib/python3.10/site-packages (from spacy<4->fastai<2.8,>=2.3.1->autogluon.tabular[all]==0.8.2->autogluon) (0.9.0)\n",
      "Requirement already satisfied: pathy>=0.10.0 in /home/ec2-user/anaconda3/envs/pytorch_p310/lib/python3.10/site-packages (from spacy<4->fastai<2.8,>=2.3.1->autogluon.tabular[all]==0.8.2->autogluon) (0.10.2)\n",
      "Requirement already satisfied: langcodes<4.0.0,>=3.2.0 in /home/ec2-user/anaconda3/envs/pytorch_p310/lib/python3.10/site-packages (from spacy<4->fastai<2.8,>=2.3.1->autogluon.tabular[all]==0.8.2->autogluon) (3.3.0)\n",
      "Requirement already satisfied: distlib<1,>=0.3.7 in /home/ec2-user/anaconda3/envs/pytorch_p310/lib/python3.10/site-packages (from virtualenv>=20.0.24->ray[default]<2.4,>=2.3->autogluon.core[all]==0.8.2->autogluon) (0.3.7)\n",
      "Requirement already satisfied: platformdirs<4,>=3.9.1 in /home/ec2-user/anaconda3/envs/pytorch_p310/lib/python3.10/site-packages (from virtualenv>=20.0.24->ray[default]<2.4,>=2.3->autogluon.core[all]==0.8.2->autogluon) (3.9.1)\n",
      "Requirement already satisfied: ordered-set in /home/ec2-user/anaconda3/envs/pytorch_p310/lib/python3.10/site-packages (from model-index->openmim<0.4.0,>=0.3.7->autogluon.multimodal==0.8.2->autogluon) (4.1.0)\n",
      "Requirement already satisfied: opencensus-context>=0.1.3 in /home/ec2-user/anaconda3/envs/pytorch_p310/lib/python3.10/site-packages (from opencensus->ray[default]<2.4,>=2.3->autogluon.core[all]==0.8.2->autogluon) (0.1.3)\n",
      "Requirement already satisfied: google-api-core<3.0.0,>=1.0.0 in /home/ec2-user/anaconda3/envs/pytorch_p310/lib/python3.10/site-packages (from opencensus->ray[default]<2.4,>=2.3->autogluon.core[all]==0.8.2->autogluon) (2.11.1)\n",
      "Requirement already satisfied: pycryptodome in /home/ec2-user/anaconda3/envs/pytorch_p310/lib/python3.10/site-packages (from opendatalab->openmim<0.4.0,>=0.3.7->autogluon.multimodal==0.8.2->autogluon) (3.18.0)\n",
      "Requirement already satisfied: openxlab in /home/ec2-user/anaconda3/envs/pytorch_p310/lib/python3.10/site-packages (from opendatalab->openmim<0.4.0,>=0.3.7->autogluon.multimodal==0.8.2->autogluon) (0.0.22)\n",
      "Requirement already satisfied: tenacity>=6.2.0 in /home/ec2-user/anaconda3/envs/pytorch_p310/lib/python3.10/site-packages (from plotly->catboost<1.3,>=1.1->autogluon.tabular[all]==0.8.2->autogluon) (8.2.2)\n",
      "Requirement already satisfied: markdown-it-py>=2.2.0 in /home/ec2-user/anaconda3/envs/pytorch_p310/lib/python3.10/site-packages (from rich->openmim<0.4.0,>=0.3.7->autogluon.multimodal==0.8.2->autogluon) (3.0.0)\n",
      "Requirement already satisfied: pygments<3.0.0,>=2.13.0 in /home/ec2-user/anaconda3/envs/pytorch_p310/lib/python3.10/site-packages (from rich->openmim<0.4.0,>=0.3.7->autogluon.multimodal==0.8.2->autogluon) (2.15.1)\n",
      "Requirement already satisfied: wcwidth>=0.1.4 in /home/ec2-user/anaconda3/envs/pytorch_p310/lib/python3.10/site-packages (from blessed>=1.17.1->gpustat>=1.0.0->ray[default]<2.4,>=2.3->autogluon.core[all]==0.8.2->autogluon) (0.2.6)\n",
      "Requirement already satisfied: googleapis-common-protos<2.0.dev0,>=1.56.2 in /home/ec2-user/anaconda3/envs/pytorch_p310/lib/python3.10/site-packages (from google-api-core<3.0.0,>=1.0.0->opencensus->ray[default]<2.4,>=2.3->autogluon.core[all]==0.8.2->autogluon) (1.60.0)\n",
      "Requirement already satisfied: mdurl~=0.1 in /home/ec2-user/anaconda3/envs/pytorch_p310/lib/python3.10/site-packages (from markdown-it-py>=2.2.0->rich->openmim<0.4.0,>=0.3.7->autogluon.multimodal==0.8.2->autogluon) (0.1.2)\n",
      "Requirement already satisfied: pyasn1<0.6.0,>=0.4.6 in /home/ec2-user/anaconda3/envs/pytorch_p310/lib/python3.10/site-packages (from pyasn1-modules>=0.2.1->google-auth<3,>=1.6.3->tensorboard<3,>=2.9->autogluon.multimodal==0.8.2->autogluon) (0.4.8)\n",
      "Requirement already satisfied: oauthlib>=3.0.0 in /home/ec2-user/anaconda3/envs/pytorch_p310/lib/python3.10/site-packages (from requests-oauthlib>=0.7.0->google-auth-oauthlib<1.1,>=0.5->tensorboard<3,>=2.9->autogluon.multimodal==0.8.2->autogluon) (3.2.2)\n",
      "Requirement already satisfied: blis<0.8.0,>=0.7.8 in /home/ec2-user/anaconda3/envs/pytorch_p310/lib/python3.10/site-packages (from thinc<8.2.0,>=8.1.8->spacy<4->fastai<2.8,>=2.3.1->autogluon.tabular[all]==0.8.2->autogluon) (0.7.10)\n",
      "Requirement already satisfied: confection<1.0.0,>=0.0.1 in /home/ec2-user/anaconda3/envs/pytorch_p310/lib/python3.10/site-packages (from thinc<8.2.0,>=8.1.8->spacy<4->fastai<2.8,>=2.3.1->autogluon.tabular[all]==0.8.2->autogluon) (0.1.1)\n",
      "Requirement already satisfied: soupsieve>1.2 in /home/ec2-user/anaconda3/envs/pytorch_p310/lib/python3.10/site-packages (from beautifulsoup4->gdown>=4.0.0->nlpaug<1.2.0,>=1.1.10->autogluon.multimodal==0.8.2->autogluon) (2.3.2.post1)\n",
      "Requirement already satisfied: oss2~=2.17.0 in /home/ec2-user/anaconda3/envs/pytorch_p310/lib/python3.10/site-packages (from openxlab->opendatalab->openmim<0.4.0,>=0.3.7->autogluon.multimodal==0.8.2->autogluon) (2.17.0)\n",
      "Collecting setuptools (from autogluon.common==0.8.2->autogluon.core[all]==0.8.2->autogluon)\n",
      "  Downloading setuptools-60.2.0-py3-none-any.whl (953 kB)\n",
      "\u001b[2K     \u001b[90m━━━━━━━━━━━━━━━━━━━━━━━━━━━━━━━━━━━━━━\u001b[0m \u001b[32m953.1/953.1 kB\u001b[0m \u001b[31m47.2 MB/s\u001b[0m eta \u001b[36m0:00:00\u001b[0m\n",
      "\u001b[?25hRequirement already satisfied: PySocks!=1.5.7,>=1.5.6 in /home/ec2-user/anaconda3/envs/pytorch_p310/lib/python3.10/site-packages (from requests->autogluon.core[all]==0.8.2->autogluon) (1.7.1)\n",
      "Requirement already satisfied: crcmod>=1.7 in /home/ec2-user/anaconda3/envs/pytorch_p310/lib/python3.10/site-packages (from oss2~=2.17.0->openxlab->opendatalab->openmim<0.4.0,>=0.3.7->autogluon.multimodal==0.8.2->autogluon) (1.7)\n",
      "Requirement already satisfied: aliyun-python-sdk-kms>=2.4.1 in /home/ec2-user/anaconda3/envs/pytorch_p310/lib/python3.10/site-packages (from oss2~=2.17.0->openxlab->opendatalab->openmim<0.4.0,>=0.3.7->autogluon.multimodal==0.8.2->autogluon) (2.16.1)\n",
      "Requirement already satisfied: aliyun-python-sdk-core>=2.13.12 in /home/ec2-user/anaconda3/envs/pytorch_p310/lib/python3.10/site-packages (from oss2~=2.17.0->openxlab->opendatalab->openmim<0.4.0,>=0.3.7->autogluon.multimodal==0.8.2->autogluon) (2.13.36)\n",
      "Requirement already satisfied: cryptography>=2.6.0 in /home/ec2-user/anaconda3/envs/pytorch_p310/lib/python3.10/site-packages (from aliyun-python-sdk-core>=2.13.12->oss2~=2.17.0->openxlab->opendatalab->openmim<0.4.0,>=0.3.7->autogluon.multimodal==0.8.2->autogluon) (41.0.2)\n",
      "Requirement already satisfied: cffi>=1.12 in /home/ec2-user/anaconda3/envs/pytorch_p310/lib/python3.10/site-packages (from cryptography>=2.6.0->aliyun-python-sdk-core>=2.13.12->oss2~=2.17.0->openxlab->opendatalab->openmim<0.4.0,>=0.3.7->autogluon.multimodal==0.8.2->autogluon) (1.15.1)\n",
      "Requirement already satisfied: pycparser in /home/ec2-user/anaconda3/envs/pytorch_p310/lib/python3.10/site-packages (from cffi>=1.12->cryptography>=2.6.0->aliyun-python-sdk-core>=2.13.12->oss2~=2.17.0->openxlab->opendatalab->openmim<0.4.0,>=0.3.7->autogluon.multimodal==0.8.2->autogluon) (2.21)\n",
      "Installing collected packages: setuptools\n",
      "  Attempting uninstall: setuptools\n",
      "    Found existing installation: setuptools 68.1.2\n",
      "    Uninstalling setuptools-68.1.2:\n",
      "      Successfully uninstalled setuptools-68.1.2\n",
      "\u001b[31mERROR: pip's dependency resolver does not currently take into account all the packages that are installed. This behaviour is the source of the following dependency conflicts.\n",
      "triton 2.0.0 requires cmake, which is not installed.\n",
      "triton 2.0.0 requires lit, which is not installed.\u001b[0m\u001b[31m\n",
      "\u001b[0mSuccessfully installed setuptools-60.2.0\n"
     ]
    }
   ],
   "source": [
    "!pip install -U pip\n",
    "!pip install -U setuptools wheel\n",
    "!pip install -U \"mxnet<2.0.0\" bokeh==2.0.1\n",
    "!pip install autogluon --no-cache-dir"
   ]
  },
  {
   "cell_type": "code",
   "execution_count": 64,
   "metadata": {
    "tags": []
   },
   "outputs": [],
   "source": [
    "final_training_features = [\"LotArea\", \n",
    " \"BldgType\", \n",
    " \"HouseStyle\", \n",
    " \"OverallQual\",\n",
    " \"OverallCond\",             \n",
    " \"ExterQual\", \n",
    " \"BsmtQual\",\n",
    " \"GrLivArea\", \n",
    " \"KitchenQual\",\n",
    " \"TotRmsAbvGrd\",\n",
    " \"GarageCars\", \n",
    " \"total_bathroom\",\n",
    " \"total_basement_bathroom\",\n",
    " \"Neighborhood_Blmngtn\",  \n",
    " \"Neighborhood_Blueste\",  \n",
    " \"Neighborhood_BrDale\", \n",
    " \"Neighborhood_BrkSide\",  \n",
    " \"Neighborhood_ClearCr\",  \n",
    " \"Neighborhood_CollgCr\",  \n",
    " \"Neighborhood_Crawfor\",  \n",
    " \"Neighborhood_Edwards\",  \n",
    " \"Neighborhood_Gilbert\",  \n",
    " \"Neighborhood_IDOTRR\", \n",
    " \"Neighborhood_MeadowV\",  \n",
    " \"Neighborhood_Mitchel\",  \n",
    " \"Neighborhood_NAmes\", \n",
    " \"Neighborhood_NPkVill\",  \n",
    " \"Neighborhood_NWAmes\", \n",
    " \"Neighborhood_NoRidge\",  \n",
    " \"Neighborhood_NridgHt\",  \n",
    " \"Neighborhood_OldTown\",  \n",
    " \"Neighborhood_SWISU\", \n",
    " \"Neighborhood_Sawyer\", \n",
    " \"Neighborhood_SawyerW\",  \n",
    " \"Neighborhood_Somerst\",  \n",
    " \"Neighborhood_StoneBr\",  \n",
    " \"Neighborhood_Timber\", \n",
    " \"Neighborhood_Veenker\",\n",
    " \"SalePrice\"]"
   ]
  },
  {
   "cell_type": "code",
   "execution_count": 131,
   "metadata": {
    "tags": []
   },
   "outputs": [],
   "source": [
    "import autogluon.core as ag\n",
    "import pandas as pd\n",
    "from autogluon.tabular import TabularPredictor"
   ]
  },
  {
   "cell_type": "markdown",
   "metadata": {},
   "source": [
    "### Model 0 (default configuration)"
   ]
  },
  {
   "cell_type": "markdown",
   "metadata": {},
   "source": [
    "First Try: Saved in AutogluonModels/ag-20230829_202115/"
   ]
  },
  {
   "cell_type": "code",
   "execution_count": 66,
   "metadata": {
    "collapsed": false,
    "jupyter": {
     "outputs_hidden": false
    },
    "tags": []
   },
   "outputs": [
    {
     "name": "stderr",
     "output_type": "stream",
     "text": [
      "No path specified. Models will be saved in: \"AutogluonModels/ag-20230829_214806/\"\n",
      "Presets specified: ['best_quality']\n",
      "Stack configuration (auto_stack=True): num_stack_levels=1, num_bag_folds=8, num_bag_sets=20\n",
      "Beginning AutoGluon training ... Time limit = 600s\n",
      "AutoGluon will save models to \"AutogluonModels/ag-20230829_214806/\"\n",
      "AutoGluon Version:  0.8.2\n",
      "Python Version:     3.10.12\n",
      "Operating System:   Linux\n",
      "Platform Machine:   x86_64\n",
      "Platform Version:   #1 SMP Tue Jun 27 21:48:55 UTC 2023\n",
      "Disk Space Avail:   0.51 GB / 5.13 GB (9.9%)\n",
      "\tWARNING: Available disk space is low and there is a risk that AutoGluon will run out of disk during fit, causing an exception. \n",
      "\tWe recommend a minimum available disk space of 10 GB, and large datasets may require more.\n",
      "Train Data Rows:    1460\n",
      "Train Data Columns: 74\n",
      "Label Column: SalePrice\n",
      "Preprocessing data ...\n",
      "AutoGluon infers your prediction problem is: 'regression' (because dtype of label-column == int and many unique label-values observed).\n",
      "\tLabel info (max, min, mean, stddev): (755000, 34900, 180921.19589, 79442.50288)\n",
      "\tIf 'regression' is not the correct problem_type, please manually specify the problem_type parameter during predictor init (You may specify problem_type as one of: ['binary', 'multiclass', 'regression'])\n",
      "Using Feature Generators to preprocess the data ...\n",
      "Fitting AutoMLPipelineFeatureGenerator...\n",
      "\tAvailable Memory:                    6445.11 MB\n",
      "\tTrain Data (Original)  Memory Usage: 1.34 MB (0.0% of available memory)\n",
      "\tInferring data type of each feature based on column values. Set feature_metadata_in to manually specify special dtypes of the features.\n",
      "\tStage 1 Generators:\n",
      "\t\tFitting AsTypeFeatureGenerator...\n",
      "\t\t\tNote: Converting 26 features to boolean dtype as they only contain 2 unique values.\n",
      "\tStage 2 Generators:\n",
      "\t\tFitting FillNaFeatureGenerator...\n",
      "\tStage 3 Generators:\n",
      "\t\tFitting IdentityFeatureGenerator...\n",
      "\t\tFitting CategoryFeatureGenerator...\n",
      "\t\t\tFitting CategoryMemoryMinimizeFeatureGenerator...\n",
      "\tStage 4 Generators:\n",
      "\t\tFitting DropUniqueFeatureGenerator...\n",
      "\tStage 5 Generators:\n",
      "\t\tFitting DropDuplicatesFeatureGenerator...\n",
      "\tTypes of features in original data (raw dtype, special dtypes):\n",
      "\t\t('float', [])  : 10 | ['LotFrontage', 'BsmtQual', 'BsmtExposure', 'BsmtFinType1', 'FireplaceQu', ...]\n",
      "\t\t('int', [])    : 53 | ['LotArea', 'LotShape', 'LandContour', 'LotConfig', 'LandSlope', ...]\n",
      "\t\t('object', []) : 11 | ['Street', 'Alley', 'RoofStyle', 'MasVnrType', 'Functional', ...]\n",
      "\tTypes of features in processed data (raw dtype, special dtypes):\n",
      "\t\t('category', [])  : 10 | ['Alley', 'RoofStyle', 'MasVnrType', 'Functional', 'GarageType', ...]\n",
      "\t\t('float', [])     : 10 | ['LotFrontage', 'BsmtQual', 'BsmtExposure', 'BsmtFinType1', 'FireplaceQu', ...]\n",
      "\t\t('int', [])       : 28 | ['LotArea', 'LotShape', 'LandContour', 'LotConfig', 'LandSlope', ...]\n",
      "\t\t('int', ['bool']) : 26 | ['Street', 'Neighborhood_Blmngtn', 'Neighborhood_Blueste', 'Neighborhood_BrDale', 'Neighborhood_BrkSide', ...]\n",
      "\t0.4s = Fit runtime\n",
      "\t74 features in original data used to generate 74 features in processed data.\n",
      "\tTrain Data (Processed) Memory Usage: 0.5 MB (0.0% of available memory)\n",
      "Data preprocessing and feature engineering runtime = 0.44s ...\n",
      "AutoGluon will gauge predictive performance using evaluation metric: 'root_mean_squared_error'\n",
      "\tThis metric's sign has been flipped to adhere to being higher_is_better. The metric score can be multiplied by -1 to get the metric value.\n",
      "\tTo change this, specify the eval_metric parameter of Predictor()\n",
      "User-specified model hyperparameters to be fit:\n",
      "{\n",
      "\t'NN_TORCH': {},\n",
      "\t'GBM': [{'extra_trees': True, 'ag_args': {'name_suffix': 'XT'}}, {}, 'GBMLarge'],\n",
      "\t'CAT': {},\n",
      "\t'XGB': {},\n",
      "\t'FASTAI': {},\n",
      "\t'RF': [{'criterion': 'gini', 'ag_args': {'name_suffix': 'Gini', 'problem_types': ['binary', 'multiclass']}}, {'criterion': 'entropy', 'ag_args': {'name_suffix': 'Entr', 'problem_types': ['binary', 'multiclass']}}, {'criterion': 'squared_error', 'ag_args': {'name_suffix': 'MSE', 'problem_types': ['regression', 'quantile']}}],\n",
      "\t'XT': [{'criterion': 'gini', 'ag_args': {'name_suffix': 'Gini', 'problem_types': ['binary', 'multiclass']}}, {'criterion': 'entropy', 'ag_args': {'name_suffix': 'Entr', 'problem_types': ['binary', 'multiclass']}}, {'criterion': 'squared_error', 'ag_args': {'name_suffix': 'MSE', 'problem_types': ['regression', 'quantile']}}],\n",
      "\t'KNN': [{'weights': 'uniform', 'ag_args': {'name_suffix': 'Unif'}}, {'weights': 'distance', 'ag_args': {'name_suffix': 'Dist'}}],\n",
      "}\n",
      "AutoGluon will fit 2 stack levels (L1 to L2) ...\n",
      "Fitting 11 L1 models ...\n",
      "Fitting model: KNeighborsUnif_BAG_L1 ... Training model for up to 399.61s of the 599.55s of remaining time.\n",
      "/home/ec2-user/anaconda3/envs/pytorch_p310/lib/python3.10/site-packages/torch/cuda/__init__.py:497: UserWarning: Can't initialize NVML\n",
      "  warnings.warn(\"Can't initialize NVML\")\n",
      "\t-47507.2046\t = Validation score   (-root_mean_squared_error)\n",
      "\t0.01s\t = Training   runtime\n",
      "\t0.05s\t = Validation runtime\n",
      "Fitting model: KNeighborsDist_BAG_L1 ... Training model for up to 398.26s of the 598.21s of remaining time.\n",
      "\t-47180.7622\t = Validation score   (-root_mean_squared_error)\n",
      "\t0.01s\t = Training   runtime\n",
      "\t0.02s\t = Validation runtime\n",
      "Fitting model: LightGBMXT_BAG_L1 ... Training model for up to 398.16s of the 598.11s of remaining time.\n",
      "\tFitting 8 child models (S1F1 - S1F8) | Fitting with ParallelLocalFoldFittingStrategy\n",
      "\n",
      "KeyboardInterrupt\n",
      "\n"
     ]
    }
   ],
   "source": [
    "\n",
    "\n",
    "predictor = TabularPredictor(\n",
    "    label=\"SalePrice\",\n",
    "    eval_metric=\"root_mean_squared_error\"). \\\n",
    "    fit(\n",
    "    train_data=train_df,\n",
    "    time_limit=600,\n",
    "    presets=\"best_quality\"\n",
    ")"
   ]
  },
  {
   "cell_type": "code",
   "execution_count": 67,
   "metadata": {
    "tags": []
   },
   "outputs": [],
   "source": [
    "predictor = TabularPredictor.load(\"./AutogluonModels/ag-20230829_202115/\")"
   ]
  },
  {
   "cell_type": "code",
   "execution_count": null,
   "metadata": {},
   "outputs": [
    {
     "name": "stderr",
     "output_type": "stream",
     "text": [
      "These features in provided data are not utilized by the predictor and will be ignored: ['SalePrice_log']\n",
      "Computing feature importance via permutation shuffling for 73 features using 1460 rows with 5 shuffle sets...\n",
      "\t4882.25s\t= Expected runtime (976.45s per shuffle set)\n"
     ]
    }
   ],
   "source": [
    "feature_importance_default = predictor.feature_importance(train_df).to_csv(\"features_importance_default.csv\")\n"
   ]
  },
  {
   "cell_type": "code",
   "execution_count": 160,
   "metadata": {
    "tags": []
   },
   "outputs": [],
   "source": [
    "\n",
    "pd.set_option('display.max_rows', 80)\n",
    "\n",
    "\n",
    "\n",
    "\n"
   ]
  },
  {
   "cell_type": "code",
   "execution_count": 161,
   "metadata": {
    "tags": []
   },
   "outputs": [
    {
     "name": "stdout",
     "output_type": "stream",
     "text": [
      "                        importance  stddev  p_value  n  p99_high  p99_low\n",
      "GrLivArea             21579.042860     NaN      NaN  1       NaN      NaN\n",
      "OverallQual           20069.606206     NaN      NaN  1       NaN      NaN\n",
      "TotalBsmtSF           12539.384718     NaN      NaN  1       NaN      NaN\n",
      "GarageCars             5508.513074     NaN      NaN  1       NaN      NaN\n",
      "LotArea                3609.549424     NaN      NaN  1       NaN      NaN\n",
      "...                            ...     ...      ... ..       ...      ...\n",
      "Neighborhood_BrDale      59.619915     NaN      NaN  1       NaN      NaN\n",
      "Street                   39.962729     NaN      NaN  1       NaN      NaN\n",
      "Alley                    38.332582     NaN      NaN  1       NaN      NaN\n",
      "MiscFeature               9.253484     NaN      NaN  1       NaN      NaN\n",
      "Neighborhood_Blueste      6.487832     NaN      NaN  1       NaN      NaN\n",
      "\n",
      "[73 rows x 6 columns]\n"
     ]
    }
   ],
   "source": [
    "feature_importance_default"
   ]
  },
  {
   "cell_type": "code",
   "execution_count": 161,
   "metadata": {
    "tags": []
   },
   "outputs": [
    {
     "name": "stdout",
     "output_type": "stream",
     "text": [
      "                        importance  stddev  p_value  n  p99_high  p99_low\n",
      "GrLivArea             21579.042860     NaN      NaN  1       NaN      NaN\n",
      "OverallQual           20069.606206     NaN      NaN  1       NaN      NaN\n",
      "TotalBsmtSF           12539.384718     NaN      NaN  1       NaN      NaN\n",
      "GarageCars             5508.513074     NaN      NaN  1       NaN      NaN\n",
      "LotArea                3609.549424     NaN      NaN  1       NaN      NaN\n",
      "...                            ...     ...      ... ..       ...      ...\n",
      "Neighborhood_BrDale      59.619915     NaN      NaN  1       NaN      NaN\n",
      "Street                   39.962729     NaN      NaN  1       NaN      NaN\n",
      "Alley                    38.332582     NaN      NaN  1       NaN      NaN\n",
      "MiscFeature               9.253484     NaN      NaN  1       NaN      NaN\n",
      "Neighborhood_Blueste      6.487832     NaN      NaN  1       NaN      NaN\n",
      "\n",
      "[73 rows x 6 columns]\n"
     ]
    }
   ],
   "source": [
    "feature_importance_default"
   ]
  },
  {
   "cell_type": "code",
   "execution_count": 140,
   "metadata": {
    "tags": []
   },
   "outputs": [
    {
     "data": {
      "text/plain": [
       "0    209820.843750\n",
       "1    186298.218750\n",
       "2    218982.015625\n",
       "3    156164.656250\n",
       "4    278253.281250\n",
       "Name: SalePrice, dtype: float32"
      ]
     },
     "execution_count": 140,
     "metadata": {},
     "output_type": "execute_result"
    }
   ],
   "source": [
    "predictions_default = predictor.predict(test_df)\n",
    "predictions_default.head()"
   ]
  },
  {
   "cell_type": "code",
   "execution_count": 143,
   "metadata": {
    "tags": []
   },
   "outputs": [
    {
     "name": "stdout",
     "output_type": "stream",
     "text": [
      "<class 'pandas.core.frame.DataFrame'>\n",
      "RangeIndex: 1459 entries, 0 to 1458\n",
      "Data columns (total 2 columns):\n",
      " #   Column     Non-Null Count  Dtype  \n",
      "---  ------     --------------  -----  \n",
      " 0   Id         1459 non-null   int64  \n",
      " 1   SalePrice  1459 non-null   float64\n",
      "dtypes: float64(1), int64(1)\n",
      "memory usage: 22.9 KB\n"
     ]
    }
   ],
   "source": [
    "submission = pd.read_csv(\"./data/sample_submission.csv\")\n",
    "submission.info()"
   ]
  },
  {
   "cell_type": "code",
   "execution_count": 144,
   "metadata": {
    "tags": []
   },
   "outputs": [],
   "source": [
    "submission[\"SalePrice\"] = predictions_default\n",
    "submission.to_csv(\"submission_default.csv\", index=False)"
   ]
  },
  {
   "cell_type": "code",
   "execution_count": 145,
   "metadata": {
    "tags": []
   },
   "outputs": [
    {
     "name": "stdout",
     "output_type": "stream",
     "text": [
      "/bin/sh: kaggle: command not found\n"
     ]
    }
   ],
   "source": [
    "!kaggle competitions submit -c house-prices-advanced-regression-techniques -f submission_default.csv -m \"House Prediction result first trial\""
   ]
  },
  {
   "cell_type": "markdown",
   "metadata": {
    "tags": []
   },
   "source": [
    "### Model 1 (default configuration with less non important features)"
   ]
  },
  {
   "cell_type": "code",
   "execution_count": 136,
   "metadata": {
    "tags": []
   },
   "outputs": [],
   "source": [
    "important_features = [\n",
    "    \"GrLivArea\", \n",
    "    \"OverallQual\", \n",
    "    \"TotalBsmtSF\",\n",
    "    \"GarageCars\",\n",
    "    \"LotArea\",\n",
    "    \"total_bathroom\",\n",
    "    \"OverallCond\",\n",
    "    \"BsmtExposure\",\n",
    "    \"BsmtQual\",\n",
    "    \"KitchenQual\",\n",
    "    \"YearBuilt\",\n",
    "    \"Neighborhood_Edwards\",\n",
    "    \"OpenPorchSF\",\n",
    "    \"LotFrontage\",\n",
    "    \"Neighborhood_NoRidge\",\n",
    "    \"TotRmsAbvGrd\",\n",
    "    \"YearRemodAdd\",\n",
    "    \"BsmtUnfSF\",\n",
    "    \"ExterQual\",\n",
    "    \"BsmtFinType1\",\n",
    "    \"Fireplaces\",\n",
    "    \"total_basement_bathroom\" \n",
    "]                      \n",
    " "
   ]
  },
  {
   "cell_type": "code",
   "execution_count": 132,
   "metadata": {
    "tags": []
   },
   "outputs": [],
   "source": [
    "import autogluon\n",
    "import autogluon.core as ag\n",
    "import autogluon.core as ag\n",
    "import pandas as pd\n",
    "from autogluon.tabular import TabularPredictor"
   ]
  },
  {
   "cell_type": "markdown",
   "metadata": {},
   "source": [
    "Model 1 is save to AutogluonModels/ag-20230830_143522/"
   ]
  },
  {
   "cell_type": "code",
   "execution_count": 74,
   "metadata": {
    "tags": []
   },
   "outputs": [
    {
     "name": "stderr",
     "output_type": "stream",
     "text": [
      "No path specified. Models will be saved in: \"AutogluonModels/ag-20230830_143522/\"\n",
      "Presets specified: ['best_quality']\n",
      "Stack configuration (auto_stack=True): num_stack_levels=1, num_bag_folds=8, num_bag_sets=20\n",
      "Beginning AutoGluon training ... Time limit = 600s\n",
      "AutoGluon will save models to \"AutogluonModels/ag-20230830_143522/\"\n",
      "AutoGluon Version:  0.8.2\n",
      "Python Version:     3.10.12\n",
      "Operating System:   Linux\n",
      "Platform Machine:   x86_64\n",
      "Platform Version:   #1 SMP Tue Jun 27 21:48:55 UTC 2023\n",
      "Disk Space Avail:   0.47 GB / 5.13 GB (9.2%)\n",
      "\tWARNING: Available disk space is low and there is a risk that AutoGluon will run out of disk during fit, causing an exception. \n",
      "\tWe recommend a minimum available disk space of 10 GB, and large datasets may require more.\n",
      "Train Data Rows:    1460\n",
      "Train Data Columns: 22\n",
      "Label Column: SalePrice\n",
      "Preprocessing data ...\n",
      "AutoGluon infers your prediction problem is: 'regression' (because dtype of label-column == int and many unique label-values observed).\n",
      "\tLabel info (max, min, mean, stddev): (755000, 34900, 180921.19589, 79442.50288)\n",
      "\tIf 'regression' is not the correct problem_type, please manually specify the problem_type parameter during predictor init (You may specify problem_type as one of: ['binary', 'multiclass', 'regression'])\n",
      "Using Feature Generators to preprocess the data ...\n",
      "Fitting AutoMLPipelineFeatureGenerator...\n",
      "\tAvailable Memory:                    6405.62 MB\n",
      "\tTrain Data (Original)  Memory Usage: 0.24 MB (0.0% of available memory)\n",
      "\tInferring data type of each feature based on column values. Set feature_metadata_in to manually specify special dtypes of the features.\n",
      "\tStage 1 Generators:\n",
      "\t\tFitting AsTypeFeatureGenerator...\n",
      "\t\t\tNote: Converting 2 features to boolean dtype as they only contain 2 unique values.\n",
      "\tStage 2 Generators:\n",
      "\t\tFitting FillNaFeatureGenerator...\n",
      "\tStage 3 Generators:\n",
      "\t\tFitting IdentityFeatureGenerator...\n",
      "\tStage 4 Generators:\n",
      "\t\tFitting DropUniqueFeatureGenerator...\n",
      "\tStage 5 Generators:\n",
      "\t\tFitting DropDuplicatesFeatureGenerator...\n",
      "\tTypes of features in original data (raw dtype, special dtypes):\n",
      "\t\t('float', []) :  4 | ['BsmtExposure', 'BsmtQual', 'LotFrontage', 'BsmtFinType1']\n",
      "\t\t('int', [])   : 18 | ['GrLivArea', 'OverallQual', 'TotalBsmtSF', 'GarageCars', 'LotArea', ...]\n",
      "\tTypes of features in processed data (raw dtype, special dtypes):\n",
      "\t\t('float', [])     :  4 | ['BsmtExposure', 'BsmtQual', 'LotFrontage', 'BsmtFinType1']\n",
      "\t\t('int', [])       : 16 | ['GrLivArea', 'OverallQual', 'TotalBsmtSF', 'GarageCars', 'LotArea', ...]\n",
      "\t\t('int', ['bool']) :  2 | ['Neighborhood_Edwards', 'Neighborhood_NoRidge']\n",
      "\t0.1s = Fit runtime\n",
      "\t22 features in original data used to generate 22 features in processed data.\n",
      "\tTrain Data (Processed) Memory Usage: 0.24 MB (0.0% of available memory)\n",
      "Data preprocessing and feature engineering runtime = 0.1s ...\n",
      "AutoGluon will gauge predictive performance using evaluation metric: 'root_mean_squared_error'\n",
      "\tThis metric's sign has been flipped to adhere to being higher_is_better. The metric score can be multiplied by -1 to get the metric value.\n",
      "\tTo change this, specify the eval_metric parameter of Predictor()\n",
      "User-specified model hyperparameters to be fit:\n",
      "{\n",
      "\t'NN_TORCH': {},\n",
      "\t'GBM': [{'extra_trees': True, 'ag_args': {'name_suffix': 'XT'}}, {}, 'GBMLarge'],\n",
      "\t'CAT': {},\n",
      "\t'XGB': {},\n",
      "\t'FASTAI': {},\n",
      "\t'RF': [{'criterion': 'gini', 'ag_args': {'name_suffix': 'Gini', 'problem_types': ['binary', 'multiclass']}}, {'criterion': 'entropy', 'ag_args': {'name_suffix': 'Entr', 'problem_types': ['binary', 'multiclass']}}, {'criterion': 'squared_error', 'ag_args': {'name_suffix': 'MSE', 'problem_types': ['regression', 'quantile']}}],\n",
      "\t'XT': [{'criterion': 'gini', 'ag_args': {'name_suffix': 'Gini', 'problem_types': ['binary', 'multiclass']}}, {'criterion': 'entropy', 'ag_args': {'name_suffix': 'Entr', 'problem_types': ['binary', 'multiclass']}}, {'criterion': 'squared_error', 'ag_args': {'name_suffix': 'MSE', 'problem_types': ['regression', 'quantile']}}],\n",
      "\t'KNN': [{'weights': 'uniform', 'ag_args': {'name_suffix': 'Unif'}}, {'weights': 'distance', 'ag_args': {'name_suffix': 'Dist'}}],\n",
      "}\n",
      "AutoGluon will fit 2 stack levels (L1 to L2) ...\n",
      "Fitting 11 L1 models ...\n",
      "Fitting model: KNeighborsUnif_BAG_L1 ... Training model for up to 399.83s of the 599.89s of remaining time.\n",
      "/home/ec2-user/anaconda3/envs/pytorch_p310/lib/python3.10/site-packages/torch/cuda/__init__.py:497: UserWarning: Can't initialize NVML\n",
      "  warnings.warn(\"Can't initialize NVML\")\n",
      "\t-47794.7933\t = Validation score   (-root_mean_squared_error)\n",
      "\t0.01s\t = Training   runtime\n",
      "\t0.22s\t = Validation runtime\n",
      "Fitting model: KNeighborsDist_BAG_L1 ... Training model for up to 391.83s of the 591.89s of remaining time.\n",
      "\t-47567.6043\t = Validation score   (-root_mean_squared_error)\n",
      "\t0.01s\t = Training   runtime\n",
      "\t0.02s\t = Validation runtime\n",
      "Fitting model: LightGBMXT_BAG_L1 ... Training model for up to 391.75s of the 591.82s of remaining time.\n",
      "\tFitting 8 child models (S1F1 - S1F8) | Fitting with ParallelLocalFoldFittingStrategy\n",
      "\t-25469.5468\t = Validation score   (-root_mean_squared_error)\n",
      "\t20.42s\t = Training   runtime\n",
      "\t0.35s\t = Validation runtime\n",
      "Fitting model: LightGBM_BAG_L1 ... Training model for up to 363.55s of the 563.61s of remaining time.\n",
      "\tFitting 8 child models (S1F1 - S1F8) | Fitting with ParallelLocalFoldFittingStrategy\n",
      "\t-26580.3031\t = Validation score   (-root_mean_squared_error)\n",
      "\t34.77s\t = Training   runtime\n",
      "\t0.92s\t = Validation runtime\n",
      "Fitting model: RandomForestMSE_BAG_L1 ... Training model for up to 325.98s of the 526.05s of remaining time.\n",
      "\t-29434.9089\t = Validation score   (-root_mean_squared_error)\n",
      "\t2.95s\t = Training   runtime\n",
      "\t0.24s\t = Validation runtime\n",
      "Fitting model: CatBoost_BAG_L1 ... Training model for up to 322.67s of the 522.73s of remaining time.\n",
      "\tFitting 8 child models (S1F1 - S1F8) | Fitting with ParallelLocalFoldFittingStrategy\n",
      "\t-25048.4615\t = Validation score   (-root_mean_squared_error)\n",
      "\t42.93s\t = Training   runtime\n",
      "\t0.02s\t = Validation runtime\n",
      "Fitting model: ExtraTreesMSE_BAG_L1 ... Training model for up to 277.2s of the 477.26s of remaining time.\n",
      "\t-28670.6214\t = Validation score   (-root_mean_squared_error)\n",
      "\t1.59s\t = Training   runtime\n",
      "\t0.18s\t = Validation runtime\n",
      "Fitting model: NeuralNetFastAI_BAG_L1 ... Training model for up to 275.31s of the 475.37s of remaining time.\n",
      "\tFitting 8 child models (S1F1 - S1F8) | Fitting with ParallelLocalFoldFittingStrategy\n",
      "\t-26526.622\t = Validation score   (-root_mean_squared_error)\n",
      "\t32.93s\t = Training   runtime\n",
      "\t0.26s\t = Validation runtime\n",
      "Fitting model: XGBoost_BAG_L1 ... Training model for up to 239.67s of the 439.73s of remaining time.\n",
      "\tFitting 8 child models (S1F1 - S1F8) | Fitting with ParallelLocalFoldFittingStrategy\n",
      "\t-27083.4626\t = Validation score   (-root_mean_squared_error)\n",
      "\t17.88s\t = Training   runtime\n",
      "\t0.08s\t = Validation runtime\n",
      "Fitting model: NeuralNetTorch_BAG_L1 ... Training model for up to 218.38s of the 418.44s of remaining time.\n",
      "\tFitting 8 child models (S1F1 - S1F8) | Fitting with ParallelLocalFoldFittingStrategy\n",
      "\t-28187.6694\t = Validation score   (-root_mean_squared_error)\n",
      "\t50.56s\t = Training   runtime\n",
      "\t0.27s\t = Validation runtime\n",
      "Fitting model: LightGBMLarge_BAG_L1 ... Training model for up to 164.81s of the 364.87s of remaining time.\n",
      "\tFitting 8 child models (S1F1 - S1F8) | Fitting with ParallelLocalFoldFittingStrategy\n",
      "\t-28276.1129\t = Validation score   (-root_mean_squared_error)\n",
      "\t39.46s\t = Training   runtime\n",
      "\t0.48s\t = Validation runtime\n",
      "Completed 1/20 k-fold bagging repeats ...\n",
      "Fitting model: WeightedEnsemble_L2 ... Training model for up to 360.0s of the 322.0s of remaining time.\n",
      "\t-24231.0086\t = Validation score   (-root_mean_squared_error)\n",
      "\t0.47s\t = Training   runtime\n",
      "\t0.0s\t = Validation runtime\n",
      "Fitting 9 L2 models ...\n",
      "Fitting model: LightGBMXT_BAG_L2 ... Training model for up to 321.46s of the 321.45s of remaining time.\n",
      "\tFitting 8 child models (S1F1 - S1F8) | Fitting with ParallelLocalFoldFittingStrategy\n",
      "\t-26207.7412\t = Validation score   (-root_mean_squared_error)\n",
      "\t22.13s\t = Training   runtime\n",
      "\t0.39s\t = Validation runtime\n",
      "Fitting model: LightGBM_BAG_L2 ... Training model for up to 294.01s of the 293.99s of remaining time.\n",
      "\tFitting 8 child models (S1F1 - S1F8) | Fitting with ParallelLocalFoldFittingStrategy\n",
      "\t-26543.0372\t = Validation score   (-root_mean_squared_error)\n",
      "\t15.46s\t = Training   runtime\n",
      "\t0.04s\t = Validation runtime\n",
      "Fitting model: RandomForestMSE_BAG_L2 ... Training model for up to 275.39s of the 275.38s of remaining time.\n",
      "\t-25292.2948\t = Validation score   (-root_mean_squared_error)\n",
      "\t5.23s\t = Training   runtime\n",
      "\t0.17s\t = Validation runtime\n",
      "Fitting model: CatBoost_BAG_L2 ... Training model for up to 269.89s of the 269.87s of remaining time.\n",
      "\tFitting 8 child models (S1F1 - S1F8) | Fitting with ParallelLocalFoldFittingStrategy\n",
      "\t-25691.6493\t = Validation score   (-root_mean_squared_error)\n",
      "\t31.76s\t = Training   runtime\n",
      "\t0.02s\t = Validation runtime\n",
      "Fitting model: ExtraTreesMSE_BAG_L2 ... Training model for up to 235.28s of the 235.27s of remaining time.\n",
      "\t-25021.7799\t = Validation score   (-root_mean_squared_error)\n",
      "\t2.09s\t = Training   runtime\n",
      "\t0.17s\t = Validation runtime\n",
      "Fitting model: NeuralNetFastAI_BAG_L2 ... Training model for up to 232.91s of the 232.89s of remaining time.\n",
      "\tFitting 8 child models (S1F1 - S1F8) | Fitting with ParallelLocalFoldFittingStrategy\n",
      "\t-27539.329\t = Validation score   (-root_mean_squared_error)\n",
      "\t37.63s\t = Training   runtime\n",
      "\t0.18s\t = Validation runtime\n",
      "Fitting model: XGBoost_BAG_L2 ... Training model for up to 192.43s of the 192.41s of remaining time.\n",
      "\tFitting 8 child models (S1F1 - S1F8) | Fitting with ParallelLocalFoldFittingStrategy\n",
      "\t-26112.4947\t = Validation score   (-root_mean_squared_error)\n",
      "\t21.32s\t = Training   runtime\n",
      "\t0.06s\t = Validation runtime\n",
      "Fitting model: NeuralNetTorch_BAG_L2 ... Training model for up to 167.29s of the 167.26s of remaining time.\n",
      "\tFitting 8 child models (S1F1 - S1F8) | Fitting with ParallelLocalFoldFittingStrategy\n",
      "\t-27517.3937\t = Validation score   (-root_mean_squared_error)\n",
      "\t49.16s\t = Training   runtime\n",
      "\t0.3s\t = Validation runtime\n",
      "Fitting model: LightGBMLarge_BAG_L2 ... Training model for up to 115.08s of the 115.07s of remaining time.\n",
      "\tFitting 8 child models (S1F1 - S1F8) | Fitting with ParallelLocalFoldFittingStrategy\n",
      "\t-27529.9395\t = Validation score   (-root_mean_squared_error)\n",
      "\t32.23s\t = Training   runtime\n",
      "\t0.09s\t = Validation runtime\n",
      "Completed 1/20 k-fold bagging repeats ...\n",
      "Fitting model: WeightedEnsemble_L3 ... Training model for up to 360.0s of the 79.17s of remaining time.\n",
      "\t-24768.5858\t = Validation score   (-root_mean_squared_error)\n",
      "\t0.4s\t = Training   runtime\n",
      "\t0.0s\t = Validation runtime\n",
      "AutoGluon training complete, total runtime = 521.29s ... Best model: \"WeightedEnsemble_L2\"\n",
      "TabularPredictor saved. To load, use: predictor = TabularPredictor.load(\"AutogluonModels/ag-20230830_143522/\")\n"
     ]
    }
   ],
   "source": [
    "\n",
    "\n",
    "predictor_important_features = TabularPredictor(\n",
    "    label=\"SalePrice\",\n",
    "    eval_metric=\"root_mean_squared_error\"). \\\n",
    "    fit(\n",
    "    train_data=train_df[important_features],\n",
    "    time_limit=600,\n",
    "    presets=\"best_quality\"\n",
    ")"
   ]
  },
  {
   "cell_type": "code",
   "execution_count": 133,
   "metadata": {
    "tags": []
   },
   "outputs": [],
   "source": [
    "predictor_with_important_features = TabularPredictor.load(\"AutogluonModels/ag-20230830_143522/\")"
   ]
  },
  {
   "cell_type": "code",
   "execution_count": 134,
   "metadata": {
    "tags": []
   },
   "outputs": [
    {
     "name": "stdout",
     "output_type": "stream",
     "text": [
      "*** Summary of fit() ***\n",
      "Estimated performance of each model:\n",
      "                     model     score_val  pred_time_val    fit_time  pred_time_val_marginal  fit_time_marginal  stack_level  can_infer  fit_order\n",
      "0      WeightedEnsemble_L2 -24231.008588       1.906380  199.970556                0.000633           0.474710            2       True         12\n",
      "1      WeightedEnsemble_L3 -24768.585791       4.335087  413.228463                0.001112           0.397500            3       True         22\n",
      "2     ExtraTreesMSE_BAG_L2 -25021.779885       3.213338  245.605891                0.165267           2.093594            2       True         17\n",
      "3          CatBoost_BAG_L1 -25048.461493       0.018497   42.934753                0.018497          42.934753            1       True          6\n",
      "4   RandomForestMSE_BAG_L2 -25292.294769       3.214378  248.746755                0.166307           5.234458            2       True         15\n",
      "5        LightGBMXT_BAG_L1 -25469.546830       0.354582   20.424681                0.354582          20.424681            1       True          3\n",
      "6          CatBoost_BAG_L2 -25691.649272       3.066977  275.276389                0.018906          31.764092            2       True         16\n",
      "7           XGBoost_BAG_L2 -26112.494653       3.110868  264.827366                0.062797          21.315069            2       True         19\n",
      "8        LightGBMXT_BAG_L2 -26207.741164       3.436801  265.638622                0.388731          22.126325            2       True         13\n",
      "9   NeuralNetFastAI_BAG_L1 -26526.622002       0.262830   32.928709                0.262830          32.928709            1       True          8\n",
      "10         LightGBM_BAG_L2 -26543.037237       3.091362  258.975864                0.043291          15.463566            2       True         14\n",
      "11         LightGBM_BAG_L1 -26580.303100       0.916878   34.766012                0.916878          34.766012            1       True          4\n",
      "12          XGBoost_BAG_L1 -27083.462610       0.079106   17.877359                0.079106          17.877359            1       True          9\n",
      "13   NeuralNetTorch_BAG_L2 -27517.393686       3.349913  292.668189                0.301842          49.155891            2       True         20\n",
      "14    LightGBMLarge_BAG_L2 -27529.939489       3.141663  275.738858                0.093592          32.226561            2       True         21\n",
      "15  NeuralNetFastAI_BAG_L2 -27539.328958       3.230124  281.141535                0.182054          37.629238            2       True         18\n",
      "16   NeuralNetTorch_BAG_L1 -28187.669419       0.273855   50.564331                0.273855          50.564331            1       True         10\n",
      "17    LightGBMLarge_BAG_L1 -28276.112859       0.481439   39.459736                0.481439          39.459736            1       True         11\n",
      "18    ExtraTreesMSE_BAG_L1 -28670.621374       0.180870    1.592892                0.180870           1.592892            1       True          7\n",
      "19  RandomForestMSE_BAG_L1 -29434.908885       0.238389    2.948544                0.238389           2.948544            1       True          5\n",
      "20   KNeighborsDist_BAG_L1 -47567.604258       0.022938    0.007343                0.022938           0.007343            1       True          2\n",
      "21   KNeighborsUnif_BAG_L1 -47794.793284       0.218687    0.007937                0.218687           0.007937            1       True          1\n",
      "Number of models trained: 22\n",
      "Types of models trained:\n",
      "{'StackerEnsembleModel_RF', 'StackerEnsembleModel_XT', 'WeightedEnsembleModel', 'StackerEnsembleModel_NNFastAiTabular', 'StackerEnsembleModel_KNN', 'StackerEnsembleModel_CatBoost', 'StackerEnsembleModel_XGBoost', 'StackerEnsembleModel_TabularNeuralNetTorch', 'StackerEnsembleModel_LGB'}\n",
      "Bagging used: True  (with 8 folds)\n",
      "Multi-layer stack-ensembling used: True  (with 3 levels)\n",
      "Feature Metadata (Processed):\n",
      "(raw dtype, special dtypes):\n",
      "('float', [])     :  4 | ['BsmtExposure', 'BsmtQual', 'LotFrontage', 'BsmtFinType1']\n",
      "('int', [])       : 16 | ['GrLivArea', 'OverallQual', 'TotalBsmtSF', 'GarageCars', 'LotArea', ...]\n",
      "('int', ['bool']) :  2 | ['Neighborhood_Edwards', 'Neighborhood_NoRidge']\n",
      "*** End of fit() summary ***\n"
     ]
    },
    {
     "name": "stderr",
     "output_type": "stream",
     "text": [
      "/home/ec2-user/anaconda3/envs/pytorch_p310/lib/python3.10/site-packages/autogluon/core/utils/plots.py:169: UserWarning: AutoGluon summary plots cannot be created because bokeh is not installed. To see plots, please do: \"pip install bokeh==2.0.1\"\n",
      "  warnings.warn('AutoGluon summary plots cannot be created because bokeh is not installed. To see plots, please do: \"pip install bokeh==2.0.1\"')\n"
     ]
    },
    {
     "data": {
      "text/plain": [
       "{'model_types': {'KNeighborsUnif_BAG_L1': 'StackerEnsembleModel_KNN',\n",
       "  'KNeighborsDist_BAG_L1': 'StackerEnsembleModel_KNN',\n",
       "  'LightGBMXT_BAG_L1': 'StackerEnsembleModel_LGB',\n",
       "  'LightGBM_BAG_L1': 'StackerEnsembleModel_LGB',\n",
       "  'RandomForestMSE_BAG_L1': 'StackerEnsembleModel_RF',\n",
       "  'CatBoost_BAG_L1': 'StackerEnsembleModel_CatBoost',\n",
       "  'ExtraTreesMSE_BAG_L1': 'StackerEnsembleModel_XT',\n",
       "  'NeuralNetFastAI_BAG_L1': 'StackerEnsembleModel_NNFastAiTabular',\n",
       "  'XGBoost_BAG_L1': 'StackerEnsembleModel_XGBoost',\n",
       "  'NeuralNetTorch_BAG_L1': 'StackerEnsembleModel_TabularNeuralNetTorch',\n",
       "  'LightGBMLarge_BAG_L1': 'StackerEnsembleModel_LGB',\n",
       "  'WeightedEnsemble_L2': 'WeightedEnsembleModel',\n",
       "  'LightGBMXT_BAG_L2': 'StackerEnsembleModel_LGB',\n",
       "  'LightGBM_BAG_L2': 'StackerEnsembleModel_LGB',\n",
       "  'RandomForestMSE_BAG_L2': 'StackerEnsembleModel_RF',\n",
       "  'CatBoost_BAG_L2': 'StackerEnsembleModel_CatBoost',\n",
       "  'ExtraTreesMSE_BAG_L2': 'StackerEnsembleModel_XT',\n",
       "  'NeuralNetFastAI_BAG_L2': 'StackerEnsembleModel_NNFastAiTabular',\n",
       "  'XGBoost_BAG_L2': 'StackerEnsembleModel_XGBoost',\n",
       "  'NeuralNetTorch_BAG_L2': 'StackerEnsembleModel_TabularNeuralNetTorch',\n",
       "  'LightGBMLarge_BAG_L2': 'StackerEnsembleModel_LGB',\n",
       "  'WeightedEnsemble_L3': 'WeightedEnsembleModel'},\n",
       " 'model_performance': {'KNeighborsUnif_BAG_L1': -47794.793283783765,\n",
       "  'KNeighborsDist_BAG_L1': -47567.604258022584,\n",
       "  'LightGBMXT_BAG_L1': -25469.546830485997,\n",
       "  'LightGBM_BAG_L1': -26580.303099772733,\n",
       "  'RandomForestMSE_BAG_L1': -29434.908884535173,\n",
       "  'CatBoost_BAG_L1': -25048.461493264494,\n",
       "  'ExtraTreesMSE_BAG_L1': -28670.621374484792,\n",
       "  'NeuralNetFastAI_BAG_L1': -26526.62200181492,\n",
       "  'XGBoost_BAG_L1': -27083.46260988511,\n",
       "  'NeuralNetTorch_BAG_L1': -28187.669418686735,\n",
       "  'LightGBMLarge_BAG_L1': -28276.11285867621,\n",
       "  'WeightedEnsemble_L2': -24231.00858792067,\n",
       "  'LightGBMXT_BAG_L2': -26207.74116379892,\n",
       "  'LightGBM_BAG_L2': -26543.037237283137,\n",
       "  'RandomForestMSE_BAG_L2': -25292.29476857562,\n",
       "  'CatBoost_BAG_L2': -25691.649271790073,\n",
       "  'ExtraTreesMSE_BAG_L2': -25021.779885123582,\n",
       "  'NeuralNetFastAI_BAG_L2': -27539.32895805696,\n",
       "  'XGBoost_BAG_L2': -26112.494652530862,\n",
       "  'NeuralNetTorch_BAG_L2': -27517.393685524006,\n",
       "  'LightGBMLarge_BAG_L2': -27529.93948906535,\n",
       "  'WeightedEnsemble_L3': -24768.585791467423},\n",
       " 'model_best': 'WeightedEnsemble_L2',\n",
       " 'model_paths': {'KNeighborsUnif_BAG_L1': 'AutogluonModels/ag-20230830_143522/models/KNeighborsUnif_BAG_L1/',\n",
       "  'KNeighborsDist_BAG_L1': 'AutogluonModels/ag-20230830_143522/models/KNeighborsDist_BAG_L1/',\n",
       "  'LightGBMXT_BAG_L1': 'AutogluonModels/ag-20230830_143522/models/LightGBMXT_BAG_L1/',\n",
       "  'LightGBM_BAG_L1': 'AutogluonModels/ag-20230830_143522/models/LightGBM_BAG_L1/',\n",
       "  'RandomForestMSE_BAG_L1': 'AutogluonModels/ag-20230830_143522/models/RandomForestMSE_BAG_L1/',\n",
       "  'CatBoost_BAG_L1': 'AutogluonModels/ag-20230830_143522/models/CatBoost_BAG_L1/',\n",
       "  'ExtraTreesMSE_BAG_L1': 'AutogluonModels/ag-20230830_143522/models/ExtraTreesMSE_BAG_L1/',\n",
       "  'NeuralNetFastAI_BAG_L1': 'AutogluonModels/ag-20230830_143522/models/NeuralNetFastAI_BAG_L1/',\n",
       "  'XGBoost_BAG_L1': 'AutogluonModels/ag-20230830_143522/models/XGBoost_BAG_L1/',\n",
       "  'NeuralNetTorch_BAG_L1': 'AutogluonModels/ag-20230830_143522/models/NeuralNetTorch_BAG_L1/',\n",
       "  'LightGBMLarge_BAG_L1': 'AutogluonModels/ag-20230830_143522/models/LightGBMLarge_BAG_L1/',\n",
       "  'WeightedEnsemble_L2': 'AutogluonModels/ag-20230830_143522/models/WeightedEnsemble_L2/',\n",
       "  'LightGBMXT_BAG_L2': 'AutogluonModels/ag-20230830_143522/models/LightGBMXT_BAG_L2/',\n",
       "  'LightGBM_BAG_L2': 'AutogluonModels/ag-20230830_143522/models/LightGBM_BAG_L2/',\n",
       "  'RandomForestMSE_BAG_L2': 'AutogluonModels/ag-20230830_143522/models/RandomForestMSE_BAG_L2/',\n",
       "  'CatBoost_BAG_L2': 'AutogluonModels/ag-20230830_143522/models/CatBoost_BAG_L2/',\n",
       "  'ExtraTreesMSE_BAG_L2': 'AutogluonModels/ag-20230830_143522/models/ExtraTreesMSE_BAG_L2/',\n",
       "  'NeuralNetFastAI_BAG_L2': 'AutogluonModels/ag-20230830_143522/models/NeuralNetFastAI_BAG_L2/',\n",
       "  'XGBoost_BAG_L2': 'AutogluonModels/ag-20230830_143522/models/XGBoost_BAG_L2/',\n",
       "  'NeuralNetTorch_BAG_L2': 'AutogluonModels/ag-20230830_143522/models/NeuralNetTorch_BAG_L2/',\n",
       "  'LightGBMLarge_BAG_L2': 'AutogluonModels/ag-20230830_143522/models/LightGBMLarge_BAG_L2/',\n",
       "  'WeightedEnsemble_L3': 'AutogluonModels/ag-20230830_143522/models/WeightedEnsemble_L3/'},\n",
       " 'model_fit_times': {'KNeighborsUnif_BAG_L1': 0.007936954498291016,\n",
       "  'KNeighborsDist_BAG_L1': 0.00734257698059082,\n",
       "  'LightGBMXT_BAG_L1': 20.424680709838867,\n",
       "  'LightGBM_BAG_L1': 34.76601219177246,\n",
       "  'RandomForestMSE_BAG_L1': 2.9485437870025635,\n",
       "  'CatBoost_BAG_L1': 42.93475294113159,\n",
       "  'ExtraTreesMSE_BAG_L1': 1.5928924083709717,\n",
       "  'NeuralNetFastAI_BAG_L1': 32.928709268569946,\n",
       "  'XGBoost_BAG_L1': 17.87735891342163,\n",
       "  'NeuralNetTorch_BAG_L1': 50.56433129310608,\n",
       "  'LightGBMLarge_BAG_L1': 39.459736347198486,\n",
       "  'WeightedEnsemble_L2': 0.47471046447753906,\n",
       "  'LightGBMXT_BAG_L2': 22.12632465362549,\n",
       "  'LightGBM_BAG_L2': 15.463566303253174,\n",
       "  'RandomForestMSE_BAG_L2': 5.234457731246948,\n",
       "  'CatBoost_BAG_L2': 31.764091968536377,\n",
       "  'ExtraTreesMSE_BAG_L2': 2.0935935974121094,\n",
       "  'NeuralNetFastAI_BAG_L2': 37.62923789024353,\n",
       "  'XGBoost_BAG_L2': 21.31506872177124,\n",
       "  'NeuralNetTorch_BAG_L2': 49.15589141845703,\n",
       "  'LightGBMLarge_BAG_L2': 32.226560831069946,\n",
       "  'WeightedEnsemble_L3': 0.39749956130981445},\n",
       " 'model_pred_times': {'KNeighborsUnif_BAG_L1': 0.2186870574951172,\n",
       "  'KNeighborsDist_BAG_L1': 0.022937774658203125,\n",
       "  'LightGBMXT_BAG_L1': 0.3545815944671631,\n",
       "  'LightGBM_BAG_L1': 0.9168777465820312,\n",
       "  'RandomForestMSE_BAG_L1': 0.2383894920349121,\n",
       "  'CatBoost_BAG_L1': 0.018496990203857422,\n",
       "  'ExtraTreesMSE_BAG_L1': 0.18087029457092285,\n",
       "  'NeuralNetFastAI_BAG_L1': 0.2628297805786133,\n",
       "  'XGBoost_BAG_L1': 0.07910609245300293,\n",
       "  'NeuralNetTorch_BAG_L1': 0.27385520935058594,\n",
       "  'LightGBMLarge_BAG_L1': 0.48143863677978516,\n",
       "  'WeightedEnsemble_L2': 0.0006325244903564453,\n",
       "  'LightGBMXT_BAG_L2': 0.388730525970459,\n",
       "  'LightGBM_BAG_L2': 0.04329085350036621,\n",
       "  'RandomForestMSE_BAG_L2': 0.1663069725036621,\n",
       "  'CatBoost_BAG_L2': 0.018906116485595703,\n",
       "  'ExtraTreesMSE_BAG_L2': 0.1652672290802002,\n",
       "  'NeuralNetFastAI_BAG_L2': 0.182053804397583,\n",
       "  'XGBoost_BAG_L2': 0.06279683113098145,\n",
       "  'NeuralNetTorch_BAG_L2': 0.30184245109558105,\n",
       "  'LightGBMLarge_BAG_L2': 0.09359216690063477,\n",
       "  'WeightedEnsemble_L3': 0.0011124610900878906},\n",
       " 'num_bag_folds': 8,\n",
       " 'max_stack_level': 3,\n",
       " 'model_hyperparams': {'KNeighborsUnif_BAG_L1': {'use_orig_features': True,\n",
       "   'max_base_models': 25,\n",
       "   'max_base_models_per_type': 5,\n",
       "   'save_bag_folds': True,\n",
       "   'use_child_oof': True},\n",
       "  'KNeighborsDist_BAG_L1': {'use_orig_features': True,\n",
       "   'max_base_models': 25,\n",
       "   'max_base_models_per_type': 5,\n",
       "   'save_bag_folds': True,\n",
       "   'use_child_oof': True},\n",
       "  'LightGBMXT_BAG_L1': {'use_orig_features': True,\n",
       "   'max_base_models': 25,\n",
       "   'max_base_models_per_type': 5,\n",
       "   'save_bag_folds': True},\n",
       "  'LightGBM_BAG_L1': {'use_orig_features': True,\n",
       "   'max_base_models': 25,\n",
       "   'max_base_models_per_type': 5,\n",
       "   'save_bag_folds': True},\n",
       "  'RandomForestMSE_BAG_L1': {'use_orig_features': True,\n",
       "   'max_base_models': 25,\n",
       "   'max_base_models_per_type': 5,\n",
       "   'save_bag_folds': True,\n",
       "   'use_child_oof': True},\n",
       "  'CatBoost_BAG_L1': {'use_orig_features': True,\n",
       "   'max_base_models': 25,\n",
       "   'max_base_models_per_type': 5,\n",
       "   'save_bag_folds': True},\n",
       "  'ExtraTreesMSE_BAG_L1': {'use_orig_features': True,\n",
       "   'max_base_models': 25,\n",
       "   'max_base_models_per_type': 5,\n",
       "   'save_bag_folds': True,\n",
       "   'use_child_oof': True},\n",
       "  'NeuralNetFastAI_BAG_L1': {'use_orig_features': True,\n",
       "   'max_base_models': 25,\n",
       "   'max_base_models_per_type': 5,\n",
       "   'save_bag_folds': True},\n",
       "  'XGBoost_BAG_L1': {'use_orig_features': True,\n",
       "   'max_base_models': 25,\n",
       "   'max_base_models_per_type': 5,\n",
       "   'save_bag_folds': True},\n",
       "  'NeuralNetTorch_BAG_L1': {'use_orig_features': True,\n",
       "   'max_base_models': 25,\n",
       "   'max_base_models_per_type': 5,\n",
       "   'save_bag_folds': True},\n",
       "  'LightGBMLarge_BAG_L1': {'use_orig_features': True,\n",
       "   'max_base_models': 25,\n",
       "   'max_base_models_per_type': 5,\n",
       "   'save_bag_folds': True},\n",
       "  'WeightedEnsemble_L2': {'use_orig_features': False,\n",
       "   'max_base_models': 25,\n",
       "   'max_base_models_per_type': 5,\n",
       "   'save_bag_folds': True},\n",
       "  'LightGBMXT_BAG_L2': {'use_orig_features': True,\n",
       "   'max_base_models': 25,\n",
       "   'max_base_models_per_type': 5,\n",
       "   'save_bag_folds': True},\n",
       "  'LightGBM_BAG_L2': {'use_orig_features': True,\n",
       "   'max_base_models': 25,\n",
       "   'max_base_models_per_type': 5,\n",
       "   'save_bag_folds': True},\n",
       "  'RandomForestMSE_BAG_L2': {'use_orig_features': True,\n",
       "   'max_base_models': 25,\n",
       "   'max_base_models_per_type': 5,\n",
       "   'save_bag_folds': True,\n",
       "   'use_child_oof': True},\n",
       "  'CatBoost_BAG_L2': {'use_orig_features': True,\n",
       "   'max_base_models': 25,\n",
       "   'max_base_models_per_type': 5,\n",
       "   'save_bag_folds': True},\n",
       "  'ExtraTreesMSE_BAG_L2': {'use_orig_features': True,\n",
       "   'max_base_models': 25,\n",
       "   'max_base_models_per_type': 5,\n",
       "   'save_bag_folds': True,\n",
       "   'use_child_oof': True},\n",
       "  'NeuralNetFastAI_BAG_L2': {'use_orig_features': True,\n",
       "   'max_base_models': 25,\n",
       "   'max_base_models_per_type': 5,\n",
       "   'save_bag_folds': True},\n",
       "  'XGBoost_BAG_L2': {'use_orig_features': True,\n",
       "   'max_base_models': 25,\n",
       "   'max_base_models_per_type': 5,\n",
       "   'save_bag_folds': True},\n",
       "  'NeuralNetTorch_BAG_L2': {'use_orig_features': True,\n",
       "   'max_base_models': 25,\n",
       "   'max_base_models_per_type': 5,\n",
       "   'save_bag_folds': True},\n",
       "  'LightGBMLarge_BAG_L2': {'use_orig_features': True,\n",
       "   'max_base_models': 25,\n",
       "   'max_base_models_per_type': 5,\n",
       "   'save_bag_folds': True},\n",
       "  'WeightedEnsemble_L3': {'use_orig_features': False,\n",
       "   'max_base_models': 25,\n",
       "   'max_base_models_per_type': 5,\n",
       "   'save_bag_folds': True}},\n",
       " 'leaderboard':                      model     score_val  pred_time_val    fit_time  \\\n",
       " 0      WeightedEnsemble_L2 -24231.008588       1.906380  199.970556   \n",
       " 1      WeightedEnsemble_L3 -24768.585791       4.335087  413.228463   \n",
       " 2     ExtraTreesMSE_BAG_L2 -25021.779885       3.213338  245.605891   \n",
       " 3          CatBoost_BAG_L1 -25048.461493       0.018497   42.934753   \n",
       " 4   RandomForestMSE_BAG_L2 -25292.294769       3.214378  248.746755   \n",
       " 5        LightGBMXT_BAG_L1 -25469.546830       0.354582   20.424681   \n",
       " 6          CatBoost_BAG_L2 -25691.649272       3.066977  275.276389   \n",
       " 7           XGBoost_BAG_L2 -26112.494653       3.110868  264.827366   \n",
       " 8        LightGBMXT_BAG_L2 -26207.741164       3.436801  265.638622   \n",
       " 9   NeuralNetFastAI_BAG_L1 -26526.622002       0.262830   32.928709   \n",
       " 10         LightGBM_BAG_L2 -26543.037237       3.091362  258.975864   \n",
       " 11         LightGBM_BAG_L1 -26580.303100       0.916878   34.766012   \n",
       " 12          XGBoost_BAG_L1 -27083.462610       0.079106   17.877359   \n",
       " 13   NeuralNetTorch_BAG_L2 -27517.393686       3.349913  292.668189   \n",
       " 14    LightGBMLarge_BAG_L2 -27529.939489       3.141663  275.738858   \n",
       " 15  NeuralNetFastAI_BAG_L2 -27539.328958       3.230124  281.141535   \n",
       " 16   NeuralNetTorch_BAG_L1 -28187.669419       0.273855   50.564331   \n",
       " 17    LightGBMLarge_BAG_L1 -28276.112859       0.481439   39.459736   \n",
       " 18    ExtraTreesMSE_BAG_L1 -28670.621374       0.180870    1.592892   \n",
       " 19  RandomForestMSE_BAG_L1 -29434.908885       0.238389    2.948544   \n",
       " 20   KNeighborsDist_BAG_L1 -47567.604258       0.022938    0.007343   \n",
       " 21   KNeighborsUnif_BAG_L1 -47794.793284       0.218687    0.007937   \n",
       " \n",
       "     pred_time_val_marginal  fit_time_marginal  stack_level  can_infer  \\\n",
       " 0                 0.000633           0.474710            2       True   \n",
       " 1                 0.001112           0.397500            3       True   \n",
       " 2                 0.165267           2.093594            2       True   \n",
       " 3                 0.018497          42.934753            1       True   \n",
       " 4                 0.166307           5.234458            2       True   \n",
       " 5                 0.354582          20.424681            1       True   \n",
       " 6                 0.018906          31.764092            2       True   \n",
       " 7                 0.062797          21.315069            2       True   \n",
       " 8                 0.388731          22.126325            2       True   \n",
       " 9                 0.262830          32.928709            1       True   \n",
       " 10                0.043291          15.463566            2       True   \n",
       " 11                0.916878          34.766012            1       True   \n",
       " 12                0.079106          17.877359            1       True   \n",
       " 13                0.301842          49.155891            2       True   \n",
       " 14                0.093592          32.226561            2       True   \n",
       " 15                0.182054          37.629238            2       True   \n",
       " 16                0.273855          50.564331            1       True   \n",
       " 17                0.481439          39.459736            1       True   \n",
       " 18                0.180870           1.592892            1       True   \n",
       " 19                0.238389           2.948544            1       True   \n",
       " 20                0.022938           0.007343            1       True   \n",
       " 21                0.218687           0.007937            1       True   \n",
       " \n",
       "     fit_order  \n",
       " 0          12  \n",
       " 1          22  \n",
       " 2          17  \n",
       " 3           6  \n",
       " 4          15  \n",
       " 5           3  \n",
       " 6          16  \n",
       " 7          19  \n",
       " 8          13  \n",
       " 9           8  \n",
       " 10         14  \n",
       " 11          4  \n",
       " 12          9  \n",
       " 13         20  \n",
       " 14         21  \n",
       " 15         18  \n",
       " 16         10  \n",
       " 17         11  \n",
       " 18          7  \n",
       " 19          5  \n",
       " 20          2  \n",
       " 21          1  }"
      ]
     },
     "execution_count": 134,
     "metadata": {},
     "output_type": "execute_result"
    }
   ],
   "source": [
    "predictor_with_important_features.fit_summary()"
   ]
  },
  {
   "cell_type": "code",
   "execution_count": 140,
   "metadata": {
    "tags": []
   },
   "outputs": [
    {
     "data": {
      "text/html": [
       "<div>\n",
       "<style scoped>\n",
       "    .dataframe tbody tr th:only-of-type {\n",
       "        vertical-align: middle;\n",
       "    }\n",
       "\n",
       "    .dataframe tbody tr th {\n",
       "        vertical-align: top;\n",
       "    }\n",
       "\n",
       "    .dataframe thead th {\n",
       "        text-align: right;\n",
       "    }\n",
       "</style>\n",
       "<table border=\"1\" class=\"dataframe\">\n",
       "  <thead>\n",
       "    <tr style=\"text-align: right;\">\n",
       "      <th></th>\n",
       "      <th>GrLivArea</th>\n",
       "      <th>OverallQual</th>\n",
       "      <th>TotalBsmtSF</th>\n",
       "      <th>GarageCars</th>\n",
       "      <th>LotArea</th>\n",
       "      <th>total_bathroom</th>\n",
       "      <th>OverallCond</th>\n",
       "      <th>BsmtExposure</th>\n",
       "      <th>BsmtQual</th>\n",
       "      <th>KitchenQual</th>\n",
       "      <th>...</th>\n",
       "      <th>OpenPorchSF</th>\n",
       "      <th>LotFrontage</th>\n",
       "      <th>Neighborhood_NoRidge</th>\n",
       "      <th>TotRmsAbvGrd</th>\n",
       "      <th>YearRemodAdd</th>\n",
       "      <th>BsmtUnfSF</th>\n",
       "      <th>ExterQual</th>\n",
       "      <th>BsmtFinType1</th>\n",
       "      <th>Fireplaces</th>\n",
       "      <th>total_basement_bathroom</th>\n",
       "    </tr>\n",
       "  </thead>\n",
       "  <tbody>\n",
       "    <tr>\n",
       "      <th>0</th>\n",
       "      <td>896</td>\n",
       "      <td>5</td>\n",
       "      <td>882.0</td>\n",
       "      <td>1.0</td>\n",
       "      <td>11622</td>\n",
       "      <td>1</td>\n",
       "      <td>6</td>\n",
       "      <td>1.0</td>\n",
       "      <td>3.0</td>\n",
       "      <td>TA</td>\n",
       "      <td>...</td>\n",
       "      <td>0</td>\n",
       "      <td>80.0</td>\n",
       "      <td>0</td>\n",
       "      <td>5</td>\n",
       "      <td>1961</td>\n",
       "      <td>270.0</td>\n",
       "      <td>3</td>\n",
       "      <td>3.0</td>\n",
       "      <td>0</td>\n",
       "      <td>0.0</td>\n",
       "    </tr>\n",
       "    <tr>\n",
       "      <th>1</th>\n",
       "      <td>1329</td>\n",
       "      <td>6</td>\n",
       "      <td>1329.0</td>\n",
       "      <td>1.0</td>\n",
       "      <td>14267</td>\n",
       "      <td>2</td>\n",
       "      <td>6</td>\n",
       "      <td>1.0</td>\n",
       "      <td>3.0</td>\n",
       "      <td>Gd</td>\n",
       "      <td>...</td>\n",
       "      <td>36</td>\n",
       "      <td>81.0</td>\n",
       "      <td>0</td>\n",
       "      <td>6</td>\n",
       "      <td>1958</td>\n",
       "      <td>406.0</td>\n",
       "      <td>3</td>\n",
       "      <td>5.0</td>\n",
       "      <td>0</td>\n",
       "      <td>0.0</td>\n",
       "    </tr>\n",
       "    <tr>\n",
       "      <th>2</th>\n",
       "      <td>1629</td>\n",
       "      <td>5</td>\n",
       "      <td>928.0</td>\n",
       "      <td>2.0</td>\n",
       "      <td>13830</td>\n",
       "      <td>3</td>\n",
       "      <td>5</td>\n",
       "      <td>1.0</td>\n",
       "      <td>4.0</td>\n",
       "      <td>TA</td>\n",
       "      <td>...</td>\n",
       "      <td>34</td>\n",
       "      <td>74.0</td>\n",
       "      <td>0</td>\n",
       "      <td>6</td>\n",
       "      <td>1998</td>\n",
       "      <td>137.0</td>\n",
       "      <td>3</td>\n",
       "      <td>6.0</td>\n",
       "      <td>1</td>\n",
       "      <td>0.0</td>\n",
       "    </tr>\n",
       "    <tr>\n",
       "      <th>3</th>\n",
       "      <td>1604</td>\n",
       "      <td>6</td>\n",
       "      <td>926.0</td>\n",
       "      <td>2.0</td>\n",
       "      <td>9978</td>\n",
       "      <td>3</td>\n",
       "      <td>6</td>\n",
       "      <td>1.0</td>\n",
       "      <td>3.0</td>\n",
       "      <td>Gd</td>\n",
       "      <td>...</td>\n",
       "      <td>36</td>\n",
       "      <td>78.0</td>\n",
       "      <td>0</td>\n",
       "      <td>7</td>\n",
       "      <td>1998</td>\n",
       "      <td>324.0</td>\n",
       "      <td>3</td>\n",
       "      <td>6.0</td>\n",
       "      <td>1</td>\n",
       "      <td>0.0</td>\n",
       "    </tr>\n",
       "    <tr>\n",
       "      <th>4</th>\n",
       "      <td>1280</td>\n",
       "      <td>8</td>\n",
       "      <td>1280.0</td>\n",
       "      <td>2.0</td>\n",
       "      <td>5005</td>\n",
       "      <td>2</td>\n",
       "      <td>5</td>\n",
       "      <td>1.0</td>\n",
       "      <td>4.0</td>\n",
       "      <td>Gd</td>\n",
       "      <td>...</td>\n",
       "      <td>82</td>\n",
       "      <td>43.0</td>\n",
       "      <td>0</td>\n",
       "      <td>5</td>\n",
       "      <td>1992</td>\n",
       "      <td>1017.0</td>\n",
       "      <td>4</td>\n",
       "      <td>5.0</td>\n",
       "      <td>0</td>\n",
       "      <td>0.0</td>\n",
       "    </tr>\n",
       "    <tr>\n",
       "      <th>...</th>\n",
       "      <td>...</td>\n",
       "      <td>...</td>\n",
       "      <td>...</td>\n",
       "      <td>...</td>\n",
       "      <td>...</td>\n",
       "      <td>...</td>\n",
       "      <td>...</td>\n",
       "      <td>...</td>\n",
       "      <td>...</td>\n",
       "      <td>...</td>\n",
       "      <td>...</td>\n",
       "      <td>...</td>\n",
       "      <td>...</td>\n",
       "      <td>...</td>\n",
       "      <td>...</td>\n",
       "      <td>...</td>\n",
       "      <td>...</td>\n",
       "      <td>...</td>\n",
       "      <td>...</td>\n",
       "      <td>...</td>\n",
       "      <td>...</td>\n",
       "    </tr>\n",
       "    <tr>\n",
       "      <th>1454</th>\n",
       "      <td>1092</td>\n",
       "      <td>4</td>\n",
       "      <td>546.0</td>\n",
       "      <td>0.0</td>\n",
       "      <td>1936</td>\n",
       "      <td>2</td>\n",
       "      <td>7</td>\n",
       "      <td>1.0</td>\n",
       "      <td>3.0</td>\n",
       "      <td>TA</td>\n",
       "      <td>...</td>\n",
       "      <td>0</td>\n",
       "      <td>21.0</td>\n",
       "      <td>0</td>\n",
       "      <td>5</td>\n",
       "      <td>1970</td>\n",
       "      <td>546.0</td>\n",
       "      <td>3</td>\n",
       "      <td>1.0</td>\n",
       "      <td>0</td>\n",
       "      <td>0.0</td>\n",
       "    </tr>\n",
       "    <tr>\n",
       "      <th>1455</th>\n",
       "      <td>1092</td>\n",
       "      <td>4</td>\n",
       "      <td>546.0</td>\n",
       "      <td>1.0</td>\n",
       "      <td>1894</td>\n",
       "      <td>2</td>\n",
       "      <td>5</td>\n",
       "      <td>1.0</td>\n",
       "      <td>3.0</td>\n",
       "      <td>TA</td>\n",
       "      <td>...</td>\n",
       "      <td>24</td>\n",
       "      <td>21.0</td>\n",
       "      <td>0</td>\n",
       "      <td>6</td>\n",
       "      <td>1970</td>\n",
       "      <td>294.0</td>\n",
       "      <td>3</td>\n",
       "      <td>3.0</td>\n",
       "      <td>0</td>\n",
       "      <td>0.0</td>\n",
       "    </tr>\n",
       "    <tr>\n",
       "      <th>1456</th>\n",
       "      <td>1224</td>\n",
       "      <td>5</td>\n",
       "      <td>1224.0</td>\n",
       "      <td>2.0</td>\n",
       "      <td>20000</td>\n",
       "      <td>1</td>\n",
       "      <td>7</td>\n",
       "      <td>1.0</td>\n",
       "      <td>3.0</td>\n",
       "      <td>TA</td>\n",
       "      <td>...</td>\n",
       "      <td>0</td>\n",
       "      <td>160.0</td>\n",
       "      <td>0</td>\n",
       "      <td>7</td>\n",
       "      <td>1996</td>\n",
       "      <td>0.0</td>\n",
       "      <td>3</td>\n",
       "      <td>5.0</td>\n",
       "      <td>1</td>\n",
       "      <td>1.0</td>\n",
       "    </tr>\n",
       "    <tr>\n",
       "      <th>1457</th>\n",
       "      <td>970</td>\n",
       "      <td>5</td>\n",
       "      <td>912.0</td>\n",
       "      <td>0.0</td>\n",
       "      <td>10441</td>\n",
       "      <td>1</td>\n",
       "      <td>5</td>\n",
       "      <td>3.0</td>\n",
       "      <td>4.0</td>\n",
       "      <td>TA</td>\n",
       "      <td>...</td>\n",
       "      <td>32</td>\n",
       "      <td>62.0</td>\n",
       "      <td>0</td>\n",
       "      <td>6</td>\n",
       "      <td>1992</td>\n",
       "      <td>575.0</td>\n",
       "      <td>3</td>\n",
       "      <td>6.0</td>\n",
       "      <td>0</td>\n",
       "      <td>1.0</td>\n",
       "    </tr>\n",
       "    <tr>\n",
       "      <th>1458</th>\n",
       "      <td>2000</td>\n",
       "      <td>7</td>\n",
       "      <td>996.0</td>\n",
       "      <td>3.0</td>\n",
       "      <td>9627</td>\n",
       "      <td>3</td>\n",
       "      <td>5</td>\n",
       "      <td>3.0</td>\n",
       "      <td>4.0</td>\n",
       "      <td>TA</td>\n",
       "      <td>...</td>\n",
       "      <td>48</td>\n",
       "      <td>74.0</td>\n",
       "      <td>0</td>\n",
       "      <td>9</td>\n",
       "      <td>1994</td>\n",
       "      <td>238.0</td>\n",
       "      <td>3</td>\n",
       "      <td>2.0</td>\n",
       "      <td>1</td>\n",
       "      <td>0.0</td>\n",
       "    </tr>\n",
       "  </tbody>\n",
       "</table>\n",
       "<p>1459 rows × 22 columns</p>\n",
       "</div>"
      ],
      "text/plain": [
       "      GrLivArea  OverallQual  TotalBsmtSF  GarageCars  LotArea  \\\n",
       "0           896            5        882.0         1.0    11622   \n",
       "1          1329            6       1329.0         1.0    14267   \n",
       "2          1629            5        928.0         2.0    13830   \n",
       "3          1604            6        926.0         2.0     9978   \n",
       "4          1280            8       1280.0         2.0     5005   \n",
       "...         ...          ...          ...         ...      ...   \n",
       "1454       1092            4        546.0         0.0     1936   \n",
       "1455       1092            4        546.0         1.0     1894   \n",
       "1456       1224            5       1224.0         2.0    20000   \n",
       "1457        970            5        912.0         0.0    10441   \n",
       "1458       2000            7        996.0         3.0     9627   \n",
       "\n",
       "      total_bathroom  OverallCond  BsmtExposure  BsmtQual KitchenQual  ...  \\\n",
       "0                  1            6           1.0       3.0          TA  ...   \n",
       "1                  2            6           1.0       3.0          Gd  ...   \n",
       "2                  3            5           1.0       4.0          TA  ...   \n",
       "3                  3            6           1.0       3.0          Gd  ...   \n",
       "4                  2            5           1.0       4.0          Gd  ...   \n",
       "...              ...          ...           ...       ...         ...  ...   \n",
       "1454               2            7           1.0       3.0          TA  ...   \n",
       "1455               2            5           1.0       3.0          TA  ...   \n",
       "1456               1            7           1.0       3.0          TA  ...   \n",
       "1457               1            5           3.0       4.0          TA  ...   \n",
       "1458               3            5           3.0       4.0          TA  ...   \n",
       "\n",
       "      OpenPorchSF  LotFrontage  Neighborhood_NoRidge  TotRmsAbvGrd  \\\n",
       "0               0         80.0                     0             5   \n",
       "1              36         81.0                     0             6   \n",
       "2              34         74.0                     0             6   \n",
       "3              36         78.0                     0             7   \n",
       "4              82         43.0                     0             5   \n",
       "...           ...          ...                   ...           ...   \n",
       "1454            0         21.0                     0             5   \n",
       "1455           24         21.0                     0             6   \n",
       "1456            0        160.0                     0             7   \n",
       "1457           32         62.0                     0             6   \n",
       "1458           48         74.0                     0             9   \n",
       "\n",
       "      YearRemodAdd  BsmtUnfSF  ExterQual  BsmtFinType1  Fireplaces  \\\n",
       "0             1961      270.0          3           3.0           0   \n",
       "1             1958      406.0          3           5.0           0   \n",
       "2             1998      137.0          3           6.0           1   \n",
       "3             1998      324.0          3           6.0           1   \n",
       "4             1992     1017.0          4           5.0           0   \n",
       "...            ...        ...        ...           ...         ...   \n",
       "1454          1970      546.0          3           1.0           0   \n",
       "1455          1970      294.0          3           3.0           0   \n",
       "1456          1996        0.0          3           5.0           1   \n",
       "1457          1992      575.0          3           6.0           0   \n",
       "1458          1994      238.0          3           2.0           1   \n",
       "\n",
       "      total_basement_bathroom  \n",
       "0                         0.0  \n",
       "1                         0.0  \n",
       "2                         0.0  \n",
       "3                         0.0  \n",
       "4                         0.0  \n",
       "...                       ...  \n",
       "1454                      0.0  \n",
       "1455                      0.0  \n",
       "1456                      1.0  \n",
       "1457                      1.0  \n",
       "1458                      0.0  \n",
       "\n",
       "[1459 rows x 22 columns]"
      ]
     },
     "execution_count": 140,
     "metadata": {},
     "output_type": "execute_result"
    }
   ],
   "source": [
    "test_df[important_features]"
   ]
  },
  {
   "cell_type": "code",
   "execution_count": 142,
   "metadata": {
    "tags": []
   },
   "outputs": [
    {
     "name": "stderr",
     "output_type": "stream",
     "text": [
      "WARNING: Int features without null values at train time contain null values at inference time! Imputing nulls to 0. To avoid this, pass the features as floats during fit!\n",
      "WARNING: Int features with nulls: ['TotalBsmtSF', 'GarageCars', 'KitchenQual', 'BsmtUnfSF', 'total_basement_bathroom']\n"
     ]
    },
    {
     "data": {
      "text/plain": [
       "0    123177.687500\n",
       "1    154191.640625\n",
       "2    183959.578125\n",
       "3    192366.609375\n",
       "4    181261.031250\n",
       "Name: SalePrice, dtype: float32"
      ]
     },
     "execution_count": 142,
     "metadata": {},
     "output_type": "execute_result"
    }
   ],
   "source": [
    "predictions_with_important_features = predictor_with_important_features.predict(test_df[important_features])\n",
    "predictions_with_important_features.head()\n",
    "\n"
   ]
  },
  {
   "cell_type": "code",
   "execution_count": 143,
   "metadata": {
    "tags": []
   },
   "outputs": [
    {
     "name": "stdout",
     "output_type": "stream",
     "text": [
      "<class 'pandas.core.frame.DataFrame'>\n",
      "RangeIndex: 1459 entries, 0 to 1458\n",
      "Data columns (total 2 columns):\n",
      " #   Column     Non-Null Count  Dtype  \n",
      "---  ------     --------------  -----  \n",
      " 0   Id         1459 non-null   int64  \n",
      " 1   SalePrice  1459 non-null   float64\n",
      "dtypes: float64(1), int64(1)\n",
      "memory usage: 22.9 KB\n"
     ]
    }
   ],
   "source": [
    "submission = pd.read_csv(\"./data/sample_submission.csv\")\n",
    "submission.info()"
   ]
  },
  {
   "cell_type": "code",
   "execution_count": 145,
   "metadata": {
    "tags": []
   },
   "outputs": [],
   "source": [
    "submission[\"SalePrice\"] = predictions_with_important_features\n",
    "submission.loc[submission[\"SalePrice\"] < 0, \"SalePrice\"] = 0\n",
    "submission.to_csv(\"submission_important_features_only.csv\", index=False)"
   ]
  },
  {
   "cell_type": "code",
   "execution_count": null,
   "metadata": {},
   "outputs": [],
   "source": [
    "!kaggle competitions submit -c house-prices-advanced-regression-techniques -f submission.csv -m \"House Prediction result first trial\""
   ]
  },
  {
   "cell_type": "code",
   "execution_count": null,
   "metadata": {},
   "outputs": [],
   "source": [
    "import autogluon.core as ag\n",
    "import pandas as pd\n",
    "from autogluon.tabular import TabularPredictor\n",
    "\n",
    "\n",
    "gbm_options = {\n",
    "    # specifies non-default hyperparameter values for lightGBM gradient boosted trees\n",
    "    'num_boost_round': 100,\n",
    "    # number of boosting rounds (controls training time of GBM models)\n",
    "    'num_leaves': ag.space.Int(lower=26, upper=66, default=36),\n",
    "    # number of leaves in trees (integer hyperparameter)\n",
    "}\n",
    "\n",
    "xgb_options = {\n",
    "    'learning_rate': ag.space.Real(1e-4, 1e-2, default=5e-4, log=True),\n",
    "    'max_depth': 3,\n",
    "    'subsample': 0.6,\n",
    "}\n",
    "\n",
    "hyperparameters = {\n",
    "    # hyperparameters of each model type\n",
    "    'GBM': gbm_options,\n",
    "    'XGB': xgb_options,\n",
    "}\n",
    "\n",
    "\n",
    "hyperparameter_tune_kwargs = {\n",
    "    # HPO is not performed unless hyperparameter_tune_kwargs is specified\n",
    "    'num_trials': 10,\n",
    "    'scheduler' : 'local',\n",
    "    'searcher': 'auto',\n",
    "}\n",
    "\n",
    "predictor_hpo = TabularPredictor(\n",
    "    label=\"SalePrice\",\n",
    "    eval_metric=\"root_mean_squared_error\"). \\\n",
    "    fit(\n",
    "    train_data=train_df[final_training_features],\n",
    "    time_limit=600,\n",
    "    presets=\"best_quality\",\n",
    "    hyperparameters=hyperparameters,\n",
    "    hyperparameter_tune_kwargs=hyperparameter_tune_kwargs,\n",
    ")"
   ]
  },
  {
   "cell_type": "code",
   "execution_count": null,
   "metadata": {
    "ExecuteTime": {
     "end_time": "2023-08-27T21:05:24.701285Z",
     "start_time": "2023-08-27T21:05:24.606346Z"
    },
    "collapsed": false,
    "jupyter": {
     "outputs_hidden": false
    },
    "tags": []
   },
   "outputs": [],
   "source": [
    "predictions_hpo = predictor_hpo.predict(test_df)\n",
    "predictions_hpo.head()"
   ]
  },
  {
   "cell_type": "code",
   "execution_count": 9,
   "metadata": {
    "tags": []
   },
   "outputs": [
    {
     "name": "stderr",
     "output_type": "stream",
     "text": [
      "Found 1 mismatches between original and current metadata:\n",
      "\tINFO: AutoGluon Python micro version mismatch (original=3.10.10, current=3.10.12)\n"
     ]
    }
   ],
   "source": [
    "predictor = TabularPredictor.load(\"./AutogluonModels/ag-20230819_192610\", require_version_match=False, require_py_version_match=False)"
   ]
  },
  {
   "cell_type": "code",
   "execution_count": 12,
   "metadata": {
    "tags": []
   },
   "outputs": [
    {
     "ename": "NameError",
     "evalue": "name 'train_data' is not defined",
     "output_type": "error",
     "traceback": [
      "\u001b[0;31m---------------------------------------------------------------------------\u001b[0m",
      "\u001b[0;31mNameError\u001b[0m                                 Traceback (most recent call last)",
      "Cell \u001b[0;32mIn[12], line 1\u001b[0m\n\u001b[0;32m----> 1\u001b[0m predictor\u001b[38;5;241m.\u001b[39mfeature_importance(\u001b[43mtrain_data\u001b[49m)\n",
      "\u001b[0;31mNameError\u001b[0m: name 'train_data' is not defined"
     ]
    }
   ],
   "source": [
    "predictor.feature_importance(train_data)"
   ]
  },
  {
   "cell_type": "code",
   "execution_count": null,
   "metadata": {
    "tags": []
   },
   "outputs": [],
   "source": [
    "submission = pd.read_csv(\"./data/sample_submission.csv\")\n",
    "submission.info()"
   ]
  },
  {
   "cell_type": "code",
   "execution_count": null,
   "metadata": {
    "tags": []
   },
   "outputs": [],
   "source": [
    "submission[\"SalePrice\"] = predictions_hpo\n",
    "submission.loc[submission[\"SalePrice\"] < 0, \"SalePrice\"] = 0\n",
    "submission.to_csv(\"submission.csv\", index=False)"
   ]
  },
  {
   "cell_type": "code",
   "execution_count": null,
   "metadata": {
    "collapsed": false,
    "jupyter": {
     "outputs_hidden": false
    },
    "tags": []
   },
   "outputs": [],
   "source": [
    "!kaggle competitions submit -c house-prices-advanced-regression-techniques -f submission.csv -m \"House Prediction result first trial\""
   ]
  },
  {
   "cell_type": "code",
   "execution_count": 126,
   "metadata": {
    "tags": []
   },
   "outputs": [
    {
     "name": "stdout",
     "output_type": "stream",
     "text": [
      "/bin/sh: kaggle: command not found\n"
     ]
    }
   ],
   "source": [
    "!kaggle competitions submit -c bike-sharing-demand -f submission_new_hpo.csv -m \"new features with hyperparameters\""
   ]
  },
  {
   "cell_type": "code",
   "execution_count": null,
   "metadata": {},
   "outputs": [],
   "source": [
    "import autogluon.core as ag\n",
    "import pandas as pd\n",
    "from autogluon.tabular import TabularPredictor\n",
    "\n",
    "\n",
    "gbm_options = {\n",
    "    # specifies non-default hyperparameter values for lightGBM gradient boosted trees\n",
    "    'num_boost_round': 100,\n",
    "    # number of boosting rounds (controls training time of GBM models)\n",
    "    'num_leaves': ag.space.Int(lower=26, upper=66, default=36),\n",
    "    # number of leaves in trees (integer hyperparameter)\n",
    "}\n",
    "\n",
    "xgb_options = {\n",
    "    'learning_rate': ag.space.Real(1e-4, 1e-2, default=5e-4, log=True),\n",
    "    'max_depth': 3,\n",
    "    'subsample': 0.6,\n",
    "}\n",
    "\n",
    "hyperparameters = {\n",
    "    # hyperparameters of each model type\n",
    "    'GBM': gbm_options,\n",
    "    'XGB': xgb_options,\n",
    "}\n",
    "\n",
    "\n",
    "hyperparameter_tune_kwargs = {\n",
    "    # HPO is not performed unless hyperparameter_tune_kwargs is specified\n",
    "    'num_trials': 10,\n",
    "    'scheduler' : 'local',\n",
    "    'searcher': 'auto',\n",
    "}\n",
    "\n",
    "predictor = TabularPredictor(\n",
    "    label=\"SalePrice\",\n",
    "    eval_metric=\"root_mean_squared_error\"). \\\n",
    "    fit(\n",
    "    train_data=train_df[final_training_features],\n",
    "    time_limit=600,\n",
    "    presets=\"best_quality\" ,\n",
    "    hyperparameters=hyperparameters,\n",
    "    hyperparameter_tune_kwargs=hyperparameter_tune_kwargs,\n",
    ")"
   ]
  }
 ],
 "metadata": {
  "kernelspec": {
   "display_name": "conda_pytorch_p310",
   "language": "python",
   "name": "conda_pytorch_p310"
  },
  "language_info": {
   "codemirror_mode": {
    "name": "ipython",
    "version": 3
   },
   "file_extension": ".py",
   "mimetype": "text/x-python",
   "name": "python",
   "nbconvert_exporter": "python",
   "pygments_lexer": "ipython3",
   "version": "3.10.12"
  }
 },
 "nbformat": 4,
 "nbformat_minor": 4
}
