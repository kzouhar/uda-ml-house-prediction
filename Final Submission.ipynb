{
 "cells": [
  {
   "cell_type": "markdown",
   "metadata": {},
   "source": [
    "The are 81 features describing each sales transaction in Alem, IOWA. The first step in the process to analyze the features and get a first glimpse of which feature/data is relevant to the prediction. I decided to follow the 'divide to conquer' approach by grouping the features in different following categories that known to be the areas of interest when a customer is shopping for the dream house.\n",
    "\n",
    "I defined the following main categories:\n",
    "\n",
    "* Kitchen features:\n",
    "* Basement Features: \"BsmtQual\", \"BsmtCond\", \"BsmtExposure\", \"BsmtFinType1\", \"BsmtFinSF1\", \"BsmtFinType2\", \"BsmtFinSF2\", \"BsmtUnfSF\"and  \"TotalBsmtSF\"\n",
    "* Garage Features:\n",
    " \"GarageYrBlt\", \"GarageFinish\", \"GarageCars\", \"GarageArea\", \"GarageQual\", \"GarageCond\"\n",
    "* Porch Features: \"OpenPorchSF\", \"EnclosedPorch\", \"3SsnPorch\", \"ScreenPorch\"\n",
    "* External Features: Exterior1st, Exterior2nd, RoofMatl, RoofStyle, MasVnrArea, ExterQual, ExterCond, Foundation\n",
    "* Size features:\n",
    "* Quality Features: OverallQual, OverallCond\n",
    "* House Type Features: \"BldgType\", \"HouseStyle\"\n",
    "* House Location Features:\n"
   ]
  },
  {
   "cell_type": "markdown",
   "metadata": {},
   "source": [
    "# Getting Started"
   ]
  },
  {
   "cell_type": "markdown",
   "metadata": {},
   "source": [
    "n this project, you will evaluate the performance and predictive power of a model that has been trained and tested on data collected from homes in suburbs of Ames, Iowa. A model trained on this data that is seen as a *good fit* could then be used to make certain predictions about a home — in particular, its monetary value. This model would prove to be invaluable for someone like a real estate agent who could make use of such information on a daily basis.\n",
    "\n",
    "The dataset for this project originates from the [Kaggle House Price Precition](https://www.kaggle.com/competitions/house-prices-advanced-regression-techniques/data). The dataset has records of 1460 house sold between 2010 and 2016 in Ames, Iowa. Each data record captures a list of 79 house features (ie: size, location) and the corresponding sale price.\n",
    "\n",
    "House features are described in a separate file: data_description.txt\n",
    "\n",
    "The dataset were compiled by Dean De Cok and collect the house sales in the area of Ames, Iowa.\n",
    "\n",
    "Run the following cell to load the data set:"
   ]
  },
  {
   "cell_type": "code",
   "execution_count": 5,
   "metadata": {
    "ExecuteTime": {
     "end_time": "2023-08-26T17:18:22.125040Z",
     "start_time": "2023-08-26T17:18:22.095136Z"
    },
    "collapsed": false,
    "jupyter": {
     "outputs_hidden": false
    },
    "tags": []
   },
   "outputs": [
    {
     "name": "stdout",
     "output_type": "stream",
     "text": [
      "Ames housing dataset has 1460 data points with 81 variables each.\n"
     ]
    }
   ],
   "source": [
    "import numpy as np\n",
    "import pandas as pd\n",
    "\n",
    "\n",
    "# read in test and train data\n",
    "\n",
    "train_df = pd.read_csv(\"./data/train.csv\")\n",
    "test_df = pd.read_csv(\"./data/test.csv\")\n",
    "print(\"Ames housing dataset has {} data points with {} variables each.\".format(*train_df.shape))\n",
    "\n"
   ]
  },
  {
   "cell_type": "markdown",
   "metadata": {},
   "source": [
    "Duplicates are removed"
   ]
  },
  {
   "cell_type": "code",
   "execution_count": 6,
   "metadata": {
    "ExecuteTime": {
     "end_time": "2023-08-26T18:11:16.282625Z",
     "start_time": "2023-08-26T18:11:16.267044Z"
    },
    "collapsed": false,
    "jupyter": {
     "outputs_hidden": false
    },
    "tags": []
   },
   "outputs": [
    {
     "name": "stdout",
     "output_type": "stream",
     "text": [
      "Test (1459, 80) Train (1460, 81)\n"
     ]
    }
   ],
   "source": [
    "train_df.duplicated(subset=None, keep=\"first\")\n",
    "test_df.duplicated(subset=None, keep=\"first\")\n",
    "print(\"Test\", test_df.shape, \"Train\", train_df.shape)\n"
   ]
  },
  {
   "cell_type": "markdown",
   "metadata": {},
   "source": [
    "# Data Exploration"
   ]
  },
  {
   "cell_type": "markdown",
   "metadata": {},
   "source": [
    "They are 81 features describing each sales transaction in Alem, IOWA. The first step in the process to analyze the features and get a first glimpse of which feature/data is relevant to the prediction. I decided to follow the 'divide to conquer' approach by grouping the features in different following categories that known to be the areas of interest when a customer is shopping for the dream house.\n",
    "\n",
    "I defined the following main categories:\n",
    "\n",
    "* Kitchen features:\n",
    "* Basement Features: \"BsmtQual\", \"BsmtCond\", \"BsmtExposure\", \"BsmtFinType1\", \"BsmtFinSF1\", \"BsmtFinType2\", \"BsmtFinSF2\", \"BsmtUnfSF\"and  \"TotalBsmtSF\"\n",
    "* Garage Features:\n",
    "\"GarageYrBlt\", \"GarageFinish\", \"GarageCars\", \"GarageArea\", \"GarageQual\", \"GarageCond\"\n",
    "* Porch Features: \"OpenPorchSF\", \"EnclosedPorch\", \"3SsnPorch\", \"ScreenPorch\"\n",
    "* External Features: Exterior1st, Exterior2nd, RoofMatl, RoofStyle, MasVnrArea, ExterQual, ExterCond, Foundation\n",
    "* Size features:\n",
    "* Quality Features: OverallQual, OverallCond\n",
    "* House Type Features: \"BldgType\", \"HouseStyle\"\n",
    "* House Location Features:"
   ]
  },
  {
   "cell_type": "markdown",
   "metadata": {},
   "source": [
    "I will then analyze each feature within each category and find opportunities:\n",
    "\n",
    "* To delete the feature if doesn't add a significant value in the house price prediction.\n",
    "* Transform numerical features to categorial features when they don't describe a magnitude.\n",
    "* Transform categorial features to ordinal features when they describe a magnitude (i.e.: Excellent, Very Good, Good...e).\n",
    "* Transform categorial feature to One Hot encoded feature when possible.\n",
    "* Suppress duplicated features or features that are strongly correlated with each other to avoid duplication and redundancy and supress features that has very low variance.\n"
   ]
  },
  {
   "cell_type": "code",
   "execution_count": 7,
   "metadata": {
    "ExecuteTime": {
     "end_time": "2023-08-26T17:32:33.724645Z",
     "start_time": "2023-08-26T17:32:33.721432Z"
    },
    "collapsed": false,
    "jupyter": {
     "outputs_hidden": false
    },
    "tags": []
   },
   "outputs": [
    {
     "name": "stdout",
     "output_type": "stream",
     "text": [
      "Statistics for Boston housing dataset:\n",
      "\n",
      "Minimum price: $34900\n",
      "Maximum price: $755000\n",
      "Mean price: $180921.19589041095\n",
      "Median price $163000.0\n",
      "Standard deviation of prices: $79442.50288288662\n"
     ]
    }
   ],
   "source": [
    "# TODO: Minimum price of the data\n",
    "minimum_price = train_df[\"SalePrice\"].min()\n",
    "\n",
    "# TODO: Maximum price of the data\n",
    "maximum_price = train_df[\"SalePrice\"].max()\n",
    "\n",
    "# TODO: Mean price of the data\n",
    "mean_price = train_df[\"SalePrice\"].mean()\n",
    "\n",
    "# TODO: Median price of the data\n",
    "median_price = train_df[\"SalePrice\"].median()\n",
    "\n",
    "# TODO: Standard deviation of prices of the data\n",
    "std_price = train_df[\"SalePrice\"].std()\n",
    "\n",
    "# Show the calculated statistics\n",
    "print(\"Statistics for Boston housing dataset:\\n\")\n",
    "print(\"Minimum price: ${}\".format(minimum_price))\n",
    "print(\"Maximum price: ${}\".format(maximum_price))\n",
    "print(\"Mean price: ${}\".format(mean_price))\n",
    "print(\"Median price ${}\".format(median_price))\n",
    "print(\"Standard deviation of prices: ${}\".format(std_price))"
   ]
  },
  {
   "cell_type": "markdown",
   "metadata": {},
   "source": [
    "## Feature Observation"
   ]
  },
  {
   "cell_type": "markdown",
   "metadata": {},
   "source": [
    "They are 81 features describing each sales transaction in Alem, IOWA. The first step in the process to analyze the features and get a first glimpse of which feature/data is relevant to the prediction. I decided to follow the 'divide to conquer' approach by grouping the features in different following categories that known to be the areas of interest when a customer is shopping for the dream house.\n",
    "\n",
    "I defined the following main categories:\n",
    "\n",
    "* Kitchen features:\n",
    "* Basement Features: \"BsmtQual\", \"BsmtCond\", \"BsmtExposure\", \"BsmtFinType1\", \"BsmtFinSF1\", \"BsmtFinType2\", \"BsmtFinSF2\", \"BsmtUnfSF\"and  \"TotalBsmtSF\"\n",
    "* Garage Features:\n",
    "\"GarageYrBlt\", \"GarageFinish\", \"GarageCars\", \"GarageArea\", \"GarageQual\", \"GarageCond\"\n",
    "* Porch Features: \"OpenPorchSF\", \"EnclosedPorch\", \"3SsnPorch\", \"ScreenPorch\"\n",
    "* External Features: Exterior1st, Exterior2nd, RoofMatl, RoofStyle, MasVnrArea, ExterQual, ExterCond, Foundation\n",
    "* Size features:\n",
    "* Quality Features: OverallQual, OverallCond\n",
    "* House Type Features: \"BldgType\", \"HouseStyle\"\n",
    "* House Location Features\n",
    "\n",
    "I will then analyze each feature within each category and find opportunities:\n",
    "\n",
    "* To delete the feature if doesn't add a significant value in the house price prediction.\n",
    "* Transform numerical features to categorial features when they don't describe a magnitude.\n",
    "* Transform categorial features to ordinal features when they describe a magnitude (i.e.: Excellent, Very Good, Good...e).\n",
    "* Transform categorial feature to One Hot encoded feature when possible.\n",
    "* Suppress duplicated features or features that are strongly correlated with each other to avoid duplication and redundancy and supress features that has very low variance.\n",
    "\n"
   ]
  },
  {
   "cell_type": "markdown",
   "metadata": {},
   "source": [
    "Let's examine the data type of each feature:"
   ]
  },
  {
   "cell_type": "code",
   "execution_count": 8,
   "metadata": {
    "ExecuteTime": {
     "end_time": "2023-08-26T18:06:07.907041Z",
     "start_time": "2023-08-26T18:06:07.888318Z"
    },
    "collapsed": false,
    "jupyter": {
     "outputs_hidden": false
    },
    "tags": []
   },
   "outputs": [
    {
     "name": "stdout",
     "output_type": "stream",
     "text": [
      "<class 'pandas.core.frame.DataFrame'>\n",
      "RangeIndex: 1460 entries, 0 to 1459\n",
      "Data columns (total 81 columns):\n",
      " #   Column         Non-Null Count  Dtype  \n",
      "---  ------         --------------  -----  \n",
      " 0   Id             1460 non-null   int64  \n",
      " 1   MSSubClass     1460 non-null   int64  \n",
      " 2   MSZoning       1460 non-null   object \n",
      " 3   LotFrontage    1201 non-null   float64\n",
      " 4   LotArea        1460 non-null   int64  \n",
      " 5   Street         1460 non-null   object \n",
      " 6   Alley          91 non-null     object \n",
      " 7   LotShape       1460 non-null   object \n",
      " 8   LandContour    1460 non-null   object \n",
      " 9   Utilities      1460 non-null   object \n",
      " 10  LotConfig      1460 non-null   object \n",
      " 11  LandSlope      1460 non-null   object \n",
      " 12  Neighborhood   1460 non-null   object \n",
      " 13  Condition1     1460 non-null   object \n",
      " 14  Condition2     1460 non-null   object \n",
      " 15  BldgType       1460 non-null   object \n",
      " 16  HouseStyle     1460 non-null   object \n",
      " 17  OverallQual    1460 non-null   int64  \n",
      " 18  OverallCond    1460 non-null   int64  \n",
      " 19  YearBuilt      1460 non-null   int64  \n",
      " 20  YearRemodAdd   1460 non-null   int64  \n",
      " 21  RoofStyle      1460 non-null   object \n",
      " 22  RoofMatl       1460 non-null   object \n",
      " 23  Exterior1st    1460 non-null   object \n",
      " 24  Exterior2nd    1460 non-null   object \n",
      " 25  MasVnrType     1452 non-null   object \n",
      " 26  MasVnrArea     1452 non-null   float64\n",
      " 27  ExterQual      1460 non-null   object \n",
      " 28  ExterCond      1460 non-null   object \n",
      " 29  Foundation     1460 non-null   object \n",
      " 30  BsmtQual       1423 non-null   object \n",
      " 31  BsmtCond       1423 non-null   object \n",
      " 32  BsmtExposure   1422 non-null   object \n",
      " 33  BsmtFinType1   1423 non-null   object \n",
      " 34  BsmtFinSF1     1460 non-null   int64  \n",
      " 35  BsmtFinType2   1422 non-null   object \n",
      " 36  BsmtFinSF2     1460 non-null   int64  \n",
      " 37  BsmtUnfSF      1460 non-null   int64  \n",
      " 38  TotalBsmtSF    1460 non-null   int64  \n",
      " 39  Heating        1460 non-null   object \n",
      " 40  HeatingQC      1460 non-null   object \n",
      " 41  CentralAir     1460 non-null   object \n",
      " 42  Electrical     1459 non-null   object \n",
      " 43  1stFlrSF       1460 non-null   int64  \n",
      " 44  2ndFlrSF       1460 non-null   int64  \n",
      " 45  LowQualFinSF   1460 non-null   int64  \n",
      " 46  GrLivArea      1460 non-null   int64  \n",
      " 47  BsmtFullBath   1460 non-null   int64  \n",
      " 48  BsmtHalfBath   1460 non-null   int64  \n",
      " 49  FullBath       1460 non-null   int64  \n",
      " 50  HalfBath       1460 non-null   int64  \n",
      " 51  BedroomAbvGr   1460 non-null   int64  \n",
      " 52  KitchenAbvGr   1460 non-null   int64  \n",
      " 53  KitchenQual    1460 non-null   object \n",
      " 54  TotRmsAbvGrd   1460 non-null   int64  \n",
      " 55  Functional     1460 non-null   object \n",
      " 56  Fireplaces     1460 non-null   int64  \n",
      " 57  FireplaceQu    770 non-null    object \n",
      " 58  GarageType     1379 non-null   object \n",
      " 59  GarageYrBlt    1379 non-null   float64\n",
      " 60  GarageFinish   1379 non-null   object \n",
      " 61  GarageCars     1460 non-null   int64  \n",
      " 62  GarageArea     1460 non-null   int64  \n",
      " 63  GarageQual     1379 non-null   object \n",
      " 64  GarageCond     1379 non-null   object \n",
      " 65  PavedDrive     1460 non-null   object \n",
      " 66  WoodDeckSF     1460 non-null   int64  \n",
      " 67  OpenPorchSF    1460 non-null   int64  \n",
      " 68  EnclosedPorch  1460 non-null   int64  \n",
      " 69  3SsnPorch      1460 non-null   int64  \n",
      " 70  ScreenPorch    1460 non-null   int64  \n",
      " 71  PoolArea       1460 non-null   int64  \n",
      " 72  PoolQC         7 non-null      object \n",
      " 73  Fence          281 non-null    object \n",
      " 74  MiscFeature    54 non-null     object \n",
      " 75  MiscVal        1460 non-null   int64  \n",
      " 76  MoSold         1460 non-null   int64  \n",
      " 77  YrSold         1460 non-null   int64  \n",
      " 78  SaleType       1460 non-null   object \n",
      " 79  SaleCondition  1460 non-null   object \n",
      " 80  SalePrice      1460 non-null   int64  \n",
      "dtypes: float64(3), int64(35), object(43)\n",
      "memory usage: 924.0+ KB\n"
     ]
    }
   ],
   "source": [
    "train_df.info()"
   ]
  },
  {
   "cell_type": "markdown",
   "metadata": {},
   "source": [
    "Now Let's categorize and analyze each feature"
   ]
  },
  {
   "cell_type": "code",
   "execution_count": 9,
   "metadata": {
    "ExecuteTime": {
     "end_time": "2023-08-26T18:08:11.432684Z",
     "start_time": "2023-08-26T18:08:11.357560Z"
    },
    "collapsed": false,
    "jupyter": {
     "outputs_hidden": false
    },
    "tags": []
   },
   "outputs": [
    {
     "name": "stdout",
     "output_type": "stream",
     "text": [
      "Test (1459, 80) Train (1460, 81)\n"
     ]
    }
   ],
   "source": [
    "train_df.duplicated(subset=None, keep=\"first\")\n",
    "test_df.duplicated(subset=None, keep=\"first\")\n",
    "print(\"Test\", test_df.shape, \"Train\", train_df.shape)"
   ]
  },
  {
   "cell_type": "markdown",
   "metadata": {},
   "source": [
    "## Basement Features\n",
    "\n",
    "The following features are related to house basement. Do we need all the features ? Most probably no. In the following we will analyze each feature and keep only to one that contribute to the sales price prediction.\n",
    "\n",
    "First let's analyze the data type of each feature:\n"
   ]
  },
  {
   "cell_type": "code",
   "execution_count": 10,
   "metadata": {
    "ExecuteTime": {
     "end_time": "2023-08-26T18:15:38.263555Z",
     "start_time": "2023-08-26T18:15:38.253682Z"
    },
    "collapsed": false,
    "jupyter": {
     "outputs_hidden": false
    },
    "tags": []
   },
   "outputs": [
    {
     "name": "stdout",
     "output_type": "stream",
     "text": [
      "<class 'pandas.core.frame.DataFrame'>\n",
      "RangeIndex: 1460 entries, 0 to 1459\n",
      "Data columns (total 9 columns):\n",
      " #   Column        Non-Null Count  Dtype \n",
      "---  ------        --------------  ----- \n",
      " 0   BsmtQual      1423 non-null   object\n",
      " 1   BsmtCond      1423 non-null   object\n",
      " 2   BsmtExposure  1422 non-null   object\n",
      " 3   BsmtFinType1  1423 non-null   object\n",
      " 4   BsmtFinSF1    1460 non-null   int64 \n",
      " 5   BsmtFinType2  1422 non-null   object\n",
      " 6   BsmtFinSF2    1460 non-null   int64 \n",
      " 7   BsmtUnfSF     1460 non-null   int64 \n",
      " 8   TotalBsmtSF   1460 non-null   int64 \n",
      "dtypes: int64(4), object(5)\n",
      "memory usage: 102.8+ KB\n"
     ]
    }
   ],
   "source": [
    "basement_features = [\"BsmtQual\", \"BsmtCond\", \"BsmtExposure\", \"BsmtFinType1\", \"BsmtFinSF1\", \"BsmtFinType2\", \"BsmtFinSF2\", \"BsmtUnfSF\", \"TotalBsmtSF\"]\n",
    "\n",
    "train_df[basement_features].info()\n"
   ]
  },
  {
   "cell_type": "markdown",
   "metadata": {},
   "source": [
    "The feature BsmtQual, BsmtCond, BsmtExposure and BsmtFinType have non-numerical type. However, they all describe a magnitude. The following values will be transformed to numerical values:\n"
   ]
  },
  {
   "cell_type": "code",
   "execution_count": null,
   "metadata": {},
   "outputs": [],
   "source": []
  },
  {
   "cell_type": "code",
   "execution_count": 11,
   "metadata": {
    "ExecuteTime": {
     "end_time": "2023-08-26T18:22:57.753008Z",
     "start_time": "2023-08-26T18:22:57.741109Z"
    },
    "collapsed": false,
    "jupyter": {
     "outputs_hidden": false
    },
    "tags": []
   },
   "outputs": [],
   "source": [
    "BsmtExposure = {\n",
    "    \"Gd\" : 4, # Good Exposure\n",
    "    \"Av\": 3,  # Average Exposure\n",
    "    \"Mn\": 2,  # Mimimum Exposure\n",
    "    \"No\": 1,  # No Exposure\n",
    "    \"NA\": 0   # No Basement\n",
    "}\n",
    "\n",
    "BsmtFinType1 = {\n",
    "    \"GLQ\": 6, # GLQ\tGood Living Quarters\n",
    "    \"ALQ\": 5, # LQ\tAverage Living Quarters\n",
    "    \"BLQ\": 4, # BLQ\tBelow Average Living Quarters\n",
    "    \"Rec\": 3, # Rec\tAverage Rec Room\n",
    "    \"LwQ\": 2, # LwQ\tLow Quality\n",
    "    \"Unf\": 1, # Unf\tUnfinshed\n",
    "    \"NA\": 0\n",
    "}\n",
    "\n",
    "BsmtFinType2 = {\n",
    "    \"GLQ\": 6, # GLQ\tGood Living Quarters\n",
    "    \"ALQ\": 5, # LQ\tAverage Living Quarters\n",
    "    \"BLQ\": 4, # BLQ\tBelow Average Living Quarters\n",
    "    \"Rec\": 3, # Rec\tAverage Rec Room\n",
    "    \"LwQ\": 2, # LwQ\tLow Quality\n",
    "    \"Unf\": 1, # Unf\tUnfinshed\n",
    "    \"NA\": 0\n",
    "}\n",
    "\n",
    "BsmtCond = {\n",
    "    \"Ex\": 5,    #Excellent\n",
    "    \"Gd\": 4,\t# Good\n",
    "    \"TA\": 3,\t# Typical - slight dampness allowed\n",
    "    \"Fa\": 2,\t# Fair - dampness or some cracking or settling\n",
    "    \"Po\": 1,    # Po\tPoor - Severe cracking, settling, or wetness\n",
    "    \"NA\": 0     # No Basement\n",
    "}\n",
    "\n",
    "BsmtQual = {\n",
    "    \"Ex\":\t5, # Excellent (100+ inches)\n",
    "    \"Gd\":\t4, # Good (90-99 inches)\n",
    "    \"TA\":\t3, # Typical (80-89 inches)\n",
    "    \"Fa\":\t2, # Fair (70-79 inches)\n",
    "    \"Po\":\t1, # Poor (<70 inches\n",
    "    \"NA\":\t0  # No basement\n",
    "}\n",
    "\n",
    "train_df.replace(\n",
    "    {\n",
    "        \"BsmtQual\": BsmtQual,\n",
    "        \"BsmtCond\": BsmtCond,\n",
    "        \"BsmtFinType1\": BsmtFinType1,\n",
    "        \"BsmtFinType2\": BsmtFinType2,\n",
    "        \"BsmtExposure\": BsmtExposure\n",
    "    },\n",
    "    inplace=True,\n",
    ")\n",
    "test_df.replace(\n",
    "    {\n",
    "        \"BsmtQual\": BsmtQual,\n",
    "        \"BsmtCond\": BsmtCond,\n",
    "        \"BsmtFinType1\": BsmtFinType1,\n",
    "        \"BsmtFinType2\": BsmtFinType2,\n",
    "        \"BsmtExposure\": BsmtExposure\n",
    "    },\n",
    "    inplace=True,\n",
    ")\n"
   ]
  },
  {
   "cell_type": "markdown",
   "metadata": {},
   "source": [
    "the following features have null values. We will need to replace the null values with the proper value as follows:\n",
    "    \n",
    "'BsmtUnfSF', 'TotalBsmtSF' : this relate to size. a null value mean no unfinished/finished space in basement or no basment available.\n",
    "\n",
    "total_basement_bathroom : this also relate to the size. A house without a basement or with unfinished basement or with finished basement without bathromm will have no bathrooms. I will also replace the null value with 0."
   ]
  },
  {
   "cell_type": "code",
   "execution_count": 12,
   "metadata": {
    "tags": []
   },
   "outputs": [
    {
     "data": {
      "text/plain": [
       "0        882.0\n",
       "1       1329.0\n",
       "2        928.0\n",
       "3        926.0\n",
       "4       1280.0\n",
       "         ...  \n",
       "1454     546.0\n",
       "1455     546.0\n",
       "1456    1224.0\n",
       "1457     912.0\n",
       "1458     996.0\n",
       "Name: TotalBsmtSF, Length: 1459, dtype: float64"
      ]
     },
     "execution_count": 12,
     "metadata": {},
     "output_type": "execute_result"
    }
   ],
   "source": [
    "train_df[\"BsmtUnfSF\"].fillna(0)\n",
    "train_df[\"BsmtUnfSF\"].fillna(0)\n",
    "test_df[\"TotalBsmtSF\"].fillna(0)\n",
    "test_df[\"TotalBsmtSF\"].fillna(0)\n",
    "train_df[\"BsmtUnfSF\"].fillna(0)\n",
    "train_df[\"BsmtUnfSF\"].fillna(0)\n",
    "test_df[\"TotalBsmtSF\"].fillna(0)\n",
    "test_df[\"TotalBsmtSF\"].fillna(0)"
   ]
  },
  {
   "cell_type": "markdown",
   "metadata": {},
   "source": [
    "The following graphs shows the correlation between each basement feature pair. The purpose here is to eliminate the duplicated feature or features that can be eliminated without impacting the prediction model."
   ]
  },
  {
   "cell_type": "code",
   "execution_count": 13,
   "metadata": {
    "ExecuteTime": {
     "end_time": "2023-08-26T18:25:42.457320Z",
     "start_time": "2023-08-26T18:25:42.117796Z"
    },
    "collapsed": false,
    "jupyter": {
     "outputs_hidden": false
    },
    "tags": []
   },
   "outputs": [
    {
     "data": {
      "text/html": [
       "<div>\n",
       "<style scoped>\n",
       "    .dataframe tbody tr th:only-of-type {\n",
       "        vertical-align: middle;\n",
       "    }\n",
       "\n",
       "    .dataframe tbody tr th {\n",
       "        vertical-align: top;\n",
       "    }\n",
       "\n",
       "    .dataframe thead th {\n",
       "        text-align: right;\n",
       "    }\n",
       "</style>\n",
       "<table border=\"1\" class=\"dataframe\">\n",
       "  <thead>\n",
       "    <tr style=\"text-align: right;\">\n",
       "      <th></th>\n",
       "      <th>BsmtQual</th>\n",
       "      <th>BsmtCond</th>\n",
       "      <th>BsmtExposure</th>\n",
       "      <th>BsmtFinType1</th>\n",
       "      <th>BsmtFinSF1</th>\n",
       "      <th>BsmtFinType2</th>\n",
       "      <th>BsmtFinSF2</th>\n",
       "      <th>BsmtUnfSF</th>\n",
       "      <th>TotalBsmtSF</th>\n",
       "    </tr>\n",
       "  </thead>\n",
       "  <tbody>\n",
       "    <tr>\n",
       "      <th>0</th>\n",
       "      <td>4.0</td>\n",
       "      <td>3.0</td>\n",
       "      <td>1.0</td>\n",
       "      <td>6.0</td>\n",
       "      <td>706</td>\n",
       "      <td>1.0</td>\n",
       "      <td>0</td>\n",
       "      <td>150</td>\n",
       "      <td>856</td>\n",
       "    </tr>\n",
       "    <tr>\n",
       "      <th>1</th>\n",
       "      <td>4.0</td>\n",
       "      <td>3.0</td>\n",
       "      <td>4.0</td>\n",
       "      <td>5.0</td>\n",
       "      <td>978</td>\n",
       "      <td>1.0</td>\n",
       "      <td>0</td>\n",
       "      <td>284</td>\n",
       "      <td>1262</td>\n",
       "    </tr>\n",
       "    <tr>\n",
       "      <th>2</th>\n",
       "      <td>4.0</td>\n",
       "      <td>3.0</td>\n",
       "      <td>2.0</td>\n",
       "      <td>6.0</td>\n",
       "      <td>486</td>\n",
       "      <td>1.0</td>\n",
       "      <td>0</td>\n",
       "      <td>434</td>\n",
       "      <td>920</td>\n",
       "    </tr>\n",
       "    <tr>\n",
       "      <th>3</th>\n",
       "      <td>3.0</td>\n",
       "      <td>4.0</td>\n",
       "      <td>1.0</td>\n",
       "      <td>5.0</td>\n",
       "      <td>216</td>\n",
       "      <td>1.0</td>\n",
       "      <td>0</td>\n",
       "      <td>540</td>\n",
       "      <td>756</td>\n",
       "    </tr>\n",
       "    <tr>\n",
       "      <th>4</th>\n",
       "      <td>4.0</td>\n",
       "      <td>3.0</td>\n",
       "      <td>3.0</td>\n",
       "      <td>6.0</td>\n",
       "      <td>655</td>\n",
       "      <td>1.0</td>\n",
       "      <td>0</td>\n",
       "      <td>490</td>\n",
       "      <td>1145</td>\n",
       "    </tr>\n",
       "  </tbody>\n",
       "</table>\n",
       "</div>"
      ],
      "text/plain": [
       "   BsmtQual  BsmtCond  BsmtExposure  BsmtFinType1  BsmtFinSF1  BsmtFinType2  \\\n",
       "0       4.0       3.0           1.0           6.0         706           1.0   \n",
       "1       4.0       3.0           4.0           5.0         978           1.0   \n",
       "2       4.0       3.0           2.0           6.0         486           1.0   \n",
       "3       3.0       4.0           1.0           5.0         216           1.0   \n",
       "4       4.0       3.0           3.0           6.0         655           1.0   \n",
       "\n",
       "   BsmtFinSF2  BsmtUnfSF  TotalBsmtSF  \n",
       "0           0        150          856  \n",
       "1           0        284         1262  \n",
       "2           0        434          920  \n",
       "3           0        540          756  \n",
       "4           0        490         1145  "
      ]
     },
     "execution_count": 13,
     "metadata": {},
     "output_type": "execute_result"
    },
    {
     "data": {
      "image/png": "[encoded data removed]",
      "text/plain": [
       "<Figure size 2000x2000 with 2 Axes>"
      ]
     },
     "metadata": {},
     "output_type": "display_data"
    }
   ],
   "source": [
    "import matplotlib.pyplot as plt\n",
    "import seaborn as sns\n",
    "\n",
    "basement_features_df = train_df[basement_features]\n",
    "\n",
    "plt.figure(figsize=(20, 20))\n",
    "sns.heatmap(basement_features_df.corr())\n",
    "basement_features_df.head()"
   ]
  },
  {
   "cell_type": "code",
   "execution_count": null,
   "metadata": {},
   "outputs": [],
   "source": []
  },
  {
   "cell_type": "markdown",
   "metadata": {},
   "source": [
    "From the graph above we notice there is strong correlation between basement size and basement type (BsmtFinSF1 and BsmtFinType1 and also between BsmtFinSF2 and BsmtFinType2). As result, We can safely discard BsmtFinSF1 and BsmtFinSF2 features."
   ]
  },
  {
   "cell_type": "code",
   "execution_count": 14,
   "metadata": {
    "ExecuteTime": {
     "end_time": "2023-08-26T18:30:47.277746Z",
     "start_time": "2023-08-26T18:30:47.254611Z"
    },
    "collapsed": false,
    "jupyter": {
     "outputs_hidden": false
    },
    "tags": []
   },
   "outputs": [],
   "source": [
    "train_df = train_df.drop(\"BsmtFinSF1\", axis = 1)\n",
    "train_df = train_df.drop(\"BsmtFinSF2\", axis = 1)\n",
    "test_df = test_df.drop(\"BsmtFinSF1\", axis = 1)\n",
    "test_df = test_df.drop(\"BsmtFinSF2\", axis = 1)\n"
   ]
  },
  {
   "cell_type": "code",
   "execution_count": 15,
   "metadata": {
    "ExecuteTime": {
     "end_time": "2023-08-26T18:31:29.232151Z",
     "start_time": "2023-08-26T18:31:28.390730Z"
    },
    "collapsed": false,
    "jupyter": {
     "outputs_hidden": false
    },
    "tags": []
   },
   "outputs": [
    {
     "data": {
      "image/png": "[encoded data removed]",
      "text/plain": [
       "<Figure size 1600x2000 with 9 Axes>"
      ]
     },
     "metadata": {},
     "output_type": "display_data"
    }
   ],
   "source": [
    "basement_features = [\"BsmtQual\", \"BsmtCond\", \"BsmtExposure\", \"BsmtFinType1\", \"BsmtFinType2\", \"BsmtUnfSF\", \"TotalBsmtSF\"]\n",
    "basement_features_df = train_df[basement_features]\n",
    "basement_features_df.hist(figsize=(16, 20), bins=50, xlabelsize=8, ylabelsize=8);\n"
   ]
  },
  {
   "cell_type": "markdown",
   "metadata": {},
   "source": [
    "From the graphs above we notice that both BsmtFinType2 and BsmtCond reflect concentration on 1 value, respectively 3 for BsmCond (most basement have average condition) and 1 for BsmtFinType2 (most basement are Unfinished). Both features will be discarded as they don't add value to the Sales Price prediction."
   ]
  },
  {
   "cell_type": "code",
   "execution_count": 16,
   "metadata": {
    "ExecuteTime": {
     "end_time": "2023-08-26T18:33:07.751821Z",
     "start_time": "2023-08-26T18:33:07.746797Z"
    },
    "collapsed": false,
    "jupyter": {
     "outputs_hidden": false
    },
    "tags": []
   },
   "outputs": [],
   "source": [
    "train_df = train_df.drop(\"BsmtFinType2\", axis = 1)\n",
    "train_df = train_df.drop(\"BsmtCond\", axis = 1)\n",
    "test_df = test_df.drop(\"BsmtFinType2\", axis = 1)\n",
    "test_df = test_df.drop(\"BsmtCond\", axis = 1)"
   ]
  },
  {
   "cell_type": "markdown",
   "metadata": {},
   "source": [
    "## Porch Features"
   ]
  },
  {
   "cell_type": "code",
   "execution_count": 17,
   "metadata": {
    "ExecuteTime": {
     "end_time": "2023-08-26T18:38:08.887926Z",
     "start_time": "2023-08-26T18:38:08.816327Z"
    },
    "collapsed": false,
    "jupyter": {
     "outputs_hidden": false
    },
    "tags": []
   },
   "outputs": [],
   "source": [
    "porch_features = [\"OpenPorchSF\", \"EnclosedPorch\", \"3SsnPorch\", \"ScreenPorch\"]\n",
    "porch_features_df = train_df[porch_features]"
   ]
  },
  {
   "cell_type": "code",
   "execution_count": 18,
   "metadata": {
    "ExecuteTime": {
     "end_time": "2023-08-26T18:38:26.182244Z",
     "start_time": "2023-08-26T18:38:25.666068Z"
    },
    "collapsed": false,
    "jupyter": {
     "outputs_hidden": false
    },
    "tags": []
   },
   "outputs": [
    {
     "data": {
      "image/png": "[encoded data removed]",
      "text/plain": [
       "<Figure size 1600x2000 with 4 Axes>"
      ]
     },
     "metadata": {},
     "output_type": "display_data"
    }
   ],
   "source": [
    "porch_features_df.hist(figsize=(16, 20), bins=50, xlabelsize=8, ylabelsize=8);\n"
   ]
  },
  {
   "cell_type": "markdown",
   "metadata": {},
   "source": [
    "From the graphs below it is abvious that the majority of the sold houses don't have 3 seasons, screen and enclosed orch areas. Teh following features can be discarded : 3SsnPorch, ScreePorch and EnclosedPorch."
   ]
  },
  {
   "cell_type": "code",
   "execution_count": 19,
   "metadata": {
    "ExecuteTime": {
     "end_time": "2023-08-26T18:38:56.314681Z",
     "start_time": "2023-08-26T18:38:56.291378Z"
    },
    "collapsed": false,
    "jupyter": {
     "outputs_hidden": false
    },
    "tags": []
   },
   "outputs": [],
   "source": [
    "train_df = train_df.drop(\"ScreenPorch\", axis = 1)\n",
    "train_df = train_df.drop(\"EnclosedPorch\", axis = 1)\n",
    "train_df = train_df.drop(\"3SsnPorch\", axis = 1)\n",
    "test_df = test_df.drop(\"ScreenPorch\", axis = 1)\n",
    "test_df = test_df.drop(\"EnclosedPorch\", axis = 1)\n",
    "test_df = test_df.drop(\"3SsnPorch\", axis = 1)"
   ]
  },
  {
   "cell_type": "markdown",
   "metadata": {},
   "source": [
    "## House External Features"
   ]
  },
  {
   "cell_type": "markdown",
   "metadata": {},
   "source": [
    "External Quality and External Condition features are converted to numerical values as they reflect a magnitude."
   ]
  },
  {
   "cell_type": "code",
   "execution_count": 20,
   "metadata": {
    "ExecuteTime": {
     "end_time": "2023-08-26T18:40:48.957682Z",
     "start_time": "2023-08-26T18:40:48.943155Z"
    },
    "collapsed": false,
    "jupyter": {
     "outputs_hidden": false
    },
    "tags": []
   },
   "outputs": [],
   "source": [
    "ExterQual = {\n",
    "    \"Ex\":\t5, # Excellent (100+ inches)\n",
    "    \"Gd\":\t4, # Good (90-99 inches)\n",
    "    \"TA\":\t3, # Typical (80-89 inches)\n",
    "    \"Fa\":\t2, # Fair (70-79 inches)\n",
    "    \"Po\":\t1, # Poor (<70 inches\n",
    "    \"NA\":\t0  # No basement\n",
    "}\n",
    "\n",
    "ExterCond = {\n",
    "    \"Ex\":\t5, # Excellent (100+ inches)\n",
    "    \"Gd\":\t4, # Good (90-99 inches)\n",
    "    \"TA\":\t3, # Typical (80-89 inches)\n",
    "    \"Fa\":\t2, # Fair (70-79 inches)\n",
    "    \"Po\":\t1, # Poor (<70 inches\n",
    "    \"NA\":\t0  # No basement\n",
    "}\n",
    "\n",
    "train_df.replace(\n",
    "    {\n",
    "        \"ExterCond\": ExterCond,\n",
    "        \"ExterQual\": ExterQual\n",
    "    },\n",
    "    inplace=True,\n",
    ")\n",
    "test_df.replace(\n",
    "    {\n",
    "        \"ExterCond\": ExterCond,\n",
    "        \"ExterQual\": ExterQual\n",
    "    },\n",
    "    inplace=True,\n",
    ")"
   ]
  },
  {
   "cell_type": "code",
   "execution_count": 21,
   "metadata": {
    "ExecuteTime": {
     "end_time": "2023-08-26T18:41:40.380320Z",
     "start_time": "2023-08-26T18:41:40.237248Z"
    },
    "collapsed": false,
    "jupyter": {
     "outputs_hidden": false
    },
    "tags": []
   },
   "outputs": [
    {
     "data": {
      "image/png": "[encoded data removed]",
      "text/plain": [
       "<Figure size 640x480 with 1 Axes>"
      ]
     },
     "metadata": {},
     "output_type": "display_data"
    }
   ],
   "source": [
    "sns.boxplot(x=train_df['ExterCond'], y=train_df['SalePrice'])\n",
    "plt.xlabel('External House Condition')\n",
    "plt.ylabel('Sale Price')\n",
    "plt.title('Box Plot of Sale Price by External Condition')\n",
    "plt.show()"
   ]
  },
  {
   "cell_type": "code",
   "execution_count": 22,
   "metadata": {
    "ExecuteTime": {
     "end_time": "2023-08-26T18:42:11.319988Z",
     "start_time": "2023-08-26T18:42:11.184455Z"
    },
    "collapsed": false,
    "jupyter": {
     "outputs_hidden": false
    },
    "tags": []
   },
   "outputs": [
    {
     "data": {
      "image/png": "[encoded data removed]",
      "text/plain": [
       "<Figure size 640x480 with 1 Axes>"
      ]
     },
     "metadata": {},
     "output_type": "display_data"
    }
   ],
   "source": [
    "sns.boxplot(x=train_df['ExterQual'], y=train_df['SalePrice'])\n",
    "plt.xlabel('External House Quality')\n",
    "plt.ylabel('Sale Price')\n",
    "plt.title('Box Plot of Sale Price by House External Quality')\n",
    "plt.show()"
   ]
  },
  {
   "cell_type": "markdown",
   "metadata": {},
   "source": [
    "The graphs above clearly show that House Sale Price increase when external house condition or quality increase."
   ]
  },
  {
   "cell_type": "markdown",
   "metadata": {},
   "source": [
    "Most sold houses have Standard (Composite) Shingle roof. We can safely discard the feature: RoofMatl\n",
    "\n",
    "ClyTile (Clay or Tile)\n",
    "CompShg (Standard (Composite) Shingle): 1434\n",
    "Membran\t(Membrane) : 1\n",
    "Metal (Metal) : 1\n",
    "Roll (Roll) : 1\n",
    "Tar&Grv\t(Gravel & Tar) : 11\n",
    "WdShake\t(Wood Shakes) : 5\n",
    "WdShngl\t(Wood Shingles) : 6"
   ]
  },
  {
   "cell_type": "code",
   "execution_count": 23,
   "metadata": {
    "ExecuteTime": {
     "end_time": "2023-08-26T18:44:57.392624Z",
     "start_time": "2023-08-26T18:44:57.380939Z"
    },
    "collapsed": false,
    "jupyter": {
     "outputs_hidden": false
    },
    "tags": []
   },
   "outputs": [],
   "source": [
    "train_df = train_df.drop(\"RoofMatl\", axis = 1)\n",
    "test_df = test_df.drop(\"RoofMatl\", axis = 1)"
   ]
  },
  {
   "cell_type": "markdown",
   "metadata": {},
   "source": [
    "We could use one hot encoding for the remaining exterior categorial features but this will lead to multiplication additional features without the guarantee that it adds value in the sales prediction algorithm. I decided to only keep the numerical features External Quality and External Condition since based on the graph above the correlate well with the Sales Price.\n"
   ]
  },
  {
   "cell_type": "code",
   "execution_count": 24,
   "metadata": {
    "ExecuteTime": {
     "end_time": "2023-08-26T18:49:15.930274Z",
     "start_time": "2023-08-26T18:49:15.890092Z"
    },
    "collapsed": false,
    "jupyter": {
     "outputs_hidden": false
    },
    "tags": []
   },
   "outputs": [],
   "source": [
    "train_df = train_df.drop(\"Exterior1st\", axis = 1)\n",
    "test_df = test_df.drop(\"Exterior1st\", axis = 1)\n",
    "train_df = train_df.drop(\"Exterior2nd\", axis = 1)\n",
    "test_df = test_df.drop(\"Exterior2nd\", axis = 1)\n",
    "train_df = train_df.drop(\"MasVnrArea\", axis = 1)\n",
    "test_df = test_df.drop(\"MasVnrArea\", axis = 1)\n",
    "train_df = train_df.drop(\"Foundation\", axis = 1)\n",
    "test_df = test_df.drop(\"Foundation\", axis = 1)\n"
   ]
  },
  {
   "cell_type": "markdown",
   "metadata": {},
   "source": [
    "## Lot Shape and Size Features"
   ]
  },
  {
   "cell_type": "code",
   "execution_count": 25,
   "metadata": {
    "ExecuteTime": {
     "end_time": "2023-08-26T18:56:37.879820Z",
     "start_time": "2023-08-26T18:56:37.863444Z"
    },
    "collapsed": false,
    "jupyter": {
     "outputs_hidden": false
    },
    "tags": []
   },
   "outputs": [],
   "source": [
    "location_features = [\"LotFrontage\", \"LandSlope\", \"LotArea\", \"LotShape\", \"LandContour\", \"LotConfig\", ]"
   ]
  },
  {
   "cell_type": "markdown",
   "metadata": {},
   "source": [
    "LandSlope, LotSlope and LandContour are categorial fetaures that can be easily replaced with numerical categories as the denote a magnitude"
   ]
  },
  {
   "cell_type": "code",
   "execution_count": 26,
   "metadata": {
    "ExecuteTime": {
     "end_time": "2023-08-26T18:56:38.725832Z",
     "start_time": "2023-08-26T18:56:38.723022Z"
    },
    "collapsed": false,
    "jupyter": {
     "outputs_hidden": false
    },
    "tags": []
   },
   "outputs": [],
   "source": [
    "LandSlope = {\n",
    "    \"Gtl\" : 1, # Gentle Slope\n",
    "    \"Mod\" : 2, # Moderate Moderate\n",
    "    \"Sev\" : 3  # Severe Slope\n",
    "}\n",
    "\n",
    "LotShape = {\n",
    "    \"Reg\" :\t1, # Regular Shape\n",
    "    \"IR1\" : 2, # Slightly Irregular Shape\n",
    "    \"IR2\" : 3, # Moderately Irregular Shape\n",
    "    \"IR3\" :\t4  # Irregular\n",
    "}\n",
    "\n",
    "LandContour = {\n",
    "    \"Lvl\" : 1,  # Near Flat/Level\n",
    "    \"Bnk\" :\t2,  # Banked - Quick and significant rise from street grade to building\n",
    "    \"HLS\" : 3,  # Hillside - Significant slope from side to side\n",
    "    \"Low\": 4\t# Depression\n",
    "}\n",
    "\n",
    "LotConfig =  { #Lot configuration\n",
    "    \"Inside\"\t: 1, # Inside lot\n",
    "    \"Corner\"\t: 2, # Corner lot\n",
    "    \"CulDSac\"\t: 3, #Cul-de-sac\n",
    "    \"FR2\"\t: 4,  #Frontage on 2 sides of property\n",
    "    \"FR3\"\t: 5,  #Frontage on 3 sides of property\n",
    "}\n",
    "\n",
    "train_df.replace(\n",
    "    {\n",
    "        \"LandSlope\": LandSlope,\n",
    "        \"LotShape\": LotShape,\n",
    "        \"LandContour\": LandContour,\n",
    "        \"LotConfig\": LotConfig,\n",
    "    },\n",
    "    inplace=True,\n",
    ")\n",
    "\n",
    "test_df.replace(\n",
    "    {\n",
    "        \"LandSlope\": LandSlope,\n",
    "        \"LotShape\": LotShape,\n",
    "        \"LandContour\": LandContour,\n",
    "        \"LotConfig\": LotConfig,\n",
    "\n",
    "    },\n",
    "    inplace=True,\n",
    ")"
   ]
  },
  {
   "cell_type": "markdown",
   "metadata": {},
   "source": [
    "LotSlop and LandContour features both describe inclinaison of the lot and land on which the house is built. The\n",
    "correlation graph confirms a corelation of close to 0.7. We can safely discard LandContour in favour of LotSlop feature."
   ]
  },
  {
   "cell_type": "code",
   "execution_count": 27,
   "metadata": {
    "ExecuteTime": {
     "end_time": "2023-08-26T18:56:39.474786Z",
     "start_time": "2023-08-26T18:56:39.216190Z"
    },
    "collapsed": false,
    "jupyter": {
     "outputs_hidden": false
    },
    "tags": []
   },
   "outputs": [
    {
     "data": {
      "text/plain": [
       "<Axes: >"
      ]
     },
     "execution_count": 27,
     "metadata": {},
     "output_type": "execute_result"
    },
    {
     "data": {
      "image/png": "[encoded data removed]",
      "text/plain": [
       "<Figure size 2000x2000 with 2 Axes>"
      ]
     },
     "metadata": {},
     "output_type": "display_data"
    }
   ],
   "source": [
    "import matplotlib.pyplot as plt\n",
    "import seaborn as sns\n",
    "\n",
    "location_features_df = train_df[location_features]\n",
    "\n",
    "plt.figure(figsize=(20, 20))\n",
    "sns.heatmap(location_features_df.corr())"
   ]
  },
  {
   "cell_type": "code",
   "execution_count": 28,
   "metadata": {
    "ExecuteTime": {
     "end_time": "2023-08-26T19:05:52.416342Z",
     "start_time": "2023-08-26T19:05:52.269232Z"
    },
    "collapsed": false,
    "jupyter": {
     "outputs_hidden": false
    },
    "tags": []
   },
   "outputs": [],
   "source": [
    "train_df = train_df.drop(\"MSZoning\", axis = 1)\n",
    "test_df = test_df.drop(\"MSZoning\", axis = 1)\n",
    "train_df = train_df.drop(\"Condition1\", axis = 1)\n",
    "test_df = test_df.drop(\"Condition1\", axis = 1)\n",
    "train_df = train_df.drop(\"Condition2\", axis = 1)\n",
    "test_df = test_df.drop(\"Condition2\", axis = 1)"
   ]
  },
  {
   "cell_type": "markdown",
   "metadata": {},
   "source": [
    "### Home Size Feature : TotRmsAbvGrd, Bedroom, GrLivArea, 1stFlrSF, 2ndFlrSF\n"
   ]
  },
  {
   "cell_type": "markdown",
   "metadata": {},
   "source": [
    "It is known that the size of the house contribute  impact the price of the house."
   ]
  },
  {
   "cell_type": "code",
   "execution_count": 29,
   "metadata": {
    "ExecuteTime": {
     "end_time": "2023-08-26T19:31:03.436699Z",
     "start_time": "2023-08-26T19:31:03.425766Z"
    },
    "collapsed": false,
    "jupyter": {
     "outputs_hidden": false
    },
    "tags": []
   },
   "outputs": [],
   "source": [
    "house_size_features = [\"TotRmsAbvGrd\", \"BedroomAbvGr\", \"GrLivArea\", \"1stFlrSF\", \"2ndFlrSF\"]\n"
   ]
  },
  {
   "cell_type": "code",
   "execution_count": 30,
   "metadata": {
    "ExecuteTime": {
     "end_time": "2023-08-26T19:19:29.305642Z",
     "start_time": "2023-08-26T19:19:29.166700Z"
    },
    "collapsed": false,
    "jupyter": {
     "outputs_hidden": false
    },
    "tags": []
   },
   "outputs": [
    {
     "data": {
      "image/png": "[encoded data removed]",
      "text/plain": [
       "<Figure size 640x480 with 1 Axes>"
      ]
     },
     "metadata": {},
     "output_type": "display_data"
    }
   ],
   "source": [
    "sns.boxplot(x=train_df['TotRmsAbvGrd'], y=train_df['SalePrice'])\n",
    "plt.xlabel('Total Rooms Above Ground')\n",
    "plt.ylabel('Sale Price')\n",
    "plt.title('Box Plot of Sale Price by Total Rooms Above Ground')\n",
    "plt.show()"
   ]
  },
  {
   "cell_type": "markdown",
   "metadata": {},
   "source": [
    "We can notice from the graph above that increase in the number of rooms result in sale price increase. However, from 8 room to above the increase is not obvious from the graph."
   ]
  },
  {
   "cell_type": "markdown",
   "metadata": {},
   "source": [
    "Let's confirm if the same applies for the remaining features:"
   ]
  },
  {
   "cell_type": "code",
   "execution_count": 31,
   "metadata": {
    "ExecuteTime": {
     "end_time": "2023-08-26T19:21:34.202704Z",
     "start_time": "2023-08-26T19:21:34.063744Z"
    },
    "collapsed": false,
    "jupyter": {
     "outputs_hidden": false
    },
    "tags": []
   },
   "outputs": [
    {
     "data": {
      "image/png": "[encoded data removed]",
      "text/plain": [
       "<Figure size 640x480 with 1 Axes>"
      ]
     },
     "metadata": {},
     "output_type": "display_data"
    }
   ],
   "source": [
    "sns.boxplot(x=train_df['BedroomAbvGr'], y=train_df['SalePrice'])\n",
    "plt.xlabel('Total Rooms Above Ground')\n",
    "plt.ylabel('Sale Price')\n",
    "plt.title('Box Plot of Sale Price by Number of bedrooms')\n",
    "plt.show()"
   ]
  },
  {
   "cell_type": "code",
   "execution_count": 32,
   "metadata": {
    "ExecuteTime": {
     "end_time": "2023-08-26T19:22:10.840317Z",
     "start_time": "2023-08-26T19:22:10.821692Z"
    },
    "collapsed": false,
    "jupyter": {
     "outputs_hidden": false
    },
    "tags": []
   },
   "outputs": [
    {
     "data": {
      "text/plain": [
       "3    804\n",
       "2    358\n",
       "4    213\n",
       "1     50\n",
       "5     21\n",
       "6      7\n",
       "0      6\n",
       "8      1\n",
       "Name: BedroomAbvGr, dtype: int64"
      ]
     },
     "execution_count": 32,
     "metadata": {},
     "output_type": "execute_result"
    }
   ],
   "source": [
    "train_df[\"BedroomAbvGr\"].value_counts()"
   ]
  },
  {
   "cell_type": "markdown",
   "metadata": {},
   "source": [
    "Surprisly the same doesn't apply to the feature 'BedroomAbvGr'. The graph shows that Houses with 0 bedroooms has the highest sales price. There are only 6 houses with 0 bedrooms. Let's inspect their sales data to find any anomaly in data:"
   ]
  },
  {
   "cell_type": "code",
   "execution_count": 33,
   "metadata": {
    "ExecuteTime": {
     "end_time": "2023-08-26T19:26:44.694682Z",
     "start_time": "2023-08-26T19:26:44.678808Z"
    },
    "collapsed": false,
    "jupyter": {
     "outputs_hidden": false
    },
    "tags": []
   },
   "outputs": [
    {
     "data": {
      "text/html": [
       "<div>\n",
       "<style scoped>\n",
       "    .dataframe tbody tr th:only-of-type {\n",
       "        vertical-align: middle;\n",
       "    }\n",
       "\n",
       "    .dataframe tbody tr th {\n",
       "        vertical-align: top;\n",
       "    }\n",
       "\n",
       "    .dataframe thead th {\n",
       "        text-align: right;\n",
       "    }\n",
       "</style>\n",
       "<table border=\"1\" class=\"dataframe\">\n",
       "  <thead>\n",
       "    <tr style=\"text-align: right;\">\n",
       "      <th></th>\n",
       "      <th>Id</th>\n",
       "      <th>MSSubClass</th>\n",
       "      <th>LotFrontage</th>\n",
       "      <th>LotArea</th>\n",
       "      <th>Street</th>\n",
       "      <th>Alley</th>\n",
       "      <th>LotShape</th>\n",
       "      <th>LandContour</th>\n",
       "      <th>Utilities</th>\n",
       "      <th>LotConfig</th>\n",
       "      <th>...</th>\n",
       "      <th>PoolArea</th>\n",
       "      <th>PoolQC</th>\n",
       "      <th>Fence</th>\n",
       "      <th>MiscFeature</th>\n",
       "      <th>MiscVal</th>\n",
       "      <th>MoSold</th>\n",
       "      <th>YrSold</th>\n",
       "      <th>SaleType</th>\n",
       "      <th>SaleCondition</th>\n",
       "      <th>SalePrice</th>\n",
       "    </tr>\n",
       "  </thead>\n",
       "  <tbody>\n",
       "    <tr>\n",
       "      <th>53</th>\n",
       "      <td>54</td>\n",
       "      <td>20</td>\n",
       "      <td>68.0</td>\n",
       "      <td>50271</td>\n",
       "      <td>Pave</td>\n",
       "      <td>NaN</td>\n",
       "      <td>2</td>\n",
       "      <td>4</td>\n",
       "      <td>AllPub</td>\n",
       "      <td>1</td>\n",
       "      <td>...</td>\n",
       "      <td>0</td>\n",
       "      <td>NaN</td>\n",
       "      <td>NaN</td>\n",
       "      <td>NaN</td>\n",
       "      <td>0</td>\n",
       "      <td>11</td>\n",
       "      <td>2006</td>\n",
       "      <td>WD</td>\n",
       "      <td>Normal</td>\n",
       "      <td>385000</td>\n",
       "    </tr>\n",
       "    <tr>\n",
       "      <th>189</th>\n",
       "      <td>190</td>\n",
       "      <td>120</td>\n",
       "      <td>41.0</td>\n",
       "      <td>4923</td>\n",
       "      <td>Pave</td>\n",
       "      <td>NaN</td>\n",
       "      <td>1</td>\n",
       "      <td>1</td>\n",
       "      <td>AllPub</td>\n",
       "      <td>1</td>\n",
       "      <td>...</td>\n",
       "      <td>0</td>\n",
       "      <td>NaN</td>\n",
       "      <td>NaN</td>\n",
       "      <td>NaN</td>\n",
       "      <td>0</td>\n",
       "      <td>8</td>\n",
       "      <td>2008</td>\n",
       "      <td>WD</td>\n",
       "      <td>Normal</td>\n",
       "      <td>286000</td>\n",
       "    </tr>\n",
       "    <tr>\n",
       "      <th>634</th>\n",
       "      <td>635</td>\n",
       "      <td>90</td>\n",
       "      <td>64.0</td>\n",
       "      <td>6979</td>\n",
       "      <td>Pave</td>\n",
       "      <td>NaN</td>\n",
       "      <td>1</td>\n",
       "      <td>1</td>\n",
       "      <td>AllPub</td>\n",
       "      <td>1</td>\n",
       "      <td>...</td>\n",
       "      <td>0</td>\n",
       "      <td>NaN</td>\n",
       "      <td>GdPrv</td>\n",
       "      <td>Shed</td>\n",
       "      <td>600</td>\n",
       "      <td>6</td>\n",
       "      <td>2010</td>\n",
       "      <td>WD</td>\n",
       "      <td>Normal</td>\n",
       "      <td>144000</td>\n",
       "    </tr>\n",
       "    <tr>\n",
       "      <th>1163</th>\n",
       "      <td>1164</td>\n",
       "      <td>90</td>\n",
       "      <td>60.0</td>\n",
       "      <td>12900</td>\n",
       "      <td>Pave</td>\n",
       "      <td>NaN</td>\n",
       "      <td>1</td>\n",
       "      <td>1</td>\n",
       "      <td>AllPub</td>\n",
       "      <td>1</td>\n",
       "      <td>...</td>\n",
       "      <td>0</td>\n",
       "      <td>NaN</td>\n",
       "      <td>NaN</td>\n",
       "      <td>NaN</td>\n",
       "      <td>0</td>\n",
       "      <td>1</td>\n",
       "      <td>2008</td>\n",
       "      <td>WD</td>\n",
       "      <td>Alloca</td>\n",
       "      <td>108959</td>\n",
       "    </tr>\n",
       "    <tr>\n",
       "      <th>1213</th>\n",
       "      <td>1214</td>\n",
       "      <td>80</td>\n",
       "      <td>NaN</td>\n",
       "      <td>10246</td>\n",
       "      <td>Pave</td>\n",
       "      <td>NaN</td>\n",
       "      <td>2</td>\n",
       "      <td>1</td>\n",
       "      <td>AllPub</td>\n",
       "      <td>3</td>\n",
       "      <td>...</td>\n",
       "      <td>0</td>\n",
       "      <td>NaN</td>\n",
       "      <td>NaN</td>\n",
       "      <td>NaN</td>\n",
       "      <td>0</td>\n",
       "      <td>5</td>\n",
       "      <td>2006</td>\n",
       "      <td>WD</td>\n",
       "      <td>Normal</td>\n",
       "      <td>145000</td>\n",
       "    </tr>\n",
       "    <tr>\n",
       "      <th>1270</th>\n",
       "      <td>1271</td>\n",
       "      <td>40</td>\n",
       "      <td>NaN</td>\n",
       "      <td>23595</td>\n",
       "      <td>Pave</td>\n",
       "      <td>NaN</td>\n",
       "      <td>1</td>\n",
       "      <td>4</td>\n",
       "      <td>AllPub</td>\n",
       "      <td>1</td>\n",
       "      <td>...</td>\n",
       "      <td>0</td>\n",
       "      <td>NaN</td>\n",
       "      <td>NaN</td>\n",
       "      <td>NaN</td>\n",
       "      <td>0</td>\n",
       "      <td>4</td>\n",
       "      <td>2010</td>\n",
       "      <td>WD</td>\n",
       "      <td>Normal</td>\n",
       "      <td>260000</td>\n",
       "    </tr>\n",
       "  </tbody>\n",
       "</table>\n",
       "<p>6 rows × 66 columns</p>\n",
       "</div>"
      ],
      "text/plain": [
       "        Id  MSSubClass  LotFrontage  LotArea Street Alley  LotShape  \\\n",
       "53      54          20         68.0    50271   Pave   NaN         2   \n",
       "189    190         120         41.0     4923   Pave   NaN         1   \n",
       "634    635          90         64.0     6979   Pave   NaN         1   \n",
       "1163  1164          90         60.0    12900   Pave   NaN         1   \n",
       "1213  1214          80          NaN    10246   Pave   NaN         2   \n",
       "1270  1271          40          NaN    23595   Pave   NaN         1   \n",
       "\n",
       "      LandContour Utilities  LotConfig  ...  PoolArea PoolQC  Fence  \\\n",
       "53              4    AllPub          1  ...         0    NaN    NaN   \n",
       "189             1    AllPub          1  ...         0    NaN    NaN   \n",
       "634             1    AllPub          1  ...         0    NaN  GdPrv   \n",
       "1163            1    AllPub          1  ...         0    NaN    NaN   \n",
       "1213            1    AllPub          3  ...         0    NaN    NaN   \n",
       "1270            4    AllPub          1  ...         0    NaN    NaN   \n",
       "\n",
       "     MiscFeature  MiscVal  MoSold  YrSold  SaleType SaleCondition SalePrice  \n",
       "53           NaN        0      11    2006        WD        Normal    385000  \n",
       "189          NaN        0       8    2008        WD        Normal    286000  \n",
       "634         Shed      600       6    2010        WD        Normal    144000  \n",
       "1163         NaN        0       1    2008        WD        Alloca    108959  \n",
       "1213         NaN        0       5    2006        WD        Normal    145000  \n",
       "1270         NaN        0       4    2010        WD        Normal    260000  \n",
       "\n",
       "[6 rows x 66 columns]"
      ]
     },
     "execution_count": 33,
     "metadata": {},
     "output_type": "execute_result"
    }
   ],
   "source": [
    "train_df[train_df[\"BedroomAbvGr\"] == 0]"
   ]
  },
  {
   "cell_type": "code",
   "execution_count": 34,
   "metadata": {
    "ExecuteTime": {
     "end_time": "2023-08-26T19:31:10.405487Z",
     "start_time": "2023-08-26T19:31:10.148947Z"
    },
    "collapsed": false,
    "jupyter": {
     "outputs_hidden": false
    },
    "tags": []
   },
   "outputs": [
    {
     "data": {
      "text/html": [
       "<div>\n",
       "<style scoped>\n",
       "    .dataframe tbody tr th:only-of-type {\n",
       "        vertical-align: middle;\n",
       "    }\n",
       "\n",
       "    .dataframe tbody tr th {\n",
       "        vertical-align: top;\n",
       "    }\n",
       "\n",
       "    .dataframe thead th {\n",
       "        text-align: right;\n",
       "    }\n",
       "</style>\n",
       "<table border=\"1\" class=\"dataframe\">\n",
       "  <thead>\n",
       "    <tr style=\"text-align: right;\">\n",
       "      <th></th>\n",
       "      <th>TotRmsAbvGrd</th>\n",
       "      <th>BedroomAbvGr</th>\n",
       "      <th>GrLivArea</th>\n",
       "      <th>1stFlrSF</th>\n",
       "      <th>2ndFlrSF</th>\n",
       "    </tr>\n",
       "  </thead>\n",
       "  <tbody>\n",
       "    <tr>\n",
       "      <th>0</th>\n",
       "      <td>8</td>\n",
       "      <td>3</td>\n",
       "      <td>1710</td>\n",
       "      <td>856</td>\n",
       "      <td>854</td>\n",
       "    </tr>\n",
       "    <tr>\n",
       "      <th>1</th>\n",
       "      <td>6</td>\n",
       "      <td>3</td>\n",
       "      <td>1262</td>\n",
       "      <td>1262</td>\n",
       "      <td>0</td>\n",
       "    </tr>\n",
       "    <tr>\n",
       "      <th>2</th>\n",
       "      <td>6</td>\n",
       "      <td>3</td>\n",
       "      <td>1786</td>\n",
       "      <td>920</td>\n",
       "      <td>866</td>\n",
       "    </tr>\n",
       "    <tr>\n",
       "      <th>3</th>\n",
       "      <td>7</td>\n",
       "      <td>3</td>\n",
       "      <td>1717</td>\n",
       "      <td>961</td>\n",
       "      <td>756</td>\n",
       "    </tr>\n",
       "    <tr>\n",
       "      <th>4</th>\n",
       "      <td>9</td>\n",
       "      <td>4</td>\n",
       "      <td>2198</td>\n",
       "      <td>1145</td>\n",
       "      <td>1053</td>\n",
       "    </tr>\n",
       "  </tbody>\n",
       "</table>\n",
       "</div>"
      ],
      "text/plain": [
       "   TotRmsAbvGrd  BedroomAbvGr  GrLivArea  1stFlrSF  2ndFlrSF\n",
       "0             8             3       1710       856       854\n",
       "1             6             3       1262      1262         0\n",
       "2             6             3       1786       920       866\n",
       "3             7             3       1717       961       756\n",
       "4             9             4       2198      1145      1053"
      ]
     },
     "execution_count": 34,
     "metadata": {},
     "output_type": "execute_result"
    },
    {
     "data": {
      "image/png": "[encoded data removed]",
      "text/plain": [
       "<Figure size 2000x2000 with 2 Axes>"
      ]
     },
     "metadata": {},
     "output_type": "display_data"
    }
   ],
   "source": [
    "house_size_features_df = train_df[house_size_features]\n",
    "\n",
    "plt.figure(figsize=(20, 20))\n",
    "sns.heatmap(house_size_features_df.corr())\n",
    "house_size_features_df.head()"
   ]
  },
  {
   "cell_type": "markdown",
   "metadata": {},
   "source": [
    "We notice from the graph a strong correlation between the features: Living Area Above Ground (GrLivArea), Total Rooms Above Ground (BedroomAbvGr) and Total Rooms Above Ground (TotalRmsAbvGrd). Also, I decided to discard the features 1 floor size (1nstFrSF) and 2 floor size (2nstFrSF) for a seek of simplicity."
   ]
  },
  {
   "cell_type": "code",
   "execution_count": 35,
   "metadata": {
    "ExecuteTime": {
     "end_time": "2023-08-26T19:32:55.617612Z",
     "start_time": "2023-08-26T19:32:55.570937Z"
    },
    "collapsed": false,
    "jupyter": {
     "outputs_hidden": false
    },
    "tags": []
   },
   "outputs": [],
   "source": [
    "train_df = train_df.drop(\"1stFlrSF\", axis = 1)\n",
    "test_df = test_df.drop(\"1stFlrSF\", axis = 1)\n",
    "train_df = train_df.drop(\"2ndFlrSF\", axis = 1)\n",
    "test_df = test_df.drop(\"2ndFlrSF\", axis = 1)\n",
    "train_df = train_df.drop(\"BedroomAbvGr\", axis = 1)\n",
    "test_df = test_df.drop(\"BedroomAbvGr\", axis = 1)"
   ]
  },
  {
   "cell_type": "markdown",
   "metadata": {},
   "source": [
    "## Garage Features"
   ]
  },
  {
   "cell_type": "code",
   "execution_count": 36,
   "metadata": {
    "ExecuteTime": {
     "end_time": "2023-08-26T19:38:37.978871Z",
     "start_time": "2023-08-26T19:38:37.952475Z"
    },
    "collapsed": false,
    "jupyter": {
     "outputs_hidden": false
    },
    "tags": []
   },
   "outputs": [],
   "source": [
    "garage_features = [\"GarageYrBlt\", \"GarageFinish\", \"GarageCars\", \"GarageArea\", \"GarageQual\", \"GarageCond\"]"
   ]
  },
  {
   "cell_type": "code",
   "execution_count": 37,
   "metadata": {
    "ExecuteTime": {
     "end_time": "2023-08-26T19:39:52.853913Z",
     "start_time": "2023-08-26T19:39:52.834616Z"
    },
    "collapsed": false,
    "jupyter": {
     "outputs_hidden": false
    },
    "tags": []
   },
   "outputs": [
    {
     "name": "stdout",
     "output_type": "stream",
     "text": [
      "<class 'pandas.core.frame.DataFrame'>\n",
      "RangeIndex: 1460 entries, 0 to 1459\n",
      "Data columns (total 6 columns):\n",
      " #   Column        Non-Null Count  Dtype  \n",
      "---  ------        --------------  -----  \n",
      " 0   GarageYrBlt   1379 non-null   float64\n",
      " 1   GarageFinish  1379 non-null   object \n",
      " 2   GarageCars    1460 non-null   int64  \n",
      " 3   GarageArea    1460 non-null   int64  \n",
      " 4   GarageQual    1379 non-null   object \n",
      " 5   GarageCond    1379 non-null   object \n",
      "dtypes: float64(1), int64(2), object(3)\n",
      "memory usage: 68.6+ KB\n"
     ]
    }
   ],
   "source": [
    "train_df[garage_features].info()"
   ]
  },
  {
   "cell_type": "markdown",
   "metadata": {},
   "source": [
    "GarageCars may have null values. GarageCars field with null value will be repalaced with as it denote a garage is not available with house."
   ]
  },
  {
   "cell_type": "code",
   "execution_count": 38,
   "metadata": {
    "tags": []
   },
   "outputs": [
    {
     "data": {
      "text/html": [
       "<div>\n",
       "<style scoped>\n",
       "    .dataframe tbody tr th:only-of-type {\n",
       "        vertical-align: middle;\n",
       "    }\n",
       "\n",
       "    .dataframe tbody tr th {\n",
       "        vertical-align: top;\n",
       "    }\n",
       "\n",
       "    .dataframe thead th {\n",
       "        text-align: right;\n",
       "    }\n",
       "</style>\n",
       "<table border=\"1\" class=\"dataframe\">\n",
       "  <thead>\n",
       "    <tr style=\"text-align: right;\">\n",
       "      <th></th>\n",
       "      <th>GarageYrBlt</th>\n",
       "      <th>GarageFinish</th>\n",
       "      <th>GarageCars</th>\n",
       "      <th>GarageArea</th>\n",
       "      <th>GarageQual</th>\n",
       "      <th>GarageCond</th>\n",
       "    </tr>\n",
       "  </thead>\n",
       "  <tbody>\n",
       "    <tr>\n",
       "      <th>0</th>\n",
       "      <td>2003.0</td>\n",
       "      <td>RFn</td>\n",
       "      <td>2</td>\n",
       "      <td>548</td>\n",
       "      <td>TA</td>\n",
       "      <td>TA</td>\n",
       "    </tr>\n",
       "    <tr>\n",
       "      <th>1</th>\n",
       "      <td>1976.0</td>\n",
       "      <td>RFn</td>\n",
       "      <td>2</td>\n",
       "      <td>460</td>\n",
       "      <td>TA</td>\n",
       "      <td>TA</td>\n",
       "    </tr>\n",
       "    <tr>\n",
       "      <th>2</th>\n",
       "      <td>2001.0</td>\n",
       "      <td>RFn</td>\n",
       "      <td>2</td>\n",
       "      <td>608</td>\n",
       "      <td>TA</td>\n",
       "      <td>TA</td>\n",
       "    </tr>\n",
       "    <tr>\n",
       "      <th>3</th>\n",
       "      <td>1998.0</td>\n",
       "      <td>Unf</td>\n",
       "      <td>3</td>\n",
       "      <td>642</td>\n",
       "      <td>TA</td>\n",
       "      <td>TA</td>\n",
       "    </tr>\n",
       "    <tr>\n",
       "      <th>4</th>\n",
       "      <td>2000.0</td>\n",
       "      <td>RFn</td>\n",
       "      <td>3</td>\n",
       "      <td>836</td>\n",
       "      <td>TA</td>\n",
       "      <td>TA</td>\n",
       "    </tr>\n",
       "    <tr>\n",
       "      <th>...</th>\n",
       "      <td>...</td>\n",
       "      <td>...</td>\n",
       "      <td>...</td>\n",
       "      <td>...</td>\n",
       "      <td>...</td>\n",
       "      <td>...</td>\n",
       "    </tr>\n",
       "    <tr>\n",
       "      <th>1455</th>\n",
       "      <td>1999.0</td>\n",
       "      <td>RFn</td>\n",
       "      <td>2</td>\n",
       "      <td>460</td>\n",
       "      <td>TA</td>\n",
       "      <td>TA</td>\n",
       "    </tr>\n",
       "    <tr>\n",
       "      <th>1456</th>\n",
       "      <td>1978.0</td>\n",
       "      <td>Unf</td>\n",
       "      <td>2</td>\n",
       "      <td>500</td>\n",
       "      <td>TA</td>\n",
       "      <td>TA</td>\n",
       "    </tr>\n",
       "    <tr>\n",
       "      <th>1457</th>\n",
       "      <td>1941.0</td>\n",
       "      <td>RFn</td>\n",
       "      <td>1</td>\n",
       "      <td>252</td>\n",
       "      <td>TA</td>\n",
       "      <td>TA</td>\n",
       "    </tr>\n",
       "    <tr>\n",
       "      <th>1458</th>\n",
       "      <td>1950.0</td>\n",
       "      <td>Unf</td>\n",
       "      <td>1</td>\n",
       "      <td>240</td>\n",
       "      <td>TA</td>\n",
       "      <td>TA</td>\n",
       "    </tr>\n",
       "    <tr>\n",
       "      <th>1459</th>\n",
       "      <td>1965.0</td>\n",
       "      <td>Fin</td>\n",
       "      <td>1</td>\n",
       "      <td>276</td>\n",
       "      <td>TA</td>\n",
       "      <td>TA</td>\n",
       "    </tr>\n",
       "  </tbody>\n",
       "</table>\n",
       "<p>1460 rows × 6 columns</p>\n",
       "</div>"
      ],
      "text/plain": [
       "      GarageYrBlt GarageFinish  GarageCars  GarageArea GarageQual GarageCond\n",
       "0          2003.0          RFn           2         548         TA         TA\n",
       "1          1976.0          RFn           2         460         TA         TA\n",
       "2          2001.0          RFn           2         608         TA         TA\n",
       "3          1998.0          Unf           3         642         TA         TA\n",
       "4          2000.0          RFn           3         836         TA         TA\n",
       "...           ...          ...         ...         ...        ...        ...\n",
       "1455       1999.0          RFn           2         460         TA         TA\n",
       "1456       1978.0          Unf           2         500         TA         TA\n",
       "1457       1941.0          RFn           1         252         TA         TA\n",
       "1458       1950.0          Unf           1         240         TA         TA\n",
       "1459       1965.0          Fin           1         276         TA         TA\n",
       "\n",
       "[1460 rows x 6 columns]"
      ]
     },
     "execution_count": 38,
     "metadata": {},
     "output_type": "execute_result"
    }
   ],
   "source": [
    "train_df[garage_features].fillna(0)"
   ]
  },
  {
   "cell_type": "markdown",
   "metadata": {},
   "source": [
    "## Garage Features\n",
    "\n",
    "GarageCond, GarageQual and GarageFinish are non-numerical features. However, since quality is a feature that can be measured and has a magnitude GarageQual and GarageCond will be converted to numerical categories. Same apply to GarageFinish feature since it also reflects a magnitute (how much of basement space is finished)"
   ]
  },
  {
   "cell_type": "code",
   "execution_count": 39,
   "metadata": {
    "ExecuteTime": {
     "end_time": "2023-08-26T19:42:14.362985Z",
     "start_time": "2023-08-26T19:42:14.313251Z"
    },
    "collapsed": false,
    "jupyter": {
     "outputs_hidden": false
    },
    "tags": []
   },
   "outputs": [],
   "source": [
    "GarageQual = {\n",
    "    \"Ex\": 5, # Excellent\n",
    "    \"Gd\": 4, # Good\n",
    "    \"TA\": 3, # Typical/Average\n",
    "    \"Fa\": 2, # Fair\n",
    "    \"Po\": 1, # Poor\n",
    "    \"NA\": 0  # No Garage\n",
    "}\n",
    "GarageCond = {\n",
    "    \"Ex\": 5, #\tExcellent,\n",
    "    \"Gd\": 4, #\tGood,\n",
    "    \"TA\": 3, #\tTypical/Average\n",
    "    \"Fa\": 2, #  Fair\n",
    "    \"Po\": 1, #  Poor\n",
    "    \"NA\": 0  # No Garage\n",
    "}\n",
    "\n",
    "GarageFinish = {\n",
    "    # Interior finish of the garage\n",
    "    \"Fin\":\t3, # Finished\n",
    "    \"RFn\":\t2, # Rough Finished\n",
    "    \"Unf\":\t1, # Unfinished\n",
    "    \"NA\": 0,   # No Garage\n",
    "}\n",
    "\n",
    "garage_features = [\"GarageYrBlt\", \"GarageFinish\", \"GarageCars\", \"GarageArea\", \"GarageQual\", \"GarageCond\"]\n",
    "\n",
    "train_df[garage_features]\n",
    "\n",
    "train_df.replace(\n",
    "    {\n",
    "        \"GarageFinish\": GarageFinish,\n",
    "        \"GarageCond\": GarageCond,\n",
    "        \"GarageQual\": GarageQual\n",
    "    },\n",
    "    inplace=True,\n",
    ")\n",
    "test_df.replace(\n",
    "    {\n",
    "        \"GarageFinish\": GarageFinish,\n",
    "        \"GarageCond\": GarageCond,\n",
    "        \"GarageQual\": GarageQual\n",
    "    },\n",
    "    inplace=True,\n",
    ")\n",
    "\n"
   ]
  },
  {
   "cell_type": "code",
   "execution_count": 40,
   "metadata": {
    "tags": []
   },
   "outputs": [
    {
     "data": {
      "text/html": [
       "<div>\n",
       "<style scoped>\n",
       "    .dataframe tbody tr th:only-of-type {\n",
       "        vertical-align: middle;\n",
       "    }\n",
       "\n",
       "    .dataframe tbody tr th {\n",
       "        vertical-align: top;\n",
       "    }\n",
       "\n",
       "    .dataframe thead th {\n",
       "        text-align: right;\n",
       "    }\n",
       "</style>\n",
       "<table border=\"1\" class=\"dataframe\">\n",
       "  <thead>\n",
       "    <tr style=\"text-align: right;\">\n",
       "      <th></th>\n",
       "      <th>GarageYrBlt</th>\n",
       "      <th>GarageFinish</th>\n",
       "      <th>GarageCars</th>\n",
       "      <th>GarageArea</th>\n",
       "      <th>GarageQual</th>\n",
       "      <th>GarageCond</th>\n",
       "    </tr>\n",
       "  </thead>\n",
       "  <tbody>\n",
       "    <tr>\n",
       "      <th>0</th>\n",
       "      <td>2003.0</td>\n",
       "      <td>2.0</td>\n",
       "      <td>2</td>\n",
       "      <td>548</td>\n",
       "      <td>3.0</td>\n",
       "      <td>3.0</td>\n",
       "    </tr>\n",
       "    <tr>\n",
       "      <th>1</th>\n",
       "      <td>1976.0</td>\n",
       "      <td>2.0</td>\n",
       "      <td>2</td>\n",
       "      <td>460</td>\n",
       "      <td>3.0</td>\n",
       "      <td>3.0</td>\n",
       "    </tr>\n",
       "    <tr>\n",
       "      <th>2</th>\n",
       "      <td>2001.0</td>\n",
       "      <td>2.0</td>\n",
       "      <td>2</td>\n",
       "      <td>608</td>\n",
       "      <td>3.0</td>\n",
       "      <td>3.0</td>\n",
       "    </tr>\n",
       "    <tr>\n",
       "      <th>3</th>\n",
       "      <td>1998.0</td>\n",
       "      <td>1.0</td>\n",
       "      <td>3</td>\n",
       "      <td>642</td>\n",
       "      <td>3.0</td>\n",
       "      <td>3.0</td>\n",
       "    </tr>\n",
       "    <tr>\n",
       "      <th>4</th>\n",
       "      <td>2000.0</td>\n",
       "      <td>2.0</td>\n",
       "      <td>3</td>\n",
       "      <td>836</td>\n",
       "      <td>3.0</td>\n",
       "      <td>3.0</td>\n",
       "    </tr>\n",
       "    <tr>\n",
       "      <th>...</th>\n",
       "      <td>...</td>\n",
       "      <td>...</td>\n",
       "      <td>...</td>\n",
       "      <td>...</td>\n",
       "      <td>...</td>\n",
       "      <td>...</td>\n",
       "    </tr>\n",
       "    <tr>\n",
       "      <th>1455</th>\n",
       "      <td>1999.0</td>\n",
       "      <td>2.0</td>\n",
       "      <td>2</td>\n",
       "      <td>460</td>\n",
       "      <td>3.0</td>\n",
       "      <td>3.0</td>\n",
       "    </tr>\n",
       "    <tr>\n",
       "      <th>1456</th>\n",
       "      <td>1978.0</td>\n",
       "      <td>1.0</td>\n",
       "      <td>2</td>\n",
       "      <td>500</td>\n",
       "      <td>3.0</td>\n",
       "      <td>3.0</td>\n",
       "    </tr>\n",
       "    <tr>\n",
       "      <th>1457</th>\n",
       "      <td>1941.0</td>\n",
       "      <td>2.0</td>\n",
       "      <td>1</td>\n",
       "      <td>252</td>\n",
       "      <td>3.0</td>\n",
       "      <td>3.0</td>\n",
       "    </tr>\n",
       "    <tr>\n",
       "      <th>1458</th>\n",
       "      <td>1950.0</td>\n",
       "      <td>1.0</td>\n",
       "      <td>1</td>\n",
       "      <td>240</td>\n",
       "      <td>3.0</td>\n",
       "      <td>3.0</td>\n",
       "    </tr>\n",
       "    <tr>\n",
       "      <th>1459</th>\n",
       "      <td>1965.0</td>\n",
       "      <td>3.0</td>\n",
       "      <td>1</td>\n",
       "      <td>276</td>\n",
       "      <td>3.0</td>\n",
       "      <td>3.0</td>\n",
       "    </tr>\n",
       "  </tbody>\n",
       "</table>\n",
       "<p>1460 rows × 6 columns</p>\n",
       "</div>"
      ],
      "text/plain": [
       "      GarageYrBlt  GarageFinish  GarageCars  GarageArea  GarageQual  \\\n",
       "0          2003.0           2.0           2         548         3.0   \n",
       "1          1976.0           2.0           2         460         3.0   \n",
       "2          2001.0           2.0           2         608         3.0   \n",
       "3          1998.0           1.0           3         642         3.0   \n",
       "4          2000.0           2.0           3         836         3.0   \n",
       "...           ...           ...         ...         ...         ...   \n",
       "1455       1999.0           2.0           2         460         3.0   \n",
       "1456       1978.0           1.0           2         500         3.0   \n",
       "1457       1941.0           2.0           1         252         3.0   \n",
       "1458       1950.0           1.0           1         240         3.0   \n",
       "1459       1965.0           3.0           1         276         3.0   \n",
       "\n",
       "      GarageCond  \n",
       "0            3.0  \n",
       "1            3.0  \n",
       "2            3.0  \n",
       "3            3.0  \n",
       "4            3.0  \n",
       "...          ...  \n",
       "1455         3.0  \n",
       "1456         3.0  \n",
       "1457         3.0  \n",
       "1458         3.0  \n",
       "1459         3.0  \n",
       "\n",
       "[1460 rows x 6 columns]"
      ]
     },
     "execution_count": 40,
     "metadata": {},
     "output_type": "execute_result"
    }
   ],
   "source": [
    "train_df[garage_features]"
   ]
  },
  {
   "cell_type": "markdown",
   "metadata": {},
   "source": [
    "The correlation graph below highlight that fact that GarageArea (Garage size in square footage) and GarageCars (number of cars that can fit in the garage) are strongly correlated. As result of that, I will discard GarageArea."
   ]
  },
  {
   "cell_type": "code",
   "execution_count": 41,
   "metadata": {
    "ExecuteTime": {
     "end_time": "2023-08-26T19:44:32.994969Z",
     "start_time": "2023-08-26T19:44:32.237331Z"
    },
    "collapsed": false,
    "jupyter": {
     "outputs_hidden": false
    },
    "tags": []
   },
   "outputs": [
    {
     "data": {
      "text/html": [
       "<div>\n",
       "<style scoped>\n",
       "    .dataframe tbody tr th:only-of-type {\n",
       "        vertical-align: middle;\n",
       "    }\n",
       "\n",
       "    .dataframe tbody tr th {\n",
       "        vertical-align: top;\n",
       "    }\n",
       "\n",
       "    .dataframe thead th {\n",
       "        text-align: right;\n",
       "    }\n",
       "</style>\n",
       "<table border=\"1\" class=\"dataframe\">\n",
       "  <thead>\n",
       "    <tr style=\"text-align: right;\">\n",
       "      <th></th>\n",
       "      <th>GarageYrBlt</th>\n",
       "      <th>GarageFinish</th>\n",
       "      <th>GarageCars</th>\n",
       "      <th>GarageArea</th>\n",
       "      <th>GarageQual</th>\n",
       "      <th>GarageCond</th>\n",
       "    </tr>\n",
       "  </thead>\n",
       "  <tbody>\n",
       "    <tr>\n",
       "      <th>0</th>\n",
       "      <td>2003.0</td>\n",
       "      <td>2.0</td>\n",
       "      <td>2</td>\n",
       "      <td>548</td>\n",
       "      <td>3.0</td>\n",
       "      <td>3.0</td>\n",
       "    </tr>\n",
       "    <tr>\n",
       "      <th>1</th>\n",
       "      <td>1976.0</td>\n",
       "      <td>2.0</td>\n",
       "      <td>2</td>\n",
       "      <td>460</td>\n",
       "      <td>3.0</td>\n",
       "      <td>3.0</td>\n",
       "    </tr>\n",
       "    <tr>\n",
       "      <th>2</th>\n",
       "      <td>2001.0</td>\n",
       "      <td>2.0</td>\n",
       "      <td>2</td>\n",
       "      <td>608</td>\n",
       "      <td>3.0</td>\n",
       "      <td>3.0</td>\n",
       "    </tr>\n",
       "    <tr>\n",
       "      <th>3</th>\n",
       "      <td>1998.0</td>\n",
       "      <td>1.0</td>\n",
       "      <td>3</td>\n",
       "      <td>642</td>\n",
       "      <td>3.0</td>\n",
       "      <td>3.0</td>\n",
       "    </tr>\n",
       "    <tr>\n",
       "      <th>4</th>\n",
       "      <td>2000.0</td>\n",
       "      <td>2.0</td>\n",
       "      <td>3</td>\n",
       "      <td>836</td>\n",
       "      <td>3.0</td>\n",
       "      <td>3.0</td>\n",
       "    </tr>\n",
       "  </tbody>\n",
       "</table>\n",
       "</div>"
      ],
      "text/plain": [
       "   GarageYrBlt  GarageFinish  GarageCars  GarageArea  GarageQual  GarageCond\n",
       "0       2003.0           2.0           2         548         3.0         3.0\n",
       "1       1976.0           2.0           2         460         3.0         3.0\n",
       "2       2001.0           2.0           2         608         3.0         3.0\n",
       "3       1998.0           1.0           3         642         3.0         3.0\n",
       "4       2000.0           2.0           3         836         3.0         3.0"
      ]
     },
     "execution_count": 41,
     "metadata": {},
     "output_type": "execute_result"
    },
    {
     "data": {
      "image/png": "[encoded data removed]",
      "text/plain": [
       "<Figure size 2000x2000 with 2 Axes>"
      ]
     },
     "metadata": {},
     "output_type": "display_data"
    }
   ],
   "source": [
    "garage_features_df = train_df[garage_features]\n",
    "\n",
    "plt.figure(figsize=(20, 20))\n",
    "sns.heatmap(garage_features_df.corr())\n",
    "garage_features_df.head()"
   ]
  },
  {
   "cell_type": "code",
   "execution_count": 42,
   "metadata": {
    "ExecuteTime": {
     "end_time": "2023-08-26T19:46:46.422505Z",
     "start_time": "2023-08-26T19:46:46.401464Z"
    },
    "collapsed": false,
    "jupyter": {
     "outputs_hidden": false
    },
    "tags": []
   },
   "outputs": [],
   "source": [
    "train_df = train_df.drop(\"GarageArea\", axis = 1)\n",
    "test_df = test_df.drop(\"GarageArea\", axis = 1)"
   ]
  },
  {
   "cell_type": "markdown",
   "metadata": {},
   "source": [
    "## Utilities Featutes\n"
   ]
  },
  {
   "cell_type": "code",
   "execution_count": 43,
   "metadata": {
    "ExecuteTime": {
     "end_time": "2023-08-26T20:08:50.828362Z",
     "start_time": "2023-08-26T20:08:50.816917Z"
    },
    "collapsed": false,
    "jupyter": {
     "outputs_hidden": false
    },
    "tags": []
   },
   "outputs": [],
   "source": [
    "utilities_features = [\"Electrical\", \"Utilities\", \"Fireplaces\", \"FireplaceQu\", \"Heating\", \"HeatingQC\", \"CentralAir\"]\n"
   ]
  },
  {
   "cell_type": "code",
   "execution_count": 44,
   "metadata": {
    "ExecuteTime": {
     "end_time": "2023-08-26T20:09:54.905814Z",
     "start_time": "2023-08-26T20:09:54.860674Z"
    },
    "collapsed": false,
    "jupyter": {
     "outputs_hidden": false
    },
    "tags": []
   },
   "outputs": [
    {
     "name": "stdout",
     "output_type": "stream",
     "text": [
      "<class 'pandas.core.frame.DataFrame'>\n",
      "RangeIndex: 1460 entries, 0 to 1459\n",
      "Data columns (total 7 columns):\n",
      " #   Column       Non-Null Count  Dtype \n",
      "---  ------       --------------  ----- \n",
      " 0   Electrical   1459 non-null   object\n",
      " 1   Utilities    1460 non-null   object\n",
      " 2   Fireplaces   1460 non-null   int64 \n",
      " 3   FireplaceQu  770 non-null    object\n",
      " 4   Heating      1460 non-null   object\n",
      " 5   HeatingQC    1460 non-null   object\n",
      " 6   CentralAir   1460 non-null   object\n",
      "dtypes: int64(1), object(6)\n",
      "memory usage: 80.0+ KB\n"
     ]
    }
   ],
   "source": [
    "utilities_features_df = train_df[utilities_features]\n",
    "utilities_features_df.info()"
   ]
  },
  {
   "cell_type": "markdown",
   "metadata": {},
   "source": [
    "Fireplace quality feature (FireplaceQu) reflect a magnitude. However, it have a non-numerical value. We can convert it to numerical values reflecing values increasing from 0 (no fireplace) to 5 (fireplace in excellent condition)."
   ]
  },
  {
   "cell_type": "code",
   "execution_count": 45,
   "metadata": {
    "ExecuteTime": {
     "end_time": "2023-08-26T20:13:30.046458Z",
     "start_time": "2023-08-26T20:13:30.013019Z"
    },
    "collapsed": false,
    "jupyter": {
     "outputs_hidden": false
    },
    "tags": []
   },
   "outputs": [],
   "source": [
    "fireplace_quality = {\n",
    "    \"Ex\": 5, # Excellent - Exceptional Masonry Fireplace\n",
    "    \"Gd\": 4, # Good - Masonry Fireplace in main level\n",
    "    \"TA\": 3, # Average - Prefabricated Fireplace in main living area or Masonry Fireplace in basement\n",
    "    \"Fa\": 2, # Fair - Prefabricated Fireplace in basement\n",
    "    \"Po\": 1, # Poor - Ben Franklin Stove\n",
    "    \"NA\": 0  # No Fireplace\n",
    "}\n",
    "train_df.replace(\n",
    "    {\n",
    "        \"FireplaceQu\": fireplace_quality,\n",
    "    },\n",
    "    inplace=True,\n",
    ")\n",
    "\n",
    "test_df.replace(\n",
    "    {\n",
    "        \"FireplaceQu\": fireplace_quality,\n",
    "    },\n",
    "    inplace=True,\n",
    ")"
   ]
  },
  {
   "cell_type": "markdown",
   "metadata": {},
   "source": [
    "The features \"Electrical\", \"Utilities\", \"Heating\", \"HeatingQC\" and \"CentralAir\" will be discarded as they don't manifest a normal distribution. For example all entries have Utilities except 1 as \"AllPubl\" (All public Utilities)"
   ]
  },
  {
   "cell_type": "code",
   "execution_count": 46,
   "metadata": {
    "ExecuteTime": {
     "end_time": "2023-08-26T20:15:31.686993Z",
     "start_time": "2023-08-26T20:15:31.639691Z"
    },
    "collapsed": false,
    "jupyter": {
     "outputs_hidden": false
    },
    "tags": []
   },
   "outputs": [],
   "source": [
    "train_df = train_df.drop(\"Electrical\", axis=1)\n",
    "test_df = test_df.drop(\"Electrical\", axis=1)\n"
   ]
  },
  {
   "cell_type": "code",
   "execution_count": 47,
   "metadata": {
    "ExecuteTime": {
     "end_time": "2023-08-26T20:15:39.206765Z",
     "start_time": "2023-08-26T20:15:39.156325Z"
    },
    "collapsed": false,
    "jupyter": {
     "outputs_hidden": false
    },
    "tags": []
   },
   "outputs": [],
   "source": [
    "train_df = train_df.drop(\"Utilities\", axis = 1)\n",
    "test_df = test_df.drop(\"Utilities\", axis = 1)"
   ]
  },
  {
   "cell_type": "code",
   "execution_count": 48,
   "metadata": {
    "ExecuteTime": {
     "end_time": "2023-08-26T20:15:47.271073Z",
     "start_time": "2023-08-26T20:15:47.237837Z"
    },
    "collapsed": false,
    "jupyter": {
     "outputs_hidden": false
    },
    "tags": []
   },
   "outputs": [],
   "source": [
    "train_df = train_df.drop(\"Heating\", axis = 1)\n",
    "test_df = test_df.drop(\"Heating\", axis = 1)"
   ]
  },
  {
   "cell_type": "code",
   "execution_count": 49,
   "metadata": {
    "ExecuteTime": {
     "end_time": "2023-08-26T20:15:55.027652Z",
     "start_time": "2023-08-26T20:15:54.979819Z"
    },
    "collapsed": false,
    "jupyter": {
     "outputs_hidden": false
    },
    "tags": []
   },
   "outputs": [],
   "source": [
    "train_df = train_df.drop(\"HeatingQC\", axis = 1)\n",
    "test_df = test_df.drop(\"HeatingQC\", axis = 1)"
   ]
  },
  {
   "cell_type": "code",
   "execution_count": 50,
   "metadata": {
    "ExecuteTime": {
     "end_time": "2023-08-26T20:16:04.016678Z",
     "start_time": "2023-08-26T20:16:03.973543Z"
    },
    "collapsed": false,
    "jupyter": {
     "outputs_hidden": false
    },
    "tags": []
   },
   "outputs": [],
   "source": [
    "train_df = train_df.drop(\"CentralAir\", axis = 1)\n",
    "test_df = test_df.drop(\"CentralAir\", axis = 1)"
   ]
  },
  {
   "cell_type": "markdown",
   "metadata": {},
   "source": [
    "## Kitchen Features"
   ]
  },
  {
   "cell_type": "code",
   "execution_count": 51,
   "metadata": {
    "ExecuteTime": {
     "end_time": "2023-08-26T20:17:41.361396Z",
     "start_time": "2023-08-26T20:17:41.322361Z"
    },
    "collapsed": false,
    "jupyter": {
     "outputs_hidden": false
    },
    "tags": []
   },
   "outputs": [],
   "source": [
    "kitchen_features = [\"KitchenAbvGr\", \"KitchenQual\"]"
   ]
  },
  {
   "cell_type": "markdown",
   "metadata": {},
   "source": [
    "My feeling is that the kitchen quality matters more in influencing the sales price of the house. Most houses will have 1 kitchen. Indeed, from the collected data only 4% of the houses have 2 kitchens, 1 house has no kitchen and 2 houses have 3 kitchens. It is safe to discard this feature as it doesn't add value to the sales prediction."
   ]
  },
  {
   "cell_type": "code",
   "execution_count": 52,
   "metadata": {
    "ExecuteTime": {
     "end_time": "2023-08-26T20:18:36.885318Z",
     "start_time": "2023-08-26T20:18:36.829917Z"
    },
    "collapsed": false,
    "jupyter": {
     "outputs_hidden": false
    },
    "tags": []
   },
   "outputs": [
    {
     "data": {
      "text/plain": [
       "1    1392\n",
       "2      65\n",
       "3       2\n",
       "0       1\n",
       "Name: KitchenAbvGr, dtype: int64"
      ]
     },
     "execution_count": 52,
     "metadata": {},
     "output_type": "execute_result"
    }
   ],
   "source": [
    "train_df[\"KitchenAbvGr\"].value_counts()\n"
   ]
  },
  {
   "cell_type": "code",
   "execution_count": 53,
   "metadata": {
    "ExecuteTime": {
     "end_time": "2023-08-26T20:18:53.758769Z",
     "start_time": "2023-08-26T20:18:53.696027Z"
    },
    "collapsed": false,
    "jupyter": {
     "outputs_hidden": false
    },
    "tags": []
   },
   "outputs": [],
   "source": [
    "train_df = train_df.drop(\"KitchenAbvGr\", axis = 1)\n",
    "test_df = test_df.drop(\"KitchenAbvGr\", axis = 1)"
   ]
  },
  {
   "cell_type": "markdown",
   "metadata": {},
   "source": [
    "The feature \"KitchenQual\" can be transformed to a numerical value as it reflect a magnitude.\n"
   ]
  },
  {
   "cell_type": "code",
   "execution_count": 54,
   "metadata": {
    "ExecuteTime": {
     "end_time": "2023-08-26T20:19:23.614329Z",
     "start_time": "2023-08-26T20:19:23.566849Z"
    },
    "collapsed": false,
    "jupyter": {
     "outputs_hidden": false
    },
    "tags": []
   },
   "outputs": [],
   "source": [
    "kitchen_quality = {\n",
    "    \"Ex\": 5, # Excellent - Exceptional Masonry Fireplace\n",
    "    \"Gd\": 4, # Good - Masonry Fireplace in main level\n",
    "    \"TA\": 3, # Average - Prefabricated Fireplace in main living area or Masonry Fireplace in basement\n",
    "    \"Fa\": 2, # Fair - Prefabricated Fireplace in basement\n",
    "    \"Po\": 1, # Poor - Ben Franklin Stove\n",
    "}\n",
    "\n",
    "train_df.replace(\n",
    "    {\n",
    "        \"KitchenQual\": kitchen_quality,\n",
    "    },\n",
    "    inplace=True,\n",
    ")\n",
    "test_df.replace(\n",
    "    {\n",
    "        \"KitchenQual\": kitchen_quality,\n",
    "    },\n",
    "    inplace=True,\n",
    ")"
   ]
  },
  {
   "cell_type": "markdown",
   "metadata": {},
   "source": [
    "## Pool Features\n",
    "\n",
    "From the home sales data only 7 houses out of 1460 have a swimming pool. We can safely discard pool featured as it doesn't add value to the sales price prediction."
   ]
  },
  {
   "cell_type": "code",
   "execution_count": 55,
   "metadata": {
    "ExecuteTime": {
     "end_time": "2023-08-26T20:24:06.471905Z",
     "start_time": "2023-08-26T20:24:06.411310Z"
    },
    "collapsed": false,
    "jupyter": {
     "outputs_hidden": false
    },
    "tags": []
   },
   "outputs": [
    {
     "data": {
      "text/plain": [
       "0      1453\n",
       "512       1\n",
       "648       1\n",
       "576       1\n",
       "555       1\n",
       "480       1\n",
       "519       1\n",
       "738       1\n",
       "Name: PoolArea, dtype: int64"
      ]
     },
     "execution_count": 55,
     "metadata": {},
     "output_type": "execute_result"
    }
   ],
   "source": [
    "pool_features = [\"PoolArea\", \"PoolQC\"]\n",
    "train_df[\"PoolArea\"].value_counts()"
   ]
  },
  {
   "cell_type": "code",
   "execution_count": 56,
   "metadata": {
    "ExecuteTime": {
     "end_time": "2023-08-26T20:24:22.795159Z",
     "start_time": "2023-08-26T20:24:22.725502Z"
    },
    "collapsed": false,
    "jupyter": {
     "outputs_hidden": false
    },
    "tags": []
   },
   "outputs": [],
   "source": [
    "train_df = train_df.drop(\"PoolArea\", axis = 1)\n",
    "test_df = test_df.drop(\"PoolArea\", axis = 1)"
   ]
  },
  {
   "cell_type": "code",
   "execution_count": 57,
   "metadata": {
    "ExecuteTime": {
     "end_time": "2023-08-26T20:24:29.855827Z",
     "start_time": "2023-08-26T20:24:29.816372Z"
    },
    "collapsed": false,
    "jupyter": {
     "outputs_hidden": false
    },
    "tags": []
   },
   "outputs": [],
   "source": [
    "train_df = train_df.drop(\"PoolQC\", axis = 1)\n",
    "test_df = test_df.drop(\"PoolQC\", axis = 1)"
   ]
  },
  {
   "cell_type": "markdown",
   "metadata": {},
   "source": [
    "## Bathrooms Features\n"
   ]
  },
  {
   "cell_type": "markdown",
   "metadata": {},
   "source": [
    "I decided that half bath can be counted as full bath. As result, new features are created total_bathroom and total_basement_bathroom replacing FullBath, HalfBath, BsmtHalfBath and BsmtFullBath. I found this approach will simply the model whithout scarifying the precision of the prediction."
   ]
  },
  {
   "cell_type": "code",
   "execution_count": 58,
   "metadata": {
    "ExecuteTime": {
     "end_time": "2023-08-26T20:29:36.827961Z",
     "start_time": "2023-08-26T20:29:36.783744Z"
    },
    "collapsed": false,
    "jupyter": {
     "outputs_hidden": false
    },
    "tags": []
   },
   "outputs": [],
   "source": [
    "train_df[\"total_bathroom\"] =  train_df[\"FullBath\"] + train_df[\"HalfBath\"]\n",
    "train_df[\"total_basement_bathroom\"] =  train_df[\"BsmtHalfBath\"] + train_df[\"BsmtFullBath\"]\n",
    "\n",
    "test_df[\"total_bathroom\"] =  test_df[\"FullBath\"] + test_df[\"HalfBath\"]\n",
    "test_df[\"total_basement_bathroom\"] =  test_df[\"BsmtHalfBath\"] + test_df[\"BsmtFullBath\"]\n",
    "\n",
    "bathroom_features = [\"BsmtFullBath\", \"BsmtHalfBath\", \"FullBath\", \"HalfBath\", \"total_bathroom\", \"total_basement_bathroom\"]"
   ]
  },
  {
   "cell_type": "code",
   "execution_count": 59,
   "metadata": {
    "ExecuteTime": {
     "end_time": "2023-08-26T20:29:46.435723Z",
     "start_time": "2023-08-26T20:29:46.157521Z"
    },
    "collapsed": false,
    "jupyter": {
     "outputs_hidden": false
    },
    "tags": []
   },
   "outputs": [
    {
     "data": {
      "text/plain": [
       "<Axes: >"
      ]
     },
     "execution_count": 59,
     "metadata": {},
     "output_type": "execute_result"
    },
    {
     "data": {
      "image/png": "[encoded data removed]",
      "text/plain": [
       "<Figure size 2000x2000 with 2 Axes>"
      ]
     },
     "metadata": {},
     "output_type": "display_data"
    }
   ],
   "source": [
    "plt.figure(figsize=(20, 20))\n",
    "sns.heatmap(train_df[bathroom_features].corr())"
   ]
  },
  {
   "cell_type": "markdown",
   "metadata": {},
   "source": [
    "We can conclude from that decision to introduce the new features: total_bathroom and total_basement_bathroom was right since the graph above clearly shows a correlation between: FullBath and total_bathroom and between BsmtFullBath and total_basement_bathroom and also between HalfBath and total_bathroom and BsmtHalfBath and total_basement_bathroom ."
   ]
  },
  {
   "cell_type": "code",
   "execution_count": 60,
   "metadata": {
    "ExecuteTime": {
     "end_time": "2023-08-26T20:35:09.520683Z",
     "start_time": "2023-08-26T20:35:09.467998Z"
    },
    "collapsed": false,
    "jupyter": {
     "outputs_hidden": false
    },
    "tags": []
   },
   "outputs": [],
   "source": [
    "train_df = train_df.drop(\"BsmtFullBath\", axis = 1)\n",
    "test_df = test_df.drop(\"BsmtFullBath\", axis = 1)\n",
    "train_df = train_df.drop(\"BsmtHalfBath\", axis = 1)\n",
    "test_df = test_df.drop(\"BsmtHalfBath\", axis = 1)\n",
    "train_df = train_df.drop(\"FullBath\", axis = 1)\n",
    "test_df = test_df.drop(\"FullBath\", axis = 1)\n",
    "train_df = train_df.drop(\"HalfBath\", axis = 1)\n",
    "test_df = test_df.drop(\"HalfBath\", axis = 1)"
   ]
  },
  {
   "cell_type": "markdown",
   "metadata": {},
   "source": [
    "## Home Type features\n"
   ]
  },
  {
   "cell_type": "markdown",
   "metadata": {},
   "source": [
    "The building type fearture (\"BldgType\") and House Style feature (\"HouseStyle\") can be converted to numerical category as it reflect a magnitude."
   ]
  },
  {
   "cell_type": "code",
   "execution_count": 61,
   "metadata": {
    "ExecuteTime": {
     "end_time": "2023-08-26T20:46:58.406020Z",
     "start_time": "2023-08-26T20:46:58.397205Z"
    },
    "collapsed": false,
    "jupyter": {
     "outputs_hidden": false
    },
    "tags": []
   },
   "outputs": [],
   "source": [
    "BldgType = {\n",
    "    \"1Fam\" : 1, #\tSingle-family Detached\n",
    "    \"2FmCon\" : 2,\t# Two-family Conversion; originally built as one-family dwelling\n",
    "    \"2fmCon\" : 2,\t# Two-family Conversion; originally built as one-family dwelling\n",
    "    \"Duplx\" : 3, \t# Duplex\n",
    "    \"Duplex\" : 3, \t# Duplex\n",
    "    \"TwnhsE\" : 4,\t# Townhouse End Unit\n",
    "    \"Twnhs\" : 4,\t# Townhouse End Unit\n",
    "    \"TwnhsI\" : 5\t# Townhouse Inside Unit\n",
    "}\n",
    "\n",
    "HouseStyle = {\n",
    "    \"1Story\" : 1,  #\tOne story\n",
    "    \"1.5Unf\" :\t2, #, # One and one-half story: 2nd level unfinished\n",
    "    \"1.5Fin\" :\t3, # One and one-half story: 2nd level finished\n",
    "    \"2Story\" : 4, #\tTwo story\n",
    "    \"2.5Unf\" :\t5, # Two and one-half story: 2nd level unfinished\n",
    "    \"2.5Fin\" : 6, #\tTwo and one-half story: 2nd level finished\n",
    "    \"SFoyer\" : 7, #\tSplit Foyer\n",
    "    \"SLvl\"\t: 8  # Split Level\n",
    "}\n",
    "\n",
    "train_df.replace(\n",
    "    {\n",
    "        \"BldgType\": BldgType,\n",
    "    },\n",
    "    inplace=True,\n",
    ")\n",
    "\n",
    "test_df.replace(\n",
    "    {\n",
    "        \"BldgType\": BldgType,\n",
    "    },\n",
    "    inplace=True,\n",
    ")\n",
    "\n",
    "train_df.replace(\n",
    "    {\n",
    "        \"HouseStyle\": HouseStyle,\n",
    "    },\n",
    "    inplace=True,\n",
    ")\n",
    "\n",
    "test_df.replace(\n",
    "    {\n",
    "        \"HouseStyle\": HouseStyle,\n",
    "    },\n",
    "    inplace=True,\n",
    ")\n",
    "home_type_features = [\"BldgType\", \"HouseStyle\", \"MSSubClass\"]"
   ]
  },
  {
   "cell_type": "code",
   "execution_count": 62,
   "metadata": {
    "ExecuteTime": {
     "end_time": "2023-08-26T20:47:11.883599Z",
     "start_time": "2023-08-26T20:47:11.464637Z"
    },
    "collapsed": false,
    "jupyter": {
     "outputs_hidden": false
    },
    "tags": []
   },
   "outputs": [
    {
     "data": {
      "text/plain": [
       "<Axes: >"
      ]
     },
     "execution_count": 62,
     "metadata": {},
     "output_type": "execute_result"
    },
    {
     "data": {
      "image/png": "[encoded data removed]",
      "text/plain": [
       "<Figure size 2000x2000 with 2 Axes>"
      ]
     },
     "metadata": {},
     "output_type": "display_data"
    }
   ],
   "source": [
    "plt.figure(figsize=(20, 20))\n",
    "sns.heatmap(train_df[home_type_features].corr())"
   ]
  },
  {
   "cell_type": "markdown",
   "metadata": {},
   "source": [
    "From the graph above, we can clearly see that  MSSubClass correlate with BldgType. The feature MSSubClass can be discarded.\n"
   ]
  },
  {
   "cell_type": "code",
   "execution_count": 63,
   "metadata": {
    "ExecuteTime": {
     "end_time": "2023-08-26T20:48:49.503656Z",
     "start_time": "2023-08-26T20:48:49.468686Z"
    },
    "collapsed": false,
    "jupyter": {
     "outputs_hidden": false
    },
    "tags": []
   },
   "outputs": [],
   "source": [
    "train_df = train_df.drop(\"MSSubClass\", axis = 1)\n",
    "test_df = test_df.drop(\"MSSubClass\", axis = 1)"
   ]
  },
  {
   "cell_type": "markdown",
   "metadata": {},
   "source": [
    "## Feature : Neighborhood"
   ]
  },
  {
   "cell_type": "markdown",
   "metadata": {},
   "source": [
    "I decided to have special treatment for the feature: Neighborhood. It is known that Neighborhood is known to have direct influence on the house price. Usually, people are more attracted to safe Neighborhood with good school ranking. However, the data at our hand doesn't record the ranking of a given neighborhood so we can't use a numeric value to denote a magnitude (i.e.: from pool to rich neighborhood, or dangerous to extremely safe neighborhood). Also, the Neighborhood is defined as a non-numerical category. In this scenario, one hot encoding will be at our rescue. There are 34 Neighborhood. The feature Neighborhood will be replaced with 34 new Boolean features where each feature. This has to downsize of adding performance overhead to the prediction model, but we can't just ignore this feature as it has significant impact on the price."
   ]
  },
  {
   "cell_type": "code",
   "execution_count": 64,
   "metadata": {
    "ExecuteTime": {
     "end_time": "2023-08-26T21:01:33.449589Z",
     "start_time": "2023-08-26T21:01:33.433605Z"
    },
    "collapsed": false,
    "jupyter": {
     "outputs_hidden": false
    },
    "tags": []
   },
   "outputs": [],
   "source": [
    "train_df = pd.get_dummies(train_df, columns=[\"Neighborhood\"], prefix=\"Neighborhood\")\n"
   ]
  },
  {
   "cell_type": "code",
   "execution_count": 65,
   "metadata": {
    "ExecuteTime": {
     "end_time": "2023-08-26T21:01:40.004589Z",
     "start_time": "2023-08-26T21:01:39.958469Z"
    },
    "collapsed": false,
    "jupyter": {
     "outputs_hidden": false
    },
    "tags": []
   },
   "outputs": [],
   "source": [
    "test_df = pd.get_dummies(test_df, columns=[\"Neighborhood\"], prefix=\"Neighborhood\")\n"
   ]
  },
  {
   "cell_type": "code",
   "execution_count": 66,
   "metadata": {
    "ExecuteTime": {
     "end_time": "2023-08-26T21:01:46.567765Z",
     "start_time": "2023-08-26T21:01:46.529889Z"
    },
    "collapsed": false,
    "jupyter": {
     "outputs_hidden": false
    },
    "tags": []
   },
   "outputs": [
    {
     "name": "stdout",
     "output_type": "stream",
     "text": [
      "<class 'pandas.core.frame.DataFrame'>\n",
      "RangeIndex: 1460 entries, 0 to 1459\n",
      "Data columns (total 75 columns):\n",
      " #   Column                   Non-Null Count  Dtype  \n",
      "---  ------                   --------------  -----  \n",
      " 0   Id                       1460 non-null   int64  \n",
      " 1   LotFrontage              1201 non-null   float64\n",
      " 2   LotArea                  1460 non-null   int64  \n",
      " 3   Street                   1460 non-null   object \n",
      " 4   Alley                    91 non-null     object \n",
      " 5   LotShape                 1460 non-null   int64  \n",
      " 6   LandContour              1460 non-null   int64  \n",
      " 7   LotConfig                1460 non-null   int64  \n",
      " 8   LandSlope                1460 non-null   int64  \n",
      " 9   BldgType                 1460 non-null   int64  \n",
      " 10  HouseStyle               1460 non-null   int64  \n",
      " 11  OverallQual              1460 non-null   int64  \n",
      " 12  OverallCond              1460 non-null   int64  \n",
      " 13  YearBuilt                1460 non-null   int64  \n",
      " 14  YearRemodAdd             1460 non-null   int64  \n",
      " 15  RoofStyle                1460 non-null   object \n",
      " 16  MasVnrType               1452 non-null   object \n",
      " 17  ExterQual                1460 non-null   int64  \n",
      " 18  ExterCond                1460 non-null   int64  \n",
      " 19  BsmtQual                 1423 non-null   float64\n",
      " 20  BsmtExposure             1422 non-null   float64\n",
      " 21  BsmtFinType1             1423 non-null   float64\n",
      " 22  BsmtUnfSF                1460 non-null   int64  \n",
      " 23  TotalBsmtSF              1460 non-null   int64  \n",
      " 24  LowQualFinSF             1460 non-null   int64  \n",
      " 25  GrLivArea                1460 non-null   int64  \n",
      " 26  KitchenQual              1460 non-null   int64  \n",
      " 27  TotRmsAbvGrd             1460 non-null   int64  \n",
      " 28  Functional               1460 non-null   object \n",
      " 29  Fireplaces               1460 non-null   int64  \n",
      " 30  FireplaceQu              770 non-null    float64\n",
      " 31  GarageType               1379 non-null   object \n",
      " 32  GarageYrBlt              1379 non-null   float64\n",
      " 33  GarageFinish             1379 non-null   float64\n",
      " 34  GarageCars               1460 non-null   int64  \n",
      " 35  GarageQual               1379 non-null   float64\n",
      " 36  GarageCond               1379 non-null   float64\n",
      " 37  PavedDrive               1460 non-null   object \n",
      " 38  WoodDeckSF               1460 non-null   int64  \n",
      " 39  OpenPorchSF              1460 non-null   int64  \n",
      " 40  Fence                    281 non-null    object \n",
      " 41  MiscFeature              54 non-null     object \n",
      " 42  MiscVal                  1460 non-null   int64  \n",
      " 43  MoSold                   1460 non-null   int64  \n",
      " 44  YrSold                   1460 non-null   int64  \n",
      " 45  SaleType                 1460 non-null   object \n",
      " 46  SaleCondition            1460 non-null   object \n",
      " 47  SalePrice                1460 non-null   int64  \n",
      " 48  total_bathroom           1460 non-null   int64  \n",
      " 49  total_basement_bathroom  1460 non-null   int64  \n",
      " 50  Neighborhood_Blmngtn     1460 non-null   uint8  \n",
      " 51  Neighborhood_Blueste     1460 non-null   uint8  \n",
      " 52  Neighborhood_BrDale      1460 non-null   uint8  \n",
      " 53  Neighborhood_BrkSide     1460 non-null   uint8  \n",
      " 54  Neighborhood_ClearCr     1460 non-null   uint8  \n",
      " 55  Neighborhood_CollgCr     1460 non-null   uint8  \n",
      " 56  Neighborhood_Crawfor     1460 non-null   uint8  \n",
      " 57  Neighborhood_Edwards     1460 non-null   uint8  \n",
      " 58  Neighborhood_Gilbert     1460 non-null   uint8  \n",
      " 59  Neighborhood_IDOTRR      1460 non-null   uint8  \n",
      " 60  Neighborhood_MeadowV     1460 non-null   uint8  \n",
      " 61  Neighborhood_Mitchel     1460 non-null   uint8  \n",
      " 62  Neighborhood_NAmes       1460 non-null   uint8  \n",
      " 63  Neighborhood_NPkVill     1460 non-null   uint8  \n",
      " 64  Neighborhood_NWAmes      1460 non-null   uint8  \n",
      " 65  Neighborhood_NoRidge     1460 non-null   uint8  \n",
      " 66  Neighborhood_NridgHt     1460 non-null   uint8  \n",
      " 67  Neighborhood_OldTown     1460 non-null   uint8  \n",
      " 68  Neighborhood_SWISU       1460 non-null   uint8  \n",
      " 69  Neighborhood_Sawyer      1460 non-null   uint8  \n",
      " 70  Neighborhood_SawyerW     1460 non-null   uint8  \n",
      " 71  Neighborhood_Somerst     1460 non-null   uint8  \n",
      " 72  Neighborhood_StoneBr     1460 non-null   uint8  \n",
      " 73  Neighborhood_Timber      1460 non-null   uint8  \n",
      " 74  Neighborhood_Veenker     1460 non-null   uint8  \n",
      "dtypes: float64(9), int64(30), object(11), uint8(25)\n",
      "memory usage: 606.1+ KB\n"
     ]
    }
   ],
   "source": [
    "train_df.info()\n"
   ]
  },
  {
   "cell_type": "markdown",
   "metadata": {},
   "source": [
    "## Other Features"
   ]
  },
  {
   "cell_type": "markdown",
   "metadata": {},
   "source": [
    "For a seek of simplicity I decided to discard the following features as they seems not adding a significant value to the price prediction model based on the business domain in context (real estate)"
   ]
  },
  {
   "cell_type": "code",
   "execution_count": 67,
   "metadata": {
    "ExecuteTime": {
     "end_time": "2023-08-26T21:10:48.593015Z",
     "start_time": "2023-08-26T21:10:48.537023Z"
    },
    "collapsed": false,
    "jupyter": {
     "outputs_hidden": false
    },
    "tags": []
   },
   "outputs": [],
   "source": [
    "# to_be_dropped_features = [\"Id\", \"Street\", \"BsmtExposure\", \"ExterCond\", \"SaleCondition\", \"BsmtUnfSF\", \"BsmtExposure\", \"BsmtFinType1\", \"LandContour\", \"LandSlope\", \"LotConfig\", \"LotShape\", \"LotFrontage\", \"Fireplaces\", \"FireplaceQu\", \"Alley\", \"YearBuilt\" ,\"YearRemodAdd\" , \"RoofStyle\" , \"MasVnrType\",\"Functional\" , \"GarageType\" , \"GarageYrBlt\", \"GarageFinish\" , \"PavedDrive\" , \"WoodDeckSF\" , \"OpenPorchSF\" , \"Fence\" , \"GarageQual\", \"GarageCond\", \"MiscFeature\" , \"MiscVal\" , \"MoSold\" , \"YrSold\" , \"SaleType\"]\n",
    "\n",
    "# train_df = train_df.drop(to_be_dropped_features,  axis = 1)\n",
    "# test_df = test_df.drop(to_be_dropped_features,  axis = 1)\n",
    "\n",
    "#train_df = train_df.drop(\"SalePrice_log\",  axis = 1)\n",
    "train_df = train_df.drop(\"Id\",  axis = 1)"
   ]
  },
  {
   "cell_type": "code",
   "execution_count": 68,
   "metadata": {
    "tags": []
   },
   "outputs": [
    {
     "name": "stdout",
     "output_type": "stream",
     "text": [
      "<class 'pandas.core.frame.DataFrame'>\n",
      "RangeIndex: 1460 entries, 0 to 1459\n",
      "Data columns (total 74 columns):\n",
      " #   Column                   Non-Null Count  Dtype  \n",
      "---  ------                   --------------  -----  \n",
      " 0   LotFrontage              1201 non-null   float64\n",
      " 1   LotArea                  1460 non-null   int64  \n",
      " 2   Street                   1460 non-null   object \n",
      " 3   Alley                    91 non-null     object \n",
      " 4   LotShape                 1460 non-null   int64  \n",
      " 5   LandContour              1460 non-null   int64  \n",
      " 6   LotConfig                1460 non-null   int64  \n",
      " 7   LandSlope                1460 non-null   int64  \n",
      " 8   BldgType                 1460 non-null   int64  \n",
      " 9   HouseStyle               1460 non-null   int64  \n",
      " 10  OverallQual              1460 non-null   int64  \n",
      " 11  OverallCond              1460 non-null   int64  \n",
      " 12  YearBuilt                1460 non-null   int64  \n",
      " 13  YearRemodAdd             1460 non-null   int64  \n",
      " 14  RoofStyle                1460 non-null   object \n",
      " 15  MasVnrType               1452 non-null   object \n",
      " 16  ExterQual                1460 non-null   int64  \n",
      " 17  ExterCond                1460 non-null   int64  \n",
      " 18  BsmtQual                 1423 non-null   float64\n",
      " 19  BsmtExposure             1422 non-null   float64\n",
      " 20  BsmtFinType1             1423 non-null   float64\n",
      " 21  BsmtUnfSF                1460 non-null   int64  \n",
      " 22  TotalBsmtSF              1460 non-null   int64  \n",
      " 23  LowQualFinSF             1460 non-null   int64  \n",
      " 24  GrLivArea                1460 non-null   int64  \n",
      " 25  KitchenQual              1460 non-null   int64  \n",
      " 26  TotRmsAbvGrd             1460 non-null   int64  \n",
      " 27  Functional               1460 non-null   object \n",
      " 28  Fireplaces               1460 non-null   int64  \n",
      " 29  FireplaceQu              770 non-null    float64\n",
      " 30  GarageType               1379 non-null   object \n",
      " 31  GarageYrBlt              1379 non-null   float64\n",
      " 32  GarageFinish             1379 non-null   float64\n",
      " 33  GarageCars               1460 non-null   int64  \n",
      " 34  GarageQual               1379 non-null   float64\n",
      " 35  GarageCond               1379 non-null   float64\n",
      " 36  PavedDrive               1460 non-null   object \n",
      " 37  WoodDeckSF               1460 non-null   int64  \n",
      " 38  OpenPorchSF              1460 non-null   int64  \n",
      " 39  Fence                    281 non-null    object \n",
      " 40  MiscFeature              54 non-null     object \n",
      " 41  MiscVal                  1460 non-null   int64  \n",
      " 42  MoSold                   1460 non-null   int64  \n",
      " 43  YrSold                   1460 non-null   int64  \n",
      " 44  SaleType                 1460 non-null   object \n",
      " 45  SaleCondition            1460 non-null   object \n",
      " 46  SalePrice                1460 non-null   int64  \n",
      " 47  total_bathroom           1460 non-null   int64  \n",
      " 48  total_basement_bathroom  1460 non-null   int64  \n",
      " 49  Neighborhood_Blmngtn     1460 non-null   uint8  \n",
      " 50  Neighborhood_Blueste     1460 non-null   uint8  \n",
      " 51  Neighborhood_BrDale      1460 non-null   uint8  \n",
      " 52  Neighborhood_BrkSide     1460 non-null   uint8  \n",
      " 53  Neighborhood_ClearCr     1460 non-null   uint8  \n",
      " 54  Neighborhood_CollgCr     1460 non-null   uint8  \n",
      " 55  Neighborhood_Crawfor     1460 non-null   uint8  \n",
      " 56  Neighborhood_Edwards     1460 non-null   uint8  \n",
      " 57  Neighborhood_Gilbert     1460 non-null   uint8  \n",
      " 58  Neighborhood_IDOTRR      1460 non-null   uint8  \n",
      " 59  Neighborhood_MeadowV     1460 non-null   uint8  \n",
      " 60  Neighborhood_Mitchel     1460 non-null   uint8  \n",
      " 61  Neighborhood_NAmes       1460 non-null   uint8  \n",
      " 62  Neighborhood_NPkVill     1460 non-null   uint8  \n",
      " 63  Neighborhood_NWAmes      1460 non-null   uint8  \n",
      " 64  Neighborhood_NoRidge     1460 non-null   uint8  \n",
      " 65  Neighborhood_NridgHt     1460 non-null   uint8  \n",
      " 66  Neighborhood_OldTown     1460 non-null   uint8  \n",
      " 67  Neighborhood_SWISU       1460 non-null   uint8  \n",
      " 68  Neighborhood_Sawyer      1460 non-null   uint8  \n",
      " 69  Neighborhood_SawyerW     1460 non-null   uint8  \n",
      " 70  Neighborhood_Somerst     1460 non-null   uint8  \n",
      " 71  Neighborhood_StoneBr     1460 non-null   uint8  \n",
      " 72  Neighborhood_Timber      1460 non-null   uint8  \n",
      " 73  Neighborhood_Veenker     1460 non-null   uint8  \n",
      "dtypes: float64(9), int64(29), object(11), uint8(25)\n",
      "memory usage: 594.7+ KB\n"
     ]
    }
   ],
   "source": [
    "train_df.info()"
   ]
  },
  {
   "cell_type": "code",
   "execution_count": 69,
   "metadata": {
    "ExecuteTime": {
     "end_time": "2023-08-26T21:10:55.718330Z",
     "start_time": "2023-08-26T21:10:55.661975Z"
    },
    "collapsed": false,
    "jupyter": {
     "outputs_hidden": false
    },
    "tags": []
   },
   "outputs": [
    {
     "name": "stdout",
     "output_type": "stream",
     "text": [
      "<class 'pandas.core.frame.DataFrame'>\n",
      "RangeIndex: 1460 entries, 0 to 1459\n",
      "Data columns (total 74 columns):\n",
      " #   Column                   Non-Null Count  Dtype  \n",
      "---  ------                   --------------  -----  \n",
      " 0   LotFrontage              1201 non-null   float64\n",
      " 1   LotArea                  1460 non-null   int64  \n",
      " 2   Street                   1460 non-null   object \n",
      " 3   Alley                    91 non-null     object \n",
      " 4   LotShape                 1460 non-null   int64  \n",
      " 5   LandContour              1460 non-null   int64  \n",
      " 6   LotConfig                1460 non-null   int64  \n",
      " 7   LandSlope                1460 non-null   int64  \n",
      " 8   BldgType                 1460 non-null   int64  \n",
      " 9   HouseStyle               1460 non-null   int64  \n",
      " 10  OverallQual              1460 non-null   int64  \n",
      " 11  OverallCond              1460 non-null   int64  \n",
      " 12  YearBuilt                1460 non-null   int64  \n",
      " 13  YearRemodAdd             1460 non-null   int64  \n",
      " 14  RoofStyle                1460 non-null   object \n",
      " 15  MasVnrType               1452 non-null   object \n",
      " 16  ExterQual                1460 non-null   int64  \n",
      " 17  ExterCond                1460 non-null   int64  \n",
      " 18  BsmtQual                 1423 non-null   float64\n",
      " 19  BsmtExposure             1422 non-null   float64\n",
      " 20  BsmtFinType1             1423 non-null   float64\n",
      " 21  BsmtUnfSF                1460 non-null   int64  \n",
      " 22  TotalBsmtSF              1460 non-null   int64  \n",
      " 23  LowQualFinSF             1460 non-null   int64  \n",
      " 24  GrLivArea                1460 non-null   int64  \n",
      " 25  KitchenQual              1460 non-null   int64  \n",
      " 26  TotRmsAbvGrd             1460 non-null   int64  \n",
      " 27  Functional               1460 non-null   object \n",
      " 28  Fireplaces               1460 non-null   int64  \n",
      " 29  FireplaceQu              770 non-null    float64\n",
      " 30  GarageType               1379 non-null   object \n",
      " 31  GarageYrBlt              1379 non-null   float64\n",
      " 32  GarageFinish             1379 non-null   float64\n",
      " 33  GarageCars               1460 non-null   int64  \n",
      " 34  GarageQual               1379 non-null   float64\n",
      " 35  GarageCond               1379 non-null   float64\n",
      " 36  PavedDrive               1460 non-null   object \n",
      " 37  WoodDeckSF               1460 non-null   int64  \n",
      " 38  OpenPorchSF              1460 non-null   int64  \n",
      " 39  Fence                    281 non-null    object \n",
      " 40  MiscFeature              54 non-null     object \n",
      " 41  MiscVal                  1460 non-null   int64  \n",
      " 42  MoSold                   1460 non-null   int64  \n",
      " 43  YrSold                   1460 non-null   int64  \n",
      " 44  SaleType                 1460 non-null   object \n",
      " 45  SaleCondition            1460 non-null   object \n",
      " 46  SalePrice                1460 non-null   int64  \n",
      " 47  total_bathroom           1460 non-null   int64  \n",
      " 48  total_basement_bathroom  1460 non-null   int64  \n",
      " 49  Neighborhood_Blmngtn     1460 non-null   uint8  \n",
      " 50  Neighborhood_Blueste     1460 non-null   uint8  \n",
      " 51  Neighborhood_BrDale      1460 non-null   uint8  \n",
      " 52  Neighborhood_BrkSide     1460 non-null   uint8  \n",
      " 53  Neighborhood_ClearCr     1460 non-null   uint8  \n",
      " 54  Neighborhood_CollgCr     1460 non-null   uint8  \n",
      " 55  Neighborhood_Crawfor     1460 non-null   uint8  \n",
      " 56  Neighborhood_Edwards     1460 non-null   uint8  \n",
      " 57  Neighborhood_Gilbert     1460 non-null   uint8  \n",
      " 58  Neighborhood_IDOTRR      1460 non-null   uint8  \n",
      " 59  Neighborhood_MeadowV     1460 non-null   uint8  \n",
      " 60  Neighborhood_Mitchel     1460 non-null   uint8  \n",
      " 61  Neighborhood_NAmes       1460 non-null   uint8  \n",
      " 62  Neighborhood_NPkVill     1460 non-null   uint8  \n",
      " 63  Neighborhood_NWAmes      1460 non-null   uint8  \n",
      " 64  Neighborhood_NoRidge     1460 non-null   uint8  \n",
      " 65  Neighborhood_NridgHt     1460 non-null   uint8  \n",
      " 66  Neighborhood_OldTown     1460 non-null   uint8  \n",
      " 67  Neighborhood_SWISU       1460 non-null   uint8  \n",
      " 68  Neighborhood_Sawyer      1460 non-null   uint8  \n",
      " 69  Neighborhood_SawyerW     1460 non-null   uint8  \n",
      " 70  Neighborhood_Somerst     1460 non-null   uint8  \n",
      " 71  Neighborhood_StoneBr     1460 non-null   uint8  \n",
      " 72  Neighborhood_Timber      1460 non-null   uint8  \n",
      " 73  Neighborhood_Veenker     1460 non-null   uint8  \n",
      "dtypes: float64(9), int64(29), object(11), uint8(25)\n",
      "memory usage: 594.7+ KB\n"
     ]
    }
   ],
   "source": [
    "train_df.info()"
   ]
  },
  {
   "cell_type": "markdown",
   "metadata": {},
   "source": [
    "# Machine Learning Model Selection (see the solution section for the motive behind choosing the algorithms below):\n",
    "\n",
    "- Decision Tree:  A tree algorithm used in machine learning to find patterns in data by learning decision rules.\n",
    "- Random Forest — A type of bagging method that plays on ‘the wisdom of crowds’ effect. It uses multiple independent decision trees in parallel to learn from data and aggregates their predictions for an outcome.\n",
    "    - Gradient Boosting Machines — A type of boosting method that uses a combination of decision tree in series. Each tree is used to predict and correct the errors by the preceding tree additively.\n",
    "\n",
    "Random forests and gradient boosting can significantly improve the quality of weak decision trees.\n",
    "They’re great algorithms to use if we  have small training data sets like in this case.\n",
    "\n",
    "#### Training:\n",
    "\n",
    "At this stage we will teach our model using examples from the dataset. In the training stage we will tune the model hyperparameter.\n",
    "Our goal at this stage if to find the optimal hyperparmater value that lower the model bias and model variance.\n",
    "\n",
    "- Model bias:\n",
    "Refers to models that under-fit the training data leading to poor predictive capacity on unseen data. Generally, the simpler the model the higher the bias.\n",
    "\n",
    "- Model variance:\n",
    "Refers to Models that over-fit the training data leading to poor predictive capacity on unseen data. Generally, the more complexity in the model the higher the variance.\n",
    "\n",
    "I plan to tune the following hyperparamaters:\n",
    "\n",
    "- max_depth — The maximum number of nodes for a given decision tree.\n",
    "- max_features — The size of the subset of features to consider for splitting at a node.\n",
    "- n_estimators — The number of trees used for boosting or aggregation. This hyperparameter only applies to the random forest and gradient boosting machines.\n",
    "- learning_rate — The learning rate acts to reduce the contribution of each tree. This only applies for gradient boosting machines.\n",
    "\n",
    "For better hyperparameter tuning (to ovoid over-fitting and model bias) I will use the following techniques:\n",
    "\n",
    "- Grid search: Choosing the range of your hyperparameters is an iterative process. With more experience you’ll begin to get a feel for what ranges to set. The good news is once you’ve chosen your possible hyperparameter ranges, grid search allows you to test the model at every combination of those ranges. I’ll talk more about this in the next section.\n",
    "- Cross validation: Models are trained with a 5-fold cross validation. A technique that takes the entirety of your training data, randomly splits it into train and validation data sets over 5 iterations.\n",
    "\n",
    "Both techniques above already implemented in AutoGluon libraries.\n",
    "\n",
    "#### Evaluation\n",
    "At this stage we evaluate our selected machine learning models. Either we are happy with the results or we need to go trough to another cycle/iteration.\n"
   ]
  },
  {
   "cell_type": "code",
   "execution_count": 70,
   "metadata": {
    "tags": []
   },
   "outputs": [
    {
     "name": "stdout",
     "output_type": "stream",
     "text": [
      "Requirement already satisfied: pip in /home/ec2-user/anaconda3/envs/pytorch_p310/lib/python3.10/site-packages (23.2)\n",
      "Collecting pip\n",
      "  Obtaining dependency information for pip from https://files.pythonhosted.org/packages/50/c2/e06851e8cc28dcad7c155f4753da8833ac06a5c704c109313b8d5a62968a/pip-23.2.1-py3-none-any.whl.metadata\n",
      "  Downloading pip-23.2.1-py3-none-any.whl.metadata (4.2 kB)\n",
      "Downloading pip-23.2.1-py3-none-any.whl (2.1 MB)\n",
      "\u001b[2K   \u001b[90m━━━━━━━━━━━━━━━━━━━━━━━━━━━━━━━━━━━━━━━━\u001b[0m \u001b[32m2.1/2.1 MB\u001b[0m \u001b[31m19.7 MB/s\u001b[0m eta \u001b[36m0:00:00\u001b[0m00:01\u001b[0m00:01\u001b[0m\n",
      "\u001b[?25hInstalling collected packages: pip\n",
      "  Attempting uninstall: pip\n",
      "    Found existing installation: pip 23.2\n",
      "    Uninstalling pip-23.2:\n",
      "      Successfully uninstalled pip-23.2\n",
      "Successfully installed pip-23.2.1\n",
      "Requirement already satisfied: setuptools in /home/ec2-user/anaconda3/envs/pytorch_p310/lib/python3.10/site-packages (68.0.0)\n",
      "Collecting setuptools\n",
      "  Obtaining dependency information for setuptools from https://files.pythonhosted.org/packages/4f/ab/0bcfebdfc3bfa8554b2b2c97a555569c4c1ebc74ea288741ea8326c51906/setuptools-68.1.2-py3-none-any.whl.metadata\n",
      "  Using cached setuptools-68.1.2-py3-none-any.whl.metadata (6.2 kB)\n",
      "Requirement already satisfied: wheel in /home/ec2-user/anaconda3/envs/pytorch_p310/lib/python3.10/site-packages (0.40.0)\n",
      "Collecting wheel\n",
      "  Obtaining dependency information for wheel from https://files.pythonhosted.org/packages/b8/8b/31273bf66016be6ad22bb7345c37ff350276cfd46e389a0c2ac5da9d9073/wheel-0.41.2-py3-none-any.whl.metadata\n",
      "  Using cached wheel-0.41.2-py3-none-any.whl.metadata (2.2 kB)\n",
      "Using cached setuptools-68.1.2-py3-none-any.whl (805 kB)\n",
      "Using cached wheel-0.41.2-py3-none-any.whl (64 kB)\n",
      "Installing collected packages: wheel, setuptools\n",
      "  Attempting uninstall: wheel\n",
      "    Found existing installation: wheel 0.40.0\n",
      "    Uninstalling wheel-0.40.0:\n",
      "      Successfully uninstalled wheel-0.40.0\n",
      "  Attempting uninstall: setuptools\n",
      "    Found existing installation: setuptools 68.0.0\n",
      "    Uninstalling setuptools-68.0.0:\n",
      "      Successfully uninstalled setuptools-68.0.0\n",
      "Successfully installed setuptools-68.1.2 wheel-0.41.2\n",
      "Collecting mxnet<2.0.0\n",
      "  Downloading mxnet-1.9.1-py3-none-manylinux2014_x86_64.whl (49.1 MB)\n",
      "\u001b[2K     \u001b[90m━━━━━━━━━━━━━━━━━━━━━━━━━━━━━━━━━━━━━━━━\u001b[0m \u001b[32m49.1/49.1 MB\u001b[0m \u001b[31m13.9 MB/s\u001b[0m eta \u001b[36m0:00:00\u001b[0m00:01\u001b[0m00:01\u001b[0m\n",
      "\u001b[?25hCollecting bokeh==2.0.1\n",
      "  Downloading bokeh-2.0.1.tar.gz (8.6 MB)\n",
      "\u001b[2K     \u001b[90m━━━━━━━━━━━━━━━━━━━━━━━━━━━━━━━━━━━━━━━━\u001b[0m \u001b[32m8.6/8.6 MB\u001b[0m \u001b[31m41.9 MB/s\u001b[0m eta \u001b[36m0:00:00\u001b[0m:00:01\u001b[0m\n",
      "\u001b[?25h  Preparing metadata (setup.py) ... \u001b[?25ldone\n",
      "\u001b[?25hRequirement already satisfied: PyYAML>=3.10 in /home/ec2-user/anaconda3/envs/pytorch_p310/lib/python3.10/site-packages (from bokeh==2.0.1) (6.0)\n",
      "Requirement already satisfied: python-dateutil>=2.1 in /home/ec2-user/anaconda3/envs/pytorch_p310/lib/python3.10/site-packages (from bokeh==2.0.1) (2.8.2)\n",
      "Requirement already satisfied: Jinja2>=2.7 in /home/ec2-user/anaconda3/envs/pytorch_p310/lib/python3.10/site-packages (from bokeh==2.0.1) (3.1.2)\n",
      "Requirement already satisfied: numpy>=1.11.3 in /home/ec2-user/anaconda3/envs/pytorch_p310/lib/python3.10/site-packages (from bokeh==2.0.1) (1.24.4)\n",
      "Requirement already satisfied: pillow>=4.0 in /home/ec2-user/anaconda3/envs/pytorch_p310/lib/python3.10/site-packages (from bokeh==2.0.1) (10.0.0)\n",
      "Requirement already satisfied: packaging>=16.8 in /home/ec2-user/anaconda3/envs/pytorch_p310/lib/python3.10/site-packages (from bokeh==2.0.1) (21.3)\n",
      "Requirement already satisfied: tornado>=5 in /home/ec2-user/anaconda3/envs/pytorch_p310/lib/python3.10/site-packages (from bokeh==2.0.1) (6.3.2)\n",
      "Requirement already satisfied: typing_extensions>=3.7.4 in /home/ec2-user/anaconda3/envs/pytorch_p310/lib/python3.10/site-packages (from bokeh==2.0.1) (4.7.1)\n",
      "Requirement already satisfied: requests<3,>=2.20.0 in /home/ec2-user/anaconda3/envs/pytorch_p310/lib/python3.10/site-packages (from mxnet<2.0.0) (2.31.0)\n",
      "Collecting graphviz<0.9.0,>=0.8.1 (from mxnet<2.0.0)\n",
      "  Downloading graphviz-0.8.4-py2.py3-none-any.whl (16 kB)\n",
      "Requirement already satisfied: MarkupSafe>=2.0 in /home/ec2-user/anaconda3/envs/pytorch_p310/lib/python3.10/site-packages (from Jinja2>=2.7->bokeh==2.0.1) (2.1.3)\n",
      "Requirement already satisfied: pyparsing!=3.0.5,>=2.0.2 in /home/ec2-user/anaconda3/envs/pytorch_p310/lib/python3.10/site-packages (from packaging>=16.8->bokeh==2.0.1) (3.0.9)\n",
      "Requirement already satisfied: six>=1.5 in /home/ec2-user/anaconda3/envs/pytorch_p310/lib/python3.10/site-packages (from python-dateutil>=2.1->bokeh==2.0.1) (1.16.0)\n",
      "Requirement already satisfied: charset-normalizer<4,>=2 in /home/ec2-user/anaconda3/envs/pytorch_p310/lib/python3.10/site-packages (from requests<3,>=2.20.0->mxnet<2.0.0) (3.2.0)\n",
      "Requirement already satisfied: idna<4,>=2.5 in /home/ec2-user/anaconda3/envs/pytorch_p310/lib/python3.10/site-packages (from requests<3,>=2.20.0->mxnet<2.0.0) (3.4)\n",
      "Requirement already satisfied: urllib3<3,>=1.21.1 in /home/ec2-user/anaconda3/envs/pytorch_p310/lib/python3.10/site-packages (from requests<3,>=2.20.0->mxnet<2.0.0) (1.26.14)\n",
      "Requirement already satisfied: certifi>=2017.4.17 in /home/ec2-user/anaconda3/envs/pytorch_p310/lib/python3.10/site-packages (from requests<3,>=2.20.0->mxnet<2.0.0) (2023.5.7)\n",
      "Building wheels for collected packages: bokeh\n",
      "  Building wheel for bokeh (setup.py) ... \u001b[?25ldone\n",
      "\u001b[?25h  Created wheel for bokeh: filename=bokeh-2.0.1-py3-none-any.whl size=9080016 sha256=d1a3f0193d5b90883b5c36e17e7754919a5a25266d6d780e4b9d0235279bb923\n",
      "  Stored in directory: /home/ec2-user/.cache/pip/wheels/be/b4/d8/7ce778fd6e637bea03a561223a77ba6649aff8168e3c613754\n",
      "Successfully built bokeh\n",
      "Installing collected packages: graphviz, mxnet, bokeh\n",
      "  Attempting uninstall: bokeh\n",
      "    Found existing installation: bokeh 3.2.0\n",
      "    Uninstalling bokeh-3.2.0:\n",
      "      Successfully uninstalled bokeh-3.2.0\n",
      "Successfully installed bokeh-2.0.1 graphviz-0.8.4 mxnet-1.9.1\n",
      "Collecting autogluon\n",
      "  Obtaining dependency information for autogluon from https://files.pythonhosted.org/packages/2e/42/f26592ecf3dc4e4edcbc5f7f7e3deba25b0681fad2ad04a82d12af17e3a4/autogluon-0.8.2-py3-none-any.whl.metadata\n",
      "  Downloading autogluon-0.8.2-py3-none-any.whl.metadata (11 kB)\n",
      "Collecting autogluon.core[all]==0.8.2 (from autogluon)\n",
      "  Obtaining dependency information for autogluon.core[all]==0.8.2 from https://files.pythonhosted.org/packages/e0/56/545adb1d388e78591cd7e36de0c8b889c1944de362bdaeec0f31d01890df/autogluon.core-0.8.2-py3-none-any.whl.metadata\n",
      "  Downloading autogluon.core-0.8.2-py3-none-any.whl.metadata (12 kB)\n",
      "Collecting autogluon.features==0.8.2 (from autogluon)\n",
      "  Obtaining dependency information for autogluon.features==0.8.2 from https://files.pythonhosted.org/packages/bb/ea/7892719f78a30aee1bf42c4a0540fbae98bfbdf56b85fab79ffc437eb687/autogluon.features-0.8.2-py3-none-any.whl.metadata\n",
      "  Downloading autogluon.features-0.8.2-py3-none-any.whl.metadata (11 kB)\n",
      "Collecting autogluon.tabular[all]==0.8.2 (from autogluon)\n",
      "  Obtaining dependency information for autogluon.tabular[all]==0.8.2 from https://files.pythonhosted.org/packages/f3/dc/0bd8cadb9a5e2f3e5b12caaa6745357d912ffc7b8b75fb4e426a38331028/autogluon.tabular-0.8.2-py3-none-any.whl.metadata\n",
      "  Downloading autogluon.tabular-0.8.2-py3-none-any.whl.metadata (13 kB)\n",
      "Collecting autogluon.multimodal==0.8.2 (from autogluon)\n",
      "  Obtaining dependency information for autogluon.multimodal==0.8.2 from https://files.pythonhosted.org/packages/f4/df/a3921edb866555154d5a53adbcd2268fd3b53071820b6382f2619ad439f3/autogluon.multimodal-0.8.2-py3-none-any.whl.metadata\n",
      "  Downloading autogluon.multimodal-0.8.2-py3-none-any.whl.metadata (13 kB)\n",
      "Collecting autogluon.timeseries[all]==0.8.2 (from autogluon)\n",
      "  Obtaining dependency information for autogluon.timeseries[all]==0.8.2 from https://files.pythonhosted.org/packages/50/38/1768d30684292d064dad4457355d6928581c5b832a3f65a6a023df2ff4ff/autogluon.timeseries-0.8.2-py3-none-any.whl.metadata\n",
      "  Downloading autogluon.timeseries-0.8.2-py3-none-any.whl.metadata (12 kB)\n",
      "Requirement already satisfied: numpy<1.27,>=1.21 in /home/ec2-user/anaconda3/envs/pytorch_p310/lib/python3.10/site-packages (from autogluon.core[all]==0.8.2->autogluon) (1.24.4)\n",
      "Requirement already satisfied: scipy<1.12,>=1.5.4 in /home/ec2-user/anaconda3/envs/pytorch_p310/lib/python3.10/site-packages (from autogluon.core[all]==0.8.2->autogluon) (1.11.1)\n",
      "Collecting scikit-learn<1.3,>=1.0 (from autogluon.core[all]==0.8.2->autogluon)\n",
      "  Downloading scikit_learn-1.2.2-cp310-cp310-manylinux_2_17_x86_64.manylinux2014_x86_64.whl (9.6 MB)\n",
      "\u001b[2K     \u001b[90m━━━━━━━━━━━━━━━━━━━━━━━━━━━━━━━━━━━━━━━━\u001b[0m \u001b[32m9.6/9.6 MB\u001b[0m \u001b[31m106.2 MB/s\u001b[0m eta \u001b[36m0:00:00\u001b[0m \u001b[36m0:00:01\u001b[0m\n",
      "\u001b[?25hRequirement already satisfied: networkx<4,>=3.0 in /home/ec2-user/anaconda3/envs/pytorch_p310/lib/python3.10/site-packages (from autogluon.core[all]==0.8.2->autogluon) (3.1)\n",
      "Requirement already satisfied: pandas<1.6,>=1.4.1 in /home/ec2-user/anaconda3/envs/pytorch_p310/lib/python3.10/site-packages (from autogluon.core[all]==0.8.2->autogluon) (1.5.3)\n",
      "Requirement already satisfied: tqdm<5,>=4.38 in /home/ec2-user/anaconda3/envs/pytorch_p310/lib/python3.10/site-packages (from autogluon.core[all]==0.8.2->autogluon) (4.65.0)\n",
      "Requirement already satisfied: requests in /home/ec2-user/anaconda3/envs/pytorch_p310/lib/python3.10/site-packages (from autogluon.core[all]==0.8.2->autogluon) (2.31.0)\n",
      "Requirement already satisfied: matplotlib in /home/ec2-user/anaconda3/envs/pytorch_p310/lib/python3.10/site-packages (from autogluon.core[all]==0.8.2->autogluon) (3.7.2)\n",
      "Requirement already satisfied: boto3<2,>=1.10 in /home/ec2-user/anaconda3/envs/pytorch_p310/lib/python3.10/site-packages (from autogluon.core[all]==0.8.2->autogluon) (1.28.33)\n",
      "Collecting autogluon.common==0.8.2 (from autogluon.core[all]==0.8.2->autogluon)\n",
      "  Obtaining dependency information for autogluon.common==0.8.2 from https://files.pythonhosted.org/packages/67/c7/aa2bd5708c9329a29245aa0cd955cace0662b92a82eb7605cf46b6e7e9d5/autogluon.common-0.8.2-py3-none-any.whl.metadata\n",
      "  Downloading autogluon.common-0.8.2-py3-none-any.whl.metadata (11 kB)\n",
      "Collecting hyperopt<0.2.8,>=0.2.7 (from autogluon.core[all]==0.8.2->autogluon)\n",
      "  Downloading hyperopt-0.2.7-py2.py3-none-any.whl (1.6 MB)\n",
      "\u001b[2K     \u001b[90m━━━━━━━━━━━━━━━━━━━━━━━━━━━━━━━━━━━━━━━━\u001b[0m \u001b[32m1.6/1.6 MB\u001b[0m \u001b[31m291.6 MB/s\u001b[0m eta \u001b[36m0:00:00\u001b[0m\n",
      "\u001b[?25hCollecting ray[default]<2.4,>=2.3 (from autogluon.core[all]==0.8.2->autogluon)\n",
      "  Downloading ray-2.3.1-cp310-cp310-manylinux2014_x86_64.whl (58.5 MB)\n",
      "\u001b[2K     \u001b[90m━━━━━━━━━━━━━━━━━━━━━━━━━━━━━━━━━━━━━━━\u001b[0m \u001b[32m58.5/58.5 MB\u001b[0m \u001b[31m141.3 MB/s\u001b[0m eta \u001b[36m0:00:00\u001b[0m00:01\u001b[0m00:01\u001b[0m\n",
      "\u001b[?25hCollecting pydantic<2.0,>=1.10.4 (from autogluon.core[all]==0.8.2->autogluon)\n",
      "  Obtaining dependency information for pydantic<2.0,>=1.10.4 from https://files.pythonhosted.org/packages/bc/e0/0371e9b6c910afe502e5fe18cc94562bfd9399617c7b4f5b6e13c29115b3/pydantic-1.10.12-cp310-cp310-manylinux_2_17_x86_64.manylinux2014_x86_64.whl.metadata\n",
      "  Downloading pydantic-1.10.12-cp310-cp310-manylinux_2_17_x86_64.manylinux2014_x86_64.whl.metadata (149 kB)\n",
      "\u001b[2K     \u001b[90m━━━━━━━━━━━━━━━━━━━━━━━━━━━━━━━━━━━━━\u001b[0m \u001b[32m149.3/149.3 kB\u001b[0m \u001b[31m344.5 MB/s\u001b[0m eta \u001b[36m0:00:00\u001b[0m\n",
      "\u001b[?25hCollecting grpcio<=1.50.0,>=1.42.0 (from autogluon.core[all]==0.8.2->autogluon)\n",
      "  Downloading grpcio-1.50.0-cp310-cp310-manylinux_2_17_x86_64.manylinux2014_x86_64.whl (4.7 MB)\n",
      "\u001b[2K     \u001b[90m━━━━━━━━━━━━━━━━━━━━━━━━━━━━━━━━━━━━━━━━\u001b[0m \u001b[32m4.7/4.7 MB\u001b[0m \u001b[31m195.5 MB/s\u001b[0m eta \u001b[36m0:00:00\u001b[0m\n",
      "\u001b[?25hCollecting Pillow<9.6,>=9.3 (from autogluon.multimodal==0.8.2->autogluon)\n",
      "  Downloading Pillow-9.5.0-cp310-cp310-manylinux_2_17_x86_64.manylinux2014_x86_64.whl (3.3 MB)\n",
      "\u001b[2K     \u001b[90m━━━━━━━━━━━━━━━━━━━━━━━━━━━━━━━━━━━━━━━━\u001b[0m \u001b[32m3.3/3.3 MB\u001b[0m \u001b[31m356.8 MB/s\u001b[0m eta \u001b[36m0:00:00\u001b[0m\n",
      "\u001b[?25hCollecting jsonschema<4.18,>=4.14 (from autogluon.multimodal==0.8.2->autogluon)\n",
      "  Downloading jsonschema-4.17.3-py3-none-any.whl (90 kB)\n",
      "\u001b[2K     \u001b[90m━━━━━━━━━━━━━━━━━━━━━━━━━━━━━━━━━━━━━━━\u001b[0m \u001b[32m90.4/90.4 kB\u001b[0m \u001b[31m335.7 MB/s\u001b[0m eta \u001b[36m0:00:00\u001b[0m\n",
      "\u001b[?25hCollecting seqeval<1.3.0,>=1.2.2 (from autogluon.multimodal==0.8.2->autogluon)\n",
      "  Downloading seqeval-1.2.2.tar.gz (43 kB)\n",
      "\u001b[2K     \u001b[90m━━━━━━━━━━━━━━━━━━━━━━━━━━━━━━━━━━━━━━━\u001b[0m \u001b[32m43.6/43.6 kB\u001b[0m \u001b[31m272.0 MB/s\u001b[0m eta \u001b[36m0:00:00\u001b[0m\n",
      "\u001b[?25h  Preparing metadata (setup.py) ... \u001b[?25ldone\n",
      "\u001b[?25hCollecting evaluate<0.4.0,>=0.2.2 (from autogluon.multimodal==0.8.2->autogluon)\n",
      "  Downloading evaluate-0.3.0-py3-none-any.whl (72 kB)\n",
      "\u001b[2K     \u001b[90m━━━━━━━━━━━━━━━━━━━━━━━━━━━━━━━━━━━━━━━\u001b[0m \u001b[32m72.9/72.9 kB\u001b[0m \u001b[31m297.9 MB/s\u001b[0m eta \u001b[36m0:00:00\u001b[0m\n",
      "\u001b[?25hCollecting accelerate<0.17,>=0.9 (from autogluon.multimodal==0.8.2->autogluon)\n",
      "  Downloading accelerate-0.16.0-py3-none-any.whl (199 kB)\n",
      "\u001b[2K     \u001b[90m━━━━━━━━━━━━━━━━━━━━━━━━━━━━━━━━━━━━━\u001b[0m \u001b[32m199.7/199.7 kB\u001b[0m \u001b[31m389.6 MB/s\u001b[0m eta \u001b[36m0:00:00\u001b[0m\n",
      "\u001b[?25hCollecting timm<0.10.0,>=0.9.2 (from autogluon.multimodal==0.8.2->autogluon)\n",
      "  Obtaining dependency information for timm<0.10.0,>=0.9.2 from https://files.pythonhosted.org/packages/35/57/84a71b5b540152fb5f5ec7a34f4fcd7fafa4e21053098146c831874e29e5/timm-0.9.6-py3-none-any.whl.metadata\n",
      "  Downloading timm-0.9.6-py3-none-any.whl.metadata (58 kB)\n",
      "\u001b[2K     \u001b[90m━━━━━━━━━━━━━━━━━━━━━━━━━━━━━━━━━━━━━━━\u001b[0m \u001b[32m58.6/58.6 kB\u001b[0m \u001b[31m202.9 MB/s\u001b[0m eta \u001b[36m0:00:00\u001b[0m\n",
      "\u001b[?25hCollecting torch<1.14,>=1.9 (from autogluon.multimodal==0.8.2->autogluon)\n",
      "  Downloading torch-1.13.1-cp310-cp310-manylinux1_x86_64.whl (887.5 MB)\n",
      "\u001b[2K     \u001b[90m━━━━━━━━━━━━━━━━━━━━━━━━━━━━━━━━━━━━━\u001b[0m \u001b[32m887.5/887.5 MB\u001b[0m \u001b[31m207.6 MB/s\u001b[0m eta \u001b[36m0:00:00\u001b[0m00:01\u001b[0m00:01\u001b[0m\n",
      "\u001b[?25hCollecting torchvision<0.15.0 (from autogluon.multimodal==0.8.2->autogluon)\n",
      "  Downloading torchvision-0.14.1-cp310-cp310-manylinux1_x86_64.whl (24.2 MB)\n",
      "\u001b[2K     \u001b[90m━━━━━━━━━━━━━━━━━━━━━━━━━━━━━━━━━━━━━━━\u001b[0m \u001b[32m24.2/24.2 MB\u001b[0m \u001b[31m272.3 MB/s\u001b[0m eta \u001b[36m0:00:00\u001b[0ma \u001b[36m0:00:01\u001b[0m\n",
      "\u001b[?25hCollecting scikit-image<0.20.0,>=0.19.1 (from autogluon.multimodal==0.8.2->autogluon)\n",
      "  Downloading scikit_image-0.19.3-cp310-cp310-manylinux_2_17_x86_64.manylinux2014_x86_64.whl (13.9 MB)\n",
      "\u001b[2K     \u001b[90m━━━━━━━━━━━━━━━━━━━━━━━━━━━━━━━━━━━━━━━\u001b[0m \u001b[32m13.9/13.9 MB\u001b[0m \u001b[31m233.0 MB/s\u001b[0m eta \u001b[36m0:00:00\u001b[0ma \u001b[36m0:00:01\u001b[0m\n",
      "\u001b[?25hCollecting pytorch-lightning<1.10.0,>=1.9.0 (from autogluon.multimodal==0.8.2->autogluon)\n",
      "  Downloading pytorch_lightning-1.9.5-py3-none-any.whl (829 kB)\n",
      "\u001b[2K     \u001b[90m━━━━━━━━━━━━━━━━━━━━━━━━━━━━━━━━━━━━━\u001b[0m \u001b[32m829.5/829.5 kB\u001b[0m \u001b[31m418.9 MB/s\u001b[0m eta \u001b[36m0:00:00\u001b[0m\n",
      "\u001b[?25hCollecting text-unidecode<1.4,>=1.3 (from autogluon.multimodal==0.8.2->autogluon)\n",
      "  Downloading text_unidecode-1.3-py2.py3-none-any.whl (78 kB)\n",
      "\u001b[2K     \u001b[90m━━━━━━━━━━━━━━━━━━━━━━━━━━━━━━━━━━━━━━━\u001b[0m \u001b[32m78.2/78.2 kB\u001b[0m \u001b[31m321.7 MB/s\u001b[0m eta \u001b[36m0:00:00\u001b[0m\n",
      "\u001b[?25hCollecting torchmetrics<0.12.0,>=0.11.0 (from autogluon.multimodal==0.8.2->autogluon)\n",
      "  Downloading torchmetrics-0.11.4-py3-none-any.whl (519 kB)\n",
      "\u001b[2K     \u001b[90m━━━━━━━━━━━━━━━━━━━━━━━━━━━━━━━━━━━━━\u001b[0m \u001b[32m519.2/519.2 kB\u001b[0m \u001b[31m404.4 MB/s\u001b[0m eta \u001b[36m0:00:00\u001b[0m\n",
      "\u001b[?25hCollecting transformers[sentencepiece]<4.27.0,>=4.23.0 (from autogluon.multimodal==0.8.2->autogluon)\n",
      "  Downloading transformers-4.26.1-py3-none-any.whl (6.3 MB)\n",
      "\u001b[2K     \u001b[90m━━━━━━━━━━━━━━━━━━━━━━━━━━━━━━━━━━━━━━━━\u001b[0m \u001b[32m6.3/6.3 MB\u001b[0m \u001b[31m251.5 MB/s\u001b[0m eta \u001b[36m0:00:00\u001b[0m\n",
      "\u001b[?25hCollecting nptyping<2.5.0,>=1.4.4 (from autogluon.multimodal==0.8.2->autogluon)\n",
      "  Downloading nptyping-2.4.1-py3-none-any.whl (36 kB)\n",
      "Collecting omegaconf<2.3.0,>=2.1.1 (from autogluon.multimodal==0.8.2->autogluon)\n",
      "  Downloading omegaconf-2.2.3-py3-none-any.whl (79 kB)\n",
      "\u001b[2K     \u001b[90m━━━━━━━━━━━━━━━━━━━━━━━━━━━━━━━━━━━━━━━\u001b[0m \u001b[32m79.3/79.3 kB\u001b[0m \u001b[31m327.3 MB/s\u001b[0m eta \u001b[36m0:00:00\u001b[0m\n",
      "\u001b[?25hCollecting pytorch-metric-learning<2.0,>=1.3.0 (from autogluon.multimodal==0.8.2->autogluon)\n",
      "  Downloading pytorch_metric_learning-1.7.3-py3-none-any.whl (112 kB)\n",
      "\u001b[2K     \u001b[90m━━━━━━━━━━━━━━━━━━━━━━━━━━━━━━━━━━━━━\u001b[0m \u001b[32m112.2/112.2 kB\u001b[0m \u001b[31m358.5 MB/s\u001b[0m eta \u001b[36m0:00:00\u001b[0m\n",
      "\u001b[?25hCollecting nlpaug<1.2.0,>=1.1.10 (from autogluon.multimodal==0.8.2->autogluon)\n",
      "  Downloading nlpaug-1.1.11-py3-none-any.whl (410 kB)\n",
      "\u001b[2K     \u001b[90m━━━━━━━━━━━━━━━━━━━━━━━━━━━━━━━━━━━━━\u001b[0m \u001b[32m410.5/410.5 kB\u001b[0m \u001b[31m414.4 MB/s\u001b[0m eta \u001b[36m0:00:00\u001b[0m\n",
      "\u001b[?25hCollecting nltk<4.0.0,>=3.4.5 (from autogluon.multimodal==0.8.2->autogluon)\n",
      "  Downloading nltk-3.8.1-py3-none-any.whl (1.5 MB)\n",
      "\u001b[2K     \u001b[90m━━━━━━━━━━━━━━━━━━━━━━━━━━━━━━━━━━━━━━━━\u001b[0m \u001b[32m1.5/1.5 MB\u001b[0m \u001b[31m379.0 MB/s\u001b[0m eta \u001b[36m0:00:00\u001b[0m\n",
      "\u001b[?25hCollecting openmim<0.4.0,>=0.3.7 (from autogluon.multimodal==0.8.2->autogluon)\n",
      "  Obtaining dependency information for openmim<0.4.0,>=0.3.7 from https://files.pythonhosted.org/packages/00/b3/95531cee452028869d0e08974561f83e9c256c98f62c7a45a51893a61c54/openmim-0.3.9-py2.py3-none-any.whl.metadata\n",
      "  Downloading openmim-0.3.9-py2.py3-none-any.whl.metadata (16 kB)\n",
      "Requirement already satisfied: defusedxml<0.7.2,>=0.7.1 in /home/ec2-user/anaconda3/envs/pytorch_p310/lib/python3.10/site-packages (from autogluon.multimodal==0.8.2->autogluon) (0.7.1)\n",
      "Requirement already satisfied: jinja2<3.2,>=3.0.3 in /home/ec2-user/anaconda3/envs/pytorch_p310/lib/python3.10/site-packages (from autogluon.multimodal==0.8.2->autogluon) (3.1.2)\n",
      "Collecting tensorboard<3,>=2.9 (from autogluon.multimodal==0.8.2->autogluon)\n",
      "  Obtaining dependency information for tensorboard<3,>=2.9 from https://files.pythonhosted.org/packages/bc/a2/ff5f4c299eb37c95299a76015da3f30211468e29d8d6f1d011683279baee/tensorboard-2.14.0-py3-none-any.whl.metadata\n",
      "  Downloading tensorboard-2.14.0-py3-none-any.whl.metadata (1.8 kB)\n",
      "Collecting pytesseract<0.3.11,>=0.3.9 (from autogluon.multimodal==0.8.2->autogluon)\n",
      "  Downloading pytesseract-0.3.10-py3-none-any.whl (14 kB)\n",
      "Collecting lightgbm<3.4,>=3.3 (from autogluon.tabular[all]==0.8.2->autogluon)\n",
      "  Downloading lightgbm-3.3.5-py3-none-manylinux1_x86_64.whl (2.0 MB)\n",
      "\u001b[2K     \u001b[90m━━━━━━━━━━━━━━━━━━━━━━━━━━━━━━━━━━━━━━━━\u001b[0m \u001b[32m2.0/2.0 MB\u001b[0m \u001b[31m285.6 MB/s\u001b[0m eta \u001b[36m0:00:00\u001b[0m\n",
      "\u001b[?25hCollecting xgboost<1.8,>=1.6 (from autogluon.tabular[all]==0.8.2->autogluon)\n",
      "  Obtaining dependency information for xgboost<1.8,>=1.6 from https://files.pythonhosted.org/packages/8c/3a/c9c5d4d5c49b132ef15ac7b5ccf56ef1c82efe36cd19414771762e97c00e/xgboost-1.7.6-py3-none-manylinux2014_x86_64.whl.metadata\n",
      "  Downloading xgboost-1.7.6-py3-none-manylinux2014_x86_64.whl.metadata (1.9 kB)\n",
      "Collecting fastai<2.8,>=2.3.1 (from autogluon.tabular[all]==0.8.2->autogluon)\n",
      "  Downloading fastai-2.7.12-py3-none-any.whl (233 kB)\n",
      "\u001b[2K     \u001b[90m━━━━━━━━━━━━━━━━━━━━━━━━━━━━━━━━━━━━━\u001b[0m \u001b[32m233.1/233.1 kB\u001b[0m \u001b[31m401.2 MB/s\u001b[0m eta \u001b[36m0:00:00\u001b[0m\n",
      "\u001b[?25hCollecting catboost<1.3,>=1.1 (from autogluon.tabular[all]==0.8.2->autogluon)\n",
      "  Obtaining dependency information for catboost<1.3,>=1.1 from https://files.pythonhosted.org/packages/e9/9a/54da5a5c2a350298bda3e23013c5e2e2e837290210d54d63ef6cdaa06d1b/catboost-1.2.1-cp310-cp310-manylinux2014_x86_64.whl.metadata\n",
      "  Downloading catboost-1.2.1-cp310-cp310-manylinux2014_x86_64.whl.metadata (1.2 kB)\n",
      "Requirement already satisfied: joblib<2,>=1.1 in /home/ec2-user/anaconda3/envs/pytorch_p310/lib/python3.10/site-packages (from autogluon.timeseries[all]==0.8.2->autogluon) (1.3.1)\n",
      "Requirement already satisfied: statsmodels<0.15,>=0.13.0 in /home/ec2-user/anaconda3/envs/pytorch_p310/lib/python3.10/site-packages (from autogluon.timeseries[all]==0.8.2->autogluon) (0.14.0)\n",
      "Collecting gluonts<0.14,>=0.13.1 (from autogluon.timeseries[all]==0.8.2->autogluon)\n",
      "  Obtaining dependency information for gluonts<0.14,>=0.13.1 from https://files.pythonhosted.org/packages/05/e9/224c33cd3c4142dc8f15a498ab39655c1871dfc7b606d2fc855bdcd0089b/gluonts-0.13.4-py3-none-any.whl.metadata\n",
      "  Downloading gluonts-0.13.4-py3-none-any.whl.metadata (9.4 kB)\n",
      "Collecting statsforecast<1.5,>=1.4.0 (from autogluon.timeseries[all]==0.8.2->autogluon)\n",
      "  Downloading statsforecast-1.4.0-py3-none-any.whl (91 kB)\n",
      "\u001b[2K     \u001b[90m━━━━━━━━━━━━━━━━━━━━━━━━━━━━━━━━━━━━━━━\u001b[0m \u001b[32m92.0/92.0 kB\u001b[0m \u001b[31m329.0 MB/s\u001b[0m eta \u001b[36m0:00:00\u001b[0m\n",
      "\u001b[?25hCollecting mlforecast<0.7.4,>=0.7.0 (from autogluon.timeseries[all]==0.8.2->autogluon)\n",
      "  Obtaining dependency information for mlforecast<0.7.4,>=0.7.0 from https://files.pythonhosted.org/packages/83/f0/fe8f0da0626fef11f7adf1c013ca185d00cd1bb967f39253bffc6a036c26/mlforecast-0.7.3-py3-none-any.whl.metadata\n",
      "  Downloading mlforecast-0.7.3-py3-none-any.whl.metadata (13 kB)\n",
      "Requirement already satisfied: ujson<6,>=5 in /home/ec2-user/anaconda3/envs/pytorch_p310/lib/python3.10/site-packages (from autogluon.timeseries[all]==0.8.2->autogluon) (5.8.0)\n",
      "Requirement already satisfied: psutil<6,>=5.7.3 in /home/ec2-user/anaconda3/envs/pytorch_p310/lib/python3.10/site-packages (from autogluon.common==0.8.2->autogluon.core[all]==0.8.2->autogluon) (5.9.5)\n",
      "Requirement already satisfied: setuptools in /home/ec2-user/anaconda3/envs/pytorch_p310/lib/python3.10/site-packages (from autogluon.common==0.8.2->autogluon.core[all]==0.8.2->autogluon) (68.1.2)\n",
      "Requirement already satisfied: packaging>=20.0 in /home/ec2-user/anaconda3/envs/pytorch_p310/lib/python3.10/site-packages (from accelerate<0.17,>=0.9->autogluon.multimodal==0.8.2->autogluon) (21.3)\n",
      "Requirement already satisfied: pyyaml in /home/ec2-user/anaconda3/envs/pytorch_p310/lib/python3.10/site-packages (from accelerate<0.17,>=0.9->autogluon.multimodal==0.8.2->autogluon) (6.0)\n",
      "Requirement already satisfied: botocore<1.32.0,>=1.31.33 in /home/ec2-user/anaconda3/envs/pytorch_p310/lib/python3.10/site-packages (from boto3<2,>=1.10->autogluon.core[all]==0.8.2->autogluon) (1.31.33)\n",
      "Requirement already satisfied: jmespath<2.0.0,>=0.7.1 in /home/ec2-user/anaconda3/envs/pytorch_p310/lib/python3.10/site-packages (from boto3<2,>=1.10->autogluon.core[all]==0.8.2->autogluon) (1.0.1)\n",
      "Requirement already satisfied: s3transfer<0.7.0,>=0.6.0 in /home/ec2-user/anaconda3/envs/pytorch_p310/lib/python3.10/site-packages (from boto3<2,>=1.10->autogluon.core[all]==0.8.2->autogluon) (0.6.1)\n",
      "Requirement already satisfied: graphviz in /home/ec2-user/anaconda3/envs/pytorch_p310/lib/python3.10/site-packages (from catboost<1.3,>=1.1->autogluon.tabular[all]==0.8.2->autogluon) (0.8.4)\n",
      "Requirement already satisfied: plotly in /home/ec2-user/anaconda3/envs/pytorch_p310/lib/python3.10/site-packages (from catboost<1.3,>=1.1->autogluon.tabular[all]==0.8.2->autogluon) (5.15.0)\n",
      "Requirement already satisfied: six in /home/ec2-user/anaconda3/envs/pytorch_p310/lib/python3.10/site-packages (from catboost<1.3,>=1.1->autogluon.tabular[all]==0.8.2->autogluon) (1.16.0)\n",
      "Collecting datasets>=2.0.0 (from evaluate<0.4.0,>=0.2.2->autogluon.multimodal==0.8.2->autogluon)\n",
      "  Obtaining dependency information for datasets>=2.0.0 from https://files.pythonhosted.org/packages/66/f8/38298237d18d4b6a8ee5dfe390e97bed5adb8e01ec6f9680c0ddf3066728/datasets-2.14.4-py3-none-any.whl.metadata\n",
      "  Downloading datasets-2.14.4-py3-none-any.whl.metadata (19 kB)\n",
      "Requirement already satisfied: dill in /home/ec2-user/anaconda3/envs/pytorch_p310/lib/python3.10/site-packages (from evaluate<0.4.0,>=0.2.2->autogluon.multimodal==0.8.2->autogluon) (0.3.6)\n",
      "Collecting xxhash (from evaluate<0.4.0,>=0.2.2->autogluon.multimodal==0.8.2->autogluon)\n",
      "  Obtaining dependency information for xxhash from https://files.pythonhosted.org/packages/13/c3/e942893f4864a424514c81640f114980cfd5aff7e7414d1e0255f4571111/xxhash-3.3.0-cp310-cp310-manylinux_2_17_x86_64.manylinux2014_x86_64.whl.metadata\n",
      "  Downloading xxhash-3.3.0-cp310-cp310-manylinux_2_17_x86_64.manylinux2014_x86_64.whl.metadata (12 kB)\n",
      "Requirement already satisfied: multiprocess in /home/ec2-user/anaconda3/envs/pytorch_p310/lib/python3.10/site-packages (from evaluate<0.4.0,>=0.2.2->autogluon.multimodal==0.8.2->autogluon) (0.70.14)\n",
      "Requirement already satisfied: fsspec[http]>=2021.05.0 in /home/ec2-user/anaconda3/envs/pytorch_p310/lib/python3.10/site-packages (from evaluate<0.4.0,>=0.2.2->autogluon.multimodal==0.8.2->autogluon) (2023.6.0)\n",
      "Collecting huggingface-hub>=0.7.0 (from evaluate<0.4.0,>=0.2.2->autogluon.multimodal==0.8.2->autogluon)\n",
      "  Obtaining dependency information for huggingface-hub>=0.7.0 from https://files.pythonhosted.org/packages/7f/c4/adcbe9a696c135578cabcbdd7331332daad4d49b7c43688bc2d36b3a47d2/huggingface_hub-0.16.4-py3-none-any.whl.metadata\n",
      "  Downloading huggingface_hub-0.16.4-py3-none-any.whl.metadata (12 kB)\n",
      "Collecting responses<0.19 (from evaluate<0.4.0,>=0.2.2->autogluon.multimodal==0.8.2->autogluon)\n",
      "  Downloading responses-0.18.0-py3-none-any.whl (38 kB)\n",
      "Requirement already satisfied: pip in /home/ec2-user/anaconda3/envs/pytorch_p310/lib/python3.10/site-packages (from fastai<2.8,>=2.3.1->autogluon.tabular[all]==0.8.2->autogluon) (23.2.1)\n",
      "Collecting fastdownload<2,>=0.0.5 (from fastai<2.8,>=2.3.1->autogluon.tabular[all]==0.8.2->autogluon)\n",
      "  Downloading fastdownload-0.0.7-py3-none-any.whl (12 kB)\n",
      "Collecting fastcore<1.6,>=1.5.29 (from fastai<2.8,>=2.3.1->autogluon.tabular[all]==0.8.2->autogluon)\n",
      "  Downloading fastcore-1.5.29-py3-none-any.whl (67 kB)\n",
      "\u001b[2K     \u001b[90m━━━━━━━━━━━━━━━━━━━━━━━━━━━━━━━━━━━━━━━\u001b[0m \u001b[32m67.6/67.6 kB\u001b[0m \u001b[31m281.3 MB/s\u001b[0m eta \u001b[36m0:00:00\u001b[0m\n",
      "\u001b[?25hCollecting fastprogress>=0.2.4 (from fastai<2.8,>=2.3.1->autogluon.tabular[all]==0.8.2->autogluon)\n",
      "  Downloading fastprogress-1.0.3-py3-none-any.whl (12 kB)\n",
      "Collecting spacy<4 (from fastai<2.8,>=2.3.1->autogluon.tabular[all]==0.8.2->autogluon)\n",
      "  Obtaining dependency information for spacy<4 from https://files.pythonhosted.org/packages/58/93/051fc55f3e4e6d0d97beb77bbd5cd9e17589a0092305b4ae6164c6dcb58a/spacy-3.6.1-cp310-cp310-manylinux_2_17_x86_64.manylinux2014_x86_64.whl.metadata\n",
      "  Downloading spacy-3.6.1-cp310-cp310-manylinux_2_17_x86_64.manylinux2014_x86_64.whl.metadata (25 kB)\n",
      "Collecting toolz~=0.10 (from gluonts<0.14,>=0.13.1->autogluon.timeseries[all]==0.8.2->autogluon)\n",
      "  Downloading toolz-0.12.0-py3-none-any.whl (55 kB)\n",
      "\u001b[2K     \u001b[90m━━━━━━━━━━━━━━━━━━━━━━━━━━━━━━━━━━━━━━━\u001b[0m \u001b[32m55.8/55.8 kB\u001b[0m \u001b[31m276.1 MB/s\u001b[0m eta \u001b[36m0:00:00\u001b[0m\n",
      "\u001b[?25hRequirement already satisfied: typing-extensions~=4.0 in /home/ec2-user/anaconda3/envs/pytorch_p310/lib/python3.10/site-packages (from gluonts<0.14,>=0.13.1->autogluon.timeseries[all]==0.8.2->autogluon) (4.7.1)\n",
      "Collecting future (from hyperopt<0.2.8,>=0.2.7->autogluon.core[all]==0.8.2->autogluon)\n",
      "  Downloading future-0.18.3.tar.gz (840 kB)\n",
      "\u001b[2K     \u001b[90m━━━━━━━━━━━━━━━━━━━━━━━━━━━━━━━━━━━━━\u001b[0m \u001b[32m840.9/840.9 kB\u001b[0m \u001b[31m428.5 MB/s\u001b[0m eta \u001b[36m0:00:00\u001b[0m\n",
      "\u001b[?25h  Preparing metadata (setup.py) ... \u001b[?25ldone\n",
      "\u001b[?25hRequirement already satisfied: cloudpickle in /home/ec2-user/anaconda3/envs/pytorch_p310/lib/python3.10/site-packages (from hyperopt<0.2.8,>=0.2.7->autogluon.core[all]==0.8.2->autogluon) (2.2.1)\n",
      "Requirement already satisfied: py4j in /home/ec2-user/anaconda3/envs/pytorch_p310/lib/python3.10/site-packages (from hyperopt<0.2.8,>=0.2.7->autogluon.core[all]==0.8.2->autogluon) (0.10.9.5)\n",
      "Requirement already satisfied: MarkupSafe>=2.0 in /home/ec2-user/anaconda3/envs/pytorch_p310/lib/python3.10/site-packages (from jinja2<3.2,>=3.0.3->autogluon.multimodal==0.8.2->autogluon) (2.1.3)\n",
      "Requirement already satisfied: attrs>=17.4.0 in /home/ec2-user/anaconda3/envs/pytorch_p310/lib/python3.10/site-packages (from jsonschema<4.18,>=4.14->autogluon.multimodal==0.8.2->autogluon) (23.1.0)\n",
      "Collecting pyrsistent!=0.17.0,!=0.17.1,!=0.17.2,>=0.14.0 (from jsonschema<4.18,>=4.14->autogluon.multimodal==0.8.2->autogluon)\n",
      "  Downloading pyrsistent-0.19.3-py3-none-any.whl (57 kB)\n",
      "\u001b[2K     \u001b[90m━━━━━━━━━━━━━━━━━━━━━━━━━━━━━━━━━━━━━━━\u001b[0m \u001b[32m57.5/57.5 kB\u001b[0m \u001b[31m202.0 MB/s\u001b[0m eta \u001b[36m0:00:00\u001b[0m\n",
      "\u001b[?25hRequirement already satisfied: wheel in /home/ec2-user/anaconda3/envs/pytorch_p310/lib/python3.10/site-packages (from lightgbm<3.4,>=3.3->autogluon.tabular[all]==0.8.2->autogluon) (0.41.2)\n",
      "Requirement already satisfied: numba in /home/ec2-user/anaconda3/envs/pytorch_p310/lib/python3.10/site-packages (from mlforecast<0.7.4,>=0.7.0->autogluon.timeseries[all]==0.8.2->autogluon) (0.57.1)\n",
      "Collecting window-ops (from mlforecast<0.7.4,>=0.7.0->autogluon.timeseries[all]==0.8.2->autogluon)\n",
      "  Downloading window_ops-0.0.14-py3-none-any.whl (14 kB)\n",
      "Collecting gdown>=4.0.0 (from nlpaug<1.2.0,>=1.1.10->autogluon.multimodal==0.8.2->autogluon)\n",
      "  Downloading gdown-4.7.1-py3-none-any.whl (15 kB)\n",
      "Requirement already satisfied: click in /home/ec2-user/anaconda3/envs/pytorch_p310/lib/python3.10/site-packages (from nltk<4.0.0,>=3.4.5->autogluon.multimodal==0.8.2->autogluon) (8.1.6)\n",
      "Collecting regex>=2021.8.3 (from nltk<4.0.0,>=3.4.5->autogluon.multimodal==0.8.2->autogluon)\n",
      "  Obtaining dependency information for regex>=2021.8.3 from https://files.pythonhosted.org/packages/d1/df/460ca6171a8494fcf37af43f52f6fac23e38784bb4a26563f6fa01ef6faf/regex-2023.8.8-cp310-cp310-manylinux_2_17_x86_64.manylinux2014_x86_64.whl.metadata\n",
      "  Downloading regex-2023.8.8-cp310-cp310-manylinux_2_17_x86_64.manylinux2014_x86_64.whl.metadata (40 kB)\n",
      "\u001b[2K     \u001b[90m━━━━━━━━━━━━━━━━━━━━━━━━━━━━━━━━━━━━━━━\u001b[0m \u001b[32m40.9/40.9 kB\u001b[0m \u001b[31m247.5 MB/s\u001b[0m eta \u001b[36m0:00:00\u001b[0m\n",
      "\u001b[?25hCollecting antlr4-python3-runtime==4.9.* (from omegaconf<2.3.0,>=2.1.1->autogluon.multimodal==0.8.2->autogluon)\n",
      "  Downloading antlr4-python3-runtime-4.9.3.tar.gz (117 kB)\n",
      "\u001b[2K     \u001b[90m━━━━━━━━━━━━━━━━━━━━━━━━━━━━━━━━━━━━━\u001b[0m \u001b[32m117.0/117.0 kB\u001b[0m \u001b[31m329.2 MB/s\u001b[0m eta \u001b[36m0:00:00\u001b[0m\n",
      "\u001b[?25h  Preparing metadata (setup.py) ... \u001b[?25ldone\n",
      "\u001b[?25hRequirement already satisfied: colorama in /home/ec2-user/anaconda3/envs/pytorch_p310/lib/python3.10/site-packages (from openmim<0.4.0,>=0.3.7->autogluon.multimodal==0.8.2->autogluon) (0.4.4)\n",
      "Collecting model-index (from openmim<0.4.0,>=0.3.7->autogluon.multimodal==0.8.2->autogluon)\n",
      "  Downloading model_index-0.1.11-py3-none-any.whl (34 kB)\n",
      "Collecting opendatalab (from openmim<0.4.0,>=0.3.7->autogluon.multimodal==0.8.2->autogluon)\n",
      "  Obtaining dependency information for opendatalab from https://files.pythonhosted.org/packages/10/82/28fa3a91b7c4852fbad9ad32c7b49e4b1e212ab7ccf7296736da0935070d/opendatalab-0.0.10-py3-none-any.whl.metadata\n",
      "  Downloading opendatalab-0.0.10-py3-none-any.whl.metadata (6.4 kB)\n",
      "Collecting rich (from openmim<0.4.0,>=0.3.7->autogluon.multimodal==0.8.2->autogluon)\n",
      "  Obtaining dependency information for rich from https://files.pythonhosted.org/packages/8d/5f/21a93b2ec205f4b79853ff6e838e3c99064d5dbe85ec6b05967506f14af0/rich-13.5.2-py3-none-any.whl.metadata\n",
      "  Downloading rich-13.5.2-py3-none-any.whl.metadata (18 kB)\n",
      "Requirement already satisfied: tabulate in /home/ec2-user/anaconda3/envs/pytorch_p310/lib/python3.10/site-packages (from openmim<0.4.0,>=0.3.7->autogluon.multimodal==0.8.2->autogluon) (0.9.0)\n",
      "Requirement already satisfied: python-dateutil>=2.8.1 in /home/ec2-user/anaconda3/envs/pytorch_p310/lib/python3.10/site-packages (from pandas<1.6,>=1.4.1->autogluon.core[all]==0.8.2->autogluon) (2.8.2)\n",
      "Requirement already satisfied: pytz>=2020.1 in /home/ec2-user/anaconda3/envs/pytorch_p310/lib/python3.10/site-packages (from pandas<1.6,>=1.4.1->autogluon.core[all]==0.8.2->autogluon) (2023.3)\n",
      "Collecting lightning-utilities>=0.6.0.post0 (from pytorch-lightning<1.10.0,>=1.9.0->autogluon.multimodal==0.8.2->autogluon)\n",
      "  Obtaining dependency information for lightning-utilities>=0.6.0.post0 from https://files.pythonhosted.org/packages/46/ee/8641eeb6a062f383b7d6875604e1f3f83bd2c93a0b4dbcabd3150b32de6e/lightning_utilities-0.9.0-py3-none-any.whl.metadata\n",
      "  Downloading lightning_utilities-0.9.0-py3-none-any.whl.metadata (4.6 kB)\n",
      "Requirement already satisfied: filelock in /home/ec2-user/anaconda3/envs/pytorch_p310/lib/python3.10/site-packages (from ray[default]<2.4,>=2.3->autogluon.core[all]==0.8.2->autogluon) (3.12.2)\n",
      "Collecting msgpack<2.0.0,>=1.0.0 (from ray[default]<2.4,>=2.3->autogluon.core[all]==0.8.2->autogluon)\n",
      "  Downloading msgpack-1.0.5-cp310-cp310-manylinux_2_17_x86_64.manylinux2014_x86_64.whl (316 kB)\n",
      "\u001b[2K     \u001b[90m━━━━━━━━━━━━━━━━━━━━━━━━━━━━━━━━━━━━━\u001b[0m \u001b[32m316.8/316.8 kB\u001b[0m \u001b[31m402.0 MB/s\u001b[0m eta \u001b[36m0:00:00\u001b[0m\n",
      "\u001b[?25hRequirement already satisfied: protobuf!=3.19.5,>=3.15.3 in /home/ec2-user/anaconda3/envs/pytorch_p310/lib/python3.10/site-packages (from ray[default]<2.4,>=2.3->autogluon.core[all]==0.8.2->autogluon) (4.23.4)\n",
      "Collecting aiosignal (from ray[default]<2.4,>=2.3->autogluon.core[all]==0.8.2->autogluon)\n",
      "  Downloading aiosignal-1.3.1-py3-none-any.whl (7.6 kB)\n",
      "Collecting frozenlist (from ray[default]<2.4,>=2.3->autogluon.core[all]==0.8.2->autogluon)\n",
      "  Obtaining dependency information for frozenlist from https://files.pythonhosted.org/packages/1e/28/74b8b6451c89c070d34e753d8b65a1e4ce508a6808b18529f36e8c0e2184/frozenlist-1.4.0-cp310-cp310-manylinux_2_5_x86_64.manylinux1_x86_64.manylinux_2_17_x86_64.manylinux2014_x86_64.whl.metadata\n",
      "  Downloading frozenlist-1.4.0-cp310-cp310-manylinux_2_5_x86_64.manylinux1_x86_64.manylinux_2_17_x86_64.manylinux2014_x86_64.whl.metadata (5.2 kB)\n",
      "Collecting virtualenv>=20.0.24 (from ray[default]<2.4,>=2.3->autogluon.core[all]==0.8.2->autogluon)\n",
      "  Obtaining dependency information for virtualenv>=20.0.24 from https://files.pythonhosted.org/packages/48/87/0ff871ebe003075d61e1abeab67c21d50edf44dbfdeabd107bef30a9e027/virtualenv-20.24.4-py3-none-any.whl.metadata\n",
      "  Downloading virtualenv-20.24.4-py3-none-any.whl.metadata (4.5 kB)\n",
      "Collecting aiohttp>=3.7 (from ray[default]<2.4,>=2.3->autogluon.core[all]==0.8.2->autogluon)\n",
      "  Obtaining dependency information for aiohttp>=3.7 from https://files.pythonhosted.org/packages/3e/f6/fcda07dd1e72260989f0b22dde999ecfe80daa744f23ca167083683399bc/aiohttp-3.8.5-cp310-cp310-manylinux_2_17_x86_64.manylinux2014_x86_64.whl.metadata\n",
      "  Downloading aiohttp-3.8.5-cp310-cp310-manylinux_2_17_x86_64.manylinux2014_x86_64.whl.metadata (7.7 kB)\n",
      "Collecting aiohttp-cors (from ray[default]<2.4,>=2.3->autogluon.core[all]==0.8.2->autogluon)\n",
      "  Downloading aiohttp_cors-0.7.0-py3-none-any.whl (27 kB)\n",
      "Collecting colorful (from ray[default]<2.4,>=2.3->autogluon.core[all]==0.8.2->autogluon)\n",
      "  Downloading colorful-0.5.5-py2.py3-none-any.whl (201 kB)\n",
      "\u001b[2K     \u001b[90m━━━━━━━━━━━━━━━━━━━━━━━━━━━━━━━━━━━━━\u001b[0m \u001b[32m201.4/201.4 kB\u001b[0m \u001b[31m377.5 MB/s\u001b[0m eta \u001b[36m0:00:00\u001b[0m\n",
      "\u001b[?25hCollecting py-spy>=0.2.0 (from ray[default]<2.4,>=2.3->autogluon.core[all]==0.8.2->autogluon)\n",
      "  Downloading py_spy-0.3.14-py2.py3-none-manylinux_2_5_x86_64.manylinux1_x86_64.whl (3.0 MB)\n",
      "\u001b[2K     \u001b[90m━━━━━━━━━━━━━━━━━━━━━━━━━━━━━━━━━━━━━━━━\u001b[0m \u001b[32m3.0/3.0 MB\u001b[0m \u001b[31m341.5 MB/s\u001b[0m eta \u001b[36m0:00:00\u001b[0m\n",
      "\u001b[?25hCollecting gpustat>=1.0.0 (from ray[default]<2.4,>=2.3->autogluon.core[all]==0.8.2->autogluon)\n",
      "  Downloading gpustat-1.1.1.tar.gz (98 kB)\n",
      "\u001b[2K     \u001b[90m━━━━━━━━━━━━━━━━━━━━━━━━━━━━━━━━━━━━━━━\u001b[0m \u001b[32m98.1/98.1 kB\u001b[0m \u001b[31m289.6 MB/s\u001b[0m eta \u001b[36m0:00:00\u001b[0m\n",
      "\u001b[?25h  Installing build dependencies ... \u001b[?25ldone\n",
      "\u001b[?25h  Getting requirements to build wheel ... \u001b[?25ldone\n",
      "\u001b[?25h  Preparing metadata (pyproject.toml) ... \u001b[?25ldone\n",
      "\u001b[?25hCollecting opencensus (from ray[default]<2.4,>=2.3->autogluon.core[all]==0.8.2->autogluon)\n",
      "  Downloading opencensus-0.11.2-py2.py3-none-any.whl (128 kB)\n",
      "\u001b[2K     \u001b[90m━━━━━━━━━━━━━━━━━━━━━━━━━━━━━━━━━━━━━\u001b[0m \u001b[32m128.2/128.2 kB\u001b[0m \u001b[31m323.9 MB/s\u001b[0m eta \u001b[36m0:00:00\u001b[0m\n",
      "\u001b[?25hRequirement already satisfied: prometheus-client>=0.7.1 in /home/ec2-user/anaconda3/envs/pytorch_p310/lib/python3.10/site-packages (from ray[default]<2.4,>=2.3->autogluon.core[all]==0.8.2->autogluon) (0.17.1)\n",
      "Collecting smart-open (from ray[default]<2.4,>=2.3->autogluon.core[all]==0.8.2->autogluon)\n",
      "  Downloading smart_open-6.3.0-py3-none-any.whl (56 kB)\n",
      "\u001b[2K     \u001b[90m━━━━━━━━━━━━━━━━━━━━━━━━━━━━━━━━━━━━━━━\u001b[0m \u001b[32m56.8/56.8 kB\u001b[0m \u001b[31m281.0 MB/s\u001b[0m eta \u001b[36m0:00:00\u001b[0m\n",
      "\u001b[?25hCollecting tensorboardX>=1.9 (from ray[default]<2.4,>=2.3->autogluon.core[all]==0.8.2->autogluon)\n",
      "  Obtaining dependency information for tensorboardX>=1.9 from https://files.pythonhosted.org/packages/44/71/f3e7c9b2ab67e28c572ab4e9d5fa3499e0d252650f96d8a3a03e26677f53/tensorboardX-2.6.2.2-py2.py3-none-any.whl.metadata\n",
      "  Downloading tensorboardX-2.6.2.2-py2.py3-none-any.whl.metadata (5.8 kB)\n",
      "Requirement already satisfied: charset-normalizer<4,>=2 in /home/ec2-user/anaconda3/envs/pytorch_p310/lib/python3.10/site-packages (from requests->autogluon.core[all]==0.8.2->autogluon) (3.2.0)\n",
      "Requirement already satisfied: idna<4,>=2.5 in /home/ec2-user/anaconda3/envs/pytorch_p310/lib/python3.10/site-packages (from requests->autogluon.core[all]==0.8.2->autogluon) (3.4)\n",
      "Requirement already satisfied: urllib3<3,>=1.21.1 in /home/ec2-user/anaconda3/envs/pytorch_p310/lib/python3.10/site-packages (from requests->autogluon.core[all]==0.8.2->autogluon) (1.26.14)\n",
      "Requirement already satisfied: certifi>=2017.4.17 in /home/ec2-user/anaconda3/envs/pytorch_p310/lib/python3.10/site-packages (from requests->autogluon.core[all]==0.8.2->autogluon) (2023.5.7)\n",
      "Requirement already satisfied: imageio>=2.4.1 in /home/ec2-user/anaconda3/envs/pytorch_p310/lib/python3.10/site-packages (from scikit-image<0.20.0,>=0.19.1->autogluon.multimodal==0.8.2->autogluon) (2.31.1)\n",
      "Collecting tifffile>=2019.7.26 (from scikit-image<0.20.0,>=0.19.1->autogluon.multimodal==0.8.2->autogluon)\n",
      "  Obtaining dependency information for tifffile>=2019.7.26 from https://files.pythonhosted.org/packages/12/3e/89513f44a10c625121b7d5bc54390d7ac7f2c92a19755c052888febf9730/tifffile-2023.8.30-py3-none-any.whl.metadata\n",
      "  Downloading tifffile-2023.8.30-py3-none-any.whl.metadata (30 kB)\n",
      "Collecting PyWavelets>=1.1.1 (from scikit-image<0.20.0,>=0.19.1->autogluon.multimodal==0.8.2->autogluon)\n",
      "  Downloading PyWavelets-1.4.1-cp310-cp310-manylinux_2_17_x86_64.manylinux2014_x86_64.whl (6.8 MB)\n",
      "\u001b[2K     \u001b[90m━━━━━━━━━━━━━━━━━━━━━━━━━━━━━━━━━━━━━━━━\u001b[0m \u001b[32m6.8/6.8 MB\u001b[0m \u001b[31m228.7 MB/s\u001b[0m eta \u001b[36m0:00:00\u001b[0m\n",
      "\u001b[?25hRequirement already satisfied: threadpoolctl>=2.0.0 in /home/ec2-user/anaconda3/envs/pytorch_p310/lib/python3.10/site-packages (from scikit-learn<1.3,>=1.0->autogluon.core[all]==0.8.2->autogluon) (3.2.0)\n",
      "Requirement already satisfied: patsy>=0.5.2 in /home/ec2-user/anaconda3/envs/pytorch_p310/lib/python3.10/site-packages (from statsmodels<0.15,>=0.13.0->autogluon.timeseries[all]==0.8.2->autogluon) (0.5.3)\n",
      "Collecting absl-py>=0.4 (from tensorboard<3,>=2.9->autogluon.multimodal==0.8.2->autogluon)\n",
      "  Downloading absl_py-1.4.0-py3-none-any.whl (126 kB)\n",
      "\u001b[2K     \u001b[90m━━━━━━━━━━━━━━━━━━━━━━━━━━━━━━━━━━━━━\u001b[0m \u001b[32m126.5/126.5 kB\u001b[0m \u001b[31m361.2 MB/s\u001b[0m eta \u001b[36m0:00:00\u001b[0m\n",
      "\u001b[?25hCollecting google-auth<3,>=1.6.3 (from tensorboard<3,>=2.9->autogluon.multimodal==0.8.2->autogluon)\n",
      "  Obtaining dependency information for google-auth<3,>=1.6.3 from https://files.pythonhosted.org/packages/9c/8d/bff87fc722553a5691d8514da5523c23547f3894189ba03b57592e37bdc2/google_auth-2.22.0-py2.py3-none-any.whl.metadata\n",
      "  Downloading google_auth-2.22.0-py2.py3-none-any.whl.metadata (4.2 kB)\n",
      "Collecting google-auth-oauthlib<1.1,>=0.5 (from tensorboard<3,>=2.9->autogluon.multimodal==0.8.2->autogluon)\n",
      "  Downloading google_auth_oauthlib-1.0.0-py2.py3-none-any.whl (18 kB)\n",
      "Collecting markdown>=2.6.8 (from tensorboard<3,>=2.9->autogluon.multimodal==0.8.2->autogluon)\n",
      "  Obtaining dependency information for markdown>=2.6.8 from https://files.pythonhosted.org/packages/1a/b5/228c1cdcfe138f1a8e01ab1b54284c8b83735476cb22b6ba251656ed13ad/Markdown-3.4.4-py3-none-any.whl.metadata\n",
      "  Downloading Markdown-3.4.4-py3-none-any.whl.metadata (6.9 kB)\n",
      "Collecting tensorboard-data-server<0.8.0,>=0.7.0 (from tensorboard<3,>=2.9->autogluon.multimodal==0.8.2->autogluon)\n",
      "  Obtaining dependency information for tensorboard-data-server<0.8.0,>=0.7.0 from https://files.pythonhosted.org/packages/02/52/fb9e51fba47951aabd7a6b25e41d73eae94208ccf62d886168096941a781/tensorboard_data_server-0.7.1-py3-none-manylinux2014_x86_64.whl.metadata\n",
      "  Downloading tensorboard_data_server-0.7.1-py3-none-manylinux2014_x86_64.whl.metadata (1.1 kB)\n",
      "Requirement already satisfied: werkzeug>=1.0.1 in /home/ec2-user/anaconda3/envs/pytorch_p310/lib/python3.10/site-packages (from tensorboard<3,>=2.9->autogluon.multimodal==0.8.2->autogluon) (2.3.6)\n",
      "Collecting safetensors (from timm<0.10.0,>=0.9.2->autogluon.multimodal==0.8.2->autogluon)\n",
      "  Obtaining dependency information for safetensors from https://files.pythonhosted.org/packages/6c/f0/c17bbdb1e5f9dab29d44cade445135789f75f8f08ea2728d04493ea8412b/safetensors-0.3.3-cp310-cp310-manylinux_2_17_x86_64.manylinux2014_x86_64.whl.metadata\n",
      "  Downloading safetensors-0.3.3-cp310-cp310-manylinux_2_17_x86_64.manylinux2014_x86_64.whl.metadata (4.7 kB)\n",
      "Collecting nvidia-cuda-runtime-cu11==11.7.99 (from torch<1.14,>=1.9->autogluon.multimodal==0.8.2->autogluon)\n",
      "  Downloading nvidia_cuda_runtime_cu11-11.7.99-py3-none-manylinux1_x86_64.whl (849 kB)\n",
      "\u001b[2K     \u001b[90m━━━━━━━━━━━━━━━━━━━━━━━━━━━━━━━━━━━━━\u001b[0m \u001b[32m849.3/849.3 kB\u001b[0m \u001b[31m403.9 MB/s\u001b[0m eta \u001b[36m0:00:00\u001b[0m\n",
      "\u001b[?25hCollecting nvidia-cudnn-cu11==8.5.0.96 (from torch<1.14,>=1.9->autogluon.multimodal==0.8.2->autogluon)\n",
      "  Downloading nvidia_cudnn_cu11-8.5.0.96-2-py3-none-manylinux1_x86_64.whl (557.1 MB)\n",
      "\u001b[2K     \u001b[90m━━━━━━━━━━━━━━━━━━━━━━━━━━━━━━━━━━━━━\u001b[0m \u001b[32m557.1/557.1 MB\u001b[0m \u001b[31m229.2 MB/s\u001b[0m eta \u001b[36m0:00:00\u001b[0m00:01\u001b[0m00:01\u001b[0m\n",
      "\u001b[?25hCollecting nvidia-cublas-cu11==11.10.3.66 (from torch<1.14,>=1.9->autogluon.multimodal==0.8.2->autogluon)\n",
      "  Downloading nvidia_cublas_cu11-11.10.3.66-py3-none-manylinux1_x86_64.whl (317.1 MB)\n",
      "\u001b[2K     \u001b[90m━━━━━━━━━━━━━━━━━━━━━━━━━━━━━━━━━━━━━\u001b[0m \u001b[32m317.1/317.1 MB\u001b[0m \u001b[31m221.9 MB/s\u001b[0m eta \u001b[36m0:00:00\u001b[0m00:01\u001b[0m00:01\u001b[0m\n",
      "\u001b[?25hCollecting nvidia-cuda-nvrtc-cu11==11.7.99 (from torch<1.14,>=1.9->autogluon.multimodal==0.8.2->autogluon)\n",
      "  Downloading nvidia_cuda_nvrtc_cu11-11.7.99-2-py3-none-manylinux1_x86_64.whl (21.0 MB)\n",
      "\u001b[2K     \u001b[90m━━━━━━━━━━━━━━━━━━━━━━━━━━━━━━━━━━━━━━━\u001b[0m \u001b[32m21.0/21.0 MB\u001b[0m \u001b[31m198.6 MB/s\u001b[0m eta \u001b[36m0:00:00\u001b[0ma \u001b[36m0:00:01\u001b[0m\n",
      "\u001b[?25hCollecting tokenizers!=0.11.3,<0.14,>=0.11.1 (from transformers[sentencepiece]<4.27.0,>=4.23.0->autogluon.multimodal==0.8.2->autogluon)\n",
      "  Downloading tokenizers-0.13.3-cp310-cp310-manylinux_2_17_x86_64.manylinux2014_x86_64.whl (7.8 MB)\n",
      "\u001b[2K     \u001b[90m━━━━━━━━━━━━━━━━━━━━━━━━━━━━━━━━━━━━━━━━\u001b[0m \u001b[32m7.8/7.8 MB\u001b[0m \u001b[31m197.8 MB/s\u001b[0m eta \u001b[36m0:00:00\u001b[0ma \u001b[36m0:00:01\u001b[0m\n",
      "\u001b[?25hCollecting sentencepiece!=0.1.92,>=0.1.91 (from transformers[sentencepiece]<4.27.0,>=4.23.0->autogluon.multimodal==0.8.2->autogluon)\n",
      "  Downloading sentencepiece-0.1.99-cp310-cp310-manylinux_2_17_x86_64.manylinux2014_x86_64.whl (1.3 MB)\n",
      "\u001b[2K     \u001b[90m━━━━━━━━━━━━━━━━━━━━━━━━━━━━━━━━━━━━━━━━\u001b[0m \u001b[32m1.3/1.3 MB\u001b[0m \u001b[31m421.8 MB/s\u001b[0m eta \u001b[36m0:00:00\u001b[0m\n",
      "\u001b[?25hCollecting protobuf!=3.19.5,>=3.15.3 (from ray[default]<2.4,>=2.3->autogluon.core[all]==0.8.2->autogluon)\n",
      "  Downloading protobuf-3.20.2-cp310-cp310-manylinux_2_12_x86_64.manylinux2010_x86_64.whl (1.1 MB)\n",
      "\u001b[2K     \u001b[90m━━━━━━━━━━━━━━━━━━━━━━━━━━━━━━━━━━━━━━━━\u001b[0m \u001b[32m1.1/1.1 MB\u001b[0m \u001b[31m420.3 MB/s\u001b[0m eta \u001b[36m0:00:00\u001b[0m\n",
      "\u001b[?25hRequirement already satisfied: contourpy>=1.0.1 in /home/ec2-user/anaconda3/envs/pytorch_p310/lib/python3.10/site-packages (from matplotlib->autogluon.core[all]==0.8.2->autogluon) (1.1.0)\n",
      "Requirement already satisfied: cycler>=0.10 in /home/ec2-user/anaconda3/envs/pytorch_p310/lib/python3.10/site-packages (from matplotlib->autogluon.core[all]==0.8.2->autogluon) (0.11.0)\n",
      "Requirement already satisfied: fonttools>=4.22.0 in /home/ec2-user/anaconda3/envs/pytorch_p310/lib/python3.10/site-packages (from matplotlib->autogluon.core[all]==0.8.2->autogluon) (4.41.0)\n",
      "Requirement already satisfied: kiwisolver>=1.0.1 in /home/ec2-user/anaconda3/envs/pytorch_p310/lib/python3.10/site-packages (from matplotlib->autogluon.core[all]==0.8.2->autogluon) (1.4.4)\n",
      "Requirement already satisfied: pyparsing<3.1,>=2.3.1 in /home/ec2-user/anaconda3/envs/pytorch_p310/lib/python3.10/site-packages (from matplotlib->autogluon.core[all]==0.8.2->autogluon) (3.0.9)\n",
      "Collecting multidict<7.0,>=4.5 (from aiohttp>=3.7->ray[default]<2.4,>=2.3->autogluon.core[all]==0.8.2->autogluon)\n",
      "  Downloading multidict-6.0.4-cp310-cp310-manylinux_2_17_x86_64.manylinux2014_x86_64.whl (114 kB)\n",
      "\u001b[2K     \u001b[90m━━━━━━━━━━━━━━━━━━━━━━━━━━━━━━━━━━━━━\u001b[0m \u001b[32m114.5/114.5 kB\u001b[0m \u001b[31m358.2 MB/s\u001b[0m eta \u001b[36m0:00:00\u001b[0m\n",
      "\u001b[?25hCollecting async-timeout<5.0,>=4.0.0a3 (from aiohttp>=3.7->ray[default]<2.4,>=2.3->autogluon.core[all]==0.8.2->autogluon)\n",
      "  Obtaining dependency information for async-timeout<5.0,>=4.0.0a3 from https://files.pythonhosted.org/packages/a7/fa/e01228c2938de91d47b307831c62ab9e4001e747789d0b05baf779a6488c/async_timeout-4.0.3-py3-none-any.whl.metadata\n",
      "  Downloading async_timeout-4.0.3-py3-none-any.whl.metadata (4.2 kB)\n",
      "Collecting yarl<2.0,>=1.0 (from aiohttp>=3.7->ray[default]<2.4,>=2.3->autogluon.core[all]==0.8.2->autogluon)\n",
      "  Downloading yarl-1.9.2-cp310-cp310-manylinux_2_17_x86_64.manylinux2014_x86_64.whl (268 kB)\n",
      "\u001b[2K     \u001b[90m━━━━━━━━━━━━━━━━━━━━━━━━━━━━━━━━━━━━━\u001b[0m \u001b[32m268.8/268.8 kB\u001b[0m \u001b[31m384.0 MB/s\u001b[0m eta \u001b[36m0:00:00\u001b[0m\n",
      "\u001b[?25hRequirement already satisfied: pyarrow>=8.0.0 in /home/ec2-user/anaconda3/envs/pytorch_p310/lib/python3.10/site-packages (from datasets>=2.0.0->evaluate<0.4.0,>=0.2.2->autogluon.multimodal==0.8.2->autogluon) (12.0.1)\n",
      "Requirement already satisfied: beautifulsoup4 in /home/ec2-user/anaconda3/envs/pytorch_p310/lib/python3.10/site-packages (from gdown>=4.0.0->nlpaug<1.2.0,>=1.1.10->autogluon.multimodal==0.8.2->autogluon) (4.12.2)\n",
      "Collecting cachetools<6.0,>=2.0.0 (from google-auth<3,>=1.6.3->tensorboard<3,>=2.9->autogluon.multimodal==0.8.2->autogluon)\n",
      "  Obtaining dependency information for cachetools<6.0,>=2.0.0 from https://files.pythonhosted.org/packages/a9/c9/c8a7710f2cedcb1db9224fdd4d8307c9e48cbddc46c18b515fefc0f1abbe/cachetools-5.3.1-py3-none-any.whl.metadata\n",
      "  Downloading cachetools-5.3.1-py3-none-any.whl.metadata (5.2 kB)\n",
      "Collecting pyasn1-modules>=0.2.1 (from google-auth<3,>=1.6.3->tensorboard<3,>=2.9->autogluon.multimodal==0.8.2->autogluon)\n",
      "  Downloading pyasn1_modules-0.3.0-py2.py3-none-any.whl (181 kB)\n",
      "\u001b[2K     \u001b[90m━━━━━━━━━━━━━━━━━━━━━━━━━━━━━━━━━━━━━\u001b[0m \u001b[32m181.3/181.3 kB\u001b[0m \u001b[31m383.6 MB/s\u001b[0m eta \u001b[36m0:00:00\u001b[0m\n",
      "\u001b[?25hRequirement already satisfied: rsa<5,>=3.1.4 in /home/ec2-user/anaconda3/envs/pytorch_p310/lib/python3.10/site-packages (from google-auth<3,>=1.6.3->tensorboard<3,>=2.9->autogluon.multimodal==0.8.2->autogluon) (4.7.2)\n",
      "Collecting requests-oauthlib>=0.7.0 (from google-auth-oauthlib<1.1,>=0.5->tensorboard<3,>=2.9->autogluon.multimodal==0.8.2->autogluon)\n",
      "  Downloading requests_oauthlib-1.3.1-py2.py3-none-any.whl (23 kB)\n",
      "Requirement already satisfied: nvidia-ml-py>=11.450.129 in /home/ec2-user/anaconda3/envs/pytorch_p310/lib/python3.10/site-packages (from gpustat>=1.0.0->ray[default]<2.4,>=2.3->autogluon.core[all]==0.8.2->autogluon) (12.535.77)\n",
      "Collecting blessed>=1.17.1 (from gpustat>=1.0.0->ray[default]<2.4,>=2.3->autogluon.core[all]==0.8.2->autogluon)\n",
      "  Downloading blessed-1.20.0-py2.py3-none-any.whl (58 kB)\n",
      "\u001b[2K     \u001b[90m━━━━━━━━━━━━━━━━━━━━━━━━━━━━━━━━━━━━━━━\u001b[0m \u001b[32m58.4/58.4 kB\u001b[0m \u001b[31m190.5 MB/s\u001b[0m eta \u001b[36m0:00:00\u001b[0m\n",
      "\u001b[?25hRequirement already satisfied: llvmlite<0.41,>=0.40.0dev0 in /home/ec2-user/anaconda3/envs/pytorch_p310/lib/python3.10/site-packages (from numba->mlforecast<0.7.4,>=0.7.0->autogluon.timeseries[all]==0.8.2->autogluon) (0.40.1)\n",
      "Collecting spacy-legacy<3.1.0,>=3.0.11 (from spacy<4->fastai<2.8,>=2.3.1->autogluon.tabular[all]==0.8.2->autogluon)\n",
      "  Downloading spacy_legacy-3.0.12-py2.py3-none-any.whl (29 kB)\n",
      "Collecting spacy-loggers<2.0.0,>=1.0.0 (from spacy<4->fastai<2.8,>=2.3.1->autogluon.tabular[all]==0.8.2->autogluon)\n",
      "  Downloading spacy_loggers-1.0.4-py3-none-any.whl (11 kB)\n",
      "Collecting murmurhash<1.1.0,>=0.28.0 (from spacy<4->fastai<2.8,>=2.3.1->autogluon.tabular[all]==0.8.2->autogluon)\n",
      "  Downloading murmurhash-1.0.9-cp310-cp310-manylinux_2_5_x86_64.manylinux1_x86_64.manylinux_2_17_x86_64.manylinux2014_x86_64.whl (21 kB)\n",
      "Collecting cymem<2.1.0,>=2.0.2 (from spacy<4->fastai<2.8,>=2.3.1->autogluon.tabular[all]==0.8.2->autogluon)\n",
      "  Downloading cymem-2.0.7-cp310-cp310-manylinux_2_17_x86_64.manylinux2014_x86_64.whl (34 kB)\n",
      "Collecting preshed<3.1.0,>=3.0.2 (from spacy<4->fastai<2.8,>=2.3.1->autogluon.tabular[all]==0.8.2->autogluon)\n",
      "  Downloading preshed-3.0.8-cp310-cp310-manylinux_2_5_x86_64.manylinux1_x86_64.manylinux_2_17_x86_64.manylinux2014_x86_64.whl (124 kB)\n",
      "\u001b[2K     \u001b[90m━━━━━━━━━━━━━━━━━━━━━━━━━━━━━━━━━━━━━\u001b[0m \u001b[32m124.7/124.7 kB\u001b[0m \u001b[31m347.6 MB/s\u001b[0m eta \u001b[36m0:00:00\u001b[0m\n",
      "\u001b[?25hCollecting thinc<8.2.0,>=8.1.8 (from spacy<4->fastai<2.8,>=2.3.1->autogluon.tabular[all]==0.8.2->autogluon)\n",
      "  Obtaining dependency information for thinc<8.2.0,>=8.1.8 from https://files.pythonhosted.org/packages/d7/fc/2ea1a37a60ad1c7b9f41699ccd29170f6d479d3349e6742503278b4bc811/thinc-8.1.12-cp310-cp310-manylinux_2_17_x86_64.manylinux2014_x86_64.whl.metadata\n",
      "  Downloading thinc-8.1.12-cp310-cp310-manylinux_2_17_x86_64.manylinux2014_x86_64.whl.metadata (15 kB)\n",
      "Collecting wasabi<1.2.0,>=0.9.1 (from spacy<4->fastai<2.8,>=2.3.1->autogluon.tabular[all]==0.8.2->autogluon)\n",
      "  Obtaining dependency information for wasabi<1.2.0,>=0.9.1 from https://files.pythonhosted.org/packages/8f/69/26cbf0bad11703241cb84d5324d868097f7a8faf2f1888354dac8883f3fc/wasabi-1.1.2-py3-none-any.whl.metadata\n",
      "  Downloading wasabi-1.1.2-py3-none-any.whl.metadata (28 kB)\n",
      "Collecting srsly<3.0.0,>=2.4.3 (from spacy<4->fastai<2.8,>=2.3.1->autogluon.tabular[all]==0.8.2->autogluon)\n",
      "  Obtaining dependency information for srsly<3.0.0,>=2.4.3 from https://files.pythonhosted.org/packages/49/bf/4ea90444abfd1cf12f71ec74b8f95bea5d983145e58001bc022d40151ff4/srsly-2.4.7-cp310-cp310-manylinux_2_17_x86_64.manylinux2014_x86_64.whl.metadata\n",
      "  Downloading srsly-2.4.7-cp310-cp310-manylinux_2_17_x86_64.manylinux2014_x86_64.whl.metadata (20 kB)\n",
      "Collecting catalogue<2.1.0,>=2.0.6 (from spacy<4->fastai<2.8,>=2.3.1->autogluon.tabular[all]==0.8.2->autogluon)\n",
      "  Obtaining dependency information for catalogue<2.1.0,>=2.0.6 from https://files.pythonhosted.org/packages/45/8f/5b73efc14e0373d9bb0de6ce1ab04a8f77420dc473f1f3ef270caf085cff/catalogue-2.0.9-py3-none-any.whl.metadata\n",
      "  Downloading catalogue-2.0.9-py3-none-any.whl.metadata (14 kB)\n",
      "Collecting typer<0.10.0,>=0.3.0 (from spacy<4->fastai<2.8,>=2.3.1->autogluon.tabular[all]==0.8.2->autogluon)\n",
      "  Downloading typer-0.9.0-py3-none-any.whl (45 kB)\n",
      "\u001b[2K     \u001b[90m━━━━━━━━━━━━━━━━━━━━━━━━━━━━━━━━━━━━━━━\u001b[0m \u001b[32m45.9/45.9 kB\u001b[0m \u001b[31m254.6 MB/s\u001b[0m eta \u001b[36m0:00:00\u001b[0m\n",
      "\u001b[?25hCollecting pathy>=0.10.0 (from spacy<4->fastai<2.8,>=2.3.1->autogluon.tabular[all]==0.8.2->autogluon)\n",
      "  Obtaining dependency information for pathy>=0.10.0 from https://files.pythonhosted.org/packages/b5/c3/04a002ace658133f5ac48d30258ed9ceab720595dc1ac36df02fe52018af/pathy-0.10.2-py3-none-any.whl.metadata\n",
      "  Downloading pathy-0.10.2-py3-none-any.whl.metadata (16 kB)\n",
      "Collecting langcodes<4.0.0,>=3.2.0 (from spacy<4->fastai<2.8,>=2.3.1->autogluon.tabular[all]==0.8.2->autogluon)\n",
      "  Downloading langcodes-3.3.0-py3-none-any.whl (181 kB)\n",
      "\u001b[2K     \u001b[90m━━━━━━━━━━━━━━━━━━━━━━━━━━━━━━━━━━━━━\u001b[0m \u001b[32m181.6/181.6 kB\u001b[0m \u001b[31m371.1 MB/s\u001b[0m eta \u001b[36m0:00:00\u001b[0m\n",
      "\u001b[?25hCollecting distlib<1,>=0.3.7 (from virtualenv>=20.0.24->ray[default]<2.4,>=2.3->autogluon.core[all]==0.8.2->autogluon)\n",
      "  Obtaining dependency information for distlib<1,>=0.3.7 from https://files.pythonhosted.org/packages/43/a0/9ba967fdbd55293bacfc1507f58e316f740a3b231fc00e3d86dc39bc185a/distlib-0.3.7-py2.py3-none-any.whl.metadata\n",
      "  Downloading distlib-0.3.7-py2.py3-none-any.whl.metadata (5.1 kB)\n",
      "Requirement already satisfied: platformdirs<4,>=3.9.1 in /home/ec2-user/anaconda3/envs/pytorch_p310/lib/python3.10/site-packages (from virtualenv>=20.0.24->ray[default]<2.4,>=2.3->autogluon.core[all]==0.8.2->autogluon) (3.9.1)\n",
      "Collecting ordered-set (from model-index->openmim<0.4.0,>=0.3.7->autogluon.multimodal==0.8.2->autogluon)\n",
      "  Downloading ordered_set-4.1.0-py3-none-any.whl (7.6 kB)\n",
      "Collecting opencensus-context>=0.1.3 (from opencensus->ray[default]<2.4,>=2.3->autogluon.core[all]==0.8.2->autogluon)\n",
      "  Downloading opencensus_context-0.1.3-py2.py3-none-any.whl (5.1 kB)\n",
      "Collecting google-api-core<3.0.0,>=1.0.0 (from opencensus->ray[default]<2.4,>=2.3->autogluon.core[all]==0.8.2->autogluon)\n",
      "  Obtaining dependency information for google-api-core<3.0.0,>=1.0.0 from https://files.pythonhosted.org/packages/6e/c4/c3cd048b6cbeba8d9ae50dd7643ac065b85237338aa7501b0efae91eb4d9/google_api_core-2.11.1-py3-none-any.whl.metadata\n",
      "  Downloading google_api_core-2.11.1-py3-none-any.whl.metadata (2.7 kB)\n",
      "Collecting pycryptodome (from opendatalab->openmim<0.4.0,>=0.3.7->autogluon.multimodal==0.8.2->autogluon)\n",
      "  Obtaining dependency information for pycryptodome from https://files.pythonhosted.org/packages/40/88/89623388754162ddb82c62814ccbfdbfcc8ed9bd6d5f7412d2479bdca3a7/pycryptodome-3.18.0-cp35-abi3-manylinux_2_17_x86_64.manylinux2014_x86_64.whl.metadata\n",
      "  Downloading pycryptodome-3.18.0-cp35-abi3-manylinux_2_17_x86_64.manylinux2014_x86_64.whl.metadata (3.4 kB)\n",
      "Collecting openxlab (from opendatalab->openmim<0.4.0,>=0.3.7->autogluon.multimodal==0.8.2->autogluon)\n",
      "  Obtaining dependency information for openxlab from https://files.pythonhosted.org/packages/21/c2/68501fc8817f1a2d90f49ffca93be5ff17b017905e1b8b18d26d8fbf230e/openxlab-0.0.22-py3-none-any.whl.metadata\n",
      "  Downloading openxlab-0.0.22-py3-none-any.whl.metadata (3.7 kB)\n",
      "Requirement already satisfied: tenacity>=6.2.0 in /home/ec2-user/anaconda3/envs/pytorch_p310/lib/python3.10/site-packages (from plotly->catboost<1.3,>=1.1->autogluon.tabular[all]==0.8.2->autogluon) (8.2.2)\n",
      "Collecting markdown-it-py>=2.2.0 (from rich->openmim<0.4.0,>=0.3.7->autogluon.multimodal==0.8.2->autogluon)\n",
      "  Obtaining dependency information for markdown-it-py>=2.2.0 from https://files.pythonhosted.org/packages/42/d7/1ec15b46af6af88f19b8e5ffea08fa375d433c998b8a7639e76935c14f1f/markdown_it_py-3.0.0-py3-none-any.whl.metadata\n",
      "  Downloading markdown_it_py-3.0.0-py3-none-any.whl.metadata (6.9 kB)\n",
      "Requirement already satisfied: pygments<3.0.0,>=2.13.0 in /home/ec2-user/anaconda3/envs/pytorch_p310/lib/python3.10/site-packages (from rich->openmim<0.4.0,>=0.3.7->autogluon.multimodal==0.8.2->autogluon) (2.15.1)\n",
      "Requirement already satisfied: wcwidth>=0.1.4 in /home/ec2-user/anaconda3/envs/pytorch_p310/lib/python3.10/site-packages (from blessed>=1.17.1->gpustat>=1.0.0->ray[default]<2.4,>=2.3->autogluon.core[all]==0.8.2->autogluon) (0.2.6)\n",
      "Collecting googleapis-common-protos<2.0.dev0,>=1.56.2 (from google-api-core<3.0.0,>=1.0.0->opencensus->ray[default]<2.4,>=2.3->autogluon.core[all]==0.8.2->autogluon)\n",
      "  Obtaining dependency information for googleapis-common-protos<2.0.dev0,>=1.56.2 from https://files.pythonhosted.org/packages/a7/bc/416a1ffeba4dcd072bc10523dac9ed97f2e7fc4b760580e2bdbdc1e2afdd/googleapis_common_protos-1.60.0-py2.py3-none-any.whl.metadata\n",
      "  Downloading googleapis_common_protos-1.60.0-py2.py3-none-any.whl.metadata (1.5 kB)\n",
      "Collecting mdurl~=0.1 (from markdown-it-py>=2.2.0->rich->openmim<0.4.0,>=0.3.7->autogluon.multimodal==0.8.2->autogluon)\n",
      "  Downloading mdurl-0.1.2-py3-none-any.whl (10.0 kB)\n",
      "Requirement already satisfied: pyasn1<0.6.0,>=0.4.6 in /home/ec2-user/anaconda3/envs/pytorch_p310/lib/python3.10/site-packages (from pyasn1-modules>=0.2.1->google-auth<3,>=1.6.3->tensorboard<3,>=2.9->autogluon.multimodal==0.8.2->autogluon) (0.4.8)\n",
      "Collecting oauthlib>=3.0.0 (from requests-oauthlib>=0.7.0->google-auth-oauthlib<1.1,>=0.5->tensorboard<3,>=2.9->autogluon.multimodal==0.8.2->autogluon)\n",
      "  Downloading oauthlib-3.2.2-py3-none-any.whl (151 kB)\n",
      "\u001b[2K     \u001b[90m━━━━━━━━━━━━━━━━━━━━━━━━━━━━━━━━━━━━━\u001b[0m \u001b[32m151.7/151.7 kB\u001b[0m \u001b[31m364.6 MB/s\u001b[0m eta \u001b[36m0:00:00\u001b[0m\n",
      "\u001b[?25hCollecting blis<0.8.0,>=0.7.8 (from thinc<8.2.0,>=8.1.8->spacy<4->fastai<2.8,>=2.3.1->autogluon.tabular[all]==0.8.2->autogluon)\n",
      "  Obtaining dependency information for blis<0.8.0,>=0.7.8 from https://files.pythonhosted.org/packages/0a/db/223c5b780d1d8eb3ba5263f8c2c6a42502a17702917731f9ca68c4358bfd/blis-0.7.10-cp310-cp310-manylinux_2_17_x86_64.manylinux2014_x86_64.whl.metadata\n",
      "  Downloading blis-0.7.10-cp310-cp310-manylinux_2_17_x86_64.manylinux2014_x86_64.whl.metadata (7.4 kB)\n",
      "Collecting confection<1.0.0,>=0.0.1 (from thinc<8.2.0,>=8.1.8->spacy<4->fastai<2.8,>=2.3.1->autogluon.tabular[all]==0.8.2->autogluon)\n",
      "  Obtaining dependency information for confection<1.0.0,>=0.0.1 from https://files.pythonhosted.org/packages/05/5e/1a56e81e3335ce18f6742539edd2f6ea98bbf477fefc9a4dc5c0694bace4/confection-0.1.1-py3-none-any.whl.metadata\n",
      "  Downloading confection-0.1.1-py3-none-any.whl.metadata (19 kB)\n",
      "Requirement already satisfied: soupsieve>1.2 in /home/ec2-user/anaconda3/envs/pytorch_p310/lib/python3.10/site-packages (from beautifulsoup4->gdown>=4.0.0->nlpaug<1.2.0,>=1.1.10->autogluon.multimodal==0.8.2->autogluon) (2.3.2.post1)\n",
      "Collecting oss2~=2.17.0 (from openxlab->opendatalab->openmim<0.4.0,>=0.3.7->autogluon.multimodal==0.8.2->autogluon)\n",
      "  Downloading oss2-2.17.0.tar.gz (259 kB)\n",
      "\u001b[2K     \u001b[90m━━━━━━━━━━━━━━━━━━━━━━━━━━━━━━━━━━━━━\u001b[0m \u001b[32m259.5/259.5 kB\u001b[0m \u001b[31m380.9 MB/s\u001b[0m eta \u001b[36m0:00:00\u001b[0m\n",
      "\u001b[?25h  Preparing metadata (setup.py) ... \u001b[?25ldone\n",
      "\u001b[?25hCollecting requests (from autogluon.core[all]==0.8.2->autogluon)\n",
      "  Downloading requests-2.28.2-py3-none-any.whl (62 kB)\n",
      "\u001b[2K     \u001b[90m━━━━━━━━━━━━━━━━━━━━━━━━━━━━━━━━━━━━━━━\u001b[0m \u001b[32m62.8/62.8 kB\u001b[0m \u001b[31m296.2 MB/s\u001b[0m eta \u001b[36m0:00:00\u001b[0m\n",
      "\u001b[?25hCollecting rich (from openmim<0.4.0,>=0.3.7->autogluon.multimodal==0.8.2->autogluon)\n",
      "  Obtaining dependency information for rich from https://files.pythonhosted.org/packages/fc/1e/482e5eec0b89b593e81d78f819a9412849814e22225842b598908e7ac560/rich-13.4.2-py3-none-any.whl.metadata\n",
      "  Downloading rich-13.4.2-py3-none-any.whl.metadata (18 kB)\n",
      "Collecting setuptools (from autogluon.common==0.8.2->autogluon.core[all]==0.8.2->autogluon)\n",
      "  Downloading setuptools-60.2.0-py3-none-any.whl (953 kB)\n",
      "\u001b[2K     \u001b[90m━━━━━━━━━━━━━━━━━━━━━━━━━━━━━━━━━━━━━\u001b[0m \u001b[32m953.1/953.1 kB\u001b[0m \u001b[31m433.9 MB/s\u001b[0m eta \u001b[36m0:00:00\u001b[0m\n",
      "\u001b[?25hINFO: pip is looking at multiple versions of requests[socks] to determine which version is compatible with other requirements. This could take a while.\n",
      "Collecting requests[socks] (from gdown>=4.0.0->nlpaug<1.2.0,>=1.1.10->autogluon.multimodal==0.8.2->autogluon)\n",
      "  Downloading requests-2.30.0-py3-none-any.whl (62 kB)\n",
      "\u001b[2K     \u001b[90m━━━━━━━━━━━━━━━━━━━━━━━━━━━━━━━━━━━━━━━\u001b[0m \u001b[32m62.5/62.5 kB\u001b[0m \u001b[31m305.3 MB/s\u001b[0m eta \u001b[36m0:00:00\u001b[0m\n",
      "\u001b[?25h  Downloading requests-2.29.0-py3-none-any.whl (62 kB)\n",
      "\u001b[2K     \u001b[90m━━━━━━━━━━━━━━━━━━━━━━━━━━━━━━━━━━━━━━━\u001b[0m \u001b[32m62.5/62.5 kB\u001b[0m \u001b[31m274.5 MB/s\u001b[0m eta \u001b[36m0:00:00\u001b[0m\n",
      "\u001b[?25hRequirement already satisfied: PySocks!=1.5.7,>=1.5.6 in /home/ec2-user/anaconda3/envs/pytorch_p310/lib/python3.10/site-packages (from requests->autogluon.core[all]==0.8.2->autogluon) (1.7.1)\n",
      "Collecting crcmod>=1.7 (from oss2~=2.17.0->openxlab->opendatalab->openmim<0.4.0,>=0.3.7->autogluon.multimodal==0.8.2->autogluon)\n",
      "  Downloading crcmod-1.7.tar.gz (89 kB)\n",
      "\u001b[2K     \u001b[90m━━━━━━━━━━━━━━━━━━━━━━━━━━━━━━━━━━━━━━━\u001b[0m \u001b[32m89.7/89.7 kB\u001b[0m \u001b[31m340.4 MB/s\u001b[0m eta \u001b[36m0:00:00\u001b[0m\n",
      "\u001b[?25h  Preparing metadata (setup.py) ... \u001b[?25ldone\n",
      "\u001b[?25hCollecting aliyun-python-sdk-kms>=2.4.1 (from oss2~=2.17.0->openxlab->opendatalab->openmim<0.4.0,>=0.3.7->autogluon.multimodal==0.8.2->autogluon)\n",
      "  Obtaining dependency information for aliyun-python-sdk-kms>=2.4.1 from https://files.pythonhosted.org/packages/13/90/02d05478df643ceac0021bd3db4f19b42dd06c2b73e082569d0d340de70c/aliyun_python_sdk_kms-2.16.1-py2.py3-none-any.whl.metadata\n",
      "  Downloading aliyun_python_sdk_kms-2.16.1-py2.py3-none-any.whl.metadata (1.5 kB)\n",
      "Collecting aliyun-python-sdk-core>=2.13.12 (from oss2~=2.17.0->openxlab->opendatalab->openmim<0.4.0,>=0.3.7->autogluon.multimodal==0.8.2->autogluon)\n",
      "  Downloading aliyun-python-sdk-core-2.13.36.tar.gz (440 kB)\n",
      "\u001b[2K     \u001b[90m━━━━━━━━━━━━━━━━━━━━━━━━━━━━━━━━━━━━━\u001b[0m \u001b[32m440.5/440.5 kB\u001b[0m \u001b[31m407.7 MB/s\u001b[0m eta \u001b[36m0:00:00\u001b[0m\n",
      "\u001b[?25h  Preparing metadata (setup.py) ... \u001b[?25ldone\n",
      "\u001b[?25hCollecting jmespath<2.0.0,>=0.7.1 (from boto3<2,>=1.10->autogluon.core[all]==0.8.2->autogluon)\n",
      "  Downloading jmespath-0.10.0-py2.py3-none-any.whl (24 kB)\n",
      "Requirement already satisfied: cryptography>=2.6.0 in /home/ec2-user/anaconda3/envs/pytorch_p310/lib/python3.10/site-packages (from aliyun-python-sdk-core>=2.13.12->oss2~=2.17.0->openxlab->opendatalab->openmim<0.4.0,>=0.3.7->autogluon.multimodal==0.8.2->autogluon) (41.0.2)\n",
      "Requirement already satisfied: cffi>=1.12 in /home/ec2-user/anaconda3/envs/pytorch_p310/lib/python3.10/site-packages (from cryptography>=2.6.0->aliyun-python-sdk-core>=2.13.12->oss2~=2.17.0->openxlab->opendatalab->openmim<0.4.0,>=0.3.7->autogluon.multimodal==0.8.2->autogluon) (1.15.1)\n",
      "Requirement already satisfied: pycparser in /home/ec2-user/anaconda3/envs/pytorch_p310/lib/python3.10/site-packages (from cffi>=1.12->cryptography>=2.6.0->aliyun-python-sdk-core>=2.13.12->oss2~=2.17.0->openxlab->opendatalab->openmim<0.4.0,>=0.3.7->autogluon.multimodal==0.8.2->autogluon) (2.21)\n",
      "Downloading autogluon-0.8.2-py3-none-any.whl (9.7 kB)\n",
      "Downloading autogluon.features-0.8.2-py3-none-any.whl (62 kB)\n",
      "\u001b[2K   \u001b[90m━━━━━━━━━━━━━━━━━━━━━━━━━━━━━━━━━━━━━━━━\u001b[0m \u001b[32m62.1/62.1 kB\u001b[0m \u001b[31m286.5 MB/s\u001b[0m eta \u001b[36m0:00:00\u001b[0m\n",
      "\u001b[?25hDownloading autogluon.multimodal-0.8.2-py3-none-any.whl (372 kB)\n",
      "\u001b[2K   \u001b[90m━━━━━━━━━━━━━━━━━━━━━━━━━━━━━━━━━━━━━━━\u001b[0m \u001b[32m372.3/372.3 kB\u001b[0m \u001b[31m386.6 MB/s\u001b[0m eta \u001b[36m0:00:00\u001b[0m\n",
      "\u001b[?25hDownloading autogluon.common-0.8.2-py3-none-any.whl (61 kB)\n",
      "\u001b[2K   \u001b[90m━━━━━━━━━━━━━━━━━━━━━━━━━━━━━━━━━━━━━━━━\u001b[0m \u001b[32m61.1/61.1 kB\u001b[0m \u001b[31m298.3 MB/s\u001b[0m eta \u001b[36m0:00:00\u001b[0m\n",
      "\u001b[?25hDownloading autogluon.core-0.8.2-py3-none-any.whl (224 kB)\n",
      "\u001b[2K   \u001b[90m━━━━━━━━━━━━━━━━━━━━━━━━━━━━━━━━━━━━━━━\u001b[0m \u001b[32m224.0/224.0 kB\u001b[0m \u001b[31m391.2 MB/s\u001b[0m eta \u001b[36m0:00:00\u001b[0m\n",
      "\u001b[?25hDownloading catboost-1.2.1-cp310-cp310-manylinux2014_x86_64.whl (98.7 MB)\n",
      "\u001b[2K   \u001b[90m━━━━━━━━━━━━━━━━━━━━━━━━━━━━━━━━━━━━━━━━\u001b[0m \u001b[32m98.7/98.7 MB\u001b[0m \u001b[31m286.5 MB/s\u001b[0m eta \u001b[36m0:00:00\u001b[0ma \u001b[36m0:00:01\u001b[0m\n",
      "\u001b[?25hDownloading gluonts-0.13.4-py3-none-any.whl (812 kB)\n",
      "\u001b[2K   \u001b[90m━━━━━━━━━━━━━━━━━━━━━━━━━━━━━━━━━━━━━━━\u001b[0m \u001b[32m812.1/812.1 kB\u001b[0m \u001b[31m428.4 MB/s\u001b[0m eta \u001b[36m0:00:00\u001b[0m\n",
      "\u001b[?25hDownloading mlforecast-0.7.3-py3-none-any.whl (43 kB)\n",
      "\u001b[2K   \u001b[90m━━━━━━━━━━━━━━━━━━━━━━━━━━━━━━━━━━━━━━━━\u001b[0m \u001b[32m43.5/43.5 kB\u001b[0m \u001b[31m226.3 MB/s\u001b[0m eta \u001b[36m0:00:00\u001b[0m\n",
      "\u001b[?25hDownloading openmim-0.3.9-py2.py3-none-any.whl (52 kB)\n",
      "\u001b[2K   \u001b[90m━━━━━━━━━━━━━━━━━━━━━━━━━━━━━━━━━━━━━━━━\u001b[0m \u001b[32m52.7/52.7 kB\u001b[0m \u001b[31m272.8 MB/s\u001b[0m eta \u001b[36m0:00:00\u001b[0m\n",
      "\u001b[?25hDownloading pydantic-1.10.12-cp310-cp310-manylinux_2_17_x86_64.manylinux2014_x86_64.whl (3.1 MB)\n",
      "\u001b[2K   \u001b[90m━━━━━━━━━━━━━━━━━━━━━━━━━━━━━━━━━━━━━━━━\u001b[0m \u001b[32m3.1/3.1 MB\u001b[0m \u001b[31m361.4 MB/s\u001b[0m eta \u001b[36m0:00:00\u001b[0m\n",
      "\u001b[?25hDownloading tensorboard-2.14.0-py3-none-any.whl (5.5 MB)\n",
      "\u001b[2K   \u001b[90m━━━━━━━━━━━━━━━━━━━━━━━━━━━━━━━━━━━━━━━━\u001b[0m \u001b[32m5.5/5.5 MB\u001b[0m \u001b[31m140.0 MB/s\u001b[0m eta \u001b[36m0:00:00\u001b[0ma \u001b[36m0:00:01\u001b[0m\n",
      "\u001b[?25hDownloading timm-0.9.6-py3-none-any.whl (2.2 MB)\n",
      "\u001b[2K   \u001b[90m━━━━━━━━━━━━━━━━━━━━━━━━━━━━━━━━━━━━━━━━\u001b[0m \u001b[32m2.2/2.2 MB\u001b[0m \u001b[31m359.4 MB/s\u001b[0m eta \u001b[36m0:00:00\u001b[0m\n",
      "\u001b[?25hDownloading xgboost-1.7.6-py3-none-manylinux2014_x86_64.whl (200.3 MB)\n",
      "\u001b[2K   \u001b[90m━━━━━━━━━━━━━━━━━━━━━━━━━━━━━━━━━━━━━━━\u001b[0m \u001b[32m200.3/200.3 MB\u001b[0m \u001b[31m217.0 MB/s\u001b[0m eta \u001b[36m0:00:00\u001b[0ma \u001b[36m0:00:01\u001b[0m\n",
      "\u001b[?25hDownloading autogluon.tabular-0.8.2-py3-none-any.whl (285 kB)\n",
      "\u001b[2K   \u001b[90m━━━━━━━━━━━━━━━━━━━━━━━━━━━━━━━━━━━━━━━\u001b[0m \u001b[32m285.7/285.7 kB\u001b[0m \u001b[31m365.9 MB/s\u001b[0m eta \u001b[36m0:00:00\u001b[0m\n",
      "\u001b[?25hDownloading autogluon.timeseries-0.8.2-py3-none-any.whl (116 kB)\n",
      "\u001b[2K   \u001b[90m━━━━━━━━━━━━━━━━━━━━━━━━━━━━━━━━━━━━━━━\u001b[0m \u001b[32m116.3/116.3 kB\u001b[0m \u001b[31m304.1 MB/s\u001b[0m eta \u001b[36m0:00:00\u001b[0m\n",
      "\u001b[?25hDownloading aiohttp-3.8.5-cp310-cp310-manylinux_2_17_x86_64.manylinux2014_x86_64.whl (1.0 MB)\n",
      "\u001b[2K   \u001b[90m━━━━━━━━━━━━━━━━━━━━━━━━━━━━━━━━━━━━━━━━\u001b[0m \u001b[32m1.0/1.0 MB\u001b[0m \u001b[31m403.6 MB/s\u001b[0m eta \u001b[36m0:00:00\u001b[0m\n",
      "\u001b[?25hDownloading datasets-2.14.4-py3-none-any.whl (519 kB)\n",
      "\u001b[2K   \u001b[90m━━━━━━━━━━━━━━━━━━━━━━━━━━━━━━━━━━━━━━━\u001b[0m \u001b[32m519.3/519.3 kB\u001b[0m \u001b[31m413.4 MB/s\u001b[0m eta \u001b[36m0:00:00\u001b[0m\n",
      "\u001b[?25hDownloading frozenlist-1.4.0-cp310-cp310-manylinux_2_5_x86_64.manylinux1_x86_64.manylinux_2_17_x86_64.manylinux2014_x86_64.whl (225 kB)\n",
      "\u001b[2K   \u001b[90m━━━━━━━━━━━━━━━━━━━━━━━━━━━━━━━━━━━━━━━\u001b[0m \u001b[32m225.7/225.7 kB\u001b[0m \u001b[31m350.9 MB/s\u001b[0m eta \u001b[36m0:00:00\u001b[0m\n",
      "\u001b[?25hDownloading google_auth-2.22.0-py2.py3-none-any.whl (181 kB)\n",
      "\u001b[2K   \u001b[90m━━━━━━━━━━━━━━━━━━━━━━━━━━━━━━━━━━━━━━━\u001b[0m \u001b[32m181.8/181.8 kB\u001b[0m \u001b[31m347.6 MB/s\u001b[0m eta \u001b[36m0:00:00\u001b[0m\n",
      "\u001b[?25hDownloading huggingface_hub-0.16.4-py3-none-any.whl (268 kB)\n",
      "\u001b[2K   \u001b[90m━━━━━━━━━━━━━━━━━━━━━━━━━━━━━━━━━━━━━━━\u001b[0m \u001b[32m268.8/268.8 kB\u001b[0m \u001b[31m364.7 MB/s\u001b[0m eta \u001b[36m0:00:00\u001b[0m\n",
      "\u001b[?25hDownloading lightning_utilities-0.9.0-py3-none-any.whl (23 kB)\n",
      "Downloading Markdown-3.4.4-py3-none-any.whl (94 kB)\n",
      "\u001b[2K   \u001b[90m━━━━━━━━━━━━━━━━━━━━━━━━━━━━━━━━━━━━━━━━\u001b[0m \u001b[32m94.2/94.2 kB\u001b[0m \u001b[31m323.0 MB/s\u001b[0m eta \u001b[36m0:00:00\u001b[0m\n",
      "\u001b[?25hDownloading regex-2023.8.8-cp310-cp310-manylinux_2_17_x86_64.manylinux2014_x86_64.whl (771 kB)\n",
      "\u001b[2K   \u001b[90m━━━━━━━━━━━━━━━━━━━━━━━━━━━━━━━━━━━━━━━\u001b[0m \u001b[32m771.9/771.9 kB\u001b[0m \u001b[31m376.8 MB/s\u001b[0m eta \u001b[36m0:00:00\u001b[0m\n",
      "\u001b[?25hDownloading spacy-3.6.1-cp310-cp310-manylinux_2_17_x86_64.manylinux2014_x86_64.whl (6.6 MB)\n",
      "\u001b[2K   \u001b[90m━━━━━━━━━━━━━━━━━━━━━━━━━━━━━━━━━━━━━━━━\u001b[0m \u001b[32m6.6/6.6 MB\u001b[0m \u001b[31m278.9 MB/s\u001b[0m eta \u001b[36m0:00:00\u001b[0m\n",
      "\u001b[?25hDownloading tensorboard_data_server-0.7.1-py3-none-manylinux2014_x86_64.whl (6.6 MB)\n",
      "\u001b[2K   \u001b[90m━━━━━━━━━━━━━━━━━━━━━━━━━━━━━━━━━━━━━━━━\u001b[0m \u001b[32m6.6/6.6 MB\u001b[0m \u001b[31m312.0 MB/s\u001b[0m eta \u001b[36m0:00:00\u001b[0m\n",
      "\u001b[?25hDownloading tensorboardX-2.6.2.2-py2.py3-none-any.whl (101 kB)\n",
      "\u001b[2K   \u001b[90m━━━━━━━━━━━━━━━━━━━━━━━━━━━━━━━━━━━━━━━\u001b[0m \u001b[32m101.7/101.7 kB\u001b[0m \u001b[31m323.0 MB/s\u001b[0m eta \u001b[36m0:00:00\u001b[0m\n",
      "\u001b[?25hDownloading tifffile-2023.8.30-py3-none-any.whl (221 kB)\n",
      "\u001b[2K   \u001b[90m━━━━━━━━━━━━━━━━━━━━━━━━━━━━━━━━━━━━━━━\u001b[0m \u001b[32m221.9/221.9 kB\u001b[0m \u001b[31m288.6 MB/s\u001b[0m eta \u001b[36m0:00:00\u001b[0m\n",
      "\u001b[?25hDownloading virtualenv-20.24.4-py3-none-any.whl (3.7 MB)\n",
      "\u001b[2K   \u001b[90m━━━━━━━━━━━━━━━━━━━━━━━━━━━━━━━━━━━━━━━━\u001b[0m \u001b[32m3.7/3.7 MB\u001b[0m \u001b[31m330.9 MB/s\u001b[0m eta \u001b[36m0:00:00\u001b[0m\n",
      "\u001b[?25hDownloading opendatalab-0.0.10-py3-none-any.whl (29 kB)\n",
      "Downloading safetensors-0.3.3-cp310-cp310-manylinux_2_17_x86_64.manylinux2014_x86_64.whl (1.3 MB)\n",
      "\u001b[2K   \u001b[90m━━━━━━━━━━━━━━━━━━━━━━━━━━━━━━━━━━━━━━━━\u001b[0m \u001b[32m1.3/1.3 MB\u001b[0m \u001b[31m399.3 MB/s\u001b[0m eta \u001b[36m0:00:00\u001b[0m\n",
      "\u001b[?25hDownloading xxhash-3.3.0-cp310-cp310-manylinux_2_17_x86_64.manylinux2014_x86_64.whl (194 kB)\n",
      "\u001b[2K   \u001b[90m━━━━━━━━━━━━━━━━━━━━━━━━━━━━━━━━━━━━━━━\u001b[0m \u001b[32m194.1/194.1 kB\u001b[0m \u001b[31m364.0 MB/s\u001b[0m eta \u001b[36m0:00:00\u001b[0m\n",
      "\u001b[?25hDownloading async_timeout-4.0.3-py3-none-any.whl (5.7 kB)\n",
      "Downloading cachetools-5.3.1-py3-none-any.whl (9.3 kB)\n",
      "Downloading catalogue-2.0.9-py3-none-any.whl (17 kB)\n",
      "Downloading distlib-0.3.7-py2.py3-none-any.whl (468 kB)\n",
      "\u001b[2K   \u001b[90m━━━━━━━━━━━━━━━━━━━━━━━━━━━━━━━━━━━━━━━\u001b[0m \u001b[32m468.9/468.9 kB\u001b[0m \u001b[31m410.2 MB/s\u001b[0m eta \u001b[36m0:00:00\u001b[0m\n",
      "\u001b[?25hDownloading google_api_core-2.11.1-py3-none-any.whl (120 kB)\n",
      "\u001b[2K   \u001b[90m━━━━━━━━━━━━━━━━━━━━━━━━━━━━━━━━━━━━━━━\u001b[0m \u001b[32m120.5/120.5 kB\u001b[0m \u001b[31m352.7 MB/s\u001b[0m eta \u001b[36m0:00:00\u001b[0m\n",
      "\u001b[?25hDownloading markdown_it_py-3.0.0-py3-none-any.whl (87 kB)\n",
      "\u001b[2K   \u001b[90m━━━━━━━━━━━━━━━━━━━━━━━━━━━━━━━━━━━━━━━━\u001b[0m \u001b[32m87.5/87.5 kB\u001b[0m \u001b[31m334.4 MB/s\u001b[0m eta \u001b[36m0:00:00\u001b[0m\n",
      "\u001b[?25hDownloading pathy-0.10.2-py3-none-any.whl (48 kB)\n",
      "\u001b[2K   \u001b[90m━━━━━━━━━━━━━━━━━━━━━━━━━━━━━━━━━━━━━━━━\u001b[0m \u001b[32m48.9/48.9 kB\u001b[0m \u001b[31m270.3 MB/s\u001b[0m eta \u001b[36m0:00:00\u001b[0m\n",
      "\u001b[?25hDownloading srsly-2.4.7-cp310-cp310-manylinux_2_17_x86_64.manylinux2014_x86_64.whl (492 kB)\n",
      "\u001b[2K   \u001b[90m━━━━━━━━━━━━━━━━━━━━━━━━━━━━━━━━━━━━━━━\u001b[0m \u001b[32m492.9/492.9 kB\u001b[0m \u001b[31m398.6 MB/s\u001b[0m eta \u001b[36m0:00:00\u001b[0m\n",
      "\u001b[?25hDownloading thinc-8.1.12-cp310-cp310-manylinux_2_17_x86_64.manylinux2014_x86_64.whl (919 kB)\n",
      "\u001b[2K   \u001b[90m━━━━━━━━━━━━━━━━━━━━━━━━━━━━━━━━━━━━━━━\u001b[0m \u001b[32m919.6/919.6 kB\u001b[0m \u001b[31m413.9 MB/s\u001b[0m eta \u001b[36m0:00:00\u001b[0m\n",
      "\u001b[?25hDownloading wasabi-1.1.2-py3-none-any.whl (27 kB)\n",
      "Downloading openxlab-0.0.22-py3-none-any.whl (300 kB)\n",
      "\u001b[2K   \u001b[90m━━━━━━━━━━━━━━━━━━━━━━━━━━━━━━━━━━━━━━━\u001b[0m \u001b[32m300.3/300.3 kB\u001b[0m \u001b[31m383.2 MB/s\u001b[0m eta \u001b[36m0:00:00\u001b[0m\n",
      "\u001b[?25hDownloading rich-13.4.2-py3-none-any.whl (239 kB)\n",
      "\u001b[2K   \u001b[90m━━━━━━━━━━━━━━━━━━━━━━━━━━━━━━━━━━━━━━━\u001b[0m \u001b[32m239.4/239.4 kB\u001b[0m \u001b[31m371.8 MB/s\u001b[0m eta \u001b[36m0:00:00\u001b[0m\n",
      "\u001b[?25hDownloading pycryptodome-3.18.0-cp35-abi3-manylinux_2_17_x86_64.manylinux2014_x86_64.whl (2.1 MB)\n",
      "\u001b[2K   \u001b[90m━━━━━━━━━━━━━━━━━━━━━━━━━━━━━━━━━━━━━━━━\u001b[0m \u001b[32m2.1/2.1 MB\u001b[0m \u001b[31m265.6 MB/s\u001b[0m eta \u001b[36m0:00:00\u001b[0m\n",
      "\u001b[?25hDownloading blis-0.7.10-cp310-cp310-manylinux_2_17_x86_64.manylinux2014_x86_64.whl (10.2 MB)\n",
      "\u001b[2K   \u001b[90m━━━━━━━━━━━━━━━━━━━━━━━━━━━━━━━━━━━━━━━━\u001b[0m \u001b[32m10.2/10.2 MB\u001b[0m \u001b[31m275.8 MB/s\u001b[0m eta \u001b[36m0:00:00\u001b[0m \u001b[36m0:00:01\u001b[0m\n",
      "\u001b[?25hDownloading confection-0.1.1-py3-none-any.whl (34 kB)\n",
      "Downloading googleapis_common_protos-1.60.0-py2.py3-none-any.whl (227 kB)\n",
      "\u001b[2K   \u001b[90m━━━━━━━━━━━━━━━━━━━━━━━━━━━━━━━━━━━━━━━\u001b[0m \u001b[32m227.6/227.6 kB\u001b[0m \u001b[31m370.4 MB/s\u001b[0m eta \u001b[36m0:00:00\u001b[0m\n",
      "\u001b[?25hDownloading aliyun_python_sdk_kms-2.16.1-py2.py3-none-any.whl (70 kB)\n",
      "\u001b[2K   \u001b[90m━━━━━━━━━━━━━━━━━━━━━━━━━━━━━━━━━━━━━━━━\u001b[0m \u001b[32m70.8/70.8 kB\u001b[0m \u001b[31m316.1 MB/s\u001b[0m eta \u001b[36m0:00:00\u001b[0m\n",
      "\u001b[?25hBuilding wheels for collected packages: antlr4-python3-runtime, seqeval, gpustat, future, oss2, aliyun-python-sdk-core, crcmod\n",
      "  Building wheel for antlr4-python3-runtime (setup.py) ... \u001b[?25ldone\n",
      "\u001b[?25h  Created wheel for antlr4-python3-runtime: filename=antlr4_python3_runtime-4.9.3-py3-none-any.whl size=144554 sha256=6c318860f8a5f8ee83cd8d8a22cad5c3b4fea67514f66afd3187d340f3e590e2\n",
      "  Stored in directory: /tmp/pip-ephem-wheel-cache-qv7fqnbc/wheels/12/93/dd/1f6a127edc45659556564c5730f6d4e300888f4bca2d4c5a88\n",
      "  Building wheel for seqeval (setup.py) ... \u001b[?25ldone\n",
      "\u001b[?25h  Created wheel for seqeval: filename=seqeval-1.2.2-py3-none-any.whl size=16162 sha256=d13eb0b07a91b5babe435c9925baca3f0bedcf6557296cb30aad81eb40a58801\n",
      "  Stored in directory: /tmp/pip-ephem-wheel-cache-qv7fqnbc/wheels/1a/67/4a/ad4082dd7dfc30f2abfe4d80a2ed5926a506eb8a972b4767fa\n",
      "  Building wheel for gpustat (pyproject.toml) ... \u001b[?25ldone\n",
      "\u001b[?25h  Created wheel for gpustat: filename=gpustat-1.1.1-py3-none-any.whl size=26411 sha256=d8dc1b8de89808226c22fb654926a6a39398a0a4535aec9fdb6142bd4e40e3dc\n",
      "  Stored in directory: /tmp/pip-ephem-wheel-cache-qv7fqnbc/wheels/ec/d7/80/a71ba3540900e1f276bcae685efd8e590c810d2108b95f1e47\n",
      "  Building wheel for future (setup.py) ... \u001b[?25ldone\n",
      "\u001b[?25h  Created wheel for future: filename=future-0.18.3-py3-none-any.whl size=492024 sha256=e86dab12fc9e612b800a1adb93cd237e2f41c9137252642c676de98f98a87717\n",
      "  Stored in directory: /tmp/pip-ephem-wheel-cache-qv7fqnbc/wheels/5e/a9/47/f118e66afd12240e4662752cc22cefae5d97275623aa8ef57d\n",
      "  Building wheel for oss2 (setup.py) ... \u001b[?25ldone\n",
      "\u001b[?25h  Created wheel for oss2: filename=oss2-2.17.0-py3-none-any.whl size=112371 sha256=d9c369c89b58514d6599463ce096f6fd317ae45681b7e3ab0f34e1f0cbb0e2fc\n",
      "  Stored in directory: /tmp/pip-ephem-wheel-cache-qv7fqnbc/wheels/87/04/7b/7e61b8157fdf211c5131375240d0d86ca82e2a88ead9672c88\n",
      "  Building wheel for aliyun-python-sdk-core (setup.py) ... \u001b[?25ldone\n",
      "\u001b[?25h  Created wheel for aliyun-python-sdk-core: filename=aliyun_python_sdk_core-2.13.36-py3-none-any.whl size=533190 sha256=0f767641a29ed4382498278c605b9c5b0a50f0ed16826ee0b6e371d068bacbbd\n",
      "  Stored in directory: /tmp/pip-ephem-wheel-cache-qv7fqnbc/wheels/c0/f4/0e/87c534857132bd3bd2c4465c0b15b4db650cf6c15a876bda34\n",
      "  Building wheel for crcmod (setup.py) ... \u001b[?25ldone\n",
      "\u001b[?25h  Created wheel for crcmod: filename=crcmod-1.7-cp310-cp310-linux_x86_64.whl size=23318 sha256=3cb4ae9cc06ed4599617dd9dab2486f412b621f347a7d5a8ba80711aee2407a8\n",
      "  Stored in directory: /tmp/pip-ephem-wheel-cache-qv7fqnbc/wheels/85/4c/07/72215c529bd59d67e3dac29711d7aba1b692f543c808ba9e86\n",
      "Successfully built antlr4-python3-runtime seqeval gpustat future oss2 aliyun-python-sdk-core crcmod\n",
      "Installing collected packages: tokenizers, text-unidecode, sentencepiece, safetensors, py-spy, opencensus-context, msgpack, distlib, cymem, crcmod, colorful, antlr4-python3-runtime, xxhash, wasabi, virtualenv, typer, toolz, tifffile, tensorboard-data-server, spacy-loggers, spacy-legacy, smart-open, setuptools, requests, regex, PyWavelets, pyrsistent, pydantic, pycryptodome, pyasn1-modules, protobuf, Pillow, ordered-set, omegaconf, oauthlib, nvidia-cuda-nvrtc-cu11, nptyping, murmurhash, multidict, mdurl, markdown, langcodes, jmespath, grpcio, future, frozenlist, fastprogress, catalogue, cachetools, blis, blessed, async-timeout, absl-py, yarl, xgboost, window-ops, tensorboardX, srsly, scikit-learn, responses, requests-oauthlib, pytesseract, preshed, pathy, nvidia-cuda-runtime-cu11, nvidia-cublas-cu11, nltk, model-index, markdown-it-py, lightning-utilities, jsonschema, hyperopt, huggingface-hub, gpustat, googleapis-common-protos, google-auth, fastcore, aiosignal, transformers, seqeval, scikit-image, rich, ray, nvidia-cudnn-cu11, mlforecast, lightgbm, google-auth-oauthlib, google-api-core, gluonts, gdown, fastdownload, confection, catboost, aliyun-python-sdk-core, aiohttp, torch, thinc, tensorboard, statsforecast, opencensus, nlpaug, aliyun-python-sdk-kms, aiohttp-cors, torchvision, torchmetrics, spacy, pytorch-metric-learning, oss2, datasets, autogluon.common, accelerate, timm, pytorch-lightning, openxlab, fastai, evaluate, autogluon.features, autogluon.core, opendatalab, autogluon.tabular, openmim, autogluon.timeseries, autogluon.multimodal, autogluon\n",
      "  Attempting uninstall: setuptools\n",
      "    Found existing installation: setuptools 68.1.2\n",
      "    Uninstalling setuptools-68.1.2:\n",
      "      Successfully uninstalled setuptools-68.1.2\n",
      "  Attempting uninstall: requests\n",
      "    Found existing installation: requests 2.31.0\n",
      "    Uninstalling requests-2.31.0:\n",
      "      Successfully uninstalled requests-2.31.0\n",
      "  Attempting uninstall: pydantic\n",
      "    Found existing installation: pydantic 2.0.3\n",
      "    Uninstalling pydantic-2.0.3:\n",
      "      Successfully uninstalled pydantic-2.0.3\n",
      "  Attempting uninstall: protobuf\n",
      "    Found existing installation: protobuf 4.23.4\n",
      "    Uninstalling protobuf-4.23.4:\n",
      "      Successfully uninstalled protobuf-4.23.4\n",
      "  Attempting uninstall: Pillow\n",
      "    Found existing installation: Pillow 10.0.0\n",
      "    Uninstalling Pillow-10.0.0:\n",
      "      Successfully uninstalled Pillow-10.0.0\n",
      "  Attempting uninstall: jmespath\n",
      "    Found existing installation: jmespath 1.0.1\n",
      "    Uninstalling jmespath-1.0.1:\n",
      "      Successfully uninstalled jmespath-1.0.1\n",
      "  Attempting uninstall: scikit-learn\n",
      "    Found existing installation: scikit-learn 1.3.0\n",
      "    Uninstalling scikit-learn-1.3.0:\n",
      "      Successfully uninstalled scikit-learn-1.3.0\n",
      "  Attempting uninstall: jsonschema\n",
      "    Found existing installation: jsonschema 4.18.4\n",
      "    Uninstalling jsonschema-4.18.4:\n",
      "      Successfully uninstalled jsonschema-4.18.4\n",
      "  Attempting uninstall: torch\n",
      "    Found existing installation: torch 2.0.1\n",
      "    Uninstalling torch-2.0.1:\n",
      "      Successfully uninstalled torch-2.0.1\n",
      "  Attempting uninstall: torchvision\n",
      "    Found existing installation: torchvision 0.15.2\n",
      "    Uninstalling torchvision-0.15.2:\n",
      "      Successfully uninstalled torchvision-0.15.2\n",
      "\u001b[31mERROR: pip's dependency resolver does not currently take into account all the packages that are installed. This behaviour is the source of the following dependency conflicts.\n",
      "triton 2.0.0 requires cmake, which is not installed.\n",
      "triton 2.0.0 requires lit, which is not installed.\u001b[0m\u001b[31m\n",
      "\u001b[0mSuccessfully installed Pillow-9.5.0 PyWavelets-1.4.1 absl-py-1.4.0 accelerate-0.16.0 aiohttp-3.8.5 aiohttp-cors-0.7.0 aiosignal-1.3.1 aliyun-python-sdk-core-2.13.36 aliyun-python-sdk-kms-2.16.1 antlr4-python3-runtime-4.9.3 async-timeout-4.0.3 autogluon-0.8.2 autogluon.common-0.8.2 autogluon.core-0.8.2 autogluon.features-0.8.2 autogluon.multimodal-0.8.2 autogluon.tabular-0.8.2 autogluon.timeseries-0.8.2 blessed-1.20.0 blis-0.7.10 cachetools-5.3.1 catalogue-2.0.9 catboost-1.2.1 colorful-0.5.5 confection-0.1.1 crcmod-1.7 cymem-2.0.7 datasets-2.14.4 distlib-0.3.7 evaluate-0.3.0 fastai-2.7.12 fastcore-1.5.29 fastdownload-0.0.7 fastprogress-1.0.3 frozenlist-1.4.0 future-0.18.3 gdown-4.7.1 gluonts-0.13.4 google-api-core-2.11.1 google-auth-2.22.0 google-auth-oauthlib-1.0.0 googleapis-common-protos-1.60.0 gpustat-1.1.1 grpcio-1.50.0 huggingface-hub-0.16.4 hyperopt-0.2.7 jmespath-0.10.0 jsonschema-4.17.3 langcodes-3.3.0 lightgbm-3.3.5 lightning-utilities-0.9.0 markdown-3.4.4 markdown-it-py-3.0.0 mdurl-0.1.2 mlforecast-0.7.3 model-index-0.1.11 msgpack-1.0.5 multidict-6.0.4 murmurhash-1.0.9 nlpaug-1.1.11 nltk-3.8.1 nptyping-2.4.1 nvidia-cublas-cu11-11.10.3.66 nvidia-cuda-nvrtc-cu11-11.7.99 nvidia-cuda-runtime-cu11-11.7.99 nvidia-cudnn-cu11-8.5.0.96 oauthlib-3.2.2 omegaconf-2.2.3 opencensus-0.11.2 opencensus-context-0.1.3 opendatalab-0.0.10 openmim-0.3.9 openxlab-0.0.22 ordered-set-4.1.0 oss2-2.17.0 pathy-0.10.2 preshed-3.0.8 protobuf-3.20.2 py-spy-0.3.14 pyasn1-modules-0.3.0 pycryptodome-3.18.0 pydantic-1.10.12 pyrsistent-0.19.3 pytesseract-0.3.10 pytorch-lightning-1.9.5 pytorch-metric-learning-1.7.3 ray-2.3.1 regex-2023.8.8 requests-2.28.2 requests-oauthlib-1.3.1 responses-0.18.0 rich-13.4.2 safetensors-0.3.3 scikit-image-0.19.3 scikit-learn-1.2.2 sentencepiece-0.1.99 seqeval-1.2.2 setuptools-60.2.0 smart-open-6.3.0 spacy-3.6.1 spacy-legacy-3.0.12 spacy-loggers-1.0.4 srsly-2.4.7 statsforecast-1.4.0 tensorboard-2.14.0 tensorboard-data-server-0.7.1 tensorboardX-2.6.2.2 text-unidecode-1.3 thinc-8.1.12 tifffile-2023.8.30 timm-0.9.6 tokenizers-0.13.3 toolz-0.12.0 torch-1.13.1 torchmetrics-0.11.4 torchvision-0.14.1 transformers-4.26.1 typer-0.9.0 virtualenv-20.24.4 wasabi-1.1.2 window-ops-0.0.14 xgboost-1.7.6 xxhash-3.3.0 yarl-1.9.2\n"
     ]
    }
   ],
   "source": [
    "!pip install -U pip\n",
    "!pip install -U setuptools wheel\n",
    "!pip install -U \"mxnet<2.0.0\" bokeh==2.0.1\n",
    "!pip install autogluon --no-cache-dir"
   ]
  },
  {
   "cell_type": "code",
   "execution_count": 75,
   "metadata": {
    "tags": []
   },
   "outputs": [],
   "source": [
    "final_training_features = [\"LotArea\", \n",
    " \"BldgType\", \n",
    " \"HouseStyle\", \n",
    " \"OverallQual\",\n",
    " \"OverallCond\",             \n",
    " \"ExterQual\", \n",
    " \"BsmtQual\",\n",
    " \"GrLivArea\", \n",
    " \"KitchenQual\",\n",
    " \"TotRmsAbvGrd\",\n",
    " \"GarageCars\", \n",
    " \"total_bathroom\",\n",
    " \"total_basement_bathroom\",\n",
    " \"Neighborhood_Blmngtn\",  \n",
    " \"Neighborhood_Blueste\",  \n",
    " \"Neighborhood_BrDale\", \n",
    " \"Neighborhood_BrkSide\",  \n",
    " \"Neighborhood_ClearCr\",  \n",
    " \"Neighborhood_CollgCr\",  \n",
    " \"Neighborhood_Crawfor\",  \n",
    " \"Neighborhood_Edwards\",  \n",
    " \"Neighborhood_Gilbert\",  \n",
    " \"Neighborhood_IDOTRR\", \n",
    " \"Neighborhood_MeadowV\",  \n",
    " \"Neighborhood_Mitchel\",  \n",
    " \"Neighborhood_NAmes\", \n",
    " \"Neighborhood_NPkVill\",  \n",
    " \"Neighborhood_NWAmes\", \n",
    " \"Neighborhood_NoRidge\",  \n",
    " \"Neighborhood_NridgHt\",  \n",
    " \"Neighborhood_OldTown\",  \n",
    " \"Neighborhood_SWISU\", \n",
    " \"Neighborhood_Sawyer\", \n",
    " \"Neighborhood_SawyerW\",  \n",
    " \"Neighborhood_Somerst\",  \n",
    " \"Neighborhood_StoneBr\",  \n",
    " \"Neighborhood_Timber\", \n",
    " \"Neighborhood_Veenker\",\n",
    " \"SalePrice\"]"
   ]
  },
  {
   "cell_type": "code",
   "execution_count": 76,
   "metadata": {
    "tags": []
   },
   "outputs": [],
   "source": [
    "import autogluon.core as ag\n",
    "import pandas as pd\n",
    "from autogluon.tabular import TabularPredictor"
   ]
  },
  {
   "cell_type": "markdown",
   "metadata": {},
   "source": [
    "### Model 0 (default configuration)"
   ]
  },
  {
   "cell_type": "markdown",
   "metadata": {},
   "source": [
    "First Try: Saved in AutogluonModels/ag-20230829_202115/"
   ]
  },
  {
   "cell_type": "code",
   "execution_count": 66,
   "metadata": {
    "collapsed": false,
    "jupyter": {
     "outputs_hidden": false
    },
    "tags": []
   },
   "outputs": [
    {
     "name": "stderr",
     "output_type": "stream",
     "text": [
      "No path specified. Models will be saved in: \"AutogluonModels/ag-20230829_214806/\"\n",
      "Presets specified: ['best_quality']\n",
      "Stack configuration (auto_stack=True): num_stack_levels=1, num_bag_folds=8, num_bag_sets=20\n",
      "Beginning AutoGluon training ... Time limit = 600s\n",
      "AutoGluon will save models to \"AutogluonModels/ag-20230829_214806/\"\n",
      "AutoGluon Version:  0.8.2\n",
      "Python Version:     3.10.12\n",
      "Operating System:   Linux\n",
      "Platform Machine:   x86_64\n",
      "Platform Version:   #1 SMP Tue Jun 27 21:48:55 UTC 2023\n",
      "Disk Space Avail:   0.51 GB / 5.13 GB (9.9%)\n",
      "\tWARNING: Available disk space is low and there is a risk that AutoGluon will run out of disk during fit, causing an exception. \n",
      "\tWe recommend a minimum available disk space of 10 GB, and large datasets may require more.\n",
      "Train Data Rows:    1460\n",
      "Train Data Columns: 74\n",
      "Label Column: SalePrice\n",
      "Preprocessing data ...\n",
      "AutoGluon infers your prediction problem is: 'regression' (because dtype of label-column == int and many unique label-values observed).\n",
      "\tLabel info (max, min, mean, stddev): (755000, 34900, 180921.19589, 79442.50288)\n",
      "\tIf 'regression' is not the correct problem_type, please manually specify the problem_type parameter during predictor init (You may specify problem_type as one of: ['binary', 'multiclass', 'regression'])\n",
      "Using Feature Generators to preprocess the data ...\n",
      "Fitting AutoMLPipelineFeatureGenerator...\n",
      "\tAvailable Memory:                    6445.11 MB\n",
      "\tTrain Data (Original)  Memory Usage: 1.34 MB (0.0% of available memory)\n",
      "\tInferring data type of each feature based on column values. Set feature_metadata_in to manually specify special dtypes of the features.\n",
      "\tStage 1 Generators:\n",
      "\t\tFitting AsTypeFeatureGenerator...\n",
      "\t\t\tNote: Converting 26 features to boolean dtype as they only contain 2 unique values.\n",
      "\tStage 2 Generators:\n",
      "\t\tFitting FillNaFeatureGenerator...\n",
      "\tStage 3 Generators:\n",
      "\t\tFitting IdentityFeatureGenerator...\n",
      "\t\tFitting CategoryFeatureGenerator...\n",
      "\t\t\tFitting CategoryMemoryMinimizeFeatureGenerator...\n",
      "\tStage 4 Generators:\n",
      "\t\tFitting DropUniqueFeatureGenerator...\n",
      "\tStage 5 Generators:\n",
      "\t\tFitting DropDuplicatesFeatureGenerator...\n",
      "\tTypes of features in original data (raw dtype, special dtypes):\n",
      "\t\t('float', [])  : 10 | ['LotFrontage', 'BsmtQual', 'BsmtExposure', 'BsmtFinType1', 'FireplaceQu', ...]\n",
      "\t\t('int', [])    : 53 | ['LotArea', 'LotShape', 'LandContour', 'LotConfig', 'LandSlope', ...]\n",
      "\t\t('object', []) : 11 | ['Street', 'Alley', 'RoofStyle', 'MasVnrType', 'Functional', ...]\n",
      "\tTypes of features in processed data (raw dtype, special dtypes):\n",
      "\t\t('category', [])  : 10 | ['Alley', 'RoofStyle', 'MasVnrType', 'Functional', 'GarageType', ...]\n",
      "\t\t('float', [])     : 10 | ['LotFrontage', 'BsmtQual', 'BsmtExposure', 'BsmtFinType1', 'FireplaceQu', ...]\n",
      "\t\t('int', [])       : 28 | ['LotArea', 'LotShape', 'LandContour', 'LotConfig', 'LandSlope', ...]\n",
      "\t\t('int', ['bool']) : 26 | ['Street', 'Neighborhood_Blmngtn', 'Neighborhood_Blueste', 'Neighborhood_BrDale', 'Neighborhood_BrkSide', ...]\n",
      "\t0.4s = Fit runtime\n",
      "\t74 features in original data used to generate 74 features in processed data.\n",
      "\tTrain Data (Processed) Memory Usage: 0.5 MB (0.0% of available memory)\n",
      "Data preprocessing and feature engineering runtime = 0.44s ...\n",
      "AutoGluon will gauge predictive performance using evaluation metric: 'root_mean_squared_error'\n",
      "\tThis metric's sign has been flipped to adhere to being higher_is_better. The metric score can be multiplied by -1 to get the metric value.\n",
      "\tTo change this, specify the eval_metric parameter of Predictor()\n",
      "User-specified model hyperparameters to be fit:\n",
      "{\n",
      "\t'NN_TORCH': {},\n",
      "\t'GBM': [{'extra_trees': True, 'ag_args': {'name_suffix': 'XT'}}, {}, 'GBMLarge'],\n",
      "\t'CAT': {},\n",
      "\t'XGB': {},\n",
      "\t'FASTAI': {},\n",
      "\t'RF': [{'criterion': 'gini', 'ag_args': {'name_suffix': 'Gini', 'problem_types': ['binary', 'multiclass']}}, {'criterion': 'entropy', 'ag_args': {'name_suffix': 'Entr', 'problem_types': ['binary', 'multiclass']}}, {'criterion': 'squared_error', 'ag_args': {'name_suffix': 'MSE', 'problem_types': ['regression', 'quantile']}}],\n",
      "\t'XT': [{'criterion': 'gini', 'ag_args': {'name_suffix': 'Gini', 'problem_types': ['binary', 'multiclass']}}, {'criterion': 'entropy', 'ag_args': {'name_suffix': 'Entr', 'problem_types': ['binary', 'multiclass']}}, {'criterion': 'squared_error', 'ag_args': {'name_suffix': 'MSE', 'problem_types': ['regression', 'quantile']}}],\n",
      "\t'KNN': [{'weights': 'uniform', 'ag_args': {'name_suffix': 'Unif'}}, {'weights': 'distance', 'ag_args': {'name_suffix': 'Dist'}}],\n",
      "}\n",
      "AutoGluon will fit 2 stack levels (L1 to L2) ...\n",
      "Fitting 11 L1 models ...\n",
      "Fitting model: KNeighborsUnif_BAG_L1 ... Training model for up to 399.61s of the 599.55s of remaining time.\n",
      "/home/ec2-user/anaconda3/envs/pytorch_p310/lib/python3.10/site-packages/torch/cuda/__init__.py:497: UserWarning: Can't initialize NVML\n",
      "  warnings.warn(\"Can't initialize NVML\")\n",
      "\t-47507.2046\t = Validation score   (-root_mean_squared_error)\n",
      "\t0.01s\t = Training   runtime\n",
      "\t0.05s\t = Validation runtime\n",
      "Fitting model: KNeighborsDist_BAG_L1 ... Training model for up to 398.26s of the 598.21s of remaining time.\n",
      "\t-47180.7622\t = Validation score   (-root_mean_squared_error)\n",
      "\t0.01s\t = Training   runtime\n",
      "\t0.02s\t = Validation runtime\n",
      "Fitting model: LightGBMXT_BAG_L1 ... Training model for up to 398.16s of the 598.11s of remaining time.\n",
      "\tFitting 8 child models (S1F1 - S1F8) | Fitting with ParallelLocalFoldFittingStrategy\n",
      "\n",
      "KeyboardInterrupt\n",
      "\n"
     ]
    }
   ],
   "source": [
    "\n",
    "\n",
    "predictor = TabularPredictor(\n",
    "    label=\"SalePrice\",\n",
    "    eval_metric=\"root_mean_squared_error\"). \\\n",
    "    fit(\n",
    "    train_data=train_df,\n",
    "    time_limit=600,\n",
    "    presets=\"best_quality\"\n",
    ")"
   ]
  },
  {
   "cell_type": "code",
   "execution_count": 67,
   "metadata": {
    "tags": []
   },
   "outputs": [],
   "source": [
    "predictor = TabularPredictor.load(\"./AutogluonModels/ag-20230829_202115/\")"
   ]
  },
  {
   "cell_type": "code",
   "execution_count": null,
   "metadata": {},
   "outputs": [
    {
     "name": "stderr",
     "output_type": "stream",
     "text": [
      "These features in provided data are not utilized by the predictor and will be ignored: ['SalePrice_log']\n",
      "Computing feature importance via permutation shuffling for 73 features using 1460 rows with 5 shuffle sets...\n",
      "\t4882.25s\t= Expected runtime (976.45s per shuffle set)\n"
     ]
    }
   ],
   "source": [
    "feature_importance_default = predictor.feature_importance(train_df).to_csv(\"features_importance_default.csv\")\n"
   ]
  },
  {
   "cell_type": "code",
   "execution_count": 140,
   "metadata": {
    "tags": []
   },
   "outputs": [
    {
     "data": {
      "text/plain": [
       "0    209820.843750\n",
       "1    186298.218750\n",
       "2    218982.015625\n",
       "3    156164.656250\n",
       "4    278253.281250\n",
       "Name: SalePrice, dtype: float32"
      ]
     },
     "execution_count": 140,
     "metadata": {},
     "output_type": "execute_result"
    }
   ],
   "source": [
    "predictions_default = predictor.predict(test_df)\n",
    "predictions_default.head()"
   ]
  },
  {
   "cell_type": "code",
   "execution_count": 143,
   "metadata": {
    "tags": []
   },
   "outputs": [
    {
     "name": "stdout",
     "output_type": "stream",
     "text": [
      "<class 'pandas.core.frame.DataFrame'>\n",
      "RangeIndex: 1459 entries, 0 to 1458\n",
      "Data columns (total 2 columns):\n",
      " #   Column     Non-Null Count  Dtype  \n",
      "---  ------     --------------  -----  \n",
      " 0   Id         1459 non-null   int64  \n",
      " 1   SalePrice  1459 non-null   float64\n",
      "dtypes: float64(1), int64(1)\n",
      "memory usage: 22.9 KB\n"
     ]
    }
   ],
   "source": [
    "submission = pd.read_csv(\"./data/sample_submission.csv\")\n",
    "submission.info()"
   ]
  },
  {
   "cell_type": "code",
   "execution_count": 144,
   "metadata": {
    "tags": []
   },
   "outputs": [],
   "source": [
    "submission[\"SalePrice\"] = predictions_default\n",
    "submission.to_csv(\"submission_default.csv\", index=False)"
   ]
  },
  {
   "cell_type": "code",
   "execution_count": 145,
   "metadata": {
    "tags": []
   },
   "outputs": [
    {
     "name": "stdout",
     "output_type": "stream",
     "text": [
      "/bin/sh: kaggle: command not found\n"
     ]
    }
   ],
   "source": [
    "!kaggle competitions submit -c house-prices-advanced-regression-techniques -f submission_default.csv -m \"House Prediction result first trial\""
   ]
  },
  {
   "cell_type": "markdown",
   "metadata": {
    "tags": []
   },
   "source": [
    "### Model 1 (default configuration with less non important features)"
   ]
  },
  {
   "cell_type": "code",
   "execution_count": 85,
   "metadata": {
    "tags": []
   },
   "outputs": [],
   "source": [
    "important_features = [\n",
    "    \"GrLivArea\", \n",
    "    \"OverallQual\", \n",
    "    \"TotalBsmtSF\",\n",
    "    \"GarageCars\",\n",
    "    \"LotArea\",\n",
    "    \"total_bathroom\",\n",
    "    \"OverallCond\",\n",
    "    \"BsmtExposure\",\n",
    "    \"BsmtQual\",\n",
    "    \"KitchenQual\",\n",
    "    \"YearBuilt\",\n",
    "    \"OpenPorchSF\",\n",
    "    \"LotFrontage\",\n",
    "    \"TotRmsAbvGrd\",\n",
    "    \"YearRemodAdd\",\n",
    "    \"BsmtUnfSF\",\n",
    "    \"ExterQual\",\n",
    "    \"BsmtFinType1\",\n",
    "    \"Fireplaces\",\n",
    "    \"total_basement_bathroom\",\n",
    "    \"Neighborhood_Blmngtn\",  \n",
    "     \"Neighborhood_Blueste\",  \n",
    "     \"Neighborhood_BrDale\", \n",
    "     \"Neighborhood_BrkSide\",  \n",
    "     \"Neighborhood_ClearCr\",  \n",
    "     \"Neighborhood_CollgCr\",  \n",
    "     \"Neighborhood_Crawfor\",  \n",
    "     \"Neighborhood_Edwards\",  \n",
    "     \"Neighborhood_Gilbert\",  \n",
    "     \"Neighborhood_IDOTRR\", \n",
    "     \"Neighborhood_MeadowV\",  \n",
    "     \"Neighborhood_Mitchel\",  \n",
    "     \"Neighborhood_NAmes\", \n",
    "     \"Neighborhood_NPkVill\",  \n",
    "     \"Neighborhood_NWAmes\", \n",
    "     \"Neighborhood_NoRidge\",  \n",
    "     \"Neighborhood_NridgHt\",  \n",
    "     \"Neighborhood_OldTown\",  \n",
    "     \"Neighborhood_SWISU\", \n",
    "     \"Neighborhood_Sawyer\", \n",
    "     \"Neighborhood_SawyerW\",  \n",
    "     \"Neighborhood_Somerst\",  \n",
    "     \"Neighborhood_StoneBr\",  \n",
    "     \"Neighborhood_Timber\", \n",
    "     \"Neighborhood_Veenker\"\n",
    "]                      \n",
    " "
   ]
  },
  {
   "cell_type": "code",
   "execution_count": 78,
   "metadata": {
    "tags": []
   },
   "outputs": [],
   "source": [
    "import autogluon\n",
    "import autogluon.core as ag\n",
    "import autogluon.core as ag\n",
    "import pandas as pd\n",
    "from autogluon.tabular import TabularPredictor"
   ]
  },
  {
   "cell_type": "markdown",
   "metadata": {},
   "source": [
    "Model 1 is saved to AutogluonModels/ag-20230831_212939/"
   ]
  },
  {
   "cell_type": "code",
   "execution_count": 79,
   "metadata": {
    "tags": []
   },
   "outputs": [
    {
     "name": "stderr",
     "output_type": "stream",
     "text": [
      "No path specified. Models will be saved in: \"AutogluonModels/ag-20230831_212939/\"\n",
      "Presets specified: ['best_quality']\n",
      "Stack configuration (auto_stack=True): num_stack_levels=1, num_bag_folds=8, num_bag_sets=20\n",
      "Beginning AutoGluon training ... Time limit = 600s\n",
      "AutoGluon will save models to \"AutogluonModels/ag-20230831_212939/\"\n",
      "AutoGluon Version:  0.8.2\n",
      "Python Version:     3.10.12\n",
      "Operating System:   Linux\n",
      "Platform Machine:   x86_64\n",
      "Platform Version:   #1 SMP Tue Jun 27 21:48:55 UTC 2023\n",
      "Disk Space Avail:   3.67 GB / 5.13 GB (71.5%)\n",
      "\tWARNING: Available disk space is low and there is a risk that AutoGluon will run out of disk during fit, causing an exception. \n",
      "\tWe recommend a minimum available disk space of 10 GB, and large datasets may require more.\n",
      "Train Data Rows:    1460\n",
      "Train Data Columns: 45\n",
      "Label Column: SalePrice\n",
      "Preprocessing data ...\n",
      "AutoGluon infers your prediction problem is: 'regression' (because dtype of label-column == int and many unique label-values observed).\n",
      "\tLabel info (max, min, mean, stddev): (755000, 34900, 180921.19589, 79442.50288)\n",
      "\tIf 'regression' is not the correct problem_type, please manually specify the problem_type parameter during predictor init (You may specify problem_type as one of: ['binary', 'multiclass', 'regression'])\n",
      "Using Feature Generators to preprocess the data ...\n",
      "Fitting AutoMLPipelineFeatureGenerator...\n",
      "\tAvailable Memory:                    6117.11 MB\n",
      "\tTrain Data (Original)  Memory Usage: 0.27 MB (0.0% of available memory)\n",
      "\tInferring data type of each feature based on column values. Set feature_metadata_in to manually specify special dtypes of the features.\n",
      "\tStage 1 Generators:\n",
      "\t\tFitting AsTypeFeatureGenerator...\n",
      "\t\t\tNote: Converting 25 features to boolean dtype as they only contain 2 unique values.\n",
      "\tStage 2 Generators:\n",
      "\t\tFitting FillNaFeatureGenerator...\n",
      "\tStage 3 Generators:\n",
      "\t\tFitting IdentityFeatureGenerator...\n",
      "\tStage 4 Generators:\n",
      "\t\tFitting DropUniqueFeatureGenerator...\n",
      "\tStage 5 Generators:\n",
      "\t\tFitting DropDuplicatesFeatureGenerator...\n",
      "\tTypes of features in original data (raw dtype, special dtypes):\n",
      "\t\t('float', []) :  4 | ['BsmtExposure', 'BsmtQual', 'LotFrontage', 'BsmtFinType1']\n",
      "\t\t('int', [])   : 41 | ['GrLivArea', 'OverallQual', 'TotalBsmtSF', 'GarageCars', 'LotArea', ...]\n",
      "\tTypes of features in processed data (raw dtype, special dtypes):\n",
      "\t\t('float', [])     :  4 | ['BsmtExposure', 'BsmtQual', 'LotFrontage', 'BsmtFinType1']\n",
      "\t\t('int', [])       : 16 | ['GrLivArea', 'OverallQual', 'TotalBsmtSF', 'GarageCars', 'LotArea', ...]\n",
      "\t\t('int', ['bool']) : 25 | ['Neighborhood_Blmngtn', 'Neighborhood_Blueste', 'Neighborhood_BrDale', 'Neighborhood_BrkSide', 'Neighborhood_ClearCr', ...]\n",
      "\t0.2s = Fit runtime\n",
      "\t45 features in original data used to generate 45 features in processed data.\n",
      "\tTrain Data (Processed) Memory Usage: 0.27 MB (0.0% of available memory)\n",
      "Data preprocessing and feature engineering runtime = 0.25s ...\n",
      "AutoGluon will gauge predictive performance using evaluation metric: 'root_mean_squared_error'\n",
      "\tThis metric's sign has been flipped to adhere to being higher_is_better. The metric score can be multiplied by -1 to get the metric value.\n",
      "\tTo change this, specify the eval_metric parameter of Predictor()\n",
      "User-specified model hyperparameters to be fit:\n",
      "{\n",
      "\t'NN_TORCH': {},\n",
      "\t'GBM': [{'extra_trees': True, 'ag_args': {'name_suffix': 'XT'}}, {}, 'GBMLarge'],\n",
      "\t'CAT': {},\n",
      "\t'XGB': {},\n",
      "\t'FASTAI': {},\n",
      "\t'RF': [{'criterion': 'gini', 'ag_args': {'name_suffix': 'Gini', 'problem_types': ['binary', 'multiclass']}}, {'criterion': 'entropy', 'ag_args': {'name_suffix': 'Entr', 'problem_types': ['binary', 'multiclass']}}, {'criterion': 'squared_error', 'ag_args': {'name_suffix': 'MSE', 'problem_types': ['regression', 'quantile']}}],\n",
      "\t'XT': [{'criterion': 'gini', 'ag_args': {'name_suffix': 'Gini', 'problem_types': ['binary', 'multiclass']}}, {'criterion': 'entropy', 'ag_args': {'name_suffix': 'Entr', 'problem_types': ['binary', 'multiclass']}}, {'criterion': 'squared_error', 'ag_args': {'name_suffix': 'MSE', 'problem_types': ['regression', 'quantile']}}],\n",
      "\t'KNN': [{'weights': 'uniform', 'ag_args': {'name_suffix': 'Unif'}}, {'weights': 'distance', 'ag_args': {'name_suffix': 'Dist'}}],\n",
      "}\n",
      "AutoGluon will fit 2 stack levels (L1 to L2) ...\n",
      "Fitting 11 L1 models ...\n",
      "Fitting model: KNeighborsUnif_BAG_L1 ... Training model for up to 399.74s of the 599.75s of remaining time.\n",
      "/home/ec2-user/anaconda3/envs/pytorch_p310/lib/python3.10/site-packages/torch/cuda/__init__.py:497: UserWarning: Can't initialize NVML\n",
      "  warnings.warn(\"Can't initialize NVML\")\n",
      "\t-47807.0387\t = Validation score   (-root_mean_squared_error)\n",
      "\t0.01s\t = Training   runtime\n",
      "\t2.6s\t = Validation runtime\n",
      "Fitting model: KNeighborsDist_BAG_L1 ... Training model for up to 389.42s of the 589.44s of remaining time.\n",
      "\t-47578.5581\t = Validation score   (-root_mean_squared_error)\n",
      "\t0.01s\t = Training   runtime\n",
      "\t0.16s\t = Validation runtime\n",
      "Fitting model: LightGBMXT_BAG_L1 ... Training model for up to 389.2s of the 589.21s of remaining time.\n",
      "\tFitting 8 child models (S1F1 - S1F8) | Fitting with ParallelLocalFoldFittingStrategy\n",
      "\t-24406.0696\t = Validation score   (-root_mean_squared_error)\n",
      "\t28.06s\t = Training   runtime\n",
      "\t0.58s\t = Validation runtime\n",
      "Fitting model: LightGBM_BAG_L1 ... Training model for up to 353.06s of the 553.07s of remaining time.\n",
      "\tFitting 8 child models (S1F1 - S1F8) | Fitting with ParallelLocalFoldFittingStrategy\n",
      "\t-26093.7158\t = Validation score   (-root_mean_squared_error)\n",
      "\t27.55s\t = Training   runtime\n",
      "\t0.46s\t = Validation runtime\n",
      "Fitting model: RandomForestMSE_BAG_L1 ... Training model for up to 320.71s of the 520.72s of remaining time.\n",
      "\t-29428.4897\t = Validation score   (-root_mean_squared_error)\n",
      "\t3.59s\t = Training   runtime\n",
      "\t0.16s\t = Validation runtime\n",
      "Fitting model: CatBoost_BAG_L1 ... Training model for up to 316.84s of the 516.86s of remaining time.\n",
      "\tFitting 8 child models (S1F1 - S1F8) | Fitting with ParallelLocalFoldFittingStrategy\n",
      "\t-25078.0001\t = Validation score   (-root_mean_squared_error)\n",
      "\t74.02s\t = Training   runtime\n",
      "\t0.02s\t = Validation runtime\n",
      "Fitting model: ExtraTreesMSE_BAG_L1 ... Training model for up to 240.28s of the 440.29s of remaining time.\n",
      "\t-28319.3051\t = Validation score   (-root_mean_squared_error)\n",
      "\t1.96s\t = Training   runtime\n",
      "\t0.17s\t = Validation runtime\n",
      "Fitting model: NeuralNetFastAI_BAG_L1 ... Training model for up to 238.05s of the 438.07s of remaining time.\n",
      "\tFitting 8 child models (S1F1 - S1F8) | Fitting with ParallelLocalFoldFittingStrategy\n",
      "\t-25586.2883\t = Validation score   (-root_mean_squared_error)\n",
      "\t34.45s\t = Training   runtime\n",
      "\t0.18s\t = Validation runtime\n",
      "Fitting model: XGBoost_BAG_L1 ... Training model for up to 201.03s of the 401.04s of remaining time.\n",
      "\tFitting 8 child models (S1F1 - S1F8) | Fitting with ParallelLocalFoldFittingStrategy\n",
      "\t-27240.4798\t = Validation score   (-root_mean_squared_error)\n",
      "\t19.48s\t = Training   runtime\n",
      "\t0.1s\t = Validation runtime\n",
      "Fitting model: NeuralNetTorch_BAG_L1 ... Training model for up to 178.15s of the 378.16s of remaining time.\n",
      "\tFitting 8 child models (S1F1 - S1F8) | Fitting with ParallelLocalFoldFittingStrategy\n",
      "\t-27532.376\t = Validation score   (-root_mean_squared_error)\n",
      "\t52.23s\t = Training   runtime\n",
      "\t0.18s\t = Validation runtime\n",
      "Fitting model: LightGBMLarge_BAG_L1 ... Training model for up to 122.18s of the 322.19s of remaining time.\n",
      "\tFitting 8 child models (S1F1 - S1F8) | Fitting with ParallelLocalFoldFittingStrategy\n",
      "\t-28148.4041\t = Validation score   (-root_mean_squared_error)\n",
      "\t65.47s\t = Training   runtime\n",
      "\t1.06s\t = Validation runtime\n",
      "Completed 1/20 k-fold bagging repeats ...\n",
      "Fitting model: WeightedEnsemble_L2 ... Training model for up to 360.0s of the 248.82s of remaining time.\n",
      "\t-23325.7743\t = Validation score   (-root_mean_squared_error)\n",
      "\t0.47s\t = Training   runtime\n",
      "\t0.0s\t = Validation runtime\n",
      "Fitting 9 L2 models ...\n",
      "Fitting model: LightGBMXT_BAG_L2 ... Training model for up to 248.29s of the 248.28s of remaining time.\n",
      "\tFitting 8 child models (S1F1 - S1F8) | Fitting with ParallelLocalFoldFittingStrategy\n",
      "\t-25805.3822\t = Validation score   (-root_mean_squared_error)\n",
      "\t25.18s\t = Training   runtime\n",
      "\t0.48s\t = Validation runtime\n",
      "Fitting model: LightGBM_BAG_L2 ... Training model for up to 217.31s of the 217.3s of remaining time.\n",
      "\tFitting 8 child models (S1F1 - S1F8) | Fitting with ParallelLocalFoldFittingStrategy\n",
      "\t-26333.7197\t = Validation score   (-root_mean_squared_error)\n",
      "\t15.22s\t = Training   runtime\n",
      "\t0.05s\t = Validation runtime\n",
      "Fitting model: RandomForestMSE_BAG_L2 ... Training model for up to 198.74s of the 198.72s of remaining time.\n",
      "\t-23936.1184\t = Validation score   (-root_mean_squared_error)\n",
      "\t5.89s\t = Training   runtime\n",
      "\t0.18s\t = Validation runtime\n",
      "Fitting model: CatBoost_BAG_L2 ... Training model for up to 192.54s of the 192.53s of remaining time.\n",
      "\tFitting 8 child models (S1F1 - S1F8) | Fitting with ParallelLocalFoldFittingStrategy\n",
      "\t-24507.4315\t = Validation score   (-root_mean_squared_error)\n",
      "\t32.49s\t = Training   runtime\n",
      "\t0.05s\t = Validation runtime\n",
      "Fitting model: ExtraTreesMSE_BAG_L2 ... Training model for up to 157.15s of the 157.13s of remaining time.\n",
      "\t-24296.6234\t = Validation score   (-root_mean_squared_error)\n",
      "\t2.42s\t = Training   runtime\n",
      "\t0.22s\t = Validation runtime\n",
      "Fitting model: NeuralNetFastAI_BAG_L2 ... Training model for up to 154.39s of the 154.38s of remaining time.\n",
      "\tFitting 8 child models (S1F1 - S1F8) | Fitting with ParallelLocalFoldFittingStrategy\n",
      "\t-27471.798\t = Validation score   (-root_mean_squared_error)\n",
      "\t34.33s\t = Training   runtime\n",
      "\t0.25s\t = Validation runtime\n",
      "Fitting model: XGBoost_BAG_L2 ... Training model for up to 117.26s of the 117.25s of remaining time.\n",
      "\tFitting 8 child models (S1F1 - S1F8) | Fitting with ParallelLocalFoldFittingStrategy\n",
      "\t-26600.603\t = Validation score   (-root_mean_squared_error)\n",
      "\t27.5s\t = Training   runtime\n",
      "\t0.08s\t = Validation runtime\n",
      "Fitting model: NeuralNetTorch_BAG_L2 ... Training model for up to 86.28s of the 86.26s of remaining time.\n",
      "\tFitting 8 child models (S1F1 - S1F8) | Fitting with ParallelLocalFoldFittingStrategy\n",
      "\t-26829.2035\t = Validation score   (-root_mean_squared_error)\n",
      "\t46.02s\t = Training   runtime\n",
      "\t0.31s\t = Validation runtime\n",
      "Fitting model: LightGBMLarge_BAG_L2 ... Training model for up to 37.21s of the 37.19s of remaining time.\n",
      "\tFitting 8 child models (S1F1 - S1F8) | Fitting with ParallelLocalFoldFittingStrategy\n",
      "\t-25405.4604\t = Validation score   (-root_mean_squared_error)\n",
      "\t33.25s\t = Training   runtime\n",
      "\t0.13s\t = Validation runtime\n",
      "Completed 1/20 k-fold bagging repeats ...\n",
      "Fitting model: WeightedEnsemble_L3 ... Training model for up to 360.0s of the 0.45s of remaining time.\n",
      "\t-23767.4623\t = Validation score   (-root_mean_squared_error)\n",
      "\t0.39s\t = Training   runtime\n",
      "\t0.0s\t = Validation runtime\n",
      "AutoGluon training complete, total runtime = 600.0s ... Best model: \"WeightedEnsemble_L2\"\n",
      "TabularPredictor saved. To load, use: predictor = TabularPredictor.load(\"AutogluonModels/ag-20230831_212939/\")\n"
     ]
    }
   ],
   "source": [
    "\n",
    "\n",
    "predictor_important_features = TabularPredictor(\n",
    "    label=\"SalePrice\",\n",
    "    eval_metric=\"root_mean_squared_error\"). \\\n",
    "    fit(\n",
    "    train_data=train_df[important_features],\n",
    "    time_limit=600,\n",
    "    presets=\"best_quality\"\n",
    ")"
   ]
  },
  {
   "cell_type": "code",
   "execution_count": 80,
   "metadata": {
    "tags": []
   },
   "outputs": [],
   "source": [
    "predictor_with_important_features = TabularPredictor.load(\"./AutogluonModels/ag-20230831_212939/\")"
   ]
  },
  {
   "cell_type": "code",
   "execution_count": 81,
   "metadata": {
    "tags": []
   },
   "outputs": [
    {
     "name": "stdout",
     "output_type": "stream",
     "text": [
      "*** Summary of fit() ***\n",
      "Estimated performance of each model:\n",
      "                     model     score_val  pred_time_val    fit_time  pred_time_val_marginal  fit_time_marginal  stack_level  can_infer  fit_order\n",
      "0      WeightedEnsemble_L2 -23325.774311       2.562989  227.715983                0.000610           0.471590            2       True         12\n",
      "1      WeightedEnsemble_L3 -23767.462317       6.820788  450.060084                0.000605           0.388907            3       True         22\n",
      "2   RandomForestMSE_BAG_L2 -23936.118436       5.857255  312.731028                0.179212           5.893635            2       True         15\n",
      "3     ExtraTreesMSE_BAG_L2 -24296.623377       5.899076  309.259672                0.221034           2.422279            2       True         17\n",
      "4        LightGBMXT_BAG_L1 -24406.069575       0.581111   28.057699                0.581111          28.057699            1       True          3\n",
      "5          CatBoost_BAG_L2 -24507.431475       5.723595  339.329502                0.045552          32.492110            2       True         16\n",
      "6          CatBoost_BAG_L1 -25078.000124       0.022290   74.023185                0.022290          74.023185            1       True          6\n",
      "7     LightGBMLarge_BAG_L2 -25405.460376       5.811265  340.087914                0.133222          33.250521            2       True         21\n",
      "8   NeuralNetFastAI_BAG_L1 -25586.288254       0.176753   34.450371                0.176753          34.450371            1       True          8\n",
      "9        LightGBMXT_BAG_L2 -25805.382227       6.153311  332.017500                0.475268          25.180107            2       True         13\n",
      "10         LightGBM_BAG_L1 -26093.715786       0.460530   27.551721                0.460530          27.551721            1       True          4\n",
      "11         LightGBM_BAG_L2 -26333.719673       5.723089  322.058401                0.045046          15.221008            2       True         14\n",
      "12          XGBoost_BAG_L2 -26600.602967       5.762862  334.338512                0.084819          27.501120            2       True         19\n",
      "13   NeuralNetTorch_BAG_L2 -26829.203471       5.986928  352.854805                0.308886          46.017412            2       True         20\n",
      "14          XGBoost_BAG_L1 -27240.479843       0.098397   19.482004                0.098397          19.482004            1       True          9\n",
      "15  NeuralNetFastAI_BAG_L2 -27471.797984       5.930218  341.165281                0.252175          34.327888            2       True         18\n",
      "16   NeuralNetTorch_BAG_L1 -27532.376007       0.183043   52.230775                0.183043          52.230775            1       True         10\n",
      "17    LightGBMLarge_BAG_L1 -28148.404076       1.062546   65.471822                1.062546          65.471822            1       True         11\n",
      "18    ExtraTreesMSE_BAG_L1 -28319.305120       0.170540    1.960625                0.170540           1.960625            1       True          7\n",
      "19  RandomForestMSE_BAG_L1 -29428.489734       0.163785    3.590396                0.163785           3.590396            1       True          5\n",
      "20   KNeighborsDist_BAG_L1 -47578.558134       0.157809    0.010537                0.157809           0.010537            1       True          2\n",
      "21   KNeighborsUnif_BAG_L1 -47807.038694       2.601241    0.008257                2.601241           0.008257            1       True          1\n",
      "Number of models trained: 22\n",
      "Types of models trained:\n",
      "{'StackerEnsembleModel_CatBoost', 'StackerEnsembleModel_LGB', 'StackerEnsembleModel_KNN', 'StackerEnsembleModel_RF', 'StackerEnsembleModel_XGBoost', 'StackerEnsembleModel_TabularNeuralNetTorch', 'StackerEnsembleModel_NNFastAiTabular', 'WeightedEnsembleModel', 'StackerEnsembleModel_XT'}\n",
      "Bagging used: True  (with 8 folds)\n",
      "Multi-layer stack-ensembling used: True  (with 3 levels)\n",
      "Feature Metadata (Processed):\n",
      "(raw dtype, special dtypes):\n",
      "('float', [])     :  4 | ['BsmtExposure', 'BsmtQual', 'LotFrontage', 'BsmtFinType1']\n",
      "('int', [])       : 16 | ['GrLivArea', 'OverallQual', 'TotalBsmtSF', 'GarageCars', 'LotArea', ...]\n",
      "('int', ['bool']) : 25 | ['Neighborhood_Blmngtn', 'Neighborhood_Blueste', 'Neighborhood_BrDale', 'Neighborhood_BrkSide', 'Neighborhood_ClearCr', ...]\n",
      "*** End of fit() summary ***\n"
     ]
    },
    {
     "name": "stderr",
     "output_type": "stream",
     "text": [
      "/home/ec2-user/anaconda3/envs/pytorch_p310/lib/python3.10/site-packages/autogluon/core/utils/plots.py:169: UserWarning: AutoGluon summary plots cannot be created because bokeh is not installed. To see plots, please do: \"pip install bokeh==2.0.1\"\n",
      "  warnings.warn('AutoGluon summary plots cannot be created because bokeh is not installed. To see plots, please do: \"pip install bokeh==2.0.1\"')\n"
     ]
    },
    {
     "data": {
      "text/plain": [
       "{'model_types': {'KNeighborsUnif_BAG_L1': 'StackerEnsembleModel_KNN',\n",
       "  'KNeighborsDist_BAG_L1': 'StackerEnsembleModel_KNN',\n",
       "  'LightGBMXT_BAG_L1': 'StackerEnsembleModel_LGB',\n",
       "  'LightGBM_BAG_L1': 'StackerEnsembleModel_LGB',\n",
       "  'RandomForestMSE_BAG_L1': 'StackerEnsembleModel_RF',\n",
       "  'CatBoost_BAG_L1': 'StackerEnsembleModel_CatBoost',\n",
       "  'ExtraTreesMSE_BAG_L1': 'StackerEnsembleModel_XT',\n",
       "  'NeuralNetFastAI_BAG_L1': 'StackerEnsembleModel_NNFastAiTabular',\n",
       "  'XGBoost_BAG_L1': 'StackerEnsembleModel_XGBoost',\n",
       "  'NeuralNetTorch_BAG_L1': 'StackerEnsembleModel_TabularNeuralNetTorch',\n",
       "  'LightGBMLarge_BAG_L1': 'StackerEnsembleModel_LGB',\n",
       "  'WeightedEnsemble_L2': 'WeightedEnsembleModel',\n",
       "  'LightGBMXT_BAG_L2': 'StackerEnsembleModel_LGB',\n",
       "  'LightGBM_BAG_L2': 'StackerEnsembleModel_LGB',\n",
       "  'RandomForestMSE_BAG_L2': 'StackerEnsembleModel_RF',\n",
       "  'CatBoost_BAG_L2': 'StackerEnsembleModel_CatBoost',\n",
       "  'ExtraTreesMSE_BAG_L2': 'StackerEnsembleModel_XT',\n",
       "  'NeuralNetFastAI_BAG_L2': 'StackerEnsembleModel_NNFastAiTabular',\n",
       "  'XGBoost_BAG_L2': 'StackerEnsembleModel_XGBoost',\n",
       "  'NeuralNetTorch_BAG_L2': 'StackerEnsembleModel_TabularNeuralNetTorch',\n",
       "  'LightGBMLarge_BAG_L2': 'StackerEnsembleModel_LGB',\n",
       "  'WeightedEnsemble_L3': 'WeightedEnsembleModel'},\n",
       " 'model_performance': {'KNeighborsUnif_BAG_L1': -47807.03869428663,\n",
       "  'KNeighborsDist_BAG_L1': -47578.55813353768,\n",
       "  'LightGBMXT_BAG_L1': -24406.069574869765,\n",
       "  'LightGBM_BAG_L1': -26093.715786236226,\n",
       "  'RandomForestMSE_BAG_L1': -29428.48973401436,\n",
       "  'CatBoost_BAG_L1': -25078.000123572914,\n",
       "  'ExtraTreesMSE_BAG_L1': -28319.305120186127,\n",
       "  'NeuralNetFastAI_BAG_L1': -25586.28825354399,\n",
       "  'XGBoost_BAG_L1': -27240.479843195113,\n",
       "  'NeuralNetTorch_BAG_L1': -27532.376006668615,\n",
       "  'LightGBMLarge_BAG_L1': -28148.4040759884,\n",
       "  'WeightedEnsemble_L2': -23325.774310719193,\n",
       "  'LightGBMXT_BAG_L2': -25805.38222696,\n",
       "  'LightGBM_BAG_L2': -26333.719672858668,\n",
       "  'RandomForestMSE_BAG_L2': -23936.118435562403,\n",
       "  'CatBoost_BAG_L2': -24507.43147543252,\n",
       "  'ExtraTreesMSE_BAG_L2': -24296.623377481606,\n",
       "  'NeuralNetFastAI_BAG_L2': -27471.797984326753,\n",
       "  'XGBoost_BAG_L2': -26600.60296700658,\n",
       "  'NeuralNetTorch_BAG_L2': -26829.203471156412,\n",
       "  'LightGBMLarge_BAG_L2': -25405.46037583181,\n",
       "  'WeightedEnsemble_L3': -23767.462317440586},\n",
       " 'model_best': 'WeightedEnsemble_L2',\n",
       " 'model_paths': {'KNeighborsUnif_BAG_L1': './AutogluonModels/ag-20230831_212939/models/KNeighborsUnif_BAG_L1/',\n",
       "  'KNeighborsDist_BAG_L1': './AutogluonModels/ag-20230831_212939/models/KNeighborsDist_BAG_L1/',\n",
       "  'LightGBMXT_BAG_L1': './AutogluonModels/ag-20230831_212939/models/LightGBMXT_BAG_L1/',\n",
       "  'LightGBM_BAG_L1': './AutogluonModels/ag-20230831_212939/models/LightGBM_BAG_L1/',\n",
       "  'RandomForestMSE_BAG_L1': './AutogluonModels/ag-20230831_212939/models/RandomForestMSE_BAG_L1/',\n",
       "  'CatBoost_BAG_L1': './AutogluonModels/ag-20230831_212939/models/CatBoost_BAG_L1/',\n",
       "  'ExtraTreesMSE_BAG_L1': './AutogluonModels/ag-20230831_212939/models/ExtraTreesMSE_BAG_L1/',\n",
       "  'NeuralNetFastAI_BAG_L1': './AutogluonModels/ag-20230831_212939/models/NeuralNetFastAI_BAG_L1/',\n",
       "  'XGBoost_BAG_L1': './AutogluonModels/ag-20230831_212939/models/XGBoost_BAG_L1/',\n",
       "  'NeuralNetTorch_BAG_L1': './AutogluonModels/ag-20230831_212939/models/NeuralNetTorch_BAG_L1/',\n",
       "  'LightGBMLarge_BAG_L1': './AutogluonModels/ag-20230831_212939/models/LightGBMLarge_BAG_L1/',\n",
       "  'WeightedEnsemble_L2': './AutogluonModels/ag-20230831_212939/models/WeightedEnsemble_L2/',\n",
       "  'LightGBMXT_BAG_L2': './AutogluonModels/ag-20230831_212939/models/LightGBMXT_BAG_L2/',\n",
       "  'LightGBM_BAG_L2': './AutogluonModels/ag-20230831_212939/models/LightGBM_BAG_L2/',\n",
       "  'RandomForestMSE_BAG_L2': './AutogluonModels/ag-20230831_212939/models/RandomForestMSE_BAG_L2/',\n",
       "  'CatBoost_BAG_L2': './AutogluonModels/ag-20230831_212939/models/CatBoost_BAG_L2/',\n",
       "  'ExtraTreesMSE_BAG_L2': './AutogluonModels/ag-20230831_212939/models/ExtraTreesMSE_BAG_L2/',\n",
       "  'NeuralNetFastAI_BAG_L2': './AutogluonModels/ag-20230831_212939/models/NeuralNetFastAI_BAG_L2/',\n",
       "  'XGBoost_BAG_L2': './AutogluonModels/ag-20230831_212939/models/XGBoost_BAG_L2/',\n",
       "  'NeuralNetTorch_BAG_L2': './AutogluonModels/ag-20230831_212939/models/NeuralNetTorch_BAG_L2/',\n",
       "  'LightGBMLarge_BAG_L2': './AutogluonModels/ag-20230831_212939/models/LightGBMLarge_BAG_L2/',\n",
       "  'WeightedEnsemble_L3': './AutogluonModels/ag-20230831_212939/models/WeightedEnsemble_L3/'},\n",
       " 'model_fit_times': {'KNeighborsUnif_BAG_L1': 0.008257150650024414,\n",
       "  'KNeighborsDist_BAG_L1': 0.010537147521972656,\n",
       "  'LightGBMXT_BAG_L1': 28.05769920349121,\n",
       "  'LightGBM_BAG_L1': 27.55172109603882,\n",
       "  'RandomForestMSE_BAG_L1': 3.59039568901062,\n",
       "  'CatBoost_BAG_L1': 74.02318549156189,\n",
       "  'ExtraTreesMSE_BAG_L1': 1.9606249332427979,\n",
       "  'NeuralNetFastAI_BAG_L1': 34.45037055015564,\n",
       "  'XGBoost_BAG_L1': 19.482003927230835,\n",
       "  'NeuralNetTorch_BAG_L1': 52.230775356292725,\n",
       "  'LightGBMLarge_BAG_L1': 65.4718222618103,\n",
       "  'WeightedEnsemble_L2': 0.4715902805328369,\n",
       "  'LightGBMXT_BAG_L2': 25.180107355117798,\n",
       "  'LightGBM_BAG_L2': 15.221008062362671,\n",
       "  'RandomForestMSE_BAG_L2': 5.893634796142578,\n",
       "  'CatBoost_BAG_L2': 32.492109537124634,\n",
       "  'ExtraTreesMSE_BAG_L2': 2.4222793579101562,\n",
       "  'NeuralNetFastAI_BAG_L2': 34.32788848876953,\n",
       "  'XGBoost_BAG_L2': 27.50111961364746,\n",
       "  'NeuralNetTorch_BAG_L2': 46.01741170883179,\n",
       "  'LightGBMLarge_BAG_L2': 33.25052094459534,\n",
       "  'WeightedEnsemble_L3': 0.38890671730041504},\n",
       " 'model_pred_times': {'KNeighborsUnif_BAG_L1': 2.601240634918213,\n",
       "  'KNeighborsDist_BAG_L1': 0.15780901908874512,\n",
       "  'LightGBMXT_BAG_L1': 0.581110954284668,\n",
       "  'LightGBM_BAG_L1': 0.4605295658111572,\n",
       "  'RandomForestMSE_BAG_L1': 0.16378450393676758,\n",
       "  'CatBoost_BAG_L1': 0.02229022979736328,\n",
       "  'ExtraTreesMSE_BAG_L1': 0.17053961753845215,\n",
       "  'NeuralNetFastAI_BAG_L1': 0.17675280570983887,\n",
       "  'XGBoost_BAG_L1': 0.09839677810668945,\n",
       "  'NeuralNetTorch_BAG_L1': 0.1830430030822754,\n",
       "  'LightGBMLarge_BAG_L1': 1.0625457763671875,\n",
       "  'WeightedEnsemble_L2': 0.0006101131439208984,\n",
       "  'LightGBMXT_BAG_L2': 0.4752681255340576,\n",
       "  'LightGBM_BAG_L2': 0.04504561424255371,\n",
       "  'RandomForestMSE_BAG_L2': 0.17921185493469238,\n",
       "  'CatBoost_BAG_L2': 0.04555225372314453,\n",
       "  'ExtraTreesMSE_BAG_L2': 0.22103357315063477,\n",
       "  'NeuralNetFastAI_BAG_L2': 0.25217533111572266,\n",
       "  'XGBoost_BAG_L2': 0.08481907844543457,\n",
       "  'NeuralNetTorch_BAG_L2': 0.3088855743408203,\n",
       "  'LightGBMLarge_BAG_L2': 0.13322186470031738,\n",
       "  'WeightedEnsemble_L3': 0.0006053447723388672},\n",
       " 'num_bag_folds': 8,\n",
       " 'max_stack_level': 3,\n",
       " 'model_hyperparams': {'KNeighborsUnif_BAG_L1': {'use_orig_features': True,\n",
       "   'max_base_models': 25,\n",
       "   'max_base_models_per_type': 5,\n",
       "   'save_bag_folds': True,\n",
       "   'use_child_oof': True},\n",
       "  'KNeighborsDist_BAG_L1': {'use_orig_features': True,\n",
       "   'max_base_models': 25,\n",
       "   'max_base_models_per_type': 5,\n",
       "   'save_bag_folds': True,\n",
       "   'use_child_oof': True},\n",
       "  'LightGBMXT_BAG_L1': {'use_orig_features': True,\n",
       "   'max_base_models': 25,\n",
       "   'max_base_models_per_type': 5,\n",
       "   'save_bag_folds': True},\n",
       "  'LightGBM_BAG_L1': {'use_orig_features': True,\n",
       "   'max_base_models': 25,\n",
       "   'max_base_models_per_type': 5,\n",
       "   'save_bag_folds': True},\n",
       "  'RandomForestMSE_BAG_L1': {'use_orig_features': True,\n",
       "   'max_base_models': 25,\n",
       "   'max_base_models_per_type': 5,\n",
       "   'save_bag_folds': True,\n",
       "   'use_child_oof': True},\n",
       "  'CatBoost_BAG_L1': {'use_orig_features': True,\n",
       "   'max_base_models': 25,\n",
       "   'max_base_models_per_type': 5,\n",
       "   'save_bag_folds': True},\n",
       "  'ExtraTreesMSE_BAG_L1': {'use_orig_features': True,\n",
       "   'max_base_models': 25,\n",
       "   'max_base_models_per_type': 5,\n",
       "   'save_bag_folds': True,\n",
       "   'use_child_oof': True},\n",
       "  'NeuralNetFastAI_BAG_L1': {'use_orig_features': True,\n",
       "   'max_base_models': 25,\n",
       "   'max_base_models_per_type': 5,\n",
       "   'save_bag_folds': True},\n",
       "  'XGBoost_BAG_L1': {'use_orig_features': True,\n",
       "   'max_base_models': 25,\n",
       "   'max_base_models_per_type': 5,\n",
       "   'save_bag_folds': True},\n",
       "  'NeuralNetTorch_BAG_L1': {'use_orig_features': True,\n",
       "   'max_base_models': 25,\n",
       "   'max_base_models_per_type': 5,\n",
       "   'save_bag_folds': True},\n",
       "  'LightGBMLarge_BAG_L1': {'use_orig_features': True,\n",
       "   'max_base_models': 25,\n",
       "   'max_base_models_per_type': 5,\n",
       "   'save_bag_folds': True},\n",
       "  'WeightedEnsemble_L2': {'use_orig_features': False,\n",
       "   'max_base_models': 25,\n",
       "   'max_base_models_per_type': 5,\n",
       "   'save_bag_folds': True},\n",
       "  'LightGBMXT_BAG_L2': {'use_orig_features': True,\n",
       "   'max_base_models': 25,\n",
       "   'max_base_models_per_type': 5,\n",
       "   'save_bag_folds': True},\n",
       "  'LightGBM_BAG_L2': {'use_orig_features': True,\n",
       "   'max_base_models': 25,\n",
       "   'max_base_models_per_type': 5,\n",
       "   'save_bag_folds': True},\n",
       "  'RandomForestMSE_BAG_L2': {'use_orig_features': True,\n",
       "   'max_base_models': 25,\n",
       "   'max_base_models_per_type': 5,\n",
       "   'save_bag_folds': True,\n",
       "   'use_child_oof': True},\n",
       "  'CatBoost_BAG_L2': {'use_orig_features': True,\n",
       "   'max_base_models': 25,\n",
       "   'max_base_models_per_type': 5,\n",
       "   'save_bag_folds': True},\n",
       "  'ExtraTreesMSE_BAG_L2': {'use_orig_features': True,\n",
       "   'max_base_models': 25,\n",
       "   'max_base_models_per_type': 5,\n",
       "   'save_bag_folds': True,\n",
       "   'use_child_oof': True},\n",
       "  'NeuralNetFastAI_BAG_L2': {'use_orig_features': True,\n",
       "   'max_base_models': 25,\n",
       "   'max_base_models_per_type': 5,\n",
       "   'save_bag_folds': True},\n",
       "  'XGBoost_BAG_L2': {'use_orig_features': True,\n",
       "   'max_base_models': 25,\n",
       "   'max_base_models_per_type': 5,\n",
       "   'save_bag_folds': True},\n",
       "  'NeuralNetTorch_BAG_L2': {'use_orig_features': True,\n",
       "   'max_base_models': 25,\n",
       "   'max_base_models_per_type': 5,\n",
       "   'save_bag_folds': True},\n",
       "  'LightGBMLarge_BAG_L2': {'use_orig_features': True,\n",
       "   'max_base_models': 25,\n",
       "   'max_base_models_per_type': 5,\n",
       "   'save_bag_folds': True},\n",
       "  'WeightedEnsemble_L3': {'use_orig_features': False,\n",
       "   'max_base_models': 25,\n",
       "   'max_base_models_per_type': 5,\n",
       "   'save_bag_folds': True}},\n",
       " 'leaderboard':                      model     score_val  pred_time_val    fit_time  \\\n",
       " 0      WeightedEnsemble_L2 -23325.774311       2.562989  227.715983   \n",
       " 1      WeightedEnsemble_L3 -23767.462317       6.820788  450.060084   \n",
       " 2   RandomForestMSE_BAG_L2 -23936.118436       5.857255  312.731028   \n",
       " 3     ExtraTreesMSE_BAG_L2 -24296.623377       5.899076  309.259672   \n",
       " 4        LightGBMXT_BAG_L1 -24406.069575       0.581111   28.057699   \n",
       " 5          CatBoost_BAG_L2 -24507.431475       5.723595  339.329502   \n",
       " 6          CatBoost_BAG_L1 -25078.000124       0.022290   74.023185   \n",
       " 7     LightGBMLarge_BAG_L2 -25405.460376       5.811265  340.087914   \n",
       " 8   NeuralNetFastAI_BAG_L1 -25586.288254       0.176753   34.450371   \n",
       " 9        LightGBMXT_BAG_L2 -25805.382227       6.153311  332.017500   \n",
       " 10         LightGBM_BAG_L1 -26093.715786       0.460530   27.551721   \n",
       " 11         LightGBM_BAG_L2 -26333.719673       5.723089  322.058401   \n",
       " 12          XGBoost_BAG_L2 -26600.602967       5.762862  334.338512   \n",
       " 13   NeuralNetTorch_BAG_L2 -26829.203471       5.986928  352.854805   \n",
       " 14          XGBoost_BAG_L1 -27240.479843       0.098397   19.482004   \n",
       " 15  NeuralNetFastAI_BAG_L2 -27471.797984       5.930218  341.165281   \n",
       " 16   NeuralNetTorch_BAG_L1 -27532.376007       0.183043   52.230775   \n",
       " 17    LightGBMLarge_BAG_L1 -28148.404076       1.062546   65.471822   \n",
       " 18    ExtraTreesMSE_BAG_L1 -28319.305120       0.170540    1.960625   \n",
       " 19  RandomForestMSE_BAG_L1 -29428.489734       0.163785    3.590396   \n",
       " 20   KNeighborsDist_BAG_L1 -47578.558134       0.157809    0.010537   \n",
       " 21   KNeighborsUnif_BAG_L1 -47807.038694       2.601241    0.008257   \n",
       " \n",
       "     pred_time_val_marginal  fit_time_marginal  stack_level  can_infer  \\\n",
       " 0                 0.000610           0.471590            2       True   \n",
       " 1                 0.000605           0.388907            3       True   \n",
       " 2                 0.179212           5.893635            2       True   \n",
       " 3                 0.221034           2.422279            2       True   \n",
       " 4                 0.581111          28.057699            1       True   \n",
       " 5                 0.045552          32.492110            2       True   \n",
       " 6                 0.022290          74.023185            1       True   \n",
       " 7                 0.133222          33.250521            2       True   \n",
       " 8                 0.176753          34.450371            1       True   \n",
       " 9                 0.475268          25.180107            2       True   \n",
       " 10                0.460530          27.551721            1       True   \n",
       " 11                0.045046          15.221008            2       True   \n",
       " 12                0.084819          27.501120            2       True   \n",
       " 13                0.308886          46.017412            2       True   \n",
       " 14                0.098397          19.482004            1       True   \n",
       " 15                0.252175          34.327888            2       True   \n",
       " 16                0.183043          52.230775            1       True   \n",
       " 17                1.062546          65.471822            1       True   \n",
       " 18                0.170540           1.960625            1       True   \n",
       " 19                0.163785           3.590396            1       True   \n",
       " 20                0.157809           0.010537            1       True   \n",
       " 21                2.601241           0.008257            1       True   \n",
       " \n",
       "     fit_order  \n",
       " 0          12  \n",
       " 1          22  \n",
       " 2          15  \n",
       " 3          17  \n",
       " 4           3  \n",
       " 5          16  \n",
       " 6           6  \n",
       " 7          21  \n",
       " 8           8  \n",
       " 9          13  \n",
       " 10          4  \n",
       " 11         14  \n",
       " 12         19  \n",
       " 13         20  \n",
       " 14          9  \n",
       " 15         18  \n",
       " 16         10  \n",
       " 17         11  \n",
       " 18          7  \n",
       " 19          5  \n",
       " 20          2  \n",
       " 21          1  }"
      ]
     },
     "execution_count": 81,
     "metadata": {},
     "output_type": "execute_result"
    }
   ],
   "source": [
    "predictor_with_important_features.fit_summary()"
   ]
  },
  {
   "cell_type": "code",
   "execution_count": 140,
   "metadata": {
    "tags": []
   },
   "outputs": [
    {
     "data": {
      "text/html": [
       "<div>\n",
       "<style scoped>\n",
       "    .dataframe tbody tr th:only-of-type {\n",
       "        vertical-align: middle;\n",
       "    }\n",
       "\n",
       "    .dataframe tbody tr th {\n",
       "        vertical-align: top;\n",
       "    }\n",
       "\n",
       "    .dataframe thead th {\n",
       "        text-align: right;\n",
       "    }\n",
       "</style>\n",
       "<table border=\"1\" class=\"dataframe\">\n",
       "  <thead>\n",
       "    <tr style=\"text-align: right;\">\n",
       "      <th></th>\n",
       "      <th>GrLivArea</th>\n",
       "      <th>OverallQual</th>\n",
       "      <th>TotalBsmtSF</th>\n",
       "      <th>GarageCars</th>\n",
       "      <th>LotArea</th>\n",
       "      <th>total_bathroom</th>\n",
       "      <th>OverallCond</th>\n",
       "      <th>BsmtExposure</th>\n",
       "      <th>BsmtQual</th>\n",
       "      <th>KitchenQual</th>\n",
       "      <th>...</th>\n",
       "      <th>OpenPorchSF</th>\n",
       "      <th>LotFrontage</th>\n",
       "      <th>Neighborhood_NoRidge</th>\n",
       "      <th>TotRmsAbvGrd</th>\n",
       "      <th>YearRemodAdd</th>\n",
       "      <th>BsmtUnfSF</th>\n",
       "      <th>ExterQual</th>\n",
       "      <th>BsmtFinType1</th>\n",
       "      <th>Fireplaces</th>\n",
       "      <th>total_basement_bathroom</th>\n",
       "    </tr>\n",
       "  </thead>\n",
       "  <tbody>\n",
       "    <tr>\n",
       "      <th>0</th>\n",
       "      <td>896</td>\n",
       "      <td>5</td>\n",
       "      <td>882.0</td>\n",
       "      <td>1.0</td>\n",
       "      <td>11622</td>\n",
       "      <td>1</td>\n",
       "      <td>6</td>\n",
       "      <td>1.0</td>\n",
       "      <td>3.0</td>\n",
       "      <td>TA</td>\n",
       "      <td>...</td>\n",
       "      <td>0</td>\n",
       "      <td>80.0</td>\n",
       "      <td>0</td>\n",
       "      <td>5</td>\n",
       "      <td>1961</td>\n",
       "      <td>270.0</td>\n",
       "      <td>3</td>\n",
       "      <td>3.0</td>\n",
       "      <td>0</td>\n",
       "      <td>0.0</td>\n",
       "    </tr>\n",
       "    <tr>\n",
       "      <th>1</th>\n",
       "      <td>1329</td>\n",
       "      <td>6</td>\n",
       "      <td>1329.0</td>\n",
       "      <td>1.0</td>\n",
       "      <td>14267</td>\n",
       "      <td>2</td>\n",
       "      <td>6</td>\n",
       "      <td>1.0</td>\n",
       "      <td>3.0</td>\n",
       "      <td>Gd</td>\n",
       "      <td>...</td>\n",
       "      <td>36</td>\n",
       "      <td>81.0</td>\n",
       "      <td>0</td>\n",
       "      <td>6</td>\n",
       "      <td>1958</td>\n",
       "      <td>406.0</td>\n",
       "      <td>3</td>\n",
       "      <td>5.0</td>\n",
       "      <td>0</td>\n",
       "      <td>0.0</td>\n",
       "    </tr>\n",
       "    <tr>\n",
       "      <th>2</th>\n",
       "      <td>1629</td>\n",
       "      <td>5</td>\n",
       "      <td>928.0</td>\n",
       "      <td>2.0</td>\n",
       "      <td>13830</td>\n",
       "      <td>3</td>\n",
       "      <td>5</td>\n",
       "      <td>1.0</td>\n",
       "      <td>4.0</td>\n",
       "      <td>TA</td>\n",
       "      <td>...</td>\n",
       "      <td>34</td>\n",
       "      <td>74.0</td>\n",
       "      <td>0</td>\n",
       "      <td>6</td>\n",
       "      <td>1998</td>\n",
       "      <td>137.0</td>\n",
       "      <td>3</td>\n",
       "      <td>6.0</td>\n",
       "      <td>1</td>\n",
       "      <td>0.0</td>\n",
       "    </tr>\n",
       "    <tr>\n",
       "      <th>3</th>\n",
       "      <td>1604</td>\n",
       "      <td>6</td>\n",
       "      <td>926.0</td>\n",
       "      <td>2.0</td>\n",
       "      <td>9978</td>\n",
       "      <td>3</td>\n",
       "      <td>6</td>\n",
       "      <td>1.0</td>\n",
       "      <td>3.0</td>\n",
       "      <td>Gd</td>\n",
       "      <td>...</td>\n",
       "      <td>36</td>\n",
       "      <td>78.0</td>\n",
       "      <td>0</td>\n",
       "      <td>7</td>\n",
       "      <td>1998</td>\n",
       "      <td>324.0</td>\n",
       "      <td>3</td>\n",
       "      <td>6.0</td>\n",
       "      <td>1</td>\n",
       "      <td>0.0</td>\n",
       "    </tr>\n",
       "    <tr>\n",
       "      <th>4</th>\n",
       "      <td>1280</td>\n",
       "      <td>8</td>\n",
       "      <td>1280.0</td>\n",
       "      <td>2.0</td>\n",
       "      <td>5005</td>\n",
       "      <td>2</td>\n",
       "      <td>5</td>\n",
       "      <td>1.0</td>\n",
       "      <td>4.0</td>\n",
       "      <td>Gd</td>\n",
       "      <td>...</td>\n",
       "      <td>82</td>\n",
       "      <td>43.0</td>\n",
       "      <td>0</td>\n",
       "      <td>5</td>\n",
       "      <td>1992</td>\n",
       "      <td>1017.0</td>\n",
       "      <td>4</td>\n",
       "      <td>5.0</td>\n",
       "      <td>0</td>\n",
       "      <td>0.0</td>\n",
       "    </tr>\n",
       "    <tr>\n",
       "      <th>...</th>\n",
       "      <td>...</td>\n",
       "      <td>...</td>\n",
       "      <td>...</td>\n",
       "      <td>...</td>\n",
       "      <td>...</td>\n",
       "      <td>...</td>\n",
       "      <td>...</td>\n",
       "      <td>...</td>\n",
       "      <td>...</td>\n",
       "      <td>...</td>\n",
       "      <td>...</td>\n",
       "      <td>...</td>\n",
       "      <td>...</td>\n",
       "      <td>...</td>\n",
       "      <td>...</td>\n",
       "      <td>...</td>\n",
       "      <td>...</td>\n",
       "      <td>...</td>\n",
       "      <td>...</td>\n",
       "      <td>...</td>\n",
       "      <td>...</td>\n",
       "    </tr>\n",
       "    <tr>\n",
       "      <th>1454</th>\n",
       "      <td>1092</td>\n",
       "      <td>4</td>\n",
       "      <td>546.0</td>\n",
       "      <td>0.0</td>\n",
       "      <td>1936</td>\n",
       "      <td>2</td>\n",
       "      <td>7</td>\n",
       "      <td>1.0</td>\n",
       "      <td>3.0</td>\n",
       "      <td>TA</td>\n",
       "      <td>...</td>\n",
       "      <td>0</td>\n",
       "      <td>21.0</td>\n",
       "      <td>0</td>\n",
       "      <td>5</td>\n",
       "      <td>1970</td>\n",
       "      <td>546.0</td>\n",
       "      <td>3</td>\n",
       "      <td>1.0</td>\n",
       "      <td>0</td>\n",
       "      <td>0.0</td>\n",
       "    </tr>\n",
       "    <tr>\n",
       "      <th>1455</th>\n",
       "      <td>1092</td>\n",
       "      <td>4</td>\n",
       "      <td>546.0</td>\n",
       "      <td>1.0</td>\n",
       "      <td>1894</td>\n",
       "      <td>2</td>\n",
       "      <td>5</td>\n",
       "      <td>1.0</td>\n",
       "      <td>3.0</td>\n",
       "      <td>TA</td>\n",
       "      <td>...</td>\n",
       "      <td>24</td>\n",
       "      <td>21.0</td>\n",
       "      <td>0</td>\n",
       "      <td>6</td>\n",
       "      <td>1970</td>\n",
       "      <td>294.0</td>\n",
       "      <td>3</td>\n",
       "      <td>3.0</td>\n",
       "      <td>0</td>\n",
       "      <td>0.0</td>\n",
       "    </tr>\n",
       "    <tr>\n",
       "      <th>1456</th>\n",
       "      <td>1224</td>\n",
       "      <td>5</td>\n",
       "      <td>1224.0</td>\n",
       "      <td>2.0</td>\n",
       "      <td>20000</td>\n",
       "      <td>1</td>\n",
       "      <td>7</td>\n",
       "      <td>1.0</td>\n",
       "      <td>3.0</td>\n",
       "      <td>TA</td>\n",
       "      <td>...</td>\n",
       "      <td>0</td>\n",
       "      <td>160.0</td>\n",
       "      <td>0</td>\n",
       "      <td>7</td>\n",
       "      <td>1996</td>\n",
       "      <td>0.0</td>\n",
       "      <td>3</td>\n",
       "      <td>5.0</td>\n",
       "      <td>1</td>\n",
       "      <td>1.0</td>\n",
       "    </tr>\n",
       "    <tr>\n",
       "      <th>1457</th>\n",
       "      <td>970</td>\n",
       "      <td>5</td>\n",
       "      <td>912.0</td>\n",
       "      <td>0.0</td>\n",
       "      <td>10441</td>\n",
       "      <td>1</td>\n",
       "      <td>5</td>\n",
       "      <td>3.0</td>\n",
       "      <td>4.0</td>\n",
       "      <td>TA</td>\n",
       "      <td>...</td>\n",
       "      <td>32</td>\n",
       "      <td>62.0</td>\n",
       "      <td>0</td>\n",
       "      <td>6</td>\n",
       "      <td>1992</td>\n",
       "      <td>575.0</td>\n",
       "      <td>3</td>\n",
       "      <td>6.0</td>\n",
       "      <td>0</td>\n",
       "      <td>1.0</td>\n",
       "    </tr>\n",
       "    <tr>\n",
       "      <th>1458</th>\n",
       "      <td>2000</td>\n",
       "      <td>7</td>\n",
       "      <td>996.0</td>\n",
       "      <td>3.0</td>\n",
       "      <td>9627</td>\n",
       "      <td>3</td>\n",
       "      <td>5</td>\n",
       "      <td>3.0</td>\n",
       "      <td>4.0</td>\n",
       "      <td>TA</td>\n",
       "      <td>...</td>\n",
       "      <td>48</td>\n",
       "      <td>74.0</td>\n",
       "      <td>0</td>\n",
       "      <td>9</td>\n",
       "      <td>1994</td>\n",
       "      <td>238.0</td>\n",
       "      <td>3</td>\n",
       "      <td>2.0</td>\n",
       "      <td>1</td>\n",
       "      <td>0.0</td>\n",
       "    </tr>\n",
       "  </tbody>\n",
       "</table>\n",
       "<p>1459 rows × 22 columns</p>\n",
       "</div>"
      ],
      "text/plain": [
       "      GrLivArea  OverallQual  TotalBsmtSF  GarageCars  LotArea  \\\n",
       "0           896            5        882.0         1.0    11622   \n",
       "1          1329            6       1329.0         1.0    14267   \n",
       "2          1629            5        928.0         2.0    13830   \n",
       "3          1604            6        926.0         2.0     9978   \n",
       "4          1280            8       1280.0         2.0     5005   \n",
       "...         ...          ...          ...         ...      ...   \n",
       "1454       1092            4        546.0         0.0     1936   \n",
       "1455       1092            4        546.0         1.0     1894   \n",
       "1456       1224            5       1224.0         2.0    20000   \n",
       "1457        970            5        912.0         0.0    10441   \n",
       "1458       2000            7        996.0         3.0     9627   \n",
       "\n",
       "      total_bathroom  OverallCond  BsmtExposure  BsmtQual KitchenQual  ...  \\\n",
       "0                  1            6           1.0       3.0          TA  ...   \n",
       "1                  2            6           1.0       3.0          Gd  ...   \n",
       "2                  3            5           1.0       4.0          TA  ...   \n",
       "3                  3            6           1.0       3.0          Gd  ...   \n",
       "4                  2            5           1.0       4.0          Gd  ...   \n",
       "...              ...          ...           ...       ...         ...  ...   \n",
       "1454               2            7           1.0       3.0          TA  ...   \n",
       "1455               2            5           1.0       3.0          TA  ...   \n",
       "1456               1            7           1.0       3.0          TA  ...   \n",
       "1457               1            5           3.0       4.0          TA  ...   \n",
       "1458               3            5           3.0       4.0          TA  ...   \n",
       "\n",
       "      OpenPorchSF  LotFrontage  Neighborhood_NoRidge  TotRmsAbvGrd  \\\n",
       "0               0         80.0                     0             5   \n",
       "1              36         81.0                     0             6   \n",
       "2              34         74.0                     0             6   \n",
       "3              36         78.0                     0             7   \n",
       "4              82         43.0                     0             5   \n",
       "...           ...          ...                   ...           ...   \n",
       "1454            0         21.0                     0             5   \n",
       "1455           24         21.0                     0             6   \n",
       "1456            0        160.0                     0             7   \n",
       "1457           32         62.0                     0             6   \n",
       "1458           48         74.0                     0             9   \n",
       "\n",
       "      YearRemodAdd  BsmtUnfSF  ExterQual  BsmtFinType1  Fireplaces  \\\n",
       "0             1961      270.0          3           3.0           0   \n",
       "1             1958      406.0          3           5.0           0   \n",
       "2             1998      137.0          3           6.0           1   \n",
       "3             1998      324.0          3           6.0           1   \n",
       "4             1992     1017.0          4           5.0           0   \n",
       "...            ...        ...        ...           ...         ...   \n",
       "1454          1970      546.0          3           1.0           0   \n",
       "1455          1970      294.0          3           3.0           0   \n",
       "1456          1996        0.0          3           5.0           1   \n",
       "1457          1992      575.0          3           6.0           0   \n",
       "1458          1994      238.0          3           2.0           1   \n",
       "\n",
       "      total_basement_bathroom  \n",
       "0                         0.0  \n",
       "1                         0.0  \n",
       "2                         0.0  \n",
       "3                         0.0  \n",
       "4                         0.0  \n",
       "...                       ...  \n",
       "1454                      0.0  \n",
       "1455                      0.0  \n",
       "1456                      1.0  \n",
       "1457                      1.0  \n",
       "1458                      0.0  \n",
       "\n",
       "[1459 rows x 22 columns]"
      ]
     },
     "execution_count": 140,
     "metadata": {},
     "output_type": "execute_result"
    }
   ],
   "source": [
    "test_df[important_features]"
   ]
  },
  {
   "cell_type": "code",
   "execution_count": null,
   "metadata": {
    "tags": []
   },
   "outputs": [
    {
     "name": "stderr",
     "output_type": "stream",
     "text": [
      "WARNING: Int features without null values at train time contain null values at inference time! Imputing nulls to 0. To avoid this, pass the features as floats during fit!\n",
      "WARNING: Int features with nulls: ['TotalBsmtSF', 'GarageCars', 'KitchenQual', 'BsmtUnfSF', 'total_basement_bathroom']\n"
     ]
    }
   ],
   "source": [
    "predictions_with_important_features = predictor_with_important_features.predict(test_df[important_features])\n",
    "predictions_with_important_features.head()\n",
    "\n"
   ]
  },
  {
   "cell_type": "code",
   "execution_count": 143,
   "metadata": {
    "tags": []
   },
   "outputs": [
    {
     "name": "stdout",
     "output_type": "stream",
     "text": [
      "<class 'pandas.core.frame.DataFrame'>\n",
      "RangeIndex: 1459 entries, 0 to 1458\n",
      "Data columns (total 2 columns):\n",
      " #   Column     Non-Null Count  Dtype  \n",
      "---  ------     --------------  -----  \n",
      " 0   Id         1459 non-null   int64  \n",
      " 1   SalePrice  1459 non-null   float64\n",
      "dtypes: float64(1), int64(1)\n",
      "memory usage: 22.9 KB\n"
     ]
    }
   ],
   "source": [
    "submission = pd.read_csv(\"./data/sample_submission.csv\")\n",
    "submission.info()"
   ]
  },
  {
   "cell_type": "code",
   "execution_count": 145,
   "metadata": {
    "tags": []
   },
   "outputs": [],
   "source": [
    "submission[\"SalePrice\"] = predictions_with_important_features\n",
    "submission.loc[submission[\"SalePrice\"] < 0, \"SalePrice\"] = 0\n",
    "submission.to_csv(\"submission_important_features_only.csv\", index=False)"
   ]
  },
  {
   "cell_type": "code",
   "execution_count": null,
   "metadata": {},
   "outputs": [],
   "source": [
    "!kaggle competitions submit -c house-prices-advanced-regression-techniques -f submission_important_features_only.csv -m \"House Prediction second trial\""
   ]
  },
  {
   "cell_type": "markdown",
   "metadata": {},
   "source": [
    "### Model 3 (with hyperparameter tuning)"
   ]
  },
  {
   "cell_type": "markdown",
   "metadata": {},
   "source": [
    "Saved to : \"AutogluonModels/ag-20230830_195850/\""
   ]
  },
  {
   "cell_type": "code",
   "execution_count": null,
   "metadata": {
    "tags": []
   },
   "outputs": [
    {
     "name": "stderr",
     "output_type": "stream",
     "text": [
      "No path specified. Models will be saved in: \"AutogluonModels/ag-20230830_195850/\"\n",
      "Presets specified: ['best_quality']\n",
      "Warning: hyperparameter tuning is currently experimental and may cause the process to hang.\n",
      "Stack configuration (auto_stack=True): num_stack_levels=1, num_bag_folds=8, num_bag_sets=20\n",
      "Beginning AutoGluon training ... Time limit = 1200s\n",
      "AutoGluon will save models to \"AutogluonModels/ag-20230830_195850/\"\n",
      "AutoGluon Version:  0.8.2\n",
      "Python Version:     3.10.12\n",
      "Operating System:   Linux\n",
      "Platform Machine:   x86_64\n",
      "Platform Version:   #1 SMP Tue Jun 27 21:48:55 UTC 2023\n",
      "Disk Space Avail:   4.17 GB / 5.13 GB (81.3%)\n",
      "\tWARNING: Available disk space is low and there is a risk that AutoGluon will run out of disk during fit, causing an exception. \n",
      "\tWe recommend a minimum available disk space of 10 GB, and large datasets may require more.\n",
      "Train Data Rows:    1460\n",
      "Train Data Columns: 74\n",
      "Label Column: SalePrice\n",
      "Preprocessing data ...\n",
      "AutoGluon infers your prediction problem is: 'regression' (because dtype of label-column == int and many unique label-values observed).\n",
      "\tLabel info (max, min, mean, stddev): (755000, 34900, 180921.19589, 79442.50288)\n",
      "\tIf 'regression' is not the correct problem_type, please manually specify the problem_type parameter during predictor init (You may specify problem_type as one of: ['binary', 'multiclass', 'regression'])\n",
      "Using Feature Generators to preprocess the data ...\n",
      "Fitting AutoMLPipelineFeatureGenerator...\n",
      "\tAvailable Memory:                    6222.48 MB\n",
      "\tTrain Data (Original)  Memory Usage: 1.34 MB (0.0% of available memory)\n",
      "\tInferring data type of each feature based on column values. Set feature_metadata_in to manually specify special dtypes of the features.\n",
      "\tStage 1 Generators:\n",
      "\t\tFitting AsTypeFeatureGenerator...\n",
      "\t\t\tNote: Converting 26 features to boolean dtype as they only contain 2 unique values.\n",
      "\tStage 2 Generators:\n",
      "\t\tFitting FillNaFeatureGenerator...\n",
      "\tStage 3 Generators:\n",
      "\t\tFitting IdentityFeatureGenerator...\n",
      "\t\tFitting CategoryFeatureGenerator...\n",
      "\t\t\tFitting CategoryMemoryMinimizeFeatureGenerator...\n",
      "\tStage 4 Generators:\n",
      "\t\tFitting DropUniqueFeatureGenerator...\n",
      "\tStage 5 Generators:\n",
      "\t\tFitting DropDuplicatesFeatureGenerator...\n",
      "\tTypes of features in original data (raw dtype, special dtypes):\n",
      "\t\t('float', [])  : 10 | ['LotFrontage', 'BsmtQual', 'BsmtExposure', 'BsmtFinType1', 'FireplaceQu', ...]\n",
      "\t\t('int', [])    : 53 | ['LotArea', 'LotShape', 'LandContour', 'LotConfig', 'LandSlope', ...]\n",
      "\t\t('object', []) : 11 | ['Street', 'Alley', 'RoofStyle', 'MasVnrType', 'Functional', ...]\n",
      "\tTypes of features in processed data (raw dtype, special dtypes):\n",
      "\t\t('category', [])  : 10 | ['Alley', 'RoofStyle', 'MasVnrType', 'Functional', 'GarageType', ...]\n",
      "\t\t('float', [])     : 10 | ['LotFrontage', 'BsmtQual', 'BsmtExposure', 'BsmtFinType1', 'FireplaceQu', ...]\n",
      "\t\t('int', [])       : 28 | ['LotArea', 'LotShape', 'LandContour', 'LotConfig', 'LandSlope', ...]\n",
      "\t\t('int', ['bool']) : 26 | ['Street', 'Neighborhood_Blmngtn', 'Neighborhood_Blueste', 'Neighborhood_BrDale', 'Neighborhood_BrkSide', ...]\n",
      "\t0.3s = Fit runtime\n",
      "\t74 features in original data used to generate 74 features in processed data.\n",
      "\tTrain Data (Processed) Memory Usage: 0.5 MB (0.0% of available memory)\n",
      "Data preprocessing and feature engineering runtime = 0.35s ...\n",
      "AutoGluon will gauge predictive performance using evaluation metric: 'root_mean_squared_error'\n",
      "\tThis metric's sign has been flipped to adhere to being higher_is_better. The metric score can be multiplied by -1 to get the metric value.\n",
      "\tTo change this, specify the eval_metric parameter of Predictor()\n",
      "User-specified model hyperparameters to be fit:\n",
      "{\n",
      "\t'GBM': {'num_boost_round': 100, 'num_leaves': Int: lower=26, upper=66},\n",
      "\t'XGB': {'learning_rate': Real: lower=0.0001, upper=0.01, 'max_depth': 4, 'subsample': 0.6},\n",
      "}\n",
      "AutoGluon will fit 2 stack levels (L1 to L2) ...\n",
      "Fitting 2 L1 models ...\n",
      "Hyperparameter tuning model: LightGBM_BAG_L1 ... Tuning model for up to 359.81s of the 1199.65s of remaining time.\n",
      "/home/ec2-user/anaconda3/envs/pytorch_p310/lib/python3.10/site-packages/torch/cuda/__init__.py:497: UserWarning: Can't initialize NVML\n",
      "  warnings.warn(\"Can't initialize NVML\")\n"
     ]
    },
    {
     "data": {
      "application/vnd.jupyter.widget-view+json": {
       "model_id": "5e613ee63b784495b9fdbdd03b71b7fd",
       "version_major": 2,
       "version_minor": 0
      },
      "text/plain": [
       "  0%|          | 0/20 [00:00<?, ?it/s]"
      ]
     },
     "metadata": {},
     "output_type": "display_data"
    },
    {
     "name": "stderr",
     "output_type": "stream",
     "text": [
      "\tFitting 8 child models (S1F1 - S1F8) | Fitting with ParallelLocalFoldFittingStrategy\n",
      "\tFitting 8 child models (S1F1 - S1F8) | Fitting with ParallelLocalFoldFittingStrategy\n",
      "\tFitting 8 child models (S1F1 - S1F8) | Fitting with ParallelLocalFoldFittingStrategy\n",
      "\tFitting 8 child models (S1F1 - S1F8) | Fitting with ParallelLocalFoldFittingStrategy\n",
      "\tFitting 8 child models (S1F1 - S1F8) | Fitting with ParallelLocalFoldFittingStrategy\n",
      "\tFitting 8 child models (S1F1 - S1F8) | Fitting with ParallelLocalFoldFittingStrategy\n",
      "\tFitting 8 child models (S1F1 - S1F8) | Fitting with ParallelLocalFoldFittingStrategy\n"
     ]
    }
   ],
   "source": [
    "import autogluon.core as ag\n",
    "import pandas as pd\n",
    "from autogluon.tabular import TabularPredictor\n",
    "\n",
    "\n",
    "gbm_options = {\n",
    "    # specifies non-default hyperparameter values for lightGBM gradient boosted trees\n",
    "    'num_boost_round': 100,\n",
    "    # number of boosting rounds (controls training time of GBM models)\n",
    "    'num_leaves': ag.space.Int(lower=26, upper=66, default=36),\n",
    "    # number of leaves in trees (integer hyperparameter)\n",
    "}\n",
    "\n",
    "xgb_options = {\n",
    "    'learning_rate': ag.space.Real(1e-4, 1e-2, default=5e-4, log=True),\n",
    "    'max_depth': 4,\n",
    "    'subsample': 0.6,\n",
    "}\n",
    "\n",
    "hyperparameters = {\n",
    "    # hyperparameters of each model type\n",
    "    'GBM': gbm_options,\n",
    "    'XGB': xgb_options,\n",
    "}\n",
    "\n",
    "\n",
    "hyperparameter_tune_kwargs = {\n",
    "    'num_trials': 20,\n",
    "    'scheduler' : 'local',\n",
    "    'searcher': 'auto',\n",
    "}\n",
    "\n",
    "predictor_hpo = TabularPredictor(\n",
    "    label=\"SalePrice\",\n",
    "    eval_metric=\"root_mean_squared_error\"). \\\n",
    "    fit(\n",
    "    train_data=train_df,\n",
    "    time_limit=1200,\n",
    "    presets=\"best_quality\",\n",
    "    hyperparameters=hyperparameters,\n",
    "    hyperparameter_tune_kwargs=hyperparameter_tune_kwargs,\n",
    ")"
   ]
  },
  {
   "cell_type": "code",
   "execution_count": null,
   "metadata": {
    "ExecuteTime": {
     "end_time": "2023-08-27T21:05:24.701285Z",
     "start_time": "2023-08-27T21:05:24.606346Z"
    },
    "collapsed": false,
    "jupyter": {
     "outputs_hidden": false
    },
    "tags": []
   },
   "outputs": [],
   "source": [
    "predictions_hpo = predictor_hpo.predict(test_df)\n",
    "predictions_hpo.head()"
   ]
  },
  {
   "cell_type": "code",
   "execution_count": 217,
   "metadata": {
    "tags": []
   },
   "outputs": [],
   "source": [
    "predictions_hpo = TabularPredictor.load(\"./AutogluonModels/ag-20230830_195850/\", require_version_match=False, require_py_version_match=False)"
   ]
  },
  {
   "cell_type": "code",
   "execution_count": 224,
   "metadata": {
    "tags": []
   },
   "outputs": [],
   "source": [
    "test_df['SalePrice_log'] = train_df['SalePrice_log']"
   ]
  },
  {
   "cell_type": "code",
   "execution_count": 225,
   "metadata": {
    "tags": []
   },
   "outputs": [
    {
     "name": "stderr",
     "output_type": "stream",
     "text": [
      "WARNING: Int features without null values at train time contain null values at inference time! Imputing nulls to 0. To avoid this, pass the features as floats during fit!\n",
      "WARNING: Int features with nulls: ['BsmtUnfSF', 'TotalBsmtSF', 'KitchenQual', 'GarageCars', 'total_basement_bathroom']\n"
     ]
    },
    {
     "data": {
      "text/plain": [
       "0    208668.390625\n",
       "1    181780.984375\n",
       "2    222740.671875\n",
       "3    140427.921875\n",
       "4    249093.343750\n",
       "Name: SalePrice, dtype: float32"
      ]
     },
     "execution_count": 225,
     "metadata": {},
     "output_type": "execute_result"
    }
   ],
   "source": [
    "predictions_hpo = predictor_hpo.predict(test_df)\n",
    "predictions_hpo.head()"
   ]
  },
  {
   "cell_type": "code",
   "execution_count": 226,
   "metadata": {
    "tags": []
   },
   "outputs": [
    {
     "name": "stdout",
     "output_type": "stream",
     "text": [
      "<class 'pandas.core.frame.DataFrame'>\n",
      "RangeIndex: 1459 entries, 0 to 1458\n",
      "Data columns (total 2 columns):\n",
      " #   Column     Non-Null Count  Dtype  \n",
      "---  ------     --------------  -----  \n",
      " 0   Id         1459 non-null   int64  \n",
      " 1   SalePrice  1459 non-null   float64\n",
      "dtypes: float64(1), int64(1)\n",
      "memory usage: 22.9 KB\n"
     ]
    }
   ],
   "source": [
    "submission = pd.read_csv(\"./data/sample_submission.csv\")\n",
    "submission.info()"
   ]
  },
  {
   "cell_type": "code",
   "execution_count": 227,
   "metadata": {
    "tags": []
   },
   "outputs": [],
   "source": [
    "submission[\"SalePrice\"] = predictions_hpo\n",
    "submission.loc[submission[\"SalePrice\"] < 0, \"SalePrice\"] = 0\n",
    "submission.to_csv(\"submission_hop.csv\", index=False)"
   ]
  },
  {
   "cell_type": "code",
   "execution_count": null,
   "metadata": {
    "collapsed": false,
    "jupyter": {
     "outputs_hidden": false
    },
    "tags": []
   },
   "outputs": [],
   "source": [
    "!kaggle competitions submit -c house-prices-advanced-regression-techniques -f submission.csv -m \"House Prediction result first trial\""
   ]
  },
  {
   "cell_type": "code",
   "execution_count": 126,
   "metadata": {
    "tags": []
   },
   "outputs": [
    {
     "name": "stdout",
     "output_type": "stream",
     "text": [
      "/bin/sh: kaggle: command not found\n"
     ]
    }
   ],
   "source": [
    "!kaggle competitions submit -c bike-sharing-demand -f submission_new_hpo.csv -m \"new features with hyperparameters\""
   ]
  },
  {
   "cell_type": "code",
   "execution_count": null,
   "metadata": {},
   "outputs": [],
   "source": []
  }
 ],
 "metadata": {
  "kernelspec": {
   "display_name": "conda_pytorch_p310",
   "language": "python",
   "name": "conda_pytorch_p310"
  },
  "language_info": {
   "codemirror_mode": {
    "name": "ipython",
    "version": 3
   },
   "file_extension": ".py",
   "mimetype": "text/x-python",
   "name": "python",
   "nbconvert_exporter": "python",
   "pygments_lexer": "ipython3",
   "version": "3.10.12"
  }
 },
 "nbformat": 4,
 "nbformat_minor": 4
}
